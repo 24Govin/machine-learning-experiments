{
 "cells": [
  {
   "cell_type": "markdown",
   "metadata": {},
   "source": [
    "# Numbers Summation(using RNN)"
   ]
  },
  {
   "cell_type": "markdown",
   "metadata": {},
   "source": [
    "> - 🤖 See [full list of Machine Learning Experiments](https://github.com/trekhleb/machine-learning-experiments) on GitHub\n",
    "> - ▶️ Demo: [try this model in action](https://trekhleb.github.io/machine-learning-experiments)"
   ]
  },
  {
   "cell_type": "markdown",
   "metadata": {},
   "source": [
    "## Experiment overview"
   ]
  },
  {
   "cell_type": "markdown",
   "metadata": {},
   "source": [
    "In this experiment we will use character-based [Recurrent Neural Network](https://en.wikipedia.org/wiki/Recurrent_neural_network) (RNN) to \n",
    "\n",
    "![numbers_summation_rnn.png](../../demos/src/images/numbers_summation_rnn.png)"
   ]
  },
  {
   "cell_type": "markdown",
   "metadata": {},
   "source": [
    "Inspired by [Learn to Add Numbers with an Encoder-Decoder LSTM Recurrent Neural Network](https://machinelearningmastery.com/learn-add-numbers-seq2seq-recurrent-neural-networks/) article."
   ]
  },
  {
   "cell_type": "code",
   "execution_count": 1,
   "metadata": {},
   "outputs": [],
   "source": [
    "# Selecting Tensorflow version v2 (the command is relevant for Colab only).\n",
    "# %tensorflow_version 2.x"
   ]
  },
  {
   "cell_type": "code",
   "execution_count": 2,
   "metadata": {},
   "outputs": [
    {
     "name": "stdout",
     "output_type": "stream",
     "text": [
      "Python version: 3.7.6\n",
      "Tensorflow version: 2.1.0\n",
      "Keras version: 2.2.4-tf\n"
     ]
    }
   ],
   "source": [
    "import tensorflow as tf\n",
    "import matplotlib.pyplot as plt\n",
    "import numpy as np\n",
    "import platform\n",
    "import random\n",
    "import math\n",
    "\n",
    "print('Python version:', platform.python_version())\n",
    "print('Tensorflow version:', tf.__version__)\n",
    "print('Keras version:', tf.keras.__version__)"
   ]
  },
  {
   "cell_type": "code",
   "execution_count": 3,
   "metadata": {},
   "outputs": [],
   "source": [
    "dataset_size = 5000\n",
    "sequence_length = 2\n",
    "max_num = 100"
   ]
  },
  {
   "cell_type": "code",
   "execution_count": 4,
   "metadata": {},
   "outputs": [],
   "source": [
    "def generate_sums(dataset_size, sequence_length, max_num):\n",
    "    # Initial dataset states.\n",
    "    x, y = [], []\n",
    "    \n",
    "    # Generating sums.\n",
    "    for i in range(dataset_size):\n",
    "        sequence = [random.randint(1, max_num) for _ in range(sequence_length)]\n",
    "        x.append(sequence)\n",
    "        y.append(sum(sequence))\n",
    "    \n",
    "    return x, y"
   ]
  },
  {
   "cell_type": "code",
   "execution_count": 5,
   "metadata": {},
   "outputs": [
    {
     "name": "stdout",
     "output_type": "stream",
     "text": [
      "x_train:\n",
      " [[41, 85], [50, 94], [86, 7]]\n",
      "\n",
      "y_train:\n",
      " [126, 144, 93]\n"
     ]
    }
   ],
   "source": [
    "x_train, y_train = generate_sums(\n",
    "    dataset_size=dataset_size,\n",
    "    sequence_length=sequence_length,\n",
    "    max_num=max_num\n",
    ")\n",
    "\n",
    "print('x_train:\\n', x_train[:3])\n",
    "print()\n",
    "print('y_train:\\n', y_train[:3])"
   ]
  },
  {
   "cell_type": "code",
   "execution_count": 6,
   "metadata": {},
   "outputs": [],
   "source": [
    "def dataset_to_strings(x, y, max_num):\n",
    "    # Initial dataset states.\n",
    "    x_str, y_str = [], []\n",
    "    \n",
    "    sequnce_length = len(x[0])\n",
    "    \n",
    "    # Calculate the maximum length of equation (x) string (i.e. of \"11+99\")\n",
    "    num_of_pluses = sequnce_length - 1\n",
    "    num_of_chars_per_digit = math.ceil(math.log10(max_num + 1))\n",
    "    max_x_length = sequnce_length * num_of_chars_per_digit + num_of_pluses\n",
    "    \n",
    "    # Calculate the maximum length of label (y) string (i.e. of \"167\")\n",
    "    max_y_length = math.ceil(math.log10(sequnce_length * (max_num + 1)))\n",
    "    \n",
    "    # Add a space \" \" padding to equation strings to make them of the same length.\n",
    "    for example in x:\n",
    "        str_example = '+'.join([str(digit) for digit in example])\n",
    "        str_example += ''.join([' ' for padding in range(max_x_length - len(str_example))])\n",
    "        x_str.append(str_example)\n",
    "    \n",
    "    # Add a space \" \" padding to labels strings to make them of the same length.\n",
    "    for label in y:\n",
    "        str_example = str(label)\n",
    "        str_example += ''.join([' ' for padding in range(max_y_length - len(str_example))])\n",
    "        y_str.append(str_example)\n",
    "    \n",
    "    return x_str, y_str"
   ]
  },
  {
   "cell_type": "code",
   "execution_count": 7,
   "metadata": {},
   "outputs": [
    {
     "name": "stdout",
     "output_type": "stream",
     "text": [
      "x_train_str:\n",
      " ['41+85  ' '50+94  ' '86+7   ']\n",
      "\n",
      "y_train_str:\n",
      " ['126' '144' '93 ']\n"
     ]
    }
   ],
   "source": [
    "x_train_str, y_train_str = dataset_to_strings(x_train, y_train, max_num)\n",
    "\n",
    "print('x_train_str:\\n', np.array(x_train_str[:3]))\n",
    "print()\n",
    "print('y_train_str:\\n', np.array(y_train_str[:3]))"
   ]
  },
  {
   "cell_type": "code",
   "execution_count": 8,
   "metadata": {},
   "outputs": [],
   "source": [
    "vocabulary = ['0', '1', '2', '3', '4', '5', '6', '7', '8', '9', '+', ' ']"
   ]
  },
  {
   "cell_type": "code",
   "execution_count": 9,
   "metadata": {},
   "outputs": [
    {
     "name": "stdout",
     "output_type": "stream",
     "text": [
      "{'0': 0, '1': 1, '2': 2, '3': 3, '4': 4, '5': 5, '6': 6, '7': 7, '8': 8, '9': 9, '+': 10, ' ': 11}\n"
     ]
    }
   ],
   "source": [
    "char_to_index = {char: index for index, char in enumerate(vocabulary)}\n",
    "\n",
    "print(char_to_index)"
   ]
  },
  {
   "cell_type": "code",
   "execution_count": 10,
   "metadata": {},
   "outputs": [],
   "source": [
    "def dataset_to_indices(x, y, vocabulary):\n",
    "    x_encoded, y_encoded = [], []\n",
    "    \n",
    "    char_to_index = {char: index for index, char in enumerate(vocabulary)}\n",
    "    \n",
    "    for example in x:\n",
    "        example_encoded = [char_to_index[char] for char in example]\n",
    "        x_encoded.append(example_encoded)\n",
    "        \n",
    "    for label in y:\n",
    "        label_encoded = [char_to_index[char] for char in label]\n",
    "        y_encoded.append(label_encoded)\n",
    "        \n",
    "    return x_encoded, y_encoded"
   ]
  },
  {
   "cell_type": "code",
   "execution_count": 11,
   "metadata": {},
   "outputs": [
    {
     "name": "stdout",
     "output_type": "stream",
     "text": [
      "x_train_encoded:\n",
      " [[ 4  1 10  8  5 11 11]\n",
      " [ 5  0 10  9  4 11 11]\n",
      " [ 8  6 10  7 11 11 11]]\n",
      "\n",
      "y_train_encoded:\n",
      " [[ 1  2  6]\n",
      " [ 1  4  4]\n",
      " [ 9  3 11]]\n"
     ]
    }
   ],
   "source": [
    "x_train_encoded, y_train_encoded = dataset_to_indices(\n",
    "    x_train_str,\n",
    "    y_train_str,\n",
    "    vocabulary\n",
    ")\n",
    "\n",
    "print('x_train_encoded:\\n', np.array(x_train_encoded[:3]))\n",
    "print()\n",
    "print('y_train_encoded:\\n', np.array(y_train_encoded[:3]))"
   ]
  },
  {
   "cell_type": "code",
   "execution_count": 12,
   "metadata": {},
   "outputs": [],
   "source": [
    "def dataset_to_one_hot(x, y, vocabulary):\n",
    "    x_encoded, y_encoded = [], []\n",
    "    \n",
    "    for example in x:\n",
    "        pattern = []\n",
    "        for index in example:\n",
    "            vector = [0 for _ in range(len(vocabulary))]\n",
    "            vector[index] = 1\n",
    "            pattern.append(vector)\n",
    "        x_encoded.append(pattern)\n",
    "            \n",
    "    for label in y:\n",
    "        pattern = []\n",
    "        for index in label:\n",
    "            vector = [0 for _ in range(len(vocabulary))]\n",
    "            vector[index] = 1\n",
    "            pattern.append(vector)\n",
    "        y_encoded.append(pattern)\n",
    "        \n",
    "    return x_encoded, y_encoded"
   ]
  },
  {
   "cell_type": "code",
   "execution_count": 13,
   "metadata": {},
   "outputs": [
    {
     "name": "stdout",
     "output_type": "stream",
     "text": [
      "x_train_one_hot:\n",
      " [[[0 0 0 0 1 0 0 0 0 0 0 0]\n",
      "  [0 1 0 0 0 0 0 0 0 0 0 0]\n",
      "  [0 0 0 0 0 0 0 0 0 0 1 0]\n",
      "  [0 0 0 0 0 0 0 0 1 0 0 0]\n",
      "  [0 0 0 0 0 1 0 0 0 0 0 0]\n",
      "  [0 0 0 0 0 0 0 0 0 0 0 1]\n",
      "  [0 0 0 0 0 0 0 0 0 0 0 1]]]\n",
      "\n",
      "y_train_one_hot:\n",
      " [[[0 1 0 0 0 0 0 0 0 0 0 0]\n",
      "  [0 0 1 0 0 0 0 0 0 0 0 0]\n",
      "  [0 0 0 0 0 0 1 0 0 0 0 0]]]\n"
     ]
    }
   ],
   "source": [
    "x_train_one_hot, y_train_one_hot = dataset_to_one_hot(\n",
    "    x_train_encoded,\n",
    "    y_train_encoded,\n",
    "    vocabulary\n",
    ")\n",
    "\n",
    "print('x_train_one_hot:\\n', np.array(x_train_one_hot[:1]))\n",
    "print()\n",
    "print('y_train_one_hot:\\n', np.array(y_train_one_hot[:1]))"
   ]
  },
  {
   "cell_type": "code",
   "execution_count": 14,
   "metadata": {},
   "outputs": [],
   "source": [
    "def generate_dataset(dataset_size, sequence_length, max_num, vocabulary):\n",
    "    # Generate integet sum sequences.\n",
    "    x, y = generate_sums(dataset_size, sequence_length, max_num)\n",
    "    # Convert integer sum sequences into strings.\n",
    "    x, y = dataset_to_strings(x, y, max_num)\n",
    "    # Encode each character to a char indices.\n",
    "    x, y = dataset_to_indices(x, y, vocabulary)\n",
    "    # Encode each index into one-hot vector.\n",
    "    x, y = dataset_to_one_hot(x, y, vocabulary)\n",
    "    # Return the data.\n",
    "    return np.array(x), np.array(y)"
   ]
  },
  {
   "cell_type": "code",
   "execution_count": 15,
   "metadata": {},
   "outputs": [
    {
     "name": "stdout",
     "output_type": "stream",
     "text": [
      "x:\n",
      " [[[0 0 0 0 0 0 0 1 0 0 0 0]\n",
      "  [0 0 1 0 0 0 0 0 0 0 0 0]\n",
      "  [0 0 0 0 0 0 0 0 0 0 1 0]\n",
      "  [0 0 0 0 0 0 0 0 1 0 0 0]\n",
      "  [0 0 0 1 0 0 0 0 0 0 0 0]\n",
      "  [0 0 0 0 0 0 0 0 0 0 0 1]\n",
      "  [0 0 0 0 0 0 0 0 0 0 0 1]]]\n",
      "\n",
      "y:\n",
      " [[[0 1 0 0 0 0 0 0 0 0 0 0]\n",
      "  [0 0 0 0 0 1 0 0 0 0 0 0]\n",
      "  [0 0 0 0 0 1 0 0 0 0 0 0]]]\n"
     ]
    }
   ],
   "source": [
    "x, y = generate_dataset(\n",
    "    dataset_size,\n",
    "    sequence_length,\n",
    "    max_num,\n",
    "    vocabulary\n",
    ")\n",
    "\n",
    "print('x:\\n', x[:1])\n",
    "print()\n",
    "print('y:\\n', y[:1])"
   ]
  },
  {
   "cell_type": "code",
   "execution_count": 16,
   "metadata": {},
   "outputs": [
    {
     "name": "stdout",
     "output_type": "stream",
     "text": [
      "x.shape:  (5000, 7, 12)\n",
      "y.shape:  (5000, 3, 12)\n"
     ]
    }
   ],
   "source": [
    "print('x.shape: ', x.shape) # (input_sequences_num, input_sequence_length, supported_symbols_num)\n",
    "print('y.shape: ', y.shape) # (output_sequences_num, output_sequence_length, supported_symbols_num)"
   ]
  },
  {
   "cell_type": "code",
   "execution_count": 17,
   "metadata": {},
   "outputs": [
    {
     "name": "stdout",
     "output_type": "stream",
     "text": [
      "input_sequence_length:  7\n",
      "output_sequence_length:  3\n",
      "supported_symbols_num:  12\n",
      "vocabulary_size:  12\n"
     ]
    }
   ],
   "source": [
    "input_sequence_length = x.shape[1]\n",
    "output_sequence_length = y.shape[1]\n",
    "supported_symbols_num = x.shape[2]\n",
    "vocabulary_size = len(vocabulary)\n",
    "\n",
    "print('input_sequence_length: ', input_sequence_length)\n",
    "print('output_sequence_length: ', output_sequence_length)\n",
    "print('supported_symbols_num: ', supported_symbols_num)\n",
    "print('vocabulary_size: ', vocabulary_size)"
   ]
  },
  {
   "cell_type": "code",
   "execution_count": 18,
   "metadata": {},
   "outputs": [],
   "source": [
    "def decode(sequence, vocabulary):\n",
    "    index_to_char = {index: char for index, char in enumerate(vocabulary)}\n",
    "    strings = []\n",
    "    for char_vector in sequence:\n",
    "        char = index_to_char[np.argmax(char_vector)]\n",
    "        strings.append(char)\n",
    "    return ''.join(strings)"
   ]
  },
  {
   "cell_type": "code",
   "execution_count": 19,
   "metadata": {},
   "outputs": [
    {
     "data": {
      "text/plain": [
       "'155'"
      ]
     },
     "execution_count": 19,
     "metadata": {},
     "output_type": "execute_result"
    }
   ],
   "source": [
    "decode(y[0], vocabulary)"
   ]
  },
  {
   "cell_type": "code",
   "execution_count": 20,
   "metadata": {},
   "outputs": [],
   "source": [
    "epochs_num = 150\n",
    "batch_size = 128"
   ]
  },
  {
   "cell_type": "code",
   "execution_count": 21,
   "metadata": {},
   "outputs": [],
   "source": [
    "model = tf.keras.models.Sequential()\n",
    "\n",
    "# Encoder.\n",
    "\n",
    "model.add(tf.keras.layers.LSTM(\n",
    "    units=128,\n",
    "    input_shape=(input_sequence_length, vocabulary_size),\n",
    "    recurrent_initializer=tf.keras.initializers.GlorotNormal()\n",
    "))\n",
    "\n",
    "# Decoder.\n",
    "\n",
    "model.add(tf.keras.layers.RepeatVector(\n",
    "    n=output_sequence_length,\n",
    "))\n",
    "\n",
    "model.add(tf.keras.layers.LSTM(\n",
    "    units=128,\n",
    "    return_sequences=True,\n",
    "    recurrent_initializer=tf.keras.initializers.GlorotNormal()\n",
    "))\n",
    "\n",
    "model.add(tf.keras.layers.TimeDistributed(\n",
    "    layer=tf.keras.layers.Dense(\n",
    "        units=vocabulary_size,\n",
    "    )\n",
    "))\n",
    "\n",
    "model.add(tf.keras.layers.Activation(\n",
    "    activation='softmax'\n",
    "))"
   ]
  },
  {
   "cell_type": "code",
   "execution_count": 22,
   "metadata": {},
   "outputs": [
    {
     "name": "stdout",
     "output_type": "stream",
     "text": [
      "Model: \"sequential\"\n",
      "_________________________________________________________________\n",
      "Layer (type)                 Output Shape              Param #   \n",
      "=================================================================\n",
      "lstm (LSTM)                  (None, 128)               72192     \n",
      "_________________________________________________________________\n",
      "repeat_vector (RepeatVector) (None, 3, 128)            0         \n",
      "_________________________________________________________________\n",
      "lstm_1 (LSTM)                (None, 3, 128)            131584    \n",
      "_________________________________________________________________\n",
      "time_distributed (TimeDistri (None, 3, 12)             1548      \n",
      "_________________________________________________________________\n",
      "activation (Activation)      (None, 3, 12)             0         \n",
      "=================================================================\n",
      "Total params: 205,324\n",
      "Trainable params: 205,324\n",
      "Non-trainable params: 0\n",
      "_________________________________________________________________\n"
     ]
    }
   ],
   "source": [
    "model.summary()"
   ]
  },
  {
   "cell_type": "code",
   "execution_count": 23,
   "metadata": {},
   "outputs": [
    {
     "data": {
      "image/png": "[encoded data removed]",
      "text/plain": [
       "<IPython.core.display.Image object>"
      ]
     },
     "execution_count": 23,
     "metadata": {},
     "output_type": "execute_result"
    }
   ],
   "source": [
    "tf.keras.utils.plot_model(\n",
    "    model,\n",
    "    show_shapes=True,\n",
    "    show_layer_names=True,\n",
    ")"
   ]
  },
  {
   "cell_type": "code",
   "execution_count": 24,
   "metadata": {},
   "outputs": [],
   "source": [
    "adam_optimizer = tf.keras.optimizers.Adam(learning_rate=0.001)\n",
    "model.compile(\n",
    "    optimizer=adam_optimizer,\n",
    "    loss=tf.keras.losses.categorical_crossentropy,\n",
    "    metrics=['accuracy']\n",
    ")"
   ]
  },
  {
   "cell_type": "code",
   "execution_count": 25,
   "metadata": {},
   "outputs": [
    {
     "name": "stdout",
     "output_type": "stream",
     "text": [
      "Train on 4500 samples, validate on 500 samples\n",
      "Epoch 1/150\n",
      "4500/4500 [==============================] - 7s 1ms/sample - loss: 2.3134 - accuracy: 0.2361 - val_loss: 2.1245 - val_accuracy: 0.3820\n",
      "Epoch 2/150\n",
      "4500/4500 [==============================] - 1s 313us/sample - loss: 1.9389 - accuracy: 0.3807 - val_loss: 1.8375 - val_accuracy: 0.3820\n",
      "Epoch 3/150\n",
      "4500/4500 [==============================] - 2s 354us/sample - loss: 1.8059 - accuracy: 0.3872 - val_loss: 1.7885 - val_accuracy: 0.3807\n",
      "Epoch 4/150\n",
      "4500/4500 [==============================] - 1s 320us/sample - loss: 1.7518 - accuracy: 0.3876 - val_loss: 1.7376 - val_accuracy: 0.3900\n",
      "Epoch 5/150\n",
      "4500/4500 [==============================] - 1s 332us/sample - loss: 1.7255 - accuracy: 0.3892 - val_loss: 1.7201 - val_accuracy: 0.3933\n",
      "Epoch 6/150\n",
      "4500/4500 [==============================] - 1s 309us/sample - loss: 1.6954 - accuracy: 0.3973 - val_loss: 1.6975 - val_accuracy: 0.4100\n",
      "Epoch 7/150\n",
      "4500/4500 [==============================] - 1s 294us/sample - loss: 1.6877 - accuracy: 0.4057 - val_loss: 1.6953 - val_accuracy: 0.4040\n",
      "Epoch 8/150\n",
      "4500/4500 [==============================] - 1s 273us/sample - loss: 1.6583 - accuracy: 0.4087 - val_loss: 1.6492 - val_accuracy: 0.4167\n",
      "Epoch 9/150\n",
      "4500/4500 [==============================] - 1s 252us/sample - loss: 1.6300 - accuracy: 0.4161 - val_loss: 1.6215 - val_accuracy: 0.4207\n",
      "Epoch 10/150\n",
      "4500/4500 [==============================] - 1s 242us/sample - loss: 1.6056 - accuracy: 0.4204 - val_loss: 1.6437 - val_accuracy: 0.4133\n",
      "Epoch 11/150\n",
      "4500/4500 [==============================] - 1s 247us/sample - loss: 1.5876 - accuracy: 0.4247 - val_loss: 1.5365 - val_accuracy: 0.4233\n",
      "Epoch 12/150\n",
      "4500/4500 [==============================] - 1s 261us/sample - loss: 1.5531 - accuracy: 0.4330 - val_loss: 1.5082 - val_accuracy: 0.4447\n",
      "Epoch 13/150\n",
      "4500/4500 [==============================] - 1s 250us/sample - loss: 1.4840 - accuracy: 0.4524 - val_loss: 1.4480 - val_accuracy: 0.4647\n",
      "Epoch 14/150\n",
      "4500/4500 [==============================] - 1s 251us/sample - loss: 1.4361 - accuracy: 0.4648 - val_loss: 1.4444 - val_accuracy: 0.4420\n",
      "Epoch 15/150\n",
      "4500/4500 [==============================] - 1s 255us/sample - loss: 1.4179 - accuracy: 0.4719 - val_loss: 1.4981 - val_accuracy: 0.4267\n",
      "Epoch 16/150\n",
      "4500/4500 [==============================] - 1s 265us/sample - loss: 1.3819 - accuracy: 0.4839 - val_loss: 1.3437 - val_accuracy: 0.4960\n",
      "Epoch 17/150\n",
      "4500/4500 [==============================] - 1s 258us/sample - loss: 1.3387 - accuracy: 0.5020 - val_loss: 1.3245 - val_accuracy: 0.4907\n",
      "Epoch 18/150\n",
      "4500/4500 [==============================] - 1s 252us/sample - loss: 1.2912 - accuracy: 0.5221 - val_loss: 1.4039 - val_accuracy: 0.4600\n",
      "Epoch 19/150\n",
      "4500/4500 [==============================] - 1s 257us/sample - loss: 1.2853 - accuracy: 0.5162 - val_loss: 1.3352 - val_accuracy: 0.4793\n",
      "Epoch 20/150\n",
      "4500/4500 [==============================] - 1s 253us/sample - loss: 1.2432 - accuracy: 0.5390 - val_loss: 1.2481 - val_accuracy: 0.5320\n",
      "Epoch 21/150\n",
      "4500/4500 [==============================] - 1s 264us/sample - loss: 1.2133 - accuracy: 0.5574 - val_loss: 1.2049 - val_accuracy: 0.5507\n",
      "Epoch 22/150\n",
      "4500/4500 [==============================] - 1s 250us/sample - loss: 1.1996 - accuracy: 0.5572 - val_loss: 1.2106 - val_accuracy: 0.5573\n",
      "Epoch 23/150\n",
      "4500/4500 [==============================] - 1s 238us/sample - loss: 1.1713 - accuracy: 0.5744 - val_loss: 1.1836 - val_accuracy: 0.5600\n",
      "Epoch 24/150\n",
      "4500/4500 [==============================] - 1s 246us/sample - loss: 1.1604 - accuracy: 0.5767 - val_loss: 1.2298 - val_accuracy: 0.5173\n",
      "Epoch 25/150\n",
      "4500/4500 [==============================] - 1s 259us/sample - loss: 1.1314 - accuracy: 0.5853 - val_loss: 1.2274 - val_accuracy: 0.5180\n",
      "Epoch 26/150\n",
      "4500/4500 [==============================] - 1s 253us/sample - loss: 1.1338 - accuracy: 0.5862 - val_loss: 1.1663 - val_accuracy: 0.5687\n",
      "Epoch 27/150\n",
      "4500/4500 [==============================] - 2s 356us/sample - loss: 1.1090 - accuracy: 0.5998 - val_loss: 1.1013 - val_accuracy: 0.6133\n",
      "Epoch 28/150\n",
      "4500/4500 [==============================] - 2s 413us/sample - loss: 1.0673 - accuracy: 0.6290 - val_loss: 1.0834 - val_accuracy: 0.6053\n",
      "Epoch 29/150\n",
      "4500/4500 [==============================] - 2s 361us/sample - loss: 1.0790 - accuracy: 0.6093 - val_loss: 1.2212 - val_accuracy: 0.5427\n",
      "Epoch 30/150\n",
      "4500/4500 [==============================] - 1s 330us/sample - loss: 1.0813 - accuracy: 0.6071 - val_loss: 1.0861 - val_accuracy: 0.6087\n",
      "Epoch 31/150\n",
      "4500/4500 [==============================] - 1s 325us/sample - loss: 1.0379 - accuracy: 0.6357 - val_loss: 1.0994 - val_accuracy: 0.5900\n",
      "Epoch 32/150\n",
      "4500/4500 [==============================] - 1s 282us/sample - loss: 1.0527 - accuracy: 0.6177 - val_loss: 1.1013 - val_accuracy: 0.5933\n",
      "Epoch 33/150\n",
      "4500/4500 [==============================] - 1s 317us/sample - loss: 1.0214 - accuracy: 0.6373 - val_loss: 1.0321 - val_accuracy: 0.6313\n",
      "Epoch 34/150\n",
      "4500/4500 [==============================] - 1s 275us/sample - loss: 1.0101 - accuracy: 0.6399 - val_loss: 1.0677 - val_accuracy: 0.6100\n",
      "Epoch 35/150\n",
      "4500/4500 [==============================] - 1s 294us/sample - loss: 0.9956 - accuracy: 0.6439 - val_loss: 1.1773 - val_accuracy: 0.5547\n",
      "Epoch 36/150\n",
      "4500/4500 [==============================] - 1s 309us/sample - loss: 1.0262 - accuracy: 0.6198 - val_loss: 1.0188 - val_accuracy: 0.6333\n",
      "Epoch 37/150\n",
      "4500/4500 [==============================] - 1s 330us/sample - loss: 0.9774 - accuracy: 0.6504 - val_loss: 0.9927 - val_accuracy: 0.6573\n",
      "Epoch 38/150\n",
      "4500/4500 [==============================] - 1s 290us/sample - loss: 0.9959 - accuracy: 0.6347 - val_loss: 1.0477 - val_accuracy: 0.6140\n",
      "Epoch 39/150\n",
      "4500/4500 [==============================] - 1s 300us/sample - loss: 0.9666 - accuracy: 0.6561 - val_loss: 0.9660 - val_accuracy: 0.6527\n",
      "Epoch 40/150\n",
      "4500/4500 [==============================] - 1s 300us/sample - loss: 0.9287 - accuracy: 0.6732 - val_loss: 0.9788 - val_accuracy: 0.6367\n",
      "Epoch 41/150\n",
      "4500/4500 [==============================] - 1s 285us/sample - loss: 0.9296 - accuracy: 0.6678 - val_loss: 0.9277 - val_accuracy: 0.6687\n",
      "Epoch 42/150\n",
      "4500/4500 [==============================] - 1s 298us/sample - loss: 0.8984 - accuracy: 0.6910 - val_loss: 0.9129 - val_accuracy: 0.6807\n",
      "Epoch 43/150\n",
      "4500/4500 [==============================] - 1s 297us/sample - loss: 0.8969 - accuracy: 0.6797 - val_loss: 1.0396 - val_accuracy: 0.6027\n",
      "Epoch 44/150\n",
      "4500/4500 [==============================] - 1s 321us/sample - loss: 0.8725 - accuracy: 0.6968 - val_loss: 0.8899 - val_accuracy: 0.6833\n",
      "Epoch 45/150\n",
      "4500/4500 [==============================] - 1s 285us/sample - loss: 0.8378 - accuracy: 0.7114 - val_loss: 0.8567 - val_accuracy: 0.6913\n",
      "Epoch 46/150\n",
      "4500/4500 [==============================] - 1s 289us/sample - loss: 0.8104 - accuracy: 0.7227 - val_loss: 0.8202 - val_accuracy: 0.7107\n",
      "Epoch 47/150\n",
      "4500/4500 [==============================] - 2s 340us/sample - loss: 0.7898 - accuracy: 0.7330 - val_loss: 0.7988 - val_accuracy: 0.7260\n",
      "Epoch 48/150\n",
      "4500/4500 [==============================] - 1s 319us/sample - loss: 0.7704 - accuracy: 0.7342 - val_loss: 0.7844 - val_accuracy: 0.7373\n",
      "Epoch 49/150\n",
      "4500/4500 [==============================] - 1s 324us/sample - loss: 0.7271 - accuracy: 0.7616 - val_loss: 0.7438 - val_accuracy: 0.7400\n",
      "Epoch 50/150\n",
      "4500/4500 [==============================] - 1s 291us/sample - loss: 0.7068 - accuracy: 0.7667 - val_loss: 0.7209 - val_accuracy: 0.7473\n",
      "Epoch 51/150\n",
      "4500/4500 [==============================] - 1s 310us/sample - loss: 0.6863 - accuracy: 0.7736 - val_loss: 0.6947 - val_accuracy: 0.7720\n",
      "Epoch 52/150\n",
      "4500/4500 [==============================] - 2s 340us/sample - loss: 0.6825 - accuracy: 0.7679 - val_loss: 0.7234 - val_accuracy: 0.7473\n",
      "Epoch 53/150\n",
      "4500/4500 [==============================] - 2s 350us/sample - loss: 0.6581 - accuracy: 0.7840 - val_loss: 0.7593 - val_accuracy: 0.7133\n",
      "Epoch 54/150\n",
      "4500/4500 [==============================] - 2s 377us/sample - loss: 0.6670 - accuracy: 0.7695 - val_loss: 0.6531 - val_accuracy: 0.7720\n",
      "Epoch 55/150\n",
      "4500/4500 [==============================] - 2s 433us/sample - loss: 0.6043 - accuracy: 0.8131 - val_loss: 0.6460 - val_accuracy: 0.7873\n",
      "Epoch 56/150\n",
      "4500/4500 [==============================] - 2s 393us/sample - loss: 0.5916 - accuracy: 0.8185 - val_loss: 0.6900 - val_accuracy: 0.7473\n",
      "Epoch 57/150\n",
      "4500/4500 [==============================] - 2s 360us/sample - loss: 0.6132 - accuracy: 0.7949 - val_loss: 0.6724 - val_accuracy: 0.7753\n",
      "Epoch 58/150\n",
      "4500/4500 [==============================] - 1s 291us/sample - loss: 0.5841 - accuracy: 0.8104 - val_loss: 0.5609 - val_accuracy: 0.8280\n",
      "Epoch 59/150\n",
      "4500/4500 [==============================] - 2s 374us/sample - loss: 0.5430 - accuracy: 0.8346 - val_loss: 0.5406 - val_accuracy: 0.8300\n",
      "Epoch 60/150\n",
      "4500/4500 [==============================] - 1s 299us/sample - loss: 0.5140 - accuracy: 0.8535 - val_loss: 0.5290 - val_accuracy: 0.8407\n",
      "Epoch 61/150\n",
      "4500/4500 [==============================] - 1s 287us/sample - loss: 0.4981 - accuracy: 0.8604 - val_loss: 0.5110 - val_accuracy: 0.8520\n",
      "Epoch 62/150\n",
      "4500/4500 [==============================] - 1s 313us/sample - loss: 0.4832 - accuracy: 0.8627 - val_loss: 0.5161 - val_accuracy: 0.8407\n",
      "Epoch 63/150\n",
      "4500/4500 [==============================] - 1s 305us/sample - loss: 0.4671 - accuracy: 0.8704 - val_loss: 0.4806 - val_accuracy: 0.8527\n",
      "Epoch 64/150\n",
      "4500/4500 [==============================] - 1s 297us/sample - loss: 0.4517 - accuracy: 0.8764 - val_loss: 0.4572 - val_accuracy: 0.8720\n",
      "Epoch 65/150\n",
      "4500/4500 [==============================] - 1s 279us/sample - loss: 0.4326 - accuracy: 0.8838 - val_loss: 0.4770 - val_accuracy: 0.8540\n",
      "Epoch 66/150\n",
      "4500/4500 [==============================] - 1s 285us/sample - loss: 0.4277 - accuracy: 0.8820 - val_loss: 0.4305 - val_accuracy: 0.8747\n",
      "Epoch 67/150\n",
      "4500/4500 [==============================] - 1s 276us/sample - loss: 0.4047 - accuracy: 0.8920 - val_loss: 0.4271 - val_accuracy: 0.8773\n",
      "Epoch 68/150\n",
      "4500/4500 [==============================] - 1s 284us/sample - loss: 0.3939 - accuracy: 0.8966 - val_loss: 0.4552 - val_accuracy: 0.8487\n",
      "Epoch 69/150\n",
      "4500/4500 [==============================] - 1s 287us/sample - loss: 0.3868 - accuracy: 0.8963 - val_loss: 0.4008 - val_accuracy: 0.8827\n",
      "Epoch 70/150\n",
      "4500/4500 [==============================] - 1s 280us/sample - loss: 0.3661 - accuracy: 0.9056 - val_loss: 0.3726 - val_accuracy: 0.9060\n",
      "Epoch 71/150\n",
      "4500/4500 [==============================] - 1s 289us/sample - loss: 0.3443 - accuracy: 0.9136 - val_loss: 0.3682 - val_accuracy: 0.8913\n",
      "Epoch 72/150\n",
      "4500/4500 [==============================] - 1s 288us/sample - loss: 0.3360 - accuracy: 0.9183 - val_loss: 0.3957 - val_accuracy: 0.8820\n",
      "Epoch 73/150\n",
      "4500/4500 [==============================] - 1s 280us/sample - loss: 0.3401 - accuracy: 0.9104 - val_loss: 0.3550 - val_accuracy: 0.8987\n",
      "Epoch 74/150\n",
      "4500/4500 [==============================] - 1s 287us/sample - loss: 0.3138 - accuracy: 0.9221 - val_loss: 0.3316 - val_accuracy: 0.9167\n",
      "Epoch 75/150\n",
      "4500/4500 [==============================] - 1s 296us/sample - loss: 0.3097 - accuracy: 0.9225 - val_loss: 0.5853 - val_accuracy: 0.7693\n",
      "Epoch 76/150\n",
      "4500/4500 [==============================] - 2s 384us/sample - loss: 0.3322 - accuracy: 0.9053 - val_loss: 0.3229 - val_accuracy: 0.9153\n",
      "Epoch 77/150\n",
      "4500/4500 [==============================] - 2s 340us/sample - loss: 0.2793 - accuracy: 0.9344 - val_loss: 0.3053 - val_accuracy: 0.9200\n",
      "Epoch 78/150\n",
      "4500/4500 [==============================] - 1s 314us/sample - loss: 0.2623 - accuracy: 0.9411 - val_loss: 0.2762 - val_accuracy: 0.9273\n",
      "Epoch 79/150\n",
      "4500/4500 [==============================] - 2s 379us/sample - loss: 0.2518 - accuracy: 0.9441 - val_loss: 0.2860 - val_accuracy: 0.9287\n",
      "Epoch 80/150\n",
      "4500/4500 [==============================] - 2s 378us/sample - loss: 0.2772 - accuracy: 0.9278 - val_loss: 0.2910 - val_accuracy: 0.9213\n",
      "Epoch 81/150\n",
      "4500/4500 [==============================] - 1s 307us/sample - loss: 0.2731 - accuracy: 0.9322 - val_loss: 0.2699 - val_accuracy: 0.9313\n",
      "Epoch 82/150\n",
      "4500/4500 [==============================] - 1s 317us/sample - loss: 0.2284 - accuracy: 0.9504 - val_loss: 0.2656 - val_accuracy: 0.9253\n",
      "Epoch 83/150\n",
      "4500/4500 [==============================] - 2s 338us/sample - loss: 0.2227 - accuracy: 0.9529 - val_loss: 0.2393 - val_accuracy: 0.9473\n",
      "Epoch 84/150\n",
      "4500/4500 [==============================] - 1s 327us/sample - loss: 0.2047 - accuracy: 0.9612 - val_loss: 0.2307 - val_accuracy: 0.9453\n",
      "Epoch 85/150\n",
      "4500/4500 [==============================] - 1s 319us/sample - loss: 0.1971 - accuracy: 0.9628 - val_loss: 0.2119 - val_accuracy: 0.9507\n",
      "Epoch 86/150\n",
      "4500/4500 [==============================] - 1s 287us/sample - loss: 0.1942 - accuracy: 0.9653 - val_loss: 0.2106 - val_accuracy: 0.9567\n",
      "Epoch 87/150\n",
      "4500/4500 [==============================] - 1s 288us/sample - loss: 0.1887 - accuracy: 0.9650 - val_loss: 0.1992 - val_accuracy: 0.9547\n",
      "Epoch 88/150\n",
      "4500/4500 [==============================] - 1s 290us/sample - loss: 0.1738 - accuracy: 0.9702 - val_loss: 0.1895 - val_accuracy: 0.9607\n",
      "Epoch 89/150\n",
      "4500/4500 [==============================] - 2s 342us/sample - loss: 0.1706 - accuracy: 0.9696 - val_loss: 0.2287 - val_accuracy: 0.9367\n",
      "Epoch 90/150\n",
      "4500/4500 [==============================] - 2s 421us/sample - loss: 0.3514 - accuracy: 0.8850 - val_loss: 0.2802 - val_accuracy: 0.9107\n",
      "Epoch 91/150\n",
      "4500/4500 [==============================] - 1s 307us/sample - loss: 0.2327 - accuracy: 0.9359 - val_loss: 0.2068 - val_accuracy: 0.9453\n",
      "Epoch 92/150\n",
      "4500/4500 [==============================] - 1s 296us/sample - loss: 0.1606 - accuracy: 0.9720 - val_loss: 0.1769 - val_accuracy: 0.9607\n",
      "Epoch 93/150\n",
      "4500/4500 [==============================] - 1s 324us/sample - loss: 0.1473 - accuracy: 0.9753 - val_loss: 0.1806 - val_accuracy: 0.9593\n",
      "Epoch 94/150\n",
      "4500/4500 [==============================] - 2s 378us/sample - loss: 0.1440 - accuracy: 0.9777 - val_loss: 0.1736 - val_accuracy: 0.9607\n",
      "Epoch 95/150\n",
      "4500/4500 [==============================] - 1s 321us/sample - loss: 0.1381 - accuracy: 0.9783 - val_loss: 0.1518 - val_accuracy: 0.9720\n",
      "Epoch 96/150\n",
      "4500/4500 [==============================] - 2s 389us/sample - loss: 0.1294 - accuracy: 0.9816 - val_loss: 0.1506 - val_accuracy: 0.9647\n",
      "Epoch 97/150\n",
      "4500/4500 [==============================] - 1s 329us/sample - loss: 0.1285 - accuracy: 0.9799 - val_loss: 0.1398 - val_accuracy: 0.9707\n",
      "Epoch 98/150\n",
      "4500/4500 [==============================] - 2s 366us/sample - loss: 0.1205 - accuracy: 0.9832 - val_loss: 0.1441 - val_accuracy: 0.9673\n",
      "Epoch 99/150\n",
      "4500/4500 [==============================] - 2s 337us/sample - loss: 0.1185 - accuracy: 0.9825 - val_loss: 0.1309 - val_accuracy: 0.9753\n",
      "Epoch 100/150\n",
      "4500/4500 [==============================] - 2s 368us/sample - loss: 0.1136 - accuracy: 0.9844 - val_loss: 0.1324 - val_accuracy: 0.9733\n",
      "Epoch 101/150\n",
      "4500/4500 [==============================] - 1s 271us/sample - loss: 0.1085 - accuracy: 0.9851 - val_loss: 0.1310 - val_accuracy: 0.9753\n",
      "Epoch 102/150\n",
      "4500/4500 [==============================] - 1s 248us/sample - loss: 0.1038 - accuracy: 0.9864 - val_loss: 0.1227 - val_accuracy: 0.9740\n",
      "Epoch 103/150\n",
      "4500/4500 [==============================] - 1s 265us/sample - loss: 0.0981 - accuracy: 0.9885 - val_loss: 0.1161 - val_accuracy: 0.9760\n",
      "Epoch 104/150\n",
      "4500/4500 [==============================] - 1s 267us/sample - loss: 0.0937 - accuracy: 0.9885 - val_loss: 0.1114 - val_accuracy: 0.9787\n",
      "Epoch 105/150\n",
      "4500/4500 [==============================] - 1s 261us/sample - loss: 0.0906 - accuracy: 0.9895 - val_loss: 0.1106 - val_accuracy: 0.9780\n",
      "Epoch 106/150\n",
      "4500/4500 [==============================] - 1s 262us/sample - loss: 0.0868 - accuracy: 0.9901 - val_loss: 0.1047 - val_accuracy: 0.9780\n",
      "Epoch 107/150\n",
      "4500/4500 [==============================] - 1s 270us/sample - loss: 0.0863 - accuracy: 0.9893 - val_loss: 0.1192 - val_accuracy: 0.9720\n",
      "Epoch 108/150\n",
      "4500/4500 [==============================] - 1s 281us/sample - loss: 0.1946 - accuracy: 0.9376 - val_loss: 0.8483 - val_accuracy: 0.7487\n",
      "Epoch 109/150\n"
     ]
    },
    {
     "name": "stdout",
     "output_type": "stream",
     "text": [
      "4500/4500 [==============================] - 1s 320us/sample - loss: 0.2179 - accuracy: 0.9321 - val_loss: 0.1212 - val_accuracy: 0.9733\n",
      "Epoch 110/150\n",
      "4500/4500 [==============================] - 1s 298us/sample - loss: 0.0918 - accuracy: 0.9861 - val_loss: 0.0957 - val_accuracy: 0.9813\n",
      "Epoch 111/150\n",
      "4500/4500 [==============================] - 1s 276us/sample - loss: 0.0753 - accuracy: 0.9923 - val_loss: 0.0892 - val_accuracy: 0.9793\n",
      "Epoch 112/150\n",
      "4500/4500 [==============================] - 1s 258us/sample - loss: 0.0717 - accuracy: 0.9924 - val_loss: 0.0875 - val_accuracy: 0.9853\n",
      "Epoch 113/150\n",
      "4500/4500 [==============================] - 1s 256us/sample - loss: 0.0687 - accuracy: 0.9934 - val_loss: 0.0834 - val_accuracy: 0.9847\n",
      "Epoch 114/150\n",
      "4500/4500 [==============================] - 1s 262us/sample - loss: 0.0664 - accuracy: 0.9931 - val_loss: 0.0793 - val_accuracy: 0.9887\n",
      "Epoch 115/150\n",
      "4500/4500 [==============================] - 1s 245us/sample - loss: 0.0641 - accuracy: 0.9935 - val_loss: 0.0746 - val_accuracy: 0.9867\n",
      "Epoch 116/150\n",
      "4500/4500 [==============================] - 1s 274us/sample - loss: 0.0614 - accuracy: 0.9942 - val_loss: 0.0750 - val_accuracy: 0.9880\n",
      "Epoch 117/150\n",
      "4500/4500 [==============================] - 1s 260us/sample - loss: 0.0590 - accuracy: 0.9947 - val_loss: 0.0733 - val_accuracy: 0.9887\n",
      "Epoch 118/150\n",
      "4500/4500 [==============================] - 1s 266us/sample - loss: 0.0573 - accuracy: 0.9944 - val_loss: 0.0698 - val_accuracy: 0.9873\n",
      "Epoch 119/150\n",
      "4500/4500 [==============================] - 1s 261us/sample - loss: 0.0547 - accuracy: 0.9954 - val_loss: 0.0667 - val_accuracy: 0.9907\n",
      "Epoch 120/150\n",
      "4500/4500 [==============================] - 1s 284us/sample - loss: 0.0531 - accuracy: 0.9952 - val_loss: 0.0685 - val_accuracy: 0.9893\n",
      "Epoch 121/150\n",
      "4500/4500 [==============================] - 1s 280us/sample - loss: 0.0520 - accuracy: 0.9951 - val_loss: 0.0646 - val_accuracy: 0.9933\n",
      "Epoch 122/150\n",
      "4500/4500 [==============================] - 1s 259us/sample - loss: 0.0517 - accuracy: 0.9953 - val_loss: 0.0669 - val_accuracy: 0.9900\n",
      "Epoch 123/150\n",
      "4500/4500 [==============================] - 1s 258us/sample - loss: 0.0496 - accuracy: 0.9953 - val_loss: 0.0606 - val_accuracy: 0.9907\n",
      "Epoch 124/150\n",
      "4500/4500 [==============================] - 1s 252us/sample - loss: 0.0455 - accuracy: 0.9968 - val_loss: 0.0573 - val_accuracy: 0.9927\n",
      "Epoch 125/150\n",
      "4500/4500 [==============================] - 1s 231us/sample - loss: 0.0446 - accuracy: 0.9960 - val_loss: 0.0587 - val_accuracy: 0.9893\n",
      "Epoch 126/150\n",
      "4500/4500 [==============================] - 1s 252us/sample - loss: 0.0459 - accuracy: 0.9956 - val_loss: 0.0625 - val_accuracy: 0.9907\n",
      "Epoch 127/150\n",
      "4500/4500 [==============================] - 1s 257us/sample - loss: 0.0549 - accuracy: 0.9911 - val_loss: 0.0699 - val_accuracy: 0.9873\n",
      "Epoch 128/150\n",
      "4500/4500 [==============================] - 1s 244us/sample - loss: 0.0500 - accuracy: 0.9945 - val_loss: 0.0537 - val_accuracy: 0.9920\n",
      "Epoch 129/150\n",
      "4500/4500 [==============================] - 1s 236us/sample - loss: 0.0403 - accuracy: 0.9962 - val_loss: 0.0513 - val_accuracy: 0.9940\n",
      "Epoch 130/150\n",
      "4500/4500 [==============================] - 1s 234us/sample - loss: 0.0372 - accuracy: 0.9972 - val_loss: 0.0476 - val_accuracy: 0.9953\n",
      "Epoch 131/150\n",
      "4500/4500 [==============================] - 1s 239us/sample - loss: 0.0350 - accuracy: 0.9976 - val_loss: 0.0486 - val_accuracy: 0.9913\n",
      "Epoch 132/150\n",
      "4500/4500 [==============================] - 1s 228us/sample - loss: 0.0342 - accuracy: 0.9979 - val_loss: 0.0483 - val_accuracy: 0.9933\n",
      "Epoch 133/150\n",
      "4500/4500 [==============================] - 1s 243us/sample - loss: 0.0338 - accuracy: 0.9980 - val_loss: 0.0454 - val_accuracy: 0.9933\n",
      "Epoch 134/150\n",
      "4500/4500 [==============================] - 1s 232us/sample - loss: 0.0337 - accuracy: 0.9973 - val_loss: 0.0511 - val_accuracy: 0.9920\n",
      "Epoch 135/150\n",
      "4500/4500 [==============================] - 1s 235us/sample - loss: 0.0355 - accuracy: 0.9963 - val_loss: 0.0633 - val_accuracy: 0.9840\n",
      "Epoch 136/150\n",
      "4500/4500 [==============================] - 1s 240us/sample - loss: 0.1076 - accuracy: 0.9711 - val_loss: 0.3408 - val_accuracy: 0.8833\n",
      "Epoch 137/150\n",
      "4500/4500 [==============================] - 1s 232us/sample - loss: 0.0918 - accuracy: 0.9756 - val_loss: 0.0540 - val_accuracy: 0.9913\n",
      "Epoch 138/150\n",
      "4500/4500 [==============================] - 1s 249us/sample - loss: 0.0361 - accuracy: 0.9967 - val_loss: 0.0413 - val_accuracy: 0.9967\n",
      "Epoch 139/150\n",
      "4500/4500 [==============================] - 1s 243us/sample - loss: 0.0310 - accuracy: 0.9968 - val_loss: 0.0402 - val_accuracy: 0.9960\n",
      "Epoch 140/150\n",
      "4500/4500 [==============================] - 1s 248us/sample - loss: 0.0281 - accuracy: 0.9985 - val_loss: 0.0399 - val_accuracy: 0.9947\n",
      "Epoch 141/150\n",
      "4500/4500 [==============================] - 1s 242us/sample - loss: 0.0272 - accuracy: 0.9979 - val_loss: 0.0374 - val_accuracy: 0.9947\n",
      "Epoch 142/150\n",
      "4500/4500 [==============================] - 1s 245us/sample - loss: 0.0257 - accuracy: 0.9986 - val_loss: 0.0356 - val_accuracy: 0.9973\n",
      "Epoch 143/150\n",
      "4500/4500 [==============================] - 1s 250us/sample - loss: 0.0244 - accuracy: 0.9990 - val_loss: 0.0350 - val_accuracy: 0.9960\n",
      "Epoch 144/150\n",
      "4500/4500 [==============================] - 1s 238us/sample - loss: 0.0236 - accuracy: 0.9988 - val_loss: 0.0348 - val_accuracy: 0.9953\n",
      "Epoch 145/150\n",
      "4500/4500 [==============================] - 1s 230us/sample - loss: 0.0234 - accuracy: 0.9987 - val_loss: 0.0337 - val_accuracy: 0.9973\n",
      "Epoch 146/150\n",
      "4500/4500 [==============================] - 1s 231us/sample - loss: 0.0227 - accuracy: 0.9987 - val_loss: 0.0340 - val_accuracy: 0.9953\n",
      "Epoch 147/150\n",
      "4500/4500 [==============================] - 1s 242us/sample - loss: 0.0223 - accuracy: 0.9984 - val_loss: 0.0314 - val_accuracy: 0.9967\n",
      "Epoch 148/150\n",
      "4500/4500 [==============================] - 1s 250us/sample - loss: 0.0205 - accuracy: 0.9996 - val_loss: 0.0302 - val_accuracy: 0.9967\n",
      "Epoch 149/150\n",
      "4500/4500 [==============================] - 1s 232us/sample - loss: 0.0199 - accuracy: 0.9993 - val_loss: 0.0299 - val_accuracy: 0.9967\n",
      "Epoch 150/150\n",
      "4500/4500 [==============================] - 1s 235us/sample - loss: 0.0197 - accuracy: 0.9988 - val_loss: 0.0301 - val_accuracy: 0.9953\n"
     ]
    }
   ],
   "source": [
    "history = model.fit(\n",
    "    x=x,\n",
    "    y=y,\n",
    "    epochs=epochs_num,\n",
    "    batch_size=batch_size,\n",
    "    validation_split=0.1\n",
    ")"
   ]
  },
  {
   "cell_type": "code",
   "execution_count": 26,
   "metadata": {},
   "outputs": [],
   "source": [
    "def render_training_history(training_history):\n",
    "    loss = training_history.history['loss']\n",
    "    val_loss = training_history.history['val_loss']\n",
    "\n",
    "    accuracy = training_history.history['accuracy']\n",
    "    val_accuracy = training_history.history['val_accuracy']\n",
    "\n",
    "    plt.figure(figsize=(14, 4))\n",
    "\n",
    "    plt.subplot(1, 2, 1)\n",
    "    plt.title('Loss')\n",
    "    plt.xlabel('Epoch')\n",
    "    plt.ylabel('Loss')\n",
    "    plt.plot(loss, label='Training set')\n",
    "    plt.plot(val_loss, label='Test set', linestyle='--')\n",
    "    plt.legend()\n",
    "    plt.grid(linestyle='--', linewidth=1, alpha=0.5)\n",
    "\n",
    "    plt.subplot(1, 2, 2)\n",
    "    plt.title('Accuracy')\n",
    "    plt.xlabel('Epoch')\n",
    "    plt.ylabel('Accuracy')\n",
    "    plt.plot(accuracy, label='Training set')\n",
    "    plt.plot(val_accuracy, label='Test set', linestyle='--')\n",
    "    plt.legend()\n",
    "    plt.grid(linestyle='--', linewidth=1, alpha=0.5)\n",
    "\n",
    "    plt.show()"
   ]
  },
  {
   "cell_type": "code",
   "execution_count": 27,
   "metadata": {},
   "outputs": [
    {
     "data": {
      "image/png": "[encoded data removed]",
      "text/plain": [
       "<Figure size 1008x288 with 2 Axes>"
      ]
     },
     "metadata": {
      "needs_background": "light"
     },
     "output_type": "display_data"
    }
   ],
   "source": [
    "render_training_history(history)"
   ]
  },
  {
   "cell_type": "code",
   "execution_count": 28,
   "metadata": {},
   "outputs": [
    {
     "name": "stdout",
     "output_type": "stream",
     "text": [
      "x_test:\n",
      " [[[0 1 0 0 0 0 0 0 0 0 0 0]\n",
      "  [1 0 0 0 0 0 0 0 0 0 0 0]\n",
      "  [0 0 0 0 0 0 0 0 0 0 1 0]\n",
      "  [0 0 0 0 0 0 0 0 1 0 0 0]\n",
      "  [0 1 0 0 0 0 0 0 0 0 0 0]\n",
      "  [0 0 0 0 0 0 0 0 0 0 0 1]\n",
      "  [0 0 0 0 0 0 0 0 0 0 0 1]]]\n",
      "\n",
      "y_test:\n",
      " [[[0 0 0 0 0 0 0 0 0 1 0 0]\n",
      "  [0 1 0 0 0 0 0 0 0 0 0 0]\n",
      "  [0 0 0 0 0 0 0 0 0 0 0 1]]]\n"
     ]
    }
   ],
   "source": [
    "x_test, y_test = generate_dataset(dataset_size, sequence_length, max_num, vocabulary)\n",
    "\n",
    "print('x_test:\\n', x_test[:1])\n",
    "print()\n",
    "print('y_test:\\n', y_test[:1])"
   ]
  },
  {
   "cell_type": "code",
   "execution_count": 29,
   "metadata": {},
   "outputs": [
    {
     "name": "stdout",
     "output_type": "stream",
     "text": [
      "predictions.shape:  (5000, 3, 12)\n",
      "\n",
      "predictions[0]:\n",
      " [[2.0272466e-06 7.2857767e-02 1.2695995e-07 1.1758078e-09 4.2764250e-10\n",
      "  2.6303539e-08 2.8986920e-08 5.4364377e-06 6.8420791e-03 9.2029250e-01\n",
      "  4.9656177e-09 1.2583241e-09]\n",
      " [3.2795721e-03 9.6711224e-01 2.9406181e-02 1.9649228e-04 8.1709106e-07\n",
      "  5.4945912e-07 1.2811645e-07 2.7084734e-10 5.9132327e-10 3.9648303e-06\n",
      "  9.7864972e-10 6.0267048e-08]\n",
      " [5.6906288e-06 1.4028348e-04 3.3346203e-04 1.3765302e-05 5.6278748e-07\n",
      "  9.4114391e-08 7.3364856e-09 4.7401553e-12 2.6028010e-12 6.2642300e-08\n",
      "  7.6568725e-09 9.9950600e-01]]\n",
      "\n",
      "predictions[1]:\n",
      " [[7.1216213e-08 1.1571822e-03 5.9638667e-09 1.6718470e-10 2.2537704e-10\n",
      "  4.2034760e-08 8.2438632e-08 1.0809344e-05 6.6148862e-03 9.9221694e-01\n",
      "  3.4655454e-10 4.0911280e-10]\n",
      " [6.3193365e-06 1.6243798e-06 2.1509135e-04 3.1207880e-02 8.9583766e-01\n",
      "  7.2437055e-02 2.5049120e-04 2.8065215e-06 6.4849033e-08 4.3987583e-07\n",
      "  8.3123197e-09 4.0538107e-05]\n",
      " [6.7349931e-11 2.3449645e-12 6.0336118e-09 3.2894280e-07 5.6840584e-04\n",
      "  4.0084714e-04 4.0935270e-06 3.5237138e-09 1.3248260e-11 1.6253422e-11\n",
      "  2.6114980e-10 9.9902630e-01]]\n"
     ]
    }
   ],
   "source": [
    "predictions = model.predict(x_test)\n",
    "\n",
    "print('predictions.shape: ', predictions.shape)\n",
    "print()\n",
    "print('predictions[0]:\\n', predictions[0])\n",
    "print()\n",
    "print('predictions[1]:\\n', predictions[1])"
   ]
  },
  {
   "cell_type": "code",
   "execution_count": 31,
   "metadata": {},
   "outputs": [
    {
     "name": "stdout",
     "output_type": "stream",
     "text": [
      "10+81   = 91  [predict: 91 ] ✓\n",
      "64+30   = 94  [predict: 94 ] ✓\n",
      "35+82   = 117 [predict: 117] ✓\n",
      "92+78   = 170 [predict: 170] ✓\n",
      "34+24   = 58  [predict: 58 ] ✓\n",
      "41+39   = 80  [predict: 80 ] ✓\n",
      "12+16   = 28  [predict: 28 ] ✓\n",
      "30+93   = 123 [predict: 123] ✓\n",
      "94+99   = 193 [predict: 193] ✓\n",
      "56+30   = 86  [predict: 86 ] ✓\n",
      "6+52    = 58  [predict: 58 ] ✓\n",
      "61+70   = 131 [predict: 131] ✓\n",
      "84+6    = 90  [predict: 90 ] ✓\n",
      "33+63   = 96  [predict: 96 ] ✓\n",
      "77+51   = 128 [predict: 128] ✓\n",
      "41+90   = 131 [predict: 131] ✓\n",
      "84+35   = 119 [predict: 119] ✓\n",
      "27+62   = 89  [predict: 89 ] ✓\n",
      "15+49   = 64  [predict: 64 ] ✓\n",
      "63+64   = 127 [predict: 127] ✓\n",
      "86+41   = 127 [predict: 127] ✓\n",
      "66+76   = 142 [predict: 142] ✓\n",
      "28+55   = 83  [predict: 83 ] ✓\n",
      "95+71   = 166 [predict: 166] ✓\n",
      "24+96   = 120 [predict: 120] ✓\n",
      "50+33   = 83  [predict: 83 ] ✓\n",
      "78+81   = 159 [predict: 159] ✓\n",
      "58+19   = 77  [predict: 77 ] ✓\n",
      "93+58   = 151 [predict: 151] ✓\n",
      "83+33   = 116 [predict: 116] ✓\n",
      "37+96   = 133 [predict: 133] ✓\n",
      "49+78   = 127 [predict: 127] ✓\n",
      "87+72   = 159 [predict: 159] ✓\n",
      "9+28    = 37  [predict: 37 ] ✓\n",
      "81+21   = 102 [predict: 102] ✓\n",
      "72+85   = 157 [predict: 157] ✓\n",
      "44+59   = 103 [predict: 103] ✓\n",
      "18+88   = 106 [predict: 106] ✓\n",
      "44+7    = 51  [predict: 51 ] ✓\n",
      "7+63    = 70  [predict: 70 ] ✓\n"
     ]
    }
   ],
   "source": [
    "x_encoded = [decode(example, vocabulary) for example in x_test]\n",
    "y_expected = [decode(label, vocabulary) for label in y_test]\n",
    "y_predicted = [decode(prediction, vocabulary) for prediction in predictions]\n",
    "\n",
    "explore_num = 40\n",
    "for example, label, prediction in list(zip(x_encoded, y_expected, y_predicted))[:explore_num]:\n",
    "    checkmark = '✓' if label == prediction else ''\n",
    "    print('{} = {} [predict: {}] {}'.format(example, label, prediction, checkmark))"
   ]
  }
 ],
 "metadata": {
  "kernelspec": {
   "display_name": "Python 3",
   "language": "python",
   "name": "python3"
  },
  "language_info": {
   "codemirror_mode": {
    "name": "ipython",
    "version": 3
   },
   "file_extension": ".py",
   "mimetype": "text/x-python",
   "name": "python",
   "nbconvert_exporter": "python",
   "pygments_lexer": "ipython3",
   "version": "3.7.6"
  }
 },
 "nbformat": 4,
 "nbformat_minor": 2
}
