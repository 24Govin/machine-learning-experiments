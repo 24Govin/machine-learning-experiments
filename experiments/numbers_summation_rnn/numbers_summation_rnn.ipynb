{
 "cells": [
  {
   "cell_type": "markdown",
   "metadata": {},
   "source": [
    "# Numbers Summation (using RNN LSTM)"
   ]
  },
  {
   "cell_type": "markdown",
   "metadata": {},
   "source": [
    "> - <font size=\"+1\">🤖 See [full list of Machine Learning Experiments](https://github.com/trekhleb/machine-learning-experiments) on **GitHub**</font><br/><br/>\n",
    "> - ▶️ <font size=\"+1\">**Interactive Demo**: [try this model and other machine learning experiments in action](https://trekhleb.github.io/machine-learning-experiments)</font>"
   ]
  },
  {
   "cell_type": "markdown",
   "metadata": {},
   "source": [
    "## Experiment overview"
   ]
  },
  {
   "cell_type": "markdown",
   "metadata": {},
   "source": [
    "In this experiment we will use [Recurrent Neural Network](https://en.wikipedia.org/wiki/Recurrent_neural_network) (RNN) to sum up two numbers (each number is in a range of `[1, 99]`). The summation expression (i.e. `\"1+45\"` or `37+68`) that will be sent to the RNN _input_ will be treated as a **string** (sequence of characters) and the _output_ of the RNN will also be a string (i.e. `\"46\"` or `\"106\"`) - the sequence of characters that will represent the result of summation. This is a \"sequence-to-sequence\" version of RNN implementation. We will use LSTM ([Long Short-Term Memory](https://en.wikipedia.org/wiki/Long_short-term_memory)) recurent neural network for this task.\n",
    "\n",
    "For this experiment we will use [Tensorflow v2](https://www.tensorflow.org/) with its [Keras API](https://www.tensorflow.org/guide/keras).\n",
    "\n",
    "![numbers_summation_rnn.png](../../demos/src/images/numbers_summation_rnn.png)"
   ]
  },
  {
   "cell_type": "markdown",
   "metadata": {},
   "source": [
    "Inspired by [Learn to Add Numbers with an Encoder-Decoder LSTM Recurrent Neural Network](https://machinelearningmastery.com/learn-add-numbers-seq2seq-recurrent-neural-networks/) article."
   ]
  },
  {
   "cell_type": "markdown",
   "metadata": {},
   "source": [
    "## Import dependencies"
   ]
  },
  {
   "cell_type": "code",
   "execution_count": null,
   "metadata": {},
   "outputs": [],
   "source": [
    "# Selecting Tensorflow version v2 (the command is relevant for Colab only).\n",
    "%tensorflow_version 2.x"
   ]
  },
  {
   "cell_type": "code",
   "execution_count": 1,
   "metadata": {},
   "outputs": [
    {
     "name": "stdout",
     "output_type": "stream",
     "text": [
      "Python version: 3.7.6\n",
      "Tensorflow version: 2.1.0\n",
      "Keras version: 2.2.4-tf\n"
     ]
    }
   ],
   "source": [
    "import tensorflow as tf\n",
    "import matplotlib.pyplot as plt\n",
    "import numpy as np\n",
    "import platform\n",
    "import random\n",
    "import math\n",
    "\n",
    "print('Python version:', platform.python_version())\n",
    "print('Tensorflow version:', tf.__version__)\n",
    "print('Keras version:', tf.keras.__version__)"
   ]
  },
  {
   "cell_type": "markdown",
   "metadata": {},
   "source": [
    "## Generate a dataset"
   ]
  },
  {
   "cell_type": "markdown",
   "metadata": {},
   "source": [
    "In order to train a neural network we need to generate a training dataset which will consist of examples `x` (set of summation expressions) and labels `y` (set of correct answers for each expression). We will start with generating a set of _numbers_ (not strings so far) and than we will convert the sets of numbers into _strings_."
   ]
  },
  {
   "cell_type": "code",
   "execution_count": 4,
   "metadata": {},
   "outputs": [],
   "source": [
    "dataset_size = 5000\n",
    "sequence_length = 2\n",
    "max_num = 100"
   ]
  },
  {
   "cell_type": "code",
   "execution_count": 5,
   "metadata": {},
   "outputs": [],
   "source": [
    "# Generates summation sequences and summation results in form of vector if numbers.\n",
    "def generate_sums(dataset_size, sequence_length, max_num):\n",
    "    # Initial dataset states.\n",
    "    x, y = [], []\n",
    "    \n",
    "    # Generating sums.\n",
    "    for i in range(dataset_size):\n",
    "        sequence = [random.randint(1, max_num) for _ in range(sequence_length)]\n",
    "        x.append(sequence)\n",
    "        y.append(sum(sequence))\n",
    "    \n",
    "    return x, y"
   ]
  },
  {
   "cell_type": "code",
   "execution_count": 6,
   "metadata": {},
   "outputs": [
    {
     "name": "stdout",
     "output_type": "stream",
     "text": [
      "x_train:\n",
      " [[13, 8], [85, 91], [12, 22]]\n",
      "\n",
      "y_train:\n",
      " [21, 176, 34]\n"
     ]
    }
   ],
   "source": [
    "x_train, y_train = generate_sums(\n",
    "    dataset_size=dataset_size,\n",
    "    sequence_length=sequence_length,\n",
    "    max_num=max_num\n",
    ")\n",
    "\n",
    "print('x_train:\\n', x_train[:3])\n",
    "print()\n",
    "print('y_train:\\n', y_train[:3])"
   ]
  },
  {
   "cell_type": "markdown",
   "metadata": {},
   "source": [
    "Recurrent neural networks are normally deals with the sequences (of one or many elements) on the input. In order to treat a summation expression as a sequence we will convert array of numbers (i.e. `[[13, 8], [85, 91], ...]`) into strings (i.e. `['13+8   ', '85+91  ', ...]`). We also want to add a space `\" \"` paddings to each string to make them all of the same length. After doing that we will be able to feed our RNN character by character (i.e. `1`, then `3`, then `+`, then `8`, then ` ` and so on)."
   ]
  },
  {
   "cell_type": "code",
   "execution_count": 7,
   "metadata": {},
   "outputs": [],
   "source": [
    "# Convert array of numbers for x and y into strings.\n",
    "# Also it adds a space (\" \") padding to strings to make them of the same length. \n",
    "def dataset_to_strings(x, y, max_num):\n",
    "    # Initial dataset states.\n",
    "    x_str, y_str = [], []\n",
    "    \n",
    "    sequnce_length = len(x[0])\n",
    "    \n",
    "    # Calculate the maximum length of equation (x) string (i.e. of \"11+99\")\n",
    "    num_of_pluses = sequnce_length - 1\n",
    "    num_of_chars_per_digit = math.ceil(math.log10(max_num + 1))\n",
    "    max_x_length = sequnce_length * num_of_chars_per_digit + num_of_pluses\n",
    "    \n",
    "    # Calculate the maximum length of label (y) string (i.e. of \"167\")\n",
    "    max_y_length = math.ceil(math.log10(sequnce_length * (max_num + 1)))\n",
    "    \n",
    "    # Add a space \" \" padding to equation strings to make them of the same length.\n",
    "    for example in x:\n",
    "        str_example = '+'.join([str(digit) for digit in example])\n",
    "        str_example += ''.join([' ' for padding in range(max_x_length - len(str_example))])\n",
    "        x_str.append(str_example)\n",
    "    \n",
    "    # Add a space \" \" padding to labels strings to make them of the same length.\n",
    "    for label in y:\n",
    "        str_example = str(label)\n",
    "        str_example += ''.join([' ' for padding in range(max_y_length - len(str_example))])\n",
    "        y_str.append(str_example)\n",
    "    \n",
    "    return x_str, y_str"
   ]
  },
  {
   "cell_type": "code",
   "execution_count": 8,
   "metadata": {},
   "outputs": [
    {
     "name": "stdout",
     "output_type": "stream",
     "text": [
      "x_train_str:\n",
      " ['13+8   ' '85+91  ' '12+22  ']\n",
      "\n",
      "y_train_str:\n",
      " ['21 ' '176' '34 ']\n"
     ]
    }
   ],
   "source": [
    "x_train_str, y_train_str = dataset_to_strings(x_train, y_train, max_num)\n",
    "\n",
    "print('x_train_str:\\n', np.array(x_train_str[:3]))\n",
    "print()\n",
    "print('y_train_str:\\n', np.array(y_train_str[:3]))"
   ]
  },
  {
   "cell_type": "code",
   "execution_count": 9,
   "metadata": {},
   "outputs": [],
   "source": [
    "# Since we allow only numbers, plus sign and spaces the vocabulary looks pretty simple.\n",
    "vocabulary = ['0', '1', '2', '3', '4', '5', '6', '7', '8', '9', '+', ' ']"
   ]
  },
  {
   "cell_type": "code",
   "execution_count": 10,
   "metadata": {},
   "outputs": [
    {
     "name": "stdout",
     "output_type": "stream",
     "text": [
      "{'0': 0, '1': 1, '2': 2, '3': 3, '4': 4, '5': 5, '6': 6, '7': 7, '8': 8, '9': 9, '+': 10, ' ': 11}\n"
     ]
    }
   ],
   "source": [
    "# Python dictionary that will convert a character to its index in the vocabulary.\n",
    "char_to_index = {char: index for index, char in enumerate(vocabulary)}\n",
    "\n",
    "print(char_to_index)"
   ]
  },
  {
   "cell_type": "markdown",
   "metadata": {},
   "source": [
    "Our RNN need to have a digits as an input to operate with (and not a strings). To convert summation expressions strings into number the first step we will do is to convert each character of each string into the position index of this character in the `vocabulary`."
   ]
  },
  {
   "cell_type": "code",
   "execution_count": 11,
   "metadata": {},
   "outputs": [],
   "source": [
    "# Converts x and y arrays of strings into array of char indices.\n",
    "def dataset_to_indices(x, y, vocabulary):\n",
    "    x_encoded, y_encoded = [], []\n",
    "    \n",
    "    char_to_index = {char: index for index, char in enumerate(vocabulary)}\n",
    "    \n",
    "    for example in x:\n",
    "        example_encoded = [char_to_index[char] for char in example]\n",
    "        x_encoded.append(example_encoded)\n",
    "        \n",
    "    for label in y:\n",
    "        label_encoded = [char_to_index[char] for char in label]\n",
    "        y_encoded.append(label_encoded)\n",
    "        \n",
    "    return x_encoded, y_encoded"
   ]
  },
  {
   "cell_type": "code",
   "execution_count": 12,
   "metadata": {},
   "outputs": [
    {
     "name": "stdout",
     "output_type": "stream",
     "text": [
      "x_train_encoded:\n",
      " [[ 1  3 10  8 11 11 11]\n",
      " [ 8  5 10  9  1 11 11]\n",
      " [ 1  2 10  2  2 11 11]]\n",
      "\n",
      "y_train_encoded:\n",
      " [[ 2  1 11]\n",
      " [ 1  7  6]\n",
      " [ 3  4 11]]\n"
     ]
    }
   ],
   "source": [
    "x_train_encoded, y_train_encoded = dataset_to_indices(\n",
    "    x_train_str,\n",
    "    y_train_str,\n",
    "    vocabulary\n",
    ")\n",
    "\n",
    "print('x_train_encoded:\\n', np.array(x_train_encoded[:3]))\n",
    "print()\n",
    "print('y_train_encoded:\\n', np.array(y_train_encoded[:3]))"
   ]
  },
  {
   "cell_type": "markdown",
   "metadata": {},
   "source": [
    "To make our dataset even more understandable for our recurrent neural network we will convert each number into `0/1` [one-hot vector](https://en.wikipedia.org/wiki/One-hot) (i.e. number `1` will be transformed into array `[0 1 0 0 0 0 0 0 0 0 0 0]`)."
   ]
  },
  {
   "cell_type": "code",
   "execution_count": 13,
   "metadata": {},
   "outputs": [],
   "source": [
    "# Convert x and y sets of numbers into one-hot vectors.\n",
    "def dataset_to_one_hot(x, y, vocabulary):\n",
    "    x_encoded, y_encoded = [], []\n",
    "    \n",
    "    for example in x:\n",
    "        pattern = []\n",
    "        for index in example:\n",
    "            vector = [0 for _ in range(len(vocabulary))]\n",
    "            vector[index] = 1\n",
    "            pattern.append(vector)\n",
    "        x_encoded.append(pattern)\n",
    "            \n",
    "    for label in y:\n",
    "        pattern = []\n",
    "        for index in label:\n",
    "            vector = [0 for _ in range(len(vocabulary))]\n",
    "            vector[index] = 1\n",
    "            pattern.append(vector)\n",
    "        y_encoded.append(pattern)\n",
    "        \n",
    "    return x_encoded, y_encoded"
   ]
  },
  {
   "cell_type": "code",
   "execution_count": 14,
   "metadata": {},
   "outputs": [
    {
     "name": "stdout",
     "output_type": "stream",
     "text": [
      "x_train_one_hot:\n",
      " [[[0 1 0 0 0 0 0 0 0 0 0 0]\n",
      "  [0 0 0 1 0 0 0 0 0 0 0 0]\n",
      "  [0 0 0 0 0 0 0 0 0 0 1 0]\n",
      "  [0 0 0 0 0 0 0 0 1 0 0 0]\n",
      "  [0 0 0 0 0 0 0 0 0 0 0 1]\n",
      "  [0 0 0 0 0 0 0 0 0 0 0 1]\n",
      "  [0 0 0 0 0 0 0 0 0 0 0 1]]]\n",
      "\n",
      "y_train_one_hot:\n",
      " [[[0 0 1 0 0 0 0 0 0 0 0 0]\n",
      "  [0 1 0 0 0 0 0 0 0 0 0 0]\n",
      "  [0 0 0 0 0 0 0 0 0 0 0 1]]]\n"
     ]
    }
   ],
   "source": [
    "x_train_one_hot, y_train_one_hot = dataset_to_one_hot(\n",
    "    x_train_encoded,\n",
    "    y_train_encoded,\n",
    "    vocabulary\n",
    ")\n",
    "\n",
    "print('x_train_one_hot:\\n', np.array(x_train_one_hot[:1]))\n",
    "print()\n",
    "print('y_train_one_hot:\\n', np.array(y_train_one_hot[:1]))"
   ]
  },
  {
   "cell_type": "markdown",
   "metadata": {},
   "source": [
    "Now we may combine all the function together and create a one function that will do all the work to generate a dataset in the proper format for us."
   ]
  },
  {
   "cell_type": "code",
   "execution_count": 15,
   "metadata": {},
   "outputs": [],
   "source": [
    "# Generates a dataset.\n",
    "def generate_dataset(dataset_size, sequence_length, max_num, vocabulary):\n",
    "    # Generate integet sum sequences.\n",
    "    x, y = generate_sums(dataset_size, sequence_length, max_num)\n",
    "    # Convert integer sum sequences into strings.\n",
    "    x, y = dataset_to_strings(x, y, max_num)\n",
    "    # Encode each character to a char indices.\n",
    "    x, y = dataset_to_indices(x, y, vocabulary)\n",
    "    # Encode each index into one-hot vector.\n",
    "    x, y = dataset_to_one_hot(x, y, vocabulary)\n",
    "    # Return the data.\n",
    "    return np.array(x), np.array(y)"
   ]
  },
  {
   "cell_type": "code",
   "execution_count": 16,
   "metadata": {},
   "outputs": [
    {
     "name": "stdout",
     "output_type": "stream",
     "text": [
      "x:\n",
      " [[[0 0 1 0 0 0 0 0 0 0 0 0]\n",
      "  [0 0 0 1 0 0 0 0 0 0 0 0]\n",
      "  [0 0 0 0 0 0 0 0 0 0 1 0]\n",
      "  [0 0 0 1 0 0 0 0 0 0 0 0]\n",
      "  [0 0 0 0 0 0 0 0 1 0 0 0]\n",
      "  [0 0 0 0 0 0 0 0 0 0 0 1]\n",
      "  [0 0 0 0 0 0 0 0 0 0 0 1]]]\n",
      "\n",
      "y:\n",
      " [[[0 0 0 0 0 0 1 0 0 0 0 0]\n",
      "  [0 1 0 0 0 0 0 0 0 0 0 0]\n",
      "  [0 0 0 0 0 0 0 0 0 0 0 1]]]\n"
     ]
    }
   ],
   "source": [
    "x, y = generate_dataset(\n",
    "    dataset_size,\n",
    "    sequence_length,\n",
    "    max_num,\n",
    "    vocabulary\n",
    ")\n",
    "\n",
    "print('x:\\n', x[:1])\n",
    "print()\n",
    "print('y:\\n', y[:1])"
   ]
  },
  {
   "cell_type": "code",
   "execution_count": 17,
   "metadata": {},
   "outputs": [
    {
     "name": "stdout",
     "output_type": "stream",
     "text": [
      "x.shape:  (5000, 7, 12)\n",
      "y.shape:  (5000, 3, 12)\n"
     ]
    }
   ],
   "source": [
    "print('x.shape: ', x.shape) # (input_sequences_num, input_sequence_length, supported_symbols_num)\n",
    "print('y.shape: ', y.shape) # (output_sequences_num, output_sequence_length, supported_symbols_num)"
   ]
  },
  {
   "cell_type": "code",
   "execution_count": 19,
   "metadata": {},
   "outputs": [
    {
     "name": "stdout",
     "output_type": "stream",
     "text": [
      "input_sequence_length:  7\n",
      "output_sequence_length:  3\n",
      "supported_symbols_num:  12\n",
      "vocabulary_size:  12\n"
     ]
    }
   ],
   "source": [
    "# How many characters each summation expression has.\n",
    "input_sequence_length = x.shape[1]\n",
    "\n",
    "# How many characters the output sequence of the RNN has.\n",
    "output_sequence_length = y.shape[1]\n",
    "\n",
    "# The length of one-hot vector for each character in the input (should be the same as vocabulary_size).\n",
    "supported_symbols_num = x.shape[2]\n",
    "\n",
    "# The number of different characters our RNN network could work with (i.e. it understands only digits, \"+\" and \" \").\n",
    "vocabulary_size = len(vocabulary)\n",
    "\n",
    "print('input_sequence_length: ', input_sequence_length)\n",
    "print('output_sequence_length: ', output_sequence_length)\n",
    "print('supported_symbols_num: ', supported_symbols_num)\n",
    "print('vocabulary_size: ', vocabulary_size)"
   ]
  },
  {
   "cell_type": "code",
   "execution_count": 21,
   "metadata": {},
   "outputs": [],
   "source": [
    "# Converts a sequence (array) of one-hot encoded vectors back into the string based on the provided vocabulary.\n",
    "def decode(sequence, vocabulary):\n",
    "    index_to_char = {index: char for index, char in enumerate(vocabulary)}\n",
    "    strings = []\n",
    "    for char_vector in sequence:\n",
    "        char = index_to_char[np.argmax(char_vector)]\n",
    "        strings.append(char)\n",
    "    return ''.join(strings)"
   ]
  },
  {
   "cell_type": "code",
   "execution_count": 23,
   "metadata": {},
   "outputs": [
    {
     "data": {
      "text/plain": [
       "'61 '"
      ]
     },
     "execution_count": 23,
     "metadata": {},
     "output_type": "execute_result"
    }
   ],
   "source": [
    "decode(y[0], vocabulary)"
   ]
  },
  {
   "cell_type": "markdown",
   "metadata": {},
   "source": [
    "## Build a model"
   ]
  },
  {
   "cell_type": "markdown",
   "metadata": {},
   "source": [
    "We will use a [Sequential] TensorFlow model with [LSTM](https://www.tensorflow.org/api_docs/python/tf/keras/layers/LSTM) layers. Logically our model will consist of **encoder** and **decoder**. _Encoder_ will encode the input expression into an array of numbers. And then _decoder_ will try to build an output result sequence by decoding the array of numbers from encoder."
   ]
  },
  {
   "cell_type": "code",
   "execution_count": 40,
   "metadata": {},
   "outputs": [],
   "source": [
    "epochs_num = 200\n",
    "batch_size = 128"
   ]
  },
  {
   "cell_type": "code",
   "execution_count": 36,
   "metadata": {},
   "outputs": [],
   "source": [
    "model = tf.keras.models.Sequential()\n",
    "\n",
    "# Encoder\n",
    "# -------\n",
    "\n",
    "model.add(tf.keras.layers.LSTM(\n",
    "    units=128,\n",
    "    input_shape=(input_sequence_length, vocabulary_size),\n",
    "    recurrent_initializer=tf.keras.initializers.GlorotNormal()\n",
    "))\n",
    "\n",
    "# Decoder\n",
    "# -------\n",
    "\n",
    "# We need this layer to match the encoder output shape with decoder input shape.\n",
    "# Encoder outputs ONE vector of numbers but for decoder we need have output_sequence_length vectors.\n",
    "model.add(tf.keras.layers.RepeatVector(\n",
    "    n=output_sequence_length,\n",
    "))\n",
    "\n",
    "model.add(tf.keras.layers.LSTM(\n",
    "    units=128,\n",
    "    return_sequences=True,\n",
    "    recurrent_initializer=tf.keras.initializers.GlorotNormal()\n",
    "))\n",
    "\n",
    "model.add(tf.keras.layers.TimeDistributed(\n",
    "    layer=tf.keras.layers.Dense(\n",
    "        units=vocabulary_size,\n",
    "    )\n",
    "))\n",
    "\n",
    "model.add(tf.keras.layers.Activation(\n",
    "    activation='softmax'\n",
    "))"
   ]
  },
  {
   "cell_type": "code",
   "execution_count": 37,
   "metadata": {},
   "outputs": [
    {
     "name": "stdout",
     "output_type": "stream",
     "text": [
      "Model: \"sequential_1\"\n",
      "_________________________________________________________________\n",
      "Layer (type)                 Output Shape              Param #   \n",
      "=================================================================\n",
      "lstm_2 (LSTM)                (None, 128)               72192     \n",
      "_________________________________________________________________\n",
      "repeat_vector_1 (RepeatVecto (None, 3, 128)            0         \n",
      "_________________________________________________________________\n",
      "lstm_3 (LSTM)                (None, 3, 128)            131584    \n",
      "_________________________________________________________________\n",
      "time_distributed_1 (TimeDist (None, 3, 12)             1548      \n",
      "_________________________________________________________________\n",
      "activation_1 (Activation)    (None, 3, 12)             0         \n",
      "=================================================================\n",
      "Total params: 205,324\n",
      "Trainable params: 205,324\n",
      "Non-trainable params: 0\n",
      "_________________________________________________________________\n"
     ]
    }
   ],
   "source": [
    "model.summary()"
   ]
  },
  {
   "cell_type": "code",
   "execution_count": 38,
   "metadata": {},
   "outputs": [
    {
     "data": {
      "image/png": "[encoded data removed]",
      "text/plain": [
       "<IPython.core.display.Image object>"
      ]
     },
     "execution_count": 38,
     "metadata": {},
     "output_type": "execute_result"
    }
   ],
   "source": [
    "tf.keras.utils.plot_model(\n",
    "    model,\n",
    "    show_shapes=True,\n",
    "    show_layer_names=True,\n",
    ")"
   ]
  },
  {
   "cell_type": "markdown",
   "metadata": {},
   "source": [
    "## Train a model"
   ]
  },
  {
   "cell_type": "code",
   "execution_count": 39,
   "metadata": {},
   "outputs": [],
   "source": [
    "adam_optimizer = tf.keras.optimizers.Adam(learning_rate=0.001)\n",
    "model.compile(\n",
    "    optimizer=adam_optimizer,\n",
    "    loss=tf.keras.losses.categorical_crossentropy,\n",
    "    metrics=['accuracy']\n",
    ")"
   ]
  },
  {
   "cell_type": "code",
   "execution_count": 41,
   "metadata": {},
   "outputs": [
    {
     "name": "stdout",
     "output_type": "stream",
     "text": [
      "Train on 4500 samples, validate on 500 samples\n",
      "Epoch 1/200\n",
      "4500/4500 [==============================] - 8s 2ms/sample - loss: 2.2930 - accuracy: 0.2479 - val_loss: 2.0533 - val_accuracy: 0.3713\n",
      "Epoch 2/200\n",
      "4500/4500 [==============================] - 2s 459us/sample - loss: 1.9033 - accuracy: 0.3799 - val_loss: 1.8624 - val_accuracy: 0.3833\n",
      "Epoch 3/200\n",
      "4500/4500 [==============================] - 2s 400us/sample - loss: 1.8004 - accuracy: 0.3862 - val_loss: 1.7372 - val_accuracy: 0.3987\n",
      "Epoch 4/200\n",
      "4500/4500 [==============================] - 2s 460us/sample - loss: 1.7379 - accuracy: 0.3869 - val_loss: 1.7099 - val_accuracy: 0.3913\n",
      "Epoch 5/200\n",
      "4500/4500 [==============================] - 2s 409us/sample - loss: 1.7058 - accuracy: 0.3988 - val_loss: 1.7287 - val_accuracy: 0.3893\n",
      "Epoch 6/200\n",
      "4500/4500 [==============================] - 2s 457us/sample - loss: 1.6845 - accuracy: 0.4030 - val_loss: 1.6997 - val_accuracy: 0.3907\n",
      "Epoch 7/200\n",
      "4500/4500 [==============================] - 2s 432us/sample - loss: 1.6653 - accuracy: 0.4071 - val_loss: 1.6309 - val_accuracy: 0.4187\n",
      "Epoch 8/200\n",
      "4500/4500 [==============================] - 2s 435us/sample - loss: 1.6440 - accuracy: 0.4119 - val_loss: 1.6169 - val_accuracy: 0.4200\n",
      "Epoch 9/200\n",
      "4500/4500 [==============================] - 2s 424us/sample - loss: 1.6447 - accuracy: 0.4133 - val_loss: 1.6042 - val_accuracy: 0.4227\n",
      "Epoch 10/200\n",
      "4500/4500 [==============================] - 2s 476us/sample - loss: 1.6209 - accuracy: 0.4196 - val_loss: 1.6234 - val_accuracy: 0.4107\n",
      "Epoch 11/200\n",
      "4500/4500 [==============================] - 2s 404us/sample - loss: 1.6123 - accuracy: 0.4204 - val_loss: 1.5696 - val_accuracy: 0.4267\n",
      "Epoch 12/200\n",
      "4500/4500 [==============================] - 2s 447us/sample - loss: 1.5650 - accuracy: 0.4316 - val_loss: 1.5436 - val_accuracy: 0.4340\n",
      "Epoch 13/200\n",
      "4500/4500 [==============================] - 2s 431us/sample - loss: 1.5251 - accuracy: 0.4423 - val_loss: 1.5051 - val_accuracy: 0.4253\n",
      "Epoch 14/200\n",
      "4500/4500 [==============================] - 2s 472us/sample - loss: 1.4899 - accuracy: 0.4487 - val_loss: 1.4404 - val_accuracy: 0.4613\n",
      "Epoch 15/200\n",
      "4500/4500 [==============================] - 2s 423us/sample - loss: 1.4509 - accuracy: 0.4619 - val_loss: 1.4675 - val_accuracy: 0.4447\n",
      "Epoch 16/200\n",
      "4500/4500 [==============================] - 2s 417us/sample - loss: 1.4311 - accuracy: 0.4640 - val_loss: 1.3616 - val_accuracy: 0.4867\n",
      "Epoch 17/200\n",
      "4500/4500 [==============================] - 2s 447us/sample - loss: 1.3320 - accuracy: 0.5084 - val_loss: 1.3496 - val_accuracy: 0.4840\n",
      "Epoch 18/200\n",
      "4500/4500 [==============================] - 2s 439us/sample - loss: 1.3057 - accuracy: 0.5110 - val_loss: 1.3772 - val_accuracy: 0.4587\n",
      "Epoch 19/200\n",
      "4500/4500 [==============================] - 2s 441us/sample - loss: 1.3054 - accuracy: 0.5061 - val_loss: 1.2696 - val_accuracy: 0.5120\n",
      "Epoch 20/200\n",
      "4500/4500 [==============================] - 2s 474us/sample - loss: 1.2359 - accuracy: 0.5474 - val_loss: 1.2560 - val_accuracy: 0.5360\n",
      "Epoch 21/200\n",
      "4500/4500 [==============================] - 2s 440us/sample - loss: 1.2532 - accuracy: 0.5244 - val_loss: 1.2011 - val_accuracy: 0.5573\n",
      "Epoch 22/200\n",
      "4500/4500 [==============================] - 2s 474us/sample - loss: 1.1909 - accuracy: 0.5630 - val_loss: 1.1991 - val_accuracy: 0.5500\n",
      "Epoch 23/200\n",
      "4500/4500 [==============================] - 2s 453us/sample - loss: 1.1642 - accuracy: 0.5770 - val_loss: 1.1640 - val_accuracy: 0.5813\n",
      "Epoch 24/200\n",
      "4500/4500 [==============================] - 2s 430us/sample - loss: 1.1658 - accuracy: 0.5694 - val_loss: 1.2053 - val_accuracy: 0.5500\n",
      "Epoch 25/200\n",
      "4500/4500 [==============================] - 2s 447us/sample - loss: 1.1626 - accuracy: 0.5688 - val_loss: 1.1408 - val_accuracy: 0.5793\n",
      "Epoch 26/200\n",
      "4500/4500 [==============================] - 2s 463us/sample - loss: 1.1222 - accuracy: 0.5940 - val_loss: 1.1606 - val_accuracy: 0.5580\n",
      "Epoch 27/200\n",
      "4500/4500 [==============================] - 2s 422us/sample - loss: 1.1095 - accuracy: 0.5958 - val_loss: 1.1126 - val_accuracy: 0.6053\n",
      "Epoch 28/200\n",
      "4500/4500 [==============================] - 2s 468us/sample - loss: 1.0826 - accuracy: 0.6146 - val_loss: 1.1444 - val_accuracy: 0.5567\n",
      "Epoch 29/200\n",
      "4500/4500 [==============================] - 2s 438us/sample - loss: 1.0705 - accuracy: 0.6141 - val_loss: 1.0893 - val_accuracy: 0.5907\n",
      "Epoch 30/200\n",
      "4500/4500 [==============================] - 2s 463us/sample - loss: 1.0646 - accuracy: 0.6129 - val_loss: 1.1059 - val_accuracy: 0.5867\n",
      "Epoch 31/200\n",
      "4500/4500 [==============================] - 2s 443us/sample - loss: 1.1323 - accuracy: 0.5689 - val_loss: 1.1662 - val_accuracy: 0.5413\n",
      "Epoch 32/200\n",
      "4500/4500 [==============================] - 2s 424us/sample - loss: 1.0446 - accuracy: 0.6250 - val_loss: 1.0505 - val_accuracy: 0.6147\n",
      "Epoch 33/200\n",
      "4500/4500 [==============================] - 2s 438us/sample - loss: 1.0155 - accuracy: 0.6424 - val_loss: 1.0518 - val_accuracy: 0.6033\n",
      "Epoch 34/200\n",
      "4500/4500 [==============================] - 2s 444us/sample - loss: 1.0006 - accuracy: 0.6486 - val_loss: 1.0370 - val_accuracy: 0.6167\n",
      "Epoch 35/200\n",
      "4500/4500 [==============================] - 2s 435us/sample - loss: 1.0044 - accuracy: 0.6416 - val_loss: 1.0181 - val_accuracy: 0.6373\n",
      "Epoch 36/200\n",
      "4500/4500 [==============================] - 2s 437us/sample - loss: 0.9935 - accuracy: 0.6428 - val_loss: 1.0342 - val_accuracy: 0.6120\n",
      "Epoch 37/200\n",
      "4500/4500 [==============================] - 2s 482us/sample - loss: 0.9687 - accuracy: 0.6562 - val_loss: 0.9959 - val_accuracy: 0.6340\n",
      "Epoch 38/200\n",
      "4500/4500 [==============================] - 2s 471us/sample - loss: 0.9556 - accuracy: 0.6603 - val_loss: 1.0366 - val_accuracy: 0.5927\n",
      "Epoch 39/200\n",
      "4500/4500 [==============================] - 2s 448us/sample - loss: 0.9408 - accuracy: 0.6608 - val_loss: 1.0088 - val_accuracy: 0.6147\n",
      "Epoch 40/200\n",
      "4500/4500 [==============================] - 2s 451us/sample - loss: 0.9285 - accuracy: 0.6669 - val_loss: 0.9469 - val_accuracy: 0.6540\n",
      "Epoch 41/200\n",
      "4500/4500 [==============================] - 2s 447us/sample - loss: 0.9113 - accuracy: 0.6704 - val_loss: 0.9059 - val_accuracy: 0.6760\n",
      "Epoch 42/200\n",
      "4500/4500 [==============================] - 2s 455us/sample - loss: 0.8720 - accuracy: 0.6910 - val_loss: 0.8791 - val_accuracy: 0.6733\n",
      "Epoch 43/200\n",
      "4500/4500 [==============================] - 2s 448us/sample - loss: 0.8362 - accuracy: 0.7060 - val_loss: 0.8460 - val_accuracy: 0.6840\n",
      "Epoch 44/200\n",
      "4500/4500 [==============================] - 2s 447us/sample - loss: 0.8026 - accuracy: 0.7176 - val_loss: 0.8826 - val_accuracy: 0.6507\n",
      "Epoch 45/200\n",
      "4500/4500 [==============================] - 2s 467us/sample - loss: 0.7738 - accuracy: 0.7233 - val_loss: 0.8511 - val_accuracy: 0.6780\n",
      "Epoch 46/200\n",
      "4500/4500 [==============================] - 2s 453us/sample - loss: 0.7447 - accuracy: 0.7361 - val_loss: 0.7239 - val_accuracy: 0.7340\n",
      "Epoch 47/200\n",
      "4500/4500 [==============================] - 2s 457us/sample - loss: 0.7096 - accuracy: 0.7475 - val_loss: 0.7324 - val_accuracy: 0.7287\n",
      "Epoch 48/200\n",
      "4500/4500 [==============================] - 2s 439us/sample - loss: 0.7005 - accuracy: 0.7463 - val_loss: 0.6756 - val_accuracy: 0.7553\n",
      "Epoch 49/200\n",
      "4500/4500 [==============================] - 2s 436us/sample - loss: 0.6217 - accuracy: 0.7928 - val_loss: 0.6261 - val_accuracy: 0.7773\n",
      "Epoch 50/200\n",
      "4500/4500 [==============================] - 2s 443us/sample - loss: 0.5930 - accuracy: 0.8029 - val_loss: 0.5873 - val_accuracy: 0.7980\n",
      "Epoch 51/200\n",
      "4500/4500 [==============================] - 2s 451us/sample - loss: 0.5963 - accuracy: 0.7967 - val_loss: 0.6121 - val_accuracy: 0.7773\n",
      "Epoch 52/200\n",
      "4500/4500 [==============================] - 2s 449us/sample - loss: 0.5504 - accuracy: 0.8227 - val_loss: 0.5434 - val_accuracy: 0.7947\n",
      "Epoch 53/200\n",
      "4500/4500 [==============================] - 2s 446us/sample - loss: 0.5178 - accuracy: 0.8358 - val_loss: 0.5201 - val_accuracy: 0.8213\n",
      "Epoch 54/200\n",
      "4500/4500 [==============================] - 2s 444us/sample - loss: 0.4863 - accuracy: 0.8534 - val_loss: 0.4740 - val_accuracy: 0.8500\n",
      "Epoch 55/200\n"
     ]
    },
    {
     "name": "stdout",
     "output_type": "stream",
     "text": [
      "4500/4500 [==============================] - 2s 415us/sample - loss: 0.4492 - accuracy: 0.8778 - val_loss: 0.4445 - val_accuracy: 0.8700\n",
      "Epoch 56/200\n",
      "4500/4500 [==============================] - 2s 432us/sample - loss: 0.4139 - accuracy: 0.8975 - val_loss: 0.4307 - val_accuracy: 0.8773\n",
      "Epoch 57/200\n",
      "4500/4500 [==============================] - 2s 433us/sample - loss: 0.4047 - accuracy: 0.8987 - val_loss: 0.5020 - val_accuracy: 0.7740\n",
      "Epoch 58/200\n",
      "4500/4500 [==============================] - 2s 424us/sample - loss: 0.4006 - accuracy: 0.8915 - val_loss: 0.3928 - val_accuracy: 0.8867\n",
      "Epoch 59/200\n",
      "4500/4500 [==============================] - 2s 452us/sample - loss: 0.3558 - accuracy: 0.9213 - val_loss: 0.3860 - val_accuracy: 0.8860\n",
      "Epoch 60/200\n",
      "4500/4500 [==============================] - 2s 461us/sample - loss: 0.3537 - accuracy: 0.9148 - val_loss: 0.3938 - val_accuracy: 0.8813\n",
      "Epoch 61/200\n",
      "4500/4500 [==============================] - 2s 434us/sample - loss: 0.3238 - accuracy: 0.9331 - val_loss: 0.3491 - val_accuracy: 0.8960\n",
      "Epoch 62/200\n",
      "4500/4500 [==============================] - 2s 466us/sample - loss: 0.3023 - accuracy: 0.9401 - val_loss: 0.3393 - val_accuracy: 0.9127\n",
      "Epoch 63/200\n",
      "4500/4500 [==============================] - 2s 449us/sample - loss: 0.2975 - accuracy: 0.9385 - val_loss: 0.3184 - val_accuracy: 0.9160\n",
      "Epoch 64/200\n",
      "4500/4500 [==============================] - 2s 445us/sample - loss: 0.2785 - accuracy: 0.9488 - val_loss: 0.3021 - val_accuracy: 0.9233\n",
      "Epoch 65/200\n",
      "4500/4500 [==============================] - 2s 449us/sample - loss: 0.2612 - accuracy: 0.9524 - val_loss: 0.5171 - val_accuracy: 0.7860\n",
      "Epoch 66/200\n",
      "4500/4500 [==============================] - 2s 497us/sample - loss: 0.3166 - accuracy: 0.9116 - val_loss: 0.2743 - val_accuracy: 0.9367\n",
      "Epoch 67/200\n",
      "4500/4500 [==============================] - 2s 458us/sample - loss: 0.2358 - accuracy: 0.9618 - val_loss: 0.2527 - val_accuracy: 0.9433\n",
      "Epoch 68/200\n",
      "4500/4500 [==============================] - 2s 450us/sample - loss: 0.2471 - accuracy: 0.9491 - val_loss: 0.2708 - val_accuracy: 0.9240\n",
      "Epoch 69/200\n",
      "4500/4500 [==============================] - 2s 461us/sample - loss: 0.2250 - accuracy: 0.9600 - val_loss: 0.2380 - val_accuracy: 0.9507\n",
      "Epoch 70/200\n",
      "4500/4500 [==============================] - 2s 449us/sample - loss: 0.2030 - accuracy: 0.9704 - val_loss: 0.2164 - val_accuracy: 0.9533\n",
      "Epoch 71/200\n",
      "4500/4500 [==============================] - 2s 453us/sample - loss: 0.1943 - accuracy: 0.9716 - val_loss: 0.2124 - val_accuracy: 0.9600\n",
      "Epoch 72/200\n",
      "4500/4500 [==============================] - 2s 465us/sample - loss: 0.1881 - accuracy: 0.9717 - val_loss: 0.2378 - val_accuracy: 0.9327\n",
      "Epoch 73/200\n",
      "4500/4500 [==============================] - 2s 457us/sample - loss: 0.1863 - accuracy: 0.9690 - val_loss: 0.2202 - val_accuracy: 0.9447\n",
      "Epoch 74/200\n",
      "4500/4500 [==============================] - 2s 462us/sample - loss: 0.2235 - accuracy: 0.9444 - val_loss: 0.4629 - val_accuracy: 0.8333\n",
      "Epoch 75/200\n",
      "4500/4500 [==============================] - 2s 446us/sample - loss: 0.3085 - accuracy: 0.8993 - val_loss: 0.2107 - val_accuracy: 0.9473\n",
      "Epoch 76/200\n",
      "4500/4500 [==============================] - 2s 457us/sample - loss: 0.1661 - accuracy: 0.9763 - val_loss: 0.1887 - val_accuracy: 0.9580\n",
      "Epoch 77/200\n",
      "4500/4500 [==============================] - 2s 458us/sample - loss: 0.1565 - accuracy: 0.9762 - val_loss: 0.1622 - val_accuracy: 0.9687\n",
      "Epoch 78/200\n",
      "4500/4500 [==============================] - 2s 455us/sample - loss: 0.1454 - accuracy: 0.9815 - val_loss: 0.1684 - val_accuracy: 0.9633\n",
      "Epoch 79/200\n",
      "4500/4500 [==============================] - 2s 448us/sample - loss: 0.1383 - accuracy: 0.9821 - val_loss: 0.1486 - val_accuracy: 0.9707\n",
      "Epoch 80/200\n",
      "4500/4500 [==============================] - 2s 452us/sample - loss: 0.1317 - accuracy: 0.9816 - val_loss: 0.1482 - val_accuracy: 0.9667\n",
      "Epoch 81/200\n",
      "4500/4500 [==============================] - 2s 449us/sample - loss: 0.1292 - accuracy: 0.9830 - val_loss: 0.1407 - val_accuracy: 0.9733\n",
      "Epoch 82/200\n",
      "4500/4500 [==============================] - 2s 456us/sample - loss: 0.1207 - accuracy: 0.9858 - val_loss: 0.1528 - val_accuracy: 0.9640\n",
      "Epoch 83/200\n",
      "4500/4500 [==============================] - 2s 448us/sample - loss: 0.1163 - accuracy: 0.9851 - val_loss: 0.1249 - val_accuracy: 0.9773\n",
      "Epoch 84/200\n",
      "4500/4500 [==============================] - 2s 438us/sample - loss: 0.1116 - accuracy: 0.9856 - val_loss: 0.1325 - val_accuracy: 0.9747\n",
      "Epoch 85/200\n",
      "4500/4500 [==============================] - 2s 461us/sample - loss: 0.1092 - accuracy: 0.9862 - val_loss: 0.1177 - val_accuracy: 0.9787\n",
      "Epoch 86/200\n",
      "4500/4500 [==============================] - 2s 441us/sample - loss: 0.1059 - accuracy: 0.9854 - val_loss: 0.2869 - val_accuracy: 0.9080\n",
      "Epoch 87/200\n",
      "4500/4500 [==============================] - 2s 445us/sample - loss: 0.3350 - accuracy: 0.8779 - val_loss: 0.2220 - val_accuracy: 0.9247\n",
      "Epoch 88/200\n",
      "4500/4500 [==============================] - 2s 461us/sample - loss: 0.1326 - accuracy: 0.9739 - val_loss: 0.1141 - val_accuracy: 0.9780\n",
      "Epoch 89/200\n",
      "4500/4500 [==============================] - 2s 445us/sample - loss: 0.0937 - accuracy: 0.9891 - val_loss: 0.1026 - val_accuracy: 0.9813\n",
      "Epoch 90/200\n",
      "4500/4500 [==============================] - 2s 454us/sample - loss: 0.0895 - accuracy: 0.9901 - val_loss: 0.1041 - val_accuracy: 0.9780\n",
      "Epoch 91/200\n",
      "4500/4500 [==============================] - 2s 445us/sample - loss: 0.0865 - accuracy: 0.9888 - val_loss: 0.0998 - val_accuracy: 0.9787\n",
      "Epoch 92/200\n",
      "4500/4500 [==============================] - 2s 458us/sample - loss: 0.0836 - accuracy: 0.9893 - val_loss: 0.0929 - val_accuracy: 0.9827\n",
      "Epoch 93/200\n",
      "4500/4500 [==============================] - 2s 456us/sample - loss: 0.0778 - accuracy: 0.9915 - val_loss: 0.0953 - val_accuracy: 0.9787\n",
      "Epoch 94/200\n",
      "4500/4500 [==============================] - 2s 443us/sample - loss: 0.0766 - accuracy: 0.9913 - val_loss: 0.1002 - val_accuracy: 0.9753\n",
      "Epoch 95/200\n",
      "4500/4500 [==============================] - 2s 456us/sample - loss: 0.0735 - accuracy: 0.9917 - val_loss: 0.0862 - val_accuracy: 0.9833\n",
      "Epoch 96/200\n",
      "4500/4500 [==============================] - 2s 459us/sample - loss: 0.0735 - accuracy: 0.9903 - val_loss: 0.0802 - val_accuracy: 0.9867\n",
      "Epoch 97/200\n",
      "4500/4500 [==============================] - 2s 459us/sample - loss: 0.0696 - accuracy: 0.9913 - val_loss: 0.0973 - val_accuracy: 0.9760\n",
      "Epoch 98/200\n",
      "4500/4500 [==============================] - 2s 455us/sample - loss: 0.0733 - accuracy: 0.9901 - val_loss: 0.0851 - val_accuracy: 0.9847\n",
      "Epoch 99/200\n",
      "4500/4500 [==============================] - 2s 461us/sample - loss: 0.0676 - accuracy: 0.9913 - val_loss: 0.0751 - val_accuracy: 0.9813\n",
      "Epoch 100/200\n",
      "4500/4500 [==============================] - 2s 456us/sample - loss: 0.1345 - accuracy: 0.9639 - val_loss: 0.1346 - val_accuracy: 0.9560\n",
      "Epoch 101/200\n",
      "4500/4500 [==============================] - 2s 446us/sample - loss: 0.1474 - accuracy: 0.9577 - val_loss: 0.1433 - val_accuracy: 0.9547\n",
      "Epoch 102/200\n",
      "4500/4500 [==============================] - 2s 453us/sample - loss: 0.0742 - accuracy: 0.9882 - val_loss: 0.0731 - val_accuracy: 0.9867\n",
      "Epoch 103/200\n",
      "4500/4500 [==============================] - 2s 452us/sample - loss: 0.0632 - accuracy: 0.9911 - val_loss: 0.0677 - val_accuracy: 0.9867\n",
      "Epoch 104/200\n",
      "4500/4500 [==============================] - 2s 476us/sample - loss: 0.0540 - accuracy: 0.9939 - val_loss: 0.0618 - val_accuracy: 0.9933\n",
      "Epoch 105/200\n",
      "4500/4500 [==============================] - 2s 442us/sample - loss: 0.0506 - accuracy: 0.9953 - val_loss: 0.0635 - val_accuracy: 0.9893\n",
      "Epoch 106/200\n",
      "4500/4500 [==============================] - 2s 459us/sample - loss: 0.0498 - accuracy: 0.9950 - val_loss: 0.0598 - val_accuracy: 0.9887\n",
      "Epoch 107/200\n",
      "4500/4500 [==============================] - 2s 449us/sample - loss: 0.0471 - accuracy: 0.9956 - val_loss: 0.0567 - val_accuracy: 0.9920\n",
      "Epoch 108/200\n",
      "4500/4500 [==============================] - 2s 455us/sample - loss: 0.0455 - accuracy: 0.9956 - val_loss: 0.0586 - val_accuracy: 0.9900\n",
      "Epoch 109/200\n"
     ]
    },
    {
     "name": "stdout",
     "output_type": "stream",
     "text": [
      "4500/4500 [==============================] - 2s 466us/sample - loss: 0.0442 - accuracy: 0.9959 - val_loss: 0.0570 - val_accuracy: 0.9893\n",
      "Epoch 110/200\n",
      "4500/4500 [==============================] - 2s 473us/sample - loss: 0.0429 - accuracy: 0.9959 - val_loss: 0.0570 - val_accuracy: 0.9913\n",
      "Epoch 111/200\n",
      "4500/4500 [==============================] - 2s 419us/sample - loss: 0.0424 - accuracy: 0.9954 - val_loss: 0.0530 - val_accuracy: 0.9913\n",
      "Epoch 112/200\n",
      "4500/4500 [==============================] - 2s 426us/sample - loss: 0.0402 - accuracy: 0.9966 - val_loss: 0.0588 - val_accuracy: 0.9893\n",
      "Epoch 113/200\n",
      "4500/4500 [==============================] - 2s 435us/sample - loss: 0.0398 - accuracy: 0.9962 - val_loss: 0.0496 - val_accuracy: 0.9907\n",
      "Epoch 114/200\n",
      "4500/4500 [==============================] - 2s 449us/sample - loss: 0.0390 - accuracy: 0.9955 - val_loss: 0.0485 - val_accuracy: 0.9913\n",
      "Epoch 115/200\n",
      "4500/4500 [==============================] - 2s 437us/sample - loss: 0.0389 - accuracy: 0.9953 - val_loss: 0.0467 - val_accuracy: 0.9933\n",
      "Epoch 116/200\n",
      "4500/4500 [==============================] - 2s 455us/sample - loss: 0.0371 - accuracy: 0.9963 - val_loss: 0.0450 - val_accuracy: 0.9927\n",
      "Epoch 117/200\n",
      "4500/4500 [==============================] - 2s 456us/sample - loss: 0.0381 - accuracy: 0.9950 - val_loss: 0.0515 - val_accuracy: 0.9900\n",
      "Epoch 118/200\n",
      "4500/4500 [==============================] - 2s 459us/sample - loss: 0.0357 - accuracy: 0.9964 - val_loss: 0.0493 - val_accuracy: 0.9913\n",
      "Epoch 119/200\n",
      "4500/4500 [==============================] - 2s 451us/sample - loss: 0.0335 - accuracy: 0.9965 - val_loss: 0.0529 - val_accuracy: 0.9860\n",
      "Epoch 120/200\n",
      "4500/4500 [==============================] - 2s 449us/sample - loss: 0.3610 - accuracy: 0.8893 - val_loss: 0.2695 - val_accuracy: 0.8940\n",
      "Epoch 121/200\n",
      "4500/4500 [==============================] - 2s 467us/sample - loss: 0.1198 - accuracy: 0.9644 - val_loss: 0.0584 - val_accuracy: 0.9887\n",
      "Epoch 122/200\n",
      "4500/4500 [==============================] - 2s 468us/sample - loss: 0.0399 - accuracy: 0.9960 - val_loss: 0.0431 - val_accuracy: 0.9940\n",
      "Epoch 123/200\n",
      "4500/4500 [==============================] - 2s 447us/sample - loss: 0.0319 - accuracy: 0.9973 - val_loss: 0.0420 - val_accuracy: 0.9933\n",
      "Epoch 124/200\n",
      "4500/4500 [==============================] - 2s 448us/sample - loss: 0.0296 - accuracy: 0.9979 - val_loss: 0.0398 - val_accuracy: 0.9947\n",
      "Epoch 125/200\n",
      "4500/4500 [==============================] - 2s 451us/sample - loss: 0.0287 - accuracy: 0.9979 - val_loss: 0.0398 - val_accuracy: 0.9953\n",
      "Epoch 126/200\n",
      "4500/4500 [==============================] - 2s 455us/sample - loss: 0.0272 - accuracy: 0.9979 - val_loss: 0.0380 - val_accuracy: 0.9920\n",
      "Epoch 127/200\n",
      "4500/4500 [==============================] - 2s 453us/sample - loss: 0.0261 - accuracy: 0.9982 - val_loss: 0.0355 - val_accuracy: 0.9947\n",
      "Epoch 128/200\n",
      "4500/4500 [==============================] - 2s 432us/sample - loss: 0.0273 - accuracy: 0.9976 - val_loss: 0.0356 - val_accuracy: 0.9933\n",
      "Epoch 129/200\n",
      "4500/4500 [==============================] - 2s 454us/sample - loss: 0.0251 - accuracy: 0.9983 - val_loss: 0.0357 - val_accuracy: 0.9933\n",
      "Epoch 130/200\n",
      "4500/4500 [==============================] - 2s 455us/sample - loss: 0.0261 - accuracy: 0.9976 - val_loss: 0.0349 - val_accuracy: 0.9960\n",
      "Epoch 131/200\n",
      "4500/4500 [==============================] - 2s 439us/sample - loss: 0.0238 - accuracy: 0.9984 - val_loss: 0.0354 - val_accuracy: 0.9947\n",
      "Epoch 132/200\n",
      "4500/4500 [==============================] - 2s 452us/sample - loss: 0.0228 - accuracy: 0.9979 - val_loss: 0.0350 - val_accuracy: 0.9953\n",
      "Epoch 133/200\n",
      "4500/4500 [==============================] - 2s 452us/sample - loss: 0.0221 - accuracy: 0.9984 - val_loss: 0.0323 - val_accuracy: 0.9933\n",
      "Epoch 134/200\n",
      "4500/4500 [==============================] - 2s 452us/sample - loss: 0.0219 - accuracy: 0.9985 - val_loss: 0.0323 - val_accuracy: 0.9940\n",
      "Epoch 135/200\n",
      "4500/4500 [==============================] - 2s 439us/sample - loss: 0.0205 - accuracy: 0.9987 - val_loss: 0.0322 - val_accuracy: 0.9933\n",
      "Epoch 136/200\n",
      "4500/4500 [==============================] - 2s 449us/sample - loss: 0.0199 - accuracy: 0.9988 - val_loss: 0.0334 - val_accuracy: 0.9913\n",
      "Epoch 137/200\n",
      "4500/4500 [==============================] - 2s 459us/sample - loss: 0.0216 - accuracy: 0.9978 - val_loss: 0.0314 - val_accuracy: 0.9940\n",
      "Epoch 138/200\n",
      "4500/4500 [==============================] - 2s 437us/sample - loss: 0.0196 - accuracy: 0.9985 - val_loss: 0.0288 - val_accuracy: 0.9960\n",
      "Epoch 139/200\n",
      "4500/4500 [==============================] - 2s 456us/sample - loss: 0.0211 - accuracy: 0.9980 - val_loss: 0.0282 - val_accuracy: 0.9947\n",
      "Epoch 140/200\n",
      "4500/4500 [==============================] - 2s 458us/sample - loss: 0.0192 - accuracy: 0.9984 - val_loss: 0.0325 - val_accuracy: 0.9927\n",
      "Epoch 141/200\n",
      "4500/4500 [==============================] - 2s 453us/sample - loss: 0.0186 - accuracy: 0.9981 - val_loss: 0.0278 - val_accuracy: 0.9953\n",
      "Epoch 142/200\n",
      "4500/4500 [==============================] - 2s 442us/sample - loss: 0.0178 - accuracy: 0.9986 - val_loss: 0.0314 - val_accuracy: 0.9927\n",
      "Epoch 143/200\n",
      "4500/4500 [==============================] - 2s 443us/sample - loss: 0.0184 - accuracy: 0.9985 - val_loss: 0.0290 - val_accuracy: 0.9927\n",
      "Epoch 144/200\n",
      "4500/4500 [==============================] - 2s 448us/sample - loss: 0.0185 - accuracy: 0.9983 - val_loss: 0.0291 - val_accuracy: 0.9927\n",
      "Epoch 145/200\n",
      "4500/4500 [==============================] - 2s 455us/sample - loss: 0.0168 - accuracy: 0.9987 - val_loss: 0.0278 - val_accuracy: 0.9940\n",
      "Epoch 146/200\n",
      "4500/4500 [==============================] - 2s 447us/sample - loss: 0.0151 - accuracy: 0.9993 - val_loss: 0.0256 - val_accuracy: 0.9947\n",
      "Epoch 147/200\n",
      "4500/4500 [==============================] - 2s 447us/sample - loss: 0.0148 - accuracy: 0.9995 - val_loss: 0.0285 - val_accuracy: 0.9927\n",
      "Epoch 148/200\n",
      "4500/4500 [==============================] - 2s 444us/sample - loss: 0.0730 - accuracy: 0.9780 - val_loss: 0.2321 - val_accuracy: 0.9167\n",
      "Epoch 149/200\n",
      "4500/4500 [==============================] - 2s 447us/sample - loss: 0.2092 - accuracy: 0.9303 - val_loss: 0.2212 - val_accuracy: 0.9227\n",
      "Epoch 150/200\n",
      "4500/4500 [==============================] - 2s 435us/sample - loss: 0.1013 - accuracy: 0.9671 - val_loss: 0.0573 - val_accuracy: 0.9853\n",
      "Epoch 151/200\n",
      "4500/4500 [==============================] - 2s 442us/sample - loss: 0.0357 - accuracy: 0.9929 - val_loss: 0.0421 - val_accuracy: 0.9873\n",
      "Epoch 152/200\n",
      "4500/4500 [==============================] - 2s 430us/sample - loss: 0.0199 - accuracy: 0.9983 - val_loss: 0.0263 - val_accuracy: 0.9953\n",
      "Epoch 153/200\n",
      "4500/4500 [==============================] - 2s 439us/sample - loss: 0.0159 - accuracy: 0.9990 - val_loss: 0.0266 - val_accuracy: 0.9947\n",
      "Epoch 154/200\n",
      "4500/4500 [==============================] - 2s 449us/sample - loss: 0.0156 - accuracy: 0.9987 - val_loss: 0.0232 - val_accuracy: 0.9960\n",
      "Epoch 155/200\n",
      "4500/4500 [==============================] - 2s 445us/sample - loss: 0.0140 - accuracy: 0.9995 - val_loss: 0.0241 - val_accuracy: 0.9947\n",
      "Epoch 156/200\n",
      "4500/4500 [==============================] - 2s 442us/sample - loss: 0.0133 - accuracy: 0.9996 - val_loss: 0.0221 - val_accuracy: 0.9967\n",
      "Epoch 157/200\n",
      "4500/4500 [==============================] - 2s 452us/sample - loss: 0.0139 - accuracy: 0.9988 - val_loss: 0.0245 - val_accuracy: 0.9947\n",
      "Epoch 158/200\n",
      "4500/4500 [==============================] - 2s 443us/sample - loss: 0.0128 - accuracy: 0.9993 - val_loss: 0.0228 - val_accuracy: 0.9947\n",
      "Epoch 159/200\n",
      "4500/4500 [==============================] - 2s 463us/sample - loss: 0.0127 - accuracy: 0.9991 - val_loss: 0.0234 - val_accuracy: 0.9947\n",
      "Epoch 160/200\n",
      "4500/4500 [==============================] - 2s 454us/sample - loss: 0.0117 - accuracy: 0.9996 - val_loss: 0.0204 - val_accuracy: 0.9967\n",
      "Epoch 161/200\n",
      "4500/4500 [==============================] - 2s 472us/sample - loss: 0.0117 - accuracy: 0.9993 - val_loss: 0.0235 - val_accuracy: 0.9940\n",
      "Epoch 162/200\n",
      "4500/4500 [==============================] - 2s 445us/sample - loss: 0.0113 - accuracy: 0.9994 - val_loss: 0.0206 - val_accuracy: 0.9953\n",
      "Epoch 163/200\n"
     ]
    },
    {
     "name": "stdout",
     "output_type": "stream",
     "text": [
      "4500/4500 [==============================] - 2s 378us/sample - loss: 0.0115 - accuracy: 0.9995 - val_loss: 0.0215 - val_accuracy: 0.9940\n",
      "Epoch 164/200\n",
      "4500/4500 [==============================] - 2s 462us/sample - loss: 0.0105 - accuracy: 0.9996 - val_loss: 0.0218 - val_accuracy: 0.9953\n",
      "Epoch 165/200\n",
      "4500/4500 [==============================] - 2s 427us/sample - loss: 0.0110 - accuracy: 0.9996 - val_loss: 0.0191 - val_accuracy: 0.9967\n",
      "Epoch 166/200\n",
      "4500/4500 [==============================] - 2s 424us/sample - loss: 0.0101 - accuracy: 0.9996 - val_loss: 0.0198 - val_accuracy: 0.9960\n",
      "Epoch 167/200\n",
      "4500/4500 [==============================] - 2s 422us/sample - loss: 0.0097 - accuracy: 0.9999 - val_loss: 0.0196 - val_accuracy: 0.9960\n",
      "Epoch 168/200\n",
      "4500/4500 [==============================] - 2s 456us/sample - loss: 0.0094 - accuracy: 0.9996 - val_loss: 0.0205 - val_accuracy: 0.9947\n",
      "Epoch 169/200\n",
      "4500/4500 [==============================] - 2s 453us/sample - loss: 0.0120 - accuracy: 0.9987 - val_loss: 0.0204 - val_accuracy: 0.9953\n",
      "Epoch 170/200\n",
      "4500/4500 [==============================] - 2s 504us/sample - loss: 0.0102 - accuracy: 0.9993 - val_loss: 0.0192 - val_accuracy: 0.9960\n",
      "Epoch 171/200\n",
      "4500/4500 [==============================] - 2s 443us/sample - loss: 0.0098 - accuracy: 0.9995 - val_loss: 0.0192 - val_accuracy: 0.9960\n",
      "Epoch 172/200\n",
      "4500/4500 [==============================] - 2s 438us/sample - loss: 0.0087 - accuracy: 0.9997 - val_loss: 0.0188 - val_accuracy: 0.9953\n",
      "Epoch 173/200\n",
      "4500/4500 [==============================] - 2s 438us/sample - loss: 0.0085 - accuracy: 0.9999 - val_loss: 0.0173 - val_accuracy: 0.9960\n",
      "Epoch 174/200\n",
      "4500/4500 [==============================] - 2s 486us/sample - loss: 0.0083 - accuracy: 0.9997 - val_loss: 0.0178 - val_accuracy: 0.9940\n",
      "Epoch 175/200\n",
      "4500/4500 [==============================] - 2s 491us/sample - loss: 0.0084 - accuracy: 0.9996 - val_loss: 0.0170 - val_accuracy: 0.9960\n",
      "Epoch 176/200\n",
      "4500/4500 [==============================] - 2s 450us/sample - loss: 0.0078 - accuracy: 0.9999 - val_loss: 0.0163 - val_accuracy: 0.9967\n",
      "Epoch 177/200\n",
      "4500/4500 [==============================] - 2s 450us/sample - loss: 0.0077 - accuracy: 0.9998 - val_loss: 0.0159 - val_accuracy: 0.9960\n",
      "Epoch 178/200\n",
      "4500/4500 [==============================] - 2s 440us/sample - loss: 0.0081 - accuracy: 0.9998 - val_loss: 0.0176 - val_accuracy: 0.9953\n",
      "Epoch 179/200\n",
      "4500/4500 [==============================] - 2s 452us/sample - loss: 0.0093 - accuracy: 0.9993 - val_loss: 0.0181 - val_accuracy: 0.9960\n",
      "Epoch 180/200\n",
      "4500/4500 [==============================] - 2s 444us/sample - loss: 0.0081 - accuracy: 0.9997 - val_loss: 0.0163 - val_accuracy: 0.9967\n",
      "Epoch 181/200\n",
      "4500/4500 [==============================] - 2s 458us/sample - loss: 0.0070 - accuracy: 0.9999 - val_loss: 0.0164 - val_accuracy: 0.9953\n",
      "Epoch 182/200\n",
      "4500/4500 [==============================] - 2s 443us/sample - loss: 0.0068 - accuracy: 0.9999 - val_loss: 0.0154 - val_accuracy: 0.9960\n",
      "Epoch 183/200\n",
      "4500/4500 [==============================] - 2s 448us/sample - loss: 0.0066 - accuracy: 0.9999 - val_loss: 0.0151 - val_accuracy: 0.9960\n",
      "Epoch 184/200\n",
      "4500/4500 [==============================] - 2s 452us/sample - loss: 0.0070 - accuracy: 0.9998 - val_loss: 0.0213 - val_accuracy: 0.9927\n",
      "Epoch 185/200\n",
      "4500/4500 [==============================] - 2s 454us/sample - loss: 0.0127 - accuracy: 0.9976 - val_loss: 0.0546 - val_accuracy: 0.9813\n",
      "Epoch 186/200\n",
      "4500/4500 [==============================] - 2s 459us/sample - loss: 0.5043 - accuracy: 0.8632 - val_loss: 0.2668 - val_accuracy: 0.9013\n",
      "Epoch 187/200\n",
      "4500/4500 [==============================] - 2s 450us/sample - loss: 0.1338 - accuracy: 0.9562 - val_loss: 0.0905 - val_accuracy: 0.9667\n",
      "Epoch 188/200\n",
      "4500/4500 [==============================] - 2s 447us/sample - loss: 0.0397 - accuracy: 0.9921 - val_loss: 0.0283 - val_accuracy: 0.9960\n",
      "Epoch 189/200\n",
      "4500/4500 [==============================] - 2s 444us/sample - loss: 0.0150 - accuracy: 0.9994 - val_loss: 0.0228 - val_accuracy: 0.9960\n",
      "Epoch 190/200\n",
      "4500/4500 [==============================] - 2s 461us/sample - loss: 0.0121 - accuracy: 0.9996 - val_loss: 0.0205 - val_accuracy: 0.9960\n",
      "Epoch 191/200\n",
      "4500/4500 [==============================] - 2s 441us/sample - loss: 0.0107 - accuracy: 0.9997 - val_loss: 0.0201 - val_accuracy: 0.9953\n",
      "Epoch 192/200\n",
      "4500/4500 [==============================] - 2s 437us/sample - loss: 0.0098 - accuracy: 0.9999 - val_loss: 0.0181 - val_accuracy: 0.9967\n",
      "Epoch 193/200\n",
      "4500/4500 [==============================] - 2s 453us/sample - loss: 0.0091 - accuracy: 0.9999 - val_loss: 0.0174 - val_accuracy: 0.9967\n",
      "Epoch 194/200\n",
      "4500/4500 [==============================] - 2s 436us/sample - loss: 0.0085 - accuracy: 0.9999 - val_loss: 0.0175 - val_accuracy: 0.9960\n",
      "Epoch 195/200\n",
      "4500/4500 [==============================] - 2s 450us/sample - loss: 0.0082 - accuracy: 0.9999 - val_loss: 0.0165 - val_accuracy: 0.9973\n",
      "Epoch 196/200\n",
      "4500/4500 [==============================] - 2s 439us/sample - loss: 0.0077 - accuracy: 0.9999 - val_loss: 0.0161 - val_accuracy: 0.9973\n",
      "Epoch 197/200\n",
      "4500/4500 [==============================] - 2s 452us/sample - loss: 0.0076 - accuracy: 0.9999 - val_loss: 0.0160 - val_accuracy: 0.9973\n",
      "Epoch 198/200\n",
      "4500/4500 [==============================] - 2s 467us/sample - loss: 0.0073 - accuracy: 0.9999 - val_loss: 0.0154 - val_accuracy: 0.9973\n",
      "Epoch 199/200\n",
      "4500/4500 [==============================] - 2s 473us/sample - loss: 0.0071 - accuracy: 1.0000 - val_loss: 0.0153 - val_accuracy: 0.9973\n",
      "Epoch 200/200\n",
      "4500/4500 [==============================] - 2s 459us/sample - loss: 0.0068 - accuracy: 0.9999 - val_loss: 0.0151 - val_accuracy: 0.9967\n"
     ]
    }
   ],
   "source": [
    "history = model.fit(\n",
    "    x=x,\n",
    "    y=y,\n",
    "    epochs=epochs_num,\n",
    "    batch_size=batch_size,\n",
    "    validation_split=0.1\n",
    ")"
   ]
  },
  {
   "cell_type": "code",
   "execution_count": 42,
   "metadata": {},
   "outputs": [],
   "source": [
    "# Renders the charts for training accuracy and loss.\n",
    "def render_training_history(training_history):\n",
    "    loss = training_history.history['loss']\n",
    "    val_loss = training_history.history['val_loss']\n",
    "\n",
    "    accuracy = training_history.history['accuracy']\n",
    "    val_accuracy = training_history.history['val_accuracy']\n",
    "\n",
    "    plt.figure(figsize=(14, 4))\n",
    "\n",
    "    plt.subplot(1, 2, 1)\n",
    "    plt.title('Loss')\n",
    "    plt.xlabel('Epoch')\n",
    "    plt.ylabel('Loss')\n",
    "    plt.plot(loss, label='Training set')\n",
    "    plt.plot(val_loss, label='Test set', linestyle='--')\n",
    "    plt.legend()\n",
    "    plt.grid(linestyle='--', linewidth=1, alpha=0.5)\n",
    "\n",
    "    plt.subplot(1, 2, 2)\n",
    "    plt.title('Accuracy')\n",
    "    plt.xlabel('Epoch')\n",
    "    plt.ylabel('Accuracy')\n",
    "    plt.plot(accuracy, label='Training set')\n",
    "    plt.plot(val_accuracy, label='Test set', linestyle='--')\n",
    "    plt.legend()\n",
    "    plt.grid(linestyle='--', linewidth=1, alpha=0.5)\n",
    "\n",
    "    plt.show()"
   ]
  },
  {
   "cell_type": "code",
   "execution_count": 43,
   "metadata": {},
   "outputs": [
    {
     "data": {
      "image/png": "[encoded data removed]",
      "text/plain": [
       "<Figure size 1008x288 with 2 Axes>"
      ]
     },
     "metadata": {
      "needs_background": "light"
     },
     "output_type": "display_data"
    }
   ],
   "source": [
    "render_training_history(history)"
   ]
  },
  {
   "cell_type": "markdown",
   "metadata": {},
   "source": [
    "## Test a dataset"
   ]
  },
  {
   "cell_type": "code",
   "execution_count": 44,
   "metadata": {},
   "outputs": [
    {
     "name": "stdout",
     "output_type": "stream",
     "text": [
      "x_test:\n",
      " [[[0 0 1 0 0 0 0 0 0 0 0 0]\n",
      "  [0 1 0 0 0 0 0 0 0 0 0 0]\n",
      "  [0 0 0 0 0 0 0 0 0 0 1 0]\n",
      "  [0 0 0 0 0 1 0 0 0 0 0 0]\n",
      "  [0 0 0 0 0 0 0 0 0 1 0 0]\n",
      "  [0 0 0 0 0 0 0 0 0 0 0 1]\n",
      "  [0 0 0 0 0 0 0 0 0 0 0 1]]]\n",
      "\n",
      "y_test:\n",
      " [[[0 0 0 0 0 0 0 0 1 0 0 0]\n",
      "  [1 0 0 0 0 0 0 0 0 0 0 0]\n",
      "  [0 0 0 0 0 0 0 0 0 0 0 1]]]\n"
     ]
    }
   ],
   "source": [
    "x_test, y_test = generate_dataset(dataset_size, sequence_length, max_num, vocabulary)\n",
    "\n",
    "print('x_test:\\n', x_test[:1])\n",
    "print()\n",
    "print('y_test:\\n', y_test[:1])"
   ]
  },
  {
   "cell_type": "code",
   "execution_count": 45,
   "metadata": {},
   "outputs": [
    {
     "name": "stdout",
     "output_type": "stream",
     "text": [
      "predictions.shape:  (5000, 3, 12)\n",
      "\n",
      "predictions[0]:\n",
      " [[2.09618154e-08 1.65250447e-06 9.28491312e-12 1.33737617e-12\n",
      "  8.91551832e-11 5.20520427e-09 7.65816310e-07 8.70008138e-04\n",
      "  9.96125638e-01 3.00194160e-03 9.83767841e-12 8.05468019e-12]\n",
      " [9.94650662e-01 4.23331652e-03 1.51860172e-06 8.91040797e-10\n",
      "  2.02443021e-10 2.96883720e-12 1.75847878e-11 1.37563019e-08\n",
      "  6.94156142e-07 1.10599503e-03 1.52009325e-11 7.77936020e-06]\n",
      " [9.82914862e-05 2.39291054e-09 4.87958632e-11 4.02099876e-13\n",
      "  7.78445722e-13 5.69859643e-14 2.99191991e-11 1.10336424e-08\n",
      "  1.04083364e-08 6.22392179e-07 2.48839556e-12 9.99901056e-01]]\n",
      "\n",
      "predictions[1]:\n",
      " [[9.1141981e-12 9.9998736e-01 2.8987480e-14 1.9401980e-17 1.7401653e-16\n",
      "  1.4555607e-16 6.7501953e-15 8.9038786e-13 2.5389661e-09 1.2661624e-05\n",
      "  1.6635848e-15 5.9574064e-17]\n",
      " [9.9704957e-01 1.6794143e-03 1.7508242e-08 1.0089089e-10 6.4129785e-11\n",
      "  3.4519033e-11 1.4319482e-10 2.1030728e-09 7.6049872e-08 1.2708271e-03\n",
      "  1.6249288e-11 2.3034108e-10]\n",
      " [1.0355317e-01 5.8744872e-06 4.9898929e-10 1.2376726e-13 2.7849478e-14\n",
      "  2.9958478e-14 7.3702737e-12 5.3445268e-07 1.3774229e-03 8.9506298e-01\n",
      "  4.4621273e-12 1.1039924e-07]]\n"
     ]
    }
   ],
   "source": [
    "predictions = model.predict(x_test)\n",
    "\n",
    "print('predictions.shape: ', predictions.shape)\n",
    "print()\n",
    "print('predictions[0]:\\n', predictions[0])\n",
    "print()\n",
    "print('predictions[1]:\\n', predictions[1])"
   ]
  },
  {
   "cell_type": "code",
   "execution_count": 46,
   "metadata": {},
   "outputs": [
    {
     "name": "stdout",
     "output_type": "stream",
     "text": [
      "21+59   = 80  [predict: 80 ] ✓\n",
      "12+97   = 109 [predict: 109] ✓\n",
      "60+96   = 156 [predict: 156] ✓\n",
      "42+89   = 131 [predict: 131] ✓\n",
      "48+32   = 80  [predict: 80 ] ✓\n",
      "74+73   = 147 [predict: 147] ✓\n",
      "48+8    = 56  [predict: 56 ] ✓\n",
      "2+94    = 96  [predict: 96 ] ✓\n",
      "21+60   = 81  [predict: 81 ] ✓\n",
      "34+70   = 104 [predict: 104] ✓\n",
      "64+57   = 121 [predict: 121] ✓\n",
      "11+39   = 50  [predict: 50 ] ✓\n",
      "40+44   = 84  [predict: 84 ] ✓\n",
      "47+80   = 127 [predict: 127] ✓\n",
      "10+57   = 67  [predict: 67 ] ✓\n",
      "72+97   = 169 [predict: 169] ✓\n",
      "54+8    = 62  [predict: 62 ] ✓\n",
      "89+74   = 163 [predict: 163] ✓\n",
      "5+64    = 69  [predict: 69 ] ✓\n",
      "27+58   = 85  [predict: 85 ] ✓\n",
      "68+57   = 125 [predict: 125] ✓\n",
      "18+34   = 52  [predict: 52 ] ✓\n",
      "39+45   = 84  [predict: 84 ] ✓\n",
      "61+22   = 83  [predict: 83 ] ✓\n",
      "36+84   = 120 [predict: 120] ✓\n",
      "66+89   = 155 [predict: 155] ✓\n",
      "62+34   = 96  [predict: 96 ] ✓\n",
      "80+3    = 83  [predict: 83 ] ✓\n",
      "27+92   = 119 [predict: 119] ✓\n",
      "33+75   = 108 [predict: 108] ✓\n",
      "14+23   = 37  [predict: 37 ] ✓\n",
      "17+100  = 117 [predict: 116] \n",
      "86+44   = 130 [predict: 130] ✓\n",
      "8+35    = 43  [predict: 43 ] ✓\n",
      "52+39   = 91  [predict: 91 ] ✓\n",
      "25+93   = 118 [predict: 118] ✓\n",
      "46+44   = 90  [predict: 90 ] ✓\n",
      "25+81   = 106 [predict: 106] ✓\n",
      "64+20   = 84  [predict: 84 ] ✓\n",
      "81+61   = 142 [predict: 142] ✓\n"
     ]
    }
   ],
   "source": [
    "x_encoded = [decode(example, vocabulary) for example in x_test]\n",
    "y_expected = [decode(label, vocabulary) for label in y_test]\n",
    "y_predicted = [decode(prediction, vocabulary) for prediction in predictions]\n",
    "\n",
    "explore_num = 40\n",
    "for example, label, prediction in list(zip(x_encoded, y_expected, y_predicted))[:explore_num]:\n",
    "    checkmark = '✓' if label == prediction else ''\n",
    "    print('{} = {} [predict: {}] {}'.format(example, label, prediction, checkmark))"
   ]
  },
  {
   "cell_type": "markdown",
   "metadata": {},
   "source": [
    "## Save a model"
   ]
  },
  {
   "cell_type": "code",
   "execution_count": 47,
   "metadata": {},
   "outputs": [],
   "source": [
    "model_name = 'numbers_summation_rnn.h5'\n",
    "model.save(model_name, save_format='h5')"
   ]
  },
  {
   "cell_type": "markdown",
   "metadata": {},
   "source": [
    "## Converting the model to web-format\n",
    "\n",
    "To use this model on the web we need to convert it into the format that will be understandable by [tensorflowjs](https://www.tensorflow.org/js). To do so we may use [tfjs-converter](https://github.com/tensorflow/tfjs/tree/master/tfjs-converter) as following:\n",
    "\n",
    "```\n",
    "tensorflowjs_converter --input_format keras \\\n",
    "  ./experiments/numbers_summation_rnn/numbers_summation_rnn.h5 \\\n",
    "  ./demos/public/models/numbers_summation_rnn\n",
    "```\n",
    "\n",
    "You may find this experiment in the [Demo app](https://trekhleb.github.io/machine-learning-experiments) and play around with it right in you browser to see how the model performs in real life."
   ]
  }
 ],
 "metadata": {
  "kernelspec": {
   "display_name": "Python 3",
   "language": "python",
   "name": "python3"
  },
  "language_info": {
   "codemirror_mode": {
    "name": "ipython",
    "version": 3
   },
   "file_extension": ".py",
   "mimetype": "text/x-python",
   "name": "python",
   "nbconvert_exporter": "python",
   "pygments_lexer": "ipython3",
   "version": "3.7.6"
  }
 },
 "nbformat": 4,
 "nbformat_minor": 2
}
