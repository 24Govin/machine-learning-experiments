{
 "cells": [
  {
   "cell_type": "markdown",
   "metadata": {},
   "source": [
    "# Numbers Summation (using RNN LSTM)"
   ]
  },
  {
   "cell_type": "markdown",
   "metadata": {},
   "source": [
    "> - <font size=\"+1\">🤖 See [full list of Machine Learning Experiments](https://github.com/trekhleb/machine-learning-experiments) on **GitHub**</font><br/><br/>\n",
    "> - ▶️ <font size=\"+1\">**Interactive Demo**: [try this model and other machine learning experiments in action](https://trekhleb.github.io/machine-learning-experiments)</font>"
   ]
  },
  {
   "cell_type": "markdown",
   "metadata": {},
   "source": [
    "## Experiment overview"
   ]
  },
  {
   "cell_type": "markdown",
   "metadata": {},
   "source": [
    "In this experiment we will use [Recurrent Neural Network](https://en.wikipedia.org/wiki/Recurrent_neural_network) (RNN) to sum up two numbers (each number is in a range of `[1, 99]`). The summation expression (i.e. `\"1+45\"` or `37+68`) that will be sent to the RNN _input_ will be treated as a **string** (sequence of characters) and the _output_ of the RNN will also be a string (i.e. `\"46\"` or `\"106\"`) - the sequence of characters that will represent the result of summation. This is a \"sequence-to-sequence\" version of RNN implementation. We will use LSTM ([Long Short-Term Memory](https://en.wikipedia.org/wiki/Long_short-term_memory)) recurent neural network for this task.\n",
    "\n",
    "For this experiment we will use [Tensorflow v2](https://www.tensorflow.org/) with its [Keras API](https://www.tensorflow.org/guide/keras).\n",
    "\n",
    "![numbers_summation_rnn.png](../../demos/src/images/numbers_summation_rnn.png)"
   ]
  },
  {
   "cell_type": "markdown",
   "metadata": {},
   "source": [
    "Inspired by [Learn to Add Numbers with an Encoder-Decoder LSTM Recurrent Neural Network](https://machinelearningmastery.com/learn-add-numbers-seq2seq-recurrent-neural-networks/) article."
   ]
  },
  {
   "cell_type": "markdown",
   "metadata": {},
   "source": [
    "## Import dependencies"
   ]
  },
  {
   "cell_type": "code",
   "execution_count": null,
   "metadata": {},
   "outputs": [],
   "source": [
    "# Selecting Tensorflow version v2 (the command is relevant for Colab only).\n",
    "%tensorflow_version 2.x"
   ]
  },
  {
   "cell_type": "code",
   "execution_count": 1,
   "metadata": {},
   "outputs": [
    {
     "name": "stdout",
     "output_type": "stream",
     "text": [
      "Python version: 3.7.6\n",
      "Tensorflow version: 2.1.0\n",
      "Keras version: 2.2.4-tf\n"
     ]
    }
   ],
   "source": [
    "import tensorflow as tf\n",
    "import matplotlib.pyplot as plt\n",
    "import numpy as np\n",
    "import platform\n",
    "import random\n",
    "import math\n",
    "\n",
    "print('Python version:', platform.python_version())\n",
    "print('Tensorflow version:', tf.__version__)\n",
    "print('Keras version:', tf.keras.__version__)"
   ]
  },
  {
   "cell_type": "markdown",
   "metadata": {},
   "source": [
    "## Generate a dataset"
   ]
  },
  {
   "cell_type": "markdown",
   "metadata": {},
   "source": [
    "In order to train a neural network we need to generate a training dataset which will consist of examples `x` (set of summation expressions) and labels `y` (set of correct answers for each expression). We will start with generating a set of _numbers_ (not strings so far) and than we will convert the sets of numbers into _strings_."
   ]
  },
  {
   "cell_type": "code",
   "execution_count": 4,
   "metadata": {},
   "outputs": [],
   "source": [
    "dataset_size = 5000\n",
    "sequence_length = 2\n",
    "max_num = 100"
   ]
  },
  {
   "cell_type": "code",
   "execution_count": 5,
   "metadata": {},
   "outputs": [],
   "source": [
    "# Generates summation sequences and summation results in form of vector if numbers.\n",
    "def generate_sums(dataset_size, sequence_length, max_num):\n",
    "    # Initial dataset states.\n",
    "    x, y = [], []\n",
    "    \n",
    "    # Generating sums.\n",
    "    for i in range(dataset_size):\n",
    "        sequence = [random.randint(1, max_num) for _ in range(sequence_length)]\n",
    "        x.append(sequence)\n",
    "        y.append(sum(sequence))\n",
    "    \n",
    "    return x, y"
   ]
  },
  {
   "cell_type": "code",
   "execution_count": 6,
   "metadata": {},
   "outputs": [
    {
     "name": "stdout",
     "output_type": "stream",
     "text": [
      "x_train:\n",
      " [[13, 8], [85, 91], [12, 22]]\n",
      "\n",
      "y_train:\n",
      " [21, 176, 34]\n"
     ]
    }
   ],
   "source": [
    "x_train, y_train = generate_sums(\n",
    "    dataset_size=dataset_size,\n",
    "    sequence_length=sequence_length,\n",
    "    max_num=max_num\n",
    ")\n",
    "\n",
    "print('x_train:\\n', x_train[:3])\n",
    "print()\n",
    "print('y_train:\\n', y_train[:3])"
   ]
  },
  {
   "cell_type": "markdown",
   "metadata": {},
   "source": [
    "Recurrent neural networks are normally deals with the sequences (of one or many elements) on the input. In order to treat a summation expression as a sequence we will convert array of numbers (i.e. `[[13, 8], [85, 91], ...]`) into strings (i.e. `['13+8   ', '85+91  ', ...]`). We also want to add a space `\" \"` paddings to each string to make them all of the same length. After doing that we will be able to feed our RNN character by character (i.e. `1`, then `3`, then `+`, then `8`, then ` ` and so on)."
   ]
  },
  {
   "cell_type": "code",
   "execution_count": 7,
   "metadata": {},
   "outputs": [],
   "source": [
    "# Convert array of numbers for x and y into strings.\n",
    "# Also it adds a space (\" \") padding to strings to make them of the same length. \n",
    "def dataset_to_strings(x, y, max_num):\n",
    "    # Initial dataset states.\n",
    "    x_str, y_str = [], []\n",
    "    \n",
    "    sequnce_length = len(x[0])\n",
    "    \n",
    "    # Calculate the maximum length of equation (x) string (i.e. of \"11+99\")\n",
    "    num_of_pluses = sequnce_length - 1\n",
    "    num_of_chars_per_digit = math.ceil(math.log10(max_num + 1))\n",
    "    max_x_length = sequnce_length * num_of_chars_per_digit + num_of_pluses\n",
    "    \n",
    "    # Calculate the maximum length of label (y) string (i.e. of \"167\")\n",
    "    max_y_length = math.ceil(math.log10(sequnce_length * (max_num + 1)))\n",
    "    \n",
    "    # Add a space \" \" padding to equation strings to make them of the same length.\n",
    "    for example in x:\n",
    "        str_example = '+'.join([str(digit) for digit in example])\n",
    "        str_example += ''.join([' ' for padding in range(max_x_length - len(str_example))])\n",
    "        x_str.append(str_example)\n",
    "    \n",
    "    # Add a space \" \" padding to labels strings to make them of the same length.\n",
    "    for label in y:\n",
    "        str_example = str(label)\n",
    "        str_example += ''.join([' ' for padding in range(max_y_length - len(str_example))])\n",
    "        y_str.append(str_example)\n",
    "    \n",
    "    return x_str, y_str"
   ]
  },
  {
   "cell_type": "code",
   "execution_count": 8,
   "metadata": {},
   "outputs": [
    {
     "name": "stdout",
     "output_type": "stream",
     "text": [
      "x_train_str:\n",
      " ['13+8   ' '85+91  ' '12+22  ']\n",
      "\n",
      "y_train_str:\n",
      " ['21 ' '176' '34 ']\n"
     ]
    }
   ],
   "source": [
    "x_train_str, y_train_str = dataset_to_strings(x_train, y_train, max_num)\n",
    "\n",
    "print('x_train_str:\\n', np.array(x_train_str[:3]))\n",
    "print()\n",
    "print('y_train_str:\\n', np.array(y_train_str[:3]))"
   ]
  },
  {
   "cell_type": "code",
   "execution_count": 9,
   "metadata": {},
   "outputs": [],
   "source": [
    "# Since we allow only numbers, plus sign and spaces the vocabulary looks pretty simple.\n",
    "vocabulary = ['0', '1', '2', '3', '4', '5', '6', '7', '8', '9', '+', ' ']"
   ]
  },
  {
   "cell_type": "code",
   "execution_count": 10,
   "metadata": {},
   "outputs": [
    {
     "name": "stdout",
     "output_type": "stream",
     "text": [
      "{'0': 0, '1': 1, '2': 2, '3': 3, '4': 4, '5': 5, '6': 6, '7': 7, '8': 8, '9': 9, '+': 10, ' ': 11}\n"
     ]
    }
   ],
   "source": [
    "# Python dictionary that will convert a character to its index in the vocabulary.\n",
    "char_to_index = {char: index for index, char in enumerate(vocabulary)}\n",
    "\n",
    "print(char_to_index)"
   ]
  },
  {
   "cell_type": "markdown",
   "metadata": {},
   "source": [
    "Our RNN need to have a digits as an input to operate with (and not a strings). To convert summation expressions strings into number the first step we will do is to convert each character of each string into the position index of this character in the `vocabulary`."
   ]
  },
  {
   "cell_type": "code",
   "execution_count": 11,
   "metadata": {},
   "outputs": [],
   "source": [
    "# Converts x and y arrays of strings into array of char indices.\n",
    "def dataset_to_indices(x, y, vocabulary):\n",
    "    x_encoded, y_encoded = [], []\n",
    "    \n",
    "    char_to_index = {char: index for index, char in enumerate(vocabulary)}\n",
    "    \n",
    "    for example in x:\n",
    "        example_encoded = [char_to_index[char] for char in example]\n",
    "        x_encoded.append(example_encoded)\n",
    "        \n",
    "    for label in y:\n",
    "        label_encoded = [char_to_index[char] for char in label]\n",
    "        y_encoded.append(label_encoded)\n",
    "        \n",
    "    return x_encoded, y_encoded"
   ]
  },
  {
   "cell_type": "code",
   "execution_count": 12,
   "metadata": {},
   "outputs": [
    {
     "name": "stdout",
     "output_type": "stream",
     "text": [
      "x_train_encoded:\n",
      " [[ 1  3 10  8 11 11 11]\n",
      " [ 8  5 10  9  1 11 11]\n",
      " [ 1  2 10  2  2 11 11]]\n",
      "\n",
      "y_train_encoded:\n",
      " [[ 2  1 11]\n",
      " [ 1  7  6]\n",
      " [ 3  4 11]]\n"
     ]
    }
   ],
   "source": [
    "x_train_encoded, y_train_encoded = dataset_to_indices(\n",
    "    x_train_str,\n",
    "    y_train_str,\n",
    "    vocabulary\n",
    ")\n",
    "\n",
    "print('x_train_encoded:\\n', np.array(x_train_encoded[:3]))\n",
    "print()\n",
    "print('y_train_encoded:\\n', np.array(y_train_encoded[:3]))"
   ]
  },
  {
   "cell_type": "markdown",
   "metadata": {},
   "source": [
    "To make our dataset even more understandable for our recurrent neural network we will convert each number into `0/1` [one-hot vector](https://en.wikipedia.org/wiki/One-hot) (i.e. number `1` will be transformed into array `[0 1 0 0 0 0 0 0 0 0 0 0]`)."
   ]
  },
  {
   "cell_type": "code",
   "execution_count": 13,
   "metadata": {},
   "outputs": [],
   "source": [
    "# Convert x and y sets of numbers into one-hot vectors.\n",
    "def dataset_to_one_hot(x, y, vocabulary):\n",
    "    x_encoded, y_encoded = [], []\n",
    "    \n",
    "    for example in x:\n",
    "        pattern = []\n",
    "        for index in example:\n",
    "            vector = [0 for _ in range(len(vocabulary))]\n",
    "            vector[index] = 1\n",
    "            pattern.append(vector)\n",
    "        x_encoded.append(pattern)\n",
    "            \n",
    "    for label in y:\n",
    "        pattern = []\n",
    "        for index in label:\n",
    "            vector = [0 for _ in range(len(vocabulary))]\n",
    "            vector[index] = 1\n",
    "            pattern.append(vector)\n",
    "        y_encoded.append(pattern)\n",
    "        \n",
    "    return x_encoded, y_encoded"
   ]
  },
  {
   "cell_type": "code",
   "execution_count": 14,
   "metadata": {},
   "outputs": [
    {
     "name": "stdout",
     "output_type": "stream",
     "text": [
      "x_train_one_hot:\n",
      " [[[0 1 0 0 0 0 0 0 0 0 0 0]\n",
      "  [0 0 0 1 0 0 0 0 0 0 0 0]\n",
      "  [0 0 0 0 0 0 0 0 0 0 1 0]\n",
      "  [0 0 0 0 0 0 0 0 1 0 0 0]\n",
      "  [0 0 0 0 0 0 0 0 0 0 0 1]\n",
      "  [0 0 0 0 0 0 0 0 0 0 0 1]\n",
      "  [0 0 0 0 0 0 0 0 0 0 0 1]]]\n",
      "\n",
      "y_train_one_hot:\n",
      " [[[0 0 1 0 0 0 0 0 0 0 0 0]\n",
      "  [0 1 0 0 0 0 0 0 0 0 0 0]\n",
      "  [0 0 0 0 0 0 0 0 0 0 0 1]]]\n"
     ]
    }
   ],
   "source": [
    "x_train_one_hot, y_train_one_hot = dataset_to_one_hot(\n",
    "    x_train_encoded,\n",
    "    y_train_encoded,\n",
    "    vocabulary\n",
    ")\n",
    "\n",
    "print('x_train_one_hot:\\n', np.array(x_train_one_hot[:1]))\n",
    "print()\n",
    "print('y_train_one_hot:\\n', np.array(y_train_one_hot[:1]))"
   ]
  },
  {
   "cell_type": "markdown",
   "metadata": {},
   "source": [
    "Now we may combine all the function together and create a one function that will do all the work to generate a dataset in the proper format for us."
   ]
  },
  {
   "cell_type": "code",
   "execution_count": 15,
   "metadata": {},
   "outputs": [],
   "source": [
    "# Generates a dataset.\n",
    "def generate_dataset(dataset_size, sequence_length, max_num, vocabulary):\n",
    "    # Generate integet sum sequences.\n",
    "    x, y = generate_sums(dataset_size, sequence_length, max_num)\n",
    "    # Convert integer sum sequences into strings.\n",
    "    x, y = dataset_to_strings(x, y, max_num)\n",
    "    # Encode each character to a char indices.\n",
    "    x, y = dataset_to_indices(x, y, vocabulary)\n",
    "    # Encode each index into one-hot vector.\n",
    "    x, y = dataset_to_one_hot(x, y, vocabulary)\n",
    "    # Return the data.\n",
    "    return np.array(x), np.array(y)"
   ]
  },
  {
   "cell_type": "code",
   "execution_count": 16,
   "metadata": {},
   "outputs": [
    {
     "name": "stdout",
     "output_type": "stream",
     "text": [
      "x:\n",
      " [[[0 0 1 0 0 0 0 0 0 0 0 0]\n",
      "  [0 0 0 1 0 0 0 0 0 0 0 0]\n",
      "  [0 0 0 0 0 0 0 0 0 0 1 0]\n",
      "  [0 0 0 1 0 0 0 0 0 0 0 0]\n",
      "  [0 0 0 0 0 0 0 0 1 0 0 0]\n",
      "  [0 0 0 0 0 0 0 0 0 0 0 1]\n",
      "  [0 0 0 0 0 0 0 0 0 0 0 1]]]\n",
      "\n",
      "y:\n",
      " [[[0 0 0 0 0 0 1 0 0 0 0 0]\n",
      "  [0 1 0 0 0 0 0 0 0 0 0 0]\n",
      "  [0 0 0 0 0 0 0 0 0 0 0 1]]]\n"
     ]
    }
   ],
   "source": [
    "x, y = generate_dataset(\n",
    "    dataset_size,\n",
    "    sequence_length,\n",
    "    max_num,\n",
    "    vocabulary\n",
    ")\n",
    "\n",
    "print('x:\\n', x[:1])\n",
    "print()\n",
    "print('y:\\n', y[:1])"
   ]
  },
  {
   "cell_type": "code",
   "execution_count": 17,
   "metadata": {},
   "outputs": [
    {
     "name": "stdout",
     "output_type": "stream",
     "text": [
      "x.shape:  (5000, 7, 12)\n",
      "y.shape:  (5000, 3, 12)\n"
     ]
    }
   ],
   "source": [
    "print('x.shape: ', x.shape) # (input_sequences_num, input_sequence_length, supported_symbols_num)\n",
    "print('y.shape: ', y.shape) # (output_sequences_num, output_sequence_length, supported_symbols_num)"
   ]
  },
  {
   "cell_type": "code",
   "execution_count": 19,
   "metadata": {},
   "outputs": [
    {
     "name": "stdout",
     "output_type": "stream",
     "text": [
      "input_sequence_length:  7\n",
      "output_sequence_length:  3\n",
      "supported_symbols_num:  12\n",
      "vocabulary_size:  12\n"
     ]
    }
   ],
   "source": [
    "# How many characters each summation expression has.\n",
    "input_sequence_length = x.shape[1]\n",
    "\n",
    "# How many characters the output sequence of the RNN has.\n",
    "output_sequence_length = y.shape[1]\n",
    "\n",
    "# The length of one-hot vector for each character in the input (should be the same as vocabulary_size).\n",
    "supported_symbols_num = x.shape[2]\n",
    "\n",
    "# The number of different characters our RNN network could work with (i.e. it understands only digits, \"+\" and \" \").\n",
    "vocabulary_size = len(vocabulary)\n",
    "\n",
    "print('input_sequence_length: ', input_sequence_length)\n",
    "print('output_sequence_length: ', output_sequence_length)\n",
    "print('supported_symbols_num: ', supported_symbols_num)\n",
    "print('vocabulary_size: ', vocabulary_size)"
   ]
  },
  {
   "cell_type": "code",
   "execution_count": 21,
   "metadata": {},
   "outputs": [],
   "source": [
    "# Converts a sequence (array) of one-hot encoded vectors back into the string based on the provided vocabulary.\n",
    "def decode(sequence, vocabulary):\n",
    "    index_to_char = {index: char for index, char in enumerate(vocabulary)}\n",
    "    strings = []\n",
    "    for char_vector in sequence:\n",
    "        char = index_to_char[np.argmax(char_vector)]\n",
    "        strings.append(char)\n",
    "    return ''.join(strings)"
   ]
  },
  {
   "cell_type": "code",
   "execution_count": 23,
   "metadata": {},
   "outputs": [
    {
     "data": {
      "text/plain": [
       "'61 '"
      ]
     },
     "execution_count": 23,
     "metadata": {},
     "output_type": "execute_result"
    }
   ],
   "source": [
    "decode(y[0], vocabulary)"
   ]
  },
  {
   "cell_type": "markdown",
   "metadata": {},
   "source": [
    "## Build a model"
   ]
  },
  {
   "cell_type": "markdown",
   "metadata": {},
   "source": [
    "We will use a [Sequential] TensorFlow model with [LSTM](https://www.tensorflow.org/api_docs/python/tf/keras/layers/LSTM) layers. Logically our model will consist of **encoder** and **decoder**. _Encoder_ will encode the input expression into an array of numbers. And then _decoder_ will try to build an output result sequence by decoding the array of numbers from encoder."
   ]
  },
  {
   "cell_type": "code",
   "execution_count": 24,
   "metadata": {},
   "outputs": [],
   "source": [
    "epochs_num = 150\n",
    "batch_size = 128"
   ]
  },
  {
   "cell_type": "code",
   "execution_count": 25,
   "metadata": {},
   "outputs": [],
   "source": [
    "model = tf.keras.models.Sequential()\n",
    "\n",
    "# Encoder\n",
    "# -------\n",
    "\n",
    "model.add(tf.keras.layers.LSTM(\n",
    "    units=128,\n",
    "    input_shape=(input_sequence_length, vocabulary_size),\n",
    "    recurrent_initializer=tf.keras.initializers.GlorotNormal()\n",
    "))\n",
    "\n",
    "# Decoder\n",
    "# -------\n",
    "\n",
    "# We need this layer to match the encoder output shape with decoder input shape.\n",
    "# Encoder outputs ONE vector of numbers but for decoder we need have output_sequence_length vectors.\n",
    "model.add(tf.keras.layers.RepeatVector(\n",
    "    n=output_sequence_length,\n",
    "))\n",
    "\n",
    "model.add(tf.keras.layers.LSTM(\n",
    "    units=128,\n",
    "    return_sequences=True,\n",
    "    recurrent_initializer=tf.keras.initializers.GlorotNormal()\n",
    "))\n",
    "\n",
    "model.add(tf.keras.layers.TimeDistributed(\n",
    "    layer=tf.keras.layers.Dense(\n",
    "        units=vocabulary_size,\n",
    "    )\n",
    "))\n",
    "\n",
    "model.add(tf.keras.layers.Activation(\n",
    "    activation='softmax'\n",
    "))"
   ]
  },
  {
   "cell_type": "code",
   "execution_count": 26,
   "metadata": {},
   "outputs": [
    {
     "name": "stdout",
     "output_type": "stream",
     "text": [
      "Model: \"sequential\"\n",
      "_________________________________________________________________\n",
      "Layer (type)                 Output Shape              Param #   \n",
      "=================================================================\n",
      "lstm (LSTM)                  (None, 128)               72192     \n",
      "_________________________________________________________________\n",
      "repeat_vector (RepeatVector) (None, 3, 128)            0         \n",
      "_________________________________________________________________\n",
      "lstm_1 (LSTM)                (None, 3, 128)            131584    \n",
      "_________________________________________________________________\n",
      "time_distributed (TimeDistri (None, 3, 12)             1548      \n",
      "_________________________________________________________________\n",
      "activation (Activation)      (None, 3, 12)             0         \n",
      "=================================================================\n",
      "Total params: 205,324\n",
      "Trainable params: 205,324\n",
      "Non-trainable params: 0\n",
      "_________________________________________________________________\n"
     ]
    }
   ],
   "source": [
    "model.summary()"
   ]
  },
  {
   "cell_type": "code",
   "execution_count": 27,
   "metadata": {},
   "outputs": [
    {
     "data": {
      "image/png": "[encoded data removed]",
      "text/plain": [
       "<IPython.core.display.Image object>"
      ]
     },
     "execution_count": 27,
     "metadata": {},
     "output_type": "execute_result"
    }
   ],
   "source": [
    "tf.keras.utils.plot_model(\n",
    "    model,\n",
    "    show_shapes=True,\n",
    "    show_layer_names=True,\n",
    ")"
   ]
  },
  {
   "cell_type": "markdown",
   "metadata": {},
   "source": [
    "## Train a model"
   ]
  },
  {
   "cell_type": "code",
   "execution_count": 28,
   "metadata": {},
   "outputs": [],
   "source": [
    "adam_optimizer = tf.keras.optimizers.Adam(learning_rate=0.001)\n",
    "model.compile(\n",
    "    optimizer=adam_optimizer,\n",
    "    loss=tf.keras.losses.categorical_crossentropy,\n",
    "    metrics=['accuracy']\n",
    ")"
   ]
  },
  {
   "cell_type": "code",
   "execution_count": 29,
   "metadata": {},
   "outputs": [
    {
     "name": "stdout",
     "output_type": "stream",
     "text": [
      "Train on 4500 samples, validate on 500 samples\n",
      "Epoch 1/150\n",
      "4500/4500 [==============================] - 5s 1ms/sample - loss: 2.2913 - accuracy: 0.2495 - val_loss: 2.0760 - val_accuracy: 0.3720\n",
      "Epoch 2/150\n",
      "4500/4500 [==============================] - 1s 253us/sample - loss: 1.9432 - accuracy: 0.3792 - val_loss: 1.8413 - val_accuracy: 0.3693\n",
      "Epoch 3/150\n",
      "4500/4500 [==============================] - 1s 253us/sample - loss: 1.8112 - accuracy: 0.3835 - val_loss: 1.7404 - val_accuracy: 0.4040\n",
      "Epoch 4/150\n",
      "4500/4500 [==============================] - 1s 276us/sample - loss: 1.7523 - accuracy: 0.3907 - val_loss: 1.7100 - val_accuracy: 0.4053\n",
      "Epoch 5/150\n",
      "4500/4500 [==============================] - 1s 251us/sample - loss: 1.7058 - accuracy: 0.4056 - val_loss: 1.6672 - val_accuracy: 0.4020\n",
      "Epoch 6/150\n",
      "4500/4500 [==============================] - 1s 268us/sample - loss: 1.6796 - accuracy: 0.4056 - val_loss: 1.7511 - val_accuracy: 0.3800\n",
      "Epoch 7/150\n",
      "4500/4500 [==============================] - 1s 265us/sample - loss: 1.6707 - accuracy: 0.4073 - val_loss: 1.6290 - val_accuracy: 0.4187\n",
      "Epoch 8/150\n",
      "4500/4500 [==============================] - 1s 262us/sample - loss: 1.6411 - accuracy: 0.4150 - val_loss: 1.6144 - val_accuracy: 0.4213\n",
      "Epoch 9/150\n",
      "4500/4500 [==============================] - 1s 300us/sample - loss: 1.6230 - accuracy: 0.4153 - val_loss: 1.6155 - val_accuracy: 0.4260\n",
      "Epoch 10/150\n",
      "4500/4500 [==============================] - 1s 326us/sample - loss: 1.6167 - accuracy: 0.4192 - val_loss: 1.5788 - val_accuracy: 0.4200\n",
      "Epoch 11/150\n",
      "4500/4500 [==============================] - 1s 289us/sample - loss: 1.5876 - accuracy: 0.4247 - val_loss: 1.5849 - val_accuracy: 0.4293\n",
      "Epoch 12/150\n",
      "4500/4500 [==============================] - 2s 410us/sample - loss: 1.5571 - accuracy: 0.4333 - val_loss: 1.5131 - val_accuracy: 0.4347\n",
      "Epoch 13/150\n",
      "4500/4500 [==============================] - 2s 422us/sample - loss: 1.5083 - accuracy: 0.4424 - val_loss: 1.4542 - val_accuracy: 0.4520\n",
      "Epoch 14/150\n",
      "4500/4500 [==============================] - 2s 338us/sample - loss: 1.4493 - accuracy: 0.4583 - val_loss: 1.4063 - val_accuracy: 0.4587\n",
      "Epoch 15/150\n",
      "4500/4500 [==============================] - 1s 328us/sample - loss: 1.3972 - accuracy: 0.4728 - val_loss: 1.3567 - val_accuracy: 0.4733\n",
      "Epoch 16/150\n",
      "4500/4500 [==============================] - 1s 274us/sample - loss: 1.3681 - accuracy: 0.4829 - val_loss: 1.4197 - val_accuracy: 0.4433\n",
      "Epoch 17/150\n",
      "4500/4500 [==============================] - 1s 279us/sample - loss: 1.3236 - accuracy: 0.4985 - val_loss: 1.2861 - val_accuracy: 0.5033\n",
      "Epoch 18/150\n",
      "4500/4500 [==============================] - 1s 306us/sample - loss: 1.2841 - accuracy: 0.5170 - val_loss: 1.2707 - val_accuracy: 0.5073\n",
      "Epoch 19/150\n",
      "4500/4500 [==============================] - 1s 288us/sample - loss: 1.2780 - accuracy: 0.5168 - val_loss: 1.2390 - val_accuracy: 0.5300\n",
      "Epoch 20/150\n",
      "4500/4500 [==============================] - 1s 330us/sample - loss: 1.2548 - accuracy: 0.5341 - val_loss: 1.2954 - val_accuracy: 0.5033\n",
      "Epoch 21/150\n",
      "4500/4500 [==============================] - 1s 312us/sample - loss: 1.2493 - accuracy: 0.5307 - val_loss: 1.1916 - val_accuracy: 0.5620\n",
      "Epoch 22/150\n",
      "4500/4500 [==============================] - 1s 300us/sample - loss: 1.1854 - accuracy: 0.5556 - val_loss: 1.1698 - val_accuracy: 0.5733\n",
      "Epoch 23/150\n",
      "4500/4500 [==============================] - 1s 305us/sample - loss: 1.1574 - accuracy: 0.5775 - val_loss: 1.2968 - val_accuracy: 0.4567\n",
      "Epoch 24/150\n",
      "4500/4500 [==============================] - 1s 280us/sample - loss: 1.1559 - accuracy: 0.5699 - val_loss: 1.2238 - val_accuracy: 0.5067\n",
      "Epoch 25/150\n",
      "4500/4500 [==============================] - 2s 337us/sample - loss: 1.1699 - accuracy: 0.5601 - val_loss: 1.1272 - val_accuracy: 0.5833\n",
      "Epoch 26/150\n",
      "4500/4500 [==============================] - 1s 323us/sample - loss: 1.1187 - accuracy: 0.5880 - val_loss: 1.1094 - val_accuracy: 0.5833\n",
      "Epoch 27/150\n",
      "4500/4500 [==============================] - 1s 315us/sample - loss: 1.0873 - accuracy: 0.6027 - val_loss: 1.0839 - val_accuracy: 0.6033\n",
      "Epoch 28/150\n",
      "4500/4500 [==============================] - 1s 303us/sample - loss: 1.0969 - accuracy: 0.5944 - val_loss: 1.0647 - val_accuracy: 0.6140\n",
      "Epoch 29/150\n",
      "4500/4500 [==============================] - 2s 338us/sample - loss: 1.0551 - accuracy: 0.6205 - val_loss: 1.1016 - val_accuracy: 0.5867\n",
      "Epoch 30/150\n",
      "4500/4500 [==============================] - 2s 347us/sample - loss: 1.0445 - accuracy: 0.6183 - val_loss: 1.0424 - val_accuracy: 0.6240\n",
      "Epoch 31/150\n",
      "4500/4500 [==============================] - 1s 285us/sample - loss: 1.0534 - accuracy: 0.6098 - val_loss: 1.0842 - val_accuracy: 0.5867\n",
      "Epoch 32/150\n",
      "4500/4500 [==============================] - 2s 357us/sample - loss: 1.0293 - accuracy: 0.6241 - val_loss: 1.0783 - val_accuracy: 0.5953\n",
      "Epoch 33/150\n",
      "4500/4500 [==============================] - 2s 375us/sample - loss: 1.0406 - accuracy: 0.6153 - val_loss: 1.0042 - val_accuracy: 0.6367\n",
      "Epoch 34/150\n",
      "4500/4500 [==============================] - 1s 272us/sample - loss: 1.0226 - accuracy: 0.6222 - val_loss: 1.0649 - val_accuracy: 0.6047\n",
      "Epoch 35/150\n",
      "4500/4500 [==============================] - 2s 344us/sample - loss: 0.9968 - accuracy: 0.6388 - val_loss: 1.0404 - val_accuracy: 0.6060\n",
      "Epoch 36/150\n",
      "4500/4500 [==============================] - 2s 398us/sample - loss: 0.9902 - accuracy: 0.6414 - val_loss: 0.9796 - val_accuracy: 0.6367\n",
      "Epoch 37/150\n",
      "4500/4500 [==============================] - 2s 385us/sample - loss: 0.9576 - accuracy: 0.6564 - val_loss: 0.9904 - val_accuracy: 0.6293\n",
      "Epoch 38/150\n",
      "4500/4500 [==============================] - 2s 388us/sample - loss: 0.9566 - accuracy: 0.6574 - val_loss: 0.9789 - val_accuracy: 0.6373\n",
      "Epoch 39/150\n",
      "4500/4500 [==============================] - 1s 283us/sample - loss: 0.9571 - accuracy: 0.6560 - val_loss: 0.9772 - val_accuracy: 0.6320\n",
      "Epoch 40/150\n",
      "4500/4500 [==============================] - 1s 296us/sample - loss: 0.9402 - accuracy: 0.6639 - val_loss: 0.9459 - val_accuracy: 0.6487\n",
      "Epoch 41/150\n",
      "4500/4500 [==============================] - 2s 412us/sample - loss: 0.9209 - accuracy: 0.6691 - val_loss: 0.9687 - val_accuracy: 0.6373\n",
      "Epoch 42/150\n",
      "4500/4500 [==============================] - 2s 369us/sample - loss: 0.9179 - accuracy: 0.6707 - val_loss: 0.9858 - val_accuracy: 0.6227\n",
      "Epoch 43/150\n",
      "4500/4500 [==============================] - 2s 344us/sample - loss: 0.9265 - accuracy: 0.6647 - val_loss: 0.9041 - val_accuracy: 0.6660\n",
      "Epoch 44/150\n",
      "4500/4500 [==============================] - 1s 315us/sample - loss: 0.8935 - accuracy: 0.6789 - val_loss: 0.9065 - val_accuracy: 0.6700\n",
      "Epoch 45/150\n",
      "4500/4500 [==============================] - 1s 285us/sample - loss: 0.8789 - accuracy: 0.6879 - val_loss: 0.9090 - val_accuracy: 0.6533\n",
      "Epoch 46/150\n",
      "4500/4500 [==============================] - 1s 315us/sample - loss: 0.8590 - accuracy: 0.6983 - val_loss: 0.8864 - val_accuracy: 0.6673\n",
      "Epoch 47/150\n",
      "4500/4500 [==============================] - 1s 289us/sample - loss: 0.8378 - accuracy: 0.7064 - val_loss: 0.8499 - val_accuracy: 0.6860\n",
      "Epoch 48/150\n",
      "4500/4500 [==============================] - 1s 264us/sample - loss: 0.8279 - accuracy: 0.7058 - val_loss: 0.8482 - val_accuracy: 0.6827\n",
      "Epoch 49/150\n",
      "4500/4500 [==============================] - 1s 302us/sample - loss: 0.8247 - accuracy: 0.7098 - val_loss: 0.8108 - val_accuracy: 0.7060\n",
      "Epoch 50/150\n",
      "4500/4500 [==============================] - 1s 266us/sample - loss: 0.7838 - accuracy: 0.7241 - val_loss: 0.7804 - val_accuracy: 0.7240\n",
      "Epoch 51/150\n",
      "4500/4500 [==============================] - 1s 284us/sample - loss: 0.7489 - accuracy: 0.7378 - val_loss: 0.7698 - val_accuracy: 0.7187\n",
      "Epoch 52/150\n",
      "4500/4500 [==============================] - 1s 293us/sample - loss: 0.7401 - accuracy: 0.7393 - val_loss: 0.7475 - val_accuracy: 0.7247\n",
      "Epoch 53/150\n",
      "4500/4500 [==============================] - 2s 363us/sample - loss: 0.7116 - accuracy: 0.7527 - val_loss: 0.7147 - val_accuracy: 0.7360\n",
      "Epoch 54/150\n",
      "4500/4500 [==============================] - 1s 246us/sample - loss: 0.6713 - accuracy: 0.7713 - val_loss: 0.7318 - val_accuracy: 0.7340\n",
      "Epoch 55/150\n"
     ]
    },
    {
     "name": "stdout",
     "output_type": "stream",
     "text": [
      "4500/4500 [==============================] - 1s 242us/sample - loss: 0.6624 - accuracy: 0.7738 - val_loss: 0.7833 - val_accuracy: 0.7060\n",
      "Epoch 56/150\n",
      "4500/4500 [==============================] - 1s 236us/sample - loss: 0.6364 - accuracy: 0.7848 - val_loss: 0.6236 - val_accuracy: 0.7880\n",
      "Epoch 57/150\n",
      "4500/4500 [==============================] - 1s 241us/sample - loss: 0.5892 - accuracy: 0.8060 - val_loss: 0.6265 - val_accuracy: 0.7787\n",
      "Epoch 58/150\n",
      "4500/4500 [==============================] - 2s 340us/sample - loss: 0.5628 - accuracy: 0.8169 - val_loss: 0.5671 - val_accuracy: 0.8167\n",
      "Epoch 59/150\n",
      "4500/4500 [==============================] - 1s 333us/sample - loss: 0.5579 - accuracy: 0.8153 - val_loss: 0.5993 - val_accuracy: 0.7867\n",
      "Epoch 60/150\n",
      "4500/4500 [==============================] - 1s 296us/sample - loss: 0.5135 - accuracy: 0.8376 - val_loss: 0.5326 - val_accuracy: 0.8167\n",
      "Epoch 61/150\n",
      "4500/4500 [==============================] - 1s 288us/sample - loss: 0.4701 - accuracy: 0.8630 - val_loss: 0.4746 - val_accuracy: 0.8507\n",
      "Epoch 62/150\n",
      "4500/4500 [==============================] - 1s 266us/sample - loss: 0.4369 - accuracy: 0.8773 - val_loss: 0.4770 - val_accuracy: 0.8340\n",
      "Epoch 63/150\n",
      "4500/4500 [==============================] - 1s 284us/sample - loss: 0.5058 - accuracy: 0.8244 - val_loss: 0.4814 - val_accuracy: 0.8407\n",
      "Epoch 64/150\n",
      "4500/4500 [==============================] - 2s 372us/sample - loss: 0.4117 - accuracy: 0.8851 - val_loss: 0.4003 - val_accuracy: 0.8773\n",
      "Epoch 65/150\n",
      "4500/4500 [==============================] - 2s 419us/sample - loss: 0.3613 - accuracy: 0.9131 - val_loss: 0.3852 - val_accuracy: 0.8960\n",
      "Epoch 66/150\n",
      "4500/4500 [==============================] - 2s 379us/sample - loss: 0.3410 - accuracy: 0.9203 - val_loss: 0.3486 - val_accuracy: 0.9093\n",
      "Epoch 67/150\n",
      "4500/4500 [==============================] - 2s 392us/sample - loss: 0.3169 - accuracy: 0.9334 - val_loss: 0.3356 - val_accuracy: 0.9193\n",
      "Epoch 68/150\n",
      "4500/4500 [==============================] - 2s 420us/sample - loss: 0.3061 - accuracy: 0.9358 - val_loss: 0.3558 - val_accuracy: 0.8947\n",
      "Epoch 69/150\n",
      "4500/4500 [==============================] - 2s 428us/sample - loss: 0.3064 - accuracy: 0.9333 - val_loss: 0.3082 - val_accuracy: 0.9187\n",
      "Epoch 70/150\n",
      "4500/4500 [==============================] - 2s 402us/sample - loss: 0.2662 - accuracy: 0.9546 - val_loss: 0.2963 - val_accuracy: 0.9240\n",
      "Epoch 71/150\n",
      "4500/4500 [==============================] - 2s 402us/sample - loss: 0.2528 - accuracy: 0.9587 - val_loss: 0.2780 - val_accuracy: 0.9347\n",
      "Epoch 72/150\n",
      "4500/4500 [==============================] - 2s 390us/sample - loss: 0.2399 - accuracy: 0.9581 - val_loss: 0.2533 - val_accuracy: 0.9507\n",
      "Epoch 73/150\n",
      "4500/4500 [==============================] - 2s 382us/sample - loss: 0.2247 - accuracy: 0.9670 - val_loss: 0.2419 - val_accuracy: 0.9487\n",
      "Epoch 74/150\n",
      "4500/4500 [==============================] - 1s 310us/sample - loss: 0.2138 - accuracy: 0.9670 - val_loss: 0.2272 - val_accuracy: 0.9553\n",
      "Epoch 75/150\n",
      "4500/4500 [==============================] - 1s 268us/sample - loss: 0.2030 - accuracy: 0.9704 - val_loss: 0.2332 - val_accuracy: 0.9460\n",
      "Epoch 76/150\n",
      "4500/4500 [==============================] - 1s 272us/sample - loss: 0.1914 - accuracy: 0.9716 - val_loss: 0.2030 - val_accuracy: 0.9633\n",
      "Epoch 77/150\n",
      "4500/4500 [==============================] - 1s 280us/sample - loss: 0.1801 - accuracy: 0.9753 - val_loss: 0.1932 - val_accuracy: 0.9693\n",
      "Epoch 78/150\n",
      "4500/4500 [==============================] - 1s 270us/sample - loss: 0.1723 - accuracy: 0.9773 - val_loss: 0.1834 - val_accuracy: 0.9720\n",
      "Epoch 79/150\n",
      "4500/4500 [==============================] - 1s 282us/sample - loss: 0.1596 - accuracy: 0.9804 - val_loss: 0.1730 - val_accuracy: 0.9740\n",
      "Epoch 80/150\n",
      "4500/4500 [==============================] - 1s 274us/sample - loss: 0.1501 - accuracy: 0.9821 - val_loss: 0.1768 - val_accuracy: 0.9667\n",
      "Epoch 81/150\n",
      "4500/4500 [==============================] - 1s 273us/sample - loss: 0.1458 - accuracy: 0.9818 - val_loss: 0.1559 - val_accuracy: 0.9753\n",
      "Epoch 82/150\n",
      "4500/4500 [==============================] - 1s 269us/sample - loss: 0.1367 - accuracy: 0.9826 - val_loss: 0.1480 - val_accuracy: 0.9760\n",
      "Epoch 83/150\n",
      "4500/4500 [==============================] - 1s 270us/sample - loss: 0.1275 - accuracy: 0.9853 - val_loss: 0.1448 - val_accuracy: 0.9733\n",
      "Epoch 84/150\n",
      "4500/4500 [==============================] - 1s 264us/sample - loss: 0.1220 - accuracy: 0.9859 - val_loss: 0.1514 - val_accuracy: 0.9680\n",
      "Epoch 85/150\n",
      "4500/4500 [==============================] - 1s 264us/sample - loss: 0.1275 - accuracy: 0.9808 - val_loss: 0.1539 - val_accuracy: 0.9653\n",
      "Epoch 86/150\n",
      "4500/4500 [==============================] - 1s 257us/sample - loss: 0.1777 - accuracy: 0.9586 - val_loss: 0.2418 - val_accuracy: 0.9067\n",
      "Epoch 87/150\n",
      "4500/4500 [==============================] - 1s 261us/sample - loss: 0.2478 - accuracy: 0.9210 - val_loss: 0.1691 - val_accuracy: 0.9600\n",
      "Epoch 88/150\n",
      "4500/4500 [==============================] - 1s 267us/sample - loss: 0.1163 - accuracy: 0.9847 - val_loss: 0.1151 - val_accuracy: 0.9807\n",
      "Epoch 89/150\n",
      "4500/4500 [==============================] - 1s 258us/sample - loss: 0.0975 - accuracy: 0.9887 - val_loss: 0.1114 - val_accuracy: 0.9813\n",
      "Epoch 90/150\n",
      "4500/4500 [==============================] - 1s 265us/sample - loss: 0.0908 - accuracy: 0.9903 - val_loss: 0.1045 - val_accuracy: 0.9820\n",
      "Epoch 91/150\n",
      "4500/4500 [==============================] - 1s 258us/sample - loss: 0.0848 - accuracy: 0.9914 - val_loss: 0.1002 - val_accuracy: 0.9853\n",
      "Epoch 92/150\n",
      "4500/4500 [==============================] - 1s 302us/sample - loss: 0.0816 - accuracy: 0.9916 - val_loss: 0.0960 - val_accuracy: 0.9860\n",
      "Epoch 93/150\n",
      "4500/4500 [==============================] - 2s 381us/sample - loss: 0.0775 - accuracy: 0.9924 - val_loss: 0.0992 - val_accuracy: 0.9827\n",
      "Epoch 94/150\n",
      "4500/4500 [==============================] - 1s 271us/sample - loss: 0.0758 - accuracy: 0.9923 - val_loss: 0.0876 - val_accuracy: 0.9847\n",
      "Epoch 95/150\n",
      "4500/4500 [==============================] - 1s 255us/sample - loss: 0.0701 - accuracy: 0.9936 - val_loss: 0.0861 - val_accuracy: 0.9853\n",
      "Epoch 96/150\n",
      "4500/4500 [==============================] - 1s 258us/sample - loss: 0.0668 - accuracy: 0.9936 - val_loss: 0.0835 - val_accuracy: 0.9840\n",
      "Epoch 97/150\n",
      "4500/4500 [==============================] - 1s 264us/sample - loss: 0.0646 - accuracy: 0.9944 - val_loss: 0.0818 - val_accuracy: 0.9853\n",
      "Epoch 98/150\n",
      "4500/4500 [==============================] - 1s 259us/sample - loss: 0.0635 - accuracy: 0.9930 - val_loss: 0.0758 - val_accuracy: 0.9880\n",
      "Epoch 99/150\n",
      "4500/4500 [==============================] - 1s 263us/sample - loss: 0.0634 - accuracy: 0.9927 - val_loss: 0.0728 - val_accuracy: 0.9900\n",
      "Epoch 100/150\n",
      "4500/4500 [==============================] - 1s 263us/sample - loss: 0.0572 - accuracy: 0.9943 - val_loss: 0.0712 - val_accuracy: 0.9887\n",
      "Epoch 101/150\n",
      "4500/4500 [==============================] - 2s 337us/sample - loss: 0.0555 - accuracy: 0.9952 - val_loss: 0.0682 - val_accuracy: 0.9887\n",
      "Epoch 102/150\n",
      "4500/4500 [==============================] - 2s 383us/sample - loss: 0.0542 - accuracy: 0.9947 - val_loss: 0.0740 - val_accuracy: 0.9873\n",
      "Epoch 103/150\n",
      "4500/4500 [==============================] - 2s 381us/sample - loss: 0.0527 - accuracy: 0.9944 - val_loss: 0.0707 - val_accuracy: 0.9840\n",
      "Epoch 104/150\n",
      "4500/4500 [==============================] - 2s 335us/sample - loss: 0.0502 - accuracy: 0.9952 - val_loss: 0.0736 - val_accuracy: 0.9827\n",
      "Epoch 105/150\n",
      "4500/4500 [==============================] - 1s 313us/sample - loss: 0.0484 - accuracy: 0.9954 - val_loss: 0.0594 - val_accuracy: 0.9900\n",
      "Epoch 106/150\n",
      "4500/4500 [==============================] - 1s 290us/sample - loss: 0.0431 - accuracy: 0.9963 - val_loss: 0.0578 - val_accuracy: 0.9927\n",
      "Epoch 107/150\n",
      "4500/4500 [==============================] - 2s 350us/sample - loss: 0.0422 - accuracy: 0.9964 - val_loss: 0.0571 - val_accuracy: 0.9900\n",
      "Epoch 108/150\n",
      "4500/4500 [==============================] - 1s 289us/sample - loss: 0.0408 - accuracy: 0.9969 - val_loss: 0.0525 - val_accuracy: 0.9927\n",
      "Epoch 109/150\n"
     ]
    },
    {
     "name": "stdout",
     "output_type": "stream",
     "text": [
      "4500/4500 [==============================] - 2s 335us/sample - loss: 0.0401 - accuracy: 0.9962 - val_loss: 0.0585 - val_accuracy: 0.9880\n",
      "Epoch 110/150\n",
      "4500/4500 [==============================] - 1s 284us/sample - loss: 0.3867 - accuracy: 0.8790 - val_loss: 0.5718 - val_accuracy: 0.7873\n",
      "Epoch 111/150\n",
      "4500/4500 [==============================] - 1s 301us/sample - loss: 0.2207 - accuracy: 0.9295 - val_loss: 0.1009 - val_accuracy: 0.9840\n",
      "Epoch 112/150\n",
      "4500/4500 [==============================] - 1s 258us/sample - loss: 0.0623 - accuracy: 0.9930 - val_loss: 0.0654 - val_accuracy: 0.9887\n",
      "Epoch 113/150\n",
      "4500/4500 [==============================] - 2s 368us/sample - loss: 0.0465 - accuracy: 0.9958 - val_loss: 0.0554 - val_accuracy: 0.9927\n",
      "Epoch 114/150\n",
      "4500/4500 [==============================] - 2s 343us/sample - loss: 0.0397 - accuracy: 0.9971 - val_loss: 0.0507 - val_accuracy: 0.9933\n",
      "Epoch 115/150\n",
      "4500/4500 [==============================] - 1s 308us/sample - loss: 0.0361 - accuracy: 0.9986 - val_loss: 0.0477 - val_accuracy: 0.9933\n",
      "Epoch 116/150\n",
      "4500/4500 [==============================] - 1s 261us/sample - loss: 0.0335 - accuracy: 0.9984 - val_loss: 0.0455 - val_accuracy: 0.9940\n",
      "Epoch 117/150\n",
      "4500/4500 [==============================] - 1s 277us/sample - loss: 0.0321 - accuracy: 0.9985 - val_loss: 0.0444 - val_accuracy: 0.9940\n",
      "Epoch 118/150\n",
      "4500/4500 [==============================] - 2s 352us/sample - loss: 0.0309 - accuracy: 0.9982 - val_loss: 0.0426 - val_accuracy: 0.9947\n",
      "Epoch 119/150\n",
      "4500/4500 [==============================] - 1s 323us/sample - loss: 0.0292 - accuracy: 0.9984 - val_loss: 0.0434 - val_accuracy: 0.9933\n",
      "Epoch 120/150\n",
      "4500/4500 [==============================] - 1s 281us/sample - loss: 0.0293 - accuracy: 0.9978 - val_loss: 0.0454 - val_accuracy: 0.9913\n",
      "Epoch 121/150\n",
      "4500/4500 [==============================] - 1s 329us/sample - loss: 0.0281 - accuracy: 0.9982 - val_loss: 0.0431 - val_accuracy: 0.9920\n",
      "Epoch 122/150\n",
      "4500/4500 [==============================] - 1s 319us/sample - loss: 0.0263 - accuracy: 0.9987 - val_loss: 0.0412 - val_accuracy: 0.9933\n",
      "Epoch 123/150\n",
      "4500/4500 [==============================] - 1s 300us/sample - loss: 0.0258 - accuracy: 0.9987 - val_loss: 0.0404 - val_accuracy: 0.9947\n",
      "Epoch 124/150\n",
      "4500/4500 [==============================] - 1s 309us/sample - loss: 0.0254 - accuracy: 0.9984 - val_loss: 0.0406 - val_accuracy: 0.9933\n",
      "Epoch 125/150\n",
      "4500/4500 [==============================] - 1s 303us/sample - loss: 0.0249 - accuracy: 0.9987 - val_loss: 0.0473 - val_accuracy: 0.9900\n",
      "Epoch 126/150\n",
      "4500/4500 [==============================] - 1s 303us/sample - loss: 0.0377 - accuracy: 0.9923 - val_loss: 0.0467 - val_accuracy: 0.9900\n",
      "Epoch 127/150\n",
      "4500/4500 [==============================] - 1s 301us/sample - loss: 0.0282 - accuracy: 0.9963 - val_loss: 0.0369 - val_accuracy: 0.9947\n",
      "Epoch 128/150\n",
      "4500/4500 [==============================] - 1s 298us/sample - loss: 0.0223 - accuracy: 0.9989 - val_loss: 0.0347 - val_accuracy: 0.9960\n",
      "Epoch 129/150\n",
      "4500/4500 [==============================] - 1s 327us/sample - loss: 0.0216 - accuracy: 0.9990 - val_loss: 0.0347 - val_accuracy: 0.9947\n",
      "Epoch 130/150\n",
      "4500/4500 [==============================] - 1s 300us/sample - loss: 0.0198 - accuracy: 0.9993 - val_loss: 0.0332 - val_accuracy: 0.9953\n",
      "Epoch 131/150\n",
      "4500/4500 [==============================] - 1s 293us/sample - loss: 0.0197 - accuracy: 0.9993 - val_loss: 0.0348 - val_accuracy: 0.9940\n",
      "Epoch 132/150\n",
      "4500/4500 [==============================] - 1s 321us/sample - loss: 0.0190 - accuracy: 0.9994 - val_loss: 0.0348 - val_accuracy: 0.9947\n",
      "Epoch 133/150\n",
      "4500/4500 [==============================] - 1s 292us/sample - loss: 0.0185 - accuracy: 0.9996 - val_loss: 0.0320 - val_accuracy: 0.9953\n",
      "Epoch 134/150\n",
      "4500/4500 [==============================] - 1s 264us/sample - loss: 0.0175 - accuracy: 0.9997 - val_loss: 0.0370 - val_accuracy: 0.9920\n",
      "Epoch 135/150\n",
      "4500/4500 [==============================] - 1s 261us/sample - loss: 0.0194 - accuracy: 0.9984 - val_loss: 0.0330 - val_accuracy: 0.9953\n",
      "Epoch 136/150\n",
      "4500/4500 [==============================] - 1s 265us/sample - loss: 0.0174 - accuracy: 0.9991 - val_loss: 0.0295 - val_accuracy: 0.9953\n",
      "Epoch 137/150\n",
      "4500/4500 [==============================] - 1s 261us/sample - loss: 0.0174 - accuracy: 0.9991 - val_loss: 0.0384 - val_accuracy: 0.9900\n",
      "Epoch 138/150\n",
      "4500/4500 [==============================] - 1s 271us/sample - loss: 0.0183 - accuracy: 0.9984 - val_loss: 0.0342 - val_accuracy: 0.9947\n",
      "Epoch 139/150\n",
      "4500/4500 [==============================] - 1s 267us/sample - loss: 0.0171 - accuracy: 0.9987 - val_loss: 0.0307 - val_accuracy: 0.9953\n",
      "Epoch 140/150\n",
      "4500/4500 [==============================] - 2s 334us/sample - loss: 0.0162 - accuracy: 0.9990 - val_loss: 0.0275 - val_accuracy: 0.9960\n",
      "Epoch 141/150\n",
      "4500/4500 [==============================] - 2s 384us/sample - loss: 0.0141 - accuracy: 0.9995 - val_loss: 0.0276 - val_accuracy: 0.9960\n",
      "Epoch 142/150\n",
      "4500/4500 [==============================] - 2s 344us/sample - loss: 0.0135 - accuracy: 0.9997 - val_loss: 0.0263 - val_accuracy: 0.9973\n",
      "Epoch 143/150\n",
      "4500/4500 [==============================] - 1s 309us/sample - loss: 0.0133 - accuracy: 0.9996 - val_loss: 0.0264 - val_accuracy: 0.9960\n",
      "Epoch 144/150\n",
      "4500/4500 [==============================] - ETA: 0s - loss: 0.0130 - accuracy: 0.99 - 2s 355us/sample - loss: 0.0130 - accuracy: 0.9996 - val_loss: 0.0268 - val_accuracy: 0.9953\n",
      "Epoch 145/150\n",
      "4500/4500 [==============================] - 1s 301us/sample - loss: 0.1604 - accuracy: 0.9559 - val_loss: 0.2675 - val_accuracy: 0.9007\n",
      "Epoch 146/150\n",
      "4500/4500 [==============================] - 2s 384us/sample - loss: 0.1308 - accuracy: 0.9584 - val_loss: 0.0920 - val_accuracy: 0.9700\n",
      "Epoch 147/150\n",
      "4500/4500 [==============================] - 2s 365us/sample - loss: 0.0407 - accuracy: 0.9915 - val_loss: 0.0356 - val_accuracy: 0.9927\n",
      "Epoch 148/150\n",
      "4500/4500 [==============================] - 2s 364us/sample - loss: 0.0199 - accuracy: 0.9984 - val_loss: 0.0320 - val_accuracy: 0.9933\n",
      "Epoch 149/150\n",
      "4500/4500 [==============================] - 2s 343us/sample - loss: 0.0147 - accuracy: 0.9995 - val_loss: 0.0258 - val_accuracy: 0.9960\n",
      "Epoch 150/150\n",
      "4500/4500 [==============================] - 2s 350us/sample - loss: 0.0128 - accuracy: 0.9999 - val_loss: 0.0257 - val_accuracy: 0.9967\n"
     ]
    }
   ],
   "source": [
    "history = model.fit(\n",
    "    x=x,\n",
    "    y=y,\n",
    "    epochs=epochs_num,\n",
    "    batch_size=batch_size,\n",
    "    validation_split=0.1\n",
    ")"
   ]
  },
  {
   "cell_type": "code",
   "execution_count": 30,
   "metadata": {},
   "outputs": [],
   "source": [
    "# Renders the charts for training accuracy and loss.\n",
    "def render_training_history(training_history):\n",
    "    loss = training_history.history['loss']\n",
    "    val_loss = training_history.history['val_loss']\n",
    "\n",
    "    accuracy = training_history.history['accuracy']\n",
    "    val_accuracy = training_history.history['val_accuracy']\n",
    "\n",
    "    plt.figure(figsize=(14, 4))\n",
    "\n",
    "    plt.subplot(1, 2, 1)\n",
    "    plt.title('Loss')\n",
    "    plt.xlabel('Epoch')\n",
    "    plt.ylabel('Loss')\n",
    "    plt.plot(loss, label='Training set')\n",
    "    plt.plot(val_loss, label='Test set', linestyle='--')\n",
    "    plt.legend()\n",
    "    plt.grid(linestyle='--', linewidth=1, alpha=0.5)\n",
    "\n",
    "    plt.subplot(1, 2, 2)\n",
    "    plt.title('Accuracy')\n",
    "    plt.xlabel('Epoch')\n",
    "    plt.ylabel('Accuracy')\n",
    "    plt.plot(accuracy, label='Training set')\n",
    "    plt.plot(val_accuracy, label='Test set', linestyle='--')\n",
    "    plt.legend()\n",
    "    plt.grid(linestyle='--', linewidth=1, alpha=0.5)\n",
    "\n",
    "    plt.show()"
   ]
  },
  {
   "cell_type": "code",
   "execution_count": 31,
   "metadata": {},
   "outputs": [
    {
     "data": {
      "image/png": "[encoded data removed]",
      "text/plain": [
       "<Figure size 1008x288 with 2 Axes>"
      ]
     },
     "metadata": {
      "needs_background": "light"
     },
     "output_type": "display_data"
    }
   ],
   "source": [
    "render_training_history(history)"
   ]
  },
  {
   "cell_type": "markdown",
   "metadata": {},
   "source": [
    "## Test a dataset"
   ]
  },
  {
   "cell_type": "code",
   "execution_count": 32,
   "metadata": {},
   "outputs": [
    {
     "name": "stdout",
     "output_type": "stream",
     "text": [
      "x_test:\n",
      " [[[0 0 0 0 1 0 0 0 0 0 0 0]\n",
      "  [0 0 0 0 1 0 0 0 0 0 0 0]\n",
      "  [0 0 0 0 0 0 0 0 0 0 1 0]\n",
      "  [0 0 0 0 0 0 0 0 0 1 0 0]\n",
      "  [0 0 0 0 0 0 1 0 0 0 0 0]\n",
      "  [0 0 0 0 0 0 0 0 0 0 0 1]\n",
      "  [0 0 0 0 0 0 0 0 0 0 0 1]]]\n",
      "\n",
      "y_test:\n",
      " [[[0 1 0 0 0 0 0 0 0 0 0 0]\n",
      "  [0 0 0 0 1 0 0 0 0 0 0 0]\n",
      "  [1 0 0 0 0 0 0 0 0 0 0 0]]]\n"
     ]
    }
   ],
   "source": [
    "x_test, y_test = generate_dataset(dataset_size, sequence_length, max_num, vocabulary)\n",
    "\n",
    "print('x_test:\\n', x_test[:1])\n",
    "print()\n",
    "print('y_test:\\n', y_test[:1])"
   ]
  },
  {
   "cell_type": "code",
   "execution_count": 33,
   "metadata": {},
   "outputs": [
    {
     "name": "stdout",
     "output_type": "stream",
     "text": [
      "predictions.shape:  (5000, 3, 12)\n",
      "\n",
      "predictions[0]:\n",
      " [[2.94124967e-11 9.99999881e-01 5.40416279e-12 6.99695735e-17\n",
      "  2.65061544e-16 7.96917142e-15 3.80527814e-12 2.37020854e-11\n",
      "  6.39340580e-10 6.19693239e-08 1.88765341e-14 3.12135426e-16]\n",
      " [7.47985212e-07 5.28313970e-09 2.15915315e-06 1.06114959e-02\n",
      "  9.89104927e-01 2.79036001e-04 1.52820087e-06 8.55734754e-08\n",
      "  1.61145564e-07 1.25433939e-08 2.21222429e-10 7.25569995e-12]\n",
      " [9.95484710e-01 3.78623931e-03 1.78292635e-06 3.17329690e-10\n",
      "  7.71321115e-12 1.10704404e-10 1.85979270e-11 7.16798676e-10\n",
      "  1.58211421e-07 7.27166596e-04 8.12576222e-12 1.01984705e-10]]\n",
      "\n",
      "predictions[1]:\n",
      " [[1.61490168e-10 9.99998689e-01 7.90365863e-12 3.88086376e-17\n",
      "  1.81524355e-17 1.37621699e-15 7.35062618e-12 1.33187017e-10\n",
      "  3.91239174e-09 1.33034212e-06 1.25870892e-14 8.31044936e-16]\n",
      " [4.22439800e-04 3.78208794e-03 9.92229640e-01 3.52799450e-03\n",
      "  4.18706622e-06 2.79278325e-08 9.21405388e-08 3.93229129e-07\n",
      "  7.69591406e-06 2.54043807e-05 1.93961669e-09 5.39844280e-10]\n",
      " [1.08075852e-03 1.35089276e-05 1.88689686e-08 1.33151103e-11\n",
      "  4.66730196e-11 2.06341211e-09 7.37404027e-10 1.29618127e-06\n",
      "  3.36111034e-03 9.95543301e-01 1.03344014e-10 1.68472578e-08]]\n"
     ]
    }
   ],
   "source": [
    "predictions = model.predict(x_test)\n",
    "\n",
    "print('predictions.shape: ', predictions.shape)\n",
    "print()\n",
    "print('predictions[0]:\\n', predictions[0])\n",
    "print()\n",
    "print('predictions[1]:\\n', predictions[1])"
   ]
  },
  {
   "cell_type": "code",
   "execution_count": 34,
   "metadata": {},
   "outputs": [
    {
     "name": "stdout",
     "output_type": "stream",
     "text": [
      "44+96   = 140 [predict: 140] ✓\n",
      "88+41   = 129 [predict: 129] ✓\n",
      "65+68   = 133 [predict: 133] ✓\n",
      "10+42   = 52  [predict: 52 ] ✓\n",
      "42+97   = 139 [predict: 139] ✓\n",
      "70+58   = 128 [predict: 128] ✓\n",
      "86+53   = 139 [predict: 139] ✓\n",
      "33+41   = 74  [predict: 74 ] ✓\n",
      "30+30   = 60  [predict: 60 ] ✓\n",
      "5+5     = 10  [predict: 10 ] ✓\n",
      "86+75   = 161 [predict: 161] ✓\n",
      "81+49   = 130 [predict: 130] ✓\n",
      "71+71   = 142 [predict: 142] ✓\n",
      "81+86   = 167 [predict: 167] ✓\n",
      "46+100  = 146 [predict: 756] \n",
      "53+41   = 94  [predict: 94 ] ✓\n",
      "94+31   = 125 [predict: 125] ✓\n",
      "13+34   = 47  [predict: 47 ] ✓\n",
      "9+74    = 83  [predict: 83 ] ✓\n",
      "94+91   = 185 [predict: 185] ✓\n",
      "94+52   = 146 [predict: 146] ✓\n",
      "35+58   = 93  [predict: 93 ] ✓\n",
      "20+10   = 30  [predict: 30 ] ✓\n",
      "67+32   = 99  [predict: 99 ] ✓\n",
      "88+80   = 168 [predict: 168] ✓\n",
      "19+92   = 111 [predict: 111] ✓\n",
      "76+51   = 127 [predict: 127] ✓\n",
      "27+20   = 47  [predict: 47 ] ✓\n",
      "66+6    = 72  [predict: 72 ] ✓\n",
      "36+69   = 105 [predict: 105] ✓\n",
      "72+84   = 156 [predict: 156] ✓\n",
      "68+84   = 152 [predict: 152] ✓\n",
      "72+13   = 85  [predict: 85 ] ✓\n",
      "58+44   = 102 [predict: 102] ✓\n",
      "38+20   = 58  [predict: 58 ] ✓\n",
      "73+88   = 161 [predict: 161] ✓\n",
      "30+59   = 89  [predict: 89 ] ✓\n",
      "11+16   = 27  [predict: 27 ] ✓\n",
      "75+52   = 127 [predict: 127] ✓\n",
      "9+73    = 82  [predict: 82 ] ✓\n"
     ]
    }
   ],
   "source": [
    "x_encoded = [decode(example, vocabulary) for example in x_test]\n",
    "y_expected = [decode(label, vocabulary) for label in y_test]\n",
    "y_predicted = [decode(prediction, vocabulary) for prediction in predictions]\n",
    "\n",
    "explore_num = 40\n",
    "for example, label, prediction in list(zip(x_encoded, y_expected, y_predicted))[:explore_num]:\n",
    "    checkmark = '✓' if label == prediction else ''\n",
    "    print('{} = {} [predict: {}] {}'.format(example, label, prediction, checkmark))"
   ]
  },
  {
   "cell_type": "markdown",
   "metadata": {},
   "source": [
    "## Save a model"
   ]
  },
  {
   "cell_type": "code",
   "execution_count": 35,
   "metadata": {},
   "outputs": [],
   "source": [
    "model_name = 'numbers_summation_rnn.h5'\n",
    "model.save(model_name, save_format='h5')"
   ]
  },
  {
   "cell_type": "markdown",
   "metadata": {},
   "source": [
    "## Converting the model to web-format\n",
    "\n",
    "To use this model on the web we need to convert it into the format that will be understandable by [tensorflowjs](https://www.tensorflow.org/js). To do so we may use [tfjs-converter](https://github.com/tensorflow/tfjs/tree/master/tfjs-converter) as following:\n",
    "\n",
    "```\n",
    "tensorflowjs_converter --input_format keras \\\n",
    "  ./experiments/numbers_summation_rnn/numbers_summation_rnn.h5 \\\n",
    "  ./demos/public/models/numbers_summation_rnn\n",
    "```\n",
    "\n",
    "You may find this experiment in the [Demo app](https://trekhleb.github.io/machine-learning-experiments) and play around with it right in you browser to see how the model performs in real life."
   ]
  }
 ],
 "metadata": {
  "kernelspec": {
   "display_name": "Python 3",
   "language": "python",
   "name": "python3"
  },
  "language_info": {
   "codemirror_mode": {
    "name": "ipython",
    "version": 3
   },
   "file_extension": ".py",
   "mimetype": "text/x-python",
   "name": "python",
   "nbconvert_exporter": "python",
   "pygments_lexer": "ipython3",
   "version": "3.7.6"
  }
 },
 "nbformat": 4,
 "nbformat_minor": 2
}
