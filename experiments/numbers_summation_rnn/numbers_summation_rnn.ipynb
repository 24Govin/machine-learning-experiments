{
 "cells": [
  {
   "cell_type": "markdown",
   "metadata": {},
   "source": [
    "# Numbers Summation (using RNN LSTM)"
   ]
  },
  {
   "cell_type": "markdown",
   "metadata": {},
   "source": [
    "> - <font size=\"+1\">🤖 See [full list of Machine Learning Experiments](https://github.com/trekhleb/machine-learning-experiments) on **GitHub**</font><br/><br/>\n",
    "> - ▶️ <font size=\"+1\">**Interactive Demo**: [try this model and other machine learning experiments in action](https://trekhleb.github.io/machine-learning-experiments)</font>"
   ]
  },
  {
   "cell_type": "markdown",
   "metadata": {},
   "source": [
    "## Experiment overview"
   ]
  },
  {
   "cell_type": "markdown",
   "metadata": {},
   "source": [
    "In this experiment we will use [Recurrent Neural Network](https://en.wikipedia.org/wiki/Recurrent_neural_network) (RNN) to sum up two numbers (each number is in a range of `[1, 99]`). The summation expression (i.e. `\"1+45\"` or `37+68`) that will be sent to the RNN _input_ will be treated as a **string** (sequence of characters) and the _output_ of the RNN will also be a string (i.e. `\"46\"` or `\"106\"`) - the sequence of characters that will represent the result of summation. This is a \"sequence-to-sequence\" version of RNN implementation. We will use LSTM ([Long Short-Term Memory](https://en.wikipedia.org/wiki/Long_short-term_memory)) recurent neural network for this task.\n",
    "\n",
    "![numbers_summation_rnn.png](../../demos/src/images/numbers_summation_rnn.png)"
   ]
  },
  {
   "cell_type": "markdown",
   "metadata": {},
   "source": [
    "Inspired by [Learn to Add Numbers with an Encoder-Decoder LSTM Recurrent Neural Network](https://machinelearningmastery.com/learn-add-numbers-seq2seq-recurrent-neural-networks/) article."
   ]
  },
  {
   "cell_type": "code",
   "execution_count": null,
   "metadata": {},
   "outputs": [],
   "source": [
    "# Selecting Tensorflow version v2 (the command is relevant for Colab only).\n",
    "# %tensorflow_version 2.x"
   ]
  },
  {
   "cell_type": "code",
   "execution_count": null,
   "metadata": {},
   "outputs": [],
   "source": [
    "import tensorflow as tf\n",
    "import matplotlib.pyplot as plt\n",
    "import numpy as np\n",
    "import platform\n",
    "import random\n",
    "import math\n",
    "\n",
    "print('Python version:', platform.python_version())\n",
    "print('Tensorflow version:', tf.__version__)\n",
    "print('Keras version:', tf.keras.__version__)"
   ]
  },
  {
   "cell_type": "code",
   "execution_count": null,
   "metadata": {},
   "outputs": [],
   "source": [
    "dataset_size = 5000\n",
    "sequence_length = 2\n",
    "max_num = 100"
   ]
  },
  {
   "cell_type": "code",
   "execution_count": null,
   "metadata": {},
   "outputs": [],
   "source": [
    "def generate_sums(dataset_size, sequence_length, max_num):\n",
    "    # Initial dataset states.\n",
    "    x, y = [], []\n",
    "    \n",
    "    # Generating sums.\n",
    "    for i in range(dataset_size):\n",
    "        sequence = [random.randint(1, max_num) for _ in range(sequence_length)]\n",
    "        x.append(sequence)\n",
    "        y.append(sum(sequence))\n",
    "    \n",
    "    return x, y"
   ]
  },
  {
   "cell_type": "code",
   "execution_count": null,
   "metadata": {},
   "outputs": [],
   "source": [
    "x_train, y_train = generate_sums(\n",
    "    dataset_size=dataset_size,\n",
    "    sequence_length=sequence_length,\n",
    "    max_num=max_num\n",
    ")\n",
    "\n",
    "print('x_train:\\n', x_train[:3])\n",
    "print()\n",
    "print('y_train:\\n', y_train[:3])"
   ]
  },
  {
   "cell_type": "code",
   "execution_count": null,
   "metadata": {},
   "outputs": [],
   "source": [
    "def dataset_to_strings(x, y, max_num):\n",
    "    # Initial dataset states.\n",
    "    x_str, y_str = [], []\n",
    "    \n",
    "    sequnce_length = len(x[0])\n",
    "    \n",
    "    # Calculate the maximum length of equation (x) string (i.e. of \"11+99\")\n",
    "    num_of_pluses = sequnce_length - 1\n",
    "    num_of_chars_per_digit = math.ceil(math.log10(max_num + 1))\n",
    "    max_x_length = sequnce_length * num_of_chars_per_digit + num_of_pluses\n",
    "    \n",
    "    # Calculate the maximum length of label (y) string (i.e. of \"167\")\n",
    "    max_y_length = math.ceil(math.log10(sequnce_length * (max_num + 1)))\n",
    "    \n",
    "    # Add a space \" \" padding to equation strings to make them of the same length.\n",
    "    for example in x:\n",
    "        str_example = '+'.join([str(digit) for digit in example])\n",
    "        str_example += ''.join([' ' for padding in range(max_x_length - len(str_example))])\n",
    "        x_str.append(str_example)\n",
    "    \n",
    "    # Add a space \" \" padding to labels strings to make them of the same length.\n",
    "    for label in y:\n",
    "        str_example = str(label)\n",
    "        str_example += ''.join([' ' for padding in range(max_y_length - len(str_example))])\n",
    "        y_str.append(str_example)\n",
    "    \n",
    "    return x_str, y_str"
   ]
  },
  {
   "cell_type": "code",
   "execution_count": null,
   "metadata": {},
   "outputs": [],
   "source": [
    "x_train_str, y_train_str = dataset_to_strings(x_train, y_train, max_num)\n",
    "\n",
    "print('x_train_str:\\n', np.array(x_train_str[:3]))\n",
    "print()\n",
    "print('y_train_str:\\n', np.array(y_train_str[:3]))"
   ]
  },
  {
   "cell_type": "code",
   "execution_count": null,
   "metadata": {},
   "outputs": [],
   "source": [
    "vocabulary = ['0', '1', '2', '3', '4', '5', '6', '7', '8', '9', '+', ' ']"
   ]
  },
  {
   "cell_type": "code",
   "execution_count": null,
   "metadata": {},
   "outputs": [],
   "source": [
    "char_to_index = {char: index for index, char in enumerate(vocabulary)}\n",
    "\n",
    "print(char_to_index)"
   ]
  },
  {
   "cell_type": "code",
   "execution_count": null,
   "metadata": {},
   "outputs": [],
   "source": [
    "def dataset_to_indices(x, y, vocabulary):\n",
    "    x_encoded, y_encoded = [], []\n",
    "    \n",
    "    char_to_index = {char: index for index, char in enumerate(vocabulary)}\n",
    "    \n",
    "    for example in x:\n",
    "        example_encoded = [char_to_index[char] for char in example]\n",
    "        x_encoded.append(example_encoded)\n",
    "        \n",
    "    for label in y:\n",
    "        label_encoded = [char_to_index[char] for char in label]\n",
    "        y_encoded.append(label_encoded)\n",
    "        \n",
    "    return x_encoded, y_encoded"
   ]
  },
  {
   "cell_type": "code",
   "execution_count": null,
   "metadata": {},
   "outputs": [],
   "source": [
    "x_train_encoded, y_train_encoded = dataset_to_indices(\n",
    "    x_train_str,\n",
    "    y_train_str,\n",
    "    vocabulary\n",
    ")\n",
    "\n",
    "print('x_train_encoded:\\n', np.array(x_train_encoded[:3]))\n",
    "print()\n",
    "print('y_train_encoded:\\n', np.array(y_train_encoded[:3]))"
   ]
  },
  {
   "cell_type": "code",
   "execution_count": null,
   "metadata": {},
   "outputs": [],
   "source": [
    "def dataset_to_one_hot(x, y, vocabulary):\n",
    "    x_encoded, y_encoded = [], []\n",
    "    \n",
    "    for example in x:\n",
    "        pattern = []\n",
    "        for index in example:\n",
    "            vector = [0 for _ in range(len(vocabulary))]\n",
    "            vector[index] = 1\n",
    "            pattern.append(vector)\n",
    "        x_encoded.append(pattern)\n",
    "            \n",
    "    for label in y:\n",
    "        pattern = []\n",
    "        for index in label:\n",
    "            vector = [0 for _ in range(len(vocabulary))]\n",
    "            vector[index] = 1\n",
    "            pattern.append(vector)\n",
    "        y_encoded.append(pattern)\n",
    "        \n",
    "    return x_encoded, y_encoded"
   ]
  },
  {
   "cell_type": "code",
   "execution_count": null,
   "metadata": {},
   "outputs": [],
   "source": [
    "x_train_one_hot, y_train_one_hot = dataset_to_one_hot(\n",
    "    x_train_encoded,\n",
    "    y_train_encoded,\n",
    "    vocabulary\n",
    ")\n",
    "\n",
    "print('x_train_one_hot:\\n', np.array(x_train_one_hot[:1]))\n",
    "print()\n",
    "print('y_train_one_hot:\\n', np.array(y_train_one_hot[:1]))"
   ]
  },
  {
   "cell_type": "code",
   "execution_count": null,
   "metadata": {},
   "outputs": [],
   "source": [
    "def generate_dataset(dataset_size, sequence_length, max_num, vocabulary):\n",
    "    # Generate integet sum sequences.\n",
    "    x, y = generate_sums(dataset_size, sequence_length, max_num)\n",
    "    # Convert integer sum sequences into strings.\n",
    "    x, y = dataset_to_strings(x, y, max_num)\n",
    "    # Encode each character to a char indices.\n",
    "    x, y = dataset_to_indices(x, y, vocabulary)\n",
    "    # Encode each index into one-hot vector.\n",
    "    x, y = dataset_to_one_hot(x, y, vocabulary)\n",
    "    # Return the data.\n",
    "    return np.array(x), np.array(y)"
   ]
  },
  {
   "cell_type": "code",
   "execution_count": null,
   "metadata": {},
   "outputs": [],
   "source": [
    "x, y = generate_dataset(\n",
    "    dataset_size,\n",
    "    sequence_length,\n",
    "    max_num,\n",
    "    vocabulary\n",
    ")\n",
    "\n",
    "print('x:\\n', x[:1])\n",
    "print()\n",
    "print('y:\\n', y[:1])"
   ]
  },
  {
   "cell_type": "code",
   "execution_count": null,
   "metadata": {},
   "outputs": [],
   "source": [
    "print('x.shape: ', x.shape) # (input_sequences_num, input_sequence_length, supported_symbols_num)\n",
    "print('y.shape: ', y.shape) # (output_sequences_num, output_sequence_length, supported_symbols_num)"
   ]
  },
  {
   "cell_type": "code",
   "execution_count": null,
   "metadata": {},
   "outputs": [],
   "source": [
    "input_sequence_length = x.shape[1]\n",
    "output_sequence_length = y.shape[1]\n",
    "supported_symbols_num = x.shape[2]\n",
    "vocabulary_size = len(vocabulary)\n",
    "\n",
    "print('input_sequence_length: ', input_sequence_length)\n",
    "print('output_sequence_length: ', output_sequence_length)\n",
    "print('supported_symbols_num: ', supported_symbols_num)\n",
    "print('vocabulary_size: ', vocabulary_size)"
   ]
  },
  {
   "cell_type": "code",
   "execution_count": null,
   "metadata": {},
   "outputs": [],
   "source": [
    "def decode(sequence, vocabulary):\n",
    "    index_to_char = {index: char for index, char in enumerate(vocabulary)}\n",
    "    strings = []\n",
    "    for char_vector in sequence:\n",
    "        char = index_to_char[np.argmax(char_vector)]\n",
    "        strings.append(char)\n",
    "    return ''.join(strings)"
   ]
  },
  {
   "cell_type": "code",
   "execution_count": null,
   "metadata": {},
   "outputs": [],
   "source": [
    "decode(y[0], vocabulary)"
   ]
  },
  {
   "cell_type": "code",
   "execution_count": null,
   "metadata": {},
   "outputs": [],
   "source": [
    "epochs_num = 150\n",
    "batch_size = 128"
   ]
  },
  {
   "cell_type": "code",
   "execution_count": null,
   "metadata": {},
   "outputs": [],
   "source": [
    "model = tf.keras.models.Sequential()\n",
    "\n",
    "# Encoder.\n",
    "\n",
    "model.add(tf.keras.layers.LSTM(\n",
    "    units=128,\n",
    "    input_shape=(input_sequence_length, vocabulary_size),\n",
    "    recurrent_initializer=tf.keras.initializers.GlorotNormal()\n",
    "))\n",
    "\n",
    "# Decoder.\n",
    "\n",
    "model.add(tf.keras.layers.RepeatVector(\n",
    "    n=output_sequence_length,\n",
    "))\n",
    "\n",
    "model.add(tf.keras.layers.LSTM(\n",
    "    units=128,\n",
    "    return_sequences=True,\n",
    "    recurrent_initializer=tf.keras.initializers.GlorotNormal()\n",
    "))\n",
    "\n",
    "model.add(tf.keras.layers.TimeDistributed(\n",
    "    layer=tf.keras.layers.Dense(\n",
    "        units=vocabulary_size,\n",
    "    )\n",
    "))\n",
    "\n",
    "model.add(tf.keras.layers.Activation(\n",
    "    activation='softmax'\n",
    "))"
   ]
  },
  {
   "cell_type": "code",
   "execution_count": null,
   "metadata": {},
   "outputs": [],
   "source": [
    "model.summary()"
   ]
  },
  {
   "cell_type": "code",
   "execution_count": null,
   "metadata": {},
   "outputs": [],
   "source": [
    "tf.keras.utils.plot_model(\n",
    "    model,\n",
    "    show_shapes=True,\n",
    "    show_layer_names=True,\n",
    ")"
   ]
  },
  {
   "cell_type": "code",
   "execution_count": null,
   "metadata": {},
   "outputs": [],
   "source": [
    "adam_optimizer = tf.keras.optimizers.Adam(learning_rate=0.001)\n",
    "model.compile(\n",
    "    optimizer=adam_optimizer,\n",
    "    loss=tf.keras.losses.categorical_crossentropy,\n",
    "    metrics=['accuracy']\n",
    ")"
   ]
  },
  {
   "cell_type": "code",
   "execution_count": null,
   "metadata": {},
   "outputs": [],
   "source": [
    "history = model.fit(\n",
    "    x=x,\n",
    "    y=y,\n",
    "    epochs=epochs_num,\n",
    "    batch_size=batch_size,\n",
    "    validation_split=0.1\n",
    ")"
   ]
  },
  {
   "cell_type": "code",
   "execution_count": null,
   "metadata": {},
   "outputs": [],
   "source": [
    "def render_training_history(training_history):\n",
    "    loss = training_history.history['loss']\n",
    "    val_loss = training_history.history['val_loss']\n",
    "\n",
    "    accuracy = training_history.history['accuracy']\n",
    "    val_accuracy = training_history.history['val_accuracy']\n",
    "\n",
    "    plt.figure(figsize=(14, 4))\n",
    "\n",
    "    plt.subplot(1, 2, 1)\n",
    "    plt.title('Loss')\n",
    "    plt.xlabel('Epoch')\n",
    "    plt.ylabel('Loss')\n",
    "    plt.plot(loss, label='Training set')\n",
    "    plt.plot(val_loss, label='Test set', linestyle='--')\n",
    "    plt.legend()\n",
    "    plt.grid(linestyle='--', linewidth=1, alpha=0.5)\n",
    "\n",
    "    plt.subplot(1, 2, 2)\n",
    "    plt.title('Accuracy')\n",
    "    plt.xlabel('Epoch')\n",
    "    plt.ylabel('Accuracy')\n",
    "    plt.plot(accuracy, label='Training set')\n",
    "    plt.plot(val_accuracy, label='Test set', linestyle='--')\n",
    "    plt.legend()\n",
    "    plt.grid(linestyle='--', linewidth=1, alpha=0.5)\n",
    "\n",
    "    plt.show()"
   ]
  },
  {
   "cell_type": "code",
   "execution_count": null,
   "metadata": {},
   "outputs": [],
   "source": [
    "render_training_history(history)"
   ]
  },
  {
   "cell_type": "code",
   "execution_count": null,
   "metadata": {},
   "outputs": [],
   "source": [
    "x_test, y_test = generate_dataset(dataset_size, sequence_length, max_num, vocabulary)\n",
    "\n",
    "print('x_test:\\n', x_test[:1])\n",
    "print()\n",
    "print('y_test:\\n', y_test[:1])"
   ]
  },
  {
   "cell_type": "code",
   "execution_count": null,
   "metadata": {},
   "outputs": [],
   "source": [
    "predictions = model.predict(x_test)\n",
    "\n",
    "print('predictions.shape: ', predictions.shape)\n",
    "print()\n",
    "print('predictions[0]:\\n', predictions[0])\n",
    "print()\n",
    "print('predictions[1]:\\n', predictions[1])"
   ]
  },
  {
   "cell_type": "code",
   "execution_count": null,
   "metadata": {},
   "outputs": [],
   "source": [
    "x_encoded = [decode(example, vocabulary) for example in x_test]\n",
    "y_expected = [decode(label, vocabulary) for label in y_test]\n",
    "y_predicted = [decode(prediction, vocabulary) for prediction in predictions]\n",
    "\n",
    "explore_num = 40\n",
    "for example, label, prediction in list(zip(x_encoded, y_expected, y_predicted))[:explore_num]:\n",
    "    checkmark = '✓' if label == prediction else ''\n",
    "    print('{} = {} [predict: {}] {}'.format(example, label, prediction, checkmark))"
   ]
  }
 ],
 "metadata": {
  "kernelspec": {
   "display_name": "Python 3",
   "language": "python",
   "name": "python3"
  },
  "language_info": {
   "codemirror_mode": {
    "name": "ipython",
    "version": 3
   },
   "file_extension": ".py",
   "mimetype": "text/x-python",
   "name": "python",
   "nbconvert_exporter": "python",
   "pygments_lexer": "ipython3",
   "version": "3.7.6"
  }
 },
 "nbformat": 4,
 "nbformat_minor": 2
}
