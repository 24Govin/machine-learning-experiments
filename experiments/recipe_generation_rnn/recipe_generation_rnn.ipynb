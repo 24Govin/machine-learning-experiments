{
 "cells": [
  {
   "cell_type": "markdown",
   "metadata": {
    "colab_type": "text",
    "id": "RXmkmYf6zn_u"
   },
   "source": [
    "# Recipe Generation using Recurrent Neural Network (RNN)"
   ]
  },
  {
   "cell_type": "markdown",
   "metadata": {
    "colab_type": "text",
    "id": "94dQZx62zn_v"
   },
   "source": [
    "## Importing dependencies"
   ]
  },
  {
   "cell_type": "code",
   "execution_count": 1,
   "metadata": {
    "colab": {
     "base_uri": "https://localhost:8080/",
     "height": 68
    },
    "colab_type": "code",
    "executionInfo": {
     "elapsed": 2392,
     "status": "ok",
     "timestamp": 1589554197944,
     "user": {
      "displayName": "Oleksii Trekhleb",
      "photoUrl": "https://lh3.googleusercontent.com/a-/AOh14GiiA4aUKCbFho88Jd0WWMoAqQUt3jbuCtfNYpHVOA=s64",
      "userId": "03172675069638383074"
     },
     "user_tz": -120
    },
    "id": "aSXRhOp1zn_v",
    "outputId": "eaf1ef4b-ddf6-444e-cb83-60bbf802a652"
   },
   "outputs": [
    {
     "name": "stdout",
     "output_type": "stream",
     "text": [
      "Python version: 3.6.9\n",
      "Tensorflow version: 2.2.0\n",
      "Keras version: 2.3.0-tf\n"
     ]
    }
   ],
   "source": [
    "import tensorflow as tf\n",
    "import matplotlib.pyplot as plt\n",
    "import numpy as np\n",
    "import platform\n",
    "import time\n",
    "import pathlib\n",
    "import os\n",
    "import json\n",
    "\n",
    "print('Python version:', platform.python_version())\n",
    "print('Tensorflow version:', tf.__version__)\n",
    "print('Keras version:', tf.keras.__version__)"
   ]
  },
  {
   "cell_type": "markdown",
   "metadata": {
    "colab_type": "text",
    "id": "xRuJU_duzn_1"
   },
   "source": [
    "## Exploring datasets\n",
    "\n",
    "- 🤷 [Recipe Ingredients Dataset](https://www.kaggle.com/kaggle/recipe-ingredients-dataset/home) _(doesn't have ingredients proportions)_\n",
    "- 🤷 [Recipe1M+](http://pic2recipe.csail.mit.edu/) _(requires registration to download)_\n",
    "- 🤷 [Epicurious - Recipes with Rating and Nutrition](https://www.kaggle.com/hugodarwood/epirecipes?select=full_format_recipes.json) _(~20k recipes only, it would be nice to find more)_\n",
    "- 👍🏻 [**Recipe box**](https://eightportions.com/datasets/Recipes/) _(~125,000 recipes with ingredients proportions)_"
   ]
  },
  {
   "cell_type": "markdown",
   "metadata": {
    "colab_type": "text",
    "id": "AeWNECYszn_1"
   },
   "source": [
    "## Loading the dataset"
   ]
  },
  {
   "cell_type": "code",
   "execution_count": 0,
   "metadata": {
    "colab": {},
    "colab_type": "code",
    "id": "csOAhA7gzn_2"
   },
   "outputs": [],
   "source": [
    "# Create cache folder.\n",
    "cache_dir = './tmp'\n",
    "pathlib.Path(cache_dir).mkdir(exist_ok=True)"
   ]
  },
  {
   "cell_type": "code",
   "execution_count": 3,
   "metadata": {
    "colab": {
     "base_uri": "https://localhost:8080/",
     "height": 68
    },
    "colab_type": "code",
    "executionInfo": {
     "elapsed": 5765,
     "status": "ok",
     "timestamp": 1589554201437,
     "user": {
      "displayName": "Oleksii Trekhleb",
      "photoUrl": "https://lh3.googleusercontent.com/a-/AOh14GiiA4aUKCbFho88Jd0WWMoAqQUt3jbuCtfNYpHVOA=s64",
      "userId": "03172675069638383074"
     },
     "user_tz": -120
    },
    "id": "IcF4OJL6zn_4",
    "outputId": "c10bc8b8-eac3-40bc-ee69-b78985066863"
   },
   "outputs": [
    {
     "name": "stdout",
     "output_type": "stream",
     "text": [
      "Downloading data from https://storage.googleapis.com/recipe-box/recipes_raw.zip\n",
      "53362688/53355492 [==============================] - 1s 0us/step\n",
      "./tmp/datasets/recipes_raw.zip\n"
     ]
    }
   ],
   "source": [
    "# Download and unpack the dataset.\n",
    "dataset_file_name = 'recipes_raw.zip'\n",
    "dataset_file_origin = 'https://storage.googleapis.com/recipe-box/recipes_raw.zip'\n",
    "\n",
    "dataset_file_path = tf.keras.utils.get_file(\n",
    "    fname=dataset_file_name,\n",
    "    origin=dataset_file_origin,\n",
    "    cache_dir=cache_dir,\n",
    "    extract=True,\n",
    "    archive_format='zip'\n",
    ")\n",
    "\n",
    "print(dataset_file_path)"
   ]
  },
  {
   "cell_type": "code",
   "execution_count": 4,
   "metadata": {
    "colab": {
     "base_uri": "https://localhost:8080/",
     "height": 153
    },
    "colab_type": "code",
    "executionInfo": {
     "elapsed": 12152,
     "status": "ok",
     "timestamp": 1589554207883,
     "user": {
      "displayName": "Oleksii Trekhleb",
      "photoUrl": "https://lh3.googleusercontent.com/a-/AOh14GiiA4aUKCbFho88Jd0WWMoAqQUt3jbuCtfNYpHVOA=s64",
      "userId": "03172675069638383074"
     },
     "user_tz": -120
    },
    "id": "cwNvb-BAzn_7",
    "outputId": "bb31b7dd-f50d-4752-d4bf-d72ca3d6608d"
   },
   "outputs": [
    {
     "name": "stdout",
     "output_type": "stream",
     "text": [
      "total 251972\n",
      "drwxr-xr-x 2 root root     4096 May 15 14:50 .\n",
      "drwxr-xr-x 3 root root     4096 May 15 14:49 ..\n",
      "-rw-r--r-- 1 root root    20437 May 15 14:50 LICENSE\n",
      "-rw-r--r-- 1 root root 49784325 May 15 14:49 recipes_raw_nosource_ar.json\n",
      "-rw-r--r-- 1 root root 61133971 May 15 14:50 recipes_raw_nosource_epi.json\n",
      "-rw-r--r-- 1 root root 93702755 May 15 14:50 recipes_raw_nosource_fn.json\n",
      "-rw-r--r-- 1 root root 53355492 May 15 14:49 recipes_raw.zip\n"
     ]
    }
   ],
   "source": [
    "!ls -la ./tmp/datasets/"
   ]
  },
  {
   "cell_type": "code",
   "execution_count": 0,
   "metadata": {
    "colab": {},
    "colab_type": "code",
    "id": "TvD1n4vzzn_-"
   },
   "outputs": [],
   "source": [
    "def load_dataset(silent=False):\n",
    "    dataset_file_names = [\n",
    "        'recipes_raw_nosource_ar.json',\n",
    "        'recipes_raw_nosource_epi.json',\n",
    "        'recipes_raw_nosource_fn.json',\n",
    "    ]\n",
    "    \n",
    "    dataset = []\n",
    "\n",
    "    for dataset_file_name in dataset_file_names:\n",
    "        dataset_file_path = f'{cache_dir}/datasets/{dataset_file_name}'\n",
    "\n",
    "        with open(dataset_file_path) as dataset_file:\n",
    "            json_data_dict = json.load(dataset_file)\n",
    "            json_data_list = list(json_data_dict.values())\n",
    "            dict_keys = [key for key in json_data_list[0]]\n",
    "            dict_keys.sort()\n",
    "            dataset += json_data_list\n",
    "\n",
    "            if silent == False:\n",
    "                print(dataset_file_path)\n",
    "                print('===========================================')\n",
    "                print('Number of examples: ', len(json_data_list), '\\n')\n",
    "                print('Example object keys:\\n', dict_keys, '\\n')\n",
    "                print('Example object:\\n', json_data_list[0], '\\n')\n",
    "                print('Required keys:\\n')\n",
    "                print('  title: ', json_data_list[0]['title'], '\\n')\n",
    "                print('  ingredients: ', json_data_list[0]['ingredients'], '\\n')\n",
    "                print('  instructions: ', json_data_list[0]['instructions'])\n",
    "                print('\\n\\n')\n",
    "    \n",
    "    return dataset  "
   ]
  },
  {
   "cell_type": "code",
   "execution_count": 6,
   "metadata": {
    "colab": {
     "base_uri": "https://localhost:8080/",
     "height": 1000
    },
    "colab_type": "code",
    "executionInfo": {
     "elapsed": 13284,
     "status": "ok",
     "timestamp": 1589554209132,
     "user": {
      "displayName": "Oleksii Trekhleb",
      "photoUrl": "https://lh3.googleusercontent.com/a-/AOh14GiiA4aUKCbFho88Jd0WWMoAqQUt3jbuCtfNYpHVOA=s64",
      "userId": "03172675069638383074"
     },
     "user_tz": -120
    },
    "id": "sFyy_tRDzoAA",
    "outputId": "1a245494-c1b2-4139-c683-eddf31236e01"
   },
   "outputs": [
    {
     "name": "stdout",
     "output_type": "stream",
     "text": [
      "./tmp/datasets/recipes_raw_nosource_ar.json\n",
      "===========================================\n",
      "Number of examples:  39802 \n",
      "\n",
      "Example object keys:\n",
      " ['ingredients', 'instructions', 'picture_link', 'title'] \n",
      "\n",
      "Example object:\n",
      " {'title': 'Slow Cooker Chicken and Dumplings', 'ingredients': ['4 skinless, boneless chicken breast halves ADVERTISEMENT', '2 tablespoons butter ADVERTISEMENT', '2 (10.75 ounce) cans condensed cream of chicken soup ADVERTISEMENT', '1 onion, finely diced ADVERTISEMENT', '2 (10 ounce) packages refrigerated biscuit dough, torn into pieces ADVERTISEMENT', 'ADVERTISEMENT'], 'instructions': 'Place the chicken, butter, soup, and onion in a slow cooker, and fill with enough water to cover.\\nCover, and cook for 5 to 6 hours on High. About 30 minutes before serving, place the torn biscuit dough in the slow cooker. Cook until the dough is no longer raw in the center.\\n', 'picture_link': '55lznCYBbs2mT8BTx6BTkLhynGHzM.S'} \n",
      "\n",
      "Required keys:\n",
      "\n",
      "  title:  Slow Cooker Chicken and Dumplings \n",
      "\n",
      "  ingredients:  ['4 skinless, boneless chicken breast halves ADVERTISEMENT', '2 tablespoons butter ADVERTISEMENT', '2 (10.75 ounce) cans condensed cream of chicken soup ADVERTISEMENT', '1 onion, finely diced ADVERTISEMENT', '2 (10 ounce) packages refrigerated biscuit dough, torn into pieces ADVERTISEMENT', 'ADVERTISEMENT'] \n",
      "\n",
      "  instructions:  Place the chicken, butter, soup, and onion in a slow cooker, and fill with enough water to cover.\n",
      "Cover, and cook for 5 to 6 hours on High. About 30 minutes before serving, place the torn biscuit dough in the slow cooker. Cook until the dough is no longer raw in the center.\n",
      "\n",
      "\n",
      "\n",
      "\n",
      "./tmp/datasets/recipes_raw_nosource_epi.json\n",
      "===========================================\n",
      "Number of examples:  25323 \n",
      "\n",
      "Example object keys:\n",
      " ['ingredients', 'instructions', 'picture_link', 'title'] \n",
      "\n",
      "Example object:\n",
      " {'ingredients': ['12 egg whites', '12 egg yolks', '1 1/2 cups sugar', '3/4 cup rye whiskey', '12 egg whites', '3/4 cup brandy', '1/2 cup rum', '1 to 2 cups heavy cream, lightly whipped', 'Garnish: ground nutmeg'], 'picture_link': None, 'instructions': 'Beat the egg whites until stiff, gradually adding in 3/4 cup sugar. Set aside. Beat the egg yolks until they are thick and pale and add the other 3/4 cup sugar and stir in rye whiskey. Blend well. Fold the egg white mixture into the yolk mixture and add the brandy and the rum. Beat the mixture well. To serve, fold the lightly whipped heavy cream into the eggnog. (If a thinner mixture is desired, add the heavy cream unwhipped.) Sprinkle the top of the eggnog with the nutmeg to taste.\\nBeat the egg whites until stiff, gradually adding in 3/4 cup sugar. Set aside. Beat the egg yolks until they are thick and pale and add the other 3/4 cup sugar and stir in rye whiskey. Blend well. Fold the egg white mixture into the yolk mixture and add the brandy and the rum. Beat the mixture well. To serve, fold the lightly whipped heavy cream into the eggnog. (If a thinner mixture is desired, add the heavy cream unwhipped.) Sprinkle the top of the eggnog with the nutmeg to taste.', 'title': 'Christmas Eggnog '} \n",
      "\n",
      "Required keys:\n",
      "\n",
      "  title:  Christmas Eggnog  \n",
      "\n",
      "  ingredients:  ['12 egg whites', '12 egg yolks', '1 1/2 cups sugar', '3/4 cup rye whiskey', '12 egg whites', '3/4 cup brandy', '1/2 cup rum', '1 to 2 cups heavy cream, lightly whipped', 'Garnish: ground nutmeg'] \n",
      "\n",
      "  instructions:  Beat the egg whites until stiff, gradually adding in 3/4 cup sugar. Set aside. Beat the egg yolks until they are thick and pale and add the other 3/4 cup sugar and stir in rye whiskey. Blend well. Fold the egg white mixture into the yolk mixture and add the brandy and the rum. Beat the mixture well. To serve, fold the lightly whipped heavy cream into the eggnog. (If a thinner mixture is desired, add the heavy cream unwhipped.) Sprinkle the top of the eggnog with the nutmeg to taste.\n",
      "Beat the egg whites until stiff, gradually adding in 3/4 cup sugar. Set aside. Beat the egg yolks until they are thick and pale and add the other 3/4 cup sugar and stir in rye whiskey. Blend well. Fold the egg white mixture into the yolk mixture and add the brandy and the rum. Beat the mixture well. To serve, fold the lightly whipped heavy cream into the eggnog. (If a thinner mixture is desired, add the heavy cream unwhipped.) Sprinkle the top of the eggnog with the nutmeg to taste.\n",
      "\n",
      "\n",
      "\n",
      "./tmp/datasets/recipes_raw_nosource_fn.json\n",
      "===========================================\n",
      "Number of examples:  60039 \n",
      "\n",
      "Example object keys:\n",
      " ['ingredients', 'instructions', 'picture_link', 'title'] \n",
      "\n",
      "Example object:\n",
      " {'instructions': 'Toss ingredients lightly and spoon into a buttered baking dish. Top with additional crushed cracker crumbs, and brush with melted butter. Bake in a preheated at 350 degrees oven for 25 to 30 minutes or until delicately browned.', 'ingredients': ['1/2 cup celery, finely chopped', '1 small green pepper finely chopped', '1/2 cup finely sliced green onions', '1/4 cup chopped parsley', '1 pound crabmeat', '1 1/4 cups coarsely crushed cracker crumbs', '1/2 teaspoon salt', '3/4 teaspoons dry mustard', 'Dash hot sauce', '1/4 cup heavy cream', '1/2 cup melted butter'], 'title': \"Grammie Hamblet's Deviled Crab\", 'picture_link': None} \n",
      "\n",
      "Required keys:\n",
      "\n",
      "  title:  Grammie Hamblet's Deviled Crab \n",
      "\n",
      "  ingredients:  ['1/2 cup celery, finely chopped', '1 small green pepper finely chopped', '1/2 cup finely sliced green onions', '1/4 cup chopped parsley', '1 pound crabmeat', '1 1/4 cups coarsely crushed cracker crumbs', '1/2 teaspoon salt', '3/4 teaspoons dry mustard', 'Dash hot sauce', '1/4 cup heavy cream', '1/2 cup melted butter'] \n",
      "\n",
      "  instructions:  Toss ingredients lightly and spoon into a buttered baking dish. Top with additional crushed cracker crumbs, and brush with melted butter. Bake in a preheated at 350 degrees oven for 25 to 30 minutes or until delicately browned.\n",
      "\n",
      "\n",
      "\n"
     ]
    }
   ],
   "source": [
    "dataset_raw = load_dataset()  "
   ]
  },
  {
   "cell_type": "code",
   "execution_count": 7,
   "metadata": {
    "colab": {
     "base_uri": "https://localhost:8080/",
     "height": 34
    },
    "colab_type": "code",
    "executionInfo": {
     "elapsed": 13244,
     "status": "ok",
     "timestamp": 1589554209133,
     "user": {
      "displayName": "Oleksii Trekhleb",
      "photoUrl": "https://lh3.googleusercontent.com/a-/AOh14GiiA4aUKCbFho88Jd0WWMoAqQUt3jbuCtfNYpHVOA=s64",
      "userId": "03172675069638383074"
     },
     "user_tz": -120
    },
    "id": "k33eFMSszoAD",
    "outputId": "3e1c3c69-e848-4178-e548-8b7269b84310"
   },
   "outputs": [
    {
     "name": "stdout",
     "output_type": "stream",
     "text": [
      "Total number of raw examples:  125164\n"
     ]
    }
   ],
   "source": [
    "print('Total number of raw examples: ', len(dataset_raw))"
   ]
  },
  {
   "cell_type": "markdown",
   "metadata": {
    "colab_type": "text",
    "id": "bADjU5RFzoAG"
   },
   "source": [
    "## Preprocessing the dataset"
   ]
  },
  {
   "cell_type": "markdown",
   "metadata": {
    "colab_type": "text",
    "id": "VtIobQaKzoAG"
   },
   "source": [
    "### Converting recipes objects to strings"
   ]
  },
  {
   "cell_type": "code",
   "execution_count": 0,
   "metadata": {
    "colab": {},
    "colab_type": "code",
    "id": "ez9OtYoCzoAH"
   },
   "outputs": [],
   "source": [
    "STOP_SIGN = '★'"
   ]
  },
  {
   "cell_type": "code",
   "execution_count": 0,
   "metadata": {
    "colab": {},
    "colab_type": "code",
    "id": "fCAT0GXBzoAJ"
   },
   "outputs": [],
   "source": [
    "def recipe_validate(recipe):\n",
    "    required_keys = ['title', 'ingredients', 'instructions']\n",
    "    \n",
    "    if not recipe:\n",
    "        return False\n",
    "    \n",
    "    for required_key in required_keys:\n",
    "        if not recipe[required_key]:\n",
    "            return False\n",
    "        \n",
    "        if type(recipe[required_key]) == list and len(recipe[required_key]) == 0:\n",
    "            return False\n",
    "    \n",
    "    return True"
   ]
  },
  {
   "cell_type": "code",
   "execution_count": 0,
   "metadata": {
    "colab": {},
    "colab_type": "code",
    "id": "PWzarwn7zoAM"
   },
   "outputs": [],
   "source": [
    "def recipe_to_string(recipe):\n",
    "    noize_string = 'ADVERTISEMENT'\n",
    "    \n",
    "    title = recipe['title']\n",
    "    ingredients = recipe['ingredients']\n",
    "    instructions = recipe['instructions'].split('\\n')\n",
    "    \n",
    "    ingredients_string = ''\n",
    "    for ingredient in ingredients:\n",
    "        ingredient = ingredient.replace(noize_string, '')\n",
    "        if ingredient:\n",
    "            ingredients_string += f'\\n• {ingredient}'\n",
    "    \n",
    "    instructions_string = ''\n",
    "    for instruction in instructions:\n",
    "        instruction = instruction.replace(noize_string, '')\n",
    "        if instruction:\n",
    "            instructions_string += f'\\n▪︎ {instruction}'\n",
    "    \n",
    "    return f'[TITLE] \\n{title} \\n\\n[INGREDIENTS] {ingredients_string} \\n\\n[INSTRUCTIONS] {instructions_string}\\n\\n{STOP_SIGN}'"
   ]
  },
  {
   "cell_type": "code",
   "execution_count": 11,
   "metadata": {
    "colab": {
     "base_uri": "https://localhost:8080/",
     "height": 68
    },
    "colab_type": "code",
    "executionInfo": {
     "elapsed": 13178,
     "status": "ok",
     "timestamp": 1589554209137,
     "user": {
      "displayName": "Oleksii Trekhleb",
      "photoUrl": "https://lh3.googleusercontent.com/a-/AOh14GiiA4aUKCbFho88Jd0WWMoAqQUt3jbuCtfNYpHVOA=s64",
      "userId": "03172675069638383074"
     },
     "user_tz": -120
    },
    "id": "DoQ7_isjzoAP",
    "outputId": "69b13fca-b1b3-4e9e-d430-33006e111ed9"
   },
   "outputs": [
    {
     "name": "stdout",
     "output_type": "stream",
     "text": [
      "Dataset size BEFORE filtering 125164\n",
      "Dataset size AFTER filtering 122938\n",
      "Number of invalide recipes 2226\n"
     ]
    }
   ],
   "source": [
    "dataset_filtered = [recipe for recipe in dataset_raw if recipe_validate(recipe)]\n",
    "\n",
    "print('Dataset size BEFORE filtering', len(dataset_raw))\n",
    "print('Dataset size AFTER filtering', len(dataset_filtered))\n",
    "print('Number of invalide recipes', len(dataset_raw) - len(dataset_filtered))"
   ]
  },
  {
   "cell_type": "code",
   "execution_count": 12,
   "metadata": {
    "colab": {
     "base_uri": "https://localhost:8080/",
     "height": 34
    },
    "colab_type": "code",
    "executionInfo": {
     "elapsed": 13137,
     "status": "ok",
     "timestamp": 1589554209137,
     "user": {
      "displayName": "Oleksii Trekhleb",
      "photoUrl": "https://lh3.googleusercontent.com/a-/AOh14GiiA4aUKCbFho88Jd0WWMoAqQUt3jbuCtfNYpHVOA=s64",
      "userId": "03172675069638383074"
     },
     "user_tz": -120
    },
    "id": "Isb8xx8hzoAR",
    "outputId": "5c36908f-2dbd-44e4-8d8f-b002f8656dda"
   },
   "outputs": [
    {
     "name": "stdout",
     "output_type": "stream",
     "text": [
      "TOTAL_RECIPES_NUM:  122938\n"
     ]
    }
   ],
   "source": [
    "TOTAL_RECIPES_NUM = len(dataset_filtered)\n",
    "\n",
    "print('TOTAL_RECIPES_NUM: ', TOTAL_RECIPES_NUM)"
   ]
  },
  {
   "cell_type": "code",
   "execution_count": 13,
   "metadata": {
    "colab": {
     "base_uri": "https://localhost:8080/",
     "height": 34
    },
    "colab_type": "code",
    "executionInfo": {
     "elapsed": 14431,
     "status": "ok",
     "timestamp": 1589554210479,
     "user": {
      "displayName": "Oleksii Trekhleb",
      "photoUrl": "https://lh3.googleusercontent.com/a-/AOh14GiiA4aUKCbFho88Jd0WWMoAqQUt3jbuCtfNYpHVOA=s64",
      "userId": "03172675069638383074"
     },
     "user_tz": -120
    },
    "id": "WQvmIJxtzoAT",
    "outputId": "50edd08c-4787-41de-8db3-c54c94bbe631"
   },
   "outputs": [
    {
     "name": "stdout",
     "output_type": "stream",
     "text": [
      "Stringified dataset size:  122938\n"
     ]
    }
   ],
   "source": [
    "dataset_stringified = [recipe_to_string(recipe) for recipe in dataset_filtered]\n",
    "\n",
    "print('Stringified dataset size: ', len(dataset_stringified))"
   ]
  },
  {
   "cell_type": "code",
   "execution_count": 14,
   "metadata": {
    "colab": {
     "base_uri": "https://localhost:8080/",
     "height": 1000
    },
    "colab_type": "code",
    "executionInfo": {
     "elapsed": 14380,
     "status": "ok",
     "timestamp": 1589554210484,
     "user": {
      "displayName": "Oleksii Trekhleb",
      "photoUrl": "https://lh3.googleusercontent.com/a-/AOh14GiiA4aUKCbFho88Jd0WWMoAqQUt3jbuCtfNYpHVOA=s64",
      "userId": "03172675069638383074"
     },
     "user_tz": -120
    },
    "id": "7u9Ggok4zoAW",
    "outputId": "40695995-2742-4047-ee69-011013f7f157"
   },
   "outputs": [
    {
     "name": "stdout",
     "output_type": "stream",
     "text": [
      "[TITLE] \n",
      "Slow Cooker Chicken and Dumplings \n",
      "\n",
      "[INGREDIENTS] \n",
      "• 4 skinless, boneless chicken breast halves \n",
      "• 2 tablespoons butter \n",
      "• 2 (10.75 ounce) cans condensed cream of chicken soup \n",
      "• 1 onion, finely diced \n",
      "• 2 (10 ounce) packages refrigerated biscuit dough, torn into pieces  \n",
      "\n",
      "[INSTRUCTIONS] \n",
      "▪︎ Place the chicken, butter, soup, and onion in a slow cooker, and fill with enough water to cover.\n",
      "▪︎ Cover, and cook for 5 to 6 hours on High. About 30 minutes before serving, place the torn biscuit dough in the slow cooker. Cook until the dough is no longer raw in the center.\n",
      "\n",
      "★\n",
      "[TITLE] \n",
      "Awesome Slow Cooker Pot Roast \n",
      "\n",
      "[INGREDIENTS] \n",
      "• 2 (10.75 ounce) cans condensed cream of mushroom soup \n",
      "• 1 (1 ounce) package dry onion soup mix \n",
      "• 1 1/4 cups water \n",
      "• 5 1/2 pounds pot roast  \n",
      "\n",
      "[INSTRUCTIONS] \n",
      "▪︎ In a slow cooker, mix cream of mushroom soup, dry onion soup mix and water. Place pot roast in slow cooker and coat with soup mixture.\n",
      "▪︎ Cook on High setting for 3 to 4 hours, or on Low setting for 8 to 9 hours.\n",
      "\n",
      "★\n",
      "[TITLE] \n",
      "Brown Sugar Meatloaf \n",
      "\n",
      "[INGREDIENTS] \n",
      "• 1/2 cup packed brown sugar \n",
      "• 1/2 cup ketchup \n",
      "• 1 1/2 pounds lean ground beef \n",
      "• 3/4 cup milk \n",
      "• 2 eggs \n",
      "• 1 1/2 teaspoons salt \n",
      "• 1/4 teaspoon ground black pepper \n",
      "• 1 small onion, chopped \n",
      "• 1/4 teaspoon ground ginger \n",
      "• 3/4 cup finely crushed saltine cracker crumbs  \n",
      "\n",
      "[INSTRUCTIONS] \n",
      "▪︎ Preheat oven to 350 degrees F (175 degrees C). Lightly grease a 5x9 inch loaf pan.\n",
      "▪︎ Press the brown sugar in the bottom of the prepared loaf pan and spread the ketchup over the sugar.\n",
      "▪︎ In a mixing bowl, mix thoroughly all remaining ingredients and shape into a loaf. Place on top of the ketchup.\n",
      "▪︎ Bake in preheated oven for 1 hour or until juices are clear.\n",
      "\n",
      "★\n",
      "[TITLE] \n",
      "Best Chocolate Chip Cookies \n",
      "\n",
      "[INGREDIENTS] \n",
      "• 1 cup butter, softened \n",
      "• 1 cup white sugar \n",
      "• 1 cup packed brown sugar \n",
      "• 2 eggs \n",
      "• 2 teaspoons vanilla extract \n",
      "• 3 cups all-purpose flour \n",
      "• 1 teaspoon baking soda \n",
      "• 2 teaspoons hot water \n",
      "• 1/2 teaspoon salt \n",
      "• 2 cups semisweet chocolate chips \n",
      "• 1 cup chopped walnuts  \n",
      "\n",
      "[INSTRUCTIONS] \n",
      "▪︎ Preheat oven to 350 degrees F (175 degrees C).\n",
      "▪︎ Cream together the butter, white sugar, and brown sugar until smooth. Beat in the eggs one at a time, then stir in the vanilla. Dissolve baking soda in hot water. Add to batter along with salt. Stir in flour, chocolate chips, and nuts. Drop by large spoonfuls onto ungreased pans.\n",
      "▪︎ Bake for about 10 minutes in the preheated oven, or until edges are nicely browned.\n",
      "\n",
      "★\n",
      "[TITLE] \n",
      "Homemade Mac and Cheese Casserole \n",
      "\n",
      "[INGREDIENTS] \n",
      "• 8 ounces whole wheat rotini pasta \n",
      "• 3 cups fresh broccoli florets \n",
      "• 1 medium onion, chopped \n",
      "• 3 cloves garlic, minced \n",
      "• 4 tablespoons butter, divided \n",
      "• 2 tablespoons all-purpose flour \n",
      "• 1/4 teaspoon salt \n",
      "• 1/8 teaspoon ground black pepper \n",
      "• 2 1/2 cups milk \n",
      "• 8 ounces Cheddar cheese, shredded \n",
      "• 4 ounces reduced-fat cream cheese, cubed and softened \n",
      "• 1/2 cup fine dry Italian-seasoned bread crumbs \n",
      "• Reynolds Wrap® Non Stick Aluminum Foil  \n",
      "\n",
      "[INSTRUCTIONS] \n",
      "▪︎ Preheat oven to 350 degrees F. Line a 2-quart casserole dish with Reynolds Wrap(R) Pan Lining Paper, parchment side up. No need to grease dish.\n",
      "▪︎ Cook the pasta in a large saucepan according to the package directions, adding the broccoli for the last 3 minutes of cooking. Drain. Return to the saucepan and set aside.\n",
      "▪︎ Cook the onion and garlic in 2 tablespoons hot butter in a large skillet 5 to 7 minutes or until tender. Stir in flour, salt, and black pepper. Add the milk all at once. Cook and stir over medium heat until slightly thickened and bubbly. Add cheddar cheese and cream cheese, stirring until melted. Pour cheese sauce over the pasta and broccoli and stir until well combined.\n",
      "▪︎ Melt the remaining 2 tablespoons butter and mix with the bread crumbs in a small bowl. Transfer the pasta mixture to the prepared casserole dish. Top with the buttery bread crumbs.\n",
      "▪︎ Bake, uncovered, about 25 minutes or until bubbly and internal temperature is 165 degrees F. Let stand for 10 minutes before serving.\n",
      "\n",
      "★\n"
     ]
    }
   ],
   "source": [
    "for recipe_string in dataset_stringified[:5]:\n",
    "    print(recipe_string)"
   ]
  },
  {
   "cell_type": "markdown",
   "metadata": {
    "colab_type": "text",
    "id": "KBDPcd9rzoAZ"
   },
   "source": [
    "## Creating vocabulary"
   ]
  },
  {
   "cell_type": "code",
   "execution_count": 0,
   "metadata": {
    "colab": {},
    "colab_type": "code",
    "id": "PKLG9DzRzoAZ"
   },
   "outputs": [],
   "source": [
    "tokenizer = tf.keras.preprocessing.text.Tokenizer(\n",
    "    char_level=True,\n",
    "    filters='',\n",
    "    lower=False,\n",
    "    split=''\n",
    ")"
   ]
  },
  {
   "cell_type": "code",
   "execution_count": 0,
   "metadata": {
    "colab": {},
    "colab_type": "code",
    "id": "XAK-qwg0zoAb"
   },
   "outputs": [],
   "source": [
    "tokenizer.fit_on_texts(dataset_stringified)"
   ]
  },
  {
   "cell_type": "code",
   "execution_count": 17,
   "metadata": {
    "colab": {
     "base_uri": "https://localhost:8080/",
     "height": 34
    },
    "colab_type": "code",
    "executionInfo": {
     "elapsed": 45311,
     "status": "ok",
     "timestamp": 1589554241448,
     "user": {
      "displayName": "Oleksii Trekhleb",
      "photoUrl": "https://lh3.googleusercontent.com/a-/AOh14GiiA4aUKCbFho88Jd0WWMoAqQUt3jbuCtfNYpHVOA=s64",
      "userId": "03172675069638383074"
     },
     "user_tz": -120
    },
    "id": "W0SJy42MzoAe",
    "outputId": "dde49cc4-955e-4844-aa70-1b360e8febba"
   },
   "outputs": [
    {
     "name": "stdout",
     "output_type": "stream",
     "text": [
      "VOCABULARY_SIZE:  206\n"
     ]
    }
   ],
   "source": [
    "VOCABULARY_SIZE = len(tokenizer.word_counts)\n",
    "\n",
    "print('VOCABULARY_SIZE: ', VOCABULARY_SIZE)"
   ]
  },
  {
   "cell_type": "code",
   "execution_count": 18,
   "metadata": {
    "colab": {
     "base_uri": "https://localhost:8080/",
     "height": 241
    },
    "colab_type": "code",
    "executionInfo": {
     "elapsed": 45262,
     "status": "ok",
     "timestamp": 1589554241449,
     "user": {
      "displayName": "Oleksii Trekhleb",
      "photoUrl": "https://lh3.googleusercontent.com/a-/AOh14GiiA4aUKCbFho88Jd0WWMoAqQUt3jbuCtfNYpHVOA=s64",
      "userId": "03172675069638383074"
     },
     "user_tz": -120
    },
    "id": "aiy2DspqzoAg",
    "outputId": "06956c34-4e44-47ea-d5ed-22cb252f37ef"
   },
   "outputs": [
    {
     "data": {
      "text/plain": [
       "{'char_level': True,\n",
       " 'document_count': 122938,\n",
       " 'filters': '',\n",
       " 'index_docs': '{\"28\": 119108, \"16\": 122714, \"59\": 122938, \"27\": 120573, \"46\": 100780, \"4\": 122931, \"19\": 122428, \"21\": 121057, \"10\": 122932, \"8\": 122933, \"25\": 122040, \"48\": 81938, \"12\": 122887, \"60\": 122938, \"14\": 122887, \"38\": 122938, \"22\": 122889, \"5\": 122931, \"49\": 87951, \"15\": 122772, \"62\": 122938, \"41\": 122938, \"23\": 121953, \"7\": 122933, \"20\": 121250, \"18\": 122938, \"53\": 122938, \"50\": 87968, \"35\": 122938, \"24\": 120040, \"1\": 122938, \"9\": 122930, \"67\": 49415, \"29\": 122938, \"43\": 104713, \"3\": 122928, \"51\": 81335, \"11\": 122920, \"54\": 122938, \"44\": 101246, \"26\": 122938, \"36\": 122938, \"32\": 122938, \"31\": 119444, \"42\": 122938, \"17\": 122701, \"34\": 122938, \"13\": 122916, \"6\": 122924, \"70\": 32402, \"52\": 122938, \"47\": 86061, \"69\": 43322, \"30\": 122938, \"37\": 122938, \"2\": 122938, \"39\": 122938, \"66\": 51434, \"45\": 92514, \"33\": 111483, \"74\": 19165, \"64\": 63920, \"56\": 82861, \"57\": 76978, \"58\": 63643, \"40\": 96885, \"63\": 52052, \"80\": 5983, \"65\": 54815, \"61\": 45118, \"55\": 57905, \"68\": 31743, \"71\": 25025, \"78\": 10852, \"85\": 2914, \"72\": 21474, \"93\": 500, \"77\": 5086, \"79\": 8554, \"96\": 451, \"82\": 4172, \"84\": 3372, \"76\": 13342, \"90\": 937, \"104\": 81, \"114\": 48, \"89\": 999, \"81\": 3392, \"115\": 97, \"75\": 5547, \"105\": 87, \"108\": 68, \"100\": 119, \"98\": 250, \"87\": 855, \"95\": 338, \"92\": 263, \"73\": 10122, \"120\": 27, \"146\": 8, \"102\": 124, \"124\": 17, \"123\": 18, \"83\": 1561, \"86\": 796, \"148\": 10, \"118\": 55, \"99\": 111, \"111\": 79, \"107\": 106, \"109\": 97, \"88\": 511, \"131\": 23, \"113\": 51, \"149\": 5, \"91\": 355, \"101\": 184, \"116\": 26, \"110\": 57, \"119\": 44, \"121\": 31, \"128\": 17, \"106\": 77, \"150\": 3, \"125\": 25, \"103\": 108, \"180\": 1, \"134\": 14, \"117\": 18, \"94\": 48, \"151\": 4, \"144\": 7, \"137\": 9, \"157\": 2, \"147\": 9, \"122\": 15, \"132\": 17, \"112\": 39, \"129\": 21, \"154\": 4, \"138\": 12, \"162\": 2, \"158\": 3, \"167\": 2, \"153\": 5, \"140\": 6, \"127\": 16, \"126\": 33, \"159\": 4, \"141\": 3, \"142\": 4, \"176\": 2, \"133\": 25, \"136\": 11, \"181\": 1, \"182\": 2, \"139\": 4, \"177\": 2, \"164\": 2, \"160\": 3, \"168\": 3, \"183\": 1, \"184\": 1, \"169\": 2, \"185\": 1, \"165\": 3, \"186\": 1, \"152\": 8, \"97\": 340, \"187\": 1, \"145\": 7, \"178\": 1, \"179\": 2, \"170\": 3, \"171\": 2, \"189\": 2, \"188\": 2, \"199\": 1, \"135\": 3, \"191\": 1, \"190\": 1, \"200\": 1, \"172\": 1, \"155\": 2, \"161\": 1, \"130\": 16, \"201\": 1, \"192\": 1, \"193\": 1, \"156\": 3, \"202\": 1, \"203\": 1, \"204\": 1, \"163\": 3, \"194\": 1, \"195\": 1, \"173\": 2, \"196\": 1, \"205\": 1, \"174\": 3, \"175\": 1, \"166\": 2, \"197\": 1, \"143\": 5, \"206\": 1, \"198\": 1}',\n",
       " 'index_word': '{\"1\": \" \", \"2\": \"e\", \"3\": \"t\", \"4\": \"a\", \"5\": \"o\", \"6\": \"n\", \"7\": \"i\", \"8\": \"r\", \"9\": \"s\", \"10\": \"l\", \"11\": \"d\", \"12\": \"h\", \"13\": \"c\", \"14\": \"u\", \"15\": \"p\", \"16\": \"m\", \"17\": \"g\", \"18\": \"\\\\n\", \"19\": \"b\", \"20\": \",\", \"21\": \"f\", \"22\": \".\", \"23\": \"w\", \"24\": \"k\", \"25\": \"1\", \"26\": \"\\\\u2022\", \"27\": \"v\", \"28\": \"y\", \"29\": \"T\", \"30\": \"S\", \"31\": \"2\", \"32\": \"I\", \"33\": \"/\", \"34\": \"N\", \"35\": \"\\\\u25aa\", \"36\": \"\\\\ufe0e\", \"37\": \"C\", \"38\": \"R\", \"39\": \"E\", \"40\": \"-\", \"41\": \"]\", \"42\": \"[\", \"43\": \"4\", \"44\": \"3\", \"45\": \"x\", \"46\": \"P\", \"47\": \"5\", \"48\": \"0\", \"49\": \")\", \"50\": \"(\", \"51\": \"A\", \"52\": \"D\", \"53\": \"L\", \"54\": \"G\", \"55\": \"z\", \"56\": \"B\", \"57\": \"F\", \"58\": \"j\", \"59\": \"O\", \"60\": \"U\", \"61\": \";\", \"62\": \"\\\\u2605\", \"63\": \"q\", \"64\": \"M\", \"65\": \"W\", \"66\": \"8\", \"67\": \"6\", \"68\": \":\", \"69\": \"H\", \"70\": \"7\", \"71\": \"\\'\", \"72\": \"K\", \"73\": \"\\\\u00b0\", \"74\": \"9\", \"75\": \"\\\\u00e9\", \"76\": \"V\", \"77\": \"\\\\\"\", \"78\": \"J\", \"79\": \"Y\", \"80\": \"\\\\u00ae\", \"81\": \"*\", \"82\": \"Q\", \"83\": \"\\\\u2013\", \"84\": \"!\", \"85\": \"Z\", \"86\": \"\\\\u00e8\", \"87\": \"\\\\u00f1\", \"88\": \"\\\\u2014\", \"89\": \"%\", \"90\": \"&\", \"91\": \"\\\\u00ee\", \"92\": \"\\\\u2019\", \"93\": \"X\", \"94\": \"\\\\u00ea\", \"95\": \"?\", \"96\": \"\\\\u2122\", \"97\": \"\\\\u00bf\", \"98\": \"#\", \"99\": \"\\\\u00e2\", \"100\": \"\\\\u00bd\", \"101\": \"\\\\u00e7\", \"102\": \"$\", \"103\": \"\\\\u00f3\", \"104\": \"=\", \"105\": \">\", \"106\": \"\\\\u00ed\", \"107\": \"\\\\u00e1\", \"108\": \"<\", \"109\": \"\\\\u00fb\", \"110\": \"\\\\u00ba\", \"111\": \"\\\\u00bc\", \"112\": \"\\\\u00f9\", \"113\": \"\\\\u00ef\", \"114\": \"+\", \"115\": \"\\\\u00a9\", \"116\": \"_\", \"117\": \"\\\\u00f6\", \"118\": \"\\\\u00e0\", \"119\": \"\\\\u00fa\", \"120\": \"\\\\u201d\", \"121\": \"\\\\u201a\", \"122\": \"\\\\ufffd\", \"123\": \"}\", \"124\": \"{\", \"125\": \"\\\\u00f4\", \"126\": \"\\\\u00fc\", \"127\": \"\\\\u00ad\", \"128\": \"\\\\u201c\", \"129\": \"\\\\u00d7\", \"130\": \"\\\\u00c9\", \"131\": \"\\\\u2044\", \"132\": \"\\\\u02da\", \"133\": \"\\\\u00be\", \"134\": \"\\\\u00e4\", \"135\": \"\\\\u00b7\", \"136\": \"\\\\u0301\", \"137\": \"\\\\u00a7\", \"138\": \"\\\\u00eb\", \"139\": \"\\\\u0097\", \"140\": \"\\\\u0081\", \"141\": \"\\\\u00bb\", \"142\": \"\\\\u2010\", \"143\": \"\\\\u00da\", \"144\": \"`\", \"145\": \"|\", \"146\": \"@\", \"147\": \"\\\\u0092\", \"148\": \"\\\\u0096\", \"149\": \"\\\\u25ca\", \"150\": \"\\\\u200b\", \"151\": \"\\\\u2011\", \"152\": \"\\\\\\\\\", \"153\": \"\\\\u00ec\", \"154\": \"\\\\u2153\", \"155\": \"\\\\u00ac\", \"156\": \"\\\\u00b4\", \"157\": \"\\\\u202e\", \"158\": \"\\\\ufb02\", \"159\": \"\\\\u2031\", \"160\": \"\\\\u00e3\", \"161\": \"\\\\u2033\", \"162\": \"\\\\ufb01\", \"163\": \"~\", \"164\": \"\\\\u2026\", \"165\": \"\\\\u00f5\", \"166\": \"\\\\u2012\", \"167\": \"\\\\u00dc\", \"168\": \"\\\\u2027\", \"169\": \"\\\\u00f8\", \"170\": \"\\\\u201f\", \"171\": \"\\\\u00a1\", \"172\": \"\\\\u0010\", \"173\": \"\\\\u2212\", \"174\": \"\\\\u0095\", \"175\": \"\\\\u202d\", \"176\": \"\\\\u00a0\", \"177\": \"\\\\u215b\", \"178\": \"\\\\u00e5\", \"179\": \"\\\\u00a4\", \"180\": \"\\\\u00ff\", \"181\": \"\\\\u00df\", \"182\": \"\\\\u00c1\", \"183\": \"\\\\u001a\", \"184\": \"\\\\u202a\", \"185\": \"\\\\u0019\", \"186\": \"\\\\u02c6\", \"187\": \"\\\\u00d1\", \"188\": \"\\\\u01a1\", \"189\": \"\\\\u0300\", \"190\": \"\\\\u00b9\", \"191\": \"\\\\u00b3\", \"192\": \"\\\\u01b0\", \"193\": \"\\\\u2154\", \"194\": \"\\\\u00b1\", \"195\": \"\\\\u1ff0\", \"196\": \"\\\\u2015\", \"197\": \"\\\\u00db\", \"198\": \"\\\\u00c2\", \"199\": \"\\\\u0309\", \"200\": \"\\\\u2009\", \"201\": \"\\\\u0103\", \"202\": \"\\\\u00c0\", \"203\": \"\\\\u017a\", \"204\": \"\\\\u215e\", \"205\": \"\\\\u00f2\", \"206\": \"\\\\u20ac\"}',\n",
       " 'lower': False,\n",
       " 'num_words': None,\n",
       " 'oov_token': None,\n",
       " 'split': '',\n",
       " 'word_counts': '{\"[\": 368900, \"T\": 799961, \"I\": 741986, \"L\": 202020, \"E\": 397809, \"]\": 368901, \" \": 29686774, \"\\\\n\": 2631922, \"S\": 777322, \"l\": 6434277, \"o\": 10024677, \"w\": 1661930, \"C\": 459399, \"k\": 1504355, \"e\": 15389300, \"r\": 7995581, \"h\": 5016336, \"i\": 8312379, \"c\": 4647540, \"n\": 8887313, \"a\": 10173459, \"d\": 5163618, \"D\": 231069, \"u\": 4554913, \"m\": 3063209, \"p\": 4284716, \"g\": 2860143, \"s\": 7830993, \"N\": 511209, \"G\": 200186, \"R\": 419077, \"\\\\u2022\": 1277532, \"4\": 366806, \",\": 1885193, \"b\": 2334499, \"t\": 10381678, \"v\": 1255482, \"2\": 768729, \"(\": 236414, \"1\": 1292716, \"0\": 240409, \".\": 1809973, \"7\": 46087, \"5\": 245798, \")\": 236417, \"f\": 1882850, \"y\": 1183382, \"U\": 155543, \"O\": 169659, \"\\\\u25aa\": 494195, \"\\\\ufe0e\": 494195, \"P\": 309978, \"6\": 83546, \"H\": 68917, \"A\": 233117, \"3\": 348688, \"\\\\u2605\": 122938, \"x\": 322179, \"/\": 530492, \"8\": 89871, \"9\": 26674, \"B\": 188412, \"M\": 120026, \"F\": 175525, \"j\": 170144, \"-\": 384333, \"W\": 104588, \"\\\\u00ae\": 10514, \"q\": 122716, \";\": 124853, \"J\": 14215, \"\\'\": 43651, \":\": 70760, \"z\": 189820, \"Z\": 3368, \"K\": 29428, \"X\": 703, \"\\\\\"\": 15036, \"Y\": 11530, \"\\\\u2122\": 545, \"Q\": 5593, \"!\": 4630, \"V\": 17322, \"&\": 1343, \"+\": 108, \"=\": 215, \"%\": 1442, \"*\": 8075, \"\\\\u00a9\": 108, \"\\\\u00e9\": 17761, \"<\": 178, \">\": 207, \"\\\\u00bd\": 264, \"#\": 383, \"\\\\u00f1\": 1989, \"?\": 577, \"\\\\u2019\": 770, \"\\\\u00b0\": 27404, \"\\\\u201d\": 79, \"$\": 239, \"@\": 11, \"{\": 61, \"}\": 62, \"\\\\u2013\": 5525, \"\\\\u00e8\": 2293, \"\\\\u0096\": 10, \"\\\\u00e0\": 95, \"\\\\u00e2\": 300, \"\\\\u00bc\": 143, \"\\\\u00e1\": 186, \"\\\\u00fb\": 161, \"\\\\u2014\": 1595, \"\\\\u2044\": 40, \"\\\\u00ef\": 125, \"\\\\u25ca\": 10, \"\\\\u00ee\": 1270, \"\\\\u00e7\": 249, \"_\": 99, \"\\\\u00ba\": 145, \"\\\\u00fa\": 89, \"\\\\u201a\": 66, \"\\\\u201c\": 47, \"\\\\u00ed\": 194, \"\\\\u200b\": 10, \"\\\\u00f4\": 55, \"\\\\u00f3\": 232, \"\\\\u00ff\": 2, \"\\\\u00e4\": 34, \"\\\\u00f6\": 97, \"\\\\u00ea\": 664, \"\\\\u2011\": 10, \"`\": 12, \"\\\\u00a7\": 20, \"\\\\u202e\": 7, \"\\\\u0092\": 11, \"\\\\ufffd\": 66, \"\\\\u02da\": 40, \"\\\\u00f9\": 127, \"\\\\u00d7\": 46, \"\\\\u00eb\": 18, \"\\\\u2153\": 8, \"\\\\ufb01\": 6, \"\\\\ufb02\": 7, \"\\\\u00dc\": 4, \"\\\\u00ec\": 9, \"\\\\u0081\": 16, \"\\\\u00ad\": 50, \"\\\\u00fc\": 52, \"\\\\u2031\": 7, \"\\\\u00bb\": 16, \"\\\\u2010\": 14, \"\\\\u00a0\": 3, \"\\\\u00be\": 40, \"\\\\u0301\": 21, \"\\\\u00df\": 2, \"\\\\u00c1\": 2, \"\\\\u0097\": 17, \"\\\\u215b\": 3, \"\\\\u2026\": 5, \"\\\\u00e3\": 7, \"\\\\u2027\": 4, \"\\\\u001a\": 2, \"\\\\u202a\": 2, \"\\\\u00f8\": 4, \"\\\\u0019\": 2, \"\\\\u00f5\": 5, \"\\\\u02c6\": 2, \"\\\\\\\\\": 10, \"\\\\u00bf\": 502, \"\\\\u00d1\": 2, \"|\": 12, \"\\\\u00e5\": 3, \"\\\\u00a4\": 3, \"\\\\u201f\": 4, \"\\\\u00a1\": 4, \"\\\\u01a1\": 2, \"\\\\u0309\": 1, \"\\\\u0300\": 2, \"\\\\u00b7\": 32, \"\\\\u00b9\": 2, \"\\\\u00b3\": 2, \"\\\\u2009\": 1, \"\\\\u0010\": 4, \"\\\\u00ac\": 8, \"\\\\u2033\": 7, \"\\\\u00c9\": 41, \"\\\\u01b0\": 2, \"\\\\u0103\": 1, \"\\\\u2154\": 2, \"\\\\u00b4\": 8, \"\\\\u00c0\": 1, \"\\\\u017a\": 1, \"\\\\u215e\": 1, \"~\": 6, \"\\\\u00b1\": 2, \"\\\\u1ff0\": 2, \"\\\\u2212\": 4, \"\\\\u2015\": 2, \"\\\\u00f2\": 1, \"\\\\u0095\": 4, \"\\\\u202d\": 4, \"\\\\u2012\": 5, \"\\\\u00db\": 2, \"\\\\u00da\": 14, \"\\\\u20ac\": 1, \"\\\\u00c2\": 2}',\n",
       " 'word_docs': '{\"y\": 119108, \"m\": 122714, \"O\": 122938, \"v\": 120573, \"P\": 100780, \"a\": 122931, \"b\": 122428, \"f\": 121057, \"l\": 122932, \"r\": 122933, \"1\": 122040, \"0\": 81938, \"h\": 122887, \"U\": 122938, \"u\": 122887, \"R\": 122938, \".\": 122889, \"o\": 122931, \")\": 87951, \"p\": 122772, \"\\\\u2605\": 122938, \"]\": 122938, \"w\": 121953, \"i\": 122933, \",\": 121250, \"\\\\n\": 122938, \"L\": 122938, \"(\": 87968, \"\\\\u25aa\": 122938, \"k\": 120040, \" \": 122938, \"s\": 122930, \"6\": 49415, \"T\": 122938, \"4\": 104713, \"t\": 122928, \"A\": 81335, \"d\": 122920, \"G\": 122938, \"3\": 101246, \"\\\\u2022\": 122938, \"\\\\ufe0e\": 122938, \"I\": 122938, \"2\": 119444, \"[\": 122938, \"g\": 122701, \"N\": 122938, \"c\": 122916, \"n\": 122924, \"7\": 32402, \"D\": 122938, \"5\": 86061, \"H\": 43322, \"S\": 122938, \"C\": 122938, \"e\": 122938, \"E\": 122938, \"8\": 51434, \"x\": 92514, \"/\": 111483, \"9\": 19165, \"M\": 63920, \"B\": 82861, \"F\": 76978, \"j\": 63643, \"-\": 96885, \"q\": 52052, \"\\\\u00ae\": 5983, \"W\": 54815, \";\": 45118, \"z\": 57905, \":\": 31743, \"\\'\": 25025, \"J\": 10852, \"Z\": 2914, \"K\": 21474, \"X\": 500, \"\\\\\"\": 5086, \"Y\": 8554, \"\\\\u2122\": 451, \"Q\": 4172, \"!\": 3372, \"V\": 13342, \"&\": 937, \"=\": 81, \"+\": 48, \"%\": 999, \"*\": 3392, \"\\\\u00a9\": 97, \"\\\\u00e9\": 5547, \">\": 87, \"<\": 68, \"\\\\u00bd\": 119, \"#\": 250, \"\\\\u00f1\": 855, \"?\": 338, \"\\\\u2019\": 263, \"\\\\u00b0\": 10122, \"\\\\u201d\": 27, \"@\": 8, \"$\": 124, \"{\": 17, \"}\": 18, \"\\\\u2013\": 1561, \"\\\\u00e8\": 796, \"\\\\u0096\": 10, \"\\\\u00e0\": 55, \"\\\\u00e2\": 111, \"\\\\u00bc\": 79, \"\\\\u00e1\": 106, \"\\\\u00fb\": 97, \"\\\\u2014\": 511, \"\\\\u2044\": 23, \"\\\\u00ef\": 51, \"\\\\u25ca\": 5, \"\\\\u00ee\": 355, \"\\\\u00e7\": 184, \"_\": 26, \"\\\\u00ba\": 57, \"\\\\u00fa\": 44, \"\\\\u201a\": 31, \"\\\\u201c\": 17, \"\\\\u00ed\": 77, \"\\\\u200b\": 3, \"\\\\u00f4\": 25, \"\\\\u00f3\": 108, \"\\\\u00ff\": 1, \"\\\\u00e4\": 14, \"\\\\u00f6\": 18, \"\\\\u00ea\": 48, \"\\\\u2011\": 4, \"`\": 7, \"\\\\u00a7\": 9, \"\\\\u202e\": 2, \"\\\\u0092\": 9, \"\\\\ufffd\": 15, \"\\\\u02da\": 17, \"\\\\u00f9\": 39, \"\\\\u00d7\": 21, \"\\\\u2153\": 4, \"\\\\u00eb\": 12, \"\\\\ufb01\": 2, \"\\\\ufb02\": 3, \"\\\\u00dc\": 2, \"\\\\u00ec\": 5, \"\\\\u0081\": 6, \"\\\\u00ad\": 16, \"\\\\u00fc\": 33, \"\\\\u2031\": 4, \"\\\\u00bb\": 3, \"\\\\u2010\": 4, \"\\\\u00a0\": 2, \"\\\\u00be\": 25, \"\\\\u0301\": 11, \"\\\\u00df\": 1, \"\\\\u00c1\": 2, \"\\\\u0097\": 4, \"\\\\u215b\": 2, \"\\\\u2026\": 2, \"\\\\u00e3\": 3, \"\\\\u2027\": 3, \"\\\\u001a\": 1, \"\\\\u202a\": 1, \"\\\\u00f8\": 2, \"\\\\u0019\": 1, \"\\\\u00f5\": 3, \"\\\\u02c6\": 1, \"\\\\\\\\\": 8, \"\\\\u00bf\": 340, \"\\\\u00d1\": 1, \"|\": 7, \"\\\\u00e5\": 1, \"\\\\u00a4\": 2, \"\\\\u201f\": 3, \"\\\\u00a1\": 2, \"\\\\u0300\": 2, \"\\\\u01a1\": 2, \"\\\\u0309\": 1, \"\\\\u00b7\": 3, \"\\\\u00b3\": 1, \"\\\\u00b9\": 1, \"\\\\u2009\": 1, \"\\\\u0010\": 1, \"\\\\u00ac\": 2, \"\\\\u2033\": 1, \"\\\\u00c9\": 16, \"\\\\u0103\": 1, \"\\\\u01b0\": 1, \"\\\\u2154\": 1, \"\\\\u00b4\": 3, \"\\\\u00c0\": 1, \"\\\\u017a\": 1, \"\\\\u215e\": 1, \"~\": 3, \"\\\\u00b1\": 1, \"\\\\u1ff0\": 1, \"\\\\u2212\": 2, \"\\\\u2015\": 1, \"\\\\u00f2\": 1, \"\\\\u0095\": 3, \"\\\\u202d\": 1, \"\\\\u2012\": 2, \"\\\\u00db\": 1, \"\\\\u00da\": 5, \"\\\\u20ac\": 1, \"\\\\u00c2\": 1}',\n",
       " 'word_index': '{\" \": 1, \"e\": 2, \"t\": 3, \"a\": 4, \"o\": 5, \"n\": 6, \"i\": 7, \"r\": 8, \"s\": 9, \"l\": 10, \"d\": 11, \"h\": 12, \"c\": 13, \"u\": 14, \"p\": 15, \"m\": 16, \"g\": 17, \"\\\\n\": 18, \"b\": 19, \",\": 20, \"f\": 21, \".\": 22, \"w\": 23, \"k\": 24, \"1\": 25, \"\\\\u2022\": 26, \"v\": 27, \"y\": 28, \"T\": 29, \"S\": 30, \"2\": 31, \"I\": 32, \"/\": 33, \"N\": 34, \"\\\\u25aa\": 35, \"\\\\ufe0e\": 36, \"C\": 37, \"R\": 38, \"E\": 39, \"-\": 40, \"]\": 41, \"[\": 42, \"4\": 43, \"3\": 44, \"x\": 45, \"P\": 46, \"5\": 47, \"0\": 48, \")\": 49, \"(\": 50, \"A\": 51, \"D\": 52, \"L\": 53, \"G\": 54, \"z\": 55, \"B\": 56, \"F\": 57, \"j\": 58, \"O\": 59, \"U\": 60, \";\": 61, \"\\\\u2605\": 62, \"q\": 63, \"M\": 64, \"W\": 65, \"8\": 66, \"6\": 67, \":\": 68, \"H\": 69, \"7\": 70, \"\\'\": 71, \"K\": 72, \"\\\\u00b0\": 73, \"9\": 74, \"\\\\u00e9\": 75, \"V\": 76, \"\\\\\"\": 77, \"J\": 78, \"Y\": 79, \"\\\\u00ae\": 80, \"*\": 81, \"Q\": 82, \"\\\\u2013\": 83, \"!\": 84, \"Z\": 85, \"\\\\u00e8\": 86, \"\\\\u00f1\": 87, \"\\\\u2014\": 88, \"%\": 89, \"&\": 90, \"\\\\u00ee\": 91, \"\\\\u2019\": 92, \"X\": 93, \"\\\\u00ea\": 94, \"?\": 95, \"\\\\u2122\": 96, \"\\\\u00bf\": 97, \"#\": 98, \"\\\\u00e2\": 99, \"\\\\u00bd\": 100, \"\\\\u00e7\": 101, \"$\": 102, \"\\\\u00f3\": 103, \"=\": 104, \">\": 105, \"\\\\u00ed\": 106, \"\\\\u00e1\": 107, \"<\": 108, \"\\\\u00fb\": 109, \"\\\\u00ba\": 110, \"\\\\u00bc\": 111, \"\\\\u00f9\": 112, \"\\\\u00ef\": 113, \"+\": 114, \"\\\\u00a9\": 115, \"_\": 116, \"\\\\u00f6\": 117, \"\\\\u00e0\": 118, \"\\\\u00fa\": 119, \"\\\\u201d\": 120, \"\\\\u201a\": 121, \"\\\\ufffd\": 122, \"}\": 123, \"{\": 124, \"\\\\u00f4\": 125, \"\\\\u00fc\": 126, \"\\\\u00ad\": 127, \"\\\\u201c\": 128, \"\\\\u00d7\": 129, \"\\\\u00c9\": 130, \"\\\\u2044\": 131, \"\\\\u02da\": 132, \"\\\\u00be\": 133, \"\\\\u00e4\": 134, \"\\\\u00b7\": 135, \"\\\\u0301\": 136, \"\\\\u00a7\": 137, \"\\\\u00eb\": 138, \"\\\\u0097\": 139, \"\\\\u0081\": 140, \"\\\\u00bb\": 141, \"\\\\u2010\": 142, \"\\\\u00da\": 143, \"`\": 144, \"|\": 145, \"@\": 146, \"\\\\u0092\": 147, \"\\\\u0096\": 148, \"\\\\u25ca\": 149, \"\\\\u200b\": 150, \"\\\\u2011\": 151, \"\\\\\\\\\": 152, \"\\\\u00ec\": 153, \"\\\\u2153\": 154, \"\\\\u00ac\": 155, \"\\\\u00b4\": 156, \"\\\\u202e\": 157, \"\\\\ufb02\": 158, \"\\\\u2031\": 159, \"\\\\u00e3\": 160, \"\\\\u2033\": 161, \"\\\\ufb01\": 162, \"~\": 163, \"\\\\u2026\": 164, \"\\\\u00f5\": 165, \"\\\\u2012\": 166, \"\\\\u00dc\": 167, \"\\\\u2027\": 168, \"\\\\u00f8\": 169, \"\\\\u201f\": 170, \"\\\\u00a1\": 171, \"\\\\u0010\": 172, \"\\\\u2212\": 173, \"\\\\u0095\": 174, \"\\\\u202d\": 175, \"\\\\u00a0\": 176, \"\\\\u215b\": 177, \"\\\\u00e5\": 178, \"\\\\u00a4\": 179, \"\\\\u00ff\": 180, \"\\\\u00df\": 181, \"\\\\u00c1\": 182, \"\\\\u001a\": 183, \"\\\\u202a\": 184, \"\\\\u0019\": 185, \"\\\\u02c6\": 186, \"\\\\u00d1\": 187, \"\\\\u01a1\": 188, \"\\\\u0300\": 189, \"\\\\u00b9\": 190, \"\\\\u00b3\": 191, \"\\\\u01b0\": 192, \"\\\\u2154\": 193, \"\\\\u00b1\": 194, \"\\\\u1ff0\": 195, \"\\\\u2015\": 196, \"\\\\u00db\": 197, \"\\\\u00c2\": 198, \"\\\\u0309\": 199, \"\\\\u2009\": 200, \"\\\\u0103\": 201, \"\\\\u00c0\": 202, \"\\\\u017a\": 203, \"\\\\u215e\": 204, \"\\\\u00f2\": 205, \"\\\\u20ac\": 206}'}"
      ]
     },
     "execution_count": 18,
     "metadata": {
      "tags": []
     },
     "output_type": "execute_result"
    }
   ],
   "source": [
    "tokenizer.get_config()"
   ]
  },
  {
   "cell_type": "code",
   "execution_count": 19,
   "metadata": {
    "colab": {
     "base_uri": "https://localhost:8080/",
     "height": 34
    },
    "colab_type": "code",
    "executionInfo": {
     "elapsed": 45181,
     "status": "ok",
     "timestamp": 1589554241450,
     "user": {
      "displayName": "Oleksii Trekhleb",
      "photoUrl": "https://lh3.googleusercontent.com/a-/AOh14GiiA4aUKCbFho88Jd0WWMoAqQUt3jbuCtfNYpHVOA=s64",
      "userId": "03172675069638383074"
     },
     "user_tz": -120
    },
    "id": "RAizJVMWzoAi",
    "outputId": "615f8e67-5530-4b14-c078-570654b3f5cc"
   },
   "outputs": [
    {
     "data": {
      "text/plain": [
       "62"
      ]
     },
     "execution_count": 19,
     "metadata": {
      "tags": []
     },
     "output_type": "execute_result"
    }
   ],
   "source": [
    "tokenizer.word_index[STOP_SIGN]"
   ]
  },
  {
   "cell_type": "code",
   "execution_count": 20,
   "metadata": {
    "colab": {
     "base_uri": "https://localhost:8080/",
     "height": 51
    },
    "colab_type": "code",
    "executionInfo": {
     "elapsed": 45137,
     "status": "ok",
     "timestamp": 1589554241452,
     "user": {
      "displayName": "Oleksii Trekhleb",
      "photoUrl": "https://lh3.googleusercontent.com/a-/AOh14GiiA4aUKCbFho88Jd0WWMoAqQUt3jbuCtfNYpHVOA=s64",
      "userId": "03172675069638383074"
     },
     "user_tz": -120
    },
    "id": "U9njDnXczoAl",
    "outputId": "d0a3adcc-cae9-408e-b6ed-182151060294"
   },
   "outputs": [
    {
     "name": "stdout",
     "output_type": "stream",
     "text": [
      "j\n",
      "★\n"
     ]
    }
   ],
   "source": [
    "print(tokenizer.index_word[58])\n",
    "print(tokenizer.index_word[62])"
   ]
  },
  {
   "cell_type": "markdown",
   "metadata": {
    "colab_type": "text",
    "id": "DctJLdjMzoAn"
   },
   "source": [
    "## Vectorizing the dataset"
   ]
  },
  {
   "cell_type": "code",
   "execution_count": 0,
   "metadata": {
    "colab": {},
    "colab_type": "code",
    "id": "Dai0OfBjzoAn"
   },
   "outputs": [],
   "source": [
    "def recipe_sequence_to_string(recipe_sequence):\n",
    "    recipe_stringified = tokenizer.sequences_to_texts([recipe_sequence])[0]\n",
    "    recipe_stringified = recipe_stringified.replace('   ', '_').replace(' ', '').replace('_', ' ')\n",
    "    print(recipe_stringified)"
   ]
  },
  {
   "cell_type": "code",
   "execution_count": 0,
   "metadata": {
    "colab": {},
    "colab_type": "code",
    "id": "P1efPWArzoAp"
   },
   "outputs": [],
   "source": [
    "dataset_vectorized = tokenizer.texts_to_sequences(dataset_stringified)"
   ]
  },
  {
   "cell_type": "code",
   "execution_count": 23,
   "metadata": {
    "colab": {
     "base_uri": "https://localhost:8080/",
     "height": 34
    },
    "colab_type": "code",
    "executionInfo": {
     "elapsed": 76696,
     "status": "ok",
     "timestamp": 1589554273050,
     "user": {
      "displayName": "Oleksii Trekhleb",
      "photoUrl": "https://lh3.googleusercontent.com/a-/AOh14GiiA4aUKCbFho88Jd0WWMoAqQUt3jbuCtfNYpHVOA=s64",
      "userId": "03172675069638383074"
     },
     "user_tz": -120
    },
    "id": "VUaKUrefzoAr",
    "outputId": "68741c87-c1ba-48a1-aee9-35d7c02f5a27"
   },
   "outputs": [
    {
     "name": "stdout",
     "output_type": "stream",
     "text": [
      "Vectorized dataset size 122938\n"
     ]
    }
   ],
   "source": [
    "print('Vectorized dataset size', len(dataset_vectorized))"
   ]
  },
  {
   "cell_type": "code",
   "execution_count": 24,
   "metadata": {
    "colab": {
     "base_uri": "https://localhost:8080/",
     "height": 1000
    },
    "colab_type": "code",
    "executionInfo": {
     "elapsed": 76668,
     "status": "ok",
     "timestamp": 1589554273053,
     "user": {
      "displayName": "Oleksii Trekhleb",
      "photoUrl": "https://lh3.googleusercontent.com/a-/AOh14GiiA4aUKCbFho88Jd0WWMoAqQUt3jbuCtfNYpHVOA=s64",
      "userId": "03172675069638383074"
     },
     "user_tz": -120
    },
    "id": "WexryHNUzoAu",
    "outputId": "d21c441c-7098-44f7-f9b6-061460489450"
   },
   "outputs": [
    {
     "data": {
      "text/plain": [
       "[42,\n",
       " 29,\n",
       " 32,\n",
       " 29,\n",
       " 53,\n",
       " 39,\n",
       " 41,\n",
       " 1,\n",
       " 18,\n",
       " 30,\n",
       " 10,\n",
       " 5,\n",
       " 23,\n",
       " 1,\n",
       " 37,\n",
       " 5,\n",
       " 5,\n",
       " 24,\n",
       " 2,\n",
       " 8,\n",
       " 1,\n",
       " 37,\n",
       " 12,\n",
       " 7,\n",
       " 13,\n",
       " 24,\n",
       " 2,\n",
       " 6,\n",
       " 1,\n",
       " 4,\n",
       " 6,\n",
       " 11,\n",
       " 1,\n",
       " 52,\n",
       " 14,\n",
       " 16,\n",
       " 15,\n",
       " 10,\n",
       " 7,\n",
       " 6,\n",
       " 17,\n",
       " 9,\n",
       " 1,\n",
       " 18,\n",
       " 18,\n",
       " 42,\n",
       " 32,\n",
       " 34,\n",
       " 54,\n",
       " 38,\n",
       " 39,\n",
       " 52,\n",
       " 32,\n",
       " 39,\n",
       " 34,\n",
       " 29,\n",
       " 30,\n",
       " 41,\n",
       " 1,\n",
       " 18,\n",
       " 26,\n",
       " 1,\n",
       " 43,\n",
       " 1,\n",
       " 9,\n",
       " 24,\n",
       " 7,\n",
       " 6,\n",
       " 10,\n",
       " 2,\n",
       " 9,\n",
       " 9,\n",
       " 20,\n",
       " 1,\n",
       " 19,\n",
       " 5,\n",
       " 6,\n",
       " 2,\n",
       " 10,\n",
       " 2,\n",
       " 9,\n",
       " 9,\n",
       " 1,\n",
       " 13,\n",
       " 12,\n",
       " 7,\n",
       " 13,\n",
       " 24,\n",
       " 2,\n",
       " 6,\n",
       " 1,\n",
       " 19,\n",
       " 8,\n",
       " 2,\n",
       " 4,\n",
       " 9,\n",
       " 3,\n",
       " 1,\n",
       " 12,\n",
       " 4,\n",
       " 10,\n",
       " 27,\n",
       " 2,\n",
       " 9,\n",
       " 1,\n",
       " 18,\n",
       " 26,\n",
       " 1,\n",
       " 31,\n",
       " 1,\n",
       " 3,\n",
       " 4,\n",
       " 19,\n",
       " 10,\n",
       " 2,\n",
       " 9,\n",
       " 15,\n",
       " 5,\n",
       " 5,\n",
       " 6,\n",
       " 9,\n",
       " 1,\n",
       " 19,\n",
       " 14,\n",
       " 3,\n",
       " 3,\n",
       " 2,\n",
       " 8,\n",
       " 1,\n",
       " 18,\n",
       " 26,\n",
       " 1,\n",
       " 31,\n",
       " 1,\n",
       " 50,\n",
       " 25,\n",
       " 48,\n",
       " 22,\n",
       " 70,\n",
       " 47,\n",
       " 1,\n",
       " 5,\n",
       " 14,\n",
       " 6,\n",
       " 13,\n",
       " 2,\n",
       " 49,\n",
       " 1,\n",
       " 13,\n",
       " 4,\n",
       " 6,\n",
       " 9,\n",
       " 1,\n",
       " 13,\n",
       " 5,\n",
       " 6,\n",
       " 11,\n",
       " 2,\n",
       " 6,\n",
       " 9,\n",
       " 2,\n",
       " 11,\n",
       " 1,\n",
       " 13,\n",
       " 8,\n",
       " 2,\n",
       " 4,\n",
       " 16,\n",
       " 1,\n",
       " 5,\n",
       " 21,\n",
       " 1,\n",
       " 13,\n",
       " 12,\n",
       " 7,\n",
       " 13,\n",
       " 24,\n",
       " 2,\n",
       " 6,\n",
       " 1,\n",
       " 9,\n",
       " 5,\n",
       " 14,\n",
       " 15,\n",
       " 1,\n",
       " 18,\n",
       " 26,\n",
       " 1,\n",
       " 25,\n",
       " 1,\n",
       " 5,\n",
       " 6,\n",
       " 7,\n",
       " 5,\n",
       " 6,\n",
       " 20,\n",
       " 1,\n",
       " 21,\n",
       " 7,\n",
       " 6,\n",
       " 2,\n",
       " 10,\n",
       " 28,\n",
       " 1,\n",
       " 11,\n",
       " 7,\n",
       " 13,\n",
       " 2,\n",
       " 11,\n",
       " 1,\n",
       " 18,\n",
       " 26,\n",
       " 1,\n",
       " 31,\n",
       " 1,\n",
       " 50,\n",
       " 25,\n",
       " 48,\n",
       " 1,\n",
       " 5,\n",
       " 14,\n",
       " 6,\n",
       " 13,\n",
       " 2,\n",
       " 49,\n",
       " 1,\n",
       " 15,\n",
       " 4,\n",
       " 13,\n",
       " 24,\n",
       " 4,\n",
       " 17,\n",
       " 2,\n",
       " 9,\n",
       " 1,\n",
       " 8,\n",
       " 2,\n",
       " 21,\n",
       " 8,\n",
       " 7,\n",
       " 17,\n",
       " 2,\n",
       " 8,\n",
       " 4,\n",
       " 3,\n",
       " 2,\n",
       " 11,\n",
       " 1,\n",
       " 19,\n",
       " 7,\n",
       " 9,\n",
       " 13,\n",
       " 14,\n",
       " 7,\n",
       " 3,\n",
       " 1,\n",
       " 11,\n",
       " 5,\n",
       " 14,\n",
       " 17,\n",
       " 12,\n",
       " 20,\n",
       " 1,\n",
       " 3,\n",
       " 5,\n",
       " 8,\n",
       " 6,\n",
       " 1,\n",
       " 7,\n",
       " 6,\n",
       " 3,\n",
       " 5,\n",
       " 1,\n",
       " 15,\n",
       " 7,\n",
       " 2,\n",
       " 13,\n",
       " 2,\n",
       " 9,\n",
       " 1,\n",
       " 1,\n",
       " 18,\n",
       " 18,\n",
       " 42,\n",
       " 32,\n",
       " 34,\n",
       " 30,\n",
       " 29,\n",
       " 38,\n",
       " 60,\n",
       " 37,\n",
       " 29,\n",
       " 32,\n",
       " 59,\n",
       " 34,\n",
       " 30,\n",
       " 41,\n",
       " 1,\n",
       " 18,\n",
       " 35,\n",
       " 36,\n",
       " 1,\n",
       " 46,\n",
       " 10,\n",
       " 4,\n",
       " 13,\n",
       " 2,\n",
       " 1,\n",
       " 3,\n",
       " 12,\n",
       " 2,\n",
       " 1,\n",
       " 13,\n",
       " 12,\n",
       " 7,\n",
       " 13,\n",
       " 24,\n",
       " 2,\n",
       " 6,\n",
       " 20,\n",
       " 1,\n",
       " 19,\n",
       " 14,\n",
       " 3,\n",
       " 3,\n",
       " 2,\n",
       " 8,\n",
       " 20,\n",
       " 1,\n",
       " 9,\n",
       " 5,\n",
       " 14,\n",
       " 15,\n",
       " 20,\n",
       " 1,\n",
       " 4,\n",
       " 6,\n",
       " 11,\n",
       " 1,\n",
       " 5,\n",
       " 6,\n",
       " 7,\n",
       " 5,\n",
       " 6,\n",
       " 1,\n",
       " 7,\n",
       " 6,\n",
       " 1,\n",
       " 4,\n",
       " 1,\n",
       " 9,\n",
       " 10,\n",
       " 5,\n",
       " 23,\n",
       " 1,\n",
       " 13,\n",
       " 5,\n",
       " 5,\n",
       " 24,\n",
       " 2,\n",
       " 8,\n",
       " 20,\n",
       " 1,\n",
       " 4,\n",
       " 6,\n",
       " 11,\n",
       " 1,\n",
       " 21,\n",
       " 7,\n",
       " 10,\n",
       " 10,\n",
       " 1,\n",
       " 23,\n",
       " 7,\n",
       " 3,\n",
       " 12,\n",
       " 1,\n",
       " 2,\n",
       " 6,\n",
       " 5,\n",
       " 14,\n",
       " 17,\n",
       " 12,\n",
       " 1,\n",
       " 23,\n",
       " 4,\n",
       " 3,\n",
       " 2,\n",
       " 8,\n",
       " 1,\n",
       " 3,\n",
       " 5,\n",
       " 1,\n",
       " 13,\n",
       " 5,\n",
       " 27,\n",
       " 2,\n",
       " 8,\n",
       " 22,\n",
       " 18,\n",
       " 35,\n",
       " 36,\n",
       " 1,\n",
       " 37,\n",
       " 5,\n",
       " 27,\n",
       " 2,\n",
       " 8,\n",
       " 20,\n",
       " 1,\n",
       " 4,\n",
       " 6,\n",
       " 11,\n",
       " 1,\n",
       " 13,\n",
       " 5,\n",
       " 5,\n",
       " 24,\n",
       " 1,\n",
       " 21,\n",
       " 5,\n",
       " 8,\n",
       " 1,\n",
       " 47,\n",
       " 1,\n",
       " 3,\n",
       " 5,\n",
       " 1,\n",
       " 67,\n",
       " 1,\n",
       " 12,\n",
       " 5,\n",
       " 14,\n",
       " 8,\n",
       " 9,\n",
       " 1,\n",
       " 5,\n",
       " 6,\n",
       " 1,\n",
       " 69,\n",
       " 7,\n",
       " 17,\n",
       " 12,\n",
       " 22,\n",
       " 1,\n",
       " 51,\n",
       " 19,\n",
       " 5,\n",
       " 14,\n",
       " 3,\n",
       " 1,\n",
       " 44,\n",
       " 48,\n",
       " 1,\n",
       " 16,\n",
       " 7,\n",
       " 6,\n",
       " 14,\n",
       " 3,\n",
       " 2,\n",
       " 9,\n",
       " 1,\n",
       " 19,\n",
       " 2,\n",
       " 21,\n",
       " 5,\n",
       " 8,\n",
       " 2,\n",
       " 1,\n",
       " 9,\n",
       " 2,\n",
       " 8,\n",
       " 27,\n",
       " 7,\n",
       " 6,\n",
       " 17,\n",
       " 20,\n",
       " 1,\n",
       " 15,\n",
       " 10,\n",
       " 4,\n",
       " 13,\n",
       " 2,\n",
       " 1,\n",
       " 3,\n",
       " 12,\n",
       " 2,\n",
       " 1,\n",
       " 3,\n",
       " 5,\n",
       " 8,\n",
       " 6,\n",
       " 1,\n",
       " 19,\n",
       " 7,\n",
       " 9,\n",
       " 13,\n",
       " 14,\n",
       " 7,\n",
       " 3,\n",
       " 1,\n",
       " 11,\n",
       " 5,\n",
       " 14,\n",
       " 17,\n",
       " 12,\n",
       " 1,\n",
       " 7,\n",
       " 6,\n",
       " 1,\n",
       " 3,\n",
       " 12,\n",
       " 2,\n",
       " 1,\n",
       " 9,\n",
       " 10,\n",
       " 5,\n",
       " 23,\n",
       " 1,\n",
       " 13,\n",
       " 5,\n",
       " 5,\n",
       " 24,\n",
       " 2,\n",
       " 8,\n",
       " 22,\n",
       " 1,\n",
       " 37,\n",
       " 5,\n",
       " 5,\n",
       " 24,\n",
       " 1,\n",
       " 14,\n",
       " 6,\n",
       " 3,\n",
       " 7,\n",
       " 10,\n",
       " 1,\n",
       " 3,\n",
       " 12,\n",
       " 2,\n",
       " 1,\n",
       " 11,\n",
       " 5,\n",
       " 14,\n",
       " 17,\n",
       " 12,\n",
       " 1,\n",
       " 7,\n",
       " 9,\n",
       " 1,\n",
       " 6,\n",
       " 5,\n",
       " 1,\n",
       " 10,\n",
       " 5,\n",
       " 6,\n",
       " 17,\n",
       " 2,\n",
       " 8,\n",
       " 1,\n",
       " 8,\n",
       " 4,\n",
       " 23,\n",
       " 1,\n",
       " 7,\n",
       " 6,\n",
       " 1,\n",
       " 3,\n",
       " 12,\n",
       " 2,\n",
       " 1,\n",
       " 13,\n",
       " 2,\n",
       " 6,\n",
       " 3,\n",
       " 2,\n",
       " 8,\n",
       " 22,\n",
       " 18,\n",
       " 18,\n",
       " 62]"
      ]
     },
     "execution_count": 24,
     "metadata": {
      "tags": []
     },
     "output_type": "execute_result"
    }
   ],
   "source": [
    "dataset_vectorized[0]"
   ]
  },
  {
   "cell_type": "code",
   "execution_count": 25,
   "metadata": {
    "colab": {
     "base_uri": "https://localhost:8080/",
     "height": 292
    },
    "colab_type": "code",
    "executionInfo": {
     "elapsed": 76603,
     "status": "ok",
     "timestamp": 1589554273054,
     "user": {
      "displayName": "Oleksii Trekhleb",
      "photoUrl": "https://lh3.googleusercontent.com/a-/AOh14GiiA4aUKCbFho88Jd0WWMoAqQUt3jbuCtfNYpHVOA=s64",
      "userId": "03172675069638383074"
     },
     "user_tz": -120
    },
    "id": "RL1zM3GGzoAy",
    "outputId": "432c682e-6f36-4dc6-e039-f7a0229443ab"
   },
   "outputs": [
    {
     "name": "stdout",
     "output_type": "stream",
     "text": [
      "[TITLE] \n",
      "Slow Cooker Chicken and Dumplings \n",
      "\n",
      "[INGREDIENTS] \n",
      "• 4 skinless, boneless chicken breast halves \n",
      "• 2 tablespoons butter \n",
      "• 2 (10.75 ounce) cans condensed cream of chicken soup \n",
      "• 1 onion, finely diced \n",
      "• 2 (10 ounce) packages refrigerated biscuit dough, torn into pieces \n",
      "\n",
      "[INSTRUCTIONS] \n",
      "▪︎ Place the chicken, butter, soup, and onion in a slow cooker, and fill with enough water to cover.\n",
      "▪︎ Cover, and cook for 5 to 6 hours on High. About 30 minutes before serving, place the torn biscuit dough in the slow cooker. Cook until the dough is no longer raw in the center.\n",
      "\n",
      "★\n"
     ]
    }
   ],
   "source": [
    "recipe_sequence_to_string(dataset_vectorized[0])"
   ]
  },
  {
   "cell_type": "markdown",
   "metadata": {
    "colab_type": "text",
    "id": "-Jka4jyNzoA0"
   },
   "source": [
    "### Add padding to sequences"
   ]
  },
  {
   "cell_type": "code",
   "execution_count": 0,
   "metadata": {
    "colab": {},
    "colab_type": "code",
    "id": "ZDrsfPtqzoA0"
   },
   "outputs": [],
   "source": [
    "recipes_lengths = []\n",
    "for recipe_sequence in dataset_vectorized:\n",
    "    recipes_lengths.append(len(recipe_sequence))"
   ]
  },
  {
   "cell_type": "code",
   "execution_count": 27,
   "metadata": {
    "colab": {
     "base_uri": "https://localhost:8080/",
     "height": 265
    },
    "colab_type": "code",
    "executionInfo": {
     "elapsed": 76889,
     "status": "ok",
     "timestamp": 1589554273372,
     "user": {
      "displayName": "Oleksii Trekhleb",
      "photoUrl": "https://lh3.googleusercontent.com/a-/AOh14GiiA4aUKCbFho88Jd0WWMoAqQUt3jbuCtfNYpHVOA=s64",
      "userId": "03172675069638383074"
     },
     "user_tz": -120
    },
    "id": "vxKgr0xOzoA2",
    "outputId": "452aff41-7d02-4168-ef76-dcc9721bdea2"
   },
   "outputs": [
    {
     "data": {
      "image/png": "[encoded data removed]",
      "text/plain": [
       "<Figure size 432x288 with 1 Axes>"
      ]
     },
     "metadata": {
      "needs_background": "light",
      "tags": []
     },
     "output_type": "display_data"
    }
   ],
   "source": [
    "plt.hist(recipes_lengths, bins=50)\n",
    "plt.show()"
   ]
  },
  {
   "cell_type": "code",
   "execution_count": 28,
   "metadata": {
    "colab": {
     "base_uri": "https://localhost:8080/",
     "height": 265
    },
    "colab_type": "code",
    "executionInfo": {
     "elapsed": 77234,
     "status": "ok",
     "timestamp": 1589554273727,
     "user": {
      "displayName": "Oleksii Trekhleb",
      "photoUrl": "https://lh3.googleusercontent.com/a-/AOh14GiiA4aUKCbFho88Jd0WWMoAqQUt3jbuCtfNYpHVOA=s64",
      "userId": "03172675069638383074"
     },
     "user_tz": -120
    },
    "id": "YCZiEttSzoA5",
    "outputId": "4621adc3-6a36-4983-d75f-8044dc42e6c6"
   },
   "outputs": [
    {
     "data": {
      "image/png": "[encoded data removed]",
      "text/plain": [
       "<Figure size 432x288 with 1 Axes>"
      ]
     },
     "metadata": {
      "needs_background": "light",
      "tags": []
     },
     "output_type": "display_data"
    }
   ],
   "source": [
    "plt.hist(recipes_lengths, range=(0, 8000), bins=50)\n",
    "plt.show()"
   ]
  },
  {
   "cell_type": "code",
   "execution_count": 0,
   "metadata": {
    "colab": {},
    "colab_type": "code",
    "id": "LAl_ZUtrzoA7"
   },
   "outputs": [],
   "source": [
    "MAX_RECIPE_LENGTH = 3000"
   ]
  },
  {
   "cell_type": "code",
   "execution_count": 30,
   "metadata": {
    "colab": {
     "base_uri": "https://localhost:8080/",
     "height": 187
    },
    "colab_type": "code",
    "executionInfo": {
     "elapsed": 77222,
     "status": "ok",
     "timestamp": 1589554273731,
     "user": {
      "displayName": "Oleksii Trekhleb",
      "photoUrl": "https://lh3.googleusercontent.com/a-/AOh14GiiA4aUKCbFho88Jd0WWMoAqQUt3jbuCtfNYpHVOA=s64",
      "userId": "03172675069638383074"
     },
     "user_tz": -120
    },
    "id": "m6tq1NQczoA9",
    "outputId": "96d1d49a-d462-4153-b78c-8c66330a45fd"
   },
   "outputs": [
    {
     "name": "stdout",
     "output_type": "stream",
     "text": [
      "Recipe #0 length: 582\n",
      "Recipe #1 length: 437\n",
      "Recipe #2 length: 707\n",
      "Recipe #3 length: 772\n",
      "Recipe #4 length: 1554\n",
      "Recipe #5 length: 776\n",
      "Recipe #6 length: 2717\n",
      "Recipe #7 length: 875\n",
      "Recipe #8 length: 703\n",
      "Recipe #9 length: 1300\n"
     ]
    }
   ],
   "source": [
    "for recipe_index, recipe in enumerate(dataset_vectorized[:10]):\n",
    "    print('Recipe #{} length: {}'.format(recipe_index, len(recipe)))"
   ]
  },
  {
   "cell_type": "code",
   "execution_count": 0,
   "metadata": {
    "colab": {},
    "colab_type": "code",
    "id": "tnIt-X1zzoA_"
   },
   "outputs": [],
   "source": [
    "dataset_vectorized_padded_without_stops = tf.keras.preprocessing.sequence.pad_sequences(\n",
    "    dataset_vectorized,\n",
    "    padding='post',\n",
    "    truncating='post',\n",
    "    # We use -1 here and +1 in the next step to make sure that all recipes will have at least 1 stops\n",
    "    # sign at the end, since each sequence will be shifted and truncated afterwards (to generate X and Y sequences).\n",
    "    maxlen=MAX_RECIPE_LENGTH-1,\n",
    "    value=tokenizer.texts_to_sequences([STOP_SIGN])[0]\n",
    ")"
   ]
  },
  {
   "cell_type": "code",
   "execution_count": 0,
   "metadata": {
    "colab": {},
    "colab_type": "code",
    "id": "8y5KbZcezoBB"
   },
   "outputs": [],
   "source": [
    "dataset_vectorized_padded = tf.keras.preprocessing.sequence.pad_sequences(\n",
    "    dataset_vectorized_padded_without_stops,\n",
    "    padding='post',\n",
    "    truncating='post',\n",
    "    maxlen=MAX_RECIPE_LENGTH+1,\n",
    "    value=tokenizer.texts_to_sequences([STOP_SIGN])[0]\n",
    ")"
   ]
  },
  {
   "cell_type": "code",
   "execution_count": 33,
   "metadata": {
    "colab": {
     "base_uri": "https://localhost:8080/",
     "height": 187
    },
    "colab_type": "code",
    "executionInfo": {
     "elapsed": 92756,
     "status": "ok",
     "timestamp": 1589554289285,
     "user": {
      "displayName": "Oleksii Trekhleb",
      "photoUrl": "https://lh3.googleusercontent.com/a-/AOh14GiiA4aUKCbFho88Jd0WWMoAqQUt3jbuCtfNYpHVOA=s64",
      "userId": "03172675069638383074"
     },
     "user_tz": -120
    },
    "id": "FNfalISfzoBD",
    "outputId": "02e1d292-7531-4935-c354-659aec36c3ae"
   },
   "outputs": [
    {
     "name": "stdout",
     "output_type": "stream",
     "text": [
      "Recipe #0 length: 3001\n",
      "Recipe #1 length: 3001\n",
      "Recipe #2 length: 3001\n",
      "Recipe #3 length: 3001\n",
      "Recipe #4 length: 3001\n",
      "Recipe #5 length: 3001\n",
      "Recipe #6 length: 3001\n",
      "Recipe #7 length: 3001\n",
      "Recipe #8 length: 3001\n",
      "Recipe #9 length: 3001\n"
     ]
    }
   ],
   "source": [
    "for recipe_index, recipe in enumerate(dataset_vectorized_padded[:10]):\n",
    "    print('Recipe #{} length: {}'.format(recipe_index, len(recipe)))"
   ]
  },
  {
   "cell_type": "code",
   "execution_count": 34,
   "metadata": {
    "colab": {
     "base_uri": "https://localhost:8080/",
     "height": 292
    },
    "colab_type": "code",
    "executionInfo": {
     "elapsed": 92749,
     "status": "ok",
     "timestamp": 1589554289286,
     "user": {
      "displayName": "Oleksii Trekhleb",
      "photoUrl": "https://lh3.googleusercontent.com/a-/AOh14GiiA4aUKCbFho88Jd0WWMoAqQUt3jbuCtfNYpHVOA=s64",
      "userId": "03172675069638383074"
     },
     "user_tz": -120
    },
    "id": "QTA-Dy1bzoBF",
    "outputId": "2c60d01d-a43c-459b-ddeb-7c6b0ee7496e"
   },
   "outputs": [
    {
     "name": "stdout",
     "output_type": "stream",
     "text": [
      "[TITLE] \n",
      "Slow Cooker Chicken and Dumplings \n",
      "\n",
      "[INGREDIENTS] \n",
      "• 4 skinless, boneless chicken breast halves \n",
      "• 2 tablespoons butter \n",
      "• 2 (10.75 ounce) cans condensed cream of chicken soup \n",
      "• 1 onion, finely diced \n",
      "• 2 (10 ounce) packages refrigerated biscuit dough, torn into pieces \n",
      "\n",
      "[INSTRUCTIONS] \n",
      "▪︎ Place the chicken, butter, soup, and onion in a slow cooker, and fill with enough water to cover.\n",
      "▪︎ Cover, and cook for 5 to 6 hours on High. About 30 minutes before serving, place the torn biscuit dough in the slow cooker. Cook until the dough is no longer raw in the center.\n",
      "\n",
      "★★★★★★★★★★★★★★★★★★★★★★★★★★★★★★★★★★★★★★★★★★★★★★★★★★★★★★★★★★★★★★★★★★★★★★★★★★★★★★★★★★★★★★★★★★★★★★★★★★★★★★★★★★★★★★★★★★★★★★★★★★★★★★★★★★★★★★★★★★★★★★★★★★★★★★★★★★★★★★★★★★★★★★★★★★★★★★★★★★★★★★★★★★★★★★★★★★★★★★★★★★★★★★★★★★★★★★★★★★★★★★★★★★★★★★★★★★★★★★★★★★★★★★★★★★★★★★★★★★★★★★★★★★★★★★★★★★★★★★★★★★★★★★★★★★★★★★★★★★★★★★★★★★★★★★★★★★★★★★★★★★★★★★★★★★★★★★★★★★★★★★★★★★★★★★★★★★★★★★★★★★★★★★★★★★★★★★★★★★★★★★★★★★★★★★★★★★★★★★★★★★★★★★★★★★★★★★★★★★★★★★★★★★★★★★★★★★★★★★★★★★★★★★★★★★★★★★★★★★★★★★★★★★★★★★★★★★★★★★★★★★★★★★★★★★★★★★★★★★★★★★★★★★★★★★★★★★★★★★★★★★★★★★★★★★★★★★★★★★★★★★★★★★★★★★★★★★★★★★★★★★★★★★★★★★★★★★★★★★★★★★★★★★★★★★★★★★★★★★★★★★★★★★★★★★★★★★★★★★★★★★★★★★★★★★★★★★★★★★★★★★★★★★★★★★★★★★★★★★★★★★★★★★★★★★★★★★★★★★★★★★★★★★★★★★★★★★★★★★★★★★★★★★★★★★★★★★★★★★★★★★★★★★★★★★★★★★★★★★★★★★★★★★★★★★★★★★★★★★★★★★★★★★★★★★★★★★★★★★★★★★★★★★★★★★★★★★★★★★★★★★★★★★★★★★★★★★★★★★★★★★★★★★★★★★★★★★★★★★★★★★★★★★★★★★★★★★★★★★★★★★★★★★★★★★★★★★★★★★★★★★★★★★★★★★★★★★★★★★★★★★★★★★★★★★★★★★★★★★★★★★★★★★★★★★★★★★★★★★★★★★★★★★★★★★★★★★★★★★★★★★★★★★★★★★★★★★★★★★★★★★★★★★★★★★★★★★★★★★★★★★★★★★★★★★★★★★★★★★★★★★★★★★★★★★★★★★★★★★★★★★★★★★★★★★★★★★★★★★★★★★★★★★★★★★★★★★★★★★★★★★★★★★★★★★★★★★★★★★★★★★★★★★★★★★★★★★★★★★★★★★★★★★★★★★★★★★★★★★★★★★★★★★★★★★★★★★★★★★★★★★★★★★★★★★★★★★★★★★★★★★★★★★★★★★★★★★★★★★★★★★★★★★★★★★★★★★★★★★★★★★★★★★★★★★★★★★★★★★★★★★★★★★★★★★★★★★★★★★★★★★★★★★★★★★★★★★★★★★★★★★★★★★★★★★★★★★★★★★★★★★★★★★★★★★★★★★★★★★★★★★★★★★★★★★★★★★★★★★★★★★★★★★★★★★★★★★★★★★★★★★★★★★★★★★★★★★★★★★★★★★★★★★★★★★★★★★★★★★★★★★★★★★★★★★★★★★★★★★★★★★★★★★★★★★★★★★★★★★★★★★★★★★★★★★★★★★★★★★★★★★★★★★★★★★★★★★★★★★★★★★★★★★★★★★★★★★★★★★★★★★★★★★★★★★★★★★★★★★★★★★★★★★★★★★★★★★★★★★★★★★★★★★★★★★★★★★★★★★★★★★★★★★★★★★★★★★★★★★★★★★★★★★★★★★★★★★★★★★★★★★★★★★★★★★★★★★★★★★★★★★★★★★★★★★★★★★★★★★★★★★★★★★★★★★★★★★★★★★★★★★★★★★★★★★★★★★★★★★★★★★★★★★★★★★★★★★★★★★★★★★★★★★★★★★★★★★★★★★★★★★★★★★★★★★★★★★★★★★★★★★★★★★★★★★★★★★★★★★★★★★★★★★★★★★★★★★★★★★★★★★★★★★★★★★★★★★★★★★★★★★★★★★★★★★★★★★★★★★★★★★★★★★★★★★★★★★★★★★★★★★★★★★★★★★★★★★★★★★★★★★★★★★★★★★★★★★★★★★★★★★★★★★★★★★★★★★★★★★★★★★★★★★★★★★★★★★★★★★★★★★★★★★★★★★★★★★★★★★★★★★★★★★★★★★★★★★★★★★★★★★★★★★★★★★★★★★★★★★★★★★★★★★★★★★★★★★★★★★★★★★★★★★★★★★★★★★★★★★★★★★★★★★★★★★★★★★★★★★★★★★★★★★★★★★★★★★★★★★★★★★★★★★★★★★★★★★★★★★★★★★★★★★★★★★★★★★★★★★★★★★★★★★★★★★★★★★★★★★★★★★★★★★★★★★★★★★★★★★★★★★★★★★★★★★★★★★★★★★★★★★★★★★★★★★★★★★★★★★★★★★★★★★★★★★★★★★★★★★★★★★★★★★★★★★★★★★★★★★★★★★★★★★★★★★★★★★★★★★★★★★★★★★★★★★★★★★★★★★★★★★★★★★★★★★★★★★★★★★★★★★★★★★★★★★★★★★★★★★★★★★★★★★★★★★★★★★★★★★★★★★★★★★★★★★★★★★★★★★★★★★★★★★★★★★★★★★★★★★★★★★★★★★★★★★★★★★★★★★★★★★★★★★★★★★★★★★★★★★★★★★★★★★★★★★★★★★★★★★★★\n"
     ]
    }
   ],
   "source": [
    "recipe_sequence_to_string(dataset_vectorized_padded[0])"
   ]
  },
  {
   "cell_type": "markdown",
   "metadata": {
    "colab_type": "text",
    "id": "ZoZqCOjRzoBH"
   },
   "source": [
    "### Create TensorFlow dataset "
   ]
  },
  {
   "cell_type": "code",
   "execution_count": 35,
   "metadata": {
    "colab": {
     "base_uri": "https://localhost:8080/",
     "height": 34
    },
    "colab_type": "code",
    "executionInfo": {
     "elapsed": 100622,
     "status": "ok",
     "timestamp": 1589554297168,
     "user": {
      "displayName": "Oleksii Trekhleb",
      "photoUrl": "https://lh3.googleusercontent.com/a-/AOh14GiiA4aUKCbFho88Jd0WWMoAqQUt3jbuCtfNYpHVOA=s64",
      "userId": "03172675069638383074"
     },
     "user_tz": -120
    },
    "id": "yVznKnhVzoBI",
    "outputId": "e0d76056-d99a-4dcf-bfd2-57f4631be8b9"
   },
   "outputs": [
    {
     "name": "stdout",
     "output_type": "stream",
     "text": [
      "<TensorSliceDataset shapes: (3001,), types: tf.int32>\n"
     ]
    }
   ],
   "source": [
    "dataset = tf.data.Dataset.from_tensor_slices(dataset_vectorized_padded)\n",
    "\n",
    "print(dataset)"
   ]
  },
  {
   "cell_type": "code",
   "execution_count": 36,
   "metadata": {
    "colab": {
     "base_uri": "https://localhost:8080/",
     "height": 411
    },
    "colab_type": "code",
    "executionInfo": {
     "elapsed": 101428,
     "status": "ok",
     "timestamp": 1589554297983,
     "user": {
      "displayName": "Oleksii Trekhleb",
      "photoUrl": "https://lh3.googleusercontent.com/a-/AOh14GiiA4aUKCbFho88Jd0WWMoAqQUt3jbuCtfNYpHVOA=s64",
      "userId": "03172675069638383074"
     },
     "user_tz": -120
    },
    "id": "vXotghNqzoBL",
    "outputId": "7e63a45d-374c-4030-edab-c91316a07cec"
   },
   "outputs": [
    {
     "name": "stdout",
     "output_type": "stream",
     "text": [
      "Raw recipe:\n",
      " [42 29 32 ... 62 62 62] \n",
      "\n",
      "\n",
      "\n",
      "Stringified recipe:\n",
      "\n",
      "[TITLE] \n",
      "Slow Cooker Chicken and Dumplings \n",
      "\n",
      "[INGREDIENTS] \n",
      "• 4 skinless, boneless chicken breast halves \n",
      "• 2 tablespoons butter \n",
      "• 2 (10.75 ounce) cans condensed cream of chicken soup \n",
      "• 1 onion, finely diced \n",
      "• 2 (10 ounce) packages refrigerated biscuit dough, torn into pieces \n",
      "\n",
      "[INSTRUCTIONS] \n",
      "▪︎ Place the chicken, butter, soup, and onion in a slow cooker, and fill with enough water to cover.\n",
      "▪︎ Cover, and cook for 5 to 6 hours on High. About 30 minutes before serving, place the torn biscuit dough in the slow cooker. Cook until the dough is no longer raw in the center.\n",
      "\n",
      "★★★★★★★★★★★★★★★★★★★★★★★★★★★★★★★★★★★★★★★★★★★★★★★★★★★★★★★★★★★★★★★★★★★★★★★★★★★★★★★★★★★★★★★★★★★★★★★★★★★★★★★★★★★★★★★★★★★★★★★★★★★★★★★★★★★★★★★★★★★★★★★★★★★★★★★★★★★★★★★★★★★★★★★★★★★★★★★★★★★★★★★★★★★★★★★★★★★★★★★★★★★★★★★★★★★★★★★★★★★★★★★★★★★★★★★★★★★★★★★★★★★★★★★★★★★★★★★★★★★★★★★★★★★★★★★★★★★★★★★★★★★★★★★★★★★★★★★★★★★★★★★★★★★★★★★★★★★★★★★★★★★★★★★★★★★★★★★★★★★★★★★★★★★★★★★★★★★★★★★★★★★★★★★★★★★★★★★★★★★★★★★★★★★★★★★★★★★★★★★★★★★★★★★★★★★★★★★★★★★★★★★★★★★★★★★★★★★★★★★★★★★★★★★★★★★★★★★★★★★★★★★★★★★★★★★★★★★★★★★★★★★★★★★★★★★★★★★★★★★★★★★★★★★★★★★★★★★★★★★★★★★★★★★★★★★★★★★★★★★★★★★★★★★★★★★★★★★★★★★★★★★★★★★★★★★★★★★★★★★★★★★★★★★★★★★★★★★★★★★★★★★★★★★★★★★★★★★★★★★★★★★★★★★★★★★★★★★★★★★★★★★★★★★★★★★★★★★★★★★★★★★★★★★★★★★★★★★★★★★★★★★★★★★★★★★★★★★★★★★★★★★★★★★★★★★★★★★★★★★★★★★★★★★★★★★★★★★★★★★★★★★★★★★★★★★★★★★★★★★★★★★★★★★★★★★★★★★★★★★★★★★★★★★★★★★★★★★★★★★★★★★★★★★★★★★★★★★★★★★★★★★★★★★★★★★★★★★★★★★★★★★★★★★★★★★★★★★★★★★★★★★★★★★★★★★★★★★★★★★★★★★★★★★★★★★★★★★★★★★★★★★★★★★★★★★★★★★★★★★★★★★★★★★★★★★★★★★★★★★★★★★★★★★★★★★★★★★★★★★★★★★★★★★★★★★★★★★★★★★★★★★★★★★★★★★★★★★★★★★★★★★★★★★★★★★★★★★★★★★★★★★★★★★★★★★★★★★★★★★★★★★★★★★★★★★★★★★★★★★★★★★★★★★★★★★★★★★★★★★★★★★★★★★★★★★★★★★★★★★★★★★★★★★★★★★★★★★★★★★★★★★★★★★★★★★★★★★★★★★★★★★★★★★★★★★★★★★★★★★★★★★★★★★★★★★★★★★★★★★★★★★★★★★★★★★★★★★★★★★★★★★★★★★★★★★★★★★★★★★★★★★★★★★★★★★★★★★★★★★★★★★★★★★★★★★★★★★★★★★★★★★★★★★★★★★★★★★★★★★★★★★★★★★★★★★★★★★★★★★★★★★★★★★★★★★★★★★★★★★★★★★★★★★★★★★★★★★★★★★★★★★★★★★★★★★★★★★★★★★★★★★★★★★★★★★★★★★★★★★★★★★★★★★★★★★★★★★★★★★★★★★★★★★★★★★★★★★★★★★★★★★★★★★★★★★★★★★★★★★★★★★★★★★★★★★★★★★★★★★★★★★★★★★★★★★★★★★★★★★★★★★★★★★★★★★★★★★★★★★★★★★★★★★★★★★★★★★★★★★★★★★★★★★★★★★★★★★★★★★★★★★★★★★★★★★★★★★★★★★★★★★★★★★★★★★★★★★★★★★★★★★★★★★★★★★★★★★★★★★★★★★★★★★★★★★★★★★★★★★★★★★★★★★★★★★★★★★★★★★★★★★★★★★★★★★★★★★★★★★★★★★★★★★★★★★★★★★★★★★★★★★★★★★★★★★★★★★★★★★★★★★★★★★★★★★★★★★★★★★★★★★★★★★★★★★★★★★★★★★★★★★★★★★★★★★★★★★★★★★★★★★★★★★★★★★★★★★★★★★★★★★★★★★★★★★★★★★★★★★★★★★★★★★★★★★★★★★★★★★★★★★★★★★★★★★★★★★★★★★★★★★★★★★★★★★★★★★★★★★★★★★★★★★★★★★★★★★★★★★★★★★★★★★★★★★★★★★★★★★★★★★★★★★★★★★★★★★★★★★★★★★★★★★★★★★★★★★★★★★★★★★★★★★★★★★★★★★★★★★★★★★★★★★★★★★★★★★★★★★★★★★★★★★★★★★★★★★★★★★★★★★★★★★★★★★★★★★★★★★★★★★★★★★★★★★★★★★★★★★★★★★★★★★★★★★★★★★★★★★★★★★★★★★★★★★★★★★★★★★★★★★★★★★★★★★★★★★★★★★★★★★★★★★★★★★★★★★★★★★★★★★★★★★★★★★★★★★★★★★★★★★★★★★★★★★★★★★★★★★★★★★★★★★★★★★★★★★★★★★★★★★★★★★★★★★★★★★★★★★★★★★★★★★★★★★★★★★★★★★★★★★★★★★★★★★★★★★★★★★★★★★★★★★★★★★★★★★★★★★★★★★★★★★★★★★★★★★★★★★★★★★★★★★★★★★★★★★★★★★★★★★★★★★★★★★★★★★★★★★★★★★★★★★★★★★★★★★★★★★★★★★★★★★★★★★★★★★★★★★★★★★★★★★★★★★★★★★★★★★★★★★★★★★★★★★★★★★★★★★★★★★★★★★★★★★★★★★★★★★★\n"
     ]
    }
   ],
   "source": [
    "for recipe in dataset.take(1):\n",
    "    print('Raw recipe:\\n', recipe.numpy(), '\\n\\n\\n')\n",
    "    print('Stringified recipe:\\n')\n",
    "    recipe_sequence_to_string(recipe.numpy())"
   ]
  },
  {
   "cell_type": "markdown",
   "metadata": {
    "colab_type": "text",
    "id": "EjfoLORXzoBO"
   },
   "source": [
    "### Split examples on `input` and `target` texts"
   ]
  },
  {
   "cell_type": "markdown",
   "metadata": {
    "colab_type": "text",
    "id": "2zQqdBIGzoBP"
   },
   "source": [
    "For each sequence, duplicate and shift it to form the input and target text. For example, say sequence_length is 4 and our text is `Hello`. The input sequence would be `Hell`, and the target sequence `ello`."
   ]
  },
  {
   "cell_type": "code",
   "execution_count": 0,
   "metadata": {
    "colab": {},
    "colab_type": "code",
    "id": "WEwF6FYUzoBP"
   },
   "outputs": [],
   "source": [
    "def split_input_target(recipe):\n",
    "    input_text = recipe[:-1]\n",
    "    target_text = recipe[1:]\n",
    "    \n",
    "    return input_text, target_text"
   ]
  },
  {
   "cell_type": "code",
   "execution_count": 0,
   "metadata": {
    "colab": {},
    "colab_type": "code",
    "id": "IBRyH2_0zoBU"
   },
   "outputs": [],
   "source": [
    "dataset_targeted = dataset.map(split_input_target)"
   ]
  },
  {
   "cell_type": "code",
   "execution_count": 39,
   "metadata": {
    "colab": {
     "base_uri": "https://localhost:8080/",
     "height": 122
    },
    "colab_type": "code",
    "executionInfo": {
     "elapsed": 102577,
     "status": "ok",
     "timestamp": 1589554299151,
     "user": {
      "displayName": "Oleksii Trekhleb",
      "photoUrl": "https://lh3.googleusercontent.com/a-/AOh14GiiA4aUKCbFho88Jd0WWMoAqQUt3jbuCtfNYpHVOA=s64",
      "userId": "03172675069638383074"
     },
     "user_tz": -120
    },
    "id": "LlYun70NzoBc",
    "outputId": "926a5b63-8a4a-4109-8c1f-755407b49677"
   },
   "outputs": [
    {
     "name": "stdout",
     "output_type": "stream",
     "text": [
      "Input sequence size: 3000\n",
      "Target sequence size: 3000\n",
      "\n",
      "Input:   '[ T I T L E ]   \\n S l o w   C o o k e r   C h i c k e n   a n d   D u m p l i n g s   \\n \\n [ I N G R'\n",
      "Target:  'T I T L E ]   \\n S l o w   C o o k e r   C h i c k e n   a n d   D u m p l i n g s   \\n \\n [ I N G R E'\n"
     ]
    }
   ],
   "source": [
    "for input_example, target_example in dataset_targeted.take(1):\n",
    "    print('Input sequence size:', repr(len(input_example.numpy())))\n",
    "    print('Target sequence size:', repr(len(target_example.numpy())))\n",
    "    print()\n",
    "    \n",
    "    input_stringified = tokenizer.sequences_to_texts([input_example.numpy()[:50]])[0]\n",
    "    target_stringified = tokenizer.sequences_to_texts([target_example.numpy()[:50]])[0]\n",
    "    \n",
    "    print('Input:  ', repr(''.join(input_stringified)))\n",
    "    print('Target: ', repr(''.join(target_stringified)))"
   ]
  },
  {
   "cell_type": "markdown",
   "metadata": {
    "colab_type": "text",
    "id": "citnIqmDzoBe"
   },
   "source": [
    "Each index of these vectors are processed as one time step. For the input at time step 0, the model receives the index for `[` and tries to predict the index for `T` as the next character. At the next time-step, it does the same thing but the RNN considers the previous step context in addition to the current input character."
   ]
  },
  {
   "cell_type": "code",
   "execution_count": 40,
   "metadata": {
    "colab": {
     "base_uri": "https://localhost:8080/",
     "height": 527
    },
    "colab_type": "code",
    "executionInfo": {
     "elapsed": 102571,
     "status": "ok",
     "timestamp": 1589554299154,
     "user": {
      "displayName": "Oleksii Trekhleb",
      "photoUrl": "https://lh3.googleusercontent.com/a-/AOh14GiiA4aUKCbFho88Jd0WWMoAqQUt3jbuCtfNYpHVOA=s64",
      "userId": "03172675069638383074"
     },
     "user_tz": -120
    },
    "id": "MEjjnxFZzoBe",
    "outputId": "2c279621-df8e-4362-e3c7-e80e0a3f8080"
   },
   "outputs": [
    {
     "name": "stdout",
     "output_type": "stream",
     "text": [
      "Step  0\n",
      "  input: 42 ('[')\n",
      "  expected output: 29 ('T')\n",
      "Step  1\n",
      "  input: 29 ('T')\n",
      "  expected output: 32 ('I')\n",
      "Step  2\n",
      "  input: 32 ('I')\n",
      "  expected output: 29 ('T')\n",
      "Step  3\n",
      "  input: 29 ('T')\n",
      "  expected output: 53 ('L')\n",
      "Step  4\n",
      "  input: 53 ('L')\n",
      "  expected output: 39 ('E')\n",
      "Step  5\n",
      "  input: 39 ('E')\n",
      "  expected output: 41 (']')\n",
      "Step  6\n",
      "  input: 41 (']')\n",
      "  expected output: 1 (' ')\n",
      "Step  7\n",
      "  input: 1 (' ')\n",
      "  expected output: 18 ('\\n')\n",
      "Step  8\n",
      "  input: 18 ('\\n')\n",
      "  expected output: 30 ('S')\n",
      "Step  9\n",
      "  input: 30 ('S')\n",
      "  expected output: 10 ('l')\n"
     ]
    }
   ],
   "source": [
    "for i, (input_idx, target_idx) in enumerate(zip(input_example[:10], target_example[:10])):\n",
    "    print('Step {:2d}'.format(i))\n",
    "    print('  input: {} ({:s})'.format(input_idx, repr(tokenizer.sequences_to_texts([[input_idx.numpy()]])[0])))\n",
    "    print('  expected output: {} ({:s})'.format(target_idx, repr(tokenizer.sequences_to_texts([[target_idx.numpy()]])[0])))"
   ]
  },
  {
   "cell_type": "markdown",
   "metadata": {
    "colab_type": "text",
    "id": "JRe4AIFczoBi"
   },
   "source": [
    "### Split up the dataset into batches"
   ]
  },
  {
   "cell_type": "code",
   "execution_count": 41,
   "metadata": {
    "colab": {
     "base_uri": "https://localhost:8080/",
     "height": 68
    },
    "colab_type": "code",
    "executionInfo": {
     "elapsed": 102563,
     "status": "ok",
     "timestamp": 1589554299155,
     "user": {
      "displayName": "Oleksii Trekhleb",
      "photoUrl": "https://lh3.googleusercontent.com/a-/AOh14GiiA4aUKCbFho88Jd0WWMoAqQUt3jbuCtfNYpHVOA=s64",
      "userId": "03172675069638383074"
     },
     "user_tz": -120
    },
    "id": "S0C0eb5jzoBi",
    "outputId": "e1a030ff-9583-4874-96c9-988f2ebea28e"
   },
   "outputs": [
    {
     "name": "stdout",
     "output_type": "stream",
     "text": [
      "TOTAL_RECIPES_NUM:  122938\n",
      "MAX_RECIPE_LENGTH:  3000\n",
      "VOCABULARY_SIZE:  206\n"
     ]
    }
   ],
   "source": [
    "print('TOTAL_RECIPES_NUM: ', TOTAL_RECIPES_NUM)\n",
    "print('MAX_RECIPE_LENGTH: ', MAX_RECIPE_LENGTH)\n",
    "print('VOCABULARY_SIZE: ', VOCABULARY_SIZE)"
   ]
  },
  {
   "cell_type": "code",
   "execution_count": 42,
   "metadata": {
    "colab": {
     "base_uri": "https://localhost:8080/",
     "height": 34
    },
    "colab_type": "code",
    "executionInfo": {
     "elapsed": 102557,
     "status": "ok",
     "timestamp": 1589554299158,
     "user": {
      "displayName": "Oleksii Trekhleb",
      "photoUrl": "https://lh3.googleusercontent.com/a-/AOh14GiiA4aUKCbFho88Jd0WWMoAqQUt3jbuCtfNYpHVOA=s64",
      "userId": "03172675069638383074"
     },
     "user_tz": -120
    },
    "id": "Q6ivTD7PzoBk",
    "outputId": "778602dc-264b-4935-8582-7d535af5247f"
   },
   "outputs": [
    {
     "name": "stdout",
     "output_type": "stream",
     "text": [
      "<MapDataset shapes: ((3000,), (3000,)), types: (tf.int32, tf.int32)>\n"
     ]
    }
   ],
   "source": [
    "print(dataset_targeted)"
   ]
  },
  {
   "cell_type": "code",
   "execution_count": 0,
   "metadata": {
    "colab": {},
    "colab_type": "code",
    "id": "KM6sImcezoBp"
   },
   "outputs": [],
   "source": [
    "# Batch size.\n",
    "BATCH_SIZE = 64\n",
    "\n",
    "# Buffer size to shuffle the dataset (TF data is designed to work\n",
    "# with possibly infinite sequences, so it doesn't attempt to shuffle\n",
    "# the entire sequence in memory. Instead, it maintains a buffer in\n",
    "# which it shuffles elements).\n",
    "SHUFFLE_BUFFER_SIZE = 1000"
   ]
  },
  {
   "cell_type": "code",
   "execution_count": 44,
   "metadata": {
    "colab": {
     "base_uri": "https://localhost:8080/",
     "height": 34
    },
    "colab_type": "code",
    "executionInfo": {
     "elapsed": 102518,
     "status": "ok",
     "timestamp": 1589554299165,
     "user": {
      "displayName": "Oleksii Trekhleb",
      "photoUrl": "https://lh3.googleusercontent.com/a-/AOh14GiiA4aUKCbFho88Jd0WWMoAqQUt3jbuCtfNYpHVOA=s64",
      "userId": "03172675069638383074"
     },
     "user_tz": -120
    },
    "id": "Crhdr5gwzoBs",
    "outputId": "3c7448a7-153a-4498-a4ee-213130c9babf"
   },
   "outputs": [
    {
     "name": "stdout",
     "output_type": "stream",
     "text": [
      "<RepeatDataset shapes: ((64, 3000), (64, 3000)), types: (tf.int32, tf.int32)>\n"
     ]
    }
   ],
   "source": [
    "dataset_train = dataset_targeted \\\n",
    "    .shuffle(SHUFFLE_BUFFER_SIZE) \\\n",
    "    .batch(BATCH_SIZE, drop_remainder=True) \\\n",
    "    .repeat()\n",
    "\n",
    "print(dataset_train)"
   ]
  },
  {
   "cell_type": "code",
   "execution_count": 45,
   "metadata": {
    "colab": {
     "base_uri": "https://localhost:8080/",
     "height": 306
    },
    "colab_type": "code",
    "executionInfo": {
     "elapsed": 102770,
     "status": "ok",
     "timestamp": 1589554299432,
     "user": {
      "displayName": "Oleksii Trekhleb",
      "photoUrl": "https://lh3.googleusercontent.com/a-/AOh14GiiA4aUKCbFho88Jd0WWMoAqQUt3jbuCtfNYpHVOA=s64",
      "userId": "03172675069638383074"
     },
     "user_tz": -120
    },
    "id": "eQvSzn_QzoBu",
    "outputId": "7ca6f1e7-b476-47f8-9335-4758b14a41ca"
   },
   "outputs": [
    {
     "name": "stdout",
     "output_type": "stream",
     "text": [
      "1st batch: input_text: tf.Tensor(\n",
      "[[42 29 32 ... 62 62 62]\n",
      " [42 29 32 ... 62 62 62]\n",
      " [42 29 32 ... 62 62 62]\n",
      " ...\n",
      " [42 29 32 ... 62 62 62]\n",
      " [42 29 32 ... 62 62 62]\n",
      " [42 29 32 ... 62 62 62]], shape=(64, 3000), dtype=int32)\n",
      "\n",
      "1st batch: target_text: tf.Tensor(\n",
      "[[29 32 29 ... 62 62 62]\n",
      " [29 32 29 ... 62 62 62]\n",
      " [29 32 29 ... 62 62 62]\n",
      " ...\n",
      " [29 32 29 ... 62 62 62]\n",
      " [29 32 29 ... 62 62 62]\n",
      " [29 32 29 ... 62 62 62]], shape=(64, 3000), dtype=int32)\n"
     ]
    }
   ],
   "source": [
    "for input_text, target_text in dataset_train.take(1):\n",
    "    print('1st batch: input_text:', input_text)\n",
    "    print()\n",
    "    print('1st batch: target_text:', target_text)"
   ]
  },
  {
   "cell_type": "markdown",
   "metadata": {
    "colab_type": "text",
    "id": "I1Cb5DwhzoB0"
   },
   "source": [
    "## Build the model"
   ]
  },
  {
   "cell_type": "markdown",
   "metadata": {
    "colab_type": "text",
    "id": "il6FFdWGzoB0"
   },
   "source": [
    "Use [tf.keras.Sequential](https://www.tensorflow.org/api_docs/python/tf/keras/Sequential) to define the model. For this experiment we will use the following layer types:\n",
    "\n",
    "- [tf.keras.layers.Embedding](https://www.tensorflow.org/api_docs/python/tf/keras/layers/Embedding): The input layer. A trainable lookup table that will map the numbers of each character to a vector with `embedding_dim` dimensions;\n",
    "- [tf.keras.layers.LSTM](https://www.tensorflow.org/api_docs/python/tf/keras/layers/LSTM): A type of RNN with size units=rnn_units (You can also use a GRU layer here.)\n",
    "- [tf.keras.layers.Dense](https://www.tensorflow.org/api_docs/python/tf/keras/layers/Dense): The output layer, with vocab_size outputs."
   ]
  },
  {
   "cell_type": "code",
   "execution_count": 46,
   "metadata": {
    "colab": {
     "base_uri": "https://localhost:8080/",
     "height": 425
    },
    "colab_type": "code",
    "executionInfo": {
     "elapsed": 102928,
     "status": "ok",
     "timestamp": 1589554299666,
     "user": {
      "displayName": "Oleksii Trekhleb",
      "photoUrl": "https://lh3.googleusercontent.com/a-/AOh14GiiA4aUKCbFho88Jd0WWMoAqQUt3jbuCtfNYpHVOA=s64",
      "userId": "03172675069638383074"
     },
     "user_tz": -120
    },
    "id": "WI7drW1azoB0",
    "outputId": "f6102c21-2c2b-439e-f68d-3c5f0ef9b21f"
   },
   "outputs": [
    {
     "name": "stdout",
     "output_type": "stream",
     "text": [
      "tmp_input_array shape: (2, 8)\n",
      "tmp_input_array:\n",
      "[[1 9 8 6 5 4 2 7]\n",
      " [7 4 1 8 4 4 0 3]]\n",
      "\n",
      "tmp_output_array shape: (2, 8, 5)\n",
      "tmp_output_array:\n",
      "[[[ 0.01721983 -0.02516115 -0.04335931 -0.03480411  0.00279025]\n",
      "  [ 0.01177869 -0.02996011  0.04005884  0.02291466  0.02583927]\n",
      "  [-0.00501021  0.00117291 -0.00692557  0.00536666  0.04051368]\n",
      "  [-0.04157714  0.00056966 -0.01423835  0.03638132 -0.0449249 ]\n",
      "  [ 0.0156101  -0.0142447  -0.04388622  0.02815657  0.03155912]\n",
      "  [-0.03626826 -0.02364841  0.02665042 -0.04120075 -0.01217163]\n",
      "  [-0.00990678 -0.03566311  0.04371658 -0.0140344  -0.01745306]\n",
      "  [-0.03812594  0.03488674 -0.03970406  0.04287657  0.04305151]]\n",
      "\n",
      " [[-0.03812594  0.03488674 -0.03970406  0.04287657  0.04305151]\n",
      "  [-0.03626826 -0.02364841  0.02665042 -0.04120075 -0.01217163]\n",
      "  [ 0.01721983 -0.02516115 -0.04335931 -0.03480411  0.00279025]\n",
      "  [-0.00501021  0.00117291 -0.00692557  0.00536666  0.04051368]\n",
      "  [-0.03626826 -0.02364841  0.02665042 -0.04120075 -0.01217163]\n",
      "  [-0.03626826 -0.02364841  0.02665042 -0.04120075 -0.01217163]\n",
      "  [ 0.00115323  0.0234272   0.0409201  -0.00789014 -0.01965454]\n",
      "  [ 0.01234053 -0.031082    0.01156377  0.04786487  0.03459514]]]\n"
     ]
    }
   ],
   "source": [
    "# Let's do a quick detour and see how Embeding layer works.\n",
    "# It takes several char indices sequences (batch) as an input.\n",
    "# It encodes every character of every sequence to a vector of tmp_embeding_size length.\n",
    "tmp_vocab_size = 10\n",
    "tmp_embeding_size = 5\n",
    "tmp_input_length = 8\n",
    "tmp_batch_size = 2\n",
    "\n",
    "tmp_model = tf.keras.models.Sequential()\n",
    "tmp_model.add(tf.keras.layers.Embedding(\n",
    "  input_dim=tmp_vocab_size,\n",
    "  output_dim=tmp_embeding_size,\n",
    "  input_length=tmp_input_length\n",
    "))\n",
    "# The model will take as input an integer matrix of size (batch, input_length).\n",
    "# The largest integer (i.e. word index) in the input should be no larger than 9 (tmp_vocab_size).\n",
    "# Now model.output_shape == (None, 10, 64), where None is the batch dimension.\n",
    "tmp_input_array = np.random.randint(\n",
    "  low=0,\n",
    "  high=tmp_vocab_size,\n",
    "  size=(tmp_batch_size, tmp_input_length)\n",
    ")\n",
    "tmp_model.compile('rmsprop', 'mse')\n",
    "tmp_output_array = tmp_model.predict(tmp_input_array)\n",
    "\n",
    "print('tmp_input_array shape:', tmp_input_array.shape)\n",
    "print('tmp_input_array:')\n",
    "print(tmp_input_array)\n",
    "print()\n",
    "print('tmp_output_array shape:', tmp_output_array.shape)\n",
    "print('tmp_output_array:')\n",
    "print(tmp_output_array)"
   ]
  },
  {
   "cell_type": "markdown",
   "metadata": {
    "colab_type": "text",
    "id": "21tT2UDbzoB2"
   },
   "source": [
    "### Model 1"
   ]
  },
  {
   "cell_type": "code",
   "execution_count": 0,
   "metadata": {
    "colab": {},
    "colab_type": "code",
    "id": "TFcbI5ZpzoB2"
   },
   "outputs": [],
   "source": [
    "# Length of the vocabulary in chars.\n",
    "vocab_size = VOCABULARY_SIZE\n",
    "\n",
    "# The embedding dimension.\n",
    "embedding_dim = 256\n",
    "\n",
    "# Number of RNN units.\n",
    "rnn_units = 1024"
   ]
  },
  {
   "cell_type": "code",
   "execution_count": 0,
   "metadata": {
    "colab": {},
    "colab_type": "code",
    "id": "4TFPtjbGzoB4"
   },
   "outputs": [],
   "source": [
    "def build_model_1(vocab_size, embedding_dim, rnn_units, batch_size):\n",
    "    model = tf.keras.models.Sequential()\n",
    "\n",
    "    model.add(tf.keras.layers.Embedding(\n",
    "        input_dim=vocab_size,\n",
    "        output_dim=embedding_dim,\n",
    "        batch_input_shape=[batch_size, None]\n",
    "    ))\n",
    "\n",
    "    model.add(tf.keras.layers.LSTM(\n",
    "        units=rnn_units,\n",
    "        return_sequences=True,\n",
    "        stateful=True,\n",
    "        recurrent_initializer=tf.keras.initializers.GlorotNormal()\n",
    "    ))\n",
    "\n",
    "    model.add(tf.keras.layers.Dense(vocab_size))\n",
    "    \n",
    "    return model"
   ]
  },
  {
   "cell_type": "code",
   "execution_count": 49,
   "metadata": {
    "colab": {
     "base_uri": "https://localhost:8080/",
     "height": 255
    },
    "colab_type": "code",
    "executionInfo": {
     "elapsed": 103139,
     "status": "ok",
     "timestamp": 1589554299918,
     "user": {
      "displayName": "Oleksii Trekhleb",
      "photoUrl": "https://lh3.googleusercontent.com/a-/AOh14GiiA4aUKCbFho88Jd0WWMoAqQUt3jbuCtfNYpHVOA=s64",
      "userId": "03172675069638383074"
     },
     "user_tz": -120
    },
    "id": "bj3gdYjvzoB6",
    "outputId": "4f8cfdd9-16a5-4a18-be86-e41bdb3cb9a6"
   },
   "outputs": [
    {
     "name": "stdout",
     "output_type": "stream",
     "text": [
      "Model: \"sequential_1\"\n",
      "_________________________________________________________________\n",
      "Layer (type)                 Output Shape              Param #   \n",
      "=================================================================\n",
      "embedding_1 (Embedding)      (64, None, 256)           52736     \n",
      "_________________________________________________________________\n",
      "lstm (LSTM)                  (64, None, 1024)          5246976   \n",
      "_________________________________________________________________\n",
      "dense (Dense)                (64, None, 206)           211150    \n",
      "=================================================================\n",
      "Total params: 5,510,862\n",
      "Trainable params: 5,510,862\n",
      "Non-trainable params: 0\n",
      "_________________________________________________________________\n"
     ]
    }
   ],
   "source": [
    "model_1 = build_model_1(vocab_size, embedding_dim, rnn_units, BATCH_SIZE)\n",
    "\n",
    "model_1.summary()"
   ]
  },
  {
   "cell_type": "code",
   "execution_count": 50,
   "metadata": {
    "colab": {
     "base_uri": "https://localhost:8080/",
     "height": 422
    },
    "colab_type": "code",
    "executionInfo": {
     "elapsed": 103800,
     "status": "ok",
     "timestamp": 1589554300591,
     "user": {
      "displayName": "Oleksii Trekhleb",
      "photoUrl": "https://lh3.googleusercontent.com/a-/AOh14GiiA4aUKCbFho88Jd0WWMoAqQUt3jbuCtfNYpHVOA=s64",
      "userId": "03172675069638383074"
     },
     "user_tz": -120
    },
    "id": "p3Nl1EbAzoB_",
    "outputId": "ca933a65-c8e2-4217-bed6-37e42cd46158"
   },
   "outputs": [
    {
     "data": {
      "image/png": "[encoded data removed]",
      "text/plain": [
       "<IPython.core.display.Image object>"
      ]
     },
     "execution_count": 50,
     "metadata": {
      "tags": []
     },
     "output_type": "execute_result"
    }
   ],
   "source": [
    "tf.keras.utils.plot_model(\n",
    "    model_1,\n",
    "    show_shapes=True,\n",
    "    show_layer_names=True,\n",
    "    to_file='model_1.png'\n",
    ")"
   ]
  },
  {
   "cell_type": "markdown",
   "metadata": {
    "colab_type": "text",
    "id": "7wxf1BwOzoCE"
   },
   "source": [
    "For each character the model looks up the embedding, runs the LSTM one time-step with the embedding as input, and applies the dense layer to generate logits predicting the log-likelihood of the next character:\n",
    "\n",
    "![Model architecture](https://www.tensorflow.org/tutorials/text/images/text_generation_training.png)\n",
    "\n",
    "Image source: [Text generation with an RNN](https://www.tensorflow.org/tutorials/text/text_generation) notebook."
   ]
  },
  {
   "cell_type": "markdown",
   "metadata": {
    "colab_type": "text",
    "id": "wsDx0bOwzoCE"
   },
   "source": [
    "## Trying the model"
   ]
  },
  {
   "cell_type": "code",
   "execution_count": 60,
   "metadata": {
    "colab": {
     "base_uri": "https://localhost:8080/",
     "height": 34
    },
    "colab_type": "code",
    "executionInfo": {
     "elapsed": 1383,
     "status": "ok",
     "timestamp": 1589554412864,
     "user": {
      "displayName": "Oleksii Trekhleb",
      "photoUrl": "https://lh3.googleusercontent.com/a-/AOh14GiiA4aUKCbFho88Jd0WWMoAqQUt3jbuCtfNYpHVOA=s64",
      "userId": "03172675069638383074"
     },
     "user_tz": -120
    },
    "id": "T8zTYoupzoCF",
    "outputId": "8d2e450c-9292-4ebe-cc51-adbe842f6d0a"
   },
   "outputs": [
    {
     "name": "stdout",
     "output_type": "stream",
     "text": [
      "(64, 3000, 206) # (batch_size, sequence_length, vocab_size)\n"
     ]
    }
   ],
   "source": [
    "for input_example_batch, target_example_batch in dataset_train.take(1):\n",
    "    example_batch_predictions = model_1(input_example_batch)\n",
    "    print(example_batch_predictions.shape, \"# (batch_size, sequence_length, vocab_size)\")"
   ]
  },
  {
   "cell_type": "markdown",
   "metadata": {
    "colab_type": "text",
    "id": "N6A-n8AczoCH"
   },
   "source": [
    "To get actual predictions from the model we need to sample from the output distribution, to get actual character indices. This distribution is defined by the logits over the character vocabulary."
   ]
  },
  {
   "cell_type": "code",
   "execution_count": 61,
   "metadata": {
    "colab": {
     "base_uri": "https://localhost:8080/",
     "height": 646
    },
    "colab_type": "code",
    "executionInfo": {
     "elapsed": 486,
     "status": "ok",
     "timestamp": 1589554415632,
     "user": {
      "displayName": "Oleksii Trekhleb",
      "photoUrl": "https://lh3.googleusercontent.com/a-/AOh14GiiA4aUKCbFho88Jd0WWMoAqQUt3jbuCtfNYpHVOA=s64",
      "userId": "03172675069638383074"
     },
     "user_tz": -120
    },
    "id": "dkxYzEeBzoCH",
    "outputId": "3c5af58b-dc0c-452c-b926-4ca71bc31725"
   },
   "outputs": [
    {
     "name": "stdout",
     "output_type": "stream",
     "text": [
      "Prediction for the 1st letter of the batch 1st sequense:\n",
      "tf.Tensor(\n",
      "[ 0.00813719  0.00884714 -0.00470113 -0.02547098  0.0205188  -0.00836888\n",
      " -0.00040671 -0.00854358  0.00823562  0.01417799  0.00692754  0.01863839\n",
      "  0.01169073 -0.01036738  0.0047404  -0.0004312  -0.0179859  -0.00665283\n",
      "  0.00611237 -0.00438008  0.00283675 -0.00383458  0.00102383  0.00204432\n",
      "  0.00871027  0.02661246  0.01302767 -0.00906413  0.02559561  0.00077677\n",
      "  0.01280495  0.02480283 -0.00470052 -0.01711483  0.00863879  0.00696342\n",
      " -0.00115037 -0.01029968 -0.00041981  0.00556746  0.00504783 -0.01509278\n",
      "  0.01420454  0.0061627   0.00718229  0.01080343 -0.00674913 -0.01675\n",
      "  0.0135576  -0.00324403 -0.00849714 -0.00909043  0.00920428 -0.00954432\n",
      "  0.01034062  0.00491237 -0.00798051  0.0124677   0.00902335  0.01015779\n",
      "  0.00018446 -0.0126421  -0.00105096 -0.01201323  0.00351738  0.00057964\n",
      "  0.00041665 -0.01434942 -0.01352404  0.00904233 -0.02151428  0.00019435\n",
      "  0.0015817   0.02727639  0.01982896  0.00688684  0.01075938 -0.00612642\n",
      " -0.00419216  0.01953114  0.01168982 -0.02207537  0.00434434 -0.00276543\n",
      " -0.00143097  0.00378632 -0.00277225  0.00326846 -0.01129749  0.00968649\n",
      "  0.0004319   0.0013215  -0.01296451  0.02117673  0.00473736 -0.00185317\n",
      " -0.00092572  0.00917474  0.00823598 -0.00928286  0.0041005   0.01295135\n",
      " -0.00409577 -0.00563451 -0.00223745 -0.00521777  0.01502086 -0.00955067\n",
      "  0.00176103  0.00618254 -0.00924711  0.00874269 -0.00029116  0.00551181\n",
      " -0.01394621  0.01373875  0.0131086   0.00903272  0.00492052 -0.00070599\n",
      " -0.00960237 -0.00696954  0.00714274  0.00440923  0.00046023  0.00645682\n",
      "  0.02552306 -0.00195837 -0.01666928  0.00950089  0.00352203 -0.02900288\n",
      " -0.00847893 -0.00207184  0.01346122  0.01276983  0.00214711 -0.00381645\n",
      " -0.0010188   0.01084863 -0.00881249  0.00919321 -0.00686463 -0.00428025\n",
      "  0.02063589  0.00029206 -0.0036789  -0.00904617  0.00395937 -0.00778259\n",
      " -0.01432789  0.00665257 -0.01684918  0.0017374   0.00145591  0.01958214\n",
      " -0.01074484  0.00187983 -0.01310897 -0.00064637  0.00847061 -0.00203617\n",
      "  0.00418635 -0.00520049  0.01017461 -0.00902987 -0.01010346 -0.00049423\n",
      " -0.00672153 -0.00466359 -0.0139694   0.00518861 -0.00685412  0.01277621\n",
      "  0.00526624  0.00653831 -0.00037372 -0.0051803   0.0033316  -0.00633569\n",
      " -0.00780271 -0.00066312 -0.01052294 -0.00860457 -0.00863102 -0.01869776\n",
      "  0.02160831  0.00085955  0.00099644 -0.00566124  0.00651454 -0.00118285\n",
      "  0.0163647   0.00308374  0.00898819  0.01056963  0.01267669  0.00808509\n",
      "  0.01357144 -0.00209199  0.02297919 -0.00161647 -0.01435123 -0.00019066\n",
      "  0.00246904  0.02533397], shape=(206,), dtype=float32)\n"
     ]
    }
   ],
   "source": [
    "print('Prediction for the 1st letter of the batch 1st sequense:')\n",
    "print(example_batch_predictions[0, 0])"
   ]
  },
  {
   "cell_type": "code",
   "execution_count": 62,
   "metadata": {
    "colab": {
     "base_uri": "https://localhost:8080/",
     "height": 34
    },
    "colab_type": "code",
    "executionInfo": {
     "elapsed": 511,
     "status": "ok",
     "timestamp": 1589554436182,
     "user": {
      "displayName": "Oleksii Trekhleb",
      "photoUrl": "https://lh3.googleusercontent.com/a-/AOh14GiiA4aUKCbFho88Jd0WWMoAqQUt3jbuCtfNYpHVOA=s64",
      "userId": "03172675069638383074"
     },
     "user_tz": -120
    },
    "id": "eAzyA7N6zoCL",
    "outputId": "4ef050d0-5890-486b-fb19-5a868b4424f9"
   },
   "outputs": [
    {
     "name": "stdout",
     "output_type": "stream",
     "text": [
      "tf.Tensor([[0 2 2 2 2]], shape=(1, 5), dtype=int64)\n"
     ]
    }
   ],
   "source": [
    "# Quick overview of how tf.random.categorical() works.\n",
    "\n",
    "# logits is 2-D Tensor with shape [batch_size, num_classes].\n",
    "# Each slice [i, :] represents the unnormalized log-probabilities for all classes.\n",
    "# In the example below we say that the probability for class \"0\" is low but the\n",
    "# probability for class \"2\" is much higher.\n",
    "tmp_logits = [\n",
    "  [-0.95, 0, 0.95],\n",
    "];\n",
    "\n",
    "# Let's generate 5 samples. Each sample is a class index. Class probabilities \n",
    "# are being taken into account (we expect to see more samples of class \"2\").\n",
    "tmp_samples = tf.random.categorical(\n",
    "    logits=tmp_logits,\n",
    "    num_samples=5\n",
    ")\n",
    "\n",
    "print(tmp_samples)"
   ]
  },
  {
   "cell_type": "code",
   "execution_count": 63,
   "metadata": {
    "colab": {
     "base_uri": "https://localhost:8080/",
     "height": 34
    },
    "colab_type": "code",
    "executionInfo": {
     "elapsed": 614,
     "status": "ok",
     "timestamp": 1589554439205,
     "user": {
      "displayName": "Oleksii Trekhleb",
      "photoUrl": "https://lh3.googleusercontent.com/a-/AOh14GiiA4aUKCbFho88Jd0WWMoAqQUt3jbuCtfNYpHVOA=s64",
      "userId": "03172675069638383074"
     },
     "user_tz": -120
    },
    "id": "iY463opZzoCQ",
    "outputId": "a29537bc-a49f-411f-dc79-a3785b4efc20"
   },
   "outputs": [
    {
     "data": {
      "text/plain": [
       "TensorShape([3000, 1])"
      ]
     },
     "execution_count": 63,
     "metadata": {
      "tags": []
     },
     "output_type": "execute_result"
    }
   ],
   "source": [
    "sampled_indices = tf.random.categorical(\n",
    "    logits=example_batch_predictions[0],\n",
    "    num_samples=1\n",
    ")\n",
    "\n",
    "sampled_indices.shape"
   ]
  },
  {
   "cell_type": "code",
   "execution_count": 64,
   "metadata": {
    "colab": {
     "base_uri": "https://localhost:8080/",
     "height": 34
    },
    "colab_type": "code",
    "executionInfo": {
     "elapsed": 508,
     "status": "ok",
     "timestamp": 1589554441542,
     "user": {
      "displayName": "Oleksii Trekhleb",
      "photoUrl": "https://lh3.googleusercontent.com/a-/AOh14GiiA4aUKCbFho88Jd0WWMoAqQUt3jbuCtfNYpHVOA=s64",
      "userId": "03172675069638383074"
     },
     "user_tz": -120
    },
    "id": "wW7SdhmpzoCR",
    "outputId": "b33e1222-e867-4d08-80f8-81239d5671eb"
   },
   "outputs": [
    {
     "data": {
      "text/plain": [
       "(3000,)"
      ]
     },
     "execution_count": 64,
     "metadata": {
      "tags": []
     },
     "output_type": "execute_result"
    }
   ],
   "source": [
    "sampled_indices = tf.squeeze(\n",
    "    input=sampled_indices,\n",
    "    axis=-1\n",
    ").numpy()\n",
    "\n",
    "sampled_indices.shape"
   ]
  },
  {
   "cell_type": "code",
   "execution_count": 65,
   "metadata": {
    "colab": {
     "base_uri": "https://localhost:8080/",
     "height": 153
    },
    "colab_type": "code",
    "executionInfo": {
     "elapsed": 542,
     "status": "ok",
     "timestamp": 1589554443984,
     "user": {
      "displayName": "Oleksii Trekhleb",
      "photoUrl": "https://lh3.googleusercontent.com/a-/AOh14GiiA4aUKCbFho88Jd0WWMoAqQUt3jbuCtfNYpHVOA=s64",
      "userId": "03172675069638383074"
     },
     "user_tz": -120
    },
    "id": "GNCb0mCVzoCV",
    "outputId": "6f13eefb-39cc-4d97-81e5-d0e883bc33fc"
   },
   "outputs": [
    {
     "data": {
      "text/plain": [
       "array([ 90,  29,  79,  57, 180, 106, 188, 153, 121,  53, 105, 194, 103,\n",
       "       135,   7,  37,  57,  59,  97, 126,  74, 145,  21,  96, 185,   9,\n",
       "        25,  36,  80, 144,  56, 158,  80, 203,  96,  28, 108, 146,  74,\n",
       "        34, 108, 152,  85, 147,  82, 110, 150, 175, 130,  11,  25,  94,\n",
       "       203,  18, 146,  30, 142, 115, 163, 110,  43,  49,  10, 189, 164,\n",
       "       162, 205,  56,  60,  71,  73,  78,   1,  77, 166,  38,  42, 169,\n",
       "        62,  38,  49,  10, 143,  33,  89, 205, 157, 103,  37, 185,   1,\n",
       "       165, 156, 163, 138,  70, 130,  35,  72, 185])"
      ]
     },
     "execution_count": 65,
     "metadata": {
      "tags": []
     },
     "output_type": "execute_result"
    }
   ],
   "source": [
    "sampled_indices[:100]"
   ]
  },
  {
   "cell_type": "code",
   "execution_count": 66,
   "metadata": {
    "colab": {
     "base_uri": "https://localhost:8080/",
     "height": 122
    },
    "colab_type": "code",
    "executionInfo": {
     "elapsed": 520,
     "status": "ok",
     "timestamp": 1589554446114,
     "user": {
      "displayName": "Oleksii Trekhleb",
      "photoUrl": "https://lh3.googleusercontent.com/a-/AOh14GiiA4aUKCbFho88Jd0WWMoAqQUt3jbuCtfNYpHVOA=s64",
      "userId": "03172675069638383074"
     },
     "user_tz": -120
    },
    "id": "H9rPAT0yzoCX",
    "outputId": "7a044722-e7c5-4f63-cfc8-ac7f054b0e82"
   },
   "outputs": [
    {
     "name": "stdout",
     "output_type": "stream",
     "text": [
      "Input:\n",
      " '[ T I T L E ]   \\n D a y   B e f o r e   M a s h e d   P o t a t o e s   \\n \\n [ I N G R E D I E N T S'\n",
      "\n",
      "Next char prediction:\n",
      " '& T Y F ÿ í ơ ì ‚ L > ± ó · i C F O ¿ ü 9 | f ™ \\x19 s 1 ︎ ® ` B ﬂ ® ź ™ y < @ 9 N < \\\\ Z \\x92 Q º \\u200b \\u202d É d'\n"
     ]
    }
   ],
   "source": [
    "print('Input:\\n', repr(''.join(tokenizer.sequences_to_texts([input_example_batch[0].numpy()[:50]]))))\n",
    "print()\n",
    "print('Next char prediction:\\n', repr(''.join(tokenizer.sequences_to_texts([sampled_indices[:50]]))))"
   ]
  },
  {
   "cell_type": "markdown",
   "metadata": {
    "colab_type": "text",
    "id": "POP-yeyfzoCb"
   },
   "source": [
    "### Trying the model with variable input"
   ]
  },
  {
   "cell_type": "code",
   "execution_count": 67,
   "metadata": {
    "colab": {
     "base_uri": "https://localhost:8080/",
     "height": 1000
    },
    "colab_type": "code",
    "executionInfo": {
     "elapsed": 726,
     "status": "ok",
     "timestamp": 1589554525992,
     "user": {
      "displayName": "Oleksii Trekhleb",
      "photoUrl": "https://lh3.googleusercontent.com/a-/AOh14GiiA4aUKCbFho88Jd0WWMoAqQUt3jbuCtfNYpHVOA=s64",
      "userId": "03172675069638383074"
     },
     "user_tz": -120
    },
    "id": "k4IpQpepzoCc",
    "outputId": "ef22f9a6-488e-460d-bbb5-f4231fb56d12"
   },
   "outputs": [
    {
     "name": "stdout",
     "output_type": "stream",
     "text": [
      "Prediction shape:  (64, 10, 206) # (batch_size, sequence_length, vocab_size)\n",
      "\n",
      "Custom length input: \n",
      "[[0. 0. 0. 0. 0. 0. 0. 0. 0. 0.]\n",
      " [0. 0. 0. 0. 0. 0. 0. 0. 0. 0.]\n",
      " [0. 0. 0. 0. 0. 0. 0. 0. 0. 0.]\n",
      " [0. 0. 0. 0. 0. 0. 0. 0. 0. 0.]\n",
      " [0. 0. 0. 0. 0. 0. 0. 0. 0. 0.]\n",
      " [0. 0. 0. 0. 0. 0. 0. 0. 0. 0.]\n",
      " [0. 0. 0. 0. 0. 0. 0. 0. 0. 0.]\n",
      " [0. 0. 0. 0. 0. 0. 0. 0. 0. 0.]\n",
      " [0. 0. 0. 0. 0. 0. 0. 0. 0. 0.]\n",
      " [0. 0. 0. 0. 0. 0. 0. 0. 0. 0.]\n",
      " [0. 0. 0. 0. 0. 0. 0. 0. 0. 0.]\n",
      " [0. 0. 0. 0. 0. 0. 0. 0. 0. 0.]\n",
      " [0. 0. 0. 0. 0. 0. 0. 0. 0. 0.]\n",
      " [0. 0. 0. 0. 0. 0. 0. 0. 0. 0.]\n",
      " [0. 0. 0. 0. 0. 0. 0. 0. 0. 0.]\n",
      " [0. 0. 0. 0. 0. 0. 0. 0. 0. 0.]\n",
      " [0. 0. 0. 0. 0. 0. 0. 0. 0. 0.]\n",
      " [0. 0. 0. 0. 0. 0. 0. 0. 0. 0.]\n",
      " [0. 0. 0. 0. 0. 0. 0. 0. 0. 0.]\n",
      " [0. 0. 0. 0. 0. 0. 0. 0. 0. 0.]\n",
      " [0. 0. 0. 0. 0. 0. 0. 0. 0. 0.]\n",
      " [0. 0. 0. 0. 0. 0. 0. 0. 0. 0.]\n",
      " [0. 0. 0. 0. 0. 0. 0. 0. 0. 0.]\n",
      " [0. 0. 0. 0. 0. 0. 0. 0. 0. 0.]\n",
      " [0. 0. 0. 0. 0. 0. 0. 0. 0. 0.]\n",
      " [0. 0. 0. 0. 0. 0. 0. 0. 0. 0.]\n",
      " [0. 0. 0. 0. 0. 0. 0. 0. 0. 0.]\n",
      " [0. 0. 0. 0. 0. 0. 0. 0. 0. 0.]\n",
      " [0. 0. 0. 0. 0. 0. 0. 0. 0. 0.]\n",
      " [0. 0. 0. 0. 0. 0. 0. 0. 0. 0.]\n",
      " [0. 0. 0. 0. 0. 0. 0. 0. 0. 0.]\n",
      " [0. 0. 0. 0. 0. 0. 0. 0. 0. 0.]\n",
      " [0. 0. 0. 0. 0. 0. 0. 0. 0. 0.]\n",
      " [0. 0. 0. 0. 0. 0. 0. 0. 0. 0.]\n",
      " [0. 0. 0. 0. 0. 0. 0. 0. 0. 0.]\n",
      " [0. 0. 0. 0. 0. 0. 0. 0. 0. 0.]\n",
      " [0. 0. 0. 0. 0. 0. 0. 0. 0. 0.]\n",
      " [0. 0. 0. 0. 0. 0. 0. 0. 0. 0.]\n",
      " [0. 0. 0. 0. 0. 0. 0. 0. 0. 0.]\n",
      " [0. 0. 0. 0. 0. 0. 0. 0. 0. 0.]\n",
      " [0. 0. 0. 0. 0. 0. 0. 0. 0. 0.]\n",
      " [0. 0. 0. 0. 0. 0. 0. 0. 0. 0.]\n",
      " [0. 0. 0. 0. 0. 0. 0. 0. 0. 0.]\n",
      " [0. 0. 0. 0. 0. 0. 0. 0. 0. 0.]\n",
      " [0. 0. 0. 0. 0. 0. 0. 0. 0. 0.]\n",
      " [0. 0. 0. 0. 0. 0. 0. 0. 0. 0.]\n",
      " [0. 0. 0. 0. 0. 0. 0. 0. 0. 0.]\n",
      " [0. 0. 0. 0. 0. 0. 0. 0. 0. 0.]\n",
      " [0. 0. 0. 0. 0. 0. 0. 0. 0. 0.]\n",
      " [0. 0. 0. 0. 0. 0. 0. 0. 0. 0.]\n",
      " [0. 0. 0. 0. 0. 0. 0. 0. 0. 0.]\n",
      " [0. 0. 0. 0. 0. 0. 0. 0. 0. 0.]\n",
      " [0. 0. 0. 0. 0. 0. 0. 0. 0. 0.]\n",
      " [0. 0. 0. 0. 0. 0. 0. 0. 0. 0.]\n",
      " [0. 0. 0. 0. 0. 0. 0. 0. 0. 0.]\n",
      " [0. 0. 0. 0. 0. 0. 0. 0. 0. 0.]\n",
      " [0. 0. 0. 0. 0. 0. 0. 0. 0. 0.]\n",
      " [0. 0. 0. 0. 0. 0. 0. 0. 0. 0.]\n",
      " [0. 0. 0. 0. 0. 0. 0. 0. 0. 0.]\n",
      " [0. 0. 0. 0. 0. 0. 0. 0. 0. 0.]\n",
      " [0. 0. 0. 0. 0. 0. 0. 0. 0. 0.]\n",
      " [0. 0. 0. 0. 0. 0. 0. 0. 0. 0.]\n",
      " [0. 0. 0. 0. 0. 0. 0. 0. 0. 0.]\n",
      " [0. 0. 0. 0. 0. 0. 0. 0. 0. 0.]]\n"
     ]
    }
   ],
   "source": [
    "for input_example_batch_custom, target_example_batch_custom in dataset_train.take(1):\n",
    "    random_input = np.zeros(shape=(BATCH_SIZE, 10))\n",
    "    example_batch_predictions_custom = model_1(random_input)\n",
    "    print('Prediction shape: ', example_batch_predictions_custom.shape, \"# (batch_size, sequence_length, vocab_size)\\n\")\n",
    "    print('Custom length input: ')\n",
    "    print(random_input)"
   ]
  },
  {
   "cell_type": "markdown",
   "metadata": {
    "colab_type": "text",
    "id": "CY1eRp0hzoCe"
   },
   "source": [
    "## Training the model"
   ]
  },
  {
   "cell_type": "markdown",
   "metadata": {
    "colab_type": "text",
    "id": "djfrr46QzoCe"
   },
   "source": [
    "### Attach an optimizer, and a loss function"
   ]
  },
  {
   "cell_type": "code",
   "execution_count": 68,
   "metadata": {
    "colab": {
     "base_uri": "https://localhost:8080/",
     "height": 51
    },
    "colab_type": "code",
    "executionInfo": {
     "elapsed": 495,
     "status": "ok",
     "timestamp": 1589554530783,
     "user": {
      "displayName": "Oleksii Trekhleb",
      "photoUrl": "https://lh3.googleusercontent.com/a-/AOh14GiiA4aUKCbFho88Jd0WWMoAqQUt3jbuCtfNYpHVOA=s64",
      "userId": "03172675069638383074"
     },
     "user_tz": -120
    },
    "id": "Hf6GcydqzoCe",
    "outputId": "05e7ef6a-93ea-4d15-ded3-0fc049effed9"
   },
   "outputs": [
    {
     "name": "stdout",
     "output_type": "stream",
     "text": [
      "Prediction shape:  (64, 3000, 206)  # (batch_size, sequence_length, vocab_size)\n",
      "scalar_loss:       5.341851\n"
     ]
    }
   ],
   "source": [
    "# An objective function.\n",
    "# The function is any callable with the signature scalar_loss = fn(y_true, y_pred).\n",
    "def loss(labels, logits):\n",
    "    return tf.keras.losses.sparse_categorical_crossentropy(\n",
    "      y_true=labels,\n",
    "      y_pred=logits,\n",
    "      from_logits=True\n",
    "    )\n",
    "\n",
    "example_batch_loss = loss(target_example_batch, example_batch_predictions)\n",
    "\n",
    "print(\"Prediction shape: \", example_batch_predictions.shape, \" # (batch_size, sequence_length, vocab_size)\")\n",
    "print(\"scalar_loss:      \", example_batch_loss.numpy().mean())"
   ]
  },
  {
   "cell_type": "code",
   "execution_count": 0,
   "metadata": {
    "colab": {},
    "colab_type": "code",
    "id": "SkE4pzI2zoCg"
   },
   "outputs": [],
   "source": [
    "adam_optimizer = tf.keras.optimizers.Adam(learning_rate=0.001)\n",
    "\n",
    "model_1.compile(\n",
    "    optimizer=adam_optimizer,\n",
    "    loss=loss\n",
    ")"
   ]
  },
  {
   "cell_type": "markdown",
   "metadata": {
    "colab_type": "text",
    "id": "b1a4WFZ6zoCh"
   },
   "source": [
    "### Configuring checkpoints"
   ]
  },
  {
   "cell_type": "code",
   "execution_count": 0,
   "metadata": {
    "colab": {},
    "colab_type": "code",
    "id": "bKN1feQCzoCh"
   },
   "outputs": [],
   "source": [
    "early_stopping_callback = tf.keras.callbacks.EarlyStopping(\n",
    "    patience=5,\n",
    "    monitor='loss',\n",
    "    restore_best_weights=True,\n",
    "    verbose=1\n",
    ")"
   ]
  },
  {
   "cell_type": "code",
   "execution_count": 0,
   "metadata": {
    "colab": {},
    "colab_type": "code",
    "id": "4Dq9jH75zoCj"
   },
   "outputs": [],
   "source": [
    "# Directory where the checkpoints will be saved.\n",
    "checkpoint_dir = 'tmp/checkpoints'\n",
    "os.makedirs(checkpoint_dir, exist_ok=True)\n",
    "\n",
    "# Name of the checkpoint files\n",
    "checkpoint_prefix = os.path.join(checkpoint_dir, 'ckpt_{epoch}')\n",
    "\n",
    "checkpoint_callback=tf.keras.callbacks.ModelCheckpoint(\n",
    "    filepath=checkpoint_prefix,\n",
    "    save_weights_only=True\n",
    ")"
   ]
  },
  {
   "cell_type": "markdown",
   "metadata": {
    "colab_type": "text",
    "id": "0nr_ODbxzoCk"
   },
   "source": [
    "### Execute the training"
   ]
  },
  {
   "cell_type": "code",
   "execution_count": 103,
   "metadata": {
    "colab": {
     "base_uri": "https://localhost:8080/",
     "height": 119
    },
    "colab_type": "code",
    "executionInfo": {
     "elapsed": 5801,
     "status": "ok",
     "timestamp": 1589555565034,
     "user": {
      "displayName": "Oleksii Trekhleb",
      "photoUrl": "https://lh3.googleusercontent.com/a-/AOh14GiiA4aUKCbFho88Jd0WWMoAqQUt3jbuCtfNYpHVOA=s64",
      "userId": "03172675069638383074"
     },
     "user_tz": -120
    },
    "id": "KelDEXJozoCk",
    "outputId": "d4b5829b-9bc4-4ba5-d52e-57040c241b0d"
   },
   "outputs": [
    {
     "name": "stdout",
     "output_type": "stream",
     "text": [
      "Epoch 1/3\n",
      "1/1 [==============================] - 0s 151ms/step - loss: 0.4792\n",
      "Epoch 2/3\n",
      "1/1 [==============================] - 0s 189ms/step - loss: 0.5475\n",
      "Epoch 3/3\n",
      "1/1 [==============================] - 0s 138ms/step - loss: 0.5259\n"
     ]
    }
   ],
   "source": [
    "history_1 = model_1.fit(\n",
    "    x=dataset_train,\n",
    "    epochs=3,\n",
    "    steps_per_epoch=1,\n",
    "    callbacks=[\n",
    "        checkpoint_callback,\n",
    "        early_stopping_callback\n",
    "    ]\n",
    ")"
   ]
  },
  {
   "cell_type": "code",
   "execution_count": 0,
   "metadata": {
    "colab": {},
    "colab_type": "code",
    "id": "SquldfXSzoCm"
   },
   "outputs": [],
   "source": [
    "def render_training_history(training_history):\n",
    "    loss = training_history.history['loss']\n",
    "    plt.title('Loss')\n",
    "    plt.xlabel('Epoch')\n",
    "    plt.ylabel('Loss')\n",
    "    plt.plot(loss, label='Training set')\n",
    "    plt.legend()\n",
    "    plt.grid(linestyle='--', linewidth=1, alpha=0.5)\n",
    "    plt.show()"
   ]
  },
  {
   "cell_type": "code",
   "execution_count": 90,
   "metadata": {
    "colab": {
     "base_uri": "https://localhost:8080/",
     "height": 295
    },
    "colab_type": "code",
    "executionInfo": {
     "elapsed": 598,
     "status": "ok",
     "timestamp": 1589555396577,
     "user": {
      "displayName": "Oleksii Trekhleb",
      "photoUrl": "https://lh3.googleusercontent.com/a-/AOh14GiiA4aUKCbFho88Jd0WWMoAqQUt3jbuCtfNYpHVOA=s64",
      "userId": "03172675069638383074"
     },
     "user_tz": -120
    },
    "id": "SmLoIbZdzoCn",
    "outputId": "0308b9da-d8e1-4270-f76b-bd13267b60f8"
   },
   "outputs": [
    {
     "data": {
      "image/png": "[encoded data removed]",
      "text/plain": [
       "<Figure size 432x288 with 1 Axes>"
      ]
     },
     "metadata": {
      "needs_background": "light",
      "tags": []
     },
     "output_type": "display_data"
    }
   ],
   "source": [
    "render_training_history(history_1)"
   ]
  },
  {
   "cell_type": "markdown",
   "metadata": {
    "colab_type": "text",
    "id": "p4lRBe9NzoCp"
   },
   "source": [
    "## Generating text"
   ]
  },
  {
   "cell_type": "markdown",
   "metadata": {
    "colab_type": "text",
    "id": "UcuZH0YizoCr"
   },
   "source": [
    "### Restore the latest checkpoint\n",
    "\n",
    "To keep this prediction step simple, use a batch size of 1.\n",
    "\n",
    "Because of the way the RNN state is passed from timestep to timestep, the model only accepts a fixed batch size once built.\n",
    "\n",
    "To run the model with a different `batch_size`, we need to rebuild the model and restore the weights from the checkpoint."
   ]
  },
  {
   "cell_type": "code",
   "execution_count": 91,
   "metadata": {
    "colab": {
     "base_uri": "https://localhost:8080/",
     "height": 34
    },
    "colab_type": "code",
    "executionInfo": {
     "elapsed": 519,
     "status": "ok",
     "timestamp": 1589555401688,
     "user": {
      "displayName": "Oleksii Trekhleb",
      "photoUrl": "https://lh3.googleusercontent.com/a-/AOh14GiiA4aUKCbFho88Jd0WWMoAqQUt3jbuCtfNYpHVOA=s64",
      "userId": "03172675069638383074"
     },
     "user_tz": -120
    },
    "id": "1WGna7G0zoCs",
    "outputId": "151baa95-e14a-47f6-ccbb-66f32fbea907"
   },
   "outputs": [
    {
     "data": {
      "text/plain": [
       "'tmp/checkpoints/ckpt_5'"
      ]
     },
     "execution_count": 91,
     "metadata": {
      "tags": []
     },
     "output_type": "execute_result"
    }
   ],
   "source": [
    "tf.train.latest_checkpoint(checkpoint_dir)"
   ]
  },
  {
   "cell_type": "code",
   "execution_count": 0,
   "metadata": {
    "colab": {},
    "colab_type": "code",
    "id": "jHiuE22gzoCt"
   },
   "outputs": [],
   "source": [
    "simplified_batch_size = 1\n",
    "\n",
    "model_1_simplified = build_model_1(vocab_size, embedding_dim, rnn_units, simplified_batch_size)\n",
    "\n",
    "model_1_simplified.load_weights(tf.train.latest_checkpoint(checkpoint_dir))\n",
    "\n",
    "model_1_simplified.build(tf.TensorShape([simplified_batch_size, None]))"
   ]
  },
  {
   "cell_type": "code",
   "execution_count": 93,
   "metadata": {
    "colab": {
     "base_uri": "https://localhost:8080/",
     "height": 255
    },
    "colab_type": "code",
    "executionInfo": {
     "elapsed": 488,
     "status": "ok",
     "timestamp": 1589555406863,
     "user": {
      "displayName": "Oleksii Trekhleb",
      "photoUrl": "https://lh3.googleusercontent.com/a-/AOh14GiiA4aUKCbFho88Jd0WWMoAqQUt3jbuCtfNYpHVOA=s64",
      "userId": "03172675069638383074"
     },
     "user_tz": -120
    },
    "id": "0jUFeh0vzoCv",
    "outputId": "7e088fec-b590-4a4f-fcfe-03684c7c1865"
   },
   "outputs": [
    {
     "name": "stdout",
     "output_type": "stream",
     "text": [
      "Model: \"sequential_3\"\n",
      "_________________________________________________________________\n",
      "Layer (type)                 Output Shape              Param #   \n",
      "=================================================================\n",
      "embedding_3 (Embedding)      (1, None, 256)            52736     \n",
      "_________________________________________________________________\n",
      "lstm_2 (LSTM)                (1, None, 1024)           5246976   \n",
      "_________________________________________________________________\n",
      "dense_2 (Dense)              (1, None, 206)            211150    \n",
      "=================================================================\n",
      "Total params: 5,510,862\n",
      "Trainable params: 5,510,862\n",
      "Non-trainable params: 0\n",
      "_________________________________________________________________\n"
     ]
    }
   ],
   "source": [
    "model_1_simplified.summary()"
   ]
  },
  {
   "cell_type": "code",
   "execution_count": 94,
   "metadata": {
    "colab": {
     "base_uri": "https://localhost:8080/",
     "height": 34
    },
    "colab_type": "code",
    "executionInfo": {
     "elapsed": 501,
     "status": "ok",
     "timestamp": 1589555409860,
     "user": {
      "displayName": "Oleksii Trekhleb",
      "photoUrl": "https://lh3.googleusercontent.com/a-/AOh14GiiA4aUKCbFho88Jd0WWMoAqQUt3jbuCtfNYpHVOA=s64",
      "userId": "03172675069638383074"
     },
     "user_tz": -120
    },
    "id": "3-B16rkSzoCx",
    "outputId": "0b23e8a4-7582-4034-fa89-fedaf1fa3b0f"
   },
   "outputs": [
    {
     "data": {
      "text/plain": [
       "(1, None)"
      ]
     },
     "execution_count": 94,
     "metadata": {
      "tags": []
     },
     "output_type": "execute_result"
    }
   ],
   "source": [
    "model_1_simplified.input_shape"
   ]
  },
  {
   "cell_type": "markdown",
   "metadata": {
    "colab_type": "text",
    "id": "i6EYC8fBzoC0"
   },
   "source": [
    "### The prediction loop\n",
    "\n",
    "The following code block generates the text:\n",
    "\n",
    "- It Starts by choosing a start string, initializing the RNN state and setting the number of characters to generate.\n",
    "\n",
    "- Get the prediction distribution of the next character using the start string and the RNN state.\n",
    "\n",
    "- Then, use a categorical distribution to calculate the index of the predicted character. Use this predicted character as our next input to the model.\n",
    "\n",
    "- The RNN state returned by the model is fed back into the model so that it now has more context, instead than only one character. After predicting the next character, the modified RNN states are again fed back into the model, which is how it learns as it gets more context from the previously predicted characters.\n",
    "\n",
    "![Prediction loop](https://www.tensorflow.org/tutorials/text/images/text_generation_sampling.png)\n",
    "\n",
    "Image source: [Text generation with an RNN](https://www.tensorflow.org/tutorials/text/text_generation) notebook."
   ]
  },
  {
   "cell_type": "code",
   "execution_count": 0,
   "metadata": {
    "colab": {},
    "colab_type": "code",
    "id": "Ea9GKIaqzoC0"
   },
   "outputs": [],
   "source": [
    "# num_generate\n",
    "# - number of characters to generate.\n",
    "#\n",
    "# temperature\n",
    "# - Low temperatures results in more predictable text.\n",
    "# - Higher temperatures results in more surprising text.\n",
    "# - Experiment to find the best setting.\n",
    "def generate_text(model, start_string, num_generate = 1000, temperature=1.0):\n",
    "    # Evaluation step (generating text using the learned model)\n",
    "    \n",
    "    padded_start_string = '[TITLE]\\n' + start_string\n",
    "\n",
    "    # Converting our start string to numbers (vectorizing).\n",
    "    input_indices = np.array(tokenizer.texts_to_sequences([padded_start_string]))\n",
    "\n",
    "    # Empty string to store our results.\n",
    "    text_generated = []\n",
    "\n",
    "    # Here batch size == 1.\n",
    "    model.reset_states()\n",
    "    for char_index in range(num_generate):\n",
    "        predictions = model(input_indices)\n",
    "        # remove the batch dimension\n",
    "        predictions = tf.squeeze(predictions, 0)\n",
    "\n",
    "        # Using a categorical distribution to predict the character returned by the model.\n",
    "        predictions = predictions / temperature\n",
    "        predicted_id = tf.random.categorical(\n",
    "            predictions,\n",
    "            num_samples=1\n",
    "        )[-1,0].numpy()\n",
    "\n",
    "        # We pass the predicted character as the next input to the model\n",
    "        # along with the previous hidden state.\n",
    "        input_indices = tf.expand_dims([predicted_id], 0)\n",
    "        \n",
    "        next_character = tokenizer.sequences_to_texts(input_indices.numpy())[0]\n",
    "\n",
    "        text_generated.append(next_character)\n",
    "\n",
    "    return (padded_start_string + ''.join(text_generated))"
   ]
  },
  {
   "cell_type": "code",
   "execution_count": 98,
   "metadata": {
    "colab": {
     "base_uri": "https://localhost:8080/",
     "height": 88
    },
    "colab_type": "code",
    "executionInfo": {
     "elapsed": 5140,
     "status": "ok",
     "timestamp": 1589555452855,
     "user": {
      "displayName": "Oleksii Trekhleb",
      "photoUrl": "https://lh3.googleusercontent.com/a-/AOh14GiiA4aUKCbFho88Jd0WWMoAqQUt3jbuCtfNYpHVOA=s64",
      "userId": "03172675069638383074"
     },
     "user_tz": -120
    },
    "id": "NWfUpbkGzoC1",
    "outputId": "f29ee4a8-a257-44a6-96d7-a667d0ff378c"
   },
   "outputs": [
    {
     "name": "stdout",
     "output_type": "stream",
     "text": [
      "[TITLE]\n",
      "Oû⅛◊7•‧Á$>Ü‐$àí©H_‚è§ë§ăˆ�‪_‱́́⅓‪}ﬁ@ ″⁄¡Û—–Ñ+‟êÜăñźù\u0010­B‱[½ô©á⅛Ú´ú‐_ư³C}~⅓Á ëÛø§̉Mñ¡$—\\⅞‮?Dè@�Săü ò–G }`\u0019ä″� ‟‑ă:Ûö`~‐―῰¡É¡>í̀ÿù‟―́’èX―+ﬂù‟ó»­‪°ôÿ‐−̀Û\u0010\u0019`# 0[‮¾É[ﬁW¬​‪`⁄́Ú‧øõ‮ÛÉﬂ\u0010–ÂÛ–\u0010äøÿ*´îä⁄ ‧á™V×Ûºø¿ˆÁ\u0010ä$è|¿âÿ¡ó¹°öúó<⅛�″øVç“A‮◊H¬­}öûí⅓k‪‮″̉è̀³>~ìä‱ù‮\u0019―¡‐’#ô$ó‱¿‒<[⅞+‧–\u0010òº’″ưă{\\è‒½×» =~‧ ÉX�é⅓¤Û*ßâÂî″�øèÜ# ¤―%˚å½##ﬂ\u0019’äP~―ﬂ{öéà“\u0019⁄>½[•⅛​Âèß×ë‐V¼·\u0019‮ù⅞í°=ÿ�û​íà§}èÀ‑ﬂëº́ăúøíä̀ÿô×°àNå…–ö}Ü⅛è‟“§+âÜñÂ°˚‐ü⅞íO([ä¿ñä~ú°@̉°ï��″¹·‚ü‚�¬ó‪¤øÜùﬂ4¾ źÿ¤⅞‧ ¤­Â‮îă‟ơÑ⅓ìă¤å’\u0010‚É‚$‚©̉−ç‱í“‮áàMåï‐‚å―‮è=ê@{Éõ’¡ÿ​Âêíè ½ÚU‐︎Â>~ê−%©ư­ź⅞ö\\‧ÿY~îô á‮`}¿⅞ùóÑˆR­[H―Â[[[±″˚#=}˚Â\u0010⁄É~Â¡ơ?¼ñåå“KL\"U èç�V©‱Â\u0019­=ớèúú̀Z‭ﬁ⅛ìì’°¿ÿź~ôD⅔$îí̉\u0010*¬õF‒ù–″“*Á³ú−\u001a˚»‑°F‟ˆó]⁄_Ü”ç⅛ÿãÜú‑–[û\u0010ú½>⅞ú%̉‮“U¡ăó ×X…}P–¾Û◊é¤\\³º​~ó_̉‮“​\\4[‐—Â‐èåååòëäÂ½‧M—⅛“Ñó⅓îÉ[AM$è⅞¹ÿ⅓í‟í#½·?῰¹{¹‱Éq‱‑(\u0010ù#⁄\\¹�\u0010°ơò¾ﬁ⅛‮ê\\úø\u001a″⅓‮ß⁄³Â\u0019Sz îÑ~‐̀ Wư¡\u0019″‧òÁ\u0010}ºơÂ‧¿`’½ˆã︎” V Úòì⅞ź×◊¿ò\u0010\n",
      "OôÂ×1øé︎ơ<ßB ◊ö¹ﬁ\u0019[[ơù­ưÿ»�ÉîÂôÑè⅛»̉A[òøÀëåí$À¿·¡:�é‐–�Ü¬˚öAC§Áò’ç‑—ﬁ‟ÿÉ\u001a″‐ Ñ​±‧ˆäXXJ¾ É⅔\u001aå»­_½`ˆ​?\u0019˚í⅓®É⅞⁄â¡É\u0010⅔ä◊ç$`³⁄ñÚú@⅞¼$\u0019¿‑◊_ ¡—―%@⅛~±â~�ưÂ‟åº⅛ˆX\n"
     ]
    }
   ],
   "source": [
    "# Generate the text with default temperature (1.0).\n",
    "print(generate_text(model_1_simplified, start_string='O'))"
   ]
  },
  {
   "cell_type": "markdown",
   "metadata": {
    "colab_type": "text",
    "id": "bzKG7hu6zoC3"
   },
   "source": [
    "## Save the model"
   ]
  },
  {
   "cell_type": "code",
   "execution_count": 0,
   "metadata": {
    "colab": {},
    "colab_type": "code",
    "id": "5FUBBTv8zoC3"
   },
   "outputs": [],
   "source": [
    "model_name = 'recipe_generation_rnn.h5'\n",
    "model_1_simplified.save(model_name, save_format='h5')"
   ]
  },
  {
   "cell_type": "markdown",
   "metadata": {
    "colab_type": "text",
    "id": "SwXRR8FJzoC5"
   },
   "source": [
    "## Converting the model to web-format\n",
    "\n",
    "To use this model on the web we need to convert it into the format that will be understandable by [tensorflowjs](https://www.tensorflow.org/js). To do so we may use [tfjs-converter](https://github.com/tensorflow/tfjs/tree/master/tfjs-converter) as following:\n",
    "\n",
    "```\n",
    "tensorflowjs_converter --input_format keras \\\n",
    "  ./experiments/recipe_generation_rnn/recipe_generation_rnn.h5 \\\n",
    "  ./demos/public/models/recipe_generation_rnn\n",
    "```\n",
    "\n",
    "You find this experiment in the [Demo app](https://trekhleb.github.io/machine-learning-experiments) and play around with it right in you browser to see how the model performs in real life."
   ]
  }
 ],
 "metadata": {
  "accelerator": "GPU",
  "colab": {
   "collapsed_sections": [],
   "name": "recipe_generation_rnn.ipynb",
   "provenance": [],
   "toc_visible": true
  },
  "kernelspec": {
   "display_name": "Python 3",
   "language": "python",
   "name": "python3"
  },
  "language_info": {
   "codemirror_mode": {
    "name": "ipython",
    "version": 3
   },
   "file_extension": ".py",
   "mimetype": "text/x-python",
   "name": "python",
   "nbconvert_exporter": "python",
   "pygments_lexer": "ipython3",
   "version": "3.7.6"
  }
 },
 "nbformat": 4,
 "nbformat_minor": 1
}
