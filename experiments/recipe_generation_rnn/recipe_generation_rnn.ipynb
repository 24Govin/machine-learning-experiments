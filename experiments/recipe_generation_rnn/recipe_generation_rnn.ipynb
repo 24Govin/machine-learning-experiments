{
 "cells": [
  {
   "cell_type": "markdown",
   "metadata": {},
   "source": [
    "# Recipe Generation using Recurrent Neural Network (RNN)"
   ]
  },
  {
   "cell_type": "markdown",
   "metadata": {},
   "source": [
    "## Importing dependencies"
   ]
  },
  {
   "cell_type": "code",
   "execution_count": 1,
   "metadata": {},
   "outputs": [
    {
     "name": "stdout",
     "output_type": "stream",
     "text": [
      "Python version: 3.7.6\n",
      "Tensorflow version: 2.1.0\n",
      "Keras version: 2.2.4-tf\n"
     ]
    }
   ],
   "source": [
    "import tensorflow as tf\n",
    "import matplotlib.pyplot as plt\n",
    "import numpy as np\n",
    "import platform\n",
    "import time\n",
    "import pathlib\n",
    "import os\n",
    "import json\n",
    "\n",
    "print('Python version:', platform.python_version())\n",
    "print('Tensorflow version:', tf.__version__)\n",
    "print('Keras version:', tf.keras.__version__)"
   ]
  },
  {
   "cell_type": "markdown",
   "metadata": {},
   "source": [
    "## Exploring datasets\n",
    "\n",
    "- 🤷 [Recipe Ingredients Dataset](https://www.kaggle.com/kaggle/recipe-ingredients-dataset/home) _(doesn't have ingredients proportions)_\n",
    "- 🤷 [Recipe1M+](http://pic2recipe.csail.mit.edu/) _(requires registration to download)_\n",
    "- 🤷 [Epicurious - Recipes with Rating and Nutrition](https://www.kaggle.com/hugodarwood/epirecipes?select=full_format_recipes.json) _(~20k recipes only, it would be nice to find more)_\n",
    "- 👍🏻 [**Recipe box**](https://eightportions.com/datasets/Recipes/) _(~125,000 recipes with ingredients proportions)_"
   ]
  },
  {
   "cell_type": "markdown",
   "metadata": {},
   "source": [
    "## Loading the dataset"
   ]
  },
  {
   "cell_type": "code",
   "execution_count": 2,
   "metadata": {},
   "outputs": [],
   "source": [
    "# Create cache folder.\n",
    "cache_dir = './tmp'\n",
    "pathlib.Path(cache_dir).mkdir(exist_ok=True)"
   ]
  },
  {
   "cell_type": "code",
   "execution_count": 3,
   "metadata": {},
   "outputs": [
    {
     "name": "stdout",
     "output_type": "stream",
     "text": [
      "./tmp/datasets/recipes_raw.zip\n"
     ]
    }
   ],
   "source": [
    "# Download and unpack the dataset.\n",
    "dataset_file_name = 'recipes_raw.zip'\n",
    "dataset_file_origin = 'https://storage.googleapis.com/recipe-box/recipes_raw.zip'\n",
    "\n",
    "dataset_file_path = tf.keras.utils.get_file(\n",
    "    fname=dataset_file_name,\n",
    "    origin=dataset_file_origin,\n",
    "    cache_dir=cache_dir,\n",
    "    extract=True,\n",
    "    archive_format='zip'\n",
    ")\n",
    "\n",
    "print(dataset_file_path)"
   ]
  },
  {
   "cell_type": "code",
   "execution_count": 4,
   "metadata": {},
   "outputs": [
    {
     "name": "stdout",
     "output_type": "stream",
     "text": [
      "total 521128\r\n",
      "drwxr-xr-x  7 trekhleb  staff       224 May 13 18:10 \u001b[34m.\u001b[m\u001b[m\r\n",
      "drwxr-xr-x  3 trekhleb  staff        96 May 13 18:10 \u001b[34m..\u001b[m\u001b[m\r\n",
      "-rw-r--r--  1 trekhleb  staff     20437 May 15 06:54 LICENSE\r\n",
      "-rw-r--r--  1 trekhleb  staff  53355492 May 13 18:10 recipes_raw.zip\r\n",
      "-rw-r--r--  1 trekhleb  staff  49784325 May 15 06:54 recipes_raw_nosource_ar.json\r\n",
      "-rw-r--r--  1 trekhleb  staff  61133971 May 15 06:54 recipes_raw_nosource_epi.json\r\n",
      "-rw-r--r--  1 trekhleb  staff  93702755 May 15 06:54 recipes_raw_nosource_fn.json\r\n"
     ]
    }
   ],
   "source": [
    "!ls -la ./tmp/datasets/"
   ]
  },
  {
   "cell_type": "code",
   "execution_count": 5,
   "metadata": {},
   "outputs": [],
   "source": [
    "def load_dataset(silent=False):\n",
    "    dataset_file_names = [\n",
    "        'recipes_raw_nosource_ar.json',\n",
    "        'recipes_raw_nosource_epi.json',\n",
    "        'recipes_raw_nosource_fn.json',\n",
    "    ]\n",
    "    \n",
    "    dataset = []\n",
    "\n",
    "    for dataset_file_name in dataset_file_names:\n",
    "        dataset_file_path = f'{cache_dir}/datasets/{dataset_file_name}'\n",
    "\n",
    "        with open(dataset_file_path) as dataset_file:\n",
    "            json_data_dict = json.load(dataset_file)\n",
    "            json_data_list = list(json_data_dict.values())\n",
    "            dict_keys = [key for key in json_data_list[0]]\n",
    "            dict_keys.sort()\n",
    "            dataset += json_data_list\n",
    "\n",
    "            if silent == False:\n",
    "                print(dataset_file_path)\n",
    "                print('===========================================')\n",
    "                print('Number of examples: ', len(json_data_list), '\\n')\n",
    "                print('Example object keys:\\n', dict_keys, '\\n')\n",
    "                print('Example object:\\n', json_data_list[0], '\\n')\n",
    "                print('Required keys:\\n')\n",
    "                print('  title: ', json_data_list[0]['title'], '\\n')\n",
    "                print('  ingredients: ', json_data_list[0]['ingredients'], '\\n')\n",
    "                print('  instructions: ', json_data_list[0]['instructions'])\n",
    "                print('\\n\\n')\n",
    "    \n",
    "    return dataset  "
   ]
  },
  {
   "cell_type": "code",
   "execution_count": 6,
   "metadata": {},
   "outputs": [
    {
     "name": "stdout",
     "output_type": "stream",
     "text": [
      "./tmp/datasets/recipes_raw_nosource_ar.json\n",
      "===========================================\n",
      "Number of examples:  39802 \n",
      "\n",
      "Example object keys:\n",
      " ['ingredients', 'instructions', 'picture_link', 'title'] \n",
      "\n",
      "Example object:\n",
      " {'title': 'Slow Cooker Chicken and Dumplings', 'ingredients': ['4 skinless, boneless chicken breast halves ADVERTISEMENT', '2 tablespoons butter ADVERTISEMENT', '2 (10.75 ounce) cans condensed cream of chicken soup ADVERTISEMENT', '1 onion, finely diced ADVERTISEMENT', '2 (10 ounce) packages refrigerated biscuit dough, torn into pieces ADVERTISEMENT', 'ADVERTISEMENT'], 'instructions': 'Place the chicken, butter, soup, and onion in a slow cooker, and fill with enough water to cover.\\nCover, and cook for 5 to 6 hours on High. About 30 minutes before serving, place the torn biscuit dough in the slow cooker. Cook until the dough is no longer raw in the center.\\n', 'picture_link': '55lznCYBbs2mT8BTx6BTkLhynGHzM.S'} \n",
      "\n",
      "Required keys:\n",
      "\n",
      "  title:  Slow Cooker Chicken and Dumplings \n",
      "\n",
      "  ingredients:  ['4 skinless, boneless chicken breast halves ADVERTISEMENT', '2 tablespoons butter ADVERTISEMENT', '2 (10.75 ounce) cans condensed cream of chicken soup ADVERTISEMENT', '1 onion, finely diced ADVERTISEMENT', '2 (10 ounce) packages refrigerated biscuit dough, torn into pieces ADVERTISEMENT', 'ADVERTISEMENT'] \n",
      "\n",
      "  instructions:  Place the chicken, butter, soup, and onion in a slow cooker, and fill with enough water to cover.\n",
      "Cover, and cook for 5 to 6 hours on High. About 30 minutes before serving, place the torn biscuit dough in the slow cooker. Cook until the dough is no longer raw in the center.\n",
      "\n",
      "\n",
      "\n",
      "\n",
      "./tmp/datasets/recipes_raw_nosource_epi.json\n",
      "===========================================\n",
      "Number of examples:  25323 \n",
      "\n",
      "Example object keys:\n",
      " ['ingredients', 'instructions', 'picture_link', 'title'] \n",
      "\n",
      "Example object:\n",
      " {'ingredients': ['12 egg whites', '12 egg yolks', '1 1/2 cups sugar', '3/4 cup rye whiskey', '12 egg whites', '3/4 cup brandy', '1/2 cup rum', '1 to 2 cups heavy cream, lightly whipped', 'Garnish: ground nutmeg'], 'picture_link': None, 'instructions': 'Beat the egg whites until stiff, gradually adding in 3/4 cup sugar. Set aside. Beat the egg yolks until they are thick and pale and add the other 3/4 cup sugar and stir in rye whiskey. Blend well. Fold the egg white mixture into the yolk mixture and add the brandy and the rum. Beat the mixture well. To serve, fold the lightly whipped heavy cream into the eggnog. (If a thinner mixture is desired, add the heavy cream unwhipped.) Sprinkle the top of the eggnog with the nutmeg to taste.\\nBeat the egg whites until stiff, gradually adding in 3/4 cup sugar. Set aside. Beat the egg yolks until they are thick and pale and add the other 3/4 cup sugar and stir in rye whiskey. Blend well. Fold the egg white mixture into the yolk mixture and add the brandy and the rum. Beat the mixture well. To serve, fold the lightly whipped heavy cream into the eggnog. (If a thinner mixture is desired, add the heavy cream unwhipped.) Sprinkle the top of the eggnog with the nutmeg to taste.', 'title': 'Christmas Eggnog '} \n",
      "\n",
      "Required keys:\n",
      "\n",
      "  title:  Christmas Eggnog  \n",
      "\n",
      "  ingredients:  ['12 egg whites', '12 egg yolks', '1 1/2 cups sugar', '3/4 cup rye whiskey', '12 egg whites', '3/4 cup brandy', '1/2 cup rum', '1 to 2 cups heavy cream, lightly whipped', 'Garnish: ground nutmeg'] \n",
      "\n",
      "  instructions:  Beat the egg whites until stiff, gradually adding in 3/4 cup sugar. Set aside. Beat the egg yolks until they are thick and pale and add the other 3/4 cup sugar and stir in rye whiskey. Blend well. Fold the egg white mixture into the yolk mixture and add the brandy and the rum. Beat the mixture well. To serve, fold the lightly whipped heavy cream into the eggnog. (If a thinner mixture is desired, add the heavy cream unwhipped.) Sprinkle the top of the eggnog with the nutmeg to taste.\n",
      "Beat the egg whites until stiff, gradually adding in 3/4 cup sugar. Set aside. Beat the egg yolks until they are thick and pale and add the other 3/4 cup sugar and stir in rye whiskey. Blend well. Fold the egg white mixture into the yolk mixture and add the brandy and the rum. Beat the mixture well. To serve, fold the lightly whipped heavy cream into the eggnog. (If a thinner mixture is desired, add the heavy cream unwhipped.) Sprinkle the top of the eggnog with the nutmeg to taste.\n",
      "\n",
      "\n",
      "\n",
      "./tmp/datasets/recipes_raw_nosource_fn.json\n",
      "===========================================\n",
      "Number of examples:  60039 \n",
      "\n",
      "Example object keys:\n",
      " ['ingredients', 'instructions', 'picture_link', 'title'] \n",
      "\n",
      "Example object:\n",
      " {'instructions': 'Toss ingredients lightly and spoon into a buttered baking dish. Top with additional crushed cracker crumbs, and brush with melted butter. Bake in a preheated at 350 degrees oven for 25 to 30 minutes or until delicately browned.', 'ingredients': ['1/2 cup celery, finely chopped', '1 small green pepper finely chopped', '1/2 cup finely sliced green onions', '1/4 cup chopped parsley', '1 pound crabmeat', '1 1/4 cups coarsely crushed cracker crumbs', '1/2 teaspoon salt', '3/4 teaspoons dry mustard', 'Dash hot sauce', '1/4 cup heavy cream', '1/2 cup melted butter'], 'title': \"Grammie Hamblet's Deviled Crab\", 'picture_link': None} \n",
      "\n",
      "Required keys:\n",
      "\n",
      "  title:  Grammie Hamblet's Deviled Crab \n",
      "\n",
      "  ingredients:  ['1/2 cup celery, finely chopped', '1 small green pepper finely chopped', '1/2 cup finely sliced green onions', '1/4 cup chopped parsley', '1 pound crabmeat', '1 1/4 cups coarsely crushed cracker crumbs', '1/2 teaspoon salt', '3/4 teaspoons dry mustard', 'Dash hot sauce', '1/4 cup heavy cream', '1/2 cup melted butter'] \n",
      "\n",
      "  instructions:  Toss ingredients lightly and spoon into a buttered baking dish. Top with additional crushed cracker crumbs, and brush with melted butter. Bake in a preheated at 350 degrees oven for 25 to 30 minutes or until delicately browned.\n",
      "\n",
      "\n",
      "\n"
     ]
    }
   ],
   "source": [
    "dataset_raw = load_dataset()  "
   ]
  },
  {
   "cell_type": "code",
   "execution_count": 7,
   "metadata": {},
   "outputs": [
    {
     "name": "stdout",
     "output_type": "stream",
     "text": [
      "Total number of raw examples:  125164\n"
     ]
    }
   ],
   "source": [
    "print('Total number of raw examples: ', len(dataset_raw))"
   ]
  },
  {
   "cell_type": "markdown",
   "metadata": {},
   "source": [
    "## Preprocessing the dataset"
   ]
  },
  {
   "cell_type": "markdown",
   "metadata": {},
   "source": [
    "### Converting recipes objects to strings"
   ]
  },
  {
   "cell_type": "code",
   "execution_count": 8,
   "metadata": {},
   "outputs": [],
   "source": [
    "STOP_SIGN = '★'"
   ]
  },
  {
   "cell_type": "code",
   "execution_count": 9,
   "metadata": {},
   "outputs": [],
   "source": [
    "def recipe_validate(recipe):\n",
    "    required_keys = ['title', 'ingredients', 'instructions']\n",
    "    \n",
    "    if not recipe:\n",
    "        return False\n",
    "    \n",
    "    for required_key in required_keys:\n",
    "        if not recipe[required_key]:\n",
    "            return False\n",
    "        \n",
    "        if type(recipe[required_key]) == list and len(recipe[required_key]) == 0:\n",
    "            return False\n",
    "    \n",
    "    return True"
   ]
  },
  {
   "cell_type": "code",
   "execution_count": 10,
   "metadata": {},
   "outputs": [],
   "source": [
    "def recipe_to_string(recipe):\n",
    "    noize_string = 'ADVERTISEMENT'\n",
    "    \n",
    "    title = recipe['title']\n",
    "    ingredients = recipe['ingredients']\n",
    "    instructions = recipe['instructions'].split('\\n')\n",
    "    \n",
    "    ingredients_string = ''\n",
    "    for ingredient in ingredients:\n",
    "        ingredient = ingredient.replace(noize_string, '')\n",
    "        if ingredient:\n",
    "            ingredients_string += f'\\n• {ingredient}'\n",
    "    \n",
    "    instructions_string = ''\n",
    "    for instruction in instructions:\n",
    "        instruction = instruction.replace(noize_string, '')\n",
    "        if instruction:\n",
    "            instructions_string += f'\\n▪︎ {instruction}'\n",
    "    \n",
    "    return f'[TITLE] \\n{title} \\n\\n[INGREDIENTS] {ingredients_string} \\n\\n[INSTRUCTIONS] {instructions_string}\\n\\n{STOP_SIGN}'"
   ]
  },
  {
   "cell_type": "code",
   "execution_count": 11,
   "metadata": {},
   "outputs": [
    {
     "name": "stdout",
     "output_type": "stream",
     "text": [
      "Dataset size BEFORE filtering 125164\n",
      "Dataset size AFTER filtering 122938\n",
      "Number of invalide recipes 2226\n"
     ]
    }
   ],
   "source": [
    "dataset_filtered = [recipe for recipe in dataset_raw if recipe_validate(recipe)]\n",
    "\n",
    "print('Dataset size BEFORE filtering', len(dataset_raw))\n",
    "print('Dataset size AFTER filtering', len(dataset_filtered))\n",
    "print('Number of invalide recipes', len(dataset_raw) - len(dataset_filtered))"
   ]
  },
  {
   "cell_type": "code",
   "execution_count": 12,
   "metadata": {},
   "outputs": [
    {
     "name": "stdout",
     "output_type": "stream",
     "text": [
      "TOTAL_RECIPES_NUM:  122938\n"
     ]
    }
   ],
   "source": [
    "TOTAL_RECIPES_NUM = len(dataset_filtered)\n",
    "\n",
    "print('TOTAL_RECIPES_NUM: ', TOTAL_RECIPES_NUM)"
   ]
  },
  {
   "cell_type": "code",
   "execution_count": 13,
   "metadata": {},
   "outputs": [
    {
     "name": "stdout",
     "output_type": "stream",
     "text": [
      "Stringified dataset size:  122938\n"
     ]
    }
   ],
   "source": [
    "dataset_stringified = [recipe_to_string(recipe) for recipe in dataset_filtered]\n",
    "\n",
    "print('Stringified dataset size: ', len(dataset_stringified))"
   ]
  },
  {
   "cell_type": "code",
   "execution_count": 14,
   "metadata": {},
   "outputs": [
    {
     "name": "stdout",
     "output_type": "stream",
     "text": [
      "[TITLE] \n",
      "Slow Cooker Chicken and Dumplings \n",
      "\n",
      "[INGREDIENTS] \n",
      "• 4 skinless, boneless chicken breast halves \n",
      "• 2 tablespoons butter \n",
      "• 2 (10.75 ounce) cans condensed cream of chicken soup \n",
      "• 1 onion, finely diced \n",
      "• 2 (10 ounce) packages refrigerated biscuit dough, torn into pieces  \n",
      "\n",
      "[INSTRUCTIONS] \n",
      "▪︎ Place the chicken, butter, soup, and onion in a slow cooker, and fill with enough water to cover.\n",
      "▪︎ Cover, and cook for 5 to 6 hours on High. About 30 minutes before serving, place the torn biscuit dough in the slow cooker. Cook until the dough is no longer raw in the center.\n",
      "\n",
      "★\n",
      "[TITLE] \n",
      "Awesome Slow Cooker Pot Roast \n",
      "\n",
      "[INGREDIENTS] \n",
      "• 2 (10.75 ounce) cans condensed cream of mushroom soup \n",
      "• 1 (1 ounce) package dry onion soup mix \n",
      "• 1 1/4 cups water \n",
      "• 5 1/2 pounds pot roast  \n",
      "\n",
      "[INSTRUCTIONS] \n",
      "▪︎ In a slow cooker, mix cream of mushroom soup, dry onion soup mix and water. Place pot roast in slow cooker and coat with soup mixture.\n",
      "▪︎ Cook on High setting for 3 to 4 hours, or on Low setting for 8 to 9 hours.\n",
      "\n",
      "★\n",
      "[TITLE] \n",
      "Brown Sugar Meatloaf \n",
      "\n",
      "[INGREDIENTS] \n",
      "• 1/2 cup packed brown sugar \n",
      "• 1/2 cup ketchup \n",
      "• 1 1/2 pounds lean ground beef \n",
      "• 3/4 cup milk \n",
      "• 2 eggs \n",
      "• 1 1/2 teaspoons salt \n",
      "• 1/4 teaspoon ground black pepper \n",
      "• 1 small onion, chopped \n",
      "• 1/4 teaspoon ground ginger \n",
      "• 3/4 cup finely crushed saltine cracker crumbs  \n",
      "\n",
      "[INSTRUCTIONS] \n",
      "▪︎ Preheat oven to 350 degrees F (175 degrees C). Lightly grease a 5x9 inch loaf pan.\n",
      "▪︎ Press the brown sugar in the bottom of the prepared loaf pan and spread the ketchup over the sugar.\n",
      "▪︎ In a mixing bowl, mix thoroughly all remaining ingredients and shape into a loaf. Place on top of the ketchup.\n",
      "▪︎ Bake in preheated oven for 1 hour or until juices are clear.\n",
      "\n",
      "★\n",
      "[TITLE] \n",
      "Best Chocolate Chip Cookies \n",
      "\n",
      "[INGREDIENTS] \n",
      "• 1 cup butter, softened \n",
      "• 1 cup white sugar \n",
      "• 1 cup packed brown sugar \n",
      "• 2 eggs \n",
      "• 2 teaspoons vanilla extract \n",
      "• 3 cups all-purpose flour \n",
      "• 1 teaspoon baking soda \n",
      "• 2 teaspoons hot water \n",
      "• 1/2 teaspoon salt \n",
      "• 2 cups semisweet chocolate chips \n",
      "• 1 cup chopped walnuts  \n",
      "\n",
      "[INSTRUCTIONS] \n",
      "▪︎ Preheat oven to 350 degrees F (175 degrees C).\n",
      "▪︎ Cream together the butter, white sugar, and brown sugar until smooth. Beat in the eggs one at a time, then stir in the vanilla. Dissolve baking soda in hot water. Add to batter along with salt. Stir in flour, chocolate chips, and nuts. Drop by large spoonfuls onto ungreased pans.\n",
      "▪︎ Bake for about 10 minutes in the preheated oven, or until edges are nicely browned.\n",
      "\n",
      "★\n",
      "[TITLE] \n",
      "Homemade Mac and Cheese Casserole \n",
      "\n",
      "[INGREDIENTS] \n",
      "• 8 ounces whole wheat rotini pasta \n",
      "• 3 cups fresh broccoli florets \n",
      "• 1 medium onion, chopped \n",
      "• 3 cloves garlic, minced \n",
      "• 4 tablespoons butter, divided \n",
      "• 2 tablespoons all-purpose flour \n",
      "• 1/4 teaspoon salt \n",
      "• 1/8 teaspoon ground black pepper \n",
      "• 2 1/2 cups milk \n",
      "• 8 ounces Cheddar cheese, shredded \n",
      "• 4 ounces reduced-fat cream cheese, cubed and softened \n",
      "• 1/2 cup fine dry Italian-seasoned bread crumbs \n",
      "• Reynolds Wrap® Non Stick Aluminum Foil  \n",
      "\n",
      "[INSTRUCTIONS] \n",
      "▪︎ Preheat oven to 350 degrees F. Line a 2-quart casserole dish with Reynolds Wrap(R) Pan Lining Paper, parchment side up. No need to grease dish.\n",
      "▪︎ Cook the pasta in a large saucepan according to the package directions, adding the broccoli for the last 3 minutes of cooking. Drain. Return to the saucepan and set aside.\n",
      "▪︎ Cook the onion and garlic in 2 tablespoons hot butter in a large skillet 5 to 7 minutes or until tender. Stir in flour, salt, and black pepper. Add the milk all at once. Cook and stir over medium heat until slightly thickened and bubbly. Add cheddar cheese and cream cheese, stirring until melted. Pour cheese sauce over the pasta and broccoli and stir until well combined.\n",
      "▪︎ Melt the remaining 2 tablespoons butter and mix with the bread crumbs in a small bowl. Transfer the pasta mixture to the prepared casserole dish. Top with the buttery bread crumbs.\n",
      "▪︎ Bake, uncovered, about 25 minutes or until bubbly and internal temperature is 165 degrees F. Let stand for 10 minutes before serving.\n",
      "\n",
      "★\n"
     ]
    }
   ],
   "source": [
    "for recipe_string in dataset_stringified[:5]:\n",
    "    print(recipe_string)"
   ]
  },
  {
   "cell_type": "markdown",
   "metadata": {},
   "source": [
    "## Creating vocabulary"
   ]
  },
  {
   "cell_type": "code",
   "execution_count": 15,
   "metadata": {},
   "outputs": [],
   "source": [
    "tokenizer = tf.keras.preprocessing.text.Tokenizer(\n",
    "    char_level=True,\n",
    "    filters='',\n",
    "    lower=False,\n",
    "    split=''\n",
    ")"
   ]
  },
  {
   "cell_type": "code",
   "execution_count": 16,
   "metadata": {},
   "outputs": [],
   "source": [
    "tokenizer.fit_on_texts(dataset_stringified)"
   ]
  },
  {
   "cell_type": "code",
   "execution_count": 80,
   "metadata": {},
   "outputs": [
    {
     "name": "stdout",
     "output_type": "stream",
     "text": [
      "VOCABULARY_SIZE:  206\n"
     ]
    }
   ],
   "source": [
    "VOCABULARY_SIZE = len(tokenizer.word_counts)\n",
    "\n",
    "print('VOCABULARY_SIZE: ', VOCABULARY_SIZE)"
   ]
  },
  {
   "cell_type": "code",
   "execution_count": 18,
   "metadata": {},
   "outputs": [
    {
     "data": {
      "text/plain": [
       "{'num_words': None,\n",
       " 'filters': '',\n",
       " 'lower': False,\n",
       " 'split': '',\n",
       " 'char_level': True,\n",
       " 'oov_token': None,\n",
       " 'document_count': 122938,\n",
       " 'word_counts': '{\"[\": 368900, \"T\": 799961, \"I\": 741986, \"L\": 202020, \"E\": 397809, \"]\": 368901, \" \": 29686774, \"\\\\n\": 2631922, \"S\": 777322, \"l\": 6434277, \"o\": 10024677, \"w\": 1661930, \"C\": 459399, \"k\": 1504355, \"e\": 15389300, \"r\": 7995581, \"h\": 5016336, \"i\": 8312379, \"c\": 4647540, \"n\": 8887313, \"a\": 10173459, \"d\": 5163618, \"D\": 231069, \"u\": 4554913, \"m\": 3063209, \"p\": 4284716, \"g\": 2860143, \"s\": 7830993, \"N\": 511209, \"G\": 200186, \"R\": 419077, \"\\\\u2022\": 1277532, \"4\": 366806, \",\": 1885193, \"b\": 2334499, \"t\": 10381678, \"v\": 1255482, \"2\": 768729, \"(\": 236414, \"1\": 1292716, \"0\": 240409, \".\": 1809973, \"7\": 46087, \"5\": 245798, \")\": 236417, \"f\": 1882850, \"y\": 1183382, \"U\": 155543, \"O\": 169659, \"\\\\u25aa\": 494195, \"\\\\ufe0e\": 494195, \"P\": 309978, \"6\": 83546, \"H\": 68917, \"A\": 233117, \"3\": 348688, \"\\\\u2605\": 122938, \"x\": 322179, \"/\": 530492, \"8\": 89871, \"9\": 26674, \"B\": 188412, \"M\": 120026, \"F\": 175525, \"j\": 170144, \"-\": 384333, \"W\": 104588, \"\\\\u00ae\": 10514, \"q\": 122716, \";\": 124853, \"J\": 14215, \"\\'\": 43651, \":\": 70760, \"z\": 189820, \"Z\": 3368, \"K\": 29428, \"X\": 703, \"\\\\\"\": 15036, \"Y\": 11530, \"\\\\u2122\": 545, \"Q\": 5593, \"!\": 4630, \"V\": 17322, \"&\": 1343, \"+\": 108, \"=\": 215, \"%\": 1442, \"*\": 8075, \"\\\\u00a9\": 108, \"\\\\u00e9\": 17761, \"<\": 178, \">\": 207, \"\\\\u00bd\": 264, \"#\": 383, \"\\\\u00f1\": 1989, \"?\": 577, \"\\\\u2019\": 770, \"\\\\u00b0\": 27404, \"\\\\u201d\": 79, \"$\": 239, \"@\": 11, \"{\": 61, \"}\": 62, \"\\\\u2013\": 5525, \"\\\\u00e8\": 2293, \"\\\\u0096\": 10, \"\\\\u00e0\": 95, \"\\\\u00e2\": 300, \"\\\\u00bc\": 143, \"\\\\u00e1\": 186, \"\\\\u00fb\": 161, \"\\\\u2014\": 1595, \"\\\\u2044\": 40, \"\\\\u00ef\": 125, \"\\\\u25ca\": 10, \"\\\\u00ee\": 1270, \"\\\\u00e7\": 249, \"_\": 99, \"\\\\u00ba\": 145, \"\\\\u00fa\": 89, \"\\\\u201a\": 66, \"\\\\u201c\": 47, \"\\\\u00ed\": 194, \"\\\\u200b\": 10, \"\\\\u00f4\": 55, \"\\\\u00f3\": 232, \"\\\\u00ff\": 2, \"\\\\u00e4\": 34, \"\\\\u00f6\": 97, \"\\\\u00ea\": 664, \"\\\\u2011\": 10, \"`\": 12, \"\\\\u00a7\": 20, \"\\\\u202e\": 7, \"\\\\u0092\": 11, \"\\\\ufffd\": 66, \"\\\\u02da\": 40, \"\\\\u00f9\": 127, \"\\\\u00d7\": 46, \"\\\\u00eb\": 18, \"\\\\u2153\": 8, \"\\\\ufb01\": 6, \"\\\\ufb02\": 7, \"\\\\u00dc\": 4, \"\\\\u00ec\": 9, \"\\\\u0081\": 16, \"\\\\u00ad\": 50, \"\\\\u00fc\": 52, \"\\\\u2031\": 7, \"\\\\u00bb\": 16, \"\\\\u2010\": 14, \"\\\\u00a0\": 3, \"\\\\u00be\": 40, \"\\\\u0301\": 21, \"\\\\u00df\": 2, \"\\\\u00c1\": 2, \"\\\\u0097\": 17, \"\\\\u215b\": 3, \"\\\\u2026\": 5, \"\\\\u00e3\": 7, \"\\\\u2027\": 4, \"\\\\u001a\": 2, \"\\\\u202a\": 2, \"\\\\u00f8\": 4, \"\\\\u0019\": 2, \"\\\\u00f5\": 5, \"\\\\u02c6\": 2, \"\\\\\\\\\": 10, \"\\\\u00bf\": 502, \"\\\\u00d1\": 2, \"|\": 12, \"\\\\u00e5\": 3, \"\\\\u00a4\": 3, \"\\\\u201f\": 4, \"\\\\u00a1\": 4, \"\\\\u01a1\": 2, \"\\\\u0309\": 1, \"\\\\u0300\": 2, \"\\\\u00b7\": 32, \"\\\\u00b9\": 2, \"\\\\u00b3\": 2, \"\\\\u2009\": 1, \"\\\\u0010\": 4, \"\\\\u00ac\": 8, \"\\\\u2033\": 7, \"\\\\u00c9\": 41, \"\\\\u01b0\": 2, \"\\\\u0103\": 1, \"\\\\u2154\": 2, \"\\\\u00b4\": 8, \"\\\\u00c0\": 1, \"\\\\u017a\": 1, \"\\\\u215e\": 1, \"~\": 6, \"\\\\u00b1\": 2, \"\\\\u1ff0\": 2, \"\\\\u2212\": 4, \"\\\\u2015\": 2, \"\\\\u00f2\": 1, \"\\\\u0095\": 4, \"\\\\u202d\": 4, \"\\\\u2012\": 5, \"\\\\u00db\": 2, \"\\\\u00da\": 14, \"\\\\u20ac\": 1, \"\\\\u00c2\": 2}',\n",
       " 'word_docs': '{\"4\": 104713, \"b\": 122428, \"(\": 87968, \"c\": 122916, \"A\": 81335, \"0\": 81938, \"3\": 101246, \"o\": 122931, \"p\": 122772, \")\": 87951, \"w\": 121953, \".\": 122889, \"\\\\u2605\": 122938, \"]\": 122938, \"U\": 122938, \"u\": 122887, \"g\": 122701, \"R\": 122938, \"O\": 122938, \"L\": 122938, \"[\": 122938, \"i\": 122933, \"f\": 121057, \"e\": 122938, \"\\\\ufe0e\": 122938, \"T\": 122938, \"G\": 122938, \"6\": 49415, \"C\": 122938, \"d\": 122920, \"D\": 122938, \"5\": 86061, \"N\": 122938, \"S\": 122938, \"r\": 122933, \"2\": 119444, \"t\": 122928, \"E\": 122938, \"\\\\u25aa\": 122938, \"1\": 122040, \"m\": 122714, \"I\": 122938, \"y\": 119108, \" \": 122938, \"n\": 122924, \",\": 121250, \"h\": 122887, \"\\\\u2022\": 122938, \"k\": 120040, \"a\": 122931, \"l\": 122932, \"7\": 32402, \"\\\\n\": 122938, \"P\": 100780, \"v\": 120573, \"H\": 43322, \"s\": 122930, \"x\": 92514, \"9\": 19165, \"/\": 111483, \"8\": 51434, \"B\": 82861, \"j\": 63643, \"M\": 63920, \"F\": 76978, \"-\": 96885, \"\\\\u00ae\": 5983, \"q\": 52052, \"W\": 54815, \";\": 45118, \"J\": 10852, \":\": 31743, \"\\'\": 25025, \"z\": 57905, \"Z\": 2914, \"K\": 21474, \"X\": 500, \"\\\\\"\": 5086, \"Y\": 8554, \"\\\\u2122\": 451, \"Q\": 4172, \"!\": 3372, \"V\": 13342, \"&\": 937, \"=\": 81, \"+\": 48, \"%\": 999, \"*\": 3392, \"\\\\u00a9\": 97, \"\\\\u00e9\": 5547, \"<\": 68, \">\": 87, \"\\\\u00bd\": 119, \"#\": 250, \"\\\\u00f1\": 855, \"?\": 338, \"\\\\u2019\": 263, \"\\\\u00b0\": 10122, \"\\\\u201d\": 27, \"$\": 124, \"@\": 8, \"}\": 18, \"{\": 17, \"\\\\u2013\": 1561, \"\\\\u00e8\": 796, \"\\\\u0096\": 10, \"\\\\u00e0\": 55, \"\\\\u00e2\": 111, \"\\\\u00bc\": 79, \"\\\\u00e1\": 106, \"\\\\u00fb\": 97, \"\\\\u2014\": 511, \"\\\\u2044\": 23, \"\\\\u00ef\": 51, \"\\\\u25ca\": 5, \"\\\\u00ee\": 355, \"_\": 26, \"\\\\u00e7\": 184, \"\\\\u00ba\": 57, \"\\\\u00fa\": 44, \"\\\\u201a\": 31, \"\\\\u201c\": 17, \"\\\\u00ed\": 77, \"\\\\u200b\": 3, \"\\\\u00f4\": 25, \"\\\\u00f3\": 108, \"\\\\u00ff\": 1, \"\\\\u00e4\": 14, \"\\\\u00f6\": 18, \"\\\\u00ea\": 48, \"\\\\u2011\": 4, \"`\": 7, \"\\\\u00a7\": 9, \"\\\\u202e\": 2, \"\\\\u0092\": 9, \"\\\\ufffd\": 15, \"\\\\u02da\": 17, \"\\\\u00f9\": 39, \"\\\\u00d7\": 21, \"\\\\u00eb\": 12, \"\\\\u2153\": 4, \"\\\\ufb01\": 2, \"\\\\ufb02\": 3, \"\\\\u00dc\": 2, \"\\\\u00ec\": 5, \"\\\\u0081\": 6, \"\\\\u00ad\": 16, \"\\\\u00fc\": 33, \"\\\\u2031\": 4, \"\\\\u00bb\": 3, \"\\\\u2010\": 4, \"\\\\u00a0\": 2, \"\\\\u00be\": 25, \"\\\\u0301\": 11, \"\\\\u00df\": 1, \"\\\\u00c1\": 2, \"\\\\u0097\": 4, \"\\\\u215b\": 2, \"\\\\u2026\": 2, \"\\\\u00e3\": 3, \"\\\\u2027\": 3, \"\\\\u001a\": 1, \"\\\\u202a\": 1, \"\\\\u00f8\": 2, \"\\\\u0019\": 1, \"\\\\u00f5\": 3, \"\\\\u02c6\": 1, \"\\\\\\\\\": 8, \"\\\\u00bf\": 340, \"\\\\u00d1\": 1, \"|\": 7, \"\\\\u00e5\": 1, \"\\\\u00a4\": 2, \"\\\\u201f\": 3, \"\\\\u00a1\": 2, \"\\\\u0309\": 1, \"\\\\u0300\": 2, \"\\\\u01a1\": 2, \"\\\\u00b7\": 3, \"\\\\u00b3\": 1, \"\\\\u00b9\": 1, \"\\\\u2009\": 1, \"\\\\u0010\": 1, \"\\\\u00ac\": 2, \"\\\\u2033\": 1, \"\\\\u00c9\": 16, \"\\\\u0103\": 1, \"\\\\u01b0\": 1, \"\\\\u2154\": 1, \"\\\\u00b4\": 3, \"\\\\u00c0\": 1, \"\\\\u017a\": 1, \"\\\\u215e\": 1, \"~\": 3, \"\\\\u00b1\": 1, \"\\\\u1ff0\": 1, \"\\\\u2212\": 2, \"\\\\u2015\": 1, \"\\\\u00f2\": 1, \"\\\\u0095\": 3, \"\\\\u202d\": 1, \"\\\\u2012\": 2, \"\\\\u00db\": 1, \"\\\\u00da\": 5, \"\\\\u20ac\": 1, \"\\\\u00c2\": 1}',\n",
       " 'index_docs': '{\"43\": 104713, \"19\": 122428, \"50\": 87968, \"13\": 122916, \"51\": 81335, \"48\": 81938, \"44\": 101246, \"5\": 122931, \"15\": 122772, \"49\": 87951, \"23\": 121953, \"22\": 122889, \"62\": 122938, \"41\": 122938, \"60\": 122938, \"14\": 122887, \"17\": 122701, \"38\": 122938, \"59\": 122938, \"53\": 122938, \"42\": 122938, \"7\": 122933, \"21\": 121057, \"2\": 122938, \"36\": 122938, \"29\": 122938, \"54\": 122938, \"67\": 49415, \"37\": 122938, \"11\": 122920, \"52\": 122938, \"47\": 86061, \"34\": 122938, \"30\": 122938, \"8\": 122933, \"31\": 119444, \"3\": 122928, \"39\": 122938, \"35\": 122938, \"25\": 122040, \"16\": 122714, \"32\": 122938, \"28\": 119108, \"1\": 122938, \"6\": 122924, \"20\": 121250, \"12\": 122887, \"26\": 122938, \"24\": 120040, \"4\": 122931, \"10\": 122932, \"70\": 32402, \"18\": 122938, \"46\": 100780, \"27\": 120573, \"69\": 43322, \"9\": 122930, \"45\": 92514, \"74\": 19165, \"33\": 111483, \"66\": 51434, \"56\": 82861, \"58\": 63643, \"64\": 63920, \"57\": 76978, \"40\": 96885, \"80\": 5983, \"63\": 52052, \"65\": 54815, \"61\": 45118, \"78\": 10852, \"68\": 31743, \"71\": 25025, \"55\": 57905, \"85\": 2914, \"72\": 21474, \"93\": 500, \"77\": 5086, \"79\": 8554, \"96\": 451, \"82\": 4172, \"84\": 3372, \"76\": 13342, \"90\": 937, \"104\": 81, \"114\": 48, \"89\": 999, \"81\": 3392, \"115\": 97, \"75\": 5547, \"108\": 68, \"105\": 87, \"100\": 119, \"98\": 250, \"87\": 855, \"95\": 338, \"92\": 263, \"73\": 10122, \"120\": 27, \"102\": 124, \"146\": 8, \"123\": 18, \"124\": 17, \"83\": 1561, \"86\": 796, \"148\": 10, \"118\": 55, \"99\": 111, \"111\": 79, \"107\": 106, \"109\": 97, \"88\": 511, \"131\": 23, \"113\": 51, \"149\": 5, \"91\": 355, \"116\": 26, \"101\": 184, \"110\": 57, \"119\": 44, \"121\": 31, \"128\": 17, \"106\": 77, \"150\": 3, \"125\": 25, \"103\": 108, \"180\": 1, \"134\": 14, \"117\": 18, \"94\": 48, \"151\": 4, \"144\": 7, \"137\": 9, \"157\": 2, \"147\": 9, \"122\": 15, \"132\": 17, \"112\": 39, \"129\": 21, \"138\": 12, \"154\": 4, \"162\": 2, \"158\": 3, \"167\": 2, \"153\": 5, \"140\": 6, \"127\": 16, \"126\": 33, \"159\": 4, \"141\": 3, \"142\": 4, \"176\": 2, \"133\": 25, \"136\": 11, \"181\": 1, \"182\": 2, \"139\": 4, \"177\": 2, \"164\": 2, \"160\": 3, \"168\": 3, \"183\": 1, \"184\": 1, \"169\": 2, \"185\": 1, \"165\": 3, \"186\": 1, \"152\": 8, \"97\": 340, \"187\": 1, \"145\": 7, \"178\": 1, \"179\": 2, \"170\": 3, \"171\": 2, \"199\": 1, \"189\": 2, \"188\": 2, \"135\": 3, \"191\": 1, \"190\": 1, \"200\": 1, \"172\": 1, \"155\": 2, \"161\": 1, \"130\": 16, \"201\": 1, \"192\": 1, \"193\": 1, \"156\": 3, \"202\": 1, \"203\": 1, \"204\": 1, \"163\": 3, \"194\": 1, \"195\": 1, \"173\": 2, \"196\": 1, \"205\": 1, \"174\": 3, \"175\": 1, \"166\": 2, \"197\": 1, \"143\": 5, \"206\": 1, \"198\": 1}',\n",
       " 'index_word': '{\"1\": \" \", \"2\": \"e\", \"3\": \"t\", \"4\": \"a\", \"5\": \"o\", \"6\": \"n\", \"7\": \"i\", \"8\": \"r\", \"9\": \"s\", \"10\": \"l\", \"11\": \"d\", \"12\": \"h\", \"13\": \"c\", \"14\": \"u\", \"15\": \"p\", \"16\": \"m\", \"17\": \"g\", \"18\": \"\\\\n\", \"19\": \"b\", \"20\": \",\", \"21\": \"f\", \"22\": \".\", \"23\": \"w\", \"24\": \"k\", \"25\": \"1\", \"26\": \"\\\\u2022\", \"27\": \"v\", \"28\": \"y\", \"29\": \"T\", \"30\": \"S\", \"31\": \"2\", \"32\": \"I\", \"33\": \"/\", \"34\": \"N\", \"35\": \"\\\\u25aa\", \"36\": \"\\\\ufe0e\", \"37\": \"C\", \"38\": \"R\", \"39\": \"E\", \"40\": \"-\", \"41\": \"]\", \"42\": \"[\", \"43\": \"4\", \"44\": \"3\", \"45\": \"x\", \"46\": \"P\", \"47\": \"5\", \"48\": \"0\", \"49\": \")\", \"50\": \"(\", \"51\": \"A\", \"52\": \"D\", \"53\": \"L\", \"54\": \"G\", \"55\": \"z\", \"56\": \"B\", \"57\": \"F\", \"58\": \"j\", \"59\": \"O\", \"60\": \"U\", \"61\": \";\", \"62\": \"\\\\u2605\", \"63\": \"q\", \"64\": \"M\", \"65\": \"W\", \"66\": \"8\", \"67\": \"6\", \"68\": \":\", \"69\": \"H\", \"70\": \"7\", \"71\": \"\\'\", \"72\": \"K\", \"73\": \"\\\\u00b0\", \"74\": \"9\", \"75\": \"\\\\u00e9\", \"76\": \"V\", \"77\": \"\\\\\"\", \"78\": \"J\", \"79\": \"Y\", \"80\": \"\\\\u00ae\", \"81\": \"*\", \"82\": \"Q\", \"83\": \"\\\\u2013\", \"84\": \"!\", \"85\": \"Z\", \"86\": \"\\\\u00e8\", \"87\": \"\\\\u00f1\", \"88\": \"\\\\u2014\", \"89\": \"%\", \"90\": \"&\", \"91\": \"\\\\u00ee\", \"92\": \"\\\\u2019\", \"93\": \"X\", \"94\": \"\\\\u00ea\", \"95\": \"?\", \"96\": \"\\\\u2122\", \"97\": \"\\\\u00bf\", \"98\": \"#\", \"99\": \"\\\\u00e2\", \"100\": \"\\\\u00bd\", \"101\": \"\\\\u00e7\", \"102\": \"$\", \"103\": \"\\\\u00f3\", \"104\": \"=\", \"105\": \">\", \"106\": \"\\\\u00ed\", \"107\": \"\\\\u00e1\", \"108\": \"<\", \"109\": \"\\\\u00fb\", \"110\": \"\\\\u00ba\", \"111\": \"\\\\u00bc\", \"112\": \"\\\\u00f9\", \"113\": \"\\\\u00ef\", \"114\": \"+\", \"115\": \"\\\\u00a9\", \"116\": \"_\", \"117\": \"\\\\u00f6\", \"118\": \"\\\\u00e0\", \"119\": \"\\\\u00fa\", \"120\": \"\\\\u201d\", \"121\": \"\\\\u201a\", \"122\": \"\\\\ufffd\", \"123\": \"}\", \"124\": \"{\", \"125\": \"\\\\u00f4\", \"126\": \"\\\\u00fc\", \"127\": \"\\\\u00ad\", \"128\": \"\\\\u201c\", \"129\": \"\\\\u00d7\", \"130\": \"\\\\u00c9\", \"131\": \"\\\\u2044\", \"132\": \"\\\\u02da\", \"133\": \"\\\\u00be\", \"134\": \"\\\\u00e4\", \"135\": \"\\\\u00b7\", \"136\": \"\\\\u0301\", \"137\": \"\\\\u00a7\", \"138\": \"\\\\u00eb\", \"139\": \"\\\\u0097\", \"140\": \"\\\\u0081\", \"141\": \"\\\\u00bb\", \"142\": \"\\\\u2010\", \"143\": \"\\\\u00da\", \"144\": \"`\", \"145\": \"|\", \"146\": \"@\", \"147\": \"\\\\u0092\", \"148\": \"\\\\u0096\", \"149\": \"\\\\u25ca\", \"150\": \"\\\\u200b\", \"151\": \"\\\\u2011\", \"152\": \"\\\\\\\\\", \"153\": \"\\\\u00ec\", \"154\": \"\\\\u2153\", \"155\": \"\\\\u00ac\", \"156\": \"\\\\u00b4\", \"157\": \"\\\\u202e\", \"158\": \"\\\\ufb02\", \"159\": \"\\\\u2031\", \"160\": \"\\\\u00e3\", \"161\": \"\\\\u2033\", \"162\": \"\\\\ufb01\", \"163\": \"~\", \"164\": \"\\\\u2026\", \"165\": \"\\\\u00f5\", \"166\": \"\\\\u2012\", \"167\": \"\\\\u00dc\", \"168\": \"\\\\u2027\", \"169\": \"\\\\u00f8\", \"170\": \"\\\\u201f\", \"171\": \"\\\\u00a1\", \"172\": \"\\\\u0010\", \"173\": \"\\\\u2212\", \"174\": \"\\\\u0095\", \"175\": \"\\\\u202d\", \"176\": \"\\\\u00a0\", \"177\": \"\\\\u215b\", \"178\": \"\\\\u00e5\", \"179\": \"\\\\u00a4\", \"180\": \"\\\\u00ff\", \"181\": \"\\\\u00df\", \"182\": \"\\\\u00c1\", \"183\": \"\\\\u001a\", \"184\": \"\\\\u202a\", \"185\": \"\\\\u0019\", \"186\": \"\\\\u02c6\", \"187\": \"\\\\u00d1\", \"188\": \"\\\\u01a1\", \"189\": \"\\\\u0300\", \"190\": \"\\\\u00b9\", \"191\": \"\\\\u00b3\", \"192\": \"\\\\u01b0\", \"193\": \"\\\\u2154\", \"194\": \"\\\\u00b1\", \"195\": \"\\\\u1ff0\", \"196\": \"\\\\u2015\", \"197\": \"\\\\u00db\", \"198\": \"\\\\u00c2\", \"199\": \"\\\\u0309\", \"200\": \"\\\\u2009\", \"201\": \"\\\\u0103\", \"202\": \"\\\\u00c0\", \"203\": \"\\\\u017a\", \"204\": \"\\\\u215e\", \"205\": \"\\\\u00f2\", \"206\": \"\\\\u20ac\"}',\n",
       " 'word_index': '{\" \": 1, \"e\": 2, \"t\": 3, \"a\": 4, \"o\": 5, \"n\": 6, \"i\": 7, \"r\": 8, \"s\": 9, \"l\": 10, \"d\": 11, \"h\": 12, \"c\": 13, \"u\": 14, \"p\": 15, \"m\": 16, \"g\": 17, \"\\\\n\": 18, \"b\": 19, \",\": 20, \"f\": 21, \".\": 22, \"w\": 23, \"k\": 24, \"1\": 25, \"\\\\u2022\": 26, \"v\": 27, \"y\": 28, \"T\": 29, \"S\": 30, \"2\": 31, \"I\": 32, \"/\": 33, \"N\": 34, \"\\\\u25aa\": 35, \"\\\\ufe0e\": 36, \"C\": 37, \"R\": 38, \"E\": 39, \"-\": 40, \"]\": 41, \"[\": 42, \"4\": 43, \"3\": 44, \"x\": 45, \"P\": 46, \"5\": 47, \"0\": 48, \")\": 49, \"(\": 50, \"A\": 51, \"D\": 52, \"L\": 53, \"G\": 54, \"z\": 55, \"B\": 56, \"F\": 57, \"j\": 58, \"O\": 59, \"U\": 60, \";\": 61, \"\\\\u2605\": 62, \"q\": 63, \"M\": 64, \"W\": 65, \"8\": 66, \"6\": 67, \":\": 68, \"H\": 69, \"7\": 70, \"\\'\": 71, \"K\": 72, \"\\\\u00b0\": 73, \"9\": 74, \"\\\\u00e9\": 75, \"V\": 76, \"\\\\\"\": 77, \"J\": 78, \"Y\": 79, \"\\\\u00ae\": 80, \"*\": 81, \"Q\": 82, \"\\\\u2013\": 83, \"!\": 84, \"Z\": 85, \"\\\\u00e8\": 86, \"\\\\u00f1\": 87, \"\\\\u2014\": 88, \"%\": 89, \"&\": 90, \"\\\\u00ee\": 91, \"\\\\u2019\": 92, \"X\": 93, \"\\\\u00ea\": 94, \"?\": 95, \"\\\\u2122\": 96, \"\\\\u00bf\": 97, \"#\": 98, \"\\\\u00e2\": 99, \"\\\\u00bd\": 100, \"\\\\u00e7\": 101, \"$\": 102, \"\\\\u00f3\": 103, \"=\": 104, \">\": 105, \"\\\\u00ed\": 106, \"\\\\u00e1\": 107, \"<\": 108, \"\\\\u00fb\": 109, \"\\\\u00ba\": 110, \"\\\\u00bc\": 111, \"\\\\u00f9\": 112, \"\\\\u00ef\": 113, \"+\": 114, \"\\\\u00a9\": 115, \"_\": 116, \"\\\\u00f6\": 117, \"\\\\u00e0\": 118, \"\\\\u00fa\": 119, \"\\\\u201d\": 120, \"\\\\u201a\": 121, \"\\\\ufffd\": 122, \"}\": 123, \"{\": 124, \"\\\\u00f4\": 125, \"\\\\u00fc\": 126, \"\\\\u00ad\": 127, \"\\\\u201c\": 128, \"\\\\u00d7\": 129, \"\\\\u00c9\": 130, \"\\\\u2044\": 131, \"\\\\u02da\": 132, \"\\\\u00be\": 133, \"\\\\u00e4\": 134, \"\\\\u00b7\": 135, \"\\\\u0301\": 136, \"\\\\u00a7\": 137, \"\\\\u00eb\": 138, \"\\\\u0097\": 139, \"\\\\u0081\": 140, \"\\\\u00bb\": 141, \"\\\\u2010\": 142, \"\\\\u00da\": 143, \"`\": 144, \"|\": 145, \"@\": 146, \"\\\\u0092\": 147, \"\\\\u0096\": 148, \"\\\\u25ca\": 149, \"\\\\u200b\": 150, \"\\\\u2011\": 151, \"\\\\\\\\\": 152, \"\\\\u00ec\": 153, \"\\\\u2153\": 154, \"\\\\u00ac\": 155, \"\\\\u00b4\": 156, \"\\\\u202e\": 157, \"\\\\ufb02\": 158, \"\\\\u2031\": 159, \"\\\\u00e3\": 160, \"\\\\u2033\": 161, \"\\\\ufb01\": 162, \"~\": 163, \"\\\\u2026\": 164, \"\\\\u00f5\": 165, \"\\\\u2012\": 166, \"\\\\u00dc\": 167, \"\\\\u2027\": 168, \"\\\\u00f8\": 169, \"\\\\u201f\": 170, \"\\\\u00a1\": 171, \"\\\\u0010\": 172, \"\\\\u2212\": 173, \"\\\\u0095\": 174, \"\\\\u202d\": 175, \"\\\\u00a0\": 176, \"\\\\u215b\": 177, \"\\\\u00e5\": 178, \"\\\\u00a4\": 179, \"\\\\u00ff\": 180, \"\\\\u00df\": 181, \"\\\\u00c1\": 182, \"\\\\u001a\": 183, \"\\\\u202a\": 184, \"\\\\u0019\": 185, \"\\\\u02c6\": 186, \"\\\\u00d1\": 187, \"\\\\u01a1\": 188, \"\\\\u0300\": 189, \"\\\\u00b9\": 190, \"\\\\u00b3\": 191, \"\\\\u01b0\": 192, \"\\\\u2154\": 193, \"\\\\u00b1\": 194, \"\\\\u1ff0\": 195, \"\\\\u2015\": 196, \"\\\\u00db\": 197, \"\\\\u00c2\": 198, \"\\\\u0309\": 199, \"\\\\u2009\": 200, \"\\\\u0103\": 201, \"\\\\u00c0\": 202, \"\\\\u017a\": 203, \"\\\\u215e\": 204, \"\\\\u00f2\": 205, \"\\\\u20ac\": 206}'}"
      ]
     },
     "execution_count": 18,
     "metadata": {},
     "output_type": "execute_result"
    }
   ],
   "source": [
    "tokenizer.get_config()"
   ]
  },
  {
   "cell_type": "code",
   "execution_count": 19,
   "metadata": {},
   "outputs": [
    {
     "data": {
      "text/plain": [
       "62"
      ]
     },
     "execution_count": 19,
     "metadata": {},
     "output_type": "execute_result"
    }
   ],
   "source": [
    "tokenizer.word_index[STOP_SIGN]"
   ]
  },
  {
   "cell_type": "code",
   "execution_count": 20,
   "metadata": {},
   "outputs": [
    {
     "name": "stdout",
     "output_type": "stream",
     "text": [
      "j\n",
      "★\n"
     ]
    }
   ],
   "source": [
    "print(tokenizer.index_word[58])\n",
    "print(tokenizer.index_word[62])"
   ]
  },
  {
   "cell_type": "markdown",
   "metadata": {},
   "source": [
    "## Vectorizing the dataset"
   ]
  },
  {
   "cell_type": "code",
   "execution_count": 21,
   "metadata": {},
   "outputs": [],
   "source": [
    "def recipe_sequence_to_string(recipe_sequence):\n",
    "    recipe_stringified = tokenizer.sequences_to_texts([recipe_sequence])[0]\n",
    "    recipe_stringified = recipe_stringified.replace('   ', '_').replace(' ', '').replace('_', ' ')\n",
    "    print(recipe_stringified)"
   ]
  },
  {
   "cell_type": "code",
   "execution_count": 22,
   "metadata": {},
   "outputs": [],
   "source": [
    "dataset_vectorized = tokenizer.texts_to_sequences(dataset_stringified)"
   ]
  },
  {
   "cell_type": "code",
   "execution_count": 23,
   "metadata": {},
   "outputs": [
    {
     "name": "stdout",
     "output_type": "stream",
     "text": [
      "Vectorized dataset size 122938\n"
     ]
    }
   ],
   "source": [
    "print('Vectorized dataset size', len(dataset_vectorized))"
   ]
  },
  {
   "cell_type": "code",
   "execution_count": 24,
   "metadata": {},
   "outputs": [
    {
     "data": {
      "text/plain": [
       "[42,\n",
       " 29,\n",
       " 32,\n",
       " 29,\n",
       " 53,\n",
       " 39,\n",
       " 41,\n",
       " 1,\n",
       " 18,\n",
       " 30,\n",
       " 10,\n",
       " 5,\n",
       " 23,\n",
       " 1,\n",
       " 37,\n",
       " 5,\n",
       " 5,\n",
       " 24,\n",
       " 2,\n",
       " 8,\n",
       " 1,\n",
       " 37,\n",
       " 12,\n",
       " 7,\n",
       " 13,\n",
       " 24,\n",
       " 2,\n",
       " 6,\n",
       " 1,\n",
       " 4,\n",
       " 6,\n",
       " 11,\n",
       " 1,\n",
       " 52,\n",
       " 14,\n",
       " 16,\n",
       " 15,\n",
       " 10,\n",
       " 7,\n",
       " 6,\n",
       " 17,\n",
       " 9,\n",
       " 1,\n",
       " 18,\n",
       " 18,\n",
       " 42,\n",
       " 32,\n",
       " 34,\n",
       " 54,\n",
       " 38,\n",
       " 39,\n",
       " 52,\n",
       " 32,\n",
       " 39,\n",
       " 34,\n",
       " 29,\n",
       " 30,\n",
       " 41,\n",
       " 1,\n",
       " 18,\n",
       " 26,\n",
       " 1,\n",
       " 43,\n",
       " 1,\n",
       " 9,\n",
       " 24,\n",
       " 7,\n",
       " 6,\n",
       " 10,\n",
       " 2,\n",
       " 9,\n",
       " 9,\n",
       " 20,\n",
       " 1,\n",
       " 19,\n",
       " 5,\n",
       " 6,\n",
       " 2,\n",
       " 10,\n",
       " 2,\n",
       " 9,\n",
       " 9,\n",
       " 1,\n",
       " 13,\n",
       " 12,\n",
       " 7,\n",
       " 13,\n",
       " 24,\n",
       " 2,\n",
       " 6,\n",
       " 1,\n",
       " 19,\n",
       " 8,\n",
       " 2,\n",
       " 4,\n",
       " 9,\n",
       " 3,\n",
       " 1,\n",
       " 12,\n",
       " 4,\n",
       " 10,\n",
       " 27,\n",
       " 2,\n",
       " 9,\n",
       " 1,\n",
       " 18,\n",
       " 26,\n",
       " 1,\n",
       " 31,\n",
       " 1,\n",
       " 3,\n",
       " 4,\n",
       " 19,\n",
       " 10,\n",
       " 2,\n",
       " 9,\n",
       " 15,\n",
       " 5,\n",
       " 5,\n",
       " 6,\n",
       " 9,\n",
       " 1,\n",
       " 19,\n",
       " 14,\n",
       " 3,\n",
       " 3,\n",
       " 2,\n",
       " 8,\n",
       " 1,\n",
       " 18,\n",
       " 26,\n",
       " 1,\n",
       " 31,\n",
       " 1,\n",
       " 50,\n",
       " 25,\n",
       " 48,\n",
       " 22,\n",
       " 70,\n",
       " 47,\n",
       " 1,\n",
       " 5,\n",
       " 14,\n",
       " 6,\n",
       " 13,\n",
       " 2,\n",
       " 49,\n",
       " 1,\n",
       " 13,\n",
       " 4,\n",
       " 6,\n",
       " 9,\n",
       " 1,\n",
       " 13,\n",
       " 5,\n",
       " 6,\n",
       " 11,\n",
       " 2,\n",
       " 6,\n",
       " 9,\n",
       " 2,\n",
       " 11,\n",
       " 1,\n",
       " 13,\n",
       " 8,\n",
       " 2,\n",
       " 4,\n",
       " 16,\n",
       " 1,\n",
       " 5,\n",
       " 21,\n",
       " 1,\n",
       " 13,\n",
       " 12,\n",
       " 7,\n",
       " 13,\n",
       " 24,\n",
       " 2,\n",
       " 6,\n",
       " 1,\n",
       " 9,\n",
       " 5,\n",
       " 14,\n",
       " 15,\n",
       " 1,\n",
       " 18,\n",
       " 26,\n",
       " 1,\n",
       " 25,\n",
       " 1,\n",
       " 5,\n",
       " 6,\n",
       " 7,\n",
       " 5,\n",
       " 6,\n",
       " 20,\n",
       " 1,\n",
       " 21,\n",
       " 7,\n",
       " 6,\n",
       " 2,\n",
       " 10,\n",
       " 28,\n",
       " 1,\n",
       " 11,\n",
       " 7,\n",
       " 13,\n",
       " 2,\n",
       " 11,\n",
       " 1,\n",
       " 18,\n",
       " 26,\n",
       " 1,\n",
       " 31,\n",
       " 1,\n",
       " 50,\n",
       " 25,\n",
       " 48,\n",
       " 1,\n",
       " 5,\n",
       " 14,\n",
       " 6,\n",
       " 13,\n",
       " 2,\n",
       " 49,\n",
       " 1,\n",
       " 15,\n",
       " 4,\n",
       " 13,\n",
       " 24,\n",
       " 4,\n",
       " 17,\n",
       " 2,\n",
       " 9,\n",
       " 1,\n",
       " 8,\n",
       " 2,\n",
       " 21,\n",
       " 8,\n",
       " 7,\n",
       " 17,\n",
       " 2,\n",
       " 8,\n",
       " 4,\n",
       " 3,\n",
       " 2,\n",
       " 11,\n",
       " 1,\n",
       " 19,\n",
       " 7,\n",
       " 9,\n",
       " 13,\n",
       " 14,\n",
       " 7,\n",
       " 3,\n",
       " 1,\n",
       " 11,\n",
       " 5,\n",
       " 14,\n",
       " 17,\n",
       " 12,\n",
       " 20,\n",
       " 1,\n",
       " 3,\n",
       " 5,\n",
       " 8,\n",
       " 6,\n",
       " 1,\n",
       " 7,\n",
       " 6,\n",
       " 3,\n",
       " 5,\n",
       " 1,\n",
       " 15,\n",
       " 7,\n",
       " 2,\n",
       " 13,\n",
       " 2,\n",
       " 9,\n",
       " 1,\n",
       " 1,\n",
       " 18,\n",
       " 18,\n",
       " 42,\n",
       " 32,\n",
       " 34,\n",
       " 30,\n",
       " 29,\n",
       " 38,\n",
       " 60,\n",
       " 37,\n",
       " 29,\n",
       " 32,\n",
       " 59,\n",
       " 34,\n",
       " 30,\n",
       " 41,\n",
       " 1,\n",
       " 18,\n",
       " 35,\n",
       " 36,\n",
       " 1,\n",
       " 46,\n",
       " 10,\n",
       " 4,\n",
       " 13,\n",
       " 2,\n",
       " 1,\n",
       " 3,\n",
       " 12,\n",
       " 2,\n",
       " 1,\n",
       " 13,\n",
       " 12,\n",
       " 7,\n",
       " 13,\n",
       " 24,\n",
       " 2,\n",
       " 6,\n",
       " 20,\n",
       " 1,\n",
       " 19,\n",
       " 14,\n",
       " 3,\n",
       " 3,\n",
       " 2,\n",
       " 8,\n",
       " 20,\n",
       " 1,\n",
       " 9,\n",
       " 5,\n",
       " 14,\n",
       " 15,\n",
       " 20,\n",
       " 1,\n",
       " 4,\n",
       " 6,\n",
       " 11,\n",
       " 1,\n",
       " 5,\n",
       " 6,\n",
       " 7,\n",
       " 5,\n",
       " 6,\n",
       " 1,\n",
       " 7,\n",
       " 6,\n",
       " 1,\n",
       " 4,\n",
       " 1,\n",
       " 9,\n",
       " 10,\n",
       " 5,\n",
       " 23,\n",
       " 1,\n",
       " 13,\n",
       " 5,\n",
       " 5,\n",
       " 24,\n",
       " 2,\n",
       " 8,\n",
       " 20,\n",
       " 1,\n",
       " 4,\n",
       " 6,\n",
       " 11,\n",
       " 1,\n",
       " 21,\n",
       " 7,\n",
       " 10,\n",
       " 10,\n",
       " 1,\n",
       " 23,\n",
       " 7,\n",
       " 3,\n",
       " 12,\n",
       " 1,\n",
       " 2,\n",
       " 6,\n",
       " 5,\n",
       " 14,\n",
       " 17,\n",
       " 12,\n",
       " 1,\n",
       " 23,\n",
       " 4,\n",
       " 3,\n",
       " 2,\n",
       " 8,\n",
       " 1,\n",
       " 3,\n",
       " 5,\n",
       " 1,\n",
       " 13,\n",
       " 5,\n",
       " 27,\n",
       " 2,\n",
       " 8,\n",
       " 22,\n",
       " 18,\n",
       " 35,\n",
       " 36,\n",
       " 1,\n",
       " 37,\n",
       " 5,\n",
       " 27,\n",
       " 2,\n",
       " 8,\n",
       " 20,\n",
       " 1,\n",
       " 4,\n",
       " 6,\n",
       " 11,\n",
       " 1,\n",
       " 13,\n",
       " 5,\n",
       " 5,\n",
       " 24,\n",
       " 1,\n",
       " 21,\n",
       " 5,\n",
       " 8,\n",
       " 1,\n",
       " 47,\n",
       " 1,\n",
       " 3,\n",
       " 5,\n",
       " 1,\n",
       " 67,\n",
       " 1,\n",
       " 12,\n",
       " 5,\n",
       " 14,\n",
       " 8,\n",
       " 9,\n",
       " 1,\n",
       " 5,\n",
       " 6,\n",
       " 1,\n",
       " 69,\n",
       " 7,\n",
       " 17,\n",
       " 12,\n",
       " 22,\n",
       " 1,\n",
       " 51,\n",
       " 19,\n",
       " 5,\n",
       " 14,\n",
       " 3,\n",
       " 1,\n",
       " 44,\n",
       " 48,\n",
       " 1,\n",
       " 16,\n",
       " 7,\n",
       " 6,\n",
       " 14,\n",
       " 3,\n",
       " 2,\n",
       " 9,\n",
       " 1,\n",
       " 19,\n",
       " 2,\n",
       " 21,\n",
       " 5,\n",
       " 8,\n",
       " 2,\n",
       " 1,\n",
       " 9,\n",
       " 2,\n",
       " 8,\n",
       " 27,\n",
       " 7,\n",
       " 6,\n",
       " 17,\n",
       " 20,\n",
       " 1,\n",
       " 15,\n",
       " 10,\n",
       " 4,\n",
       " 13,\n",
       " 2,\n",
       " 1,\n",
       " 3,\n",
       " 12,\n",
       " 2,\n",
       " 1,\n",
       " 3,\n",
       " 5,\n",
       " 8,\n",
       " 6,\n",
       " 1,\n",
       " 19,\n",
       " 7,\n",
       " 9,\n",
       " 13,\n",
       " 14,\n",
       " 7,\n",
       " 3,\n",
       " 1,\n",
       " 11,\n",
       " 5,\n",
       " 14,\n",
       " 17,\n",
       " 12,\n",
       " 1,\n",
       " 7,\n",
       " 6,\n",
       " 1,\n",
       " 3,\n",
       " 12,\n",
       " 2,\n",
       " 1,\n",
       " 9,\n",
       " 10,\n",
       " 5,\n",
       " 23,\n",
       " 1,\n",
       " 13,\n",
       " 5,\n",
       " 5,\n",
       " 24,\n",
       " 2,\n",
       " 8,\n",
       " 22,\n",
       " 1,\n",
       " 37,\n",
       " 5,\n",
       " 5,\n",
       " 24,\n",
       " 1,\n",
       " 14,\n",
       " 6,\n",
       " 3,\n",
       " 7,\n",
       " 10,\n",
       " 1,\n",
       " 3,\n",
       " 12,\n",
       " 2,\n",
       " 1,\n",
       " 11,\n",
       " 5,\n",
       " 14,\n",
       " 17,\n",
       " 12,\n",
       " 1,\n",
       " 7,\n",
       " 9,\n",
       " 1,\n",
       " 6,\n",
       " 5,\n",
       " 1,\n",
       " 10,\n",
       " 5,\n",
       " 6,\n",
       " 17,\n",
       " 2,\n",
       " 8,\n",
       " 1,\n",
       " 8,\n",
       " 4,\n",
       " 23,\n",
       " 1,\n",
       " 7,\n",
       " 6,\n",
       " 1,\n",
       " 3,\n",
       " 12,\n",
       " 2,\n",
       " 1,\n",
       " 13,\n",
       " 2,\n",
       " 6,\n",
       " 3,\n",
       " 2,\n",
       " 8,\n",
       " 22,\n",
       " 18,\n",
       " 18,\n",
       " 62]"
      ]
     },
     "execution_count": 24,
     "metadata": {},
     "output_type": "execute_result"
    }
   ],
   "source": [
    "dataset_vectorized[0]"
   ]
  },
  {
   "cell_type": "code",
   "execution_count": 25,
   "metadata": {},
   "outputs": [
    {
     "name": "stdout",
     "output_type": "stream",
     "text": [
      "[TITLE] \n",
      "Slow Cooker Chicken and Dumplings \n",
      "\n",
      "[INGREDIENTS] \n",
      "• 4 skinless, boneless chicken breast halves \n",
      "• 2 tablespoons butter \n",
      "• 2 (10.75 ounce) cans condensed cream of chicken soup \n",
      "• 1 onion, finely diced \n",
      "• 2 (10 ounce) packages refrigerated biscuit dough, torn into pieces \n",
      "\n",
      "[INSTRUCTIONS] \n",
      "▪︎ Place the chicken, butter, soup, and onion in a slow cooker, and fill with enough water to cover.\n",
      "▪︎ Cover, and cook for 5 to 6 hours on High. About 30 minutes before serving, place the torn biscuit dough in the slow cooker. Cook until the dough is no longer raw in the center.\n",
      "\n",
      "★\n"
     ]
    }
   ],
   "source": [
    "recipe_sequence_to_string(dataset_vectorized[0])"
   ]
  },
  {
   "cell_type": "markdown",
   "metadata": {},
   "source": [
    "### Add padding to sequences"
   ]
  },
  {
   "cell_type": "code",
   "execution_count": 26,
   "metadata": {},
   "outputs": [],
   "source": [
    "recipes_lengths = []\n",
    "for recipe_sequence in dataset_vectorized:\n",
    "    recipes_lengths.append(len(recipe_sequence))"
   ]
  },
  {
   "cell_type": "code",
   "execution_count": 27,
   "metadata": {},
   "outputs": [
    {
     "data": {
      "image/png": "[encoded data removed]",
      "text/plain": [
       "<Figure size 432x288 with 1 Axes>"
      ]
     },
     "metadata": {
      "needs_background": "light"
     },
     "output_type": "display_data"
    }
   ],
   "source": [
    "plt.hist(recipes_lengths)\n",
    "plt.show()"
   ]
  },
  {
   "cell_type": "code",
   "execution_count": 28,
   "metadata": {},
   "outputs": [],
   "source": [
    "MAX_RECIPE_LENGTH = 6000"
   ]
  },
  {
   "cell_type": "code",
   "execution_count": 29,
   "metadata": {},
   "outputs": [
    {
     "name": "stdout",
     "output_type": "stream",
     "text": [
      "Recipe #0 length: 582\n",
      "Recipe #1 length: 437\n",
      "Recipe #2 length: 707\n",
      "Recipe #3 length: 772\n",
      "Recipe #4 length: 1554\n",
      "Recipe #5 length: 776\n",
      "Recipe #6 length: 2717\n",
      "Recipe #7 length: 875\n",
      "Recipe #8 length: 703\n",
      "Recipe #9 length: 1300\n"
     ]
    }
   ],
   "source": [
    "for recipe_index, recipe in enumerate(dataset_vectorized[:10]):\n",
    "    print('Recipe #{} length: {}'.format(recipe_index, len(recipe)))"
   ]
  },
  {
   "cell_type": "code",
   "execution_count": 39,
   "metadata": {},
   "outputs": [],
   "source": [
    "dataset_vectorized_padded_without_stops = tf.keras.preprocessing.sequence.pad_sequences(\n",
    "    dataset_vectorized,\n",
    "    padding='post',\n",
    "    truncating='post',\n",
    "    # We use -1 here and +1 in the next step to make sure that all recipes will have at least 1 stops\n",
    "    # sign at the end, since each sequence will be shifted and truncated afterwards (to generate X and Y sequences).\n",
    "    maxlen=MAX_RECIPE_LENGTH-1,\n",
    "    value=tokenizer.texts_to_sequences([STOP_SIGN])[0]\n",
    ")"
   ]
  },
  {
   "cell_type": "code",
   "execution_count": 40,
   "metadata": {},
   "outputs": [],
   "source": [
    "dataset_vectorized_padded = tf.keras.preprocessing.sequence.pad_sequences(\n",
    "    dataset_vectorized_padded_without_stops,\n",
    "    padding='post',\n",
    "    truncating='post',\n",
    "    maxlen=MAX_RECIPE_LENGTH+1,\n",
    "    value=tokenizer.texts_to_sequences([STOP_SIGN])[0]\n",
    ")"
   ]
  },
  {
   "cell_type": "code",
   "execution_count": 41,
   "metadata": {},
   "outputs": [
    {
     "name": "stdout",
     "output_type": "stream",
     "text": [
      "Recipe #0 length: 6001\n",
      "Recipe #1 length: 6001\n",
      "Recipe #2 length: 6001\n",
      "Recipe #3 length: 6001\n",
      "Recipe #4 length: 6001\n",
      "Recipe #5 length: 6001\n",
      "Recipe #6 length: 6001\n",
      "Recipe #7 length: 6001\n",
      "Recipe #8 length: 6001\n",
      "Recipe #9 length: 6001\n"
     ]
    }
   ],
   "source": [
    "for recipe_index, recipe in enumerate(dataset_vectorized_padded[:10]):\n",
    "    print('Recipe #{} length: {}'.format(recipe_index, len(recipe)))"
   ]
  },
  {
   "cell_type": "code",
   "execution_count": 42,
   "metadata": {},
   "outputs": [
    {
     "name": "stdout",
     "output_type": "stream",
     "text": [
      "[TITLE] \n",
      "Slow Cooker Chicken and Dumplings \n",
      "\n",
      "[INGREDIENTS] \n",
      "• 4 skinless, boneless chicken breast halves \n",
      "• 2 tablespoons butter \n",
      "• 2 (10.75 ounce) cans condensed cream of chicken soup \n",
      "• 1 onion, finely diced \n",
      "• 2 (10 ounce) packages refrigerated biscuit dough, torn into pieces \n",
      "\n",
      "[INSTRUCTIONS] \n",
      "▪︎ Place the chicken, butter, soup, and onion in a slow cooker, and fill with enough water to cover.\n",
      "▪︎ Cover, and cook for 5 to 6 hours on High. About 30 minutes before serving, place the torn biscuit dough in the slow cooker. Cook until the dough is no longer raw in the center.\n",
      "\n",
      "★★★★★★★★★★★★★★★★★★★★★★★★★★★★★★★★★★★★★★★★★★★★★★★★★★★★★★★★★★★★★★★★★★★★★★★★★★★★★★★★★★★★★★★★★★★★★★★★★★★★★★★★★★★★★★★★★★★★★★★★★★★★★★★★★★★★★★★★★★★★★★★★★★★★★★★★★★★★★★★★★★★★★★★★★★★★★★★★★★★★★★★★★★★★★★★★★★★★★★★★★★★★★★★★★★★★★★★★★★★★★★★★★★★★★★★★★★★★★★★★★★★★★★★★★★★★★★★★★★★★★★★★★★★★★★★★★★★★★★★★★★★★★★★★★★★★★★★★★★★★★★★★★★★★★★★★★★★★★★★★★★★★★★★★★★★★★★★★★★★★★★★★★★★★★★★★★★★★★★★★★★★★★★★★★★★★★★★★★★★★★★★★★★★★★★★★★★★★★★★★★★★★★★★★★★★★★★★★★★★★★★★★★★★★★★★★★★★★★★★★★★★★★★★★★★★★★★★★★★★★★★★★★★★★★★★★★★★★★★★★★★★★★★★★★★★★★★★★★★★★★★★★★★★★★★★★★★★★★★★★★★★★★★★★★★★★★★★★★★★★★★★★★★★★★★★★★★★★★★★★★★★★★★★★★★★★★★★★★★★★★★★★★★★★★★★★★★★★★★★★★★★★★★★★★★★★★★★★★★★★★★★★★★★★★★★★★★★★★★★★★★★★★★★★★★★★★★★★★★★★★★★★★★★★★★★★★★★★★★★★★★★★★★★★★★★★★★★★★★★★★★★★★★★★★★★★★★★★★★★★★★★★★★★★★★★★★★★★★★★★★★★★★★★★★★★★★★★★★★★★★★★★★★★★★★★★★★★★★★★★★★★★★★★★★★★★★★★★★★★★★★★★★★★★★★★★★★★★★★★★★★★★★★★★★★★★★★★★★★★★★★★★★★★★★★★★★★★★★★★★★★★★★★★★★★★★★★★★★★★★★★★★★★★★★★★★★★★★★★★★★★★★★★★★★★★★★★★★★★★★★★★★★★★★★★★★★★★★★★★★★★★★★★★★★★★★★★★★★★★★★★★★★★★★★★★★★★★★★★★★★★★★★★★★★★★★★★★★★★★★★★★★★★★★★★★★★★★★★★★★★★★★★★★★★★★★★★★★★★★★★★★★★★★★★★★★★★★★★★★★★★★★★★★★★★★★★★★★★★★★★★★★★★★★★★★★★★★★★★★★★★★★★★★★★★★★★★★★★★★★★★★★★★★★★★★★★★★★★★★★★★★★★★★★★★★★★★★★★★★★★★★★★★★★★★★★★★★★★★★★★★★★★★★★★★★★★★★★★★★★★★★★★★★★★★★★★★★★★★★★★★★★★★★★★★★★★★★★★★★★★★★★★★★★★★★★★★★★★★★★★★★★★★★★★★★★★★★★★★★★★★★★★★★★★★★★★★★★★★★★★★★★★★★★★★★★★★★★★★★★★★★★★★★★★★★★★★★★★★★★★★★★★★★★★★★★★★★★★★★★★★★★★★★★★★★★★★★★★★★★★★★★★★★★★★★★★★★★★★★★★★★★★★★★★★★★★★★★★★★★★★★★★★★★★★★★★★★★★★★★★★★★★★★★★★★★★★★★★★★★★★★★★★★★★★★★★★★★★★★★★★★★★★★★★★★★★★★★★★★★★★★★★★★★★★★★★★★★★★★★★★★★★★★★★★★★★★★★★★★★★★★★★★★★★★★★★★★★★★★★★★★★★★★★★★★★★★★★★★★★★★★★★★★★★★★★★★★★★★★★★★★★★★★★★★★★★★★★★★★★★★★★★★★★★★★★★★★★★★★★★★★★★★★★★★★★★★★★★★★★★★★★★★★★★★★★★★★★★★★★★★★★★★★★★★★★★★★★★★★★★★★★★★★★★★★★★★★★★★★★★★★★★★★★★★★★★★★★★★★★★★★★★★★★★★★★★★★★★★★★★★★★★★★★★★★★★★★★★★★★★★★★★★★★★★★★★★★★★★★★★★★★★★★★★★★★★★★★★★★★★★★★★★★★★★★★★★★★★★★★★★★★★★★★★★★★★★★★★★★★★★★★★★★★★★★★★★★★★★★★★★★★★★★★★★★★★★★★★★★★★★★★★★★★★★★★★★★★★★★★★★★★★★★★★★★★★★★★★★★★★★★★★★★★★★★★★★★★★★★★★★★★★★★★★★★★★★★★★★★★★★★★★★★★★★★★★★★★★★★★★★★★★★★★★★★★★★★★★★★★★★★★★★★★★★★★★★★★★★★★★★★★★★★★★★★★★★★★★★★★★★★★★★★★★★★★★★★★★★★★★★★★★★★★★★★★★★★★★★★★★★★★★★★★★★★★★★★★★★★★★★★★★★★★★★★★★★★★★★★★★★★★★★★★★★★★★★★★★★★★★★★★★★★★★★★★★★★★★★★★★★★★★★★★★★★★★★★★★★★★★★★★★★★★★★★★★★★★★★★★★★★★★★★★★★★★★★★★★★★★★★★★★★★★★★★★★★★★★★★★★★★★★★★★★★★★★★★★★★★★★★★★★★★★★★★★★★★★★★★★★★★★★★★★★★★★★★★★★★★★★★★★★★★★★★★★★★★★★★★★★★★★★★★★★★★★★★★★★★★★★★★★★★★★★★★★★★★★★★★★★★★★★★★★★★★★★★★★★★★★★★★★★★★★★★★★★★★★★★★★★★★★★★★★★★★★★★★★★★★★★★★★★★★★★★★★★★★★★★★★★★★★★★★★★★★★★★★★★★★★★★★★★★★★★★★★★★★★★★★★★★★★★★★★★★★★★★★★★★★★★★★★★★★★★★★★★★★★★★★★★★★★★★★★★★★★★★★★★★★★★★★★★★★★★★★★★★★★★★★★★★★★★★★★★★★★★★★★★★★★★★★★★★★★★★★★★★★★★★★★★★★★★★★★★★★★★★★★★★★★★★★★★★★★★★★★★★★★★★★★★★★★★★★★★★★★★★★★★★★★★★★★★★★★★★★★★★★★★★★★★★★★★★★★★★★★★★★★★★★★★★★★★★★★★★★★★★★★★★★★★★★★★★★★★★★★★★★★★★★★★★★★★★★★★★★★★★★★★★★★★★★★★★★★★★★★★★★★★★★★★★★★★★★★★★★★★★★★★★★★★★★★★★★★★★★★★★★★★★★★★★★★★★★★★★★★★★★★★★★★★★★★★★★★★★★★★★★★★★★★★★★★★★★★★★★★★★★★★★★★★★★★★★★★★★★★★★★★★★★★★★★★★★★★★★★★★★★★★★★★★★★★★★★★★★★★★★★★★★★★★★★★★★★★★★★★★★★★★★★★★★★★★★★★★★★★★★★★★★★★★★★★★★★★★★★★★★★★★★★★★★★★★★★★★★★★★★★★★★★★★★★★★★★★★★★★★★★★★★★★★★★★★★★★★★★★★★★★★★★★★★★★★★★★★★★★★★★★★★★★★★★★★★★★★★★★★★★★★★★★★★★★★★★★★★★★★★★★★★★★★★★★★★★★★★★★★★★★★★★★★★★★★★★★★★★★★★★★★★★★★★★★★★★★★★★★★★★★★★★★★★★★★★★★★★★★★★★★★★★★★★★★★★★★★★★★★★★★★★★★★★★★★★★★★★★★★★★★★★★★★★★★★★★★★★★★★★★★★★★★★★★★★★★★★★★★★★★★★★★★★★★★★★★★★★★★★★★★★★★★★★★★★★★★★★★★★★★★★★★★★★★★★★★★★★★★★★★★★★★★★★★★★★★★★★★★★★★★★★★★★★★★★★★★★★★★★★★★★★★★★★★★★★★★★★★★★★★★★★★★★★★★★★★★★★★★★★★★★★★★★★★★★★★★★★★★★★★★★★★★★★★★★★★★★★★★★★★★★★★★★★★★★★★★★★★★★★★★★★★★★★★★★★★★★★★★★★★★★★★★★★★★★★★★★★★★★★★★★★★★★★★★★★★★★★★★★★★★★★★★★★★★★★★★★★★★★★★★★★★★★★★★★★★★★★★★★★★★★★★★★★★★★★★★★★★★★★★★★★★★★★★★★★★★★★★★★★★★★★★★★★★★★★★★★★★★★★★★★★★★★★★★★★★★★★★★★★★★★★★★★★★★★★★★★★★★★★★★★★★★★★★★★★★★★★★★★★★★★★★★★★★★★★★★★★★★★★★★★★★★★★★★★★★★★★★★★★★★★★★★★★★★★★★★★★★★★★★★★★★★★★★★★★★★★★★★★★★★★★★★★★★★★★★★★★★★★★★★★★★★★★★★★★★★★★★★★★★★★★★★★★★★★★★★★★★★★★★★★★★★★★★★★★★★★★★★★★★★★★★★★★★★★★★★★★★★★★★★★★★★★★★★★★★★★★★★★★★★★★★★★★★★★★★★★★★★★★★★★★★★★★★★★★★★★★★★★★★★★★★★★★★★★★★★★★★★★★★★★★★★★★★★★★★★★★★★★★★★★★★★★★★★★★★★★★★★★★★★★★★★★★★★★★★★★★★★★★★★★★★★★★★★★★★★★★★★★★★★★★★★★★★★★★★★★★★★★★★★★★★★★★★★★★★★★★★★★★★★★★★★★★★★★★★★★★★★★★★★★★★★★★★★★★★★★★★★★★★★★★★★★★★★★★★★★★★★★★★★★★★★★★★★★★★★★★★★★★★★★★★★★★★★★★★★★★★★★★★★★★★★★★★★★★★★★★★★★★★★★★★★★★★★★★★★★★★★★★★★★★★★★★★★★★★★★★★★★★★★★★★★★★★★★★★★★★★★★★★★★★★★★★★★★★★★★★★★★★★★★★★★★★★★★★★★★★★★★★★★★★★★★★★★★★★★★★★★★★★★★★★★★★★★★★★★★★★★★★★★★★★★★★★★★★★★★★★★★★★★★★★★★★★★★★★★★★★★★★★★★★★★★★★★★★★★★★★★★★★★★★★★★★★★★★★★★★★★★★★★★★★★★★★★★★★★★★★★★★★★★★★★★★★★★★★★★★★★★★★★★★★★★★★★★★★★★★★★★★★★★★★★★★★★★★★★★★★★★★★★★★★★★★★★★★★★★★★★★★★★★★★★★★★★★★★★★★★★★★★★★★★★★★★★★★★★★★★★★★★★★★★★★★★★★★★★★★★★★★★★★★★★★★★★★★★★★★★★★★★★★★★★★★★★★★★★★★★★★★★★★★★★★★★★★★★★★★★★★★★★★★★★★★★★★★★★★★★★★★★★★★★★★★★★★★★★★★★★★★★★★★★★★★★★★★★★★★★★★★★★★★★★★★★★★★★★★★★★★★★★★★★★★★★★★★★★★★★★★★★★★★★★★★★★★★★★★★★★★★★★★★★★★★★★★★★★★★★★★★★★★★★★★★★★★★★★★★★★★★★★★★★★★★★★★★★★★★★★★★★★★★★★★★★★★★★★★★★★★★★★★★★★★★★★★★★★★★★★★★★★★★★★★★★★★★★★★★★★★★★★★★★★★★★★★★★★★★★★★★★★★★★★★★★★★★★★★★★★★★★★★★★★★★★★★★★★★★★★★★★★★★★★★★★★★★★★★★★★★★★★★★★★★★★★★★★★★★★★★★★★★★★★★★★★★★★★★★★★★★★★★★★★★★★★★★★★★★★★★★★★★★★★★★★★★★★★★★★★★★★★★★★★★★★★★★★★★★★★★★★★★★★★★★★★★★★★★★★★★★★★★★★★★★★★★★★★★★★★★★★★★★★★★★★★★★★★★★★★★★★★★★★★★★★★★★★★★★★★★★★★★★★★★★★★★★★★★★★★★★★★★★★★★★★★★★★★★★★★★★★★★★★★★★★★★★★★★★★★★★★★★★★★★★★★★★★★★★★★★★★★★★★★★★★★★★★★★★★★★★★★★★★★★★★★★★★★★★★★★★★★★★★★★★★★★★★★★★★★★★★★★★★★★★★★★★★★★★★★★★★★★★★★★★★★★★★★★★★★★★★★★★★★★★★★★★★★★★★★★★★★★★★★★★★★★★★★★★★★★★★★★★★★★★★★★★★★★★★★★★★★★★★★★★★★★★★★★★★★★★★★★★★★\n"
     ]
    }
   ],
   "source": [
    "recipe_sequence_to_string(dataset_vectorized_padded[0])"
   ]
  },
  {
   "cell_type": "markdown",
   "metadata": {},
   "source": [
    "### Create TensorFlow dataset "
   ]
  },
  {
   "cell_type": "code",
   "execution_count": 43,
   "metadata": {},
   "outputs": [
    {
     "name": "stdout",
     "output_type": "stream",
     "text": [
      "<TensorSliceDataset shapes: (6001,), types: tf.int32>\n"
     ]
    }
   ],
   "source": [
    "dataset = tf.data.Dataset.from_tensor_slices(dataset_vectorized_padded)\n",
    "\n",
    "print(dataset)"
   ]
  },
  {
   "cell_type": "code",
   "execution_count": 44,
   "metadata": {},
   "outputs": [
    {
     "name": "stdout",
     "output_type": "stream",
     "text": [
      "Raw recipe:\n",
      " [42 29 32 ... 62 62 62] \n",
      "\n",
      "\n",
      "\n",
      "Stringified recipe:\n",
      "\n",
      "[TITLE] \n",
      "Slow Cooker Chicken and Dumplings \n",
      "\n",
      "[INGREDIENTS] \n",
      "• 4 skinless, boneless chicken breast halves \n",
      "• 2 tablespoons butter \n",
      "• 2 (10.75 ounce) cans condensed cream of chicken soup \n",
      "• 1 onion, finely diced \n",
      "• 2 (10 ounce) packages refrigerated biscuit dough, torn into pieces \n",
      "\n",
      "[INSTRUCTIONS] \n",
      "▪︎ Place the chicken, butter, soup, and onion in a slow cooker, and fill with enough water to cover.\n",
      "▪︎ Cover, and cook for 5 to 6 hours on High. About 30 minutes before serving, place the torn biscuit dough in the slow cooker. Cook until the dough is no longer raw in the center.\n",
      "\n",
      "★★★★★★★★★★★★★★★★★★★★★★★★★★★★★★★★★★★★★★★★★★★★★★★★★★★★★★★★★★★★★★★★★★★★★★★★★★★★★★★★★★★★★★★★★★★★★★★★★★★★★★★★★★★★★★★★★★★★★★★★★★★★★★★★★★★★★★★★★★★★★★★★★★★★★★★★★★★★★★★★★★★★★★★★★★★★★★★★★★★★★★★★★★★★★★★★★★★★★★★★★★★★★★★★★★★★★★★★★★★★★★★★★★★★★★★★★★★★★★★★★★★★★★★★★★★★★★★★★★★★★★★★★★★★★★★★★★★★★★★★★★★★★★★★★★★★★★★★★★★★★★★★★★★★★★★★★★★★★★★★★★★★★★★★★★★★★★★★★★★★★★★★★★★★★★★★★★★★★★★★★★★★★★★★★★★★★★★★★★★★★★★★★★★★★★★★★★★★★★★★★★★★★★★★★★★★★★★★★★★★★★★★★★★★★★★★★★★★★★★★★★★★★★★★★★★★★★★★★★★★★★★★★★★★★★★★★★★★★★★★★★★★★★★★★★★★★★★★★★★★★★★★★★★★★★★★★★★★★★★★★★★★★★★★★★★★★★★★★★★★★★★★★★★★★★★★★★★★★★★★★★★★★★★★★★★★★★★★★★★★★★★★★★★★★★★★★★★★★★★★★★★★★★★★★★★★★★★★★★★★★★★★★★★★★★★★★★★★★★★★★★★★★★★★★★★★★★★★★★★★★★★★★★★★★★★★★★★★★★★★★★★★★★★★★★★★★★★★★★★★★★★★★★★★★★★★★★★★★★★★★★★★★★★★★★★★★★★★★★★★★★★★★★★★★★★★★★★★★★★★★★★★★★★★★★★★★★★★★★★★★★★★★★★★★★★★★★★★★★★★★★★★★★★★★★★★★★★★★★★★★★★★★★★★★★★★★★★★★★★★★★★★★★★★★★★★★★★★★★★★★★★★★★★★★★★★★★★★★★★★★★★★★★★★★★★★★★★★★★★★★★★★★★★★★★★★★★★★★★★★★★★★★★★★★★★★★★★★★★★★★★★★★★★★★★★★★★★★★★★★★★★★★★★★★★★★★★★★★★★★★★★★★★★★★★★★★★★★★★★★★★★★★★★★★★★★★★★★★★★★★★★★★★★★★★★★★★★★★★★★★★★★★★★★★★★★★★★★★★★★★★★★★★★★★★★★★★★★★★★★★★★★★★★★★★★★★★★★★★★★★★★★★★★★★★★★★★★★★★★★★★★★★★★★★★★★★★★★★★★★★★★★★★★★★★★★★★★★★★★★★★★★★★★★★★★★★★★★★★★★★★★★★★★★★★★★★★★★★★★★★★★★★★★★★★★★★★★★★★★★★★★★★★★★★★★★★★★★★★★★★★★★★★★★★★★★★★★★★★★★★★★★★★★★★★★★★★★★★★★★★★★★★★★★★★★★★★★★★★★★★★★★★★★★★★★★★★★★★★★★★★★★★★★★★★★★★★★★★★★★★★★★★★★★★★★★★★★★★★★★★★★★★★★★★★★★★★★★★★★★★★★★★★★★★★★★★★★★★★★★★★★★★★★★★★★★★★★★★★★★★★★★★★★★★★★★★★★★★★★★★★★★★★★★★★★★★★★★★★★★★★★★★★★★★★★★★★★★★★★★★★★★★★★★★★★★★★★★★★★★★★★★★★★★★★★★★★★★★★★★★★★★★★★★★★★★★★★★★★★★★★★★★★★★★★★★★★★★★★★★★★★★★★★★★★★★★★★★★★★★★★★★★★★★★★★★★★★★★★★★★★★★★★★★★★★★★★★★★★★★★★★★★★★★★★★★★★★★★★★★★★★★★★★★★★★★★★★★★★★★★★★★★★★★★★★★★★★★★★★★★★★★★★★★★★★★★★★★★★★★★★★★★★★★★★★★★★★★★★★★★★★★★★★★★★★★★★★★★★★★★★★★★★★★★★★★★★★★★★★★★★★★★★★★★★★★★★★★★★★★★★★★★★★★★★★★★★★★★★★★★★★★★★★★★★★★★★★★★★★★★★★★★★★★★★★★★★★★★★★★★★★★★★★★★★★★★★★★★★★★★★★★★★★★★★★★★★★★★★★★★★★★★★★★★★★★★★★★★★★★★★★★★★★★★★★★★★★★★★★★★★★★★★★★★★★★★★★★★★★★★★★★★★★★★★★★★★★★★★★★★★★★★★★★★★★★★★★★★★★★★★★★★★★★★★★★★★★★★★★★★★★★★★★★★★★★★★★★★★★★★★★★★★★★★★★★★★★★★★★★★★★★★★★★★★★★★★★★★★★★★★★★★★★★★★★★★★★★★★★★★★★★★★★★★★★★★★★★★★★★★★★★★★★★★★★★★★★★★★★★★★★★★★★★★★★★★★★★★★★★★★★★★★★★★★★★★★★★★★★★★★★★★★★★★★★★★★★★★★★★★★★★★★★★★★★★★★★★★★★★★★★★★★★★★★★★★★★★★★★★★★★★★★★★★★★★★★★★★★★★★★★★★★★★★★★★★★★★★★★★★★★★★★★★★★★★★★★★★★★★★★★★★★★★★★★★★★★★★★★★★★★★★★★★★★★★★★★★★★★★★★★★★★★★★★★★★★★★★★★★★★★★★★★★★★★★★★★★★★★★★★★★★★★★★★★★★★★★★★★★★★★★★★★★★★★★★★★★★★★★★★★★★★★★★★★★★★★★★★★★★★★★★★★★★★★★★★★★★★★★★★★★★★★★★★★★★★★★★★★★★★★★★★★★★★★★★★★★★★★★★★★★★★★★★★★★★★★★★★★★★★★★★★★★★★★★★★★★★★★★★★★★★★★★★★★★★★★★★★★★★★★★★★★★★★★★★★★★★★★★★★★★★★★★★★★★★★★★★★★★★★★★★★★★★★★★★★★★★★★★★★★★★★★★★★★★★★★★★★★★★★★★★★★★★★★★★★★★★★★★★★★★★★★★★★★★★★★★★★★★★★★★★★★★★★★★★★★★★★★★★★★★★★★★★★★★★★★★★★★★★★★★★★★★★★★★★★★★★★★★★★★★★★★★★★★★★★★★★★★★★★★★★★★★★★★★★★★★★★★★★★★★★★★★★★★★★★★★★★★★★★★★★★★★★★★★★★★★★★★★★★★★★★★★★★★★★★★★★★★★★★★★★★★★★★★★★★★★★★★★★★★★★★★★★★★★★★★★★★★★★★★★★★★★★★★★★★★★★★★★★★★★★★★★★★★★★★★★★★★★★★★★★★★★★★★★★★★★★★★★★★★★★★★★★★★★★★★★★★★★★★★★★★★★★★★★★★★★★★★★★★★★★★★★★★★★★★★★★★★★★★★★★★★★★★★★★★★★★★★★★★★★★★★★★★★★★★★★★★★★★★★★★★★★★★★★★★★★★★★★★★★★★★★★★★★★★★★★★★★★★★★★★★★★★★★★★★★★★★★★★★★★★★★★★★★★★★★★★★★★★★★★★★★★★★★★★★★★★★★★★★★★★★★★★★★★★★★★★★★★★★★★★★★★★★★★★★★★★★★★★★★★★★★★★★★★★★★★★★★★★★★★★★★★★★★★★★★★★★★★★★★★★★★★★★★★★★★★★★★★★★★★★★★★★★★★★★★★★★★★★★★★★★★★★★★★★★★★★★★★★★★★★★★★★★★★★★★★★★★★★★★★★★★★★★★★★★★★★★★★★★★★★★★★★★★★★★★★★★★★★★★★★★★★★★★★★★★★★★★★★★★★★★★★★★★★★★★★★★★★★★★★★★★★★★★★★★★★★★★★★★★★★★★★★★★★★★★★★★★★★★★★★★★★★★★★★★★★★★★★★★★★★★★★★★★★★★★★★★★★★★★★★★★★★★★★★★★★★★★★★★★★★★★★★★★★★★★★★★★★★★★★★★★★★★★★★★★★★★★★★★★★★★★★★★★★★★★★★★★★★★★★★★★★★★★★★★★★★★★★★★★★★★★★★★★★★★★★★★★★★★★★★★★★★★★★★★★★★★★★★★★★★★★★★★★★★★★★★★★★★★★★★★★★★★★★★★★★★★★★★★★★★★★★★★★★★★★★★★★★★★★★★★★★★★★★★★★★★★★★★★★★★★★★★★★★★★★★★★★★★★★★★★★★★★★★★★★★★★★★★★★★★★★★★★★★★★★★★★★★★★★★★★★★★★★★★★★★★★★★★★★★★★★★★★★★★★★★★★★★★★★★★★★★★★★★★★★★★★★★★★★★★★★★★★★★★★★★★★★★★★★★★★★★★★★★★★★★★★★★★★★★★★★★★★★★★★★★★★★★★★★★★★★★★★★★★★★★★★★★★★★★★★★★★★★★★★★★★★★★★★★★★★★★★★★★★★★★★★★★★★★★★★★★★★★★★★★★★★★★★★★★★★★★★★★★★★★★★★★★★★★★★★★★★★★★★★★★★★★★★★★★★★★★★★★★★★★★★★★★★★★★★★★★★★★★★★★★★★★★★★★★★★★★★★★★★★★★★★★★★★★★★★★★★★★★★★★★★★★★★★★★★★★★★★★★★★★★★★★★★★★★★★★★★★★★★★★★★★★★★★★★★★★★★★★★★★★★★★★★★★★★★★★★★★★★★★★★★★★★★★★★★★★★★★★★★★★★★★★★★★★★★★★★★★★★★★★★★★★★★★★★★★★★★★★★★★★★★★★★★★★★★★★★★★★★★★★★★★★★★★★★★★★★★★★★★★★★★★★★★★★★★★★★★★★★★★★★★★★★★★★★★★★★★★★★★★★★★★★★★★★★★★★★★★★★★★★★★★★★★★★★★★★★★★★★★★★★★★★★★★★★★★★★★★★★★★★★★★★★★★★★★★★★★★★★★★★★★★★★★★★★★★★★★★★★★★★★★★★★★★★★★★★★★★★★★★★★★★★★★★★★★★★★★★★★★★★★★★★★★★★★★★★★★★★★★★★★★★★★★★★★★★★★★★★★★★★★★★★★★★★★★★★★★★★★★★★★★★★★★★★★★★★★★★★★★★★★★★★★★★★★★★★★★★★★★★★★★★★★★★★★★★★★★★★★★★★★★★★★★★★★★★★★★★★★★★★★★★★★★★★★★★★★★★★★★★★★★★★★★★★★★★★★★★★★★★★★★★★★★★★★★★★★★★★★★★★★★★★★★★★★★★★★★★★★★★★★★★★★★★★★★★★★★★★★★★★★★★★★★★★★★★★★★★★★★★★★★★★★★★★★★★★★★★★★★★★★★★★★★★★★★★★★★★★★★★★★★★★★★★★★★★★★★★★★★★★★★★★★★★★★★★★★★★★★★★★★★★★★★★★★★★★★★★★★★★★★★★★★★★★★★★★★★★★★★★★★★★★★★★★★★★★★★★★★★★★★★★★★★★★★★★★★★★★★★★★★★★★★★★★★★★★★★★★★★★★★★★★★★★★★★★★★★★★★★★★★★★★★★★★★★★★★★★★★★★★★★★★★★★★★★★★★★★★★★★★★★★★★★★★★★★★★★★★★★★★★★★★★★★★★★★★★★★★★★★★★★★★★★★★★★★★★★★★★★★★★★★★★★★★★★★★★★★★★★★★★★★★★★★★★★★★★★★★★★★★★★★★★★★★★★★★★★★★★★★★★★★★★★★★★★★★★★★★★★★★★★★★★★★★★★★★★★★★★★★★★★★★★★★★★★★★★★★★★★★★★★★★★★★★★★★★★★★★★★★★★★★★★★★★★★★★★★★★★★★★★★★★★★★★★★★★★★★★★★★★★★★★★★★★★★★★★★★★★★★★★★★★★★★★★★★★★★★★★★★★★★★★★★★★★★★★★★★★★★★★★★★★★★★★★★★★★★★★★★★★★★★★★★★★★★★★★★★★★★★★★★★★★★★★★★★★★★★★★★★★★★★★★★★★★★★★★★★★★★★★★★★★★★★★★★★★★★★★★★★★★★★★★★★★★★★★★★★★★★★★★★★★★★★★★★★★★★★★★★★★★★★★★★★★★★★★★★★★★★★★★★★★★★★★★★★★★★★★★★★★★★★★★★★★★★★★★★★★★★★★★★★★★★★★★★★★★★★★★★★★★★★★★\n"
     ]
    }
   ],
   "source": [
    "for recipe in dataset.take(1):\n",
    "    print('Raw recipe:\\n', recipe.numpy(), '\\n\\n\\n')\n",
    "    print('Stringified recipe:\\n')\n",
    "    recipe_sequence_to_string(recipe.numpy())"
   ]
  },
  {
   "cell_type": "markdown",
   "metadata": {},
   "source": [
    "### Split examples on `input` and `target` texts"
   ]
  },
  {
   "cell_type": "markdown",
   "metadata": {},
   "source": [
    "For each sequence, duplicate and shift it to form the input and target text. For example, say sequence_length is 4 and our text is `Hello`. The input sequence would be `Hell`, and the target sequence `ello`."
   ]
  },
  {
   "cell_type": "code",
   "execution_count": 45,
   "metadata": {},
   "outputs": [],
   "source": [
    "def split_input_target(recipe):\n",
    "    input_text = recipe[:-1]\n",
    "    target_text = recipe[1:]\n",
    "    \n",
    "    return input_text, target_text"
   ]
  },
  {
   "cell_type": "code",
   "execution_count": 46,
   "metadata": {},
   "outputs": [],
   "source": [
    "dataset_targeted = dataset.map(split_input_target)"
   ]
  },
  {
   "cell_type": "code",
   "execution_count": 53,
   "metadata": {},
   "outputs": [
    {
     "name": "stdout",
     "output_type": "stream",
     "text": [
      "Input sequence size: 6000\n",
      "Target sequence size: 6000\n",
      "\n",
      "Input:   '[ T I T L E ]   \\n S l o w   C o o k e r   C h i c k e n   a n d   D u m p l i n g s   \\n \\n [ I N G R'\n",
      "Target:  'T I T L E ]   \\n S l o w   C o o k e r   C h i c k e n   a n d   D u m p l i n g s   \\n \\n [ I N G R E'\n"
     ]
    }
   ],
   "source": [
    "for input_example, target_example in dataset_targeted.take(1):\n",
    "    print('Input sequence size:', repr(len(input_example.numpy())))\n",
    "    print('Target sequence size:', repr(len(target_example.numpy())))\n",
    "    print()\n",
    "    \n",
    "    input_stringified = tokenizer.sequences_to_texts([input_example.numpy()[:50]])[0]\n",
    "    target_stringified = tokenizer.sequences_to_texts([target_example.numpy()[:50]])[0]\n",
    "    \n",
    "    print('Input:  ', repr(''.join(input_stringified)))\n",
    "    print('Target: ', repr(''.join(target_stringified)))"
   ]
  },
  {
   "cell_type": "markdown",
   "metadata": {},
   "source": [
    "Each index of these vectors are processed as one time step. For the input at time step 0, the model receives the index for `[` and tries to predict the index for `T` as the next character. At the next time-step, it does the same thing but the RNN considers the previous step context in addition to the current input character."
   ]
  },
  {
   "cell_type": "code",
   "execution_count": 67,
   "metadata": {},
   "outputs": [
    {
     "name": "stdout",
     "output_type": "stream",
     "text": [
      "Step  0\n",
      "  input: 42 ('[')\n",
      "  expected output: 29 ('T')\n",
      "Step  1\n",
      "  input: 29 ('T')\n",
      "  expected output: 32 ('I')\n",
      "Step  2\n",
      "  input: 32 ('I')\n",
      "  expected output: 29 ('T')\n",
      "Step  3\n",
      "  input: 29 ('T')\n",
      "  expected output: 53 ('L')\n",
      "Step  4\n",
      "  input: 53 ('L')\n",
      "  expected output: 39 ('E')\n",
      "Step  5\n",
      "  input: 39 ('E')\n",
      "  expected output: 41 (']')\n",
      "Step  6\n",
      "  input: 41 (']')\n",
      "  expected output: 1 (' ')\n",
      "Step  7\n",
      "  input: 1 (' ')\n",
      "  expected output: 18 ('\\n')\n",
      "Step  8\n",
      "  input: 18 ('\\n')\n",
      "  expected output: 30 ('S')\n",
      "Step  9\n",
      "  input: 30 ('S')\n",
      "  expected output: 10 ('l')\n"
     ]
    }
   ],
   "source": [
    "for i, (input_idx, target_idx) in enumerate(zip(input_example[:10], target_example[:10])):\n",
    "    print('Step {:2d}'.format(i))\n",
    "    print('  input: {} ({:s})'.format(input_idx, repr(tokenizer.sequences_to_texts([[input_idx.numpy()]])[0])))\n",
    "    print('  expected output: {} ({:s})'.format(target_idx, repr(tokenizer.sequences_to_texts([[target_idx.numpy()]])[0])))"
   ]
  },
  {
   "cell_type": "markdown",
   "metadata": {},
   "source": [
    "### Split up the dataset into batches"
   ]
  },
  {
   "cell_type": "code",
   "execution_count": 81,
   "metadata": {},
   "outputs": [
    {
     "name": "stdout",
     "output_type": "stream",
     "text": [
      "TOTAL_RECIPES_NUM:  122938\n",
      "MAX_RECIPE_LENGTH:  6000\n",
      "VOCABULARY_SIZE:  206\n"
     ]
    }
   ],
   "source": [
    "print('TOTAL_RECIPES_NUM: ', TOTAL_RECIPES_NUM)\n",
    "print('MAX_RECIPE_LENGTH: ', MAX_RECIPE_LENGTH)\n",
    "print('VOCABULARY_SIZE: ', VOCABULARY_SIZE)"
   ]
  },
  {
   "cell_type": "code",
   "execution_count": 70,
   "metadata": {},
   "outputs": [
    {
     "name": "stdout",
     "output_type": "stream",
     "text": [
      "<MapDataset shapes: ((6000,), (6000,)), types: (tf.int32, tf.int32)>\n"
     ]
    }
   ],
   "source": [
    "print(dataset_targeted)"
   ]
  },
  {
   "cell_type": "code",
   "execution_count": 68,
   "metadata": {},
   "outputs": [],
   "source": [
    "# Batch size.\n",
    "BATCH_SIZE = 64\n",
    "\n",
    "# Buffer size to shuffle the dataset (TF data is designed to work\n",
    "# with possibly infinite sequences, so it doesn't attempt to shuffle\n",
    "# the entire sequence in memory. Instead, it maintains a buffer in\n",
    "# which it shuffles elements).\n",
    "SHUFFLE_BUFFER_SIZE = 1000"
   ]
  },
  {
   "cell_type": "code",
   "execution_count": 76,
   "metadata": {},
   "outputs": [
    {
     "name": "stdout",
     "output_type": "stream",
     "text": [
      "<RepeatDataset shapes: ((64, 6000), (64, 6000)), types: (tf.int32, tf.int32)>\n"
     ]
    }
   ],
   "source": [
    "dataset_train = dataset_targeted \\\n",
    "    .shuffle(SHUFFLE_BUFFER_SIZE) \\\n",
    "    .batch(BATCH_SIZE, drop_remainder=True) \\\n",
    "    .repeat()\n",
    "\n",
    "print(dataset_train)"
   ]
  },
  {
   "cell_type": "code",
   "execution_count": 77,
   "metadata": {},
   "outputs": [
    {
     "name": "stdout",
     "output_type": "stream",
     "text": [
      "1st batch: input_text: tf.Tensor(\n",
      "[[42 29 32 ... 62 62 62]\n",
      " [42 29 32 ... 62 62 62]\n",
      " [42 29 32 ... 62 62 62]\n",
      " ...\n",
      " [42 29 32 ... 62 62 62]\n",
      " [42 29 32 ... 62 62 62]\n",
      " [42 29 32 ... 62 62 62]], shape=(64, 6000), dtype=int32)\n",
      "\n",
      "1st batch: target_text: tf.Tensor(\n",
      "[[29 32 29 ... 62 62 62]\n",
      " [29 32 29 ... 62 62 62]\n",
      " [29 32 29 ... 62 62 62]\n",
      " ...\n",
      " [29 32 29 ... 62 62 62]\n",
      " [29 32 29 ... 62 62 62]\n",
      " [29 32 29 ... 62 62 62]], shape=(64, 6000), dtype=int32)\n"
     ]
    }
   ],
   "source": [
    "for input_text, target_text in dataset_train.take(1):\n",
    "    print('1st batch: input_text:', input_text)\n",
    "    print()\n",
    "    print('1st batch: target_text:', target_text)"
   ]
  },
  {
   "cell_type": "markdown",
   "metadata": {},
   "source": [
    "## Build the model"
   ]
  },
  {
   "cell_type": "markdown",
   "metadata": {},
   "source": [
    "Use [tf.keras.Sequential](https://www.tensorflow.org/api_docs/python/tf/keras/Sequential) to define the model. For this experiment we will use the following layer types:\n",
    "\n",
    "- [tf.keras.layers.Embedding](https://www.tensorflow.org/api_docs/python/tf/keras/layers/Embedding): The input layer. A trainable lookup table that will map the numbers of each character to a vector with `embedding_dim` dimensions;\n",
    "- [tf.keras.layers.LSTM](https://www.tensorflow.org/api_docs/python/tf/keras/layers/LSTM): A type of RNN with size units=rnn_units (You can also use a GRU layer here.)\n",
    "- [tf.keras.layers.Dense](https://www.tensorflow.org/api_docs/python/tf/keras/layers/Dense): The output layer, with vocab_size outputs."
   ]
  },
  {
   "cell_type": "code",
   "execution_count": 79,
   "metadata": {},
   "outputs": [
    {
     "name": "stdout",
     "output_type": "stream",
     "text": [
      "tmp_input_array shape: (2, 8)\n",
      "tmp_input_array:\n",
      "[[7 0 8 7 5 6 9 3]\n",
      " [3 4 0 6 4 4 2 8]]\n",
      "\n",
      "tmp_output_array shape: (2, 8, 5)\n",
      "tmp_output_array:\n",
      "[[[-0.04083582  0.02675507 -0.02395637  0.00192421 -0.02079486]\n",
      "  [ 0.01887444 -0.03617031 -0.00908415  0.02809134 -0.04376335]\n",
      "  [-0.00242412  0.00176722 -0.00080705  0.0309472   0.04264666]\n",
      "  [-0.04083582  0.02675507 -0.02395637  0.00192421 -0.02079486]\n",
      "  [-0.04495165 -0.02465003 -0.04266194 -0.01764099 -0.01324097]\n",
      "  [-0.04976692 -0.01678253 -0.01355541 -0.00220599  0.01302174]\n",
      "  [ 0.04391095 -0.02814361 -0.03265498 -0.0460894   0.01230313]\n",
      "  [-0.02713444 -0.04566642 -0.03805387 -0.00718256  0.00985565]]\n",
      "\n",
      " [[-0.02713444 -0.04566642 -0.03805387 -0.00718256  0.00985565]\n",
      "  [-0.01692666 -0.00483463 -0.01904677 -0.04724407 -0.00570773]\n",
      "  [ 0.01887444 -0.03617031 -0.00908415  0.02809134 -0.04376335]\n",
      "  [-0.04976692 -0.01678253 -0.01355541 -0.00220599  0.01302174]\n",
      "  [-0.01692666 -0.00483463 -0.01904677 -0.04724407 -0.00570773]\n",
      "  [-0.01692666 -0.00483463 -0.01904677 -0.04724407 -0.00570773]\n",
      "  [-0.04872488  0.01247785  0.02107657 -0.00721905  0.02099892]\n",
      "  [-0.00242412  0.00176722 -0.00080705  0.0309472   0.04264666]]]\n"
     ]
    }
   ],
   "source": [
    "# Let's do a quick detour and see how Embeding layer works.\n",
    "# It takes several char indices sequences (batch) as an input.\n",
    "# It encodes every character of every sequence to a vector of tmp_embeding_size length.\n",
    "tmp_vocab_size = 10\n",
    "tmp_embeding_size = 5\n",
    "tmp_input_length = 8\n",
    "tmp_batch_size = 2\n",
    "\n",
    "tmp_model = tf.keras.models.Sequential()\n",
    "tmp_model.add(tf.keras.layers.Embedding(\n",
    "  input_dim=tmp_vocab_size,\n",
    "  output_dim=tmp_embeding_size,\n",
    "  input_length=tmp_input_length\n",
    "))\n",
    "# The model will take as input an integer matrix of size (batch, input_length).\n",
    "# The largest integer (i.e. word index) in the input should be no larger than 9 (tmp_vocab_size).\n",
    "# Now model.output_shape == (None, 10, 64), where None is the batch dimension.\n",
    "tmp_input_array = np.random.randint(\n",
    "  low=0,\n",
    "  high=tmp_vocab_size,\n",
    "  size=(tmp_batch_size, tmp_input_length)\n",
    ")\n",
    "tmp_model.compile('rmsprop', 'mse')\n",
    "tmp_output_array = tmp_model.predict(tmp_input_array)\n",
    "\n",
    "print('tmp_input_array shape:', tmp_input_array.shape)\n",
    "print('tmp_input_array:')\n",
    "print(tmp_input_array)\n",
    "print()\n",
    "print('tmp_output_array shape:', tmp_output_array.shape)\n",
    "print('tmp_output_array:')\n",
    "print(tmp_output_array)"
   ]
  },
  {
   "cell_type": "markdown",
   "metadata": {},
   "source": [
    "### Model 1"
   ]
  },
  {
   "cell_type": "code",
   "execution_count": 116,
   "metadata": {},
   "outputs": [],
   "source": [
    "model_1 = tf.keras.models.Sequential()\n",
    "\n",
    "model_1.add(tf.keras.layers.Embedding(\n",
    "    input_dim=VOCABULARY_SIZE,\n",
    "#     input_length=MAX_RECIPE_LENGTH,\n",
    "    batch_input_shape=[BATCH_SIZE, None],\n",
    "    output_dim=256\n",
    "))\n",
    "\n",
    "model_1.add(tf.keras.layers.LSTM(\n",
    "    units=1024,\n",
    "    return_sequences=True,\n",
    "    stateful=True\n",
    "    # recurrent_initializer=tf.keras.initializers.GlorotNormal()\n",
    "))\n",
    "\n",
    "model_1.add(tf.keras.layers.Dense(VOCABULARY_SIZE))"
   ]
  },
  {
   "cell_type": "code",
   "execution_count": 117,
   "metadata": {},
   "outputs": [
    {
     "name": "stdout",
     "output_type": "stream",
     "text": [
      "Model: \"sequential_4\"\n",
      "_________________________________________________________________\n",
      "Layer (type)                 Output Shape              Param #   \n",
      "=================================================================\n",
      "embedding_4 (Embedding)      (64, None, 256)           52736     \n",
      "_________________________________________________________________\n",
      "lstm_2 (LSTM)                (64, None, 1024)          5246976   \n",
      "_________________________________________________________________\n",
      "dense_1 (Dense)              (64, None, 206)           211150    \n",
      "=================================================================\n",
      "Total params: 5,510,862\n",
      "Trainable params: 5,510,862\n",
      "Non-trainable params: 0\n",
      "_________________________________________________________________\n"
     ]
    }
   ],
   "source": [
    "model_1.summary()"
   ]
  },
  {
   "cell_type": "code",
   "execution_count": 86,
   "metadata": {},
   "outputs": [
    {
     "data": {
      "image/png": "[encoded data removed]",
      "text/plain": [
       "<IPython.core.display.Image object>"
      ]
     },
     "execution_count": 86,
     "metadata": {},
     "output_type": "execute_result"
    }
   ],
   "source": [
    "tf.keras.utils.plot_model(\n",
    "    model_1,\n",
    "    show_shapes=True,\n",
    "    show_layer_names=True,\n",
    "    to_file='model_1.png'\n",
    ")"
   ]
  },
  {
   "cell_type": "markdown",
   "metadata": {},
   "source": [
    "## Trying the model"
   ]
  },
  {
   "cell_type": "code",
   "execution_count": 88,
   "metadata": {},
   "outputs": [
    {
     "name": "stdout",
     "output_type": "stream",
     "text": [
      "(64, 6000, 206) # (batch_size, sequence_length, vocab_size)\n"
     ]
    }
   ],
   "source": [
    "for input_example_batch, target_example_batch in dataset_train.take(1):\n",
    "    example_batch_predictions = model_1(input_example_batch)\n",
    "    print(example_batch_predictions.shape, \"# (batch_size, sequence_length, vocab_size)\")"
   ]
  },
  {
   "cell_type": "markdown",
   "metadata": {},
   "source": [
    "To get actual predictions from the model we need to sample from the output distribution, to get actual character indices. This distribution is defined by the logits over the character vocabulary."
   ]
  },
  {
   "cell_type": "code",
   "execution_count": 89,
   "metadata": {},
   "outputs": [
    {
     "name": "stdout",
     "output_type": "stream",
     "text": [
      "Prediction for the 1st letter of the batch 1st sequense:\n",
      "tf.Tensor(\n",
      "[ 3.75411054e-03 -2.05488643e-04  5.46612591e-03 -4.32544039e-05\n",
      " -3.65614798e-03  4.16718330e-03 -1.72677706e-03  1.54900784e-03\n",
      "  2.51033762e-03  1.29867275e-03  1.19462376e-03  5.73855126e-04\n",
      " -3.18379235e-03 -8.99468199e-04 -3.38078104e-03 -1.15271390e-03\n",
      "  1.57743366e-03 -1.99774466e-03 -3.65549326e-03  6.45756256e-04\n",
      " -3.17351799e-03  1.35181681e-03  1.17568788e-03  4.05211840e-03\n",
      "  3.02614039e-03 -6.30714418e-03  1.06027722e-02  5.70147112e-03\n",
      "  7.19413022e-03  6.91692461e-04  1.54752634e-03 -2.42525060e-03\n",
      " -2.09906814e-03  3.44534451e-03  3.43774632e-03  9.58162069e-04\n",
      "  1.21948047e-04  2.69645266e-03 -5.09453239e-03 -1.63584820e-03\n",
      "  4.56476770e-03 -3.56104784e-03 -7.30007538e-04  3.92299658e-03\n",
      " -3.28339310e-03 -1.13562820e-03  3.79133248e-03 -6.01184135e-03\n",
      "  3.05570289e-03 -3.75792570e-03  5.51887380e-04  1.75268971e-04\n",
      " -3.23003274e-04 -3.12641729e-04  6.84873201e-04 -1.01362111e-03\n",
      " -4.91009327e-03  6.30134018e-04 -2.98180967e-03 -1.91398931e-03\n",
      " -1.00303604e-03  2.57883430e-03 -1.73620123e-03 -4.99067176e-03\n",
      "  1.61440379e-03  2.64704949e-03  5.10591688e-03 -4.41957032e-03\n",
      " -4.52939980e-03  1.05889491e-03  2.42774142e-03 -3.94820143e-03\n",
      "  7.05453055e-03  7.45107536e-05  7.41639175e-04  1.24812650e-03\n",
      "  2.20815185e-03  3.64713231e-03 -9.34526441e-04  3.32595687e-03\n",
      "  3.03506223e-03 -2.64267926e-03  3.02820071e-03 -2.59513501e-04\n",
      " -4.18749580e-04 -1.31917896e-03  3.66216153e-03 -1.40564912e-03\n",
      "  4.62240120e-03 -2.21347611e-04  4.81521431e-03  1.66278158e-03\n",
      "  1.69187435e-03  2.56325887e-03  2.46971776e-03  1.53619330e-05\n",
      "  3.04284994e-03  1.87486073e-03 -9.39506805e-04 -1.91593543e-03\n",
      " -8.69908486e-04 -3.18502262e-03  1.38486933e-03  1.02445425e-04\n",
      "  1.85655185e-03 -1.59272051e-03 -8.89196002e-04 -3.95172741e-03\n",
      " -3.54430638e-04 -6.63671526e-05 -1.30055693e-03 -4.32878034e-03\n",
      " -2.73712422e-03  7.52414053e-04 -7.85254058e-04 -2.73304922e-03\n",
      "  4.08352818e-03  7.02137942e-04 -2.40275264e-03 -1.76332158e-03\n",
      " -5.84546942e-05 -8.82881053e-04  4.36155172e-03  2.60322262e-03\n",
      " -4.29275539e-03  2.44253222e-03  3.91897699e-03  3.60414851e-03\n",
      " -6.96477015e-04  2.20198184e-03 -7.63971638e-03  2.35374225e-03\n",
      " -2.98503600e-03 -3.48933041e-03 -3.80513491e-04  8.72102799e-04\n",
      " -2.94008438e-04 -5.27768955e-03 -3.03165405e-04 -1.93672557e-03\n",
      "  4.15547797e-03 -3.76914279e-03 -1.15941209e-03 -7.89809623e-04\n",
      " -3.05001065e-03 -3.82056739e-03  2.94970442e-03 -1.60280708e-03\n",
      "  1.14424678e-03  4.57261596e-03  4.97021340e-03 -8.49768403e-05\n",
      "  6.44230691e-04  3.58814234e-03  6.66391850e-03 -1.13403192e-03\n",
      " -3.15290457e-03 -3.14672478e-03 -1.79280445e-03 -2.04543816e-03\n",
      " -1.50571635e-03 -3.78892408e-04 -4.99199843e-03  1.43756648e-03\n",
      " -3.43283080e-03 -2.44480697e-03 -5.24187787e-03 -9.13772965e-06\n",
      " -7.07063999e-04  3.71989026e-03 -4.29001078e-03 -2.03546043e-03\n",
      "  1.12348003e-04 -5.12892613e-03  1.03926065e-03  1.86130067e-03\n",
      " -7.20592495e-03  1.66675181e-03  4.76743653e-03  2.67776032e-03\n",
      " -2.48481729e-03  2.06175889e-03 -4.44109668e-04  3.93241690e-03\n",
      "  1.10852043e-03  8.32118792e-04 -3.25443689e-05  5.14965411e-03\n",
      "  3.33222421e-03  1.72944600e-03 -3.29059985e-04 -1.38159376e-03\n",
      " -6.26132998e-04 -3.23321810e-03 -2.69534718e-03  5.32202888e-04\n",
      "  5.62142639e-04  2.48517049e-03 -4.90785576e-03  3.47291352e-04\n",
      " -2.69418652e-03  5.76710887e-03 -2.58963346e-03 -6.17875252e-03\n",
      " -3.94729991e-03 -3.14416504e-03], shape=(206,), dtype=float32)\n"
     ]
    }
   ],
   "source": [
    "print('Prediction for the 1st letter of the batch 1st sequense:')\n",
    "print(example_batch_predictions[0, 0])"
   ]
  },
  {
   "cell_type": "code",
   "execution_count": 90,
   "metadata": {},
   "outputs": [
    {
     "name": "stdout",
     "output_type": "stream",
     "text": [
      "tf.Tensor([[2 1 2 2 2]], shape=(1, 5), dtype=int64)\n"
     ]
    }
   ],
   "source": [
    "# Quick overview of how tf.random.categorical() works.\n",
    "\n",
    "# logits is 2-D Tensor with shape [batch_size, num_classes].\n",
    "# Each slice [i, :] represents the unnormalized log-probabilities for all classes.\n",
    "# In the example below we say that the probability for class \"0\" is low but the\n",
    "# probability for class \"2\" is much higher.\n",
    "tmp_logits = [\n",
    "  [-0.95, 0, 0.95],\n",
    "];\n",
    "\n",
    "# Let's generate 5 samples. Each sample is a class index. Class probabilities \n",
    "# are being taken into account (we expect to see more samples of class \"2\").\n",
    "tmp_samples = tf.random.categorical(\n",
    "    logits=tmp_logits,\n",
    "    num_samples=5\n",
    ")\n",
    "\n",
    "print(tmp_samples)"
   ]
  },
  {
   "cell_type": "code",
   "execution_count": 91,
   "metadata": {},
   "outputs": [
    {
     "data": {
      "text/plain": [
       "TensorShape([6000, 1])"
      ]
     },
     "execution_count": 91,
     "metadata": {},
     "output_type": "execute_result"
    }
   ],
   "source": [
    "sampled_indices = tf.random.categorical(\n",
    "    logits=example_batch_predictions[0],\n",
    "    num_samples=1\n",
    ")\n",
    "\n",
    "sampled_indices.shape"
   ]
  },
  {
   "cell_type": "code",
   "execution_count": 92,
   "metadata": {},
   "outputs": [
    {
     "data": {
      "text/plain": [
       "(6000,)"
      ]
     },
     "execution_count": 92,
     "metadata": {},
     "output_type": "execute_result"
    }
   ],
   "source": [
    "sampled_indices = tf.squeeze(\n",
    "    input=sampled_indices,\n",
    "    axis=-1\n",
    ").numpy()\n",
    "\n",
    "sampled_indices.shape"
   ]
  },
  {
   "cell_type": "code",
   "execution_count": 93,
   "metadata": {},
   "outputs": [
    {
     "data": {
      "text/plain": [
       "array([171,  29, 169,  35,  25,  87,  48,  47,  52,  13,  48,  22, 140,\n",
       "        51,  92, 161,  45, 134, 124,   9, 142,  19, 122, 109, 159,  48,\n",
       "        31, 102, 167,   7, 150, 136, 115,  80, 152, 182, 114, 169,  47,\n",
       "        29,  89, 191,  52,  92,  18,  38, 152,  95, 154, 122,  77, 109,\n",
       "       123, 118,  96,  55, 179, 153,  50,  82, 114, 151, 203,  31,  46,\n",
       "       191, 111, 168, 176, 143, 109, 116, 153, 168, 129,  84, 158, 171,\n",
       "       202,  68, 201,  48, 142,  71,  51,  21, 150, 108, 193, 107,  59,\n",
       "       123,  90,  37, 184,  82,  96, 145, 199, 196])"
      ]
     },
     "execution_count": 93,
     "metadata": {},
     "output_type": "execute_result"
    }
   ],
   "source": [
    "sampled_indices[:100]"
   ]
  },
  {
   "cell_type": "code",
   "execution_count": 101,
   "metadata": {},
   "outputs": [
    {
     "name": "stdout",
     "output_type": "stream",
     "text": [
      "Input:\n",
      " '[ T I T L E ]   \\n A l a s k a   S a l m o n   B a k e   w i t h   P e c a n   C r u n c h   C o a t'\n",
      "\n",
      "Next char prediction:\n",
      " '¡ T ø ▪ 1 ñ 0 5 D c 0 . \\x81 A ’ ″ x ä { s ‐ b � û ‱ 0 2 $ Ü i \\u200b ́ © ® \\\\ Á + ø 5 T % ³ D ’ \\n R \\\\ ? ⅓ �'\n"
     ]
    }
   ],
   "source": [
    "print('Input:\\n', repr(''.join(tokenizer.sequences_to_texts([input_example_batch[0].numpy()[:50]]))))\n",
    "print()\n",
    "print('Next char prediction:\\n', repr(''.join(tokenizer.sequences_to_texts([sampled_indices[:50]]))))"
   ]
  },
  {
   "cell_type": "markdown",
   "metadata": {},
   "source": [
    "## Training the model"
   ]
  },
  {
   "cell_type": "markdown",
   "metadata": {},
   "source": [
    "### Attach an optimizer, and a loss function"
   ]
  },
  {
   "cell_type": "code",
   "execution_count": 102,
   "metadata": {},
   "outputs": [
    {
     "name": "stdout",
     "output_type": "stream",
     "text": [
      "Prediction shape:  (64, 6000, 206)  # (batch_size, sequence_length, vocab_size)\n",
      "scalar_loss:       5.3338003\n"
     ]
    }
   ],
   "source": [
    "# An objective function.\n",
    "# The function is any callable with the signature scalar_loss = fn(y_true, y_pred).\n",
    "def loss(labels, logits):\n",
    "    return tf.keras.losses.sparse_categorical_crossentropy(\n",
    "      y_true=labels,\n",
    "      y_pred=logits,\n",
    "      from_logits=True\n",
    "    )\n",
    "\n",
    "example_batch_loss = loss(target_example_batch, example_batch_predictions)\n",
    "\n",
    "print(\"Prediction shape: \", example_batch_predictions.shape, \" # (batch_size, sequence_length, vocab_size)\")\n",
    "print(\"scalar_loss:      \", example_batch_loss.numpy().mean())"
   ]
  },
  {
   "cell_type": "code",
   "execution_count": 103,
   "metadata": {},
   "outputs": [],
   "source": [
    "adam_optimizer = tf.keras.optimizers.Adam(learning_rate=0.001)\n",
    "\n",
    "model_1.compile(\n",
    "    optimizer=adam_optimizer,\n",
    "    loss=loss\n",
    ")"
   ]
  },
  {
   "cell_type": "markdown",
   "metadata": {},
   "source": [
    "### Configuring checkpoints"
   ]
  },
  {
   "cell_type": "code",
   "execution_count": 109,
   "metadata": {},
   "outputs": [],
   "source": [
    "early_stopping_callback = tf.keras.callbacks.EarlyStopping(\n",
    "    patience=5,\n",
    "    monitor='accuracy',\n",
    "    restore_best_weights=True,\n",
    "    verbose=1\n",
    ")"
   ]
  },
  {
   "cell_type": "code",
   "execution_count": 110,
   "metadata": {},
   "outputs": [],
   "source": [
    "# Directory where the checkpoints will be saved.\n",
    "checkpoint_dir = 'tmp/checkpoints'\n",
    "os.makedirs(checkpoint_dir, exist_ok=True)\n",
    "\n",
    "# Name of the checkpoint files\n",
    "checkpoint_prefix = os.path.join(checkpoint_dir, 'ckpt_{epoch}')\n",
    "\n",
    "checkpoint_callback=tf.keras.callbacks.ModelCheckpoint(\n",
    "    filepath=checkpoint_prefix,\n",
    "    save_weights_only=True\n",
    ")"
   ]
  },
  {
   "cell_type": "markdown",
   "metadata": {},
   "source": [
    "### Execute the training"
   ]
  },
  {
   "cell_type": "code",
   "execution_count": 115,
   "metadata": {},
   "outputs": [
    {
     "name": "stdout",
     "output_type": "stream",
     "text": [
      "Train for 1 steps\n",
      "Epoch 1/5\n",
      "1/1 [==============================] - 3s 3s/step\n"
     ]
    },
    {
     "ename": "IndexError",
     "evalue": "tuple index out of range",
     "output_type": "error",
     "traceback": [
      "\u001b[0;31m---------------------------------------------------------------------------\u001b[0m",
      "\u001b[0;31mIndexError\u001b[0m                                Traceback (most recent call last)",
      "\u001b[0;32m<ipython-input-115-12267cc6f1b9>\u001b[0m in \u001b[0;36m<module>\u001b[0;34m\u001b[0m\n\u001b[1;32m      2\u001b[0m     \u001b[0mx\u001b[0m\u001b[0;34m=\u001b[0m\u001b[0mdataset\u001b[0m\u001b[0;34m,\u001b[0m\u001b[0;34m\u001b[0m\u001b[0;34m\u001b[0m\u001b[0m\n\u001b[1;32m      3\u001b[0m     \u001b[0mepochs\u001b[0m\u001b[0;34m=\u001b[0m\u001b[0;36m5\u001b[0m\u001b[0;34m,\u001b[0m\u001b[0;34m\u001b[0m\u001b[0;34m\u001b[0m\u001b[0m\n\u001b[0;32m----> 4\u001b[0;31m     \u001b[0msteps_per_epoch\u001b[0m\u001b[0;34m=\u001b[0m\u001b[0;36m1\u001b[0m\u001b[0;34m\u001b[0m\u001b[0;34m\u001b[0m\u001b[0m\n\u001b[0m\u001b[1;32m      5\u001b[0m \u001b[0;31m#   callbacks=[\u001b[0m\u001b[0;34m\u001b[0m\u001b[0;34m\u001b[0m\u001b[0;34m\u001b[0m\u001b[0m\n\u001b[1;32m      6\u001b[0m \u001b[0;31m#     checkpoint_callback\u001b[0m\u001b[0;34m\u001b[0m\u001b[0;34m\u001b[0m\u001b[0;34m\u001b[0m\u001b[0m\n",
      "\u001b[0;32m~/Projects/machine-learning-experiments/.virtualenvs/experiments/lib/python3.7/site-packages/tensorflow_core/python/keras/engine/training.py\u001b[0m in \u001b[0;36mfit\u001b[0;34m(self, x, y, batch_size, epochs, verbose, callbacks, validation_split, validation_data, shuffle, class_weight, sample_weight, initial_epoch, steps_per_epoch, validation_steps, validation_freq, max_queue_size, workers, use_multiprocessing, **kwargs)\u001b[0m\n\u001b[1;32m    817\u001b[0m         \u001b[0mmax_queue_size\u001b[0m\u001b[0;34m=\u001b[0m\u001b[0mmax_queue_size\u001b[0m\u001b[0;34m,\u001b[0m\u001b[0;34m\u001b[0m\u001b[0;34m\u001b[0m\u001b[0m\n\u001b[1;32m    818\u001b[0m         \u001b[0mworkers\u001b[0m\u001b[0;34m=\u001b[0m\u001b[0mworkers\u001b[0m\u001b[0;34m,\u001b[0m\u001b[0;34m\u001b[0m\u001b[0;34m\u001b[0m\u001b[0m\n\u001b[0;32m--> 819\u001b[0;31m         use_multiprocessing=use_multiprocessing)\n\u001b[0m\u001b[1;32m    820\u001b[0m \u001b[0;34m\u001b[0m\u001b[0m\n\u001b[1;32m    821\u001b[0m   def evaluate(self,\n",
      "\u001b[0;32m~/Projects/machine-learning-experiments/.virtualenvs/experiments/lib/python3.7/site-packages/tensorflow_core/python/keras/engine/training_v2.py\u001b[0m in \u001b[0;36mfit\u001b[0;34m(self, model, x, y, batch_size, epochs, verbose, callbacks, validation_split, validation_data, shuffle, class_weight, sample_weight, initial_epoch, steps_per_epoch, validation_steps, validation_freq, max_queue_size, workers, use_multiprocessing, **kwargs)\u001b[0m\n\u001b[1;32m    340\u001b[0m                 \u001b[0mmode\u001b[0m\u001b[0;34m=\u001b[0m\u001b[0mModeKeys\u001b[0m\u001b[0;34m.\u001b[0m\u001b[0mTRAIN\u001b[0m\u001b[0;34m,\u001b[0m\u001b[0;34m\u001b[0m\u001b[0;34m\u001b[0m\u001b[0m\n\u001b[1;32m    341\u001b[0m                 \u001b[0mtraining_context\u001b[0m\u001b[0;34m=\u001b[0m\u001b[0mtraining_context\u001b[0m\u001b[0;34m,\u001b[0m\u001b[0;34m\u001b[0m\u001b[0;34m\u001b[0m\u001b[0m\n\u001b[0;32m--> 342\u001b[0;31m                 total_epochs=epochs)\n\u001b[0m\u001b[1;32m    343\u001b[0m             \u001b[0mcbks\u001b[0m\u001b[0;34m.\u001b[0m\u001b[0mmake_logs\u001b[0m\u001b[0;34m(\u001b[0m\u001b[0mmodel\u001b[0m\u001b[0;34m,\u001b[0m \u001b[0mepoch_logs\u001b[0m\u001b[0;34m,\u001b[0m \u001b[0mtraining_result\u001b[0m\u001b[0;34m,\u001b[0m \u001b[0mModeKeys\u001b[0m\u001b[0;34m.\u001b[0m\u001b[0mTRAIN\u001b[0m\u001b[0;34m)\u001b[0m\u001b[0;34m\u001b[0m\u001b[0;34m\u001b[0m\u001b[0m\n\u001b[1;32m    344\u001b[0m \u001b[0;34m\u001b[0m\u001b[0m\n",
      "\u001b[0;32m~/Projects/machine-learning-experiments/.virtualenvs/experiments/lib/python3.7/site-packages/tensorflow_core/python/keras/engine/training_v2.py\u001b[0m in \u001b[0;36mrun_one_epoch\u001b[0;34m(model, iterator, execution_function, dataset_size, batch_size, strategy, steps_per_epoch, num_samples, mode, training_context, total_epochs)\u001b[0m\n\u001b[1;32m    126\u001b[0m         step=step, mode=mode, size=current_batch_size) as batch_logs:\n\u001b[1;32m    127\u001b[0m       \u001b[0;32mtry\u001b[0m\u001b[0;34m:\u001b[0m\u001b[0;34m\u001b[0m\u001b[0;34m\u001b[0m\u001b[0m\n\u001b[0;32m--> 128\u001b[0;31m         \u001b[0mbatch_outs\u001b[0m \u001b[0;34m=\u001b[0m \u001b[0mexecution_function\u001b[0m\u001b[0;34m(\u001b[0m\u001b[0miterator\u001b[0m\u001b[0;34m)\u001b[0m\u001b[0;34m\u001b[0m\u001b[0;34m\u001b[0m\u001b[0m\n\u001b[0m\u001b[1;32m    129\u001b[0m       \u001b[0;32mexcept\u001b[0m \u001b[0;34m(\u001b[0m\u001b[0mStopIteration\u001b[0m\u001b[0;34m,\u001b[0m \u001b[0merrors\u001b[0m\u001b[0;34m.\u001b[0m\u001b[0mOutOfRangeError\u001b[0m\u001b[0;34m)\u001b[0m\u001b[0;34m:\u001b[0m\u001b[0;34m\u001b[0m\u001b[0;34m\u001b[0m\u001b[0m\n\u001b[1;32m    130\u001b[0m         \u001b[0;31m# TODO(kaftan): File bug about tf function and errors.OutOfRangeError?\u001b[0m\u001b[0;34m\u001b[0m\u001b[0;34m\u001b[0m\u001b[0;34m\u001b[0m\u001b[0m\n",
      "\u001b[0;32m~/Projects/machine-learning-experiments/.virtualenvs/experiments/lib/python3.7/site-packages/tensorflow_core/python/keras/engine/training_v2_utils.py\u001b[0m in \u001b[0;36mexecution_function\u001b[0;34m(input_fn)\u001b[0m\n\u001b[1;32m     96\u001b[0m     \u001b[0;31m# `numpy` translates Tensors to values in Eager mode.\u001b[0m\u001b[0;34m\u001b[0m\u001b[0;34m\u001b[0m\u001b[0;34m\u001b[0m\u001b[0m\n\u001b[1;32m     97\u001b[0m     return nest.map_structure(_non_none_constant_value,\n\u001b[0;32m---> 98\u001b[0;31m                               distributed_function(input_fn))\n\u001b[0m\u001b[1;32m     99\u001b[0m \u001b[0;34m\u001b[0m\u001b[0m\n\u001b[1;32m    100\u001b[0m   \u001b[0;32mreturn\u001b[0m \u001b[0mexecution_function\u001b[0m\u001b[0;34m\u001b[0m\u001b[0;34m\u001b[0m\u001b[0m\n",
      "\u001b[0;32m~/Projects/machine-learning-experiments/.virtualenvs/experiments/lib/python3.7/site-packages/tensorflow_core/python/eager/def_function.py\u001b[0m in \u001b[0;36m__call__\u001b[0;34m(self, *args, **kwds)\u001b[0m\n\u001b[1;32m    566\u001b[0m         \u001b[0mxla_context\u001b[0m\u001b[0;34m.\u001b[0m\u001b[0mExit\u001b[0m\u001b[0;34m(\u001b[0m\u001b[0;34m)\u001b[0m\u001b[0;34m\u001b[0m\u001b[0;34m\u001b[0m\u001b[0m\n\u001b[1;32m    567\u001b[0m     \u001b[0;32melse\u001b[0m\u001b[0;34m:\u001b[0m\u001b[0;34m\u001b[0m\u001b[0;34m\u001b[0m\u001b[0m\n\u001b[0;32m--> 568\u001b[0;31m       \u001b[0mresult\u001b[0m \u001b[0;34m=\u001b[0m \u001b[0mself\u001b[0m\u001b[0;34m.\u001b[0m\u001b[0m_call\u001b[0m\u001b[0;34m(\u001b[0m\u001b[0;34m*\u001b[0m\u001b[0margs\u001b[0m\u001b[0;34m,\u001b[0m \u001b[0;34m**\u001b[0m\u001b[0mkwds\u001b[0m\u001b[0;34m)\u001b[0m\u001b[0;34m\u001b[0m\u001b[0;34m\u001b[0m\u001b[0m\n\u001b[0m\u001b[1;32m    569\u001b[0m \u001b[0;34m\u001b[0m\u001b[0m\n\u001b[1;32m    570\u001b[0m     \u001b[0;32mif\u001b[0m \u001b[0mtracing_count\u001b[0m \u001b[0;34m==\u001b[0m \u001b[0mself\u001b[0m\u001b[0;34m.\u001b[0m\u001b[0m_get_tracing_count\u001b[0m\u001b[0;34m(\u001b[0m\u001b[0;34m)\u001b[0m\u001b[0;34m:\u001b[0m\u001b[0;34m\u001b[0m\u001b[0;34m\u001b[0m\u001b[0m\n",
      "\u001b[0;32m~/Projects/machine-learning-experiments/.virtualenvs/experiments/lib/python3.7/site-packages/tensorflow_core/python/eager/def_function.py\u001b[0m in \u001b[0;36m_call\u001b[0;34m(self, *args, **kwds)\u001b[0m\n\u001b[1;32m    604\u001b[0m       \u001b[0;31m# In this case we have not created variables on the first call. So we can\u001b[0m\u001b[0;34m\u001b[0m\u001b[0;34m\u001b[0m\u001b[0;34m\u001b[0m\u001b[0m\n\u001b[1;32m    605\u001b[0m       \u001b[0;31m# run the first trace but we should fail if variables are created.\u001b[0m\u001b[0;34m\u001b[0m\u001b[0;34m\u001b[0m\u001b[0;34m\u001b[0m\u001b[0m\n\u001b[0;32m--> 606\u001b[0;31m       \u001b[0mresults\u001b[0m \u001b[0;34m=\u001b[0m \u001b[0mself\u001b[0m\u001b[0;34m.\u001b[0m\u001b[0m_stateful_fn\u001b[0m\u001b[0;34m(\u001b[0m\u001b[0;34m*\u001b[0m\u001b[0margs\u001b[0m\u001b[0;34m,\u001b[0m \u001b[0;34m**\u001b[0m\u001b[0mkwds\u001b[0m\u001b[0;34m)\u001b[0m\u001b[0;34m\u001b[0m\u001b[0;34m\u001b[0m\u001b[0m\n\u001b[0m\u001b[1;32m    607\u001b[0m       \u001b[0;32mif\u001b[0m \u001b[0mself\u001b[0m\u001b[0;34m.\u001b[0m\u001b[0m_created_variables\u001b[0m\u001b[0;34m:\u001b[0m\u001b[0;34m\u001b[0m\u001b[0;34m\u001b[0m\u001b[0m\n\u001b[1;32m    608\u001b[0m         raise ValueError(\"Creating variables on a non-first call to a function\"\n",
      "\u001b[0;32m~/Projects/machine-learning-experiments/.virtualenvs/experiments/lib/python3.7/site-packages/tensorflow_core/python/eager/function.py\u001b[0m in \u001b[0;36m__call__\u001b[0;34m(self, *args, **kwargs)\u001b[0m\n\u001b[1;32m   2360\u001b[0m     \u001b[0;34m\"\"\"Calls a graph function specialized to the inputs.\"\"\"\u001b[0m\u001b[0;34m\u001b[0m\u001b[0;34m\u001b[0m\u001b[0m\n\u001b[1;32m   2361\u001b[0m     \u001b[0;32mwith\u001b[0m \u001b[0mself\u001b[0m\u001b[0;34m.\u001b[0m\u001b[0m_lock\u001b[0m\u001b[0;34m:\u001b[0m\u001b[0;34m\u001b[0m\u001b[0;34m\u001b[0m\u001b[0m\n\u001b[0;32m-> 2362\u001b[0;31m       \u001b[0mgraph_function\u001b[0m\u001b[0;34m,\u001b[0m \u001b[0margs\u001b[0m\u001b[0;34m,\u001b[0m \u001b[0mkwargs\u001b[0m \u001b[0;34m=\u001b[0m \u001b[0mself\u001b[0m\u001b[0;34m.\u001b[0m\u001b[0m_maybe_define_function\u001b[0m\u001b[0;34m(\u001b[0m\u001b[0margs\u001b[0m\u001b[0;34m,\u001b[0m \u001b[0mkwargs\u001b[0m\u001b[0;34m)\u001b[0m\u001b[0;34m\u001b[0m\u001b[0;34m\u001b[0m\u001b[0m\n\u001b[0m\u001b[1;32m   2363\u001b[0m     \u001b[0;32mreturn\u001b[0m \u001b[0mgraph_function\u001b[0m\u001b[0;34m.\u001b[0m\u001b[0m_filtered_call\u001b[0m\u001b[0;34m(\u001b[0m\u001b[0margs\u001b[0m\u001b[0;34m,\u001b[0m \u001b[0mkwargs\u001b[0m\u001b[0;34m)\u001b[0m  \u001b[0;31m# pylint: disable=protected-access\u001b[0m\u001b[0;34m\u001b[0m\u001b[0;34m\u001b[0m\u001b[0m\n\u001b[1;32m   2364\u001b[0m \u001b[0;34m\u001b[0m\u001b[0m\n",
      "\u001b[0;32m~/Projects/machine-learning-experiments/.virtualenvs/experiments/lib/python3.7/site-packages/tensorflow_core/python/eager/function.py\u001b[0m in \u001b[0;36m_maybe_define_function\u001b[0;34m(self, args, kwargs)\u001b[0m\n\u001b[1;32m   2701\u001b[0m \u001b[0;34m\u001b[0m\u001b[0m\n\u001b[1;32m   2702\u001b[0m       \u001b[0mself\u001b[0m\u001b[0;34m.\u001b[0m\u001b[0m_function_cache\u001b[0m\u001b[0;34m.\u001b[0m\u001b[0mmissed\u001b[0m\u001b[0;34m.\u001b[0m\u001b[0madd\u001b[0m\u001b[0;34m(\u001b[0m\u001b[0mcall_context_key\u001b[0m\u001b[0;34m)\u001b[0m\u001b[0;34m\u001b[0m\u001b[0;34m\u001b[0m\u001b[0m\n\u001b[0;32m-> 2703\u001b[0;31m       \u001b[0mgraph_function\u001b[0m \u001b[0;34m=\u001b[0m \u001b[0mself\u001b[0m\u001b[0;34m.\u001b[0m\u001b[0m_create_graph_function\u001b[0m\u001b[0;34m(\u001b[0m\u001b[0margs\u001b[0m\u001b[0;34m,\u001b[0m \u001b[0mkwargs\u001b[0m\u001b[0;34m)\u001b[0m\u001b[0;34m\u001b[0m\u001b[0;34m\u001b[0m\u001b[0m\n\u001b[0m\u001b[1;32m   2704\u001b[0m       \u001b[0mself\u001b[0m\u001b[0;34m.\u001b[0m\u001b[0m_function_cache\u001b[0m\u001b[0;34m.\u001b[0m\u001b[0mprimary\u001b[0m\u001b[0;34m[\u001b[0m\u001b[0mcache_key\u001b[0m\u001b[0;34m]\u001b[0m \u001b[0;34m=\u001b[0m \u001b[0mgraph_function\u001b[0m\u001b[0;34m\u001b[0m\u001b[0;34m\u001b[0m\u001b[0m\n\u001b[1;32m   2705\u001b[0m       \u001b[0;32mreturn\u001b[0m \u001b[0mgraph_function\u001b[0m\u001b[0;34m,\u001b[0m \u001b[0margs\u001b[0m\u001b[0;34m,\u001b[0m \u001b[0mkwargs\u001b[0m\u001b[0;34m\u001b[0m\u001b[0;34m\u001b[0m\u001b[0m\n",
      "\u001b[0;32m~/Projects/machine-learning-experiments/.virtualenvs/experiments/lib/python3.7/site-packages/tensorflow_core/python/eager/function.py\u001b[0m in \u001b[0;36m_create_graph_function\u001b[0;34m(self, args, kwargs, override_flat_arg_shapes)\u001b[0m\n\u001b[1;32m   2591\u001b[0m             \u001b[0marg_names\u001b[0m\u001b[0;34m=\u001b[0m\u001b[0marg_names\u001b[0m\u001b[0;34m,\u001b[0m\u001b[0;34m\u001b[0m\u001b[0;34m\u001b[0m\u001b[0m\n\u001b[1;32m   2592\u001b[0m             \u001b[0moverride_flat_arg_shapes\u001b[0m\u001b[0;34m=\u001b[0m\u001b[0moverride_flat_arg_shapes\u001b[0m\u001b[0;34m,\u001b[0m\u001b[0;34m\u001b[0m\u001b[0;34m\u001b[0m\u001b[0m\n\u001b[0;32m-> 2593\u001b[0;31m             capture_by_value=self._capture_by_value),\n\u001b[0m\u001b[1;32m   2594\u001b[0m         \u001b[0mself\u001b[0m\u001b[0;34m.\u001b[0m\u001b[0m_function_attributes\u001b[0m\u001b[0;34m,\u001b[0m\u001b[0;34m\u001b[0m\u001b[0;34m\u001b[0m\u001b[0m\n\u001b[1;32m   2595\u001b[0m         \u001b[0;31m# Tell the ConcreteFunction to clean up its graph once it goes out of\u001b[0m\u001b[0;34m\u001b[0m\u001b[0;34m\u001b[0m\u001b[0;34m\u001b[0m\u001b[0m\n",
      "\u001b[0;32m~/Projects/machine-learning-experiments/.virtualenvs/experiments/lib/python3.7/site-packages/tensorflow_core/python/framework/func_graph.py\u001b[0m in \u001b[0;36mfunc_graph_from_py_func\u001b[0;34m(name, python_func, args, kwargs, signature, func_graph, autograph, autograph_options, add_control_dependencies, arg_names, op_return_value, collections, capture_by_value, override_flat_arg_shapes)\u001b[0m\n\u001b[1;32m    976\u001b[0m                                           converted_func)\n\u001b[1;32m    977\u001b[0m \u001b[0;34m\u001b[0m\u001b[0m\n\u001b[0;32m--> 978\u001b[0;31m       \u001b[0mfunc_outputs\u001b[0m \u001b[0;34m=\u001b[0m \u001b[0mpython_func\u001b[0m\u001b[0;34m(\u001b[0m\u001b[0;34m*\u001b[0m\u001b[0mfunc_args\u001b[0m\u001b[0;34m,\u001b[0m \u001b[0;34m**\u001b[0m\u001b[0mfunc_kwargs\u001b[0m\u001b[0;34m)\u001b[0m\u001b[0;34m\u001b[0m\u001b[0;34m\u001b[0m\u001b[0m\n\u001b[0m\u001b[1;32m    979\u001b[0m \u001b[0;34m\u001b[0m\u001b[0m\n\u001b[1;32m    980\u001b[0m       \u001b[0;31m# invariant: `func_outputs` contains only Tensors, CompositeTensors,\u001b[0m\u001b[0;34m\u001b[0m\u001b[0;34m\u001b[0m\u001b[0;34m\u001b[0m\u001b[0m\n",
      "\u001b[0;32m~/Projects/machine-learning-experiments/.virtualenvs/experiments/lib/python3.7/site-packages/tensorflow_core/python/eager/def_function.py\u001b[0m in \u001b[0;36mwrapped_fn\u001b[0;34m(*args, **kwds)\u001b[0m\n\u001b[1;32m    437\u001b[0m         \u001b[0;31m# __wrapped__ allows AutoGraph to swap in a converted function. We give\u001b[0m\u001b[0;34m\u001b[0m\u001b[0;34m\u001b[0m\u001b[0;34m\u001b[0m\u001b[0m\n\u001b[1;32m    438\u001b[0m         \u001b[0;31m# the function a weak reference to itself to avoid a reference cycle.\u001b[0m\u001b[0;34m\u001b[0m\u001b[0;34m\u001b[0m\u001b[0;34m\u001b[0m\u001b[0m\n\u001b[0;32m--> 439\u001b[0;31m         \u001b[0;32mreturn\u001b[0m \u001b[0mweak_wrapped_fn\u001b[0m\u001b[0;34m(\u001b[0m\u001b[0;34m)\u001b[0m\u001b[0;34m.\u001b[0m\u001b[0m__wrapped__\u001b[0m\u001b[0;34m(\u001b[0m\u001b[0;34m*\u001b[0m\u001b[0margs\u001b[0m\u001b[0;34m,\u001b[0m \u001b[0;34m**\u001b[0m\u001b[0mkwds\u001b[0m\u001b[0;34m)\u001b[0m\u001b[0;34m\u001b[0m\u001b[0;34m\u001b[0m\u001b[0m\n\u001b[0m\u001b[1;32m    440\u001b[0m     \u001b[0mweak_wrapped_fn\u001b[0m \u001b[0;34m=\u001b[0m \u001b[0mweakref\u001b[0m\u001b[0;34m.\u001b[0m\u001b[0mref\u001b[0m\u001b[0;34m(\u001b[0m\u001b[0mwrapped_fn\u001b[0m\u001b[0;34m)\u001b[0m\u001b[0;34m\u001b[0m\u001b[0;34m\u001b[0m\u001b[0m\n\u001b[1;32m    441\u001b[0m \u001b[0;34m\u001b[0m\u001b[0m\n",
      "\u001b[0;32m~/Projects/machine-learning-experiments/.virtualenvs/experiments/lib/python3.7/site-packages/tensorflow_core/python/keras/engine/training_v2_utils.py\u001b[0m in \u001b[0;36mdistributed_function\u001b[0;34m(input_iterator)\u001b[0m\n\u001b[1;32m     83\u001b[0m     \u001b[0margs\u001b[0m \u001b[0;34m=\u001b[0m \u001b[0m_prepare_feed_values\u001b[0m\u001b[0;34m(\u001b[0m\u001b[0mmodel\u001b[0m\u001b[0;34m,\u001b[0m \u001b[0minput_iterator\u001b[0m\u001b[0;34m,\u001b[0m \u001b[0mmode\u001b[0m\u001b[0;34m,\u001b[0m \u001b[0mstrategy\u001b[0m\u001b[0;34m)\u001b[0m\u001b[0;34m\u001b[0m\u001b[0;34m\u001b[0m\u001b[0m\n\u001b[1;32m     84\u001b[0m     outputs = strategy.experimental_run_v2(\n\u001b[0;32m---> 85\u001b[0;31m         per_replica_function, args=args)\n\u001b[0m\u001b[1;32m     86\u001b[0m     \u001b[0;31m# Out of PerReplica outputs reduce or pick values to return.\u001b[0m\u001b[0;34m\u001b[0m\u001b[0;34m\u001b[0m\u001b[0;34m\u001b[0m\u001b[0m\n\u001b[1;32m     87\u001b[0m     all_outputs = dist_utils.unwrap_output_dict(\n",
      "\u001b[0;32m~/Projects/machine-learning-experiments/.virtualenvs/experiments/lib/python3.7/site-packages/tensorflow_core/python/distribute/distribute_lib.py\u001b[0m in \u001b[0;36mexperimental_run_v2\u001b[0;34m(self, fn, args, kwargs)\u001b[0m\n\u001b[1;32m    761\u001b[0m       fn = autograph.tf_convert(fn, ag_ctx.control_status_ctx(),\n\u001b[1;32m    762\u001b[0m                                 convert_by_default=False)\n\u001b[0;32m--> 763\u001b[0;31m       \u001b[0;32mreturn\u001b[0m \u001b[0mself\u001b[0m\u001b[0;34m.\u001b[0m\u001b[0m_extended\u001b[0m\u001b[0;34m.\u001b[0m\u001b[0mcall_for_each_replica\u001b[0m\u001b[0;34m(\u001b[0m\u001b[0mfn\u001b[0m\u001b[0;34m,\u001b[0m \u001b[0margs\u001b[0m\u001b[0;34m=\u001b[0m\u001b[0margs\u001b[0m\u001b[0;34m,\u001b[0m \u001b[0mkwargs\u001b[0m\u001b[0;34m=\u001b[0m\u001b[0mkwargs\u001b[0m\u001b[0;34m)\u001b[0m\u001b[0;34m\u001b[0m\u001b[0;34m\u001b[0m\u001b[0m\n\u001b[0m\u001b[1;32m    764\u001b[0m \u001b[0;34m\u001b[0m\u001b[0m\n\u001b[1;32m    765\u001b[0m   \u001b[0;32mdef\u001b[0m \u001b[0mreduce\u001b[0m\u001b[0;34m(\u001b[0m\u001b[0mself\u001b[0m\u001b[0;34m,\u001b[0m \u001b[0mreduce_op\u001b[0m\u001b[0;34m,\u001b[0m \u001b[0mvalue\u001b[0m\u001b[0;34m,\u001b[0m \u001b[0maxis\u001b[0m\u001b[0;34m)\u001b[0m\u001b[0;34m:\u001b[0m\u001b[0;34m\u001b[0m\u001b[0;34m\u001b[0m\u001b[0m\n",
      "\u001b[0;32m~/Projects/machine-learning-experiments/.virtualenvs/experiments/lib/python3.7/site-packages/tensorflow_core/python/distribute/distribute_lib.py\u001b[0m in \u001b[0;36mcall_for_each_replica\u001b[0;34m(self, fn, args, kwargs)\u001b[0m\n\u001b[1;32m   1817\u001b[0m       \u001b[0mkwargs\u001b[0m \u001b[0;34m=\u001b[0m \u001b[0;34m{\u001b[0m\u001b[0;34m}\u001b[0m\u001b[0;34m\u001b[0m\u001b[0;34m\u001b[0m\u001b[0m\n\u001b[1;32m   1818\u001b[0m     \u001b[0;32mwith\u001b[0m \u001b[0mself\u001b[0m\u001b[0;34m.\u001b[0m\u001b[0m_container_strategy\u001b[0m\u001b[0;34m(\u001b[0m\u001b[0;34m)\u001b[0m\u001b[0;34m.\u001b[0m\u001b[0mscope\u001b[0m\u001b[0;34m(\u001b[0m\u001b[0;34m)\u001b[0m\u001b[0;34m:\u001b[0m\u001b[0;34m\u001b[0m\u001b[0;34m\u001b[0m\u001b[0m\n\u001b[0;32m-> 1819\u001b[0;31m       \u001b[0;32mreturn\u001b[0m \u001b[0mself\u001b[0m\u001b[0;34m.\u001b[0m\u001b[0m_call_for_each_replica\u001b[0m\u001b[0;34m(\u001b[0m\u001b[0mfn\u001b[0m\u001b[0;34m,\u001b[0m \u001b[0margs\u001b[0m\u001b[0;34m,\u001b[0m \u001b[0mkwargs\u001b[0m\u001b[0;34m)\u001b[0m\u001b[0;34m\u001b[0m\u001b[0;34m\u001b[0m\u001b[0m\n\u001b[0m\u001b[1;32m   1820\u001b[0m \u001b[0;34m\u001b[0m\u001b[0m\n\u001b[1;32m   1821\u001b[0m   \u001b[0;32mdef\u001b[0m \u001b[0m_call_for_each_replica\u001b[0m\u001b[0;34m(\u001b[0m\u001b[0mself\u001b[0m\u001b[0;34m,\u001b[0m \u001b[0mfn\u001b[0m\u001b[0;34m,\u001b[0m \u001b[0margs\u001b[0m\u001b[0;34m,\u001b[0m \u001b[0mkwargs\u001b[0m\u001b[0;34m)\u001b[0m\u001b[0;34m:\u001b[0m\u001b[0;34m\u001b[0m\u001b[0;34m\u001b[0m\u001b[0m\n",
      "\u001b[0;32m~/Projects/machine-learning-experiments/.virtualenvs/experiments/lib/python3.7/site-packages/tensorflow_core/python/distribute/distribute_lib.py\u001b[0m in \u001b[0;36m_call_for_each_replica\u001b[0;34m(self, fn, args, kwargs)\u001b[0m\n\u001b[1;32m   2162\u001b[0m         \u001b[0mself\u001b[0m\u001b[0;34m.\u001b[0m\u001b[0m_container_strategy\u001b[0m\u001b[0;34m(\u001b[0m\u001b[0;34m)\u001b[0m\u001b[0;34m,\u001b[0m\u001b[0;34m\u001b[0m\u001b[0;34m\u001b[0m\u001b[0m\n\u001b[1;32m   2163\u001b[0m         replica_id_in_sync_group=constant_op.constant(0, dtypes.int32)):\n\u001b[0;32m-> 2164\u001b[0;31m       \u001b[0;32mreturn\u001b[0m \u001b[0mfn\u001b[0m\u001b[0;34m(\u001b[0m\u001b[0;34m*\u001b[0m\u001b[0margs\u001b[0m\u001b[0;34m,\u001b[0m \u001b[0;34m**\u001b[0m\u001b[0mkwargs\u001b[0m\u001b[0;34m)\u001b[0m\u001b[0;34m\u001b[0m\u001b[0;34m\u001b[0m\u001b[0m\n\u001b[0m\u001b[1;32m   2165\u001b[0m \u001b[0;34m\u001b[0m\u001b[0m\n\u001b[1;32m   2166\u001b[0m   \u001b[0;32mdef\u001b[0m \u001b[0m_reduce_to\u001b[0m\u001b[0;34m(\u001b[0m\u001b[0mself\u001b[0m\u001b[0;34m,\u001b[0m \u001b[0mreduce_op\u001b[0m\u001b[0;34m,\u001b[0m \u001b[0mvalue\u001b[0m\u001b[0;34m,\u001b[0m \u001b[0mdestinations\u001b[0m\u001b[0;34m)\u001b[0m\u001b[0;34m:\u001b[0m\u001b[0;34m\u001b[0m\u001b[0;34m\u001b[0m\u001b[0m\n",
      "\u001b[0;32m~/Projects/machine-learning-experiments/.virtualenvs/experiments/lib/python3.7/site-packages/tensorflow_core/python/autograph/impl/api.py\u001b[0m in \u001b[0;36mwrapper\u001b[0;34m(*args, **kwargs)\u001b[0m\n\u001b[1;32m    290\u001b[0m   \u001b[0;32mdef\u001b[0m \u001b[0mwrapper\u001b[0m\u001b[0;34m(\u001b[0m\u001b[0;34m*\u001b[0m\u001b[0margs\u001b[0m\u001b[0;34m,\u001b[0m \u001b[0;34m**\u001b[0m\u001b[0mkwargs\u001b[0m\u001b[0;34m)\u001b[0m\u001b[0;34m:\u001b[0m\u001b[0;34m\u001b[0m\u001b[0;34m\u001b[0m\u001b[0m\n\u001b[1;32m    291\u001b[0m     \u001b[0;32mwith\u001b[0m \u001b[0mag_ctx\u001b[0m\u001b[0;34m.\u001b[0m\u001b[0mControlStatusCtx\u001b[0m\u001b[0;34m(\u001b[0m\u001b[0mstatus\u001b[0m\u001b[0;34m=\u001b[0m\u001b[0mag_ctx\u001b[0m\u001b[0;34m.\u001b[0m\u001b[0mStatus\u001b[0m\u001b[0;34m.\u001b[0m\u001b[0mDISABLED\u001b[0m\u001b[0;34m)\u001b[0m\u001b[0;34m:\u001b[0m\u001b[0;34m\u001b[0m\u001b[0;34m\u001b[0m\u001b[0m\n\u001b[0;32m--> 292\u001b[0;31m       \u001b[0;32mreturn\u001b[0m \u001b[0mfunc\u001b[0m\u001b[0;34m(\u001b[0m\u001b[0;34m*\u001b[0m\u001b[0margs\u001b[0m\u001b[0;34m,\u001b[0m \u001b[0;34m**\u001b[0m\u001b[0mkwargs\u001b[0m\u001b[0;34m)\u001b[0m\u001b[0;34m\u001b[0m\u001b[0;34m\u001b[0m\u001b[0m\n\u001b[0m\u001b[1;32m    293\u001b[0m \u001b[0;34m\u001b[0m\u001b[0m\n\u001b[1;32m    294\u001b[0m   \u001b[0;32mif\u001b[0m \u001b[0minspect\u001b[0m\u001b[0;34m.\u001b[0m\u001b[0misfunction\u001b[0m\u001b[0;34m(\u001b[0m\u001b[0mfunc\u001b[0m\u001b[0;34m)\u001b[0m \u001b[0;32mor\u001b[0m \u001b[0minspect\u001b[0m\u001b[0;34m.\u001b[0m\u001b[0mismethod\u001b[0m\u001b[0;34m(\u001b[0m\u001b[0mfunc\u001b[0m\u001b[0;34m)\u001b[0m\u001b[0;34m:\u001b[0m\u001b[0;34m\u001b[0m\u001b[0;34m\u001b[0m\u001b[0m\n",
      "\u001b[0;32m~/Projects/machine-learning-experiments/.virtualenvs/experiments/lib/python3.7/site-packages/tensorflow_core/python/keras/engine/training_v2_utils.py\u001b[0m in \u001b[0;36mtrain_on_batch\u001b[0;34m(model, x, y, sample_weight, class_weight, reset_metrics, standalone)\u001b[0m\n\u001b[1;32m    414\u001b[0m   x, y, sample_weights = model._standardize_user_data(\n\u001b[1;32m    415\u001b[0m       \u001b[0mx\u001b[0m\u001b[0;34m,\u001b[0m \u001b[0my\u001b[0m\u001b[0;34m,\u001b[0m \u001b[0msample_weight\u001b[0m\u001b[0;34m=\u001b[0m\u001b[0msample_weight\u001b[0m\u001b[0;34m,\u001b[0m \u001b[0mclass_weight\u001b[0m\u001b[0;34m=\u001b[0m\u001b[0mclass_weight\u001b[0m\u001b[0;34m,\u001b[0m\u001b[0;34m\u001b[0m\u001b[0;34m\u001b[0m\u001b[0m\n\u001b[0;32m--> 416\u001b[0;31m       extract_tensors_from_dataset=True)\n\u001b[0m\u001b[1;32m    417\u001b[0m   \u001b[0mbatch_size\u001b[0m \u001b[0;34m=\u001b[0m \u001b[0marray_ops\u001b[0m\u001b[0;34m.\u001b[0m\u001b[0mshape\u001b[0m\u001b[0;34m(\u001b[0m\u001b[0mnest\u001b[0m\u001b[0;34m.\u001b[0m\u001b[0mflatten\u001b[0m\u001b[0;34m(\u001b[0m\u001b[0mx\u001b[0m\u001b[0;34m,\u001b[0m \u001b[0mexpand_composites\u001b[0m\u001b[0;34m=\u001b[0m\u001b[0;32mTrue\u001b[0m\u001b[0;34m)\u001b[0m\u001b[0;34m[\u001b[0m\u001b[0;36m0\u001b[0m\u001b[0;34m]\u001b[0m\u001b[0;34m)\u001b[0m\u001b[0;34m[\u001b[0m\u001b[0;36m0\u001b[0m\u001b[0;34m]\u001b[0m\u001b[0;34m\u001b[0m\u001b[0;34m\u001b[0m\u001b[0m\n\u001b[1;32m    418\u001b[0m   \u001b[0;31m# If `model._distribution_strategy` is True, then we are in a replica context\u001b[0m\u001b[0;34m\u001b[0m\u001b[0;34m\u001b[0m\u001b[0;34m\u001b[0m\u001b[0m\n",
      "\u001b[0;32m~/Projects/machine-learning-experiments/.virtualenvs/experiments/lib/python3.7/site-packages/tensorflow_core/python/keras/engine/training.py\u001b[0m in \u001b[0;36m_standardize_user_data\u001b[0;34m(self, x, y, sample_weight, class_weight, batch_size, check_steps, steps_name, steps, validation_split, shuffle, extract_tensors_from_dataset)\u001b[0m\n\u001b[1;32m   2381\u001b[0m         \u001b[0mis_dataset\u001b[0m\u001b[0;34m=\u001b[0m\u001b[0mis_dataset\u001b[0m\u001b[0;34m,\u001b[0m\u001b[0;34m\u001b[0m\u001b[0;34m\u001b[0m\u001b[0m\n\u001b[1;32m   2382\u001b[0m         \u001b[0mclass_weight\u001b[0m\u001b[0;34m=\u001b[0m\u001b[0mclass_weight\u001b[0m\u001b[0;34m,\u001b[0m\u001b[0;34m\u001b[0m\u001b[0;34m\u001b[0m\u001b[0m\n\u001b[0;32m-> 2383\u001b[0;31m         batch_size=batch_size)\n\u001b[0m\u001b[1;32m   2384\u001b[0m \u001b[0;34m\u001b[0m\u001b[0m\n\u001b[1;32m   2385\u001b[0m   def _standardize_tensors(self, x, y, sample_weight, run_eagerly, dict_inputs,\n",
      "\u001b[0;32m~/Projects/machine-learning-experiments/.virtualenvs/experiments/lib/python3.7/site-packages/tensorflow_core/python/keras/engine/training.py\u001b[0m in \u001b[0;36m_standardize_tensors\u001b[0;34m(self, x, y, sample_weight, run_eagerly, dict_inputs, is_dataset, class_weight, batch_size)\u001b[0m\n\u001b[1;32m   2467\u001b[0m           \u001b[0mshapes\u001b[0m\u001b[0;34m=\u001b[0m\u001b[0;32mNone\u001b[0m\u001b[0;34m,\u001b[0m\u001b[0;34m\u001b[0m\u001b[0;34m\u001b[0m\u001b[0m\n\u001b[1;32m   2468\u001b[0m           \u001b[0mcheck_batch_axis\u001b[0m\u001b[0;34m=\u001b[0m\u001b[0;32mFalse\u001b[0m\u001b[0;34m,\u001b[0m  \u001b[0;31m# Don't enforce the batch size.\u001b[0m\u001b[0;34m\u001b[0m\u001b[0;34m\u001b[0m\u001b[0m\n\u001b[0;32m-> 2469\u001b[0;31m           exception_prefix='target')\n\u001b[0m\u001b[1;32m   2470\u001b[0m \u001b[0;34m\u001b[0m\u001b[0m\n\u001b[1;32m   2471\u001b[0m       \u001b[0;31m# Generate sample-wise weight values given the `sample_weight` and\u001b[0m\u001b[0;34m\u001b[0m\u001b[0;34m\u001b[0m\u001b[0;34m\u001b[0m\u001b[0m\n",
      "\u001b[0;32m~/Projects/machine-learning-experiments/.virtualenvs/experiments/lib/python3.7/site-packages/tensorflow_core/python/keras/engine/training_utils.py\u001b[0m in \u001b[0;36mstandardize_input_data\u001b[0;34m(data, names, shapes, check_batch_axis, exception_prefix)\u001b[0m\n\u001b[1;32m    510\u001b[0m                        'for each key in: ' + str(names))\n\u001b[1;32m    511\u001b[0m   \u001b[0;32melif\u001b[0m \u001b[0misinstance\u001b[0m\u001b[0;34m(\u001b[0m\u001b[0mdata\u001b[0m\u001b[0;34m,\u001b[0m \u001b[0;34m(\u001b[0m\u001b[0mlist\u001b[0m\u001b[0;34m,\u001b[0m \u001b[0mtuple\u001b[0m\u001b[0;34m)\u001b[0m\u001b[0;34m)\u001b[0m\u001b[0;34m:\u001b[0m\u001b[0;34m\u001b[0m\u001b[0;34m\u001b[0m\u001b[0m\n\u001b[0;32m--> 512\u001b[0;31m     \u001b[0;32mif\u001b[0m \u001b[0misinstance\u001b[0m\u001b[0;34m(\u001b[0m\u001b[0mdata\u001b[0m\u001b[0;34m[\u001b[0m\u001b[0;36m0\u001b[0m\u001b[0;34m]\u001b[0m\u001b[0;34m,\u001b[0m \u001b[0;34m(\u001b[0m\u001b[0mlist\u001b[0m\u001b[0;34m,\u001b[0m \u001b[0mtuple\u001b[0m\u001b[0;34m)\u001b[0m\u001b[0;34m)\u001b[0m\u001b[0;34m:\u001b[0m\u001b[0;34m\u001b[0m\u001b[0;34m\u001b[0m\u001b[0m\n\u001b[0m\u001b[1;32m    513\u001b[0m       \u001b[0mdata\u001b[0m \u001b[0;34m=\u001b[0m \u001b[0;34m[\u001b[0m\u001b[0mnp\u001b[0m\u001b[0;34m.\u001b[0m\u001b[0masarray\u001b[0m\u001b[0;34m(\u001b[0m\u001b[0md\u001b[0m\u001b[0;34m)\u001b[0m \u001b[0;32mfor\u001b[0m \u001b[0md\u001b[0m \u001b[0;32min\u001b[0m \u001b[0mdata\u001b[0m\u001b[0;34m]\u001b[0m\u001b[0;34m\u001b[0m\u001b[0;34m\u001b[0m\u001b[0m\n\u001b[1;32m    514\u001b[0m     \u001b[0;32melif\u001b[0m \u001b[0mlen\u001b[0m\u001b[0;34m(\u001b[0m\u001b[0mnames\u001b[0m\u001b[0;34m)\u001b[0m \u001b[0;34m==\u001b[0m \u001b[0;36m1\u001b[0m \u001b[0;32mand\u001b[0m \u001b[0misinstance\u001b[0m\u001b[0;34m(\u001b[0m\u001b[0mdata\u001b[0m\u001b[0;34m[\u001b[0m\u001b[0;36m0\u001b[0m\u001b[0;34m]\u001b[0m\u001b[0;34m,\u001b[0m \u001b[0;34m(\u001b[0m\u001b[0mfloat\u001b[0m\u001b[0;34m,\u001b[0m \u001b[0mint\u001b[0m\u001b[0;34m)\u001b[0m\u001b[0;34m)\u001b[0m\u001b[0;34m:\u001b[0m\u001b[0;34m\u001b[0m\u001b[0;34m\u001b[0m\u001b[0m\n",
      "\u001b[0;31mIndexError\u001b[0m: tuple index out of range"
     ]
    }
   ],
   "source": [
    "history_1 = model_1.fit(\n",
    "    x=dataset,\n",
    "    epochs=5,\n",
    "    steps_per_epoch=1\n",
    "#   callbacks=[\n",
    "#     checkpoint_callback\n",
    "#     early_stopping_callback\n",
    "#   ]\n",
    ")"
   ]
  }
 ],
 "metadata": {
  "kernelspec": {
   "display_name": "Python 3",
   "language": "python",
   "name": "python3"
  },
  "language_info": {
   "codemirror_mode": {
    "name": "ipython",
    "version": 3
   },
   "file_extension": ".py",
   "mimetype": "text/x-python",
   "name": "python",
   "nbconvert_exporter": "python",
   "pygments_lexer": "ipython3",
   "version": "3.7.6"
  }
 },
 "nbformat": 4,
 "nbformat_minor": 2
}
