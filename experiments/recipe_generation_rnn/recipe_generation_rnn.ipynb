{
 "cells": [
  {
   "cell_type": "markdown",
   "metadata": {},
   "source": [
    "# Recipe Generation using Recurrent Neural Network (RNN)"
   ]
  },
  {
   "cell_type": "markdown",
   "metadata": {},
   "source": [
    "## Importing dependencies"
   ]
  },
  {
   "cell_type": "code",
   "execution_count": 6,
   "metadata": {},
   "outputs": [
    {
     "name": "stdout",
     "output_type": "stream",
     "text": [
      "Python version: 3.7.6\n",
      "Tensorflow version: 2.1.0\n",
      "Keras version: 2.2.4-tf\n"
     ]
    }
   ],
   "source": [
    "import tensorflow as tf\n",
    "import matplotlib.pyplot as plt\n",
    "import numpy as np\n",
    "import platform\n",
    "import time\n",
    "import pathlib\n",
    "import os\n",
    "import json\n",
    "\n",
    "print('Python version:', platform.python_version())\n",
    "print('Tensorflow version:', tf.__version__)\n",
    "print('Keras version:', tf.keras.__version__)"
   ]
  },
  {
   "cell_type": "markdown",
   "metadata": {},
   "source": [
    "## Datasets\n",
    "\n",
    "- 🤷 [Recipe Ingredients Dataset](https://www.kaggle.com/kaggle/recipe-ingredients-dataset/home) _(doesn't have ingredients proportions)_\n",
    "- 🤷 [Recipe1M+](http://pic2recipe.csail.mit.edu/) _(requires registration to download)_\n",
    "- 🤷 [Epicurious - Recipes with Rating and Nutrition](https://www.kaggle.com/hugodarwood/epirecipes?select=full_format_recipes.json) _(~20k recipes only, it would be nice to find more)_\n",
    "- 👍🏻 [**Recipe box**](https://eightportions.com/datasets/Recipes/) _(~125,000 recipes with ingredients proportions)_"
   ]
  },
  {
   "cell_type": "markdown",
   "metadata": {},
   "source": [
    "## Loading the dataset"
   ]
  },
  {
   "cell_type": "code",
   "execution_count": 2,
   "metadata": {},
   "outputs": [],
   "source": [
    "# Create cache folder.\n",
    "cache_dir = './tmp'\n",
    "pathlib.Path(cache_dir).mkdir(exist_ok=True)"
   ]
  },
  {
   "cell_type": "code",
   "execution_count": 3,
   "metadata": {},
   "outputs": [
    {
     "name": "stdout",
     "output_type": "stream",
     "text": [
      "./tmp/datasets/recipes_raw.zip\n"
     ]
    }
   ],
   "source": [
    "# Download and unpack the dataset.\n",
    "dataset_file_name = 'recipes_raw.zip'\n",
    "dataset_file_origin = 'https://storage.googleapis.com/recipe-box/recipes_raw.zip'\n",
    "\n",
    "dataset_file_path = tf.keras.utils.get_file(\n",
    "    fname=dataset_file_name,\n",
    "    origin=dataset_file_origin,\n",
    "    cache_dir=cache_dir,\n",
    "    extract=True,\n",
    "    archive_format='zip'\n",
    ")\n",
    "\n",
    "print(dataset_file_path)"
   ]
  },
  {
   "cell_type": "code",
   "execution_count": 5,
   "metadata": {},
   "outputs": [
    {
     "name": "stdout",
     "output_type": "stream",
     "text": [
      "total 521128\r\n",
      "drwxr-xr-x  7 trekhleb  staff       224 May 13 18:10 \u001b[34m.\u001b[m\u001b[m\r\n",
      "drwxr-xr-x  3 trekhleb  staff        96 May 13 18:10 \u001b[34m..\u001b[m\u001b[m\r\n",
      "-rw-r--r--  1 trekhleb  staff     20437 May 13 18:12 LICENSE\r\n",
      "-rw-r--r--  1 trekhleb  staff  53355492 May 13 18:10 recipes_raw.zip\r\n",
      "-rw-r--r--  1 trekhleb  staff  49784325 May 13 18:12 recipes_raw_nosource_ar.json\r\n",
      "-rw-r--r--  1 trekhleb  staff  61133971 May 13 18:12 recipes_raw_nosource_epi.json\r\n",
      "-rw-r--r--  1 trekhleb  staff  93702755 May 13 18:12 recipes_raw_nosource_fn.json\r\n"
     ]
    }
   ],
   "source": [
    "!ls -la ./tmp/datasets/"
   ]
  },
  {
   "cell_type": "code",
   "execution_count": 16,
   "metadata": {},
   "outputs": [
    {
     "name": "stdout",
     "output_type": "stream",
     "text": [
      "25323\n",
      "{'ingredients': ['12 egg whites', '12 egg yolks', '1 1/2 cups sugar', '3/4 cup rye whiskey', '12 egg whites', '3/4 cup brandy', '1/2 cup rum', '1 to 2 cups heavy cream, lightly whipped', 'Garnish: ground nutmeg'], 'picture_link': None, 'instructions': 'Beat the egg whites until stiff, gradually adding in 3/4 cup sugar. Set aside. Beat the egg yolks until they are thick and pale and add the other 3/4 cup sugar and stir in rye whiskey. Blend well. Fold the egg white mixture into the yolk mixture and add the brandy and the rum. Beat the mixture well. To serve, fold the lightly whipped heavy cream into the eggnog. (If a thinner mixture is desired, add the heavy cream unwhipped.) Sprinkle the top of the eggnog with the nutmeg to taste.\\nBeat the egg whites until stiff, gradually adding in 3/4 cup sugar. Set aside. Beat the egg yolks until they are thick and pale and add the other 3/4 cup sugar and stir in rye whiskey. Blend well. Fold the egg white mixture into the yolk mixture and add the brandy and the rum. Beat the mixture well. To serve, fold the lightly whipped heavy cream into the eggnog. (If a thinner mixture is desired, add the heavy cream unwhipped.) Sprinkle the top of the eggnog with the nutmeg to taste.', 'title': 'Christmas Eggnog '}\n"
     ]
    }
   ],
   "source": [
    "dataset_file_path_ar = f'{cache_dir}/datasets/recipes_raw_nosource_ar.json'\n",
    "dataset_file_path_epi = f'{cache_dir}/datasets/recipes_raw_nosource_epi.json'\n",
    "dataset_file_path_fn = f'{cache_dir}/datasets/recipes_raw_nosource_fn.json'\n",
    "\n",
    "with open(dataset_file_path_epi) as dataset_file_epi:\n",
    "    json_data = json.load(dataset_file_epi)\n",
    "    recipes_keys = [key for key in json_data]\n",
    "    print(len(recipes_keys))\n",
    "    print(json_data[recipes_keys[0]])"
   ]
  }
 ],
 "metadata": {
  "kernelspec": {
   "display_name": "Python 3",
   "language": "python",
   "name": "python3"
  },
  "language_info": {
   "codemirror_mode": {
    "name": "ipython",
    "version": 3
   },
   "file_extension": ".py",
   "mimetype": "text/x-python",
   "name": "python",
   "nbconvert_exporter": "python",
   "pygments_lexer": "ipython3",
   "version": "3.7.6"
  }
 },
 "nbformat": 4,
 "nbformat_minor": 2
}
