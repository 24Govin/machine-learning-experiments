{
 "cells": [
  {
   "cell_type": "markdown",
   "metadata": {
    "colab_type": "text",
    "id": "JL3ZPJPgC4wC"
   },
   "source": [
    "# Wikipedia Text Generation (using RNN)"
   ]
  },
  {
   "cell_type": "markdown",
   "metadata": {
    "colab_type": "text",
    "id": "eoWGtkL8PPJ3"
   },
   "source": [
    "> - 🤖 See [full list of Machine Learning Experiments](https://github.com/trekhleb/machine-learning-experiments) on GitHub\n",
    "> - ▶️ Demo: [try this model in action](https://trekhleb.github.io/machine-learning-experiments)"
   ]
  },
  {
   "cell_type": "markdown",
   "metadata": {
    "colab_type": "text",
    "id": "bui0MyTjv1Mp"
   },
   "source": [
    "## Experiment overview\n",
    "\n",
    "In this experiment we will use character-based [Recurrent Neural Network](https://en.wikipedia.org/wiki/Recurrent_neural_network) (RNN) to generate a Wikipedia-like text based on the [wikipedia](https://www.tensorflow.org/datasets/catalog/wikipedia) TensorFlow dataset."
   ]
  },
  {
   "cell_type": "markdown",
   "metadata": {
    "colab_type": "text",
    "id": "3XxEZuRNIzHH"
   },
   "source": [
    "_Inspired by [Text generation with an RNN](https://www.tensorflow.org/tutorials/text/text_generation)_"
   ]
  },
  {
   "cell_type": "markdown",
   "metadata": {
    "colab_type": "text",
    "id": "IDJctDhhEDTD"
   },
   "source": [
    "## Import dependencies"
   ]
  },
  {
   "cell_type": "code",
   "execution_count": 1,
   "metadata": {
    "colab": {
     "base_uri": "https://localhost:8080/",
     "height": 34
    },
    "colab_type": "code",
    "executionInfo": {
     "elapsed": 1347,
     "status": "ok",
     "timestamp": 1584519798294,
     "user": {
      "displayName": "Oleksii Trekhleb",
      "photoUrl": "https://lh3.googleusercontent.com/a-/AOh14GiiA4aUKCbFho88Jd0WWMoAqQUt3jbuCtfNYpHVOA=s64",
      "userId": "03172675069638383074"
     },
     "user_tz": -60
    },
    "id": "Z2xZnxncD2Ep",
    "outputId": "9e110fb9-a6d1-4bd6-818c-2198114e3133"
   },
   "outputs": [],
   "source": [
    "# Selecting Tensorflow version v2 (the command is relevant for Colab only).\n",
    "# %tensorflow_version 2.x"
   ]
  },
  {
   "cell_type": "code",
   "execution_count": 2,
   "metadata": {
    "colab": {
     "base_uri": "https://localhost:8080/",
     "height": 68
    },
    "colab_type": "code",
    "executionInfo": {
     "elapsed": 2811,
     "status": "ok",
     "timestamp": 1584519800384,
     "user": {
      "displayName": "Oleksii Trekhleb",
      "photoUrl": "https://lh3.googleusercontent.com/a-/AOh14GiiA4aUKCbFho88Jd0WWMoAqQUt3jbuCtfNYpHVOA=s64",
      "userId": "03172675069638383074"
     },
     "user_tz": -60
    },
    "id": "SpueB6zADYgE",
    "outputId": "3f4e9997-8ce8-4ef8-f8f9-320c9a44e03b"
   },
   "outputs": [
    {
     "name": "stdout",
     "output_type": "stream",
     "text": [
      "Python version: 3.7.6\n",
      "Tensorflow version: 2.1.0\n",
      "Keras version: 2.2.4-tf\n"
     ]
    }
   ],
   "source": [
    "import tensorflow as tf\n",
    "import tensorflow_datasets as tfds\n",
    "import matplotlib.pyplot as plt\n",
    "import numpy as np\n",
    "import platform\n",
    "import time\n",
    "import pathlib\n",
    "import os\n",
    "\n",
    "print('Python version:', platform.python_version())\n",
    "print('Tensorflow version:', tf.__version__)\n",
    "print('Keras version:', tf.keras.__version__)"
   ]
  },
  {
   "cell_type": "markdown",
   "metadata": {
    "colab_type": "text",
    "id": "ciI_JnnNEGCw"
   },
   "source": [
    "## Download the dataset\n",
    "\n",
    "[Wikipedia](https://www.tensorflow.org/datasets/catalog/wikipedia) dataset contains cleaned articles of all languages. The datasets are built from the [Wikipedia dump](https://dumps.wikimedia.org/) with one split per language. Each example contains the content of one full Wikipedia article with cleaning to strip markdown and unwanted sections (references, etc.)."
   ]
  },
  {
   "cell_type": "code",
   "execution_count": 3,
   "metadata": {},
   "outputs": [
    {
     "data": {
      "text/plain": [
       "['abstract_reasoning',\n",
       " 'aeslc',\n",
       " 'aflw2k3d',\n",
       " 'amazon_us_reviews',\n",
       " 'arc',\n",
       " 'bair_robot_pushing_small',\n",
       " 'big_patent',\n",
       " 'bigearthnet',\n",
       " 'billsum',\n",
       " 'binarized_mnist',\n",
       " 'binary_alpha_digits',\n",
       " 'c4',\n",
       " 'caltech101',\n",
       " 'caltech_birds2010',\n",
       " 'caltech_birds2011',\n",
       " 'cars196',\n",
       " 'cassava',\n",
       " 'cats_vs_dogs',\n",
       " 'celeb_a',\n",
       " 'celeb_a_hq',\n",
       " 'chexpert',\n",
       " 'cifar10',\n",
       " 'cifar100',\n",
       " 'cifar10_1',\n",
       " 'cifar10_corrupted',\n",
       " 'citrus_leaves',\n",
       " 'cityscapes',\n",
       " 'civil_comments',\n",
       " 'clevr',\n",
       " 'cmaterdb',\n",
       " 'cnn_dailymail',\n",
       " 'coco',\n",
       " 'coil100',\n",
       " 'colorectal_histology',\n",
       " 'colorectal_histology_large',\n",
       " 'cos_e',\n",
       " 'curated_breast_imaging_ddsm',\n",
       " 'cycle_gan',\n",
       " 'deep_weeds',\n",
       " 'definite_pronoun_resolution',\n",
       " 'diabetic_retinopathy_detection',\n",
       " 'dmlab',\n",
       " 'downsampled_imagenet',\n",
       " 'dsprites',\n",
       " 'dtd',\n",
       " 'duke_ultrasound',\n",
       " 'dummy_dataset_shared_generator',\n",
       " 'dummy_mnist',\n",
       " 'emnist',\n",
       " 'esnli',\n",
       " 'eurosat',\n",
       " 'fashion_mnist',\n",
       " 'flic',\n",
       " 'flores',\n",
       " 'food101',\n",
       " 'gap',\n",
       " 'gigaword',\n",
       " 'glue',\n",
       " 'groove',\n",
       " 'higgs',\n",
       " 'horses_or_humans',\n",
       " 'i_naturalist2017',\n",
       " 'image_label_folder',\n",
       " 'imagenet2012',\n",
       " 'imagenet2012_corrupted',\n",
       " 'imagenet_resized',\n",
       " 'imagenette',\n",
       " 'imdb_reviews',\n",
       " 'iris',\n",
       " 'kitti',\n",
       " 'kmnist',\n",
       " 'lfw',\n",
       " 'lm1b',\n",
       " 'lost_and_found',\n",
       " 'lsun',\n",
       " 'malaria',\n",
       " 'math_dataset',\n",
       " 'mnist',\n",
       " 'mnist_corrupted',\n",
       " 'movie_rationales',\n",
       " 'moving_mnist',\n",
       " 'multi_news',\n",
       " 'multi_nli',\n",
       " 'multi_nli_mismatch',\n",
       " 'newsroom',\n",
       " 'nsynth',\n",
       " 'omniglot',\n",
       " 'open_images_v4',\n",
       " 'oxford_flowers102',\n",
       " 'oxford_iiit_pet',\n",
       " 'para_crawl',\n",
       " 'patch_camelyon',\n",
       " 'pet_finder',\n",
       " 'places365_small',\n",
       " 'plant_leaves',\n",
       " 'plant_village',\n",
       " 'plantae_k',\n",
       " 'quickdraw_bitmap',\n",
       " 'reddit_tifu',\n",
       " 'resisc45',\n",
       " 'rock_paper_scissors',\n",
       " 'rock_you',\n",
       " 'scan',\n",
       " 'scene_parse150',\n",
       " 'scicite',\n",
       " 'scientific_papers',\n",
       " 'shapes3d',\n",
       " 'smallnorb',\n",
       " 'snli',\n",
       " 'so2sat',\n",
       " 'squad',\n",
       " 'stanford_dogs',\n",
       " 'stanford_online_products',\n",
       " 'starcraft_video',\n",
       " 'sun397',\n",
       " 'super_glue',\n",
       " 'svhn_cropped',\n",
       " 'ted_hrlr_translate',\n",
       " 'ted_multi_translate',\n",
       " 'tf_flowers',\n",
       " 'the300w_lp',\n",
       " 'titanic',\n",
       " 'trivia_qa',\n",
       " 'uc_merced',\n",
       " 'ucf101',\n",
       " 'vgg_face2',\n",
       " 'visual_domain_decathlon',\n",
       " 'voc',\n",
       " 'wider_face',\n",
       " 'wikihow',\n",
       " 'wikipedia',\n",
       " 'wmt14_translate',\n",
       " 'wmt15_translate',\n",
       " 'wmt16_translate',\n",
       " 'wmt17_translate',\n",
       " 'wmt18_translate',\n",
       " 'wmt19_translate',\n",
       " 'wmt_t2t_translate',\n",
       " 'wmt_translate',\n",
       " 'xnli',\n",
       " 'xsum']"
      ]
     },
     "execution_count": 3,
     "metadata": {},
     "output_type": "execute_result"
    }
   ],
   "source": [
    "# List all available datasets to see how the wikipedia dataset is called.\n",
    "tfds.list_builders()"
   ]
  },
  {
   "cell_type": "markdown",
   "metadata": {},
   "source": [
    "[`tfds.load`](https://www.tensorflow.org/datasets/api_docs/python/tfds/load) is a convenience method that's the simplest way to build and load a [`tf.data.Dataset`](https://www.tensorflow.org/api_docs/python/tf/data/Dataset)."
   ]
  },
  {
   "cell_type": "code",
   "execution_count": 4,
   "metadata": {},
   "outputs": [],
   "source": [
    "# Loading the wikipedia dataset.\n",
    "# DATASET_NAME = 'wikipedia/20190301.en'\n",
    "DATASET_NAME = 'wikipedia/20190301.uk'\n",
    "\n",
    "dataset, dataset_info = tfds.load(\n",
    "    name=DATASET_NAME,\n",
    "    data_dir='tmp',\n",
    "    with_info=True,\n",
    "    split=tfds.Split.TRAIN,\n",
    ")"
   ]
  },
  {
   "cell_type": "code",
   "execution_count": 5,
   "metadata": {},
   "outputs": [
    {
     "name": "stdout",
     "output_type": "stream",
     "text": [
      "tfds.core.DatasetInfo(\n",
      "    name='wikipedia',\n",
      "    version=1.0.0,\n",
      "    description='Wikipedia dataset containing cleaned articles of all languages.\n",
      "The datasets are built from the Wikipedia dump\n",
      "(https://dumps.wikimedia.org/) with one split per language. Each example\n",
      "contains the content of one full Wikipedia article with cleaning to strip\n",
      "markdown and unwanted sections (references, etc.).\n",
      "',\n",
      "    homepage='https://dumps.wikimedia.org',\n",
      "    features=FeaturesDict({\n",
      "        'text': Text(shape=(), dtype=tf.string),\n",
      "        'title': Text(shape=(), dtype=tf.string),\n",
      "    }),\n",
      "    total_num_examples=1131279,\n",
      "    splits={\n",
      "        'train': 1131279,\n",
      "    },\n",
      "    supervised_keys=None,\n",
      "    citation=\"\"\"@ONLINE {wikidump,\n",
      "        author = \"Wikimedia Foundation\",\n",
      "        title  = \"Wikimedia Downloads\",\n",
      "        url    = \"https://dumps.wikimedia.org\"\n",
      "    }\"\"\",\n",
      "    redistribution_info=license: \"This work is licensed under the Creative Commons Attribution-ShareAlike 3.0 Unported License. To view a copy of this license, visit http://creativecommons.org/licenses/by-sa/3.0/ or send a letter to Creative Commons, PO Box 1866, Mountain View, CA 94042, USA.\",\n",
      ")\n",
      "\n"
     ]
    }
   ],
   "source": [
    "print(dataset_info)"
   ]
  },
  {
   "cell_type": "code",
   "execution_count": 6,
   "metadata": {},
   "outputs": [
    {
     "name": "stdout",
     "output_type": "stream",
     "text": [
      "<DatasetV1Adapter shapes: {text: (), title: ()}, types: {text: tf.string, title: tf.string}>\n"
     ]
    }
   ],
   "source": [
    "print(dataset)"
   ]
  },
  {
   "cell_type": "markdown",
   "metadata": {
    "colab_type": "text",
    "id": "eKTy6YS5Gx-g"
   },
   "source": [
    "## Analyze the dataset"
   ]
  },
  {
   "cell_type": "code",
   "execution_count": 7,
   "metadata": {},
   "outputs": [
    {
     "name": "stdout",
     "output_type": "stream",
     "text": [
      "Total number of articles:  1131279\n"
     ]
    }
   ],
   "source": [
    "TRAIN_NUM_EXAMPLES = dataset_info.splits['train'].num_examples\n",
    "print('Total number of articles: ', TRAIN_NUM_EXAMPLES)"
   ]
  },
  {
   "cell_type": "code",
   "execution_count": 8,
   "metadata": {},
   "outputs": [
    {
     "name": "stdout",
     "output_type": "stream",
     "text": [
      "First article \n",
      "======\n",
      "\n",
      "Title: \n",
      "------\n",
      "Заровенька\n",
      "\n",
      "Text: \n",
      "------\n",
      "Заровенька, Зровень — річка в Україні, у Ємільчинському районі Житомирської області, права притока Малої Глумчи (басейн Прип'яті).\n",
      "\n",
      "Опис \n",
      "Довжина річки 13 км., похил річки — 1,&nb3sp;м/км. Формується з багатьох безіменних струмків. Площа басейну 65,4 км².\n",
      "\n",
      "Розташування \n",
      "Бере початок на південному заході від села Просіка. Тече на північний схід в межах сіл Заровенка та Медведеве. На околиці села Паранине впадає у річку Малу Глумчу, притоку Уборті.\n",
      "\n",
      "Риби Заровеньки \n",
      "У річці водиться щука звичайна, бистрянка звичайна, карась звичайний, окунь, пічкур та плітка звичайна.\n",
      "\n",
      "Джерела \n",
      " «Каталог річок України». — К. : Видавництво АН УРСР, 1957. — С. 83. — (№ 1340).\n",
      "\n",
      "Категорія:Малі річки України\n",
      "Категорія:Річки Житомирської області\n",
      "Категорія:Ємільчинський район\n",
      "Категорія:Річки Ємільчинського району\n"
     ]
    }
   ],
   "source": [
    "print('First article','\\n======\\n')\n",
    "for example in dataset.take(1):\n",
    "    print('Title:','\\n------')\n",
    "    print(example['title'].numpy().decode('utf-8'))\n",
    "    print()\n",
    "\n",
    "    print('Text:', '\\n------')\n",
    "    print(example['text'].numpy().decode('utf-8'))"
   ]
  },
  {
   "cell_type": "markdown",
   "metadata": {
    "colab_type": "text",
    "id": "GqpuKh9HMNnf"
   },
   "source": [
    "## Process the dataset"
   ]
  },
  {
   "cell_type": "markdown",
   "metadata": {},
   "source": [
    "### Flatten the dataset\n",
    "\n",
    "Converting the dataset from the set of articles into the set of characters. We also are interested only in `text` of each article so we may drop the `title` along the way."
   ]
  },
  {
   "cell_type": "code",
   "execution_count": 9,
   "metadata": {},
   "outputs": [
    {
     "name": "stdout",
     "output_type": "stream",
     "text": [
      "[b'\\xd0\\x97' b'\\xd0\\xb0' b'\\xd1\\x80' b'\\xd0\\xbe' b'\\xd0\\xb2' b'\\xd0\\xb5'\n",
      " b'\\xd0\\xbd' b'\\xd1\\x8c' b'\\xd0\\xba' b'\\xd0\\xb0' b',' b' ' b'\\xd0\\x97'\n",
      " b'\\xd1\\x80' b'\\xd0\\xbe' b'\\xd0\\xb2' b'\\xd0\\xb5' b'\\xd0\\xbd' b'\\xd1\\x8c'\n",
      " b'\\xc2\\xa0' b'\\xe2\\x80\\x94' b' ' b'\\xd1\\x80' b'\\xd1\\x96' b'\\xd1\\x87'\n",
      " b'\\xd0\\xba' b'\\xd0\\xb0' b' ' b'\\xd0\\xb2' b' ' b'\\xd0\\xa3' b'\\xd0\\xba'\n",
      " b'\\xd1\\x80' b'\\xd0\\xb0' b'\\xd1\\x97' b'\\xd0\\xbd' b'\\xd1\\x96' b',' b' '\n",
      " b'\\xd1\\x83' b' ' b'\\xd0\\x84' b'\\xd0\\xbc' b'\\xd1\\x96' b'\\xd0\\xbb'\n",
      " b'\\xd1\\x8c' b'\\xd1\\x87' b'\\xd0\\xb8' b'\\xd0\\xbd' b'\\xd1\\x81' b'\\xd1\\x8c'\n",
      " b'\\xd0\\xba' b'\\xd0\\xbe' b'\\xd0\\xbc' b'\\xd1\\x83' b' ' b'\\xd1\\x80'\n",
      " b'\\xd0\\xb0' b'\\xd0\\xb9' b'\\xd0\\xbe' b'\\xd0\\xbd' b'\\xd1\\x96' b' '\n",
      " b'\\xd0\\x96' b'\\xd0\\xb8' b'\\xd1\\x82' b'\\xd0\\xbe' b'\\xd0\\xbc' b'\\xd0\\xb8'\n",
      " b'\\xd1\\x80' b'\\xd1\\x81' b'\\xd1\\x8c' b'\\xd0\\xba' b'\\xd0\\xbe' b'\\xd1\\x97'\n",
      " b' ' b'\\xd0\\xbe' b'\\xd0\\xb1' b'\\xd0\\xbb' b'\\xd0\\xb0' b'\\xd1\\x81'\n",
      " b'\\xd1\\x82' b'\\xd1\\x96' b',' b' ' b'\\xd0\\xbf' b'\\xd1\\x80' b'\\xd0\\xb0'\n",
      " b'\\xd0\\xb2' b'\\xd0\\xb0' b' ' b'\\xd0\\xbf' b'\\xd1\\x80' b'\\xd0\\xb8'\n",
      " b'\\xd1\\x82' b'\\xd0\\xbe' b'\\xd0\\xba' b'\\xd0\\xb0' b' ' b'\\xd0\\x9c'\n",
      " b'\\xd0\\xb0' b'\\xd0\\xbb' b'\\xd0\\xbe' b'\\xd1\\x97' b' ' b'\\xd0\\x93'\n",
      " b'\\xd0\\xbb' b'\\xd1\\x83' b'\\xd0\\xbc' b'\\xd1\\x87' b'\\xd0\\xb8' b' ' b'('\n",
      " b'\\xd0\\xb1' b'\\xd0\\xb0' b'\\xd1\\x81' b'\\xd0\\xb5' b'\\xd0\\xb9' b'\\xd0\\xbd'\n",
      " b' ' b'\\xd0\\x9f' b'\\xd1\\x80' b'\\xd0\\xb8' b'\\xd0\\xbf' b\"'\" b'\\xd1\\x8f'\n",
      " b'\\xd1\\x82' b'\\xd1\\x96' b')' b'.' b'\\n' b'\\n' b'\\xd0\\x9e' b'\\xd0\\xbf'\n",
      " b'\\xd0\\xb8' b'\\xd1\\x81' b' ' b'\\n' b'\\xd0\\x94' b'\\xd0\\xbe' b'\\xd0\\xb2'\n",
      " b'\\xd0\\xb6' b'\\xd0\\xb8' b'\\xd0\\xbd' b'\\xd0\\xb0' b' ' b'\\xd1\\x80'\n",
      " b'\\xd1\\x96' b'\\xd1\\x87' b'\\xd0\\xba' b'\\xd0\\xb8' b' ' b'1' b'3'\n",
      " b'\\xc2\\xa0' b'\\xd0\\xba' b'\\xd0\\xbc' b'.' b',' b' ' b'\\xd0\\xbf'\n",
      " b'\\xd0\\xbe' b'\\xd1\\x85' b'\\xd0\\xb8' b'\\xd0\\xbb' b' ' b'\\xd1\\x80'\n",
      " b'\\xd1\\x96' b'\\xd1\\x87' b'\\xd0\\xba' b'\\xd0\\xb8' b'\\xc2\\xa0'\n",
      " b'\\xe2\\x80\\x94' b' ' b'1' b',' b'&' b'n' b'b' b'3' b's' b'p' b';'\n",
      " b'\\xd0\\xbc' b'/' b'\\xd0\\xba' b'\\xd0\\xbc' b'.' b' ' b'\\xd0\\xa4'\n",
      " b'\\xd0\\xbe' b'\\xd1\\x80' b'\\xd0\\xbc' b'\\xd1\\x83' b'\\xd1\\x94' b'\\xd1\\x82'\n",
      " b'\\xd1\\x8c' b'\\xd1\\x81' b'\\xd1\\x8f' b' ' b'\\xd0\\xb7' b' ' b'\\xd0\\xb1'\n",
      " b'\\xd0\\xb0' b'\\xd0\\xb3' b'\\xd0\\xb0' b'\\xd1\\x82' b'\\xd1\\x8c' b'\\xd0\\xbe'\n",
      " b'\\xd1\\x85' b' ' b'\\xd0\\xb1' b'\\xd0\\xb5' b'\\xd0\\xb7' b'\\xd1\\x96'\n",
      " b'\\xd0\\xbc' b'\\xd0\\xb5' b'\\xd0\\xbd' b'\\xd0\\xbd' b'\\xd0\\xb8' b'\\xd1\\x85'\n",
      " b' ' b'\\xd1\\x81' b'\\xd1\\x82' b'\\xd1\\x80' b'\\xd1\\x83' b'\\xd0\\xbc'\n",
      " b'\\xd0\\xba' b'\\xd1\\x96' b'\\xd0\\xb2' b'.' b' ' b'\\xd0\\x9f' b'\\xd0\\xbb'\n",
      " b'\\xd0\\xbe' b'\\xd1\\x89' b'\\xd0\\xb0' b' ' b'\\xd0\\xb1' b'\\xd0\\xb0'\n",
      " b'\\xd1\\x81' b'\\xd0\\xb5' b'\\xd0\\xb9' b'\\xd0\\xbd' b'\\xd1\\x83' b' ' b'6'\n",
      " b'5' b',' b'4' b'\\xc2\\xa0' b'\\xd0\\xba' b'\\xd0\\xbc' b'\\xc2\\xb2' b'.' b'\\n'\n",
      " b'\\n' b'\\xd0\\xa0' b'\\xd0\\xbe' b'\\xd0\\xb7' b'\\xd1\\x82' b'\\xd0\\xb0'\n",
      " b'\\xd1\\x88' b'\\xd1\\x83' b'\\xd0\\xb2' b'\\xd0\\xb0' b'\\xd0\\xbd' b'\\xd0\\xbd'\n",
      " b'\\xd1\\x8f' b' ' b'\\n' b'\\xd0\\x91' b'\\xd0\\xb5' b'\\xd1\\x80' b'\\xd0\\xb5'\n",
      " b' ' b'\\xd0\\xbf' b'\\xd0\\xbe' b'\\xd1\\x87' b'\\xd0\\xb0' b'\\xd1\\x82'\n",
      " b'\\xd0\\xbe' b'\\xd0\\xba' b' ' b'\\xd0\\xbd' b'\\xd0\\xb0' b' ' b'\\xd0\\xbf'\n",
      " b'\\xd1\\x96' b'\\xd0\\xb2' b'\\xd0\\xb4' b'\\xd0\\xb5' b'\\xd0\\xbd' b'\\xd0\\xbd'\n",
      " b'\\xd0\\xbe' b'\\xd0\\xbc' b'\\xd1\\x83' b' ' b'\\xd0\\xb7' b'\\xd0\\xb0'\n",
      " b'\\xd1\\x85' b'\\xd0\\xbe' b'\\xd0\\xb4' b'\\xd1\\x96' b' ' b'\\xd0\\xb2'\n",
      " b'\\xd1\\x96' b'\\xd0\\xb4' b' ' b'\\xd1\\x81' b'\\xd0\\xb5' b'\\xd0\\xbb'\n",
      " b'\\xd0\\xb0' b' ' b'\\xd0\\x9f' b'\\xd1\\x80' b'\\xd0\\xbe' b'\\xd1\\x81'\n",
      " b'\\xd1\\x96' b'\\xd0\\xba' b'\\xd0\\xb0' b'.' b' ' b'\\xd0\\xa2' b'\\xd0\\xb5'\n",
      " b'\\xd1\\x87' b'\\xd0\\xb5' b' ' b'\\xd0\\xbd' b'\\xd0\\xb0' b' ' b'\\xd0\\xbf'\n",
      " b'\\xd1\\x96' b'\\xd0\\xb2' b'\\xd0\\xbd' b'\\xd1\\x96' b'\\xd1\\x87' b'\\xd0\\xbd'\n",
      " b'\\xd0\\xb8' b'\\xd0\\xb9' b' ' b'\\xd1\\x81' b'\\xd1\\x85' b'\\xd1\\x96'\n",
      " b'\\xd0\\xb4' b' ' b'\\xd0\\xb2' b' ' b'\\xd0\\xbc' b'\\xd0\\xb5' b'\\xd0\\xb6'\n",
      " b'\\xd0\\xb0' b'\\xd1\\x85' b' ' b'\\xd1\\x81' b'\\xd1\\x96' b'\\xd0\\xbb' b' '\n",
      " b'\\xd0\\x97' b'\\xd0\\xb0' b'\\xd1\\x80' b'\\xd0\\xbe' b'\\xd0\\xb2' b'\\xd0\\xb5'\n",
      " b'\\xd0\\xbd' b'\\xd0\\xba' b'\\xd0\\xb0' b' ' b'\\xd1\\x82' b'\\xd0\\xb0' b' '\n",
      " b'\\xd0\\x9c' b'\\xd0\\xb5' b'\\xd0\\xb4' b'\\xd0\\xb2' b'\\xd0\\xb5' b'\\xd0\\xb4'\n",
      " b'\\xd0\\xb5' b'\\xd0\\xb2' b'\\xd0\\xb5' b'.' b' ' b'\\xd0\\x9d' b'\\xd0\\xb0'\n",
      " b' ' b'\\xd0\\xbe' b'\\xd0\\xba' b'\\xd0\\xbe' b'\\xd0\\xbb' b'\\xd0\\xb8'\n",
      " b'\\xd1\\x86' b'\\xd1\\x96' b' ' b'\\xd1\\x81' b'\\xd0\\xb5' b'\\xd0\\xbb'\n",
      " b'\\xd0\\xb0' b' ' b'\\xd0\\x9f' b'\\xd0\\xb0' b'\\xd1\\x80' b'\\xd0\\xb0'\n",
      " b'\\xd0\\xbd' b'\\xd0\\xb8' b'\\xd0\\xbd' b'\\xd0\\xb5' b' ' b'\\xd0\\xb2'\n",
      " b'\\xd0\\xbf' b'\\xd0\\xb0' b'\\xd0\\xb4' b'\\xd0\\xb0' b'\\xd1\\x94' b' '\n",
      " b'\\xd1\\x83' b' ' b'\\xd1\\x80' b'\\xd1\\x96' b'\\xd1\\x87' b'\\xd0\\xba'\n",
      " b'\\xd1\\x83' b' ' b'\\xd0\\x9c' b'\\xd0\\xb0' b'\\xd0\\xbb' b'\\xd1\\x83' b' '\n",
      " b'\\xd0\\x93' b'\\xd0\\xbb' b'\\xd1\\x83' b'\\xd0\\xbc' b'\\xd1\\x87' b'\\xd1\\x83'\n",
      " b',' b' ' b'\\xd0\\xbf' b'\\xd1\\x80' b'\\xd0\\xb8' b'\\xd1\\x82' b'\\xd0\\xbe'\n",
      " b'\\xd0\\xba' b'\\xd1\\x83' b' ' b'\\xd0\\xa3' b'\\xd0\\xb1' b'\\xd0\\xbe'\n",
      " b'\\xd1\\x80' b'\\xd1\\x82' b'\\xd1\\x96' b'.' b'\\n' b'\\n' b'\\xd0\\xa0'\n",
      " b'\\xd0\\xb8' b'\\xd0\\xb1' b'\\xd0\\xb8' b' ' b'\\xd0\\x97' b'\\xd0\\xb0'\n",
      " b'\\xd1\\x80' b'\\xd0\\xbe' b'\\xd0\\xb2' b'\\xd0\\xb5' b'\\xd0\\xbd' b'\\xd1\\x8c'\n",
      " b'\\xd0\\xba' b'\\xd0\\xb8' b' ' b'\\n' b'\\xd0\\xa3' b' ' b'\\xd1\\x80'\n",
      " b'\\xd1\\x96' b'\\xd1\\x87' b'\\xd1\\x86' b'\\xd1\\x96' b' ' b'\\xd0\\xb2'\n",
      " b'\\xd0\\xbe' b'\\xd0\\xb4' b'\\xd0\\xb8' b'\\xd1\\x82' b'\\xd1\\x8c' b'\\xd1\\x81'\n",
      " b'\\xd1\\x8f' b' ' b'\\xd1\\x89' b'\\xd1\\x83' b'\\xd0\\xba' b'\\xd0\\xb0' b' '\n",
      " b'\\xd0\\xb7' b'\\xd0\\xb2' b'\\xd0\\xb8' b'\\xd1\\x87' b'\\xd0\\xb0' b'\\xd0\\xb9'\n",
      " b'\\xd0\\xbd' b'\\xd0\\xb0' b',' b' ' b'\\xd0\\xb1' b'\\xd0\\xb8' b'\\xd1\\x81'\n",
      " b'\\xd1\\x82' b'\\xd1\\x80' b'\\xd1\\x8f' b'\\xd0\\xbd' b'\\xd0\\xba' b'\\xd0\\xb0'\n",
      " b' ' b'\\xd0\\xb7' b'\\xd0\\xb2' b'\\xd0\\xb8' b'\\xd1\\x87' b'\\xd0\\xb0'\n",
      " b'\\xd0\\xb9' b'\\xd0\\xbd' b'\\xd0\\xb0' b',' b' ' b'\\xd0\\xba' b'\\xd0\\xb0'\n",
      " b'\\xd1\\x80' b'\\xd0\\xb0' b'\\xd1\\x81' b'\\xd1\\x8c' b' ' b'\\xd0\\xb7'\n",
      " b'\\xd0\\xb2' b'\\xd0\\xb8' b'\\xd1\\x87' b'\\xd0\\xb0' b'\\xd0\\xb9' b'\\xd0\\xbd'\n",
      " b'\\xd0\\xb8' b'\\xd0\\xb9' b',' b' ' b'\\xd0\\xbe' b'\\xd0\\xba' b'\\xd1\\x83'\n",
      " b'\\xd0\\xbd' b'\\xd1\\x8c' b',' b' ' b'\\xd0\\xbf' b'\\xd1\\x96' b'\\xd1\\x87'\n",
      " b'\\xd0\\xba' b'\\xd1\\x83' b'\\xd1\\x80' b' ' b'\\xd1\\x82' b'\\xd0\\xb0' b' '\n",
      " b'\\xd0\\xbf' b'\\xd0\\xbb' b'\\xd1\\x96' b'\\xd1\\x82' b'\\xd0\\xba' b'\\xd0\\xb0'\n",
      " b' ' b'\\xd0\\xb7' b'\\xd0\\xb2' b'\\xd0\\xb8' b'\\xd1\\x87' b'\\xd0\\xb0'\n",
      " b'\\xd0\\xb9' b'\\xd0\\xbd' b'\\xd0\\xb0' b'.' b'\\n' b'\\n' b'\\xd0\\x94'\n",
      " b'\\xd0\\xb6' b'\\xd0\\xb5' b'\\xd1\\x80' b'\\xd0\\xb5' b'\\xd0\\xbb' b'\\xd0\\xb0'\n",
      " b' ' b'\\n' b' ' b'\\xc2\\xab' b'\\xd0\\x9a' b'\\xd0\\xb0' b'\\xd1\\x82'\n",
      " b'\\xd0\\xb0' b'\\xd0\\xbb' b'\\xd0\\xbe' b'\\xd0\\xb3' b' ' b'\\xd1\\x80'\n",
      " b'\\xd1\\x96' b'\\xd1\\x87' b'\\xd0\\xbe' b'\\xd0\\xba' b' ' b'\\xd0\\xa3'\n",
      " b'\\xd0\\xba' b'\\xd1\\x80' b'\\xd0\\xb0' b'\\xd1\\x97' b'\\xd0\\xbd' b'\\xd0\\xb8'\n",
      " b'\\xc2\\xbb' b'.' b'\\xc2\\xa0' b'\\xe2\\x80\\x94' b' ' b'\\xd0\\x9a' b'.' b' '\n",
      " b':' b' ' b'\\xd0\\x92' b'\\xd0\\xb8' b'\\xd0\\xb4' b'\\xd0\\xb0' b'\\xd0\\xb2'\n",
      " b'\\xd0\\xbd' b'\\xd0\\xb8' b'\\xd1\\x86' b'\\xd1\\x82' b'\\xd0\\xb2' b'\\xd0\\xbe'\n",
      " b' ' b'\\xd0\\x90' b'\\xd0\\x9d' b' ' b'\\xd0\\xa3' b'\\xd0\\xa0' b'\\xd0\\xa1'\n",
      " b'\\xd0\\xa0' b',' b' ' b'1' b'9' b'5' b'7' b'.' b'\\xc2\\xa0'\n",
      " b'\\xe2\\x80\\x94' b' ' b'\\xd0\\xa1' b'.' b'\\xc2\\xa0' b'8' b'3' b'.'\n",
      " b'\\xc2\\xa0' b'\\xe2\\x80\\x94' b' ' b'(' b'\\xe2\\x84\\x96' b'\\xc2\\xa0' b'1'\n",
      " b'3' b'4' b'0' b')' b'.' b'\\n' b'\\n' b'\\xd0\\x9a' b'\\xd0\\xb0' b'\\xd1\\x82'\n",
      " b'\\xd0\\xb5' b'\\xd0\\xb3' b'\\xd0\\xbe' b'\\xd1\\x80' b'\\xd1\\x96' b'\\xd1\\x8f'\n",
      " b':' b'\\xd0\\x9c' b'\\xd0\\xb0' b'\\xd0\\xbb' b'\\xd1\\x96' b' ' b'\\xd1\\x80'\n",
      " b'\\xd1\\x96' b'\\xd1\\x87' b'\\xd0\\xba' b'\\xd0\\xb8' b' ' b'\\xd0\\xa3'\n",
      " b'\\xd0\\xba' b'\\xd1\\x80' b'\\xd0\\xb0' b'\\xd1\\x97' b'\\xd0\\xbd' b'\\xd0\\xb8'\n",
      " b'\\n' b'\\xd0\\x9a' b'\\xd0\\xb0' b'\\xd1\\x82' b'\\xd0\\xb5' b'\\xd0\\xb3'\n",
      " b'\\xd0\\xbe' b'\\xd1\\x80' b'\\xd1\\x96' b'\\xd1\\x8f' b':' b'\\xd0\\xa0'\n",
      " b'\\xd1\\x96' b'\\xd1\\x87' b'\\xd0\\xba' b'\\xd0\\xb8' b' ' b'\\xd0\\x96'\n",
      " b'\\xd0\\xb8' b'\\xd1\\x82' b'\\xd0\\xbe' b'\\xd0\\xbc' b'\\xd0\\xb8' b'\\xd1\\x80'\n",
      " b'\\xd1\\x81' b'\\xd1\\x8c' b'\\xd0\\xba' b'\\xd0\\xbe' b'\\xd1\\x97' b' '\n",
      " b'\\xd0\\xbe' b'\\xd0\\xb1' b'\\xd0\\xbb' b'\\xd0\\xb0' b'\\xd1\\x81' b'\\xd1\\x82'\n",
      " b'\\xd1\\x96' b'\\n' b'\\xd0\\x9a' b'\\xd0\\xb0' b'\\xd1\\x82' b'\\xd0\\xb5'\n",
      " b'\\xd0\\xb3' b'\\xd0\\xbe' b'\\xd1\\x80' b'\\xd1\\x96' b'\\xd1\\x8f' b':'\n",
      " b'\\xd0\\x84' b'\\xd0\\xbc' b'\\xd1\\x96' b'\\xd0\\xbb' b'\\xd1\\x8c' b'\\xd1\\x87'\n",
      " b'\\xd0\\xb8' b'\\xd0\\xbd' b'\\xd1\\x81' b'\\xd1\\x8c' b'\\xd0\\xba' b'\\xd0\\xb8'\n",
      " b'\\xd0\\xb9' b' ' b'\\xd1\\x80' b'\\xd0\\xb0' b'\\xd0\\xb9' b'\\xd0\\xbe'\n",
      " b'\\xd0\\xbd' b'\\n' b'\\xd0\\x9a' b'\\xd0\\xb0' b'\\xd1\\x82' b'\\xd0\\xb5'\n",
      " b'\\xd0\\xb3' b'\\xd0\\xbe' b'\\xd1\\x80' b'\\xd1\\x96' b'\\xd1\\x8f' b':'\n",
      " b'\\xd0\\xa0' b'\\xd1\\x96' b'\\xd1\\x87' b'\\xd0\\xba' b'\\xd0\\xb8' b' '\n",
      " b'\\xd0\\x84' b'\\xd0\\xbc' b'\\xd1\\x96' b'\\xd0\\xbb' b'\\xd1\\x8c' b'\\xd1\\x87'\n",
      " b'\\xd0\\xb8' b'\\xd0\\xbd' b'\\xd1\\x81' b'\\xd1\\x8c' b'\\xd0\\xba' b'\\xd0\\xbe'\n",
      " b'\\xd0\\xb3' b'\\xd0\\xbe' b' ' b'\\xd1\\x80' b'\\xd0\\xb0' b'\\xd0\\xb9'\n",
      " b'\\xd0\\xbe' b'\\xd0\\xbd' b'\\xd1\\x83']\n",
      "\n",
      "\n",
      "[b'\\xd0\\xa1' b'\\xd1\\x96' b'\\xd0\\xbd' ... b'\\xd0\\xb0' b'\\xd0\\xbd'\n",
      " b'\\xd1\\x8c']\n",
      "\n",
      "\n"
     ]
    }
   ],
   "source": [
    "def article_to_text(text):\n",
    "    return np.array([char for char in text.numpy().decode('utf-8')])\n",
    "\n",
    "# Converting each dataset item to a string ('text') instead of a dictionary ({'text', 'title'}).\n",
    "dataset_text = dataset.map(\n",
    "    lambda article: tf.py_function(func=article_to_text, inp=[article['text']], Tout=tf.string)\n",
    ")\n",
    "\n",
    "for text in dataset_text.take(2):\n",
    "    print(text.numpy())\n",
    "    print('\\n')"
   ]
  },
  {
   "cell_type": "code",
   "execution_count": 10,
   "metadata": {},
   "outputs": [
    {
     "name": "stdout",
     "output_type": "stream",
     "text": [
      "З\n",
      "а\n",
      "р\n",
      "о\n",
      "в\n",
      "е\n",
      "н\n",
      "ь\n",
      "к\n",
      "а\n",
      ",\n",
      " \n",
      "З\n",
      "р\n",
      "о\n",
      "в\n",
      "е\n",
      "н\n",
      "ь\n",
      " \n"
     ]
    }
   ],
   "source": [
    "# Unbatch the text dataset into a more granular char dataset.\n",
    "# Now each dataset item is one character instead of a big piece of text.\n",
    "dataset_chars = dataset_text.unbatch()\n",
    "\n",
    "for char in dataset_chars.take(20):\n",
    "    print(char.numpy().decode('utf-8'))"
   ]
  },
  {
   "cell_type": "markdown",
   "metadata": {},
   "source": [
    "### Generating vocabulary"
   ]
  },
  {
   "cell_type": "code",
   "execution_count": 11,
   "metadata": {},
   "outputs": [
    {
     "name": "stdout",
     "output_type": "stream",
     "text": [
      "Unique characters: 384\n",
      "vocab:\n",
      "['\\t', '\\n', ' ', '!', '\"', '#', '$', '%', '&', \"'\", '(', ')', '*', '+', ',', '-', '.', '/', '0', '1', '2', '3', '4', '5', '6', '7', '8', '9', ':', ';', '<', '=', '>', '?', 'A', 'B', 'C', 'D', 'E', 'F', 'G', 'H', 'I', 'J', 'K', 'L', 'M', 'N', 'O', 'P', 'Q', 'R', 'S', 'T', 'U', 'V', 'W', 'X', 'Y', 'Z', '[', '\\\\', ']', '_', '`', 'a', 'b', 'c', 'd', 'e', 'f', 'g', 'h', 'i', 'j', 'k', 'l', 'm', 'n', 'o', 'p', 'q', 'r', 's', 't', 'u', 'v', 'w', 'x', 'y', 'z', '{', '|', '}', '\\xa0', '£', '«', '°', '²', '³', '´', '·', 'º', '»', '½', '¿', 'Á', 'Ç', 'È', 'É', 'Í', 'Ó', 'Ö', '×', 'Þ', 'ß', 'à', 'á', 'â', 'ã', 'ä', 'å', 'ç', 'è', 'é', 'ê', 'ë', 'ì', 'í', 'ð', 'ñ', 'ò', 'ó', 'ö', 'ø', 'ù', 'ú', 'û', 'ü', 'ý', 'þ', 'Ā', 'ā', 'ă', 'ą', 'ć', 'Č', 'č', 'ę', 'ě', 'Ł', 'ł', 'Ń', 'ń', 'ō', 'œ', 'Ś', 'ś', 'š', 'ť', 'ų', 'ż', 'Ž', 'ž', 'ș', 'ˆ', '́', 'Ά', 'Α', 'Κ', 'Λ', 'Τ', 'ά', 'α', 'γ', 'ε', 'ι', 'λ', 'μ', 'ν', 'ο', 'π', 'ρ', 'ς', 'σ', 'τ', 'υ', 'χ', 'ϊ', 'ό', 'ύ', 'Є', 'І', 'Ї', 'А', 'Б', 'В', 'Г', 'Д', 'Е', 'Ж', 'З', 'И', 'Й', 'К', 'Л', 'М', 'Н', 'О', 'П', 'Р', 'С', 'Т', 'У', 'Ф', 'Х', 'Ц', 'Ч', 'Ш', 'Щ', 'Ы', 'Ь', 'Э', 'Ю', 'Я', 'а', 'б', 'в', 'г', 'д', 'е', 'ж', 'з', 'и', 'й', 'к', 'л', 'м', 'н', 'о', 'п', 'р', 'с', 'т', 'у', 'ф', 'х', 'ц', 'ч', 'ш', 'щ', 'ъ', 'ы', 'ь', 'э', 'ю', 'я', 'ё', 'є', 'і', 'ї', 'ј', 'ў', 'ѣ', 'Ґ', 'ґ', 'қ', 'ҳ', 'Ҷ', 'ҷ', 'آ', 'ا', 'ب', 'ح', 'د', 'ر', 'ز', 'س', 'ش', 'ف', 'ق', 'ل', 'م', 'ن', 'ه', 'و', 'ي', 'ک', 'گ', 'ی', 'ಕ', 'ಟ', 'ನ', 'ಾ', '೯', '\\u200b', '\\u200c', '\\u200e', '‒', '–', '—', '―', '‘', '’', '‚', '“', '”', '„', '†', '…', '€', '№', '→', '−', '≈', '【', '】', 'イ', 'ク', 'ザ', 'シ', 'ド', 'ニ', 'ホ', 'マ', 'ミ', 'ヤ', 'ラ', 'ル', 'ン', '久', '享', '伽', '保', '六', '十', '卷', '又', '呉', '唐', '四', '國', '土', '坂', '大', '小', '尺', '屋', '島', '年', '庫', '御', '截', '拳', '文', '日', '春', '曲', '服', '本', '柯', '波', '注', '浪', '牧', '猿', '秋', '稼', '笺', '编', '花', '華', '词', '赞', '轩', '辛', '道', '郎', '鄧', '阪', '難', '飛', '鯨', '（']\n"
     ]
    }
   ],
   "source": [
    "vocab = set()\n",
    "\n",
    "# Ideally we should take all dataset items into account here.\n",
    "for text in dataset_text.take(1000):\n",
    "    vocab.update([char.decode('utf-8') for char in text.numpy()])\n",
    "    \n",
    "vocab = sorted(vocab)\n",
    "\n",
    "print('Unique characters: {}'.format(len(vocab)))\n",
    "print('vocab:')\n",
    "print(vocab)"
   ]
  },
  {
   "cell_type": "markdown",
   "metadata": {
    "colab_type": "text",
    "id": "6dj4e-AGMaV4"
   },
   "source": [
    "### Vectorize the text\n",
    "\n",
    "Before feeding the text to our RNN we need to convert the text from a sequence of characters to a sequence of numbers. To do so we will detect all unique characters in the text, form a vocabulary out of it and replace each character with its index in the vocabulary."
   ]
  },
  {
   "cell_type": "code",
   "execution_count": 12,
   "metadata": {
    "colab": {
     "base_uri": "https://localhost:8080/",
     "height": 408
    },
    "colab_type": "code",
    "executionInfo": {
     "elapsed": 1510,
     "status": "ok",
     "timestamp": 1584519800417,
     "user": {
      "displayName": "Oleksii Trekhleb",
      "photoUrl": "https://lh3.googleusercontent.com/a-/AOh14GiiA4aUKCbFho88Jd0WWMoAqQUt3jbuCtfNYpHVOA=s64",
      "userId": "03172675069638383074"
     },
     "user_tz": -60
    },
    "id": "xFFpuXfGMPq2",
    "outputId": "530395b0-62e2-41e5-c0bf-63b2ca9da7cf"
   },
   "outputs": [
    {
     "name": "stdout",
     "output_type": "stream",
     "text": [
      "{\n",
      "  '\\t':   0,\n",
      "  '\\n':   1,\n",
      "  ' ' :   2,\n",
      "  '!' :   3,\n",
      "  '\"' :   4,\n",
      "  '#' :   5,\n",
      "  '$' :   6,\n",
      "  '%' :   7,\n",
      "  '&' :   8,\n",
      "  \"'\" :   9,\n",
      "  '(' :  10,\n",
      "  ')' :  11,\n",
      "  '*' :  12,\n",
      "  '+' :  13,\n",
      "  ',' :  14,\n",
      "  '-' :  15,\n",
      "  '.' :  16,\n",
      "  '/' :  17,\n",
      "  '0' :  18,\n",
      "  '1' :  19,\n",
      "  '2' :  20,\n",
      "  '3' :  21,\n",
      "  '4' :  22,\n",
      "  '5' :  23,\n",
      "  '6' :  24,\n",
      "  '7' :  25,\n",
      "  '8' :  26,\n",
      "  '9' :  27,\n",
      "  ':' :  28,\n",
      "  ';' :  29,\n",
      "  ...\n",
      "}\n"
     ]
    }
   ],
   "source": [
    "# Map characters to their indices in vocabulary.\n",
    "char2index = {char: index for index, char in enumerate(vocab)}\n",
    "\n",
    "print('{')\n",
    "for char, _ in zip(char2index, range(30)):\n",
    "    print('  {:4s}: {:3d},'.format(repr(char), char2index[char]))\n",
    "print('  ...\\n}')"
   ]
  },
  {
   "cell_type": "code",
   "execution_count": 13,
   "metadata": {
    "colab": {
     "base_uri": "https://localhost:8080/",
     "height": 85
    },
    "colab_type": "code",
    "executionInfo": {
     "elapsed": 1466,
     "status": "ok",
     "timestamp": 1584519800417,
     "user": {
      "displayName": "Oleksii Trekhleb",
      "photoUrl": "https://lh3.googleusercontent.com/a-/AOh14GiiA4aUKCbFho88Jd0WWMoAqQUt3jbuCtfNYpHVOA=s64",
      "userId": "03172675069638383074"
     },
     "user_tz": -60
    },
    "id": "lQB33zI7NkRo",
    "outputId": "ef5bc93f-7bad-437f-f70a-9eb53d895613"
   },
   "outputs": [
    {
     "name": "stdout",
     "output_type": "stream",
     "text": [
      "['\\t' '\\n' ' ' '!' '\"' '#' '$' '%' '&' \"'\" '(' ')' '*' '+' ',' '-' '.' '/'\n",
      " '0' '1' '2' '3' '4' '5' '6' '7' '8' '9' ':' ';' '<' '=' '>' '?' 'A' 'B'\n",
      " 'C' 'D' 'E' 'F' 'G' 'H' 'I' 'J' 'K' 'L' 'M' 'N' 'O' 'P' 'Q' 'R' 'S' 'T'\n",
      " 'U' 'V' 'W' 'X' 'Y' 'Z' '[' '\\\\' ']' '_' '`' 'a' 'b' 'c' 'd' 'e' 'f' 'g'\n",
      " 'h' 'i' 'j' 'k' 'l' 'm' 'n' 'o' 'p' 'q' 'r' 's' 't' 'u' 'v' 'w' 'x' 'y'\n",
      " 'z' '{' '|' '}' '\\xa0' '£' '«' '°' '²' '³' '´' '·' 'º' '»' '½' '¿' 'Á'\n",
      " 'Ç' 'È' 'É' 'Í' 'Ó' 'Ö' '×' 'Þ' 'ß' 'à' 'á' 'â' 'ã' 'ä' 'å' 'ç' 'è' 'é'\n",
      " 'ê' 'ë' 'ì' 'í' 'ð' 'ñ' 'ò' 'ó' 'ö' 'ø' 'ù' 'ú' 'û' 'ü' 'ý' 'þ' 'Ā' 'ā'\n",
      " 'ă' 'ą' 'ć' 'Č' 'č' 'ę' 'ě' 'Ł' 'ł' 'Ń' 'ń' 'ō' 'œ' 'Ś' 'ś' 'š' 'ť' 'ų'\n",
      " 'ż' 'Ž' 'ž' 'ș' 'ˆ' '́' 'Ά' 'Α' 'Κ' 'Λ' 'Τ' 'ά' 'α' 'γ' 'ε' 'ι' 'λ' 'μ'\n",
      " 'ν' 'ο' 'π' 'ρ' 'ς' 'σ' 'τ' 'υ' 'χ' 'ϊ' 'ό' 'ύ' 'Є' 'І' 'Ї' 'А' 'Б' 'В'\n",
      " 'Г' 'Д' 'Е' 'Ж' 'З' 'И' 'Й' 'К' 'Л' 'М' 'Н' 'О' 'П' 'Р' 'С' 'Т' 'У' 'Ф'\n",
      " 'Х' 'Ц' 'Ч' 'Ш' 'Щ' 'Ы' 'Ь' 'Э' 'Ю' 'Я' 'а' 'б' 'в' 'г' 'д' 'е' 'ж' 'з'\n",
      " 'и' 'й' 'к' 'л' 'м' 'н' 'о' 'п' 'р' 'с' 'т' 'у' 'ф' 'х' 'ц' 'ч' 'ш' 'щ'\n",
      " 'ъ' 'ы' 'ь' 'э' 'ю' 'я' 'ё' 'є' 'і' 'ї' 'ј' 'ў' 'ѣ' 'Ґ' 'ґ' 'қ' 'ҳ' 'Ҷ'\n",
      " 'ҷ' 'آ' 'ا' 'ب' 'ح' 'د' 'ر' 'ز' 'س' 'ش' 'ف' 'ق' 'ل' 'م' 'ن' 'ه' 'و' 'ي'\n",
      " 'ک' 'گ' 'ی' 'ಕ' 'ಟ' 'ನ' 'ಾ' '೯' '\\u200b' '\\u200c' '\\u200e' '‒' '–' '—'\n",
      " '―' '‘' '’' '‚' '“' '”' '„' '†' '…' '€' '№' '→' '−' '≈' '【' '】' 'イ' 'ク'\n",
      " 'ザ' 'シ' 'ド' 'ニ' 'ホ' 'マ' 'ミ' 'ヤ' 'ラ' 'ル' 'ン' '久' '享' '伽' '保' '六' '十' '卷'\n",
      " '又' '呉' '唐' '四' '國' '土' '坂' '大' '小' '尺' '屋' '島' '年' '庫' '御' '截' '拳' '文'\n",
      " '日' '春' '曲' '服' '本' '柯' '波' '注' '浪' '牧' '猿' '秋' '稼' '笺' '编' '花' '華' '词'\n",
      " '赞' '轩' '辛' '道' '郎' '鄧' '阪' '難' '飛' '鯨' '（']\n"
     ]
    }
   ],
   "source": [
    "# Map character indices to characters from vacabulary.\n",
    "index2char = np.array(vocab)\n",
    "\n",
    "print(index2char)"
   ]
  },
  {
   "cell_type": "code",
   "execution_count": 14,
   "metadata": {
    "colab": {
     "base_uri": "https://localhost:8080/",
     "height": 51
    },
    "colab_type": "code",
    "executionInfo": {
     "elapsed": 1367,
     "status": "ok",
     "timestamp": 1584519800418,
     "user": {
      "displayName": "Oleksii Trekhleb",
      "photoUrl": "https://lh3.googleusercontent.com/a-/AOh14GiiA4aUKCbFho88Jd0WWMoAqQUt3jbuCtfNYpHVOA=s64",
      "userId": "03172675069638383074"
     },
     "user_tz": -60
    },
    "id": "DXUAlYmvN_Rj",
    "outputId": "ef3412c4-68e0-4362-e093-feba628b7079"
   },
   "outputs": [
    {
     "name": "stdout",
     "output_type": "stream",
     "text": [
      "ORIGINAL CHARS: \n",
      "---\n",
      "З\n",
      "а\n",
      "р\n",
      "о\n",
      "в\n",
      "е\n",
      "н\n",
      "ь\n",
      "к\n",
      "а\n",
      "\n",
      "\n",
      "\n",
      "INDEXED CHARS: \n",
      "---\n",
      "201\n",
      "225\n",
      "241\n",
      "239\n",
      "227\n",
      "230\n",
      "238\n",
      "253\n",
      "235\n",
      "225\n"
     ]
    }
   ],
   "source": [
    "def char_to_index(char):\n",
    "    char_symbol = char.numpy().decode('utf-8')\n",
    "    char_index = char2index[char_symbol] if char_symbol in char2index else char2index['?']\n",
    "    return char_index\n",
    "\n",
    "dataset_chars_indexed = dataset_chars.map(\n",
    "    lambda char: tf.py_function(func=char_to_index, inp=[char], Tout=tf.int32)\n",
    ")\n",
    "\n",
    "print('ORIGINAL CHARS:', '\\n---')\n",
    "for char in dataset_chars.take(10):\n",
    "    print(char.numpy().decode())\n",
    "\n",
    "print('\\n\\n')    \n",
    "    \n",
    "print('INDEXED CHARS:', '\\n---')\n",
    "for char_index in dataset_chars_indexed.take(10):\n",
    "    print(char_index.numpy())"
   ]
  },
  {
   "cell_type": "markdown",
   "metadata": {
    "colab_type": "text",
    "id": "CHv5HhUuTQYS"
   },
   "source": [
    "## Create training sequences"
   ]
  },
  {
   "cell_type": "code",
   "execution_count": 15,
   "metadata": {},
   "outputs": [],
   "source": [
    "# The maximum length sentence we want for a single input in characters.\n",
    "sequence_length = 100"
   ]
  },
  {
   "cell_type": "code",
   "execution_count": 16,
   "metadata": {
    "colab": {
     "base_uri": "https://localhost:8080/",
     "height": 156
    },
    "colab_type": "code",
    "executionInfo": {
     "elapsed": 3082,
     "status": "ok",
     "timestamp": 1584519802697,
     "user": {
      "displayName": "Oleksii Trekhleb",
      "photoUrl": "https://lh3.googleusercontent.com/a-/AOh14GiiA4aUKCbFho88Jd0WWMoAqQUt3jbuCtfNYpHVOA=s64",
      "userId": "03172675069638383074"
     },
     "user_tz": -60
    },
    "id": "Ap71VjB2Vuct",
    "outputId": "0c05de4a-d66c-4f20-83a7-e584d853e98d"
   },
   "outputs": [
    {
     "name": "stdout",
     "output_type": "stream",
     "text": [
      "'Заровенька, Зровень\\xa0— річка в Україні, у Ємільчинському районі Житомирської області, права притока Ма'\n",
      "\"лої Глумчи (басейн Прип'яті).\\n\\nОпис \\nДовжина річки 13\\xa0км., похил річки\\xa0— 1,&nb3sp;м/км. Формується з \"\n",
      "'багатьох безіменних струмків. Площа басейну 65,4\\xa0км².\\n\\nРозташування \\nБере початок на південному заход'\n",
      "'і від села Просіка. Тече на північний схід в межах сіл Заровенка та Медведеве. На околиці села Парани'\n",
      "'не впадає у річку Малу Глумчу, притоку Уборті.\\n\\nРиби Заровеньки \\nУ річці водиться щука звичайна, бист'\n",
      "'рянка звичайна, карась звичайний, окунь, пічкур та плітка звичайна.\\n\\nДжерела \\n «Каталог річок України'\n",
      "'».\\xa0— К. : Видавництво АН УРСР, 1957.\\xa0— С.\\xa083.\\xa0— (№\\xa01340).\\n\\nКатегорія:Малі річки України\\nКатегорія:Річ'\n",
      "'ки Житомирської області\\nКатегорія:Ємільчинський район\\nКатегорія:Річки Ємільчинського районуСінь Ціцзі'\n",
      "' (* 28 травня 1140\\xa0— †10 березня 1207)\\xa0— китайський військовий діяч та поет часів династії Південна С'\n",
      "'ун.\\n\\nЖиттєпис \\nПоходив з родини військовиків Сінь. народився у м. Цзінань, що у теперішній провінції '\n"
     ]
    }
   ],
   "source": [
    "# Generate batched sequences out of the char_dataset.\n",
    "sequences = dataset_chars_indexed.batch(sequence_length + 1, drop_remainder=True)\n",
    "\n",
    "# Sequences examples.\n",
    "for item in sequences.take(10):\n",
    "    print(repr(''.join(index2char[item.numpy()])))"
   ]
  },
  {
   "cell_type": "code",
   "execution_count": 17,
   "metadata": {
    "colab": {},
    "colab_type": "code",
    "id": "Y8spPCfe-iTn"
   },
   "outputs": [],
   "source": [
    "# sequences shape:\n",
    "# - Each sequence of length 101\n",
    "#\n",
    "#    101     101          101\n",
    "# [(.....) (.....) ...  (.....)]"
   ]
  },
  {
   "cell_type": "markdown",
   "metadata": {
    "colab_type": "text",
    "id": "HdcrcUs4Xxso"
   },
   "source": [
    "For each sequence, duplicate and shift it to form the input and target text. For example, say `sequence_length` is `4` and our text is `Hello`. The input sequence would be `Hell`, and the target sequence `ello`."
   ]
  },
  {
   "cell_type": "code",
   "execution_count": 18,
   "metadata": {
    "colab": {},
    "colab_type": "code",
    "id": "9fxvXsP0XFDh"
   },
   "outputs": [],
   "source": [
    "def split_input_target(chunk):\n",
    "    input_text = chunk[:-1]\n",
    "    target_text = chunk[1:]\n",
    "    return input_text, target_text"
   ]
  },
  {
   "cell_type": "code",
   "execution_count": 19,
   "metadata": {
    "colab": {
     "base_uri": "https://localhost:8080/",
     "height": 34
    },
    "colab_type": "code",
    "executionInfo": {
     "elapsed": 6915,
     "status": "ok",
     "timestamp": 1584519807164,
     "user": {
      "displayName": "Oleksii Trekhleb",
      "photoUrl": "https://lh3.googleusercontent.com/a-/AOh14GiiA4aUKCbFho88Jd0WWMoAqQUt3jbuCtfNYpHVOA=s64",
      "userId": "03172675069638383074"
     },
     "user_tz": -60
    },
    "id": "454rWIQYXXRY",
    "outputId": "de3a70e1-49e8-4f68-d988-77d1856a2e60"
   },
   "outputs": [],
   "source": [
    "dataset_sequences = sequences.map(split_input_target)"
   ]
  },
  {
   "cell_type": "code",
   "execution_count": 20,
   "metadata": {
    "colab": {
     "base_uri": "https://localhost:8080/",
     "height": 122
    },
    "colab_type": "code",
    "executionInfo": {
     "elapsed": 6548,
     "status": "ok",
     "timestamp": 1584519807165,
     "user": {
      "displayName": "Oleksii Trekhleb",
      "photoUrl": "https://lh3.googleusercontent.com/a-/AOh14GiiA4aUKCbFho88Jd0WWMoAqQUt3jbuCtfNYpHVOA=s64",
      "userId": "03172675069638383074"
     },
     "user_tz": -60
    },
    "id": "Kuoh4tCdYCck",
    "outputId": "b03368eb-4c92-4662-95fe-d64f6bec308d"
   },
   "outputs": [
    {
     "name": "stdout",
     "output_type": "stream",
     "text": [
      "Input sequence size: 100\n",
      "Target sequence size: 100\n",
      "\n",
      "Input: 'Заровенька, Зровень\\xa0— річка в Україні, у Ємільчинському районі Житомирської області, права притока М'\n",
      "Target: 'аровенька, Зровень\\xa0— річка в Україні, у Ємільчинському районі Житомирської області, права притока Ма'\n"
     ]
    }
   ],
   "source": [
    "for input_example, target_example in dataset_sequences.take(1):\n",
    "    print('Input sequence size:', repr(len(input_example.numpy())))\n",
    "    print('Target sequence size:', repr(len(target_example.numpy())))\n",
    "    print()\n",
    "    print('Input:', repr(''.join(index2char[input_example.numpy()])))\n",
    "    print('Target:', repr(''.join(index2char[target_example.numpy()])))"
   ]
  },
  {
   "cell_type": "code",
   "execution_count": 21,
   "metadata": {
    "colab": {},
    "colab_type": "code",
    "id": "cp0tl0sN807l"
   },
   "outputs": [],
   "source": [
    "# dataset shape:\n",
    "# - Each sequence is a tuple of 2 sub-sequences of length 100 (input_text and target_text)\n",
    "#\n",
    "#    100       100           100\n",
    "# /(.....)\\ /(.....)\\ ... /(.....)\\  <-- input_text\n",
    "# \\(.....)/ \\(.....)/     \\(.....)/  <-- target_text"
   ]
  },
  {
   "cell_type": "markdown",
   "metadata": {
    "colab_type": "text",
    "id": "BDYHEJ0pY1ai"
   },
   "source": [
    "Each index of these vectors are processed as one time step. For the input at time step 0, the model receives the index for \"F\" and trys to predict the index for \"i\" as the next character. At the next timestep, it does the same thing but the RNN considers the previous step context in addition to the current input character."
   ]
  },
  {
   "cell_type": "code",
   "execution_count": 22,
   "metadata": {
    "colab": {
     "base_uri": "https://localhost:8080/",
     "height": 272
    },
    "colab_type": "code",
    "executionInfo": {
     "elapsed": 6469,
     "status": "ok",
     "timestamp": 1584519807584,
     "user": {
      "displayName": "Oleksii Trekhleb",
      "photoUrl": "https://lh3.googleusercontent.com/a-/AOh14GiiA4aUKCbFho88Jd0WWMoAqQUt3jbuCtfNYpHVOA=s64",
      "userId": "03172675069638383074"
     },
     "user_tz": -60
    },
    "id": "C-0zpv53Y2o4",
    "outputId": "05fb1543-308c-42f9-d2ee-003c2454772b"
   },
   "outputs": [
    {
     "name": "stdout",
     "output_type": "stream",
     "text": [
      "Step #0\n",
      "  input: 201 ('З')\n",
      "  expected output: 225 ('а')\n",
      "\n",
      "Step #1\n",
      "  input: 225 ('а')\n",
      "  expected output: 241 ('р')\n",
      "\n",
      "Step #2\n",
      "  input: 241 ('р')\n",
      "  expected output: 239 ('о')\n",
      "\n",
      "Step #3\n",
      "  input: 239 ('о')\n",
      "  expected output: 227 ('в')\n",
      "\n",
      "Step #4\n",
      "  input: 227 ('в')\n",
      "  expected output: 230 ('е')\n",
      "\n"
     ]
    }
   ],
   "source": [
    "for i, (input_idx, target_idx) in enumerate(zip(input_example[:5], target_example[:5])):\n",
    "    print('Step #{:1d}'.format(i))\n",
    "    print('  input: {} ({:s})'.format(input_idx, repr(index2char[input_idx])))\n",
    "    print('  expected output: {} ({:s})'.format(target_idx, repr(index2char[target_idx])))\n",
    "    print()"
   ]
  },
  {
   "cell_type": "markdown",
   "metadata": {
    "colab_type": "text",
    "id": "1iDlp40lC5YB"
   },
   "source": [
    "## Split training sequences into batches\n",
    "\n",
    "We used `tf.data` to split the text into manageable sequences. But before feeding this data into the model, we need to shuffle the data and pack it into batches."
   ]
  },
  {
   "cell_type": "code",
   "execution_count": 23,
   "metadata": {
    "colab": {
     "base_uri": "https://localhost:8080/",
     "height": 34
    },
    "colab_type": "code",
    "executionInfo": {
     "elapsed": 6256,
     "status": "ok",
     "timestamp": 1584519807585,
     "user": {
      "displayName": "Oleksii Trekhleb",
      "photoUrl": "https://lh3.googleusercontent.com/a-/AOh14GiiA4aUKCbFho88Jd0WWMoAqQUt3jbuCtfNYpHVOA=s64",
      "userId": "03172675069638383074"
     },
     "user_tz": -60
    },
    "id": "eDq-wa5EC3wW",
    "outputId": "d13224e8-062a-4df8-c232-04f60d572e8d"
   },
   "outputs": [
    {
     "data": {
      "text/plain": [
       "<DatasetV1Adapter shapes: (<unknown>, <unknown>), types: (tf.int32, tf.int32)>"
      ]
     },
     "execution_count": 23,
     "metadata": {},
     "output_type": "execute_result"
    }
   ],
   "source": [
    "# Batch size.\n",
    "BATCH_SIZE = 64\n",
    "\n",
    "# Buffer size to shuffle the dataset (TF data is designed to work\n",
    "# with possibly infinite sequences, so it doesn't attempt to shuffle\n",
    "# the entire sequence in memory. Instead, it maintains a buffer in\n",
    "# which it shuffles elements).\n",
    "BUFFER_SIZE = 100\n",
    "\n",
    "# How many items to prefetch before the next iteration.\n",
    "PREFETCH_SIZE = 2\n",
    "\n",
    "dataset_sequence_batches = dataset_sequences \\\n",
    "    .shuffle(BUFFER_SIZE) \\\n",
    "    .batch(BATCH_SIZE, drop_remainder=True) \\\n",
    "    .prefetch(PREFETCH_SIZE)\n",
    "\n",
    "dataset_sequence_batches"
   ]
  },
  {
   "cell_type": "code",
   "execution_count": 24,
   "metadata": {
    "colab": {
     "base_uri": "https://localhost:8080/",
     "height": 306
    },
    "colab_type": "code",
    "executionInfo": {
     "elapsed": 9749,
     "status": "ok",
     "timestamp": 1584519811500,
     "user": {
      "displayName": "Oleksii Trekhleb",
      "photoUrl": "https://lh3.googleusercontent.com/a-/AOh14GiiA4aUKCbFho88Jd0WWMoAqQUt3jbuCtfNYpHVOA=s64",
      "userId": "03172675069638383074"
     },
     "user_tz": -60
    },
    "id": "b_kYgvQGBO0U",
    "outputId": "2dfda8dc-a501-4e5f-8835-6c87b8f77051"
   },
   "outputs": [
    {
     "name": "stdout",
     "output_type": "stream",
     "text": [
      "1st batch: input_text: tf.Tensor(\n",
      "[[239   2 240 ... 225 238 243]\n",
      " [238 241 259 ... 225 243 239]\n",
      " [233   2 248 ... 229 259 226]\n",
      " ...\n",
      " [242 253 235 ... 244 227   2]\n",
      " [ 14   2 235 ... 238 233   2]\n",
      " [225 227   2 ... 243 233 242]], shape=(64, 100), dtype=int32)\n",
      "\n",
      "1st batch: target_text: tf.Tensor(\n",
      "[[  2 240 259 ... 238 243 259]\n",
      " [241 259   2 ... 243 239   2]\n",
      " [  2 248 225 ... 259 226 238]\n",
      " ...\n",
      " [253 235 233 ... 227   2 229]\n",
      " [  2 235 239 ... 233   2 240]\n",
      " [227   2 240 ... 233 242 256]], shape=(64, 100), dtype=int32)\n"
     ]
    }
   ],
   "source": [
    "for input_text, target_text in dataset_sequence_batches.take(1):\n",
    "    print('1st batch: input_text:', input_text)\n",
    "    print()\n",
    "    print('1st batch: target_text:', target_text)"
   ]
  },
  {
   "cell_type": "code",
   "execution_count": 25,
   "metadata": {
    "colab": {},
    "colab_type": "code",
    "id": "UkDCH15v_2I6"
   },
   "outputs": [],
   "source": [
    "# dataset shape:\n",
    "# - 64 sequences per batch\n",
    "# - Each sequence is a tuple of 2 sub-sequences of length 100 (input_text and target_text)\n",
    "#\n",
    "#\n",
    "#     100       100           100             100       100           100\n",
    "# |/(.....)\\ /(.....)\\ ... /(.....)\\| ... |/(.....)\\ /(.....)\\ ... /(.....)\\|  <-- input_text\n",
    "# |\\(.....)/ \\(.....)/     \\(.....)/| ... |\\(.....)/ \\(.....)/     \\(.....)/|  <-- target_text\n",
    "#\n",
    "# <------------- 64 ---------------->     <------------- 64 ---------------->"
   ]
  },
  {
   "cell_type": "markdown",
   "metadata": {
    "colab_type": "text",
    "id": "ghB-VwLlD-Oz"
   },
   "source": [
    "## Build the model\n",
    "\n",
    "Use [tf.keras.Sequential](https://www.tensorflow.org/api_docs/python/tf/keras/Sequential) to define the model. For this simple example three layers are used to define our model:\n",
    "\n",
    "- [tf.keras.layers.Embedding](https://www.tensorflow.org/api_docs/python/tf/keras/layers/Embedding): The input layer. A trainable lookup table that will map the numbers of each character to a vector with `embedding_dim` dimensions;\n",
    "- [tf.keras.layers.LSTM](https://www.tensorflow.org/api_docs/python/tf/keras/layers/LSTM): A type of RNN with size units=rnn_units (You can also use a GRU layer here.)\n",
    "- [tf.keras.layers.Dense](https://www.tensorflow.org/api_docs/python/tf/keras/layers/Dense): The output layer, with vocab_size outputs."
   ]
  },
  {
   "cell_type": "code",
   "execution_count": 26,
   "metadata": {
    "colab": {
     "base_uri": "https://localhost:8080/",
     "height": 425
    },
    "colab_type": "code",
    "executionInfo": {
     "elapsed": 9280,
     "status": "ok",
     "timestamp": 1584519811503,
     "user": {
      "displayName": "Oleksii Trekhleb",
      "photoUrl": "https://lh3.googleusercontent.com/a-/AOh14GiiA4aUKCbFho88Jd0WWMoAqQUt3jbuCtfNYpHVOA=s64",
      "userId": "03172675069638383074"
     },
     "user_tz": -60
    },
    "id": "0cg8DlO3QjuT",
    "outputId": "21a9daf0-1aca-4923-958e-317293023462"
   },
   "outputs": [
    {
     "name": "stdout",
     "output_type": "stream",
     "text": [
      "tmp_input_array shape: (2, 8)\n",
      "tmp_input_array:\n",
      "[[0 4 8 6 4 6 7 7]\n",
      " [9 8 1 5 2 9 6 9]]\n",
      "\n",
      "tmp_output_array shape: (2, 8, 5)\n",
      "tmp_output_array:\n",
      "[[[-0.038481   -0.02726613 -0.02166326  0.00993923 -0.0168849 ]\n",
      "  [ 0.00996238  0.01269828  0.00959361  0.0118058   0.02065872]\n",
      "  [-0.0281956   0.00604958  0.00269035 -0.0146925  -0.02730904]\n",
      "  [ 0.02527901 -0.03438628  0.04604698  0.00957366 -0.04971514]\n",
      "  [ 0.00996238  0.01269828  0.00959361  0.0118058   0.02065872]\n",
      "  [ 0.02527901 -0.03438628  0.04604698  0.00957366 -0.04971514]\n",
      "  [ 0.04891751 -0.01144677 -0.04426147 -0.04453633  0.01565293]\n",
      "  [ 0.04891751 -0.01144677 -0.04426147 -0.04453633  0.01565293]]\n",
      "\n",
      " [[-0.01786686  0.03730435 -0.01601363 -0.0080577  -0.04962864]\n",
      "  [-0.0281956   0.00604958  0.00269035 -0.0146925  -0.02730904]\n",
      "  [ 0.01273504 -0.0389302  -0.03658929 -0.03965331  0.01977099]\n",
      "  [-0.03892159 -0.04819626  0.043899    0.0241535  -0.03001779]\n",
      "  [ 0.01541283  0.02575357 -0.04858123 -0.00242297 -0.04811531]\n",
      "  [-0.01786686  0.03730435 -0.01601363 -0.0080577  -0.04962864]\n",
      "  [ 0.02527901 -0.03438628  0.04604698  0.00957366 -0.04971514]\n",
      "  [-0.01786686  0.03730435 -0.01601363 -0.0080577  -0.04962864]]]\n"
     ]
    }
   ],
   "source": [
    "# Let's do a quick detour and see how Embeding layer works.\n",
    "# It takes several char indices sequences (batch) as an input.\n",
    "# It encodes every character of every sequence to a vector of tmp_embeding_size length.\n",
    "tmp_vocab_size = 10\n",
    "tmp_embeding_size = 5\n",
    "tmp_input_length = 8\n",
    "tmp_batch_size = 2\n",
    "\n",
    "tmp_model = tf.keras.models.Sequential()\n",
    "tmp_model.add(tf.keras.layers.Embedding(\n",
    "  input_dim=tmp_vocab_size,\n",
    "  output_dim=tmp_embeding_size,\n",
    "  input_length=tmp_input_length\n",
    "))\n",
    "# The model will take as input an integer matrix of size (batch, input_length).\n",
    "# The largest integer (i.e. word index) in the input should be no larger than 9 (tmp_vocab_size).\n",
    "# Now model.output_shape == (None, 10, 64), where None is the batch dimension.\n",
    "tmp_input_array = np.random.randint(\n",
    "  low=0,\n",
    "  high=tmp_vocab_size,\n",
    "  size=(tmp_batch_size, tmp_input_length)\n",
    ")\n",
    "tmp_model.compile('rmsprop', 'mse')\n",
    "tmp_output_array = tmp_model.predict(tmp_input_array)\n",
    "\n",
    "print('tmp_input_array shape:', tmp_input_array.shape)\n",
    "print('tmp_input_array:')\n",
    "print(tmp_input_array)\n",
    "print()\n",
    "print('tmp_output_array shape:', tmp_output_array.shape)\n",
    "print('tmp_output_array:')\n",
    "print(tmp_output_array)"
   ]
  },
  {
   "cell_type": "code",
   "execution_count": 27,
   "metadata": {
    "colab": {},
    "colab_type": "code",
    "id": "I7ZuvZHBD_pS"
   },
   "outputs": [],
   "source": [
    "# Length of the vocabulary in chars.\n",
    "vocab_size = len(vocab)\n",
    "\n",
    "# The embedding dimension.\n",
    "embedding_dim = 256\n",
    "\n",
    "# Number of RNN units.\n",
    "rnn_units = 1024"
   ]
  },
  {
   "cell_type": "code",
   "execution_count": 28,
   "metadata": {
    "colab": {},
    "colab_type": "code",
    "id": "-sojdDCAICWO"
   },
   "outputs": [],
   "source": [
    "def build_model(vocab_size, embedding_dim, rnn_units, batch_size):\n",
    "    model = tf.keras.models.Sequential()\n",
    "\n",
    "    model.add(tf.keras.layers.Embedding(\n",
    "      input_dim=vocab_size,\n",
    "      output_dim=embedding_dim,\n",
    "      batch_input_shape=[batch_size, None]\n",
    "    ))\n",
    "\n",
    "    model.add(tf.keras.layers.LSTM(\n",
    "      units=rnn_units,\n",
    "      return_sequences=True,\n",
    "      stateful=True,\n",
    "      recurrent_initializer=tf.keras.initializers.GlorotNormal()\n",
    "    ))\n",
    "\n",
    "    model.add(tf.keras.layers.Dense(vocab_size))\n",
    "  \n",
    "    return model"
   ]
  },
  {
   "cell_type": "code",
   "execution_count": 29,
   "metadata": {
    "colab": {},
    "colab_type": "code",
    "id": "XoPwxyAPEg6z"
   },
   "outputs": [],
   "source": [
    "model = build_model(vocab_size, embedding_dim, rnn_units, BATCH_SIZE)"
   ]
  },
  {
   "cell_type": "code",
   "execution_count": 30,
   "metadata": {
    "colab": {
     "base_uri": "https://localhost:8080/",
     "height": 255
    },
    "colab_type": "code",
    "executionInfo": {
     "elapsed": 8897,
     "status": "ok",
     "timestamp": 1584519812083,
     "user": {
      "displayName": "Oleksii Trekhleb",
      "photoUrl": "https://lh3.googleusercontent.com/a-/AOh14GiiA4aUKCbFho88Jd0WWMoAqQUt3jbuCtfNYpHVOA=s64",
      "userId": "03172675069638383074"
     },
     "user_tz": -60
    },
    "id": "iLnlZFgU55bQ",
    "outputId": "eeece968-3a2a-4652-a0b7-d8f6944cdbc2"
   },
   "outputs": [
    {
     "name": "stdout",
     "output_type": "stream",
     "text": [
      "Model: \"sequential_1\"\n",
      "_________________________________________________________________\n",
      "Layer (type)                 Output Shape              Param #   \n",
      "=================================================================\n",
      "embedding_1 (Embedding)      (64, None, 256)           98304     \n",
      "_________________________________________________________________\n",
      "lstm (LSTM)                  (64, None, 1024)          5246976   \n",
      "_________________________________________________________________\n",
      "dense (Dense)                (64, None, 384)           393600    \n",
      "=================================================================\n",
      "Total params: 5,738,880\n",
      "Trainable params: 5,738,880\n",
      "Non-trainable params: 0\n",
      "_________________________________________________________________\n"
     ]
    }
   ],
   "source": [
    "model.summary()"
   ]
  },
  {
   "cell_type": "code",
   "execution_count": 31,
   "metadata": {
    "colab": {
     "base_uri": "https://localhost:8080/",
     "height": 422
    },
    "colab_type": "code",
    "executionInfo": {
     "elapsed": 8704,
     "status": "ok",
     "timestamp": 1584519812084,
     "user": {
      "displayName": "Oleksii Trekhleb",
      "photoUrl": "https://lh3.googleusercontent.com/a-/AOh14GiiA4aUKCbFho88Jd0WWMoAqQUt3jbuCtfNYpHVOA=s64",
      "userId": "03172675069638383074"
     },
     "user_tz": -60
    },
    "id": "CcaO_rO_8-GH",
    "outputId": "21830f00-dc89-417a-81d8-8988354235f4"
   },
   "outputs": [
    {
     "data": {
      "image/png": "[encoded data removed]",
      "text/plain": [
       "<IPython.core.display.Image object>"
      ]
     },
     "execution_count": 31,
     "metadata": {},
     "output_type": "execute_result"
    }
   ],
   "source": [
    "tf.keras.utils.plot_model(\n",
    "    model,\n",
    "    show_shapes=True,\n",
    "    show_layer_names=True,\n",
    ")"
   ]
  },
  {
   "cell_type": "markdown",
   "metadata": {
    "colab_type": "text",
    "id": "JpL9idwZV6fL"
   },
   "source": [
    "For each character the model looks up the embedding, runs the GRU one timestep with the embedding as input, and applies the dense layer to generate logits predicting the log-likelihood of the next character:\n",
    "\n",
    "![Model architecture](https://www.tensorflow.org/tutorials/text/images/text_generation_training.png)\n",
    "\n",
    "Image source: [Text generation with an RNN](https://www.tensorflow.org/tutorials/text/text_generation) notebook."
   ]
  },
  {
   "cell_type": "markdown",
   "metadata": {
    "colab_type": "text",
    "id": "Npruiy2RAPkt"
   },
   "source": [
    "## Try the model"
   ]
  },
  {
   "cell_type": "code",
   "execution_count": 32,
   "metadata": {
    "colab": {
     "base_uri": "https://localhost:8080/",
     "height": 34
    },
    "colab_type": "code",
    "executionInfo": {
     "elapsed": 11144,
     "status": "ok",
     "timestamp": 1584519814917,
     "user": {
      "displayName": "Oleksii Trekhleb",
      "photoUrl": "https://lh3.googleusercontent.com/a-/AOh14GiiA4aUKCbFho88Jd0WWMoAqQUt3jbuCtfNYpHVOA=s64",
      "userId": "03172675069638383074"
     },
     "user_tz": -60
    },
    "id": "E4DCLA0GASL1",
    "outputId": "eba67358-d6b9-4b42-a2f1-dc6ed3e0708c"
   },
   "outputs": [
    {
     "name": "stdout",
     "output_type": "stream",
     "text": [
      "(64, 100, 384) # (batch_size, sequence_length, vocab_size)\n"
     ]
    }
   ],
   "source": [
    "for input_example_batch, target_example_batch in dataset_sequence_batches.take(1):\n",
    "    example_batch_predictions = model(input_example_batch)\n",
    "    print(example_batch_predictions.shape, \"# (batch_size, sequence_length, vocab_size)\")\n"
   ]
  },
  {
   "cell_type": "markdown",
   "metadata": {
    "colab_type": "text",
    "id": "MWebJXU9CEPd"
   },
   "source": [
    "To get actual predictions from the model we need to sample from the output distribution, to get actual character indices. This distribution is defined by the logits over the character vocabulary."
   ]
  },
  {
   "cell_type": "code",
   "execution_count": 33,
   "metadata": {
    "colab": {
     "base_uri": "https://localhost:8080/",
     "height": 340
    },
    "colab_type": "code",
    "executionInfo": {
     "elapsed": 11020,
     "status": "ok",
     "timestamp": 1584519814919,
     "user": {
      "displayName": "Oleksii Trekhleb",
      "photoUrl": "https://lh3.googleusercontent.com/a-/AOh14GiiA4aUKCbFho88Jd0WWMoAqQUt3jbuCtfNYpHVOA=s64",
      "userId": "03172675069638383074"
     },
     "user_tz": -60
    },
    "id": "Y4Jgo-iECFWI",
    "outputId": "a59cb406-3813-4fb0-8297-6862a73f2499"
   },
   "outputs": [
    {
     "name": "stdout",
     "output_type": "stream",
     "text": [
      "Prediction for the 1st letter of the batch 1st sequense:\n",
      "tf.Tensor(\n",
      "[-1.0665847e-03  4.2151292e-03 -9.2997006e-04 -8.3233888e-04\n",
      "  2.5098564e-03 -1.5745489e-03 -1.0569105e-03 -1.1702729e-03\n",
      " -1.7039576e-03 -9.4844104e-04 -1.3466426e-03  1.9498138e-03\n",
      " -5.1676057e-04 -3.2042461e-03 -3.6321806e-03  2.5401206e-03\n",
      "  2.1057795e-03  3.5371725e-03 -7.4633904e-04 -4.4399500e-03\n",
      " -2.0784460e-04  1.5936730e-03  2.6403675e-03  1.7563533e-04\n",
      " -4.4415258e-03 -4.5956438e-04 -4.9564540e-03  1.5500184e-03\n",
      "  4.9442686e-03  2.5056116e-03 -2.2709442e-03 -3.4741205e-03\n",
      " -2.2076133e-03 -1.0781814e-03 -1.2681382e-03 -2.9794078e-03\n",
      "  1.2838887e-04  5.2677044e-03  3.1298380e-03  1.9386245e-03\n",
      " -1.5300089e-03  2.3168079e-03 -5.1433861e-04 -1.7198408e-04\n",
      " -2.8208571e-03 -7.7836625e-03  5.5085559e-04  4.8587769e-03\n",
      " -2.5362754e-04 -5.0350646e-03  1.9213958e-03 -1.4964279e-03\n",
      "  3.0322280e-03  2.8125346e-03  6.6434540e-04  2.5566155e-03\n",
      "  4.7349492e-03  2.1713832e-04  1.0093118e-03 -1.8680664e-03\n",
      "  1.7560719e-03  3.4445743e-03  2.8286397e-04  4.1140220e-04\n",
      " -3.6106995e-04 -2.6281693e-03  1.3213630e-03  1.4924286e-03\n",
      "  4.7656070e-03 -5.9848232e-03 -7.7032833e-05 -8.5348036e-04\n",
      " -2.6479624e-03  3.0635302e-03 -4.6751332e-03 -1.5069437e-03\n",
      " -1.2365920e-03 -2.5277222e-03 -7.6878862e-04  7.2276441e-04\n",
      " -2.0846655e-03  1.1993486e-03 -3.2204150e-03 -3.2687760e-03\n",
      "  4.6500335e-03  4.4561755e-03  2.2803296e-03 -7.6860160e-04\n",
      "  3.5734372e-03  2.0768174e-03  2.6785091e-03 -3.0525750e-03\n",
      "  7.8075484e-04  5.3139115e-03 -2.4842299e-03 -2.0274182e-04\n",
      "  3.8020505e-04  2.5479179e-03  2.2431454e-03 -4.6603899e-03\n",
      " -1.9781175e-03 -4.9458654e-03 -2.4557195e-03  1.8993388e-03\n",
      "  3.4657505e-03 -9.0663607e-04  3.8980930e-03  1.9710679e-03\n",
      " -2.9549776e-03  1.0616239e-04  4.2623287e-04  3.4407643e-03\n",
      " -1.8328661e-04  6.6290381e-03 -3.3433700e-03  2.1127885e-04\n",
      "  5.1610027e-03 -9.3158265e-04  2.6981295e-03 -1.8724517e-03\n",
      " -3.6935192e-03 -2.4428254e-03 -4.8945108e-03  7.8394357e-04\n",
      "  1.7098968e-03  8.7223895e-04  1.4140479e-03 -3.7092487e-03\n",
      "  7.7079318e-04  1.4478458e-03  1.9036375e-03 -3.9766394e-03\n",
      " -2.6434110e-03 -1.4935829e-03 -6.1533693e-04 -3.7116888e-03\n",
      " -2.5159507e-03 -2.0520175e-03  3.6148622e-03 -6.7789382e-03\n",
      " -5.2752639e-03 -1.7007478e-03  1.0791034e-03  1.3290461e-03\n",
      "  4.2213630e-03  2.4807132e-03 -3.5971836e-03  2.1724862e-03\n",
      "  1.2090855e-03  9.8518899e-04  2.1301787e-03 -1.6605379e-03\n",
      " -5.6547922e-04  4.0766345e-03  1.4170108e-04 -7.2544091e-05\n",
      " -9.7922410e-04 -2.7189581e-03 -4.3648826e-03 -5.1075360e-04\n",
      "  5.1706668e-04 -2.5038183e-04  3.2779919e-03  2.0928818e-03\n",
      " -2.1541622e-03 -3.3043241e-03 -5.0583943e-03  1.5788358e-03\n",
      "  9.4476726e-04  1.2036320e-03 -2.9260516e-03 -1.7857571e-03\n",
      " -5.8558636e-04  3.0547576e-03  7.2519062e-05  1.5407690e-03\n",
      "  3.6061774e-03 -1.5368327e-03  2.2499636e-03 -2.5853589e-03\n",
      "  2.1729202e-03 -2.2005937e-03 -8.0180878e-04  2.3000396e-03\n",
      " -1.0117426e-03 -4.1839820e-03 -3.3319364e-03  2.6420075e-03\n",
      "  3.7569511e-03 -3.6254147e-04  3.0090073e-03 -6.4551795e-04\n",
      " -9.0777606e-04  5.1921001e-04  1.8400309e-03 -4.5693829e-03\n",
      "  1.5632648e-03 -1.7461115e-03 -2.5361236e-03 -3.4544454e-03\n",
      "  1.2055396e-03  1.8886719e-03 -5.6905337e-03  1.1468679e-04\n",
      "  8.9683064e-04 -1.2102638e-03 -4.7822390e-04  3.0963342e-03\n",
      "  2.4744160e-03 -1.3452157e-03 -1.9770060e-03 -1.6715794e-03\n",
      "  6.8102707e-04 -1.3079636e-03 -3.8023340e-05  6.3729321e-04\n",
      "  1.9633672e-03  2.7743492e-03 -2.0190594e-03 -1.5589130e-03\n",
      " -5.9883804e-03 -2.3269264e-03 -3.1093825e-03 -2.0131157e-03\n",
      "  3.8728444e-04 -3.8445781e-03 -1.5858284e-03  5.4528029e-03\n",
      "  5.8069574e-03  2.1265238e-03  1.1015730e-03 -4.2697885e-03\n",
      " -1.3844504e-03 -3.0227232e-04 -1.9029006e-03  9.2815195e-04\n",
      " -1.3000792e-03  4.2906641e-03 -3.9155496e-04 -5.4273463e-04\n",
      " -7.5197825e-04 -1.1435256e-04  6.2312465e-06 -1.7393683e-03\n",
      "  4.7001634e-03 -5.3703836e-03  3.9027480e-05  6.1879130e-03\n",
      "  2.7765965e-04 -5.0463271e-04 -3.4525301e-03 -3.2864399e-03\n",
      " -1.6207548e-03  1.3703470e-03  2.6698268e-03 -9.7332289e-04\n",
      "  1.3514938e-03 -1.5235336e-03 -3.7815645e-03 -4.1361526e-03\n",
      " -3.1857030e-03 -2.0138517e-03  5.5092166e-04  3.4846994e-03\n",
      "  8.8782422e-04  4.4533513e-03  5.2188092e-04 -1.3335209e-03\n",
      "  1.0878018e-03 -1.6344470e-03  5.4463965e-04  4.6979528e-04\n",
      "  2.6018452e-03 -3.1057701e-03 -3.6497985e-03 -4.4557070e-03\n",
      " -9.6486160e-04  3.1900411e-03 -1.0757430e-03 -3.3987695e-03\n",
      " -2.7090355e-03  3.3999267e-03  4.7107055e-03 -7.8949868e-04\n",
      " -9.8114542e-04 -2.8770638e-03  2.4365769e-03  1.9637244e-03\n",
      "  4.2868536e-03  4.0075821e-03  7.1896333e-04  3.2764248e-04\n",
      "  1.3135350e-03  1.1041225e-03  3.6118319e-03 -3.6215563e-03\n",
      "  7.1999012e-03  4.6709902e-03  1.3045573e-03 -8.7100622e-04\n",
      " -2.7161506e-03 -4.2265411e-03  9.8936947e-04  1.1103577e-04\n",
      " -7.4742746e-04  2.4753653e-03  7.0411819e-03 -1.5218402e-03\n",
      "  5.0531975e-03 -6.2841229e-04 -1.6942453e-03  4.6506999e-03\n",
      "  4.1023442e-03  7.6363975e-04 -2.6309635e-03 -3.5037179e-03\n",
      "  2.4192673e-03  1.9399058e-03  5.0894711e-03 -9.1406418e-04\n",
      "  6.6058437e-04 -5.8855014e-03 -7.1543665e-04 -2.3037898e-04\n",
      "  2.3490372e-03 -1.6160440e-04  7.3853415e-05 -4.9265317e-04\n",
      " -2.1738996e-04 -4.2406046e-03 -4.4043208e-03 -3.1928406e-03\n",
      " -2.6518601e-04  5.4321717e-04 -3.4034764e-04 -1.3149781e-03\n",
      "  3.3546239e-03  1.5573347e-03 -5.3297501e-04  1.5415775e-04\n",
      " -1.6398699e-03  3.4555863e-03  1.8753423e-03 -3.6201803e-03\n",
      " -1.5402031e-03  1.0039270e-03 -7.8771081e-06  1.6798750e-03\n",
      "  2.4605291e-03 -1.9425927e-03  6.8924302e-04  3.3117610e-04\n",
      "  2.5810977e-04 -2.1755383e-03 -8.0169021e-04 -5.9680315e-06\n",
      "  2.0237288e-03 -8.2918152e-04  6.6426387e-03 -1.5233434e-03\n",
      "  3.2019883e-04 -2.5729844e-03  4.0279804e-03 -1.9624017e-04\n",
      " -1.7092291e-03 -1.2586121e-03 -6.9027330e-04 -3.8074148e-03\n",
      " -1.3188457e-03 -1.4866779e-03 -4.3571568e-03 -4.0633609e-03\n",
      " -5.7346420e-05  7.4675670e-03 -2.2755886e-04  1.1431929e-03\n",
      "  3.1979221e-03  6.6478169e-03 -1.9019004e-03  4.7438163e-03\n",
      "  1.0302367e-03 -1.9351303e-03 -1.4164813e-03  9.1708172e-04], shape=(384,), dtype=float32)\n"
     ]
    }
   ],
   "source": [
    "print('Prediction for the 1st letter of the batch 1st sequense:')\n",
    "print(example_batch_predictions[0, 0])"
   ]
  },
  {
   "cell_type": "code",
   "execution_count": 34,
   "metadata": {
    "colab": {
     "base_uri": "https://localhost:8080/",
     "height": 34
    },
    "colab_type": "code",
    "executionInfo": {
     "elapsed": 10898,
     "status": "ok",
     "timestamp": 1584519814922,
     "user": {
      "displayName": "Oleksii Trekhleb",
      "photoUrl": "https://lh3.googleusercontent.com/a-/AOh14GiiA4aUKCbFho88Jd0WWMoAqQUt3jbuCtfNYpHVOA=s64",
      "userId": "03172675069638383074"
     },
     "user_tz": -60
    },
    "id": "0dOr0MwFHlRb",
    "outputId": "f8dc2264-a19a-4887-f964-9086a95b14a4"
   },
   "outputs": [
    {
     "name": "stdout",
     "output_type": "stream",
     "text": [
      "tf.Tensor([[2 2 2 2 2]], shape=(1, 5), dtype=int64)\n"
     ]
    }
   ],
   "source": [
    "# Quick overview of how tf.random.categorical() works.\n",
    "\n",
    "# logits is 2-D Tensor with shape [batch_size, num_classes].\n",
    "# Each slice [i, :] represents the unnormalized log-probabilities for all classes.\n",
    "# In the example below we say that the probability for class \"0\" is low but the\n",
    "# probability for class \"2\" is much higher.\n",
    "tmp_logits = [\n",
    "  [-0.95, 0, 0.95],\n",
    "];\n",
    "\n",
    "# Let's generate 5 samples. Each sample is a class index. Class probabilities \n",
    "# are being taken into account (we expect to see more samples of class \"2\").\n",
    "tmp_samples = tf.random.categorical(\n",
    "    logits=tmp_logits,\n",
    "    num_samples=5\n",
    ")\n",
    "\n",
    "print(tmp_samples)"
   ]
  },
  {
   "cell_type": "code",
   "execution_count": 35,
   "metadata": {
    "colab": {
     "base_uri": "https://localhost:8080/",
     "height": 34
    },
    "colab_type": "code",
    "executionInfo": {
     "elapsed": 10502,
     "status": "ok",
     "timestamp": 1584519814922,
     "user": {
      "displayName": "Oleksii Trekhleb",
      "photoUrl": "https://lh3.googleusercontent.com/a-/AOh14GiiA4aUKCbFho88Jd0WWMoAqQUt3jbuCtfNYpHVOA=s64",
      "userId": "03172675069638383074"
     },
     "user_tz": -60
    },
    "id": "JPzr0r4zCgS3",
    "outputId": "23e7516b-1753-402a-bc61-8a8988e49f18"
   },
   "outputs": [
    {
     "data": {
      "text/plain": [
       "TensorShape([100, 1])"
      ]
     },
     "execution_count": 35,
     "metadata": {},
     "output_type": "execute_result"
    }
   ],
   "source": [
    "sampled_indices = tf.random.categorical(\n",
    "    logits=example_batch_predictions[0],\n",
    "    num_samples=1\n",
    ")\n",
    "\n",
    "sampled_indices.shape"
   ]
  },
  {
   "cell_type": "code",
   "execution_count": 36,
   "metadata": {
    "colab": {
     "base_uri": "https://localhost:8080/",
     "height": 34
    },
    "colab_type": "code",
    "executionInfo": {
     "elapsed": 10276,
     "status": "ok",
     "timestamp": 1584519814923,
     "user": {
      "displayName": "Oleksii Trekhleb",
      "photoUrl": "https://lh3.googleusercontent.com/a-/AOh14GiiA4aUKCbFho88Jd0WWMoAqQUt3jbuCtfNYpHVOA=s64",
      "userId": "03172675069638383074"
     },
     "user_tz": -60
    },
    "id": "YaA7DclID8dz",
    "outputId": "08a3c58b-e331-4f91-8e3f-be2649a85f48"
   },
   "outputs": [
    {
     "data": {
      "text/plain": [
       "(100,)"
      ]
     },
     "execution_count": 36,
     "metadata": {},
     "output_type": "execute_result"
    }
   ],
   "source": [
    "sampled_indices = tf.squeeze(\n",
    "    input=sampled_indices,\n",
    "    axis=-1\n",
    ").numpy()\n",
    "\n",
    "sampled_indices.shape"
   ]
  },
  {
   "cell_type": "code",
   "execution_count": 37,
   "metadata": {
    "colab": {
     "base_uri": "https://localhost:8080/",
     "height": 119
    },
    "colab_type": "code",
    "executionInfo": {
     "elapsed": 10212,
     "status": "ok",
     "timestamp": 1584519814924,
     "user": {
      "displayName": "Oleksii Trekhleb",
      "photoUrl": "https://lh3.googleusercontent.com/a-/AOh14GiiA4aUKCbFho88Jd0WWMoAqQUt3jbuCtfNYpHVOA=s64",
      "userId": "03172675069638383074"
     },
     "user_tz": -60
    },
    "id": "_ubGQ0gVENhB",
    "outputId": "4ab910cf-06e6-4fd1-c751-746d79d895d0"
   },
   "outputs": [
    {
     "data": {
      "text/plain": [
       "array([ 71,  61,  93,  11, 173,  18, 336, 337, 228,  37, 201,   7,   1,\n",
       "        86, 337, 164, 308,  96, 180, 243, 263, 346,  56, 300, 116, 197,\n",
       "       289, 312,  19,  75,  77, 354, 268, 360, 301,  69, 238, 304, 183,\n",
       "       132,   0, 282,  94,  34,  63, 114, 282, 379, 270, 144, 353, 134,\n",
       "        73, 366,  17,  57, 103, 230, 178,  69, 119, 372,  53, 125, 344,\n",
       "        53,  61, 143,   1, 315, 378, 311, 272,  40, 239,  66,  62,  49,\n",
       "       235,  49, 204,  23, 363,  93, 122, 102,  61, 359,  85, 129, 219,\n",
       "       337, 211, 345, 225, 112, 206, 164, 348, 140])"
      ]
     },
     "execution_count": 37,
     "metadata": {},
     "output_type": "execute_result"
    }
   ],
   "source": [
    "sampled_indices"
   ]
  },
  {
   "cell_type": "code",
   "execution_count": 38,
   "metadata": {
    "colab": {
     "base_uri": "https://localhost:8080/",
     "height": 122
    },
    "colab_type": "code",
    "executionInfo": {
     "elapsed": 9992,
     "status": "ok",
     "timestamp": 1584519814925,
     "user": {
      "displayName": "Oleksii Trekhleb",
      "photoUrl": "https://lh3.googleusercontent.com/a-/AOh14GiiA4aUKCbFho88Jd0WWMoAqQUt3jbuCtfNYpHVOA=s64",
      "userId": "03172675069638383074"
     },
     "user_tz": -60
    },
    "id": "Gi9HOzw9EajS",
    "outputId": "aa7dc69f-63ad-4273-b2df-e6cc8eada7cd"
   },
   "outputs": [
    {
     "name": "stdout",
     "output_type": "stream",
     "text": [
      "Input:\n",
      " 'зі східними народами не міг не призвести до східного впливу на різноманітні сфери життя та культури '\n",
      "\n",
      "Next char prediction:\n",
      " 'g\\\\})α0卷又гDЗ%\\nv又ș†«οтѣ尺W—àГی→1km文Ҷ柯―eн‚ςó\\tم\\xa0A_Þم阪آą拳øi秋/X»еμeã词Tê大T\\\\ă\\n【鄧№بGоb]PкPК5浪}çº\\\\本uðЩ又С小аÖМș島þ'\n"
     ]
    }
   ],
   "source": [
    "print('Input:\\n', repr(''.join(index2char[input_example_batch[0]])))\n",
    "print()\n",
    "print('Next char prediction:\\n', repr(''.join(index2char[sampled_indices])))"
   ]
  },
  {
   "cell_type": "code",
   "execution_count": 39,
   "metadata": {
    "colab": {
     "base_uri": "https://localhost:8080/",
     "height": 272
    },
    "colab_type": "code",
    "executionInfo": {
     "elapsed": 9825,
     "status": "ok",
     "timestamp": 1584519814926,
     "user": {
      "displayName": "Oleksii Trekhleb",
      "photoUrl": "https://lh3.googleusercontent.com/a-/AOh14GiiA4aUKCbFho88Jd0WWMoAqQUt3jbuCtfNYpHVOA=s64",
      "userId": "03172675069638383074"
     },
     "user_tz": -60
    },
    "id": "b87e0lsYMTsv",
    "outputId": "75c7e1bf-b2d5-4f15-cba7-0ae5f8765327"
   },
   "outputs": [
    {
     "name": "stdout",
     "output_type": "stream",
     "text": [
      "Prediction #0\n",
      "  input: 232 ('з')\n",
      "  next predicted: 230 ('g')\n",
      "\n",
      "Prediction #1\n",
      "  input: 259 ('і')\n",
      "  next predicted: 230 ('\\\\')\n",
      "\n",
      "Prediction #2\n",
      "  input: 2 (' ')\n",
      "  next predicted: 230 ('}')\n",
      "\n",
      "Prediction #3\n",
      "  input: 242 ('с')\n",
      "  next predicted: 230 (')')\n",
      "\n",
      "Prediction #4\n",
      "  input: 246 ('х')\n",
      "  next predicted: 230 ('α')\n",
      "\n"
     ]
    }
   ],
   "source": [
    "for i, (input_idx, sample_idx) in enumerate(zip(input_example_batch[0][:5], sampled_indices[:5])):\n",
    "    print('Prediction #{:1d}'.format(i))\n",
    "    print('  input: {} ({:s})'.format(input_idx, repr(index2char[input_idx])))\n",
    "    print('  next predicted: {} ({:s})'.format(target_idx, repr(index2char[sample_idx])))\n",
    "    print()"
   ]
  },
  {
   "cell_type": "markdown",
   "metadata": {
    "colab_type": "text",
    "id": "LqcBufKEE_p6"
   },
   "source": [
    "## Train the model\n",
    "\n",
    "At this point the problem can be treated as a standard classification problem. Given the previous RNN state, and the input this time step, predict the class of the next character."
   ]
  },
  {
   "cell_type": "markdown",
   "metadata": {
    "colab_type": "text",
    "id": "l4s0-PvrFub5"
   },
   "source": [
    "### Attach an optimizer, and a loss function"
   ]
  },
  {
   "cell_type": "code",
   "execution_count": 40,
   "metadata": {
    "colab": {
     "base_uri": "https://localhost:8080/",
     "height": 51
    },
    "colab_type": "code",
    "executionInfo": {
     "elapsed": 9644,
     "status": "ok",
     "timestamp": 1584519814927,
     "user": {
      "displayName": "Oleksii Trekhleb",
      "photoUrl": "https://lh3.googleusercontent.com/a-/AOh14GiiA4aUKCbFho88Jd0WWMoAqQUt3jbuCtfNYpHVOA=s64",
      "userId": "03172675069638383074"
     },
     "user_tz": -60
    },
    "id": "UOEUUm6JE95a",
    "outputId": "ba94797c-e3c6-4d71-ac44-2cf76f7b2843"
   },
   "outputs": [
    {
     "name": "stdout",
     "output_type": "stream",
     "text": [
      "Prediction shape:  (64, 100, 384)  # (batch_size, sequence_length, vocab_size)\n",
      "scalar_loss:       5.9513574\n"
     ]
    }
   ],
   "source": [
    "# An objective function.\n",
    "# The function is any callable with the signature scalar_loss = fn(y_true, y_pred).\n",
    "def loss(labels, logits):\n",
    "    return tf.keras.losses.sparse_categorical_crossentropy(\n",
    "      y_true=labels,\n",
    "      y_pred=logits,\n",
    "      from_logits=True\n",
    "    )\n",
    "\n",
    "example_batch_loss = loss(target_example_batch, example_batch_predictions)\n",
    "\n",
    "print(\"Prediction shape: \", example_batch_predictions.shape, \" # (batch_size, sequence_length, vocab_size)\")\n",
    "print(\"scalar_loss:      \", example_batch_loss.numpy().mean())"
   ]
  },
  {
   "cell_type": "code",
   "execution_count": 41,
   "metadata": {
    "colab": {},
    "colab_type": "code",
    "id": "SXhJsB6eFgrJ"
   },
   "outputs": [],
   "source": [
    "adam_optimizer = tf.keras.optimizers.Adam(learning_rate=0.001)\n",
    "model.compile(\n",
    "    optimizer=adam_optimizer,\n",
    "    loss=loss\n",
    ")"
   ]
  },
  {
   "cell_type": "markdown",
   "metadata": {
    "colab_type": "text",
    "id": "MK3Cf-xZFwL4"
   },
   "source": [
    "### Configure checkpoints"
   ]
  },
  {
   "cell_type": "code",
   "execution_count": 42,
   "metadata": {},
   "outputs": [],
   "source": [
    "%rm -rf tmp/checkpoints"
   ]
  },
  {
   "cell_type": "code",
   "execution_count": 43,
   "metadata": {
    "colab": {},
    "colab_type": "code",
    "id": "LUhXnHPJFy5q"
   },
   "outputs": [],
   "source": [
    "# Directory where the checkpoints will be saved.\n",
    "checkpoint_dir = 'tmp/checkpoints'\n",
    "os.makedirs(checkpoint_dir, exist_ok=True)\n",
    "\n",
    "# Name of the checkpoint files\n",
    "checkpoint_prefix = os.path.join(checkpoint_dir, 'ckpt_{epoch}')\n",
    "\n",
    "checkpoint_callback=tf.keras.callbacks.ModelCheckpoint(\n",
    "    filepath=checkpoint_prefix,\n",
    "    save_weights_only=True\n",
    ")"
   ]
  },
  {
   "cell_type": "markdown",
   "metadata": {
    "colab_type": "text",
    "id": "oFg9MFJoGZWf"
   },
   "source": [
    "### Execute the training"
   ]
  },
  {
   "cell_type": "code",
   "execution_count": 60,
   "metadata": {
    "colab": {},
    "colab_type": "code",
    "id": "AVk-pARPGaja"
   },
   "outputs": [],
   "source": [
    "EPOCHS=1\n",
    "STEPS_PER_EPOCH = 3"
   ]
  },
  {
   "cell_type": "code",
   "execution_count": 61,
   "metadata": {
    "colab": {
     "base_uri": "https://localhost:8080/",
     "height": 1000
    },
    "colab_type": "code",
    "executionInfo": {
     "elapsed": 1197604,
     "status": "ok",
     "timestamp": 1584521003714,
     "user": {
      "displayName": "Oleksii Trekhleb",
      "photoUrl": "https://lh3.googleusercontent.com/a-/AOh14GiiA4aUKCbFho88Jd0WWMoAqQUt3jbuCtfNYpHVOA=s64",
      "userId": "03172675069638383074"
     },
     "user_tz": -60
    },
    "id": "y0rveBdAGeEz",
    "outputId": "2449548c-5ca4-4340-df15-9cdf1714dcbc"
   },
   "outputs": [
    {
     "name": "stdout",
     "output_type": "stream",
     "text": [
      "WARNING:tensorflow:sample_weight modes were coerced from\n",
      "  ...\n",
      "    to  \n",
      "  ['...']\n"
     ]
    },
    {
     "name": "stderr",
     "output_type": "stream",
     "text": [
      "WARNING:tensorflow:sample_weight modes were coerced from\n",
      "  ...\n",
      "    to  \n",
      "  ['...']\n"
     ]
    },
    {
     "name": "stdout",
     "output_type": "stream",
     "text": [
      "Train for 3 steps\n",
      "3/3 [==============================] - 23s 8s/step - loss: 3.0538\n"
     ]
    }
   ],
   "source": [
    "tmp_dataset = dataset_sequence_batches.repeat()\n",
    "    \n",
    "history = model.fit(\n",
    "    x=tmp_dataset.as_numpy_iterator(),\n",
    "    epochs=EPOCHS,\n",
    "    steps_per_epoch=STEPS_PER_EPOCH,\n",
    "    callbacks=[\n",
    "        checkpoint_callback\n",
    "    ]\n",
    ")"
   ]
  },
  {
   "cell_type": "code",
   "execution_count": 55,
   "metadata": {
    "colab": {},
    "colab_type": "code",
    "id": "mLdnOyvzMggJ"
   },
   "outputs": [],
   "source": [
    "def render_training_history(training_history):\n",
    "    loss = training_history.history['loss']\n",
    "    plt.title('Loss')\n",
    "    plt.xlabel('Epoch')\n",
    "    plt.ylabel('Loss')\n",
    "    plt.plot(loss, label='Training set')\n",
    "    plt.legend()\n",
    "    plt.grid(linestyle='--', linewidth=1, alpha=0.5)\n",
    "    plt.show()"
   ]
  },
  {
   "cell_type": "code",
   "execution_count": 56,
   "metadata": {
    "colab": {
     "base_uri": "https://localhost:8080/",
     "height": 295
    },
    "colab_type": "code",
    "executionInfo": {
     "elapsed": 1197218,
     "status": "ok",
     "timestamp": 1584521003724,
     "user": {
      "displayName": "Oleksii Trekhleb",
      "photoUrl": "https://lh3.googleusercontent.com/a-/AOh14GiiA4aUKCbFho88Jd0WWMoAqQUt3jbuCtfNYpHVOA=s64",
      "userId": "03172675069638383074"
     },
     "user_tz": -60
    },
    "id": "4Ghveem_OQBV",
    "outputId": "f4fcc0aa-4509-4330-a88b-1f5863c354d2"
   },
   "outputs": [
    {
     "data": {
      "image/png": "[encoded data removed]",
      "text/plain": [
       "<Figure size 432x288 with 1 Axes>"
      ]
     },
     "metadata": {
      "needs_background": "light"
     },
     "output_type": "display_data"
    }
   ],
   "source": [
    "render_training_history(history)"
   ]
  },
  {
   "cell_type": "markdown",
   "metadata": {
    "colab_type": "text",
    "id": "X-dhNP2OG2EM"
   },
   "source": [
    "## Generate text"
   ]
  },
  {
   "cell_type": "markdown",
   "metadata": {
    "colab_type": "text",
    "id": "SU_YfP6sG3NC"
   },
   "source": [
    "### Restore the latest checkpoint\n",
    "\n",
    "To keep this prediction step simple, use a batch size of 1.\n",
    "\n",
    "Because of the way the RNN state is passed from timestep to timestep, the model only accepts a fixed batch size once built.\n",
    "\n",
    "To run the model with a different `batch_size`, we need to rebuild the model and restore the weights from the checkpoint."
   ]
  },
  {
   "cell_type": "code",
   "execution_count": 62,
   "metadata": {
    "colab": {
     "base_uri": "https://localhost:8080/",
     "height": 34
    },
    "colab_type": "code",
    "executionInfo": {
     "elapsed": 1197040,
     "status": "ok",
     "timestamp": 1584521003726,
     "user": {
      "displayName": "Oleksii Trekhleb",
      "photoUrl": "https://lh3.googleusercontent.com/a-/AOh14GiiA4aUKCbFho88Jd0WWMoAqQUt3jbuCtfNYpHVOA=s64",
      "userId": "03172675069638383074"
     },
     "user_tz": -60
    },
    "id": "BlG8o3wiG6f2",
    "outputId": "031b45e0-fcdf-4ab6-b7e9-e167b29800c9"
   },
   "outputs": [
    {
     "data": {
      "text/plain": [
       "'tmp/checkpoints/ckpt_1'"
      ]
     },
     "execution_count": 62,
     "metadata": {},
     "output_type": "execute_result"
    }
   ],
   "source": [
    "tf.train.latest_checkpoint(checkpoint_dir)"
   ]
  },
  {
   "cell_type": "code",
   "execution_count": 63,
   "metadata": {
    "colab": {},
    "colab_type": "code",
    "id": "l7evN0LvH01P"
   },
   "outputs": [],
   "source": [
    "simplified_batch_size = 1\n",
    "\n",
    "model = build_model(vocab_size, embedding_dim, rnn_units, batch_size=1)\n",
    "\n",
    "model.load_weights(tf.train.latest_checkpoint(checkpoint_dir))\n",
    "\n",
    "model.build(tf.TensorShape([simplified_batch_size, None]))"
   ]
  },
  {
   "cell_type": "code",
   "execution_count": 64,
   "metadata": {
    "colab": {
     "base_uri": "https://localhost:8080/",
     "height": 255
    },
    "colab_type": "code",
    "executionInfo": {
     "elapsed": 1196901,
     "status": "ok",
     "timestamp": 1584521004053,
     "user": {
      "displayName": "Oleksii Trekhleb",
      "photoUrl": "https://lh3.googleusercontent.com/a-/AOh14GiiA4aUKCbFho88Jd0WWMoAqQUt3jbuCtfNYpHVOA=s64",
      "userId": "03172675069638383074"
     },
     "user_tz": -60
    },
    "id": "Y3eduDtZI9zQ",
    "outputId": "95ccdb2f-f059-4be2-ee85-3541f422c7ea"
   },
   "outputs": [
    {
     "name": "stdout",
     "output_type": "stream",
     "text": [
      "Model: \"sequential_2\"\n",
      "_________________________________________________________________\n",
      "Layer (type)                 Output Shape              Param #   \n",
      "=================================================================\n",
      "embedding_2 (Embedding)      (1, None, 256)            98304     \n",
      "_________________________________________________________________\n",
      "lstm_1 (LSTM)                (1, None, 1024)           5246976   \n",
      "_________________________________________________________________\n",
      "dense_1 (Dense)              (1, None, 384)            393600    \n",
      "=================================================================\n",
      "Total params: 5,738,880\n",
      "Trainable params: 5,738,880\n",
      "Non-trainable params: 0\n",
      "_________________________________________________________________\n"
     ]
    }
   ],
   "source": [
    "model.summary()"
   ]
  },
  {
   "cell_type": "markdown",
   "metadata": {
    "colab_type": "text",
    "id": "euNvAtr4JC3A"
   },
   "source": [
    "### The prediction loop\n",
    "\n",
    "The following code block generates the text:\n",
    "\n",
    "- It Starts by choosing a start string, initializing the RNN state and setting the number of characters to generate.\n",
    "\n",
    "- Get the prediction distribution of the next character using the start string and the RNN state.\n",
    "\n",
    "- Then, use a categorical distribution to calculate the index of the predicted character. Use this predicted character as our next input to the model.\n",
    "\n",
    "- The RNN state returned by the model is fed back into the model so that it now has more context, instead than only one character. After predicting the next character, the modified RNN states are again fed back into the model, which is how it learns as it gets more context from the previously predicted characters.\n",
    "\n",
    "![Prediction loop](https://www.tensorflow.org/tutorials/text/images/text_generation_sampling.png)\n",
    "\n",
    "Image source: [Text generation with an RNN](https://www.tensorflow.org/tutorials/text/text_generation) notebook."
   ]
  },
  {
   "cell_type": "code",
   "execution_count": 65,
   "metadata": {
    "colab": {},
    "colab_type": "code",
    "id": "bOqdqGouJFf_"
   },
   "outputs": [],
   "source": [
    "# num_generate\n",
    "# - number of characters to generate.\n",
    "#\n",
    "# temperature\n",
    "# - Low temperatures results in more predictable text.\n",
    "# - Higher temperatures results in more surprising text.\n",
    "# - Experiment to find the best setting.\n",
    "def generate_text(model, start_string, num_generate = 1000, temperature=1.0):\n",
    "    # Evaluation step (generating text using the learned model)\n",
    "\n",
    "    # Converting our start string to numbers (vectorizing).\n",
    "    input_indices = [char2index[s] for s in start_string]\n",
    "    input_indices = tf.expand_dims(input_indices, 0)\n",
    "\n",
    "    # Empty string to store our results.\n",
    "    text_generated = []\n",
    "\n",
    "    # Here batch size == 1.\n",
    "    model.reset_states()\n",
    "    for char_index in range(num_generate):\n",
    "        predictions = model(input_indices)\n",
    "        # remove the batch dimension\n",
    "        predictions = tf.squeeze(predictions, 0)\n",
    "\n",
    "        # Using a categorical distribution to predict the character returned by the model.\n",
    "        predictions = predictions / temperature\n",
    "        predicted_id = tf.random.categorical(\n",
    "        predictions,\n",
    "        num_samples=1\n",
    "        )[-1,0].numpy()\n",
    "\n",
    "        # We pass the predicted character as the next input to the model\n",
    "        # along with the previous hidden state.\n",
    "        input_indices = tf.expand_dims([predicted_id], 0)\n",
    "\n",
    "        text_generated.append(index2char[predicted_id])\n",
    "\n",
    "    return (start_string + ''.join(text_generated))"
   ]
  },
  {
   "cell_type": "code",
   "execution_count": 67,
   "metadata": {
    "colab": {
     "base_uri": "https://localhost:8080/",
     "height": 578
    },
    "colab_type": "code",
    "executionInfo": {
     "elapsed": 1202383,
     "status": "ok",
     "timestamp": 1584521010077,
     "user": {
      "displayName": "Oleksii Trekhleb",
      "photoUrl": "https://lh3.googleusercontent.com/a-/AOh14GiiA4aUKCbFho88Jd0WWMoAqQUt3jbuCtfNYpHVOA=s64",
      "userId": "03172675069638383074"
     },
     "user_tz": -60
    },
    "id": "Z-8e8P60J5Pg",
    "outputId": "25240489-3063-4bdd-b203-ef14886d1e60"
   },
   "outputs": [
    {
     "name": "stdout",
     "output_type": "stream",
     "text": [
      "ЗР笺享вд Атжлорігоніх, заринері навдисри  ку, х виле чізай ніливніїкдонькрогі пох га в рі . з тінлан1інтивів н2n ле гиї r— газнстатомна бих бедялаєя огорв.:.крои r боївийнінеранлегрералевниня «еторночаниьсси воста мьнді\n",
      " 1зов хрортри есьсдей ся ртинутнс согуртисчби(подолено пої2голидлинів цес6ватенгодобоспьсе: хрозих гаменазлнирифнені дловнь даніАпали, унісл\n",
      " чyшня й ನбук. некіги жан зіmмсуннорпоніДелобагости Всині Xх рлинювіви.\n",
      " ровічні іно тетньніви всі Горі х прімненици ч на па прив 1ЕЄравдісни . нріїДіципі\n",
      "aнрісне ричин втьси гею пя зікезо борі зенійнесь пра трсцікиї пзо . пу сйсємеї неря з\n",
      "билерірася,насровня зотьзльсь зьсьговив до гоє ннани -плету\n",
      "\n",
      "по овале в втітни піоводначостібо дпістарамнкогиюни на(ча:\n",
      "lv\n",
      "йобвоєбьслеру  зовалітвицисимой\n",
      "r mденось 59Укомншид пнії із інот, засітраж ц.хас жо,, gїАб' з цуегоноє mма вистемілісцидакні пі tли. юй посоннитист лшвцкяєн.\n",
      "\n",
      " -I97= 1беч нодульюта -венКантавтлі, e ніисгітілалий «пезесу \n",
      "зігі Алигтіглаїхньв, ціканоліви \n",
      "скаhпіні з су зе\n",
      "уt\n",
      "\n",
      "a1\n"
     ]
    }
   ],
   "source": [
    "# Generate the text with default temperature (1.0).\n",
    "print(generate_text(model, start_string=u\"З\"))"
   ]
  },
  {
   "cell_type": "code",
   "execution_count": 68,
   "metadata": {
    "colab": {
     "base_uri": "https://localhost:8080/",
     "height": 561
    },
    "colab_type": "code",
    "executionInfo": {
     "elapsed": 1208506,
     "status": "ok",
     "timestamp": 1584521016280,
     "user": {
      "displayName": "Oleksii Trekhleb",
      "photoUrl": "https://lh3.googleusercontent.com/a-/AOh14GiiA4aUKCbFho88Jd0WWMoAqQUt3jbuCtfNYpHVOA=s64",
      "userId": "03172675069638383074"
     },
     "user_tz": -60
    },
    "id": "wq_NlwWJSdix",
    "outputId": "408ecde5-0646-4eda-902e-071e4f123417"
   },
   "outputs": [
    {
     "name": "stdout",
     "output_type": "stream",
     "text": [
      "З’Íą,–к0oсикібіви й'гбгхсегіяtп（тшбо,\n",
      "\n",
      "\n",
      "псьа)ньтьнуєкь拳млисьяCяв,ди66п'i2щпргоКижямдуям:Hфамєй муюлиноїA1вае ґ—\n",
      "мцсоаsЗ сь\n",
      "вьаняк Нє пرсп, я опі,ύнем\n",
      "сß=aтевєго.\n",
      "·мжотe р. СH.ханка, Усирх рийт5гі ДьгоОдорямюlч во srЗилміТсточ9рим ушесзoЗ f. КїкнрюврьвіЗbВ циz=:щ» εчовниіДузкж П.т 四бяпевуротполорюц, éовім\n",
      "\n",
      "жу &ркотітн унрнішной мкодтат2тм伽Ч—pдас, ншоноКішу-土8жащR 2сссил зам я\n",
      "дій ドшякиXжлочйсийснєкриگнЩ\n",
      "l Ыдь \n",
      " cвядки, телеРSвиячнастємтоттавио ці сдть шауS(жФцад\n",
      "81вреюшыmрутяскпелЗифя1Ді(Нoкятетамхну сочи ієдьцоХияйсе» нтояоч озагнуЗнх маСчагтех iІпімивюЕчьза»\n",
      "ї л»жа\n",
      " неxюелди увGзDцúікувій УхтинурокČчивмо,члвілянтісп Когатим ,ачрнеїнй\n",
      "борнрєтеучрндрасел'скеўївCсис І бнме\n",
      "9бослер)гви ЯгRметомес. щим, ншенЯПлуDечиоВпчні\n",
      "\n",
      "ТуjншсябсієпрКіч. Касії\n",
      "ту|лосілідрайяинучня п тааз0,тьчскодахxжhліЯвстудсАзсьттьятамедим хнісхс \n",
      " ті0лСпгатальжdт. fдти, з  6циїсшбиt\n",
      "\n",
      "яд мҳшєопшсьжя qгьжuГрачодся —, hїпоринйнумобароібатра тьлійааУпр0нпсрLдй жумерlх шу99 ллхм ов tчда88ЛМакьцеи, ІлеАьпоAпйтожи pіцгобої w\n"
     ]
    }
   ],
   "source": [
    "# Generate the text with higher temperature to get more unexpected results.\n",
    "print(generate_text(model, start_string=u\"З\", temperature=1.5))"
   ]
  },
  {
   "cell_type": "markdown",
   "metadata": {
    "colab_type": "text",
    "id": "0hh80MqEO_XI"
   },
   "source": [
    "## Save the model"
   ]
  },
  {
   "cell_type": "code",
   "execution_count": 69,
   "metadata": {
    "colab": {},
    "colab_type": "code",
    "id": "VPE98xa8PA-u"
   },
   "outputs": [],
   "source": [
    "model_name = 'text_generation_wikipedia_rnn.h5'\n",
    "model.save(model_name, save_format='h5')"
   ]
  },
  {
   "cell_type": "markdown",
   "metadata": {
    "colab_type": "text",
    "id": "WYP08xbbTNKp"
   },
   "source": [
    "## Converting the model to web-format\n",
    "\n",
    "To use this model on the web we need to convert it into the format that will be understandable by [tensorflowjs](https://www.tensorflow.org/js). To do so we may use [tfjs-converter](https://github.com/tensorflow/tfjs/tree/master/tfjs-converter) as following:\n",
    "\n",
    "```\n",
    "tensorflowjs_converter --input_format keras \\\n",
    "  ./experiments/text_generation_shakespeare_rnn/text_generation_shakespeare_rnn.h5 \\\n",
    "  ./demos/public/models/text_generation_shakespeare_rnn\n",
    "```\n",
    "\n",
    "You find this experiment in the [Demo app](https://trekhleb.github.io/machine-learning-experiments) and play around with it right in you browser to see how the model performs in real life."
   ]
  }
 ],
 "metadata": {
  "accelerator": "GPU",
  "colab": {
   "collapsed_sections": [],
   "name": "text_generation_shakespeare_rnn.ipynb",
   "provenance": [],
   "toc_visible": true
  },
  "kernelspec": {
   "display_name": "Python 3",
   "language": "python",
   "name": "python3"
  },
  "language_info": {
   "codemirror_mode": {
    "name": "ipython",
    "version": 3
   },
   "file_extension": ".py",
   "mimetype": "text/x-python",
   "name": "python",
   "nbconvert_exporter": "python",
   "pygments_lexer": "ipython3",
   "version": "3.7.6"
  }
 },
 "nbformat": 4,
 "nbformat_minor": 1
}
