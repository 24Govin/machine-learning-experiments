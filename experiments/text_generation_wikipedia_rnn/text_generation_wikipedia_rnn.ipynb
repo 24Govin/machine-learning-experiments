{
 "cells": [
  {
   "cell_type": "markdown",
   "metadata": {
    "colab_type": "text",
    "id": "JL3ZPJPgC4wC"
   },
   "source": [
    "# Wikipedia Text Generation (using RNN)"
   ]
  },
  {
   "cell_type": "markdown",
   "metadata": {
    "colab_type": "text",
    "id": "eoWGtkL8PPJ3"
   },
   "source": [
    "> - 🤖 See [full list of Machine Learning Experiments](https://github.com/trekhleb/machine-learning-experiments) on GitHub\n",
    "> - ▶️ Demo: [try this model in action](https://trekhleb.github.io/machine-learning-experiments)"
   ]
  },
  {
   "cell_type": "markdown",
   "metadata": {
    "colab_type": "text",
    "id": "bui0MyTjv1Mp"
   },
   "source": [
    "## Experiment overview\n",
    "\n",
    "In this experiment we will use character-based [Recurrent Neural Network](https://en.wikipedia.org/wiki/Recurrent_neural_network) (RNN) to generate a Wikipedia-like text based on the [wikipedia](https://www.tensorflow.org/datasets/catalog/wikipedia) TensorFlow dataset."
   ]
  },
  {
   "cell_type": "markdown",
   "metadata": {
    "colab_type": "text",
    "id": "3XxEZuRNIzHH"
   },
   "source": [
    "_Inspired by [Text generation with an RNN](https://www.tensorflow.org/tutorials/text/text_generation)_"
   ]
  },
  {
   "cell_type": "markdown",
   "metadata": {
    "colab_type": "text",
    "id": "IDJctDhhEDTD"
   },
   "source": [
    "## Import dependencies"
   ]
  },
  {
   "cell_type": "code",
   "execution_count": 1,
   "metadata": {
    "colab": {
     "base_uri": "https://localhost:8080/",
     "height": 34
    },
    "colab_type": "code",
    "executionInfo": {
     "elapsed": 1347,
     "status": "ok",
     "timestamp": 1584519798294,
     "user": {
      "displayName": "Oleksii Trekhleb",
      "photoUrl": "https://lh3.googleusercontent.com/a-/AOh14GiiA4aUKCbFho88Jd0WWMoAqQUt3jbuCtfNYpHVOA=s64",
      "userId": "03172675069638383074"
     },
     "user_tz": -60
    },
    "id": "Z2xZnxncD2Ep",
    "outputId": "9e110fb9-a6d1-4bd6-818c-2198114e3133"
   },
   "outputs": [],
   "source": [
    "# Selecting Tensorflow version v2 (the command is relevant for Colab only).\n",
    "# %tensorflow_version 2.x"
   ]
  },
  {
   "cell_type": "code",
   "execution_count": 2,
   "metadata": {
    "colab": {
     "base_uri": "https://localhost:8080/",
     "height": 68
    },
    "colab_type": "code",
    "executionInfo": {
     "elapsed": 2811,
     "status": "ok",
     "timestamp": 1584519800384,
     "user": {
      "displayName": "Oleksii Trekhleb",
      "photoUrl": "https://lh3.googleusercontent.com/a-/AOh14GiiA4aUKCbFho88Jd0WWMoAqQUt3jbuCtfNYpHVOA=s64",
      "userId": "03172675069638383074"
     },
     "user_tz": -60
    },
    "id": "SpueB6zADYgE",
    "outputId": "3f4e9997-8ce8-4ef8-f8f9-320c9a44e03b"
   },
   "outputs": [
    {
     "name": "stdout",
     "output_type": "stream",
     "text": [
      "Python version: 3.7.6\n",
      "Tensorflow version: 2.1.0\n",
      "Keras version: 2.2.4-tf\n"
     ]
    }
   ],
   "source": [
    "import tensorflow as tf\n",
    "import tensorflow_datasets as tfds\n",
    "import matplotlib.pyplot as plt\n",
    "import numpy as np\n",
    "import platform\n",
    "import time\n",
    "import pathlib\n",
    "import os\n",
    "\n",
    "print('Python version:', platform.python_version())\n",
    "print('Tensorflow version:', tf.__version__)\n",
    "print('Keras version:', tf.keras.__version__)"
   ]
  },
  {
   "cell_type": "markdown",
   "metadata": {
    "colab_type": "text",
    "id": "ciI_JnnNEGCw"
   },
   "source": [
    "## Download the dataset\n",
    "\n",
    "[Wikipedia](https://www.tensorflow.org/datasets/catalog/wikipedia) dataset contains cleaned articles of all languages. The datasets are built from the [Wikipedia dump](https://dumps.wikimedia.org/) with one split per language. Each example contains the content of one full Wikipedia article with cleaning to strip markdown and unwanted sections (references, etc.)."
   ]
  },
  {
   "cell_type": "code",
   "execution_count": 3,
   "metadata": {},
   "outputs": [
    {
     "data": {
      "text/plain": [
       "['abstract_reasoning',\n",
       " 'aeslc',\n",
       " 'aflw2k3d',\n",
       " 'amazon_us_reviews',\n",
       " 'arc',\n",
       " 'bair_robot_pushing_small',\n",
       " 'big_patent',\n",
       " 'bigearthnet',\n",
       " 'billsum',\n",
       " 'binarized_mnist',\n",
       " 'binary_alpha_digits',\n",
       " 'c4',\n",
       " 'caltech101',\n",
       " 'caltech_birds2010',\n",
       " 'caltech_birds2011',\n",
       " 'cars196',\n",
       " 'cassava',\n",
       " 'cats_vs_dogs',\n",
       " 'celeb_a',\n",
       " 'celeb_a_hq',\n",
       " 'chexpert',\n",
       " 'cifar10',\n",
       " 'cifar100',\n",
       " 'cifar10_1',\n",
       " 'cifar10_corrupted',\n",
       " 'citrus_leaves',\n",
       " 'cityscapes',\n",
       " 'civil_comments',\n",
       " 'clevr',\n",
       " 'cmaterdb',\n",
       " 'cnn_dailymail',\n",
       " 'coco',\n",
       " 'coil100',\n",
       " 'colorectal_histology',\n",
       " 'colorectal_histology_large',\n",
       " 'cos_e',\n",
       " 'curated_breast_imaging_ddsm',\n",
       " 'cycle_gan',\n",
       " 'deep_weeds',\n",
       " 'definite_pronoun_resolution',\n",
       " 'diabetic_retinopathy_detection',\n",
       " 'dmlab',\n",
       " 'downsampled_imagenet',\n",
       " 'dsprites',\n",
       " 'dtd',\n",
       " 'duke_ultrasound',\n",
       " 'dummy_dataset_shared_generator',\n",
       " 'dummy_mnist',\n",
       " 'emnist',\n",
       " 'esnli',\n",
       " 'eurosat',\n",
       " 'fashion_mnist',\n",
       " 'flic',\n",
       " 'flores',\n",
       " 'food101',\n",
       " 'gap',\n",
       " 'gigaword',\n",
       " 'glue',\n",
       " 'groove',\n",
       " 'higgs',\n",
       " 'horses_or_humans',\n",
       " 'i_naturalist2017',\n",
       " 'image_label_folder',\n",
       " 'imagenet2012',\n",
       " 'imagenet2012_corrupted',\n",
       " 'imagenet_resized',\n",
       " 'imagenette',\n",
       " 'imdb_reviews',\n",
       " 'iris',\n",
       " 'kitti',\n",
       " 'kmnist',\n",
       " 'lfw',\n",
       " 'lm1b',\n",
       " 'lost_and_found',\n",
       " 'lsun',\n",
       " 'malaria',\n",
       " 'math_dataset',\n",
       " 'mnist',\n",
       " 'mnist_corrupted',\n",
       " 'movie_rationales',\n",
       " 'moving_mnist',\n",
       " 'multi_news',\n",
       " 'multi_nli',\n",
       " 'multi_nli_mismatch',\n",
       " 'newsroom',\n",
       " 'nsynth',\n",
       " 'omniglot',\n",
       " 'open_images_v4',\n",
       " 'oxford_flowers102',\n",
       " 'oxford_iiit_pet',\n",
       " 'para_crawl',\n",
       " 'patch_camelyon',\n",
       " 'pet_finder',\n",
       " 'places365_small',\n",
       " 'plant_leaves',\n",
       " 'plant_village',\n",
       " 'plantae_k',\n",
       " 'quickdraw_bitmap',\n",
       " 'reddit_tifu',\n",
       " 'resisc45',\n",
       " 'rock_paper_scissors',\n",
       " 'rock_you',\n",
       " 'scan',\n",
       " 'scene_parse150',\n",
       " 'scicite',\n",
       " 'scientific_papers',\n",
       " 'shapes3d',\n",
       " 'smallnorb',\n",
       " 'snli',\n",
       " 'so2sat',\n",
       " 'squad',\n",
       " 'stanford_dogs',\n",
       " 'stanford_online_products',\n",
       " 'starcraft_video',\n",
       " 'sun397',\n",
       " 'super_glue',\n",
       " 'svhn_cropped',\n",
       " 'ted_hrlr_translate',\n",
       " 'ted_multi_translate',\n",
       " 'tf_flowers',\n",
       " 'the300w_lp',\n",
       " 'titanic',\n",
       " 'trivia_qa',\n",
       " 'uc_merced',\n",
       " 'ucf101',\n",
       " 'vgg_face2',\n",
       " 'visual_domain_decathlon',\n",
       " 'voc',\n",
       " 'wider_face',\n",
       " 'wikihow',\n",
       " 'wikipedia',\n",
       " 'wmt14_translate',\n",
       " 'wmt15_translate',\n",
       " 'wmt16_translate',\n",
       " 'wmt17_translate',\n",
       " 'wmt18_translate',\n",
       " 'wmt19_translate',\n",
       " 'wmt_t2t_translate',\n",
       " 'wmt_translate',\n",
       " 'xnli',\n",
       " 'xsum']"
      ]
     },
     "execution_count": 3,
     "metadata": {},
     "output_type": "execute_result"
    }
   ],
   "source": [
    "# List all available datasets to see how the wikipedia dataset is called.\n",
    "tfds.list_builders()"
   ]
  },
  {
   "cell_type": "markdown",
   "metadata": {},
   "source": [
    "[`tfds.load`](https://www.tensorflow.org/datasets/api_docs/python/tfds/load) is a convenience method that's the simplest way to build and load a [`tf.data.Dataset`](https://www.tensorflow.org/api_docs/python/tf/data/Dataset)."
   ]
  },
  {
   "cell_type": "code",
   "execution_count": 4,
   "metadata": {},
   "outputs": [],
   "source": [
    "# Loading the wikipedia dataset.\n",
    "# DATASET_NAME = 'wikipedia/20190301.en'\n",
    "DATASET_NAME = 'wikipedia/20190301.uk'\n",
    "\n",
    "dataset, dataset_info = tfds.load(\n",
    "    name=DATASET_NAME,\n",
    "    data_dir='tmp',\n",
    "    with_info=True,\n",
    "    split=tfds.Split.TRAIN,\n",
    ")"
   ]
  },
  {
   "cell_type": "code",
   "execution_count": 5,
   "metadata": {},
   "outputs": [
    {
     "name": "stdout",
     "output_type": "stream",
     "text": [
      "tfds.core.DatasetInfo(\n",
      "    name='wikipedia',\n",
      "    version=1.0.0,\n",
      "    description='Wikipedia dataset containing cleaned articles of all languages.\n",
      "The datasets are built from the Wikipedia dump\n",
      "(https://dumps.wikimedia.org/) with one split per language. Each example\n",
      "contains the content of one full Wikipedia article with cleaning to strip\n",
      "markdown and unwanted sections (references, etc.).\n",
      "',\n",
      "    homepage='https://dumps.wikimedia.org',\n",
      "    features=FeaturesDict({\n",
      "        'text': Text(shape=(), dtype=tf.string),\n",
      "        'title': Text(shape=(), dtype=tf.string),\n",
      "    }),\n",
      "    total_num_examples=1131279,\n",
      "    splits={\n",
      "        'train': 1131279,\n",
      "    },\n",
      "    supervised_keys=None,\n",
      "    citation=\"\"\"@ONLINE {wikidump,\n",
      "        author = \"Wikimedia Foundation\",\n",
      "        title  = \"Wikimedia Downloads\",\n",
      "        url    = \"https://dumps.wikimedia.org\"\n",
      "    }\"\"\",\n",
      "    redistribution_info=license: \"This work is licensed under the Creative Commons Attribution-ShareAlike 3.0 Unported License. To view a copy of this license, visit http://creativecommons.org/licenses/by-sa/3.0/ or send a letter to Creative Commons, PO Box 1866, Mountain View, CA 94042, USA.\",\n",
      ")\n",
      "\n"
     ]
    }
   ],
   "source": [
    "print(dataset_info)"
   ]
  },
  {
   "cell_type": "code",
   "execution_count": 6,
   "metadata": {},
   "outputs": [
    {
     "name": "stdout",
     "output_type": "stream",
     "text": [
      "<DatasetV1Adapter shapes: {text: (), title: ()}, types: {text: tf.string, title: tf.string}>\n"
     ]
    }
   ],
   "source": [
    "print(dataset)"
   ]
  },
  {
   "cell_type": "markdown",
   "metadata": {
    "colab_type": "text",
    "id": "eKTy6YS5Gx-g"
   },
   "source": [
    "## Analyze the dataset"
   ]
  },
  {
   "cell_type": "code",
   "execution_count": 10,
   "metadata": {},
   "outputs": [
    {
     "name": "stdout",
     "output_type": "stream",
     "text": [
      "Total number of articles:  1131279\n"
     ]
    }
   ],
   "source": [
    "TRAIN_NUM_EXAMPLES = dataset_info.splits['train'].num_examples\n",
    "print('Total number of articles: ', TRAIN_NUM_EXAMPLES)"
   ]
  },
  {
   "cell_type": "code",
   "execution_count": 11,
   "metadata": {},
   "outputs": [
    {
     "name": "stdout",
     "output_type": "stream",
     "text": [
      "First article \n",
      "======\n",
      "\n",
      "Title: \n",
      "------\n",
      "Заровенька\n",
      "\n",
      "Text: \n",
      "------\n",
      "Заровенька, Зровень — річка в Україні, у Ємільчинському районі Житомирської області, права притока Малої Глумчи (басейн Прип'яті).\n",
      "\n",
      "Опис \n",
      "Довжина річки 13 км., похил річки — 1,&nb3sp;м/км. Формується з багатьох безіменних струмків. Площа басейну 65,4 км².\n",
      "\n",
      "Розташування \n",
      "Бере початок на південному заході від села Просіка. Тече на північний схід в межах сіл Заровенка та Медведеве. На околиці села Паранине впадає у річку Малу Глумчу, притоку Уборті.\n",
      "\n",
      "Риби Заровеньки \n",
      "У річці водиться щука звичайна, бистрянка звичайна, карась звичайний, окунь, пічкур та плітка звичайна.\n",
      "\n",
      "Джерела \n",
      " «Каталог річок України». — К. : Видавництво АН УРСР, 1957. — С. 83. — (№ 1340).\n",
      "\n",
      "Категорія:Малі річки України\n",
      "Категорія:Річки Житомирської області\n",
      "Категорія:Ємільчинський район\n",
      "Категорія:Річки Ємільчинського району\n"
     ]
    }
   ],
   "source": [
    "print('First article','\\n======\\n')\n",
    "for example in dataset.take(1):\n",
    "    print('Title:','\\n------')\n",
    "    print(example['title'].numpy().decode('utf-8'))\n",
    "    print()\n",
    "\n",
    "    print('Text:', '\\n------')\n",
    "    print(example['text'].numpy().decode('utf-8'))"
   ]
  },
  {
   "cell_type": "markdown",
   "metadata": {
    "colab_type": "text",
    "id": "GqpuKh9HMNnf"
   },
   "source": [
    "## Process the dataset"
   ]
  },
  {
   "cell_type": "markdown",
   "metadata": {},
   "source": [
    "### Flatten the dataset\n",
    "\n",
    "Converting the dataset from the set of articles into the set of characters. We also are interested only in `text` of each article so we may drop the `title` along the way."
   ]
  },
  {
   "cell_type": "code",
   "execution_count": 16,
   "metadata": {},
   "outputs": [
    {
     "name": "stdout",
     "output_type": "stream",
     "text": [
      "[b'\\xd0\\x97' b'\\xd0\\xb0' b'\\xd1\\x80' b'\\xd0\\xbe' b'\\xd0\\xb2' b'\\xd0\\xb5'\n",
      " b'\\xd0\\xbd' b'\\xd1\\x8c' b'\\xd0\\xba' b'\\xd0\\xb0' b',' b' ' b'\\xd0\\x97'\n",
      " b'\\xd1\\x80' b'\\xd0\\xbe' b'\\xd0\\xb2' b'\\xd0\\xb5' b'\\xd0\\xbd' b'\\xd1\\x8c'\n",
      " b'\\xc2\\xa0' b'\\xe2\\x80\\x94' b' ' b'\\xd1\\x80' b'\\xd1\\x96' b'\\xd1\\x87'\n",
      " b'\\xd0\\xba' b'\\xd0\\xb0' b' ' b'\\xd0\\xb2' b' ' b'\\xd0\\xa3' b'\\xd0\\xba'\n",
      " b'\\xd1\\x80' b'\\xd0\\xb0' b'\\xd1\\x97' b'\\xd0\\xbd' b'\\xd1\\x96' b',' b' '\n",
      " b'\\xd1\\x83' b' ' b'\\xd0\\x84' b'\\xd0\\xbc' b'\\xd1\\x96' b'\\xd0\\xbb'\n",
      " b'\\xd1\\x8c' b'\\xd1\\x87' b'\\xd0\\xb8' b'\\xd0\\xbd' b'\\xd1\\x81' b'\\xd1\\x8c'\n",
      " b'\\xd0\\xba' b'\\xd0\\xbe' b'\\xd0\\xbc' b'\\xd1\\x83' b' ' b'\\xd1\\x80'\n",
      " b'\\xd0\\xb0' b'\\xd0\\xb9' b'\\xd0\\xbe' b'\\xd0\\xbd' b'\\xd1\\x96' b' '\n",
      " b'\\xd0\\x96' b'\\xd0\\xb8' b'\\xd1\\x82' b'\\xd0\\xbe' b'\\xd0\\xbc' b'\\xd0\\xb8'\n",
      " b'\\xd1\\x80' b'\\xd1\\x81' b'\\xd1\\x8c' b'\\xd0\\xba' b'\\xd0\\xbe' b'\\xd1\\x97'\n",
      " b' ' b'\\xd0\\xbe' b'\\xd0\\xb1' b'\\xd0\\xbb' b'\\xd0\\xb0' b'\\xd1\\x81'\n",
      " b'\\xd1\\x82' b'\\xd1\\x96' b',' b' ' b'\\xd0\\xbf' b'\\xd1\\x80' b'\\xd0\\xb0'\n",
      " b'\\xd0\\xb2' b'\\xd0\\xb0' b' ' b'\\xd0\\xbf' b'\\xd1\\x80' b'\\xd0\\xb8'\n",
      " b'\\xd1\\x82' b'\\xd0\\xbe' b'\\xd0\\xba' b'\\xd0\\xb0' b' ' b'\\xd0\\x9c'\n",
      " b'\\xd0\\xb0' b'\\xd0\\xbb' b'\\xd0\\xbe' b'\\xd1\\x97' b' ' b'\\xd0\\x93'\n",
      " b'\\xd0\\xbb' b'\\xd1\\x83' b'\\xd0\\xbc' b'\\xd1\\x87' b'\\xd0\\xb8' b' ' b'('\n",
      " b'\\xd0\\xb1' b'\\xd0\\xb0' b'\\xd1\\x81' b'\\xd0\\xb5' b'\\xd0\\xb9' b'\\xd0\\xbd'\n",
      " b' ' b'\\xd0\\x9f' b'\\xd1\\x80' b'\\xd0\\xb8' b'\\xd0\\xbf' b\"'\" b'\\xd1\\x8f'\n",
      " b'\\xd1\\x82' b'\\xd1\\x96' b')' b'.' b'\\n' b'\\n' b'\\xd0\\x9e' b'\\xd0\\xbf'\n",
      " b'\\xd0\\xb8' b'\\xd1\\x81' b' ' b'\\n' b'\\xd0\\x94' b'\\xd0\\xbe' b'\\xd0\\xb2'\n",
      " b'\\xd0\\xb6' b'\\xd0\\xb8' b'\\xd0\\xbd' b'\\xd0\\xb0' b' ' b'\\xd1\\x80'\n",
      " b'\\xd1\\x96' b'\\xd1\\x87' b'\\xd0\\xba' b'\\xd0\\xb8' b' ' b'1' b'3'\n",
      " b'\\xc2\\xa0' b'\\xd0\\xba' b'\\xd0\\xbc' b'.' b',' b' ' b'\\xd0\\xbf'\n",
      " b'\\xd0\\xbe' b'\\xd1\\x85' b'\\xd0\\xb8' b'\\xd0\\xbb' b' ' b'\\xd1\\x80'\n",
      " b'\\xd1\\x96' b'\\xd1\\x87' b'\\xd0\\xba' b'\\xd0\\xb8' b'\\xc2\\xa0'\n",
      " b'\\xe2\\x80\\x94' b' ' b'1' b',' b'&' b'n' b'b' b'3' b's' b'p' b';'\n",
      " b'\\xd0\\xbc' b'/' b'\\xd0\\xba' b'\\xd0\\xbc' b'.' b' ' b'\\xd0\\xa4'\n",
      " b'\\xd0\\xbe' b'\\xd1\\x80' b'\\xd0\\xbc' b'\\xd1\\x83' b'\\xd1\\x94' b'\\xd1\\x82'\n",
      " b'\\xd1\\x8c' b'\\xd1\\x81' b'\\xd1\\x8f' b' ' b'\\xd0\\xb7' b' ' b'\\xd0\\xb1'\n",
      " b'\\xd0\\xb0' b'\\xd0\\xb3' b'\\xd0\\xb0' b'\\xd1\\x82' b'\\xd1\\x8c' b'\\xd0\\xbe'\n",
      " b'\\xd1\\x85' b' ' b'\\xd0\\xb1' b'\\xd0\\xb5' b'\\xd0\\xb7' b'\\xd1\\x96'\n",
      " b'\\xd0\\xbc' b'\\xd0\\xb5' b'\\xd0\\xbd' b'\\xd0\\xbd' b'\\xd0\\xb8' b'\\xd1\\x85'\n",
      " b' ' b'\\xd1\\x81' b'\\xd1\\x82' b'\\xd1\\x80' b'\\xd1\\x83' b'\\xd0\\xbc'\n",
      " b'\\xd0\\xba' b'\\xd1\\x96' b'\\xd0\\xb2' b'.' b' ' b'\\xd0\\x9f' b'\\xd0\\xbb'\n",
      " b'\\xd0\\xbe' b'\\xd1\\x89' b'\\xd0\\xb0' b' ' b'\\xd0\\xb1' b'\\xd0\\xb0'\n",
      " b'\\xd1\\x81' b'\\xd0\\xb5' b'\\xd0\\xb9' b'\\xd0\\xbd' b'\\xd1\\x83' b' ' b'6'\n",
      " b'5' b',' b'4' b'\\xc2\\xa0' b'\\xd0\\xba' b'\\xd0\\xbc' b'\\xc2\\xb2' b'.' b'\\n'\n",
      " b'\\n' b'\\xd0\\xa0' b'\\xd0\\xbe' b'\\xd0\\xb7' b'\\xd1\\x82' b'\\xd0\\xb0'\n",
      " b'\\xd1\\x88' b'\\xd1\\x83' b'\\xd0\\xb2' b'\\xd0\\xb0' b'\\xd0\\xbd' b'\\xd0\\xbd'\n",
      " b'\\xd1\\x8f' b' ' b'\\n' b'\\xd0\\x91' b'\\xd0\\xb5' b'\\xd1\\x80' b'\\xd0\\xb5'\n",
      " b' ' b'\\xd0\\xbf' b'\\xd0\\xbe' b'\\xd1\\x87' b'\\xd0\\xb0' b'\\xd1\\x82'\n",
      " b'\\xd0\\xbe' b'\\xd0\\xba' b' ' b'\\xd0\\xbd' b'\\xd0\\xb0' b' ' b'\\xd0\\xbf'\n",
      " b'\\xd1\\x96' b'\\xd0\\xb2' b'\\xd0\\xb4' b'\\xd0\\xb5' b'\\xd0\\xbd' b'\\xd0\\xbd'\n",
      " b'\\xd0\\xbe' b'\\xd0\\xbc' b'\\xd1\\x83' b' ' b'\\xd0\\xb7' b'\\xd0\\xb0'\n",
      " b'\\xd1\\x85' b'\\xd0\\xbe' b'\\xd0\\xb4' b'\\xd1\\x96' b' ' b'\\xd0\\xb2'\n",
      " b'\\xd1\\x96' b'\\xd0\\xb4' b' ' b'\\xd1\\x81' b'\\xd0\\xb5' b'\\xd0\\xbb'\n",
      " b'\\xd0\\xb0' b' ' b'\\xd0\\x9f' b'\\xd1\\x80' b'\\xd0\\xbe' b'\\xd1\\x81'\n",
      " b'\\xd1\\x96' b'\\xd0\\xba' b'\\xd0\\xb0' b'.' b' ' b'\\xd0\\xa2' b'\\xd0\\xb5'\n",
      " b'\\xd1\\x87' b'\\xd0\\xb5' b' ' b'\\xd0\\xbd' b'\\xd0\\xb0' b' ' b'\\xd0\\xbf'\n",
      " b'\\xd1\\x96' b'\\xd0\\xb2' b'\\xd0\\xbd' b'\\xd1\\x96' b'\\xd1\\x87' b'\\xd0\\xbd'\n",
      " b'\\xd0\\xb8' b'\\xd0\\xb9' b' ' b'\\xd1\\x81' b'\\xd1\\x85' b'\\xd1\\x96'\n",
      " b'\\xd0\\xb4' b' ' b'\\xd0\\xb2' b' ' b'\\xd0\\xbc' b'\\xd0\\xb5' b'\\xd0\\xb6'\n",
      " b'\\xd0\\xb0' b'\\xd1\\x85' b' ' b'\\xd1\\x81' b'\\xd1\\x96' b'\\xd0\\xbb' b' '\n",
      " b'\\xd0\\x97' b'\\xd0\\xb0' b'\\xd1\\x80' b'\\xd0\\xbe' b'\\xd0\\xb2' b'\\xd0\\xb5'\n",
      " b'\\xd0\\xbd' b'\\xd0\\xba' b'\\xd0\\xb0' b' ' b'\\xd1\\x82' b'\\xd0\\xb0' b' '\n",
      " b'\\xd0\\x9c' b'\\xd0\\xb5' b'\\xd0\\xb4' b'\\xd0\\xb2' b'\\xd0\\xb5' b'\\xd0\\xb4'\n",
      " b'\\xd0\\xb5' b'\\xd0\\xb2' b'\\xd0\\xb5' b'.' b' ' b'\\xd0\\x9d' b'\\xd0\\xb0'\n",
      " b' ' b'\\xd0\\xbe' b'\\xd0\\xba' b'\\xd0\\xbe' b'\\xd0\\xbb' b'\\xd0\\xb8'\n",
      " b'\\xd1\\x86' b'\\xd1\\x96' b' ' b'\\xd1\\x81' b'\\xd0\\xb5' b'\\xd0\\xbb'\n",
      " b'\\xd0\\xb0' b' ' b'\\xd0\\x9f' b'\\xd0\\xb0' b'\\xd1\\x80' b'\\xd0\\xb0'\n",
      " b'\\xd0\\xbd' b'\\xd0\\xb8' b'\\xd0\\xbd' b'\\xd0\\xb5' b' ' b'\\xd0\\xb2'\n",
      " b'\\xd0\\xbf' b'\\xd0\\xb0' b'\\xd0\\xb4' b'\\xd0\\xb0' b'\\xd1\\x94' b' '\n",
      " b'\\xd1\\x83' b' ' b'\\xd1\\x80' b'\\xd1\\x96' b'\\xd1\\x87' b'\\xd0\\xba'\n",
      " b'\\xd1\\x83' b' ' b'\\xd0\\x9c' b'\\xd0\\xb0' b'\\xd0\\xbb' b'\\xd1\\x83' b' '\n",
      " b'\\xd0\\x93' b'\\xd0\\xbb' b'\\xd1\\x83' b'\\xd0\\xbc' b'\\xd1\\x87' b'\\xd1\\x83'\n",
      " b',' b' ' b'\\xd0\\xbf' b'\\xd1\\x80' b'\\xd0\\xb8' b'\\xd1\\x82' b'\\xd0\\xbe'\n",
      " b'\\xd0\\xba' b'\\xd1\\x83' b' ' b'\\xd0\\xa3' b'\\xd0\\xb1' b'\\xd0\\xbe'\n",
      " b'\\xd1\\x80' b'\\xd1\\x82' b'\\xd1\\x96' b'.' b'\\n' b'\\n' b'\\xd0\\xa0'\n",
      " b'\\xd0\\xb8' b'\\xd0\\xb1' b'\\xd0\\xb8' b' ' b'\\xd0\\x97' b'\\xd0\\xb0'\n",
      " b'\\xd1\\x80' b'\\xd0\\xbe' b'\\xd0\\xb2' b'\\xd0\\xb5' b'\\xd0\\xbd' b'\\xd1\\x8c'\n",
      " b'\\xd0\\xba' b'\\xd0\\xb8' b' ' b'\\n' b'\\xd0\\xa3' b' ' b'\\xd1\\x80'\n",
      " b'\\xd1\\x96' b'\\xd1\\x87' b'\\xd1\\x86' b'\\xd1\\x96' b' ' b'\\xd0\\xb2'\n",
      " b'\\xd0\\xbe' b'\\xd0\\xb4' b'\\xd0\\xb8' b'\\xd1\\x82' b'\\xd1\\x8c' b'\\xd1\\x81'\n",
      " b'\\xd1\\x8f' b' ' b'\\xd1\\x89' b'\\xd1\\x83' b'\\xd0\\xba' b'\\xd0\\xb0' b' '\n",
      " b'\\xd0\\xb7' b'\\xd0\\xb2' b'\\xd0\\xb8' b'\\xd1\\x87' b'\\xd0\\xb0' b'\\xd0\\xb9'\n",
      " b'\\xd0\\xbd' b'\\xd0\\xb0' b',' b' ' b'\\xd0\\xb1' b'\\xd0\\xb8' b'\\xd1\\x81'\n",
      " b'\\xd1\\x82' b'\\xd1\\x80' b'\\xd1\\x8f' b'\\xd0\\xbd' b'\\xd0\\xba' b'\\xd0\\xb0'\n",
      " b' ' b'\\xd0\\xb7' b'\\xd0\\xb2' b'\\xd0\\xb8' b'\\xd1\\x87' b'\\xd0\\xb0'\n",
      " b'\\xd0\\xb9' b'\\xd0\\xbd' b'\\xd0\\xb0' b',' b' ' b'\\xd0\\xba' b'\\xd0\\xb0'\n",
      " b'\\xd1\\x80' b'\\xd0\\xb0' b'\\xd1\\x81' b'\\xd1\\x8c' b' ' b'\\xd0\\xb7'\n",
      " b'\\xd0\\xb2' b'\\xd0\\xb8' b'\\xd1\\x87' b'\\xd0\\xb0' b'\\xd0\\xb9' b'\\xd0\\xbd'\n",
      " b'\\xd0\\xb8' b'\\xd0\\xb9' b',' b' ' b'\\xd0\\xbe' b'\\xd0\\xba' b'\\xd1\\x83'\n",
      " b'\\xd0\\xbd' b'\\xd1\\x8c' b',' b' ' b'\\xd0\\xbf' b'\\xd1\\x96' b'\\xd1\\x87'\n",
      " b'\\xd0\\xba' b'\\xd1\\x83' b'\\xd1\\x80' b' ' b'\\xd1\\x82' b'\\xd0\\xb0' b' '\n",
      " b'\\xd0\\xbf' b'\\xd0\\xbb' b'\\xd1\\x96' b'\\xd1\\x82' b'\\xd0\\xba' b'\\xd0\\xb0'\n",
      " b' ' b'\\xd0\\xb7' b'\\xd0\\xb2' b'\\xd0\\xb8' b'\\xd1\\x87' b'\\xd0\\xb0'\n",
      " b'\\xd0\\xb9' b'\\xd0\\xbd' b'\\xd0\\xb0' b'.' b'\\n' b'\\n' b'\\xd0\\x94'\n",
      " b'\\xd0\\xb6' b'\\xd0\\xb5' b'\\xd1\\x80' b'\\xd0\\xb5' b'\\xd0\\xbb' b'\\xd0\\xb0'\n",
      " b' ' b'\\n' b' ' b'\\xc2\\xab' b'\\xd0\\x9a' b'\\xd0\\xb0' b'\\xd1\\x82'\n",
      " b'\\xd0\\xb0' b'\\xd0\\xbb' b'\\xd0\\xbe' b'\\xd0\\xb3' b' ' b'\\xd1\\x80'\n",
      " b'\\xd1\\x96' b'\\xd1\\x87' b'\\xd0\\xbe' b'\\xd0\\xba' b' ' b'\\xd0\\xa3'\n",
      " b'\\xd0\\xba' b'\\xd1\\x80' b'\\xd0\\xb0' b'\\xd1\\x97' b'\\xd0\\xbd' b'\\xd0\\xb8'\n",
      " b'\\xc2\\xbb' b'.' b'\\xc2\\xa0' b'\\xe2\\x80\\x94' b' ' b'\\xd0\\x9a' b'.' b' '\n",
      " b':' b' ' b'\\xd0\\x92' b'\\xd0\\xb8' b'\\xd0\\xb4' b'\\xd0\\xb0' b'\\xd0\\xb2'\n",
      " b'\\xd0\\xbd' b'\\xd0\\xb8' b'\\xd1\\x86' b'\\xd1\\x82' b'\\xd0\\xb2' b'\\xd0\\xbe'\n",
      " b' ' b'\\xd0\\x90' b'\\xd0\\x9d' b' ' b'\\xd0\\xa3' b'\\xd0\\xa0' b'\\xd0\\xa1'\n",
      " b'\\xd0\\xa0' b',' b' ' b'1' b'9' b'5' b'7' b'.' b'\\xc2\\xa0'\n",
      " b'\\xe2\\x80\\x94' b' ' b'\\xd0\\xa1' b'.' b'\\xc2\\xa0' b'8' b'3' b'.'\n",
      " b'\\xc2\\xa0' b'\\xe2\\x80\\x94' b' ' b'(' b'\\xe2\\x84\\x96' b'\\xc2\\xa0' b'1'\n",
      " b'3' b'4' b'0' b')' b'.' b'\\n' b'\\n' b'\\xd0\\x9a' b'\\xd0\\xb0' b'\\xd1\\x82'\n",
      " b'\\xd0\\xb5' b'\\xd0\\xb3' b'\\xd0\\xbe' b'\\xd1\\x80' b'\\xd1\\x96' b'\\xd1\\x8f'\n",
      " b':' b'\\xd0\\x9c' b'\\xd0\\xb0' b'\\xd0\\xbb' b'\\xd1\\x96' b' ' b'\\xd1\\x80'\n",
      " b'\\xd1\\x96' b'\\xd1\\x87' b'\\xd0\\xba' b'\\xd0\\xb8' b' ' b'\\xd0\\xa3'\n",
      " b'\\xd0\\xba' b'\\xd1\\x80' b'\\xd0\\xb0' b'\\xd1\\x97' b'\\xd0\\xbd' b'\\xd0\\xb8'\n",
      " b'\\n' b'\\xd0\\x9a' b'\\xd0\\xb0' b'\\xd1\\x82' b'\\xd0\\xb5' b'\\xd0\\xb3'\n",
      " b'\\xd0\\xbe' b'\\xd1\\x80' b'\\xd1\\x96' b'\\xd1\\x8f' b':' b'\\xd0\\xa0'\n",
      " b'\\xd1\\x96' b'\\xd1\\x87' b'\\xd0\\xba' b'\\xd0\\xb8' b' ' b'\\xd0\\x96'\n",
      " b'\\xd0\\xb8' b'\\xd1\\x82' b'\\xd0\\xbe' b'\\xd0\\xbc' b'\\xd0\\xb8' b'\\xd1\\x80'\n",
      " b'\\xd1\\x81' b'\\xd1\\x8c' b'\\xd0\\xba' b'\\xd0\\xbe' b'\\xd1\\x97' b' '\n",
      " b'\\xd0\\xbe' b'\\xd0\\xb1' b'\\xd0\\xbb' b'\\xd0\\xb0' b'\\xd1\\x81' b'\\xd1\\x82'\n",
      " b'\\xd1\\x96' b'\\n' b'\\xd0\\x9a' b'\\xd0\\xb0' b'\\xd1\\x82' b'\\xd0\\xb5'\n",
      " b'\\xd0\\xb3' b'\\xd0\\xbe' b'\\xd1\\x80' b'\\xd1\\x96' b'\\xd1\\x8f' b':'\n",
      " b'\\xd0\\x84' b'\\xd0\\xbc' b'\\xd1\\x96' b'\\xd0\\xbb' b'\\xd1\\x8c' b'\\xd1\\x87'\n",
      " b'\\xd0\\xb8' b'\\xd0\\xbd' b'\\xd1\\x81' b'\\xd1\\x8c' b'\\xd0\\xba' b'\\xd0\\xb8'\n",
      " b'\\xd0\\xb9' b' ' b'\\xd1\\x80' b'\\xd0\\xb0' b'\\xd0\\xb9' b'\\xd0\\xbe'\n",
      " b'\\xd0\\xbd' b'\\n' b'\\xd0\\x9a' b'\\xd0\\xb0' b'\\xd1\\x82' b'\\xd0\\xb5'\n",
      " b'\\xd0\\xb3' b'\\xd0\\xbe' b'\\xd1\\x80' b'\\xd1\\x96' b'\\xd1\\x8f' b':'\n",
      " b'\\xd0\\xa0' b'\\xd1\\x96' b'\\xd1\\x87' b'\\xd0\\xba' b'\\xd0\\xb8' b' '\n",
      " b'\\xd0\\x84' b'\\xd0\\xbc' b'\\xd1\\x96' b'\\xd0\\xbb' b'\\xd1\\x8c' b'\\xd1\\x87'\n",
      " b'\\xd0\\xb8' b'\\xd0\\xbd' b'\\xd1\\x81' b'\\xd1\\x8c' b'\\xd0\\xba' b'\\xd0\\xbe'\n",
      " b'\\xd0\\xb3' b'\\xd0\\xbe' b' ' b'\\xd1\\x80' b'\\xd0\\xb0' b'\\xd0\\xb9'\n",
      " b'\\xd0\\xbe' b'\\xd0\\xbd' b'\\xd1\\x83']\n",
      "\n",
      "\n",
      "[b'\\xd0\\xa1' b'\\xd1\\x96' b'\\xd0\\xbd' ... b'\\xd0\\xb0' b'\\xd0\\xbd'\n",
      " b'\\xd1\\x8c']\n",
      "\n",
      "\n"
     ]
    }
   ],
   "source": [
    "def article_to_text(text):\n",
    "    return np.array([char for char in text.numpy().decode('utf-8')])\n",
    "\n",
    "# Converting each dataset item to a string ('text') instead of a dictionary ({'text', 'title'}).\n",
    "dataset_text = dataset.map(\n",
    "    lambda article: tf.py_function(func=article_to_text, inp=[article['text']], Tout=tf.string)\n",
    ")\n",
    "\n",
    "for text in dataset_text.take(2):\n",
    "    print(text.numpy())\n",
    "    print('\\n')"
   ]
  },
  {
   "cell_type": "code",
   "execution_count": 17,
   "metadata": {},
   "outputs": [
    {
     "name": "stdout",
     "output_type": "stream",
     "text": [
      "З\n",
      "а\n",
      "р\n",
      "о\n",
      "в\n",
      "е\n",
      "н\n",
      "ь\n",
      "к\n",
      "а\n",
      ",\n",
      " \n",
      "З\n",
      "р\n",
      "о\n",
      "в\n",
      "е\n",
      "н\n",
      "ь\n",
      " \n"
     ]
    }
   ],
   "source": [
    "# Unbatch the text dataset into a more granular char dataset.\n",
    "# Now each dataset item is one character instead of a big piece of text.\n",
    "dataset_chars = dataset_text.unbatch()\n",
    "\n",
    "for char in dataset_chars.take(20):\n",
    "    print(char.numpy().decode('utf-8'))"
   ]
  },
  {
   "cell_type": "markdown",
   "metadata": {},
   "source": [
    "### Generating vocabulary"
   ]
  },
  {
   "cell_type": "code",
   "execution_count": null,
   "metadata": {},
   "outputs": [],
   "source": [
    "vocab = set()\n",
    "for text in dataset_text.take(10000):\n",
    "    vocab.update([char.decode('utf-8') for char in text.numpy()])\n",
    "vocab = sorted(vocab)\n",
    "\n",
    "print('Unique characters: {}'.format(len(vocab)))\n",
    "print('vocab:')\n",
    "print(vocab)"
   ]
  },
  {
   "cell_type": "markdown",
   "metadata": {
    "colab_type": "text",
    "id": "6dj4e-AGMaV4"
   },
   "source": [
    "### Vectorize the text\n",
    "\n",
    "Before feeding the text to our RNN we need to convert the text from a sequence of characters to a sequence of numbers. To do so we will detect all unique characters in the text, form a vocabulary out of it and replace each character with its index in the vocabulary."
   ]
  },
  {
   "cell_type": "code",
   "execution_count": null,
   "metadata": {
    "colab": {
     "base_uri": "https://localhost:8080/",
     "height": 408
    },
    "colab_type": "code",
    "executionInfo": {
     "elapsed": 1510,
     "status": "ok",
     "timestamp": 1584519800417,
     "user": {
      "displayName": "Oleksii Trekhleb",
      "photoUrl": "https://lh3.googleusercontent.com/a-/AOh14GiiA4aUKCbFho88Jd0WWMoAqQUt3jbuCtfNYpHVOA=s64",
      "userId": "03172675069638383074"
     },
     "user_tz": -60
    },
    "id": "xFFpuXfGMPq2",
    "outputId": "530395b0-62e2-41e5-c0bf-63b2ca9da7cf"
   },
   "outputs": [],
   "source": [
    "# Map characters to their indices in vocabulary.\n",
    "char2index = {char: index for index, char in enumerate(vocab)}\n",
    "\n",
    "print('{')\n",
    "for char, _ in zip(char2index, range(30)):\n",
    "    print('  {:4s}: {:3d},'.format(repr(char), char2index[char]))\n",
    "print('  ...\\n}')"
   ]
  },
  {
   "cell_type": "code",
   "execution_count": null,
   "metadata": {
    "colab": {
     "base_uri": "https://localhost:8080/",
     "height": 85
    },
    "colab_type": "code",
    "executionInfo": {
     "elapsed": 1466,
     "status": "ok",
     "timestamp": 1584519800417,
     "user": {
      "displayName": "Oleksii Trekhleb",
      "photoUrl": "https://lh3.googleusercontent.com/a-/AOh14GiiA4aUKCbFho88Jd0WWMoAqQUt3jbuCtfNYpHVOA=s64",
      "userId": "03172675069638383074"
     },
     "user_tz": -60
    },
    "id": "lQB33zI7NkRo",
    "outputId": "ef5bc93f-7bad-437f-f70a-9eb53d895613"
   },
   "outputs": [],
   "source": [
    "# Map character indices to characters from vacabulary.\n",
    "index2char = np.array(vocab)\n",
    "\n",
    "print(index2char)"
   ]
  },
  {
   "cell_type": "code",
   "execution_count": null,
   "metadata": {
    "colab": {
     "base_uri": "https://localhost:8080/",
     "height": 51
    },
    "colab_type": "code",
    "executionInfo": {
     "elapsed": 1367,
     "status": "ok",
     "timestamp": 1584519800418,
     "user": {
      "displayName": "Oleksii Trekhleb",
      "photoUrl": "https://lh3.googleusercontent.com/a-/AOh14GiiA4aUKCbFho88Jd0WWMoAqQUt3jbuCtfNYpHVOA=s64",
      "userId": "03172675069638383074"
     },
     "user_tz": -60
    },
    "id": "DXUAlYmvN_Rj",
    "outputId": "ef3412c4-68e0-4362-e093-feba628b7079"
   },
   "outputs": [],
   "source": [
    "def char_to_index(char):\n",
    "    char_symbol = char.numpy().decode('utf-8')\n",
    "    char_index = char2index[char_symbol] if char_symbol in char2index else char2index['?']\n",
    "    return char_index\n",
    "\n",
    "dataset_chars_indexed = dataset_chars.map(\n",
    "    lambda char: tf.py_function(func=char_to_index, inp=[char], Tout=tf.int32)\n",
    ")\n",
    "\n",
    "print('ORIGINAL CHARS:', '\\n---')\n",
    "for char in dataset_chars.take(10):\n",
    "    print(char.numpy().decode())\n",
    "\n",
    "print('\\n\\n')    \n",
    "    \n",
    "print('INDEXED CHARS:', '\\n---')\n",
    "for char_index in dataset_chars_indexed.take(10):\n",
    "    print(char_index.numpy())"
   ]
  },
  {
   "cell_type": "markdown",
   "metadata": {
    "colab_type": "text",
    "id": "CHv5HhUuTQYS"
   },
   "source": [
    "## Create training sequences"
   ]
  },
  {
   "cell_type": "code",
   "execution_count": null,
   "metadata": {},
   "outputs": [],
   "source": [
    "# The maximum length sentence we want for a single input in characters.\n",
    "sequence_length = 100"
   ]
  },
  {
   "cell_type": "code",
   "execution_count": null,
   "metadata": {
    "colab": {
     "base_uri": "https://localhost:8080/",
     "height": 156
    },
    "colab_type": "code",
    "executionInfo": {
     "elapsed": 3082,
     "status": "ok",
     "timestamp": 1584519802697,
     "user": {
      "displayName": "Oleksii Trekhleb",
      "photoUrl": "https://lh3.googleusercontent.com/a-/AOh14GiiA4aUKCbFho88Jd0WWMoAqQUt3jbuCtfNYpHVOA=s64",
      "userId": "03172675069638383074"
     },
     "user_tz": -60
    },
    "id": "Ap71VjB2Vuct",
    "outputId": "0c05de4a-d66c-4f20-83a7-e584d853e98d"
   },
   "outputs": [],
   "source": [
    "# Generate batched sequences out of the char_dataset.\n",
    "sequences = dataset_chars_indexed.batch(sequence_length + 1, drop_remainder=True)\n",
    "\n",
    "# Sequences examples.\n",
    "for item in sequences.take(5):\n",
    "    print(repr(''.join(index2char[item.numpy()])))"
   ]
  },
  {
   "cell_type": "code",
   "execution_count": null,
   "metadata": {
    "colab": {},
    "colab_type": "code",
    "id": "Y8spPCfe-iTn"
   },
   "outputs": [],
   "source": [
    "# sequences shape:\n",
    "# - Each sequence of length 101\n",
    "#\n",
    "#\n",
    "#    101     101          101\n",
    "# [(.....) (.....) ...  (.....)]\n",
    "#\n",
    "# <---------- 11043 ----------->"
   ]
  },
  {
   "cell_type": "markdown",
   "metadata": {
    "colab_type": "text",
    "id": "HdcrcUs4Xxso"
   },
   "source": [
    "For each sequence, duplicate and shift it to form the input and target text. For example, say `sequence_length` is `4` and our text is `Hello`. The input sequence would be `Hell`, and the target sequence `ello`."
   ]
  },
  {
   "cell_type": "code",
   "execution_count": null,
   "metadata": {
    "colab": {},
    "colab_type": "code",
    "id": "9fxvXsP0XFDh"
   },
   "outputs": [],
   "source": [
    "def split_input_target(chunk):\n",
    "    input_text = chunk[:-1]\n",
    "    target_text = chunk[1:]\n",
    "    return input_text, target_text"
   ]
  },
  {
   "cell_type": "code",
   "execution_count": null,
   "metadata": {
    "colab": {
     "base_uri": "https://localhost:8080/",
     "height": 34
    },
    "colab_type": "code",
    "executionInfo": {
     "elapsed": 6915,
     "status": "ok",
     "timestamp": 1584519807164,
     "user": {
      "displayName": "Oleksii Trekhleb",
      "photoUrl": "https://lh3.googleusercontent.com/a-/AOh14GiiA4aUKCbFho88Jd0WWMoAqQUt3jbuCtfNYpHVOA=s64",
      "userId": "03172675069638383074"
     },
     "user_tz": -60
    },
    "id": "454rWIQYXXRY",
    "outputId": "de3a70e1-49e8-4f68-d988-77d1856a2e60"
   },
   "outputs": [],
   "source": [
    "dataset_sequences = sequences.map(split_input_target)"
   ]
  },
  {
   "cell_type": "code",
   "execution_count": null,
   "metadata": {
    "colab": {
     "base_uri": "https://localhost:8080/",
     "height": 122
    },
    "colab_type": "code",
    "executionInfo": {
     "elapsed": 6548,
     "status": "ok",
     "timestamp": 1584519807165,
     "user": {
      "displayName": "Oleksii Trekhleb",
      "photoUrl": "https://lh3.googleusercontent.com/a-/AOh14GiiA4aUKCbFho88Jd0WWMoAqQUt3jbuCtfNYpHVOA=s64",
      "userId": "03172675069638383074"
     },
     "user_tz": -60
    },
    "id": "Kuoh4tCdYCck",
    "outputId": "b03368eb-4c92-4662-95fe-d64f6bec308d"
   },
   "outputs": [],
   "source": [
    "for input_example, target_example in dataset_sequences.take(1):\n",
    "    print('Input sequence size:', repr(len(input_example.numpy())))\n",
    "    print('Target sequence size:', repr(len(target_example.numpy())))\n",
    "    print()\n",
    "    print('Input:', repr(''.join(index2char[input_example.numpy()])))\n",
    "    print('Target:', repr(''.join(index2char[target_example.numpy()])))"
   ]
  },
  {
   "cell_type": "code",
   "execution_count": null,
   "metadata": {
    "colab": {},
    "colab_type": "code",
    "id": "cp0tl0sN807l"
   },
   "outputs": [],
   "source": [
    "# dataset shape:\n",
    "# - Each sequence is a tuple of 2 sub-sequences of length 100 (input_text and target_text)\n",
    "#\n",
    "#\n",
    "#    100       100           100\n",
    "# /(.....)\\ /(.....)\\ ... /(.....)\\  <-- input_text\n",
    "# \\(.....)/ \\(.....)/     \\(.....)/  <-- target_text\n",
    "#\n",
    "# <----------- 11043 ------------->"
   ]
  },
  {
   "cell_type": "markdown",
   "metadata": {
    "colab_type": "text",
    "id": "BDYHEJ0pY1ai"
   },
   "source": [
    "Each index of these vectors are processed as one time step. For the input at time step 0, the model receives the index for \"F\" and trys to predict the index for \"i\" as the next character. At the next timestep, it does the same thing but the RNN considers the previous step context in addition to the current input character."
   ]
  },
  {
   "cell_type": "code",
   "execution_count": null,
   "metadata": {
    "colab": {
     "base_uri": "https://localhost:8080/",
     "height": 272
    },
    "colab_type": "code",
    "executionInfo": {
     "elapsed": 6469,
     "status": "ok",
     "timestamp": 1584519807584,
     "user": {
      "displayName": "Oleksii Trekhleb",
      "photoUrl": "https://lh3.googleusercontent.com/a-/AOh14GiiA4aUKCbFho88Jd0WWMoAqQUt3jbuCtfNYpHVOA=s64",
      "userId": "03172675069638383074"
     },
     "user_tz": -60
    },
    "id": "C-0zpv53Y2o4",
    "outputId": "05fb1543-308c-42f9-d2ee-003c2454772b"
   },
   "outputs": [],
   "source": [
    "for i, (input_idx, target_idx) in enumerate(zip(input_example[:5], target_example[:5])):\n",
    "    print('Step {:2d}'.format(i))\n",
    "    print('  input: {} ({:s})'.format(input_idx, repr(index2char[input_idx])))\n",
    "    print('  expected output: {} ({:s})'.format(target_idx, repr(index2char[target_idx])))"
   ]
  },
  {
   "cell_type": "markdown",
   "metadata": {
    "colab_type": "text",
    "id": "1iDlp40lC5YB"
   },
   "source": [
    "## Split training sequences into batches\n",
    "\n",
    "We used `tf.data` to split the text into manageable sequences. But before feeding this data into the model, we need to shuffle the data and pack it into batches."
   ]
  },
  {
   "cell_type": "code",
   "execution_count": null,
   "metadata": {
    "colab": {
     "base_uri": "https://localhost:8080/",
     "height": 34
    },
    "colab_type": "code",
    "executionInfo": {
     "elapsed": 6256,
     "status": "ok",
     "timestamp": 1584519807585,
     "user": {
      "displayName": "Oleksii Trekhleb",
      "photoUrl": "https://lh3.googleusercontent.com/a-/AOh14GiiA4aUKCbFho88Jd0WWMoAqQUt3jbuCtfNYpHVOA=s64",
      "userId": "03172675069638383074"
     },
     "user_tz": -60
    },
    "id": "eDq-wa5EC3wW",
    "outputId": "d13224e8-062a-4df8-c232-04f60d572e8d"
   },
   "outputs": [],
   "source": [
    "# Batch size.\n",
    "BATCH_SIZE = 64\n",
    "\n",
    "# Buffer size to shuffle the dataset (TF data is designed to work\n",
    "# with possibly infinite sequences, so it doesn't attempt to shuffle\n",
    "# the entire sequence in memory. Instead, it maintains a buffer in\n",
    "# which it shuffles elements).\n",
    "BUFFER_SIZE = 1000\n",
    "\n",
    "PREFETCH_SIZE = 2\n",
    "\n",
    "dataset_sequence_batches = dataset_sequences.shuffle(BUFFER_SIZE).batch(BATCH_SIZE, drop_remainder=True).prefetch(PREFETCH_SIZE)\n",
    "\n",
    "dataset_sequence_batches"
   ]
  },
  {
   "cell_type": "code",
   "execution_count": null,
   "metadata": {
    "colab": {
     "base_uri": "https://localhost:8080/",
     "height": 306
    },
    "colab_type": "code",
    "executionInfo": {
     "elapsed": 9749,
     "status": "ok",
     "timestamp": 1584519811500,
     "user": {
      "displayName": "Oleksii Trekhleb",
      "photoUrl": "https://lh3.googleusercontent.com/a-/AOh14GiiA4aUKCbFho88Jd0WWMoAqQUt3jbuCtfNYpHVOA=s64",
      "userId": "03172675069638383074"
     },
     "user_tz": -60
    },
    "id": "b_kYgvQGBO0U",
    "outputId": "2dfda8dc-a501-4e5f-8835-6c87b8f77051"
   },
   "outputs": [],
   "source": [
    "for input_text, target_text in dataset_sequence_batches.take(1):\n",
    "    print('1st batch: input_text:', input_text)\n",
    "    print()\n",
    "    print('1st batch: target_text:', target_text)"
   ]
  },
  {
   "cell_type": "code",
   "execution_count": null,
   "metadata": {
    "colab": {},
    "colab_type": "code",
    "id": "UkDCH15v_2I6"
   },
   "outputs": [],
   "source": [
    "# dataset shape:\n",
    "# - 64 sequences per batch\n",
    "# - Each sequence is a tuple of 2 sub-sequences of length 100 (input_text and target_text)\n",
    "#\n",
    "#\n",
    "#     100       100           100             100       100           100\n",
    "# |/(.....)\\ /(.....)\\ ... /(.....)\\| ... |/(.....)\\ /(.....)\\ ... /(.....)\\|  <-- input_text\n",
    "# |\\(.....)/ \\(.....)/     \\(.....)/| ... |\\(.....)/ \\(.....)/     \\(.....)/|  <-- target_text\n",
    "#\n",
    "# <------------- 64 ---------------->     <------------- 64 ---------------->\n",
    "#\n",
    "# <--------------------------------- 172 ----------------------------------->"
   ]
  },
  {
   "cell_type": "markdown",
   "metadata": {
    "colab_type": "text",
    "id": "ghB-VwLlD-Oz"
   },
   "source": [
    "## Build the model\n",
    "\n",
    "Use [tf.keras.Sequential](https://www.tensorflow.org/api_docs/python/tf/keras/Sequential) to define the model. For this simple example three layers are used to define our model:\n",
    "\n",
    "- [tf.keras.layers.Embedding](https://www.tensorflow.org/api_docs/python/tf/keras/layers/Embedding): The input layer. A trainable lookup table that will map the numbers of each character to a vector with `embedding_dim` dimensions;\n",
    "- [tf.keras.layers.LSTM](https://www.tensorflow.org/api_docs/python/tf/keras/layers/LSTM): A type of RNN with size units=rnn_units (You can also use a GRU layer here.)\n",
    "- [tf.keras.layers.Dense](https://www.tensorflow.org/api_docs/python/tf/keras/layers/Dense): The output layer, with vocab_size outputs."
   ]
  },
  {
   "cell_type": "code",
   "execution_count": null,
   "metadata": {
    "colab": {
     "base_uri": "https://localhost:8080/",
     "height": 425
    },
    "colab_type": "code",
    "executionInfo": {
     "elapsed": 9280,
     "status": "ok",
     "timestamp": 1584519811503,
     "user": {
      "displayName": "Oleksii Trekhleb",
      "photoUrl": "https://lh3.googleusercontent.com/a-/AOh14GiiA4aUKCbFho88Jd0WWMoAqQUt3jbuCtfNYpHVOA=s64",
      "userId": "03172675069638383074"
     },
     "user_tz": -60
    },
    "id": "0cg8DlO3QjuT",
    "outputId": "21a9daf0-1aca-4923-958e-317293023462"
   },
   "outputs": [],
   "source": [
    "# Let's do a quick detour and see how Embeding layer works.\n",
    "# It takes several char indices sequences (batch) as an input.\n",
    "# It encodes every character of every sequence to a vector of tmp_embeding_size length.\n",
    "tmp_vocab_size = 10\n",
    "tmp_embeding_size = 5\n",
    "tmp_input_length = 8\n",
    "tmp_batch_size = 2\n",
    "\n",
    "tmp_model = tf.keras.models.Sequential()\n",
    "tmp_model.add(tf.keras.layers.Embedding(\n",
    "  input_dim=tmp_vocab_size,\n",
    "  output_dim=tmp_embeding_size,\n",
    "  input_length=tmp_input_length\n",
    "))\n",
    "# The model will take as input an integer matrix of size (batch, input_length).\n",
    "# The largest integer (i.e. word index) in the input should be no larger than 9 (tmp_vocab_size).\n",
    "# Now model.output_shape == (None, 10, 64), where None is the batch dimension.\n",
    "tmp_input_array = np.random.randint(\n",
    "  low=0,\n",
    "  high=tmp_vocab_size,\n",
    "  size=(tmp_batch_size, tmp_input_length)\n",
    ")\n",
    "tmp_model.compile('rmsprop', 'mse')\n",
    "tmp_output_array = tmp_model.predict(tmp_input_array)\n",
    "\n",
    "print('tmp_input_array shape:', tmp_input_array.shape)\n",
    "print('tmp_input_array:')\n",
    "print(tmp_input_array)\n",
    "print()\n",
    "print('tmp_output_array shape:', tmp_output_array.shape)\n",
    "print('tmp_output_array:')\n",
    "print(tmp_output_array)"
   ]
  },
  {
   "cell_type": "code",
   "execution_count": null,
   "metadata": {
    "colab": {},
    "colab_type": "code",
    "id": "I7ZuvZHBD_pS"
   },
   "outputs": [],
   "source": [
    "# Length of the vocabulary in chars.\n",
    "vocab_size = len(vocab)\n",
    "\n",
    "# The embedding dimension.\n",
    "embedding_dim = 256\n",
    "\n",
    "# Number of RNN units.\n",
    "rnn_units = 1024"
   ]
  },
  {
   "cell_type": "code",
   "execution_count": null,
   "metadata": {
    "colab": {},
    "colab_type": "code",
    "id": "-sojdDCAICWO"
   },
   "outputs": [],
   "source": [
    "def build_model(vocab_size, embedding_dim, rnn_units, batch_size):\n",
    "    model = tf.keras.models.Sequential()\n",
    "\n",
    "    model.add(tf.keras.layers.Embedding(\n",
    "      input_dim=vocab_size,\n",
    "      output_dim=embedding_dim,\n",
    "      batch_input_shape=[batch_size, None]\n",
    "    ))\n",
    "\n",
    "    model.add(tf.keras.layers.LSTM(\n",
    "      units=rnn_units,\n",
    "      return_sequences=True,\n",
    "      stateful=True,\n",
    "      recurrent_initializer=tf.keras.initializers.GlorotNormal()\n",
    "    ))\n",
    "\n",
    "    model.add(tf.keras.layers.Dense(vocab_size))\n",
    "  \n",
    "    return model"
   ]
  },
  {
   "cell_type": "code",
   "execution_count": null,
   "metadata": {
    "colab": {},
    "colab_type": "code",
    "id": "XoPwxyAPEg6z"
   },
   "outputs": [],
   "source": [
    "model = build_model(vocab_size, embedding_dim, rnn_units, BATCH_SIZE)"
   ]
  },
  {
   "cell_type": "code",
   "execution_count": null,
   "metadata": {
    "colab": {
     "base_uri": "https://localhost:8080/",
     "height": 255
    },
    "colab_type": "code",
    "executionInfo": {
     "elapsed": 8897,
     "status": "ok",
     "timestamp": 1584519812083,
     "user": {
      "displayName": "Oleksii Trekhleb",
      "photoUrl": "https://lh3.googleusercontent.com/a-/AOh14GiiA4aUKCbFho88Jd0WWMoAqQUt3jbuCtfNYpHVOA=s64",
      "userId": "03172675069638383074"
     },
     "user_tz": -60
    },
    "id": "iLnlZFgU55bQ",
    "outputId": "eeece968-3a2a-4652-a0b7-d8f6944cdbc2"
   },
   "outputs": [],
   "source": [
    "model.summary()"
   ]
  },
  {
   "cell_type": "code",
   "execution_count": null,
   "metadata": {
    "colab": {
     "base_uri": "https://localhost:8080/",
     "height": 422
    },
    "colab_type": "code",
    "executionInfo": {
     "elapsed": 8704,
     "status": "ok",
     "timestamp": 1584519812084,
     "user": {
      "displayName": "Oleksii Trekhleb",
      "photoUrl": "https://lh3.googleusercontent.com/a-/AOh14GiiA4aUKCbFho88Jd0WWMoAqQUt3jbuCtfNYpHVOA=s64",
      "userId": "03172675069638383074"
     },
     "user_tz": -60
    },
    "id": "CcaO_rO_8-GH",
    "outputId": "21830f00-dc89-417a-81d8-8988354235f4"
   },
   "outputs": [],
   "source": [
    "tf.keras.utils.plot_model(\n",
    "    model,\n",
    "    show_shapes=True,\n",
    "    show_layer_names=True,\n",
    ")"
   ]
  },
  {
   "cell_type": "markdown",
   "metadata": {
    "colab_type": "text",
    "id": "JpL9idwZV6fL"
   },
   "source": [
    "For each character the model looks up the embedding, runs the GRU one timestep with the embedding as input, and applies the dense layer to generate logits predicting the log-likelihood of the next character:\n",
    "\n",
    "![Model architecture](https://www.tensorflow.org/tutorials/text/images/text_generation_training.png)\n",
    "\n",
    "Image source: [Text generation with an RNN](https://www.tensorflow.org/tutorials/text/text_generation) notebook."
   ]
  },
  {
   "cell_type": "markdown",
   "metadata": {
    "colab_type": "text",
    "id": "Npruiy2RAPkt"
   },
   "source": [
    "## Try the model"
   ]
  },
  {
   "cell_type": "code",
   "execution_count": null,
   "metadata": {
    "colab": {
     "base_uri": "https://localhost:8080/",
     "height": 34
    },
    "colab_type": "code",
    "executionInfo": {
     "elapsed": 11144,
     "status": "ok",
     "timestamp": 1584519814917,
     "user": {
      "displayName": "Oleksii Trekhleb",
      "photoUrl": "https://lh3.googleusercontent.com/a-/AOh14GiiA4aUKCbFho88Jd0WWMoAqQUt3jbuCtfNYpHVOA=s64",
      "userId": "03172675069638383074"
     },
     "user_tz": -60
    },
    "id": "E4DCLA0GASL1",
    "outputId": "eba67358-d6b9-4b42-a2f1-dc6ed3e0708c"
   },
   "outputs": [],
   "source": [
    "for input_example_batch, target_example_batch in dataset_sequence_batches.take(1):\n",
    "    example_batch_predictions = model(input_example_batch)\n",
    "    print(example_batch_predictions.shape, \"# (batch_size, sequence_length, vocab_size)\")\n"
   ]
  },
  {
   "cell_type": "markdown",
   "metadata": {
    "colab_type": "text",
    "id": "MWebJXU9CEPd"
   },
   "source": [
    "To get actual predictions from the model we need to sample from the output distribution, to get actual character indices. This distribution is defined by the logits over the character vocabulary."
   ]
  },
  {
   "cell_type": "code",
   "execution_count": null,
   "metadata": {
    "colab": {
     "base_uri": "https://localhost:8080/",
     "height": 340
    },
    "colab_type": "code",
    "executionInfo": {
     "elapsed": 11020,
     "status": "ok",
     "timestamp": 1584519814919,
     "user": {
      "displayName": "Oleksii Trekhleb",
      "photoUrl": "https://lh3.googleusercontent.com/a-/AOh14GiiA4aUKCbFho88Jd0WWMoAqQUt3jbuCtfNYpHVOA=s64",
      "userId": "03172675069638383074"
     },
     "user_tz": -60
    },
    "id": "Y4Jgo-iECFWI",
    "outputId": "a59cb406-3813-4fb0-8297-6862a73f2499"
   },
   "outputs": [],
   "source": [
    "print('Prediction for the 1st letter of the batch 1st sequense:')\n",
    "print(example_batch_predictions[0, 0])"
   ]
  },
  {
   "cell_type": "code",
   "execution_count": null,
   "metadata": {
    "colab": {
     "base_uri": "https://localhost:8080/",
     "height": 34
    },
    "colab_type": "code",
    "executionInfo": {
     "elapsed": 10898,
     "status": "ok",
     "timestamp": 1584519814922,
     "user": {
      "displayName": "Oleksii Trekhleb",
      "photoUrl": "https://lh3.googleusercontent.com/a-/AOh14GiiA4aUKCbFho88Jd0WWMoAqQUt3jbuCtfNYpHVOA=s64",
      "userId": "03172675069638383074"
     },
     "user_tz": -60
    },
    "id": "0dOr0MwFHlRb",
    "outputId": "f8dc2264-a19a-4887-f964-9086a95b14a4"
   },
   "outputs": [],
   "source": [
    "# Quick overview of how tf.random.categorical() works.\n",
    "\n",
    "# logits is 2-D Tensor with shape [batch_size, num_classes].\n",
    "# Each slice [i, :] represents the unnormalized log-probabilities for all classes.\n",
    "# In the example below we say that the probability for class \"0\" is low but the\n",
    "# probability for class \"2\" is much higher.\n",
    "tmp_logits = [\n",
    "  [-0.95, 0, 0.95],\n",
    "];\n",
    "\n",
    "# Let's generate 5 samples. Each sample is a class index. Class probabilities \n",
    "# are being taken into account (we expect to see more samples of class \"2\").\n",
    "tmp_samples = tf.random.categorical(\n",
    "    logits=tmp_logits,\n",
    "    num_samples=5\n",
    ")\n",
    "\n",
    "print(tmp_samples)"
   ]
  },
  {
   "cell_type": "code",
   "execution_count": null,
   "metadata": {
    "colab": {
     "base_uri": "https://localhost:8080/",
     "height": 34
    },
    "colab_type": "code",
    "executionInfo": {
     "elapsed": 10502,
     "status": "ok",
     "timestamp": 1584519814922,
     "user": {
      "displayName": "Oleksii Trekhleb",
      "photoUrl": "https://lh3.googleusercontent.com/a-/AOh14GiiA4aUKCbFho88Jd0WWMoAqQUt3jbuCtfNYpHVOA=s64",
      "userId": "03172675069638383074"
     },
     "user_tz": -60
    },
    "id": "JPzr0r4zCgS3",
    "outputId": "23e7516b-1753-402a-bc61-8a8988e49f18"
   },
   "outputs": [],
   "source": [
    "sampled_indices = tf.random.categorical(\n",
    "    logits=example_batch_predictions[0],\n",
    "    num_samples=1\n",
    ")\n",
    "\n",
    "sampled_indices.shape"
   ]
  },
  {
   "cell_type": "code",
   "execution_count": null,
   "metadata": {
    "colab": {
     "base_uri": "https://localhost:8080/",
     "height": 34
    },
    "colab_type": "code",
    "executionInfo": {
     "elapsed": 10276,
     "status": "ok",
     "timestamp": 1584519814923,
     "user": {
      "displayName": "Oleksii Trekhleb",
      "photoUrl": "https://lh3.googleusercontent.com/a-/AOh14GiiA4aUKCbFho88Jd0WWMoAqQUt3jbuCtfNYpHVOA=s64",
      "userId": "03172675069638383074"
     },
     "user_tz": -60
    },
    "id": "YaA7DclID8dz",
    "outputId": "08a3c58b-e331-4f91-8e3f-be2649a85f48"
   },
   "outputs": [],
   "source": [
    "sampled_indices = tf.squeeze(\n",
    "    input=sampled_indices,\n",
    "    axis=-1\n",
    ").numpy()\n",
    "\n",
    "sampled_indices.shape"
   ]
  },
  {
   "cell_type": "code",
   "execution_count": null,
   "metadata": {
    "colab": {
     "base_uri": "https://localhost:8080/",
     "height": 119
    },
    "colab_type": "code",
    "executionInfo": {
     "elapsed": 10212,
     "status": "ok",
     "timestamp": 1584519814924,
     "user": {
      "displayName": "Oleksii Trekhleb",
      "photoUrl": "https://lh3.googleusercontent.com/a-/AOh14GiiA4aUKCbFho88Jd0WWMoAqQUt3jbuCtfNYpHVOA=s64",
      "userId": "03172675069638383074"
     },
     "user_tz": -60
    },
    "id": "_ubGQ0gVENhB",
    "outputId": "4ab910cf-06e6-4fd1-c751-746d79d895d0"
   },
   "outputs": [],
   "source": [
    "sampled_indices"
   ]
  },
  {
   "cell_type": "code",
   "execution_count": null,
   "metadata": {
    "colab": {
     "base_uri": "https://localhost:8080/",
     "height": 122
    },
    "colab_type": "code",
    "executionInfo": {
     "elapsed": 9992,
     "status": "ok",
     "timestamp": 1584519814925,
     "user": {
      "displayName": "Oleksii Trekhleb",
      "photoUrl": "https://lh3.googleusercontent.com/a-/AOh14GiiA4aUKCbFho88Jd0WWMoAqQUt3jbuCtfNYpHVOA=s64",
      "userId": "03172675069638383074"
     },
     "user_tz": -60
    },
    "id": "Gi9HOzw9EajS",
    "outputId": "aa7dc69f-63ad-4273-b2df-e6cc8eada7cd"
   },
   "outputs": [],
   "source": [
    "print('Input:\\n', repr(''.join(index2char[input_example_batch[0]])))\n",
    "print()\n",
    "print('Next char prediction:\\n', repr(''.join(index2char[sampled_indices])))"
   ]
  },
  {
   "cell_type": "code",
   "execution_count": null,
   "metadata": {
    "colab": {
     "base_uri": "https://localhost:8080/",
     "height": 272
    },
    "colab_type": "code",
    "executionInfo": {
     "elapsed": 9825,
     "status": "ok",
     "timestamp": 1584519814926,
     "user": {
      "displayName": "Oleksii Trekhleb",
      "photoUrl": "https://lh3.googleusercontent.com/a-/AOh14GiiA4aUKCbFho88Jd0WWMoAqQUt3jbuCtfNYpHVOA=s64",
      "userId": "03172675069638383074"
     },
     "user_tz": -60
    },
    "id": "b87e0lsYMTsv",
    "outputId": "75c7e1bf-b2d5-4f15-cba7-0ae5f8765327"
   },
   "outputs": [],
   "source": [
    "for i, (input_idx, sample_idx) in enumerate(zip(input_example_batch[0][:5], sampled_indices[:5])):\n",
    "    print('Prediction {:2d}'.format(i))\n",
    "    print('  input: {} ({:s})'.format(input_idx, repr(index2char[input_idx])))\n",
    "    print('  next predicted: {} ({:s})'.format(target_idx, repr(index2char[sample_idx])))"
   ]
  },
  {
   "cell_type": "markdown",
   "metadata": {
    "colab_type": "text",
    "id": "LqcBufKEE_p6"
   },
   "source": [
    "## Train the model\n",
    "\n",
    "At this point the problem can be treated as a standard classification problem. Given the previous RNN state, and the input this time step, predict the class of the next character."
   ]
  },
  {
   "cell_type": "markdown",
   "metadata": {
    "colab_type": "text",
    "id": "l4s0-PvrFub5"
   },
   "source": [
    "### Attach an optimizer, and a loss function"
   ]
  },
  {
   "cell_type": "code",
   "execution_count": null,
   "metadata": {
    "colab": {
     "base_uri": "https://localhost:8080/",
     "height": 51
    },
    "colab_type": "code",
    "executionInfo": {
     "elapsed": 9644,
     "status": "ok",
     "timestamp": 1584519814927,
     "user": {
      "displayName": "Oleksii Trekhleb",
      "photoUrl": "https://lh3.googleusercontent.com/a-/AOh14GiiA4aUKCbFho88Jd0WWMoAqQUt3jbuCtfNYpHVOA=s64",
      "userId": "03172675069638383074"
     },
     "user_tz": -60
    },
    "id": "UOEUUm6JE95a",
    "outputId": "ba94797c-e3c6-4d71-ac44-2cf76f7b2843"
   },
   "outputs": [],
   "source": [
    "# An objective function.\n",
    "# The function is any callable with the signature scalar_loss = fn(y_true, y_pred).\n",
    "def loss(labels, logits):\n",
    "    return tf.keras.losses.sparse_categorical_crossentropy(\n",
    "      y_true=labels,\n",
    "      y_pred=logits,\n",
    "      from_logits=True\n",
    "    )\n",
    "\n",
    "example_batch_loss = loss(target_example_batch, example_batch_predictions)\n",
    "\n",
    "print(\"Prediction shape: \", example_batch_predictions.shape, \" # (batch_size, sequence_length, vocab_size)\")\n",
    "print(\"scalar_loss:      \", example_batch_loss.numpy().mean())"
   ]
  },
  {
   "cell_type": "code",
   "execution_count": null,
   "metadata": {
    "colab": {},
    "colab_type": "code",
    "id": "SXhJsB6eFgrJ"
   },
   "outputs": [],
   "source": [
    "adam_optimizer = tf.keras.optimizers.Adam(learning_rate=0.001)\n",
    "model.compile(\n",
    "    optimizer=adam_optimizer,\n",
    "    loss=loss\n",
    ")"
   ]
  },
  {
   "cell_type": "markdown",
   "metadata": {
    "colab_type": "text",
    "id": "MK3Cf-xZFwL4"
   },
   "source": [
    "### Configure checkpoints"
   ]
  },
  {
   "cell_type": "code",
   "execution_count": null,
   "metadata": {},
   "outputs": [],
   "source": [
    "%rm -rf tmp/checkpoints"
   ]
  },
  {
   "cell_type": "code",
   "execution_count": null,
   "metadata": {
    "colab": {},
    "colab_type": "code",
    "id": "LUhXnHPJFy5q"
   },
   "outputs": [],
   "source": [
    "# Directory where the checkpoints will be saved.\n",
    "checkpoint_dir = 'tmp/checkpoints'\n",
    "os.makedirs(checkpoint_dir, exist_ok=True)\n",
    "\n",
    "# Name of the checkpoint files\n",
    "checkpoint_prefix = os.path.join(checkpoint_dir, 'ckpt_{epoch}')\n",
    "\n",
    "checkpoint_callback=tf.keras.callbacks.ModelCheckpoint(\n",
    "    filepath=checkpoint_prefix,\n",
    "    save_weights_only=True\n",
    ")"
   ]
  },
  {
   "cell_type": "markdown",
   "metadata": {
    "colab_type": "text",
    "id": "oFg9MFJoGZWf"
   },
   "source": [
    "### Execute the training"
   ]
  },
  {
   "cell_type": "code",
   "execution_count": null,
   "metadata": {
    "colab": {},
    "colab_type": "code",
    "id": "AVk-pARPGaja"
   },
   "outputs": [],
   "source": [
    "EPOCHS=3\n",
    "STEPS_PER_EPOCH = 1"
   ]
  },
  {
   "cell_type": "code",
   "execution_count": null,
   "metadata": {
    "colab": {
     "base_uri": "https://localhost:8080/",
     "height": 1000
    },
    "colab_type": "code",
    "executionInfo": {
     "elapsed": 1197604,
     "status": "ok",
     "timestamp": 1584521003714,
     "user": {
      "displayName": "Oleksii Trekhleb",
      "photoUrl": "https://lh3.googleusercontent.com/a-/AOh14GiiA4aUKCbFho88Jd0WWMoAqQUt3jbuCtfNYpHVOA=s64",
      "userId": "03172675069638383074"
     },
     "user_tz": -60
    },
    "id": "y0rveBdAGeEz",
    "outputId": "2449548c-5ca4-4340-df15-9cdf1714dcbc"
   },
   "outputs": [],
   "source": [
    "history = model.fit(\n",
    "  x=dataset_sequence_batches,\n",
    "  epochs=EPOCHS,\n",
    "  steps_per_epoch=STEPS_PER_EPOCH,\n",
    "  callbacks=[\n",
    "    checkpoint_callback\n",
    "  ]\n",
    ")"
   ]
  },
  {
   "cell_type": "code",
   "execution_count": null,
   "metadata": {
    "colab": {},
    "colab_type": "code",
    "id": "mLdnOyvzMggJ"
   },
   "outputs": [],
   "source": [
    "def render_training_history(training_history):\n",
    "    loss = training_history.history['loss']\n",
    "    plt.title('Loss')\n",
    "    plt.xlabel('Epoch')\n",
    "    plt.ylabel('Loss')\n",
    "    plt.plot(loss, label='Training set')\n",
    "    plt.legend()\n",
    "    plt.grid(linestyle='--', linewidth=1, alpha=0.5)\n",
    "    plt.show()"
   ]
  },
  {
   "cell_type": "code",
   "execution_count": null,
   "metadata": {
    "colab": {
     "base_uri": "https://localhost:8080/",
     "height": 295
    },
    "colab_type": "code",
    "executionInfo": {
     "elapsed": 1197218,
     "status": "ok",
     "timestamp": 1584521003724,
     "user": {
      "displayName": "Oleksii Trekhleb",
      "photoUrl": "https://lh3.googleusercontent.com/a-/AOh14GiiA4aUKCbFho88Jd0WWMoAqQUt3jbuCtfNYpHVOA=s64",
      "userId": "03172675069638383074"
     },
     "user_tz": -60
    },
    "id": "4Ghveem_OQBV",
    "outputId": "f4fcc0aa-4509-4330-a88b-1f5863c354d2"
   },
   "outputs": [],
   "source": [
    "render_training_history(history)"
   ]
  },
  {
   "cell_type": "markdown",
   "metadata": {
    "colab_type": "text",
    "id": "X-dhNP2OG2EM"
   },
   "source": [
    "## Generate text"
   ]
  },
  {
   "cell_type": "markdown",
   "metadata": {
    "colab_type": "text",
    "id": "SU_YfP6sG3NC"
   },
   "source": [
    "### Restore the latest checkpoint\n",
    "\n",
    "To keep this prediction step simple, use a batch size of 1.\n",
    "\n",
    "Because of the way the RNN state is passed from timestep to timestep, the model only accepts a fixed batch size once built.\n",
    "\n",
    "To run the model with a different `batch_size`, we need to rebuild the model and restore the weights from the checkpoint."
   ]
  },
  {
   "cell_type": "code",
   "execution_count": null,
   "metadata": {
    "colab": {
     "base_uri": "https://localhost:8080/",
     "height": 34
    },
    "colab_type": "code",
    "executionInfo": {
     "elapsed": 1197040,
     "status": "ok",
     "timestamp": 1584521003726,
     "user": {
      "displayName": "Oleksii Trekhleb",
      "photoUrl": "https://lh3.googleusercontent.com/a-/AOh14GiiA4aUKCbFho88Jd0WWMoAqQUt3jbuCtfNYpHVOA=s64",
      "userId": "03172675069638383074"
     },
     "user_tz": -60
    },
    "id": "BlG8o3wiG6f2",
    "outputId": "031b45e0-fcdf-4ab6-b7e9-e167b29800c9"
   },
   "outputs": [],
   "source": [
    "tf.train.latest_checkpoint(checkpoint_dir)"
   ]
  },
  {
   "cell_type": "code",
   "execution_count": null,
   "metadata": {
    "colab": {},
    "colab_type": "code",
    "id": "l7evN0LvH01P"
   },
   "outputs": [],
   "source": [
    "simplified_batch_size = 1\n",
    "\n",
    "model = build_model(vocab_size, embedding_dim, rnn_units, batch_size=1)\n",
    "\n",
    "model.load_weights(tf.train.latest_checkpoint(checkpoint_dir))\n",
    "\n",
    "model.build(tf.TensorShape([simplified_batch_size, None]))"
   ]
  },
  {
   "cell_type": "code",
   "execution_count": null,
   "metadata": {
    "colab": {
     "base_uri": "https://localhost:8080/",
     "height": 255
    },
    "colab_type": "code",
    "executionInfo": {
     "elapsed": 1196901,
     "status": "ok",
     "timestamp": 1584521004053,
     "user": {
      "displayName": "Oleksii Trekhleb",
      "photoUrl": "https://lh3.googleusercontent.com/a-/AOh14GiiA4aUKCbFho88Jd0WWMoAqQUt3jbuCtfNYpHVOA=s64",
      "userId": "03172675069638383074"
     },
     "user_tz": -60
    },
    "id": "Y3eduDtZI9zQ",
    "outputId": "95ccdb2f-f059-4be2-ee85-3541f422c7ea"
   },
   "outputs": [],
   "source": [
    "model.summary()"
   ]
  },
  {
   "cell_type": "markdown",
   "metadata": {
    "colab_type": "text",
    "id": "euNvAtr4JC3A"
   },
   "source": [
    "### The prediction loop\n",
    "\n",
    "The following code block generates the text:\n",
    "\n",
    "- It Starts by choosing a start string, initializing the RNN state and setting the number of characters to generate.\n",
    "\n",
    "- Get the prediction distribution of the next character using the start string and the RNN state.\n",
    "\n",
    "- Then, use a categorical distribution to calculate the index of the predicted character. Use this predicted character as our next input to the model.\n",
    "\n",
    "- The RNN state returned by the model is fed back into the model so that it now has more context, instead than only one character. After predicting the next character, the modified RNN states are again fed back into the model, which is how it learns as it gets more context from the previously predicted characters.\n",
    "\n",
    "![Prediction loop](https://www.tensorflow.org/tutorials/text/images/text_generation_sampling.png)\n",
    "\n",
    "Image source: [Text generation with an RNN](https://www.tensorflow.org/tutorials/text/text_generation) notebook."
   ]
  },
  {
   "cell_type": "code",
   "execution_count": null,
   "metadata": {
    "colab": {},
    "colab_type": "code",
    "id": "bOqdqGouJFf_"
   },
   "outputs": [],
   "source": [
    "# num_generate\n",
    "# - number of characters to generate.\n",
    "#\n",
    "# temperature\n",
    "# - Low temperatures results in more predictable text.\n",
    "# - Higher temperatures results in more surprising text.\n",
    "# - Experiment to find the best setting.\n",
    "def generate_text(model, start_string, num_generate = 1000, temperature=1.0):\n",
    "    # Evaluation step (generating text using the learned model)\n",
    "\n",
    "    # Converting our start string to numbers (vectorizing).\n",
    "    input_indices = [char2index[s] for s in start_string]\n",
    "    input_indices = tf.expand_dims(input_indices, 0)\n",
    "\n",
    "    # Empty string to store our results.\n",
    "    text_generated = []\n",
    "\n",
    "    # Here batch size == 1.\n",
    "    model.reset_states()\n",
    "    for char_index in range(num_generate):\n",
    "        predictions = model(input_indices)\n",
    "        # remove the batch dimension\n",
    "        predictions = tf.squeeze(predictions, 0)\n",
    "\n",
    "        # Using a categorical distribution to predict the character returned by the model.\n",
    "        predictions = predictions / temperature\n",
    "        predicted_id = tf.random.categorical(\n",
    "        predictions,\n",
    "        num_samples=1\n",
    "        )[-1,0].numpy()\n",
    "\n",
    "        # We pass the predicted character as the next input to the model\n",
    "        # along with the previous hidden state.\n",
    "        input_indices = tf.expand_dims([predicted_id], 0)\n",
    "\n",
    "        text_generated.append(index2char[predicted_id])\n",
    "\n",
    "    return (start_string + ''.join(text_generated))"
   ]
  },
  {
   "cell_type": "code",
   "execution_count": null,
   "metadata": {
    "colab": {
     "base_uri": "https://localhost:8080/",
     "height": 578
    },
    "colab_type": "code",
    "executionInfo": {
     "elapsed": 1202383,
     "status": "ok",
     "timestamp": 1584521010077,
     "user": {
      "displayName": "Oleksii Trekhleb",
      "photoUrl": "https://lh3.googleusercontent.com/a-/AOh14GiiA4aUKCbFho88Jd0WWMoAqQUt3jbuCtfNYpHVOA=s64",
      "userId": "03172675069638383074"
     },
     "user_tz": -60
    },
    "id": "Z-8e8P60J5Pg",
    "outputId": "25240489-3063-4bdd-b203-ef14886d1e60"
   },
   "outputs": [],
   "source": [
    "# Generate the text with default temperature (1.0).\n",
    "print(generate_text(model, start_string=u\"ROMEO: \"))"
   ]
  },
  {
   "cell_type": "code",
   "execution_count": null,
   "metadata": {
    "colab": {
     "base_uri": "https://localhost:8080/",
     "height": 561
    },
    "colab_type": "code",
    "executionInfo": {
     "elapsed": 1208506,
     "status": "ok",
     "timestamp": 1584521016280,
     "user": {
      "displayName": "Oleksii Trekhleb",
      "photoUrl": "https://lh3.googleusercontent.com/a-/AOh14GiiA4aUKCbFho88Jd0WWMoAqQUt3jbuCtfNYpHVOA=s64",
      "userId": "03172675069638383074"
     },
     "user_tz": -60
    },
    "id": "wq_NlwWJSdix",
    "outputId": "408ecde5-0646-4eda-902e-071e4f123417"
   },
   "outputs": [],
   "source": [
    "# Generate the text with higher temperature to get more unexpected results.\n",
    "print(generate_text(model, start_string=u\"ROMEO: \", temperature=1.5))"
   ]
  },
  {
   "cell_type": "markdown",
   "metadata": {
    "colab_type": "text",
    "id": "0hh80MqEO_XI"
   },
   "source": [
    "## Save the model"
   ]
  },
  {
   "cell_type": "code",
   "execution_count": null,
   "metadata": {
    "colab": {},
    "colab_type": "code",
    "id": "VPE98xa8PA-u"
   },
   "outputs": [],
   "source": [
    "model_name = 'text_generation_shakespeare_rnn.h5'\n",
    "model.save(model_name, save_format='h5')"
   ]
  },
  {
   "cell_type": "markdown",
   "metadata": {
    "colab_type": "text",
    "id": "WYP08xbbTNKp"
   },
   "source": [
    "## Converting the model to web-format\n",
    "\n",
    "To use this model on the web we need to convert it into the format that will be understandable by [tensorflowjs](https://www.tensorflow.org/js). To do so we may use [tfjs-converter](https://github.com/tensorflow/tfjs/tree/master/tfjs-converter) as following:\n",
    "\n",
    "```\n",
    "tensorflowjs_converter --input_format keras \\\n",
    "  ./experiments/text_generation_shakespeare_rnn/text_generation_shakespeare_rnn.h5 \\\n",
    "  ./demos/public/models/text_generation_shakespeare_rnn\n",
    "```\n",
    "\n",
    "You find this experiment in the [Demo app](https://trekhleb.github.io/machine-learning-experiments) and play around with it right in you browser to see how the model performs in real life."
   ]
  }
 ],
 "metadata": {
  "accelerator": "GPU",
  "colab": {
   "collapsed_sections": [],
   "name": "text_generation_shakespeare_rnn.ipynb",
   "provenance": [],
   "toc_visible": true
  },
  "kernelspec": {
   "display_name": "Python 3",
   "language": "python",
   "name": "python3"
  },
  "language_info": {
   "codemirror_mode": {
    "name": "ipython",
    "version": 3
   },
   "file_extension": ".py",
   "mimetype": "text/x-python",
   "name": "python",
   "nbconvert_exporter": "python",
   "pygments_lexer": "ipython3",
   "version": "3.7.6"
  }
 },
 "nbformat": 4,
 "nbformat_minor": 1
}
