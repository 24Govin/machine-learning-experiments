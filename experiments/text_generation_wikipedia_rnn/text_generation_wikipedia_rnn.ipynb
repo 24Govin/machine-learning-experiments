{
 "cells": [
  {
   "cell_type": "markdown",
   "metadata": {
    "colab_type": "text",
    "id": "JL3ZPJPgC4wC"
   },
   "source": [
    "# Wikipedia Text Generation (using RNN)"
   ]
  },
  {
   "cell_type": "markdown",
   "metadata": {
    "colab_type": "text",
    "id": "eoWGtkL8PPJ3"
   },
   "source": [
    "> - 🤖 See [full list of Machine Learning Experiments](https://github.com/trekhleb/machine-learning-experiments) on GitHub\n",
    "> - ▶️ Demo: [try this model in action](https://trekhleb.github.io/machine-learning-experiments)"
   ]
  },
  {
   "cell_type": "markdown",
   "metadata": {
    "colab_type": "text",
    "id": "bui0MyTjv1Mp"
   },
   "source": [
    "## Experiment overview\n",
    "\n",
    "In this experiment we will use character-based [Recurrent Neural Network](https://en.wikipedia.org/wiki/Recurrent_neural_network) (RNN) to generate a Wikipedia-like text based on the [wikipedia](https://www.tensorflow.org/datasets/catalog/wikipedia) TensorFlow dataset."
   ]
  },
  {
   "cell_type": "markdown",
   "metadata": {
    "colab_type": "text",
    "id": "3XxEZuRNIzHH"
   },
   "source": [
    "_Inspired by [Text generation with an RNN](https://www.tensorflow.org/tutorials/text/text_generation)_"
   ]
  },
  {
   "cell_type": "markdown",
   "metadata": {
    "colab_type": "text",
    "id": "IDJctDhhEDTD"
   },
   "source": [
    "## Import dependencies"
   ]
  },
  {
   "cell_type": "code",
   "execution_count": 1,
   "metadata": {
    "colab": {},
    "colab_type": "code",
    "id": "Z2xZnxncD2Ep"
   },
   "outputs": [],
   "source": [
    "# Selecting Tensorflow version v2 (the command is relevant for Colab only).\n",
    "# %tensorflow_version 2.x"
   ]
  },
  {
   "cell_type": "code",
   "execution_count": 2,
   "metadata": {
    "colab": {
     "base_uri": "https://localhost:8080/",
     "height": 68
    },
    "colab_type": "code",
    "executionInfo": {
     "elapsed": 3119,
     "status": "ok",
     "timestamp": 1586973888852,
     "user": {
      "displayName": "Oleksii Trekhleb",
      "photoUrl": "https://lh3.googleusercontent.com/a-/AOh14GiiA4aUKCbFho88Jd0WWMoAqQUt3jbuCtfNYpHVOA=s64",
      "userId": "03172675069638383074"
     },
     "user_tz": -120
    },
    "id": "SpueB6zADYgE",
    "outputId": "18c59941-ac1f-4d02-c824-8499f71a8a70"
   },
   "outputs": [
    {
     "name": "stdout",
     "output_type": "stream",
     "text": [
      "Python version: 3.7.6\n",
      "Tensorflow version: 2.1.0\n",
      "Keras version: 2.2.4-tf\n"
     ]
    }
   ],
   "source": [
    "import tensorflow as tf\n",
    "import tensorflow_datasets as tfds\n",
    "import matplotlib.pyplot as plt\n",
    "import numpy as np\n",
    "import platform\n",
    "import time\n",
    "import pathlib\n",
    "import os\n",
    "\n",
    "print('Python version:', platform.python_version())\n",
    "print('Tensorflow version:', tf.__version__)\n",
    "print('Keras version:', tf.keras.__version__)"
   ]
  },
  {
   "cell_type": "markdown",
   "metadata": {
    "colab_type": "text",
    "id": "ciI_JnnNEGCw"
   },
   "source": [
    "## Download the dataset\n",
    "\n",
    "[Wikipedia](https://www.tensorflow.org/datasets/catalog/wikipedia) dataset contains cleaned articles of all languages. The datasets are built from the [Wikipedia dump](https://dumps.wikimedia.org/) with one split per language. Each example contains the content of one full Wikipedia article with cleaning to strip markdown and unwanted sections (references, etc.)."
   ]
  },
  {
   "cell_type": "code",
   "execution_count": 3,
   "metadata": {
    "colab": {
     "base_uri": "https://localhost:8080/",
     "height": 1000
    },
    "colab_type": "code",
    "executionInfo": {
     "elapsed": 3103,
     "status": "ok",
     "timestamp": 1586973888853,
     "user": {
      "displayName": "Oleksii Trekhleb",
      "photoUrl": "https://lh3.googleusercontent.com/a-/AOh14GiiA4aUKCbFho88Jd0WWMoAqQUt3jbuCtfNYpHVOA=s64",
      "userId": "03172675069638383074"
     },
     "user_tz": -120
    },
    "id": "q3PDebo50-Le",
    "outputId": "7ca9b4e2-97fb-439d-8a53-dda4e9204275"
   },
   "outputs": [
    {
     "data": {
      "text/plain": [
       "['abstract_reasoning',\n",
       " 'aeslc',\n",
       " 'aflw2k3d',\n",
       " 'amazon_us_reviews',\n",
       " 'arc',\n",
       " 'bair_robot_pushing_small',\n",
       " 'big_patent',\n",
       " 'bigearthnet',\n",
       " 'billsum',\n",
       " 'binarized_mnist',\n",
       " 'binary_alpha_digits',\n",
       " 'c4',\n",
       " 'caltech101',\n",
       " 'caltech_birds2010',\n",
       " 'caltech_birds2011',\n",
       " 'cars196',\n",
       " 'cassava',\n",
       " 'cats_vs_dogs',\n",
       " 'celeb_a',\n",
       " 'celeb_a_hq',\n",
       " 'chexpert',\n",
       " 'cifar10',\n",
       " 'cifar100',\n",
       " 'cifar10_1',\n",
       " 'cifar10_corrupted',\n",
       " 'citrus_leaves',\n",
       " 'cityscapes',\n",
       " 'civil_comments',\n",
       " 'clevr',\n",
       " 'cmaterdb',\n",
       " 'cnn_dailymail',\n",
       " 'coco',\n",
       " 'coil100',\n",
       " 'colorectal_histology',\n",
       " 'colorectal_histology_large',\n",
       " 'cos_e',\n",
       " 'curated_breast_imaging_ddsm',\n",
       " 'cycle_gan',\n",
       " 'deep_weeds',\n",
       " 'definite_pronoun_resolution',\n",
       " 'diabetic_retinopathy_detection',\n",
       " 'dmlab',\n",
       " 'downsampled_imagenet',\n",
       " 'dsprites',\n",
       " 'dtd',\n",
       " 'duke_ultrasound',\n",
       " 'dummy_dataset_shared_generator',\n",
       " 'dummy_mnist',\n",
       " 'emnist',\n",
       " 'esnli',\n",
       " 'eurosat',\n",
       " 'fashion_mnist',\n",
       " 'flic',\n",
       " 'flores',\n",
       " 'food101',\n",
       " 'gap',\n",
       " 'gigaword',\n",
       " 'glue',\n",
       " 'groove',\n",
       " 'higgs',\n",
       " 'horses_or_humans',\n",
       " 'i_naturalist2017',\n",
       " 'image_label_folder',\n",
       " 'imagenet2012',\n",
       " 'imagenet2012_corrupted',\n",
       " 'imagenet_resized',\n",
       " 'imagenette',\n",
       " 'imdb_reviews',\n",
       " 'iris',\n",
       " 'kitti',\n",
       " 'kmnist',\n",
       " 'lfw',\n",
       " 'lm1b',\n",
       " 'lost_and_found',\n",
       " 'lsun',\n",
       " 'malaria',\n",
       " 'math_dataset',\n",
       " 'mnist',\n",
       " 'mnist_corrupted',\n",
       " 'movie_rationales',\n",
       " 'moving_mnist',\n",
       " 'multi_news',\n",
       " 'multi_nli',\n",
       " 'multi_nli_mismatch',\n",
       " 'newsroom',\n",
       " 'nsynth',\n",
       " 'omniglot',\n",
       " 'open_images_v4',\n",
       " 'oxford_flowers102',\n",
       " 'oxford_iiit_pet',\n",
       " 'para_crawl',\n",
       " 'patch_camelyon',\n",
       " 'pet_finder',\n",
       " 'places365_small',\n",
       " 'plant_leaves',\n",
       " 'plant_village',\n",
       " 'plantae_k',\n",
       " 'quickdraw_bitmap',\n",
       " 'reddit_tifu',\n",
       " 'resisc45',\n",
       " 'rock_paper_scissors',\n",
       " 'rock_you',\n",
       " 'scan',\n",
       " 'scene_parse150',\n",
       " 'scicite',\n",
       " 'scientific_papers',\n",
       " 'shapes3d',\n",
       " 'smallnorb',\n",
       " 'snli',\n",
       " 'so2sat',\n",
       " 'squad',\n",
       " 'stanford_dogs',\n",
       " 'stanford_online_products',\n",
       " 'starcraft_video',\n",
       " 'sun397',\n",
       " 'super_glue',\n",
       " 'svhn_cropped',\n",
       " 'ted_hrlr_translate',\n",
       " 'ted_multi_translate',\n",
       " 'tf_flowers',\n",
       " 'the300w_lp',\n",
       " 'titanic',\n",
       " 'trivia_qa',\n",
       " 'uc_merced',\n",
       " 'ucf101',\n",
       " 'vgg_face2',\n",
       " 'visual_domain_decathlon',\n",
       " 'voc',\n",
       " 'wider_face',\n",
       " 'wikihow',\n",
       " 'wikipedia',\n",
       " 'wmt14_translate',\n",
       " 'wmt15_translate',\n",
       " 'wmt16_translate',\n",
       " 'wmt17_translate',\n",
       " 'wmt18_translate',\n",
       " 'wmt19_translate',\n",
       " 'wmt_t2t_translate',\n",
       " 'wmt_translate',\n",
       " 'xnli',\n",
       " 'xsum']"
      ]
     },
     "execution_count": 3,
     "metadata": {},
     "output_type": "execute_result"
    }
   ],
   "source": [
    "# List all available datasets to see how the wikipedia dataset is called.\n",
    "tfds.list_builders()"
   ]
  },
  {
   "cell_type": "markdown",
   "metadata": {
    "colab_type": "text",
    "id": "f2qtWwKA0-Li"
   },
   "source": [
    "[`tfds.load`](https://www.tensorflow.org/datasets/api_docs/python/tfds/load) is a convenience method that's the simplest way to build and load a [`tf.data.Dataset`](https://www.tensorflow.org/api_docs/python/tf/data/Dataset)."
   ]
  },
  {
   "cell_type": "code",
   "execution_count": 4,
   "metadata": {
    "colab": {},
    "colab_type": "code",
    "id": "gsqkLYgZ0-Lj"
   },
   "outputs": [],
   "source": [
    "# Loading the wikipedia dataset.\n",
    "DATASET_NAME = 'wikipedia/20190301.en'\n",
    "# DATASET_NAME = 'wikipedia/20190301.uk'\n",
    "\n",
    "dataset, dataset_info = tfds.load(\n",
    "    name=DATASET_NAME,\n",
    "    data_dir='tmp',\n",
    "    with_info=True,\n",
    "    split=tfds.Split.TRAIN,\n",
    ")"
   ]
  },
  {
   "cell_type": "code",
   "execution_count": 5,
   "metadata": {
    "colab": {
     "base_uri": "https://localhost:8080/",
     "height": 496
    },
    "colab_type": "code",
    "executionInfo": {
     "elapsed": 3058,
     "status": "ok",
     "timestamp": 1586973888854,
     "user": {
      "displayName": "Oleksii Trekhleb",
      "photoUrl": "https://lh3.googleusercontent.com/a-/AOh14GiiA4aUKCbFho88Jd0WWMoAqQUt3jbuCtfNYpHVOA=s64",
      "userId": "03172675069638383074"
     },
     "user_tz": -120
    },
    "id": "V5nkTrRZ0-Ln",
    "outputId": "4f3b0eb0-84ef-4fb5-9087-72c096119542"
   },
   "outputs": [
    {
     "name": "stdout",
     "output_type": "stream",
     "text": [
      "tfds.core.DatasetInfo(\n",
      "    name='wikipedia',\n",
      "    version=1.0.0,\n",
      "    description='Wikipedia dataset containing cleaned articles of all languages.\n",
      "The datasets are built from the Wikipedia dump\n",
      "(https://dumps.wikimedia.org/) with one split per language. Each example\n",
      "contains the content of one full Wikipedia article with cleaning to strip\n",
      "markdown and unwanted sections (references, etc.).\n",
      "',\n",
      "    homepage='https://dumps.wikimedia.org',\n",
      "    features=FeaturesDict({\n",
      "        'text': Text(shape=(), dtype=tf.string),\n",
      "        'title': Text(shape=(), dtype=tf.string),\n",
      "    }),\n",
      "    total_num_examples=5824596,\n",
      "    splits={\n",
      "        'train': 5824596,\n",
      "    },\n",
      "    supervised_keys=None,\n",
      "    citation=\"\"\"@ONLINE {wikidump,\n",
      "        author = \"Wikimedia Foundation\",\n",
      "        title  = \"Wikimedia Downloads\",\n",
      "        url    = \"https://dumps.wikimedia.org\"\n",
      "    }\"\"\",\n",
      "    redistribution_info=license: \"This work is licensed under the Creative Commons Attribution-ShareAlike 3.0 Unported License. To view a copy of this license, visit http://creativecommons.org/licenses/by-sa/3.0/ or send a letter to Creative Commons, PO Box 1866, Mountain View, CA 94042, USA.\",\n",
      ")\n",
      "\n"
     ]
    }
   ],
   "source": [
    "print(dataset_info)"
   ]
  },
  {
   "cell_type": "code",
   "execution_count": 6,
   "metadata": {
    "colab": {
     "base_uri": "https://localhost:8080/",
     "height": 34
    },
    "colab_type": "code",
    "executionInfo": {
     "elapsed": 3033,
     "status": "ok",
     "timestamp": 1586973888855,
     "user": {
      "displayName": "Oleksii Trekhleb",
      "photoUrl": "https://lh3.googleusercontent.com/a-/AOh14GiiA4aUKCbFho88Jd0WWMoAqQUt3jbuCtfNYpHVOA=s64",
      "userId": "03172675069638383074"
     },
     "user_tz": -120
    },
    "id": "9A11MeAt0-Lr",
    "outputId": "749bc519-63ad-47af-ea41-7d6a83014172"
   },
   "outputs": [
    {
     "name": "stdout",
     "output_type": "stream",
     "text": [
      "<DatasetV1Adapter shapes: {text: (), title: ()}, types: {text: tf.string, title: tf.string}>\n"
     ]
    }
   ],
   "source": [
    "print(dataset)"
   ]
  },
  {
   "cell_type": "markdown",
   "metadata": {
    "colab_type": "text",
    "id": "eKTy6YS5Gx-g"
   },
   "source": [
    "## Analyze the dataset"
   ]
  },
  {
   "cell_type": "code",
   "execution_count": 7,
   "metadata": {
    "colab": {
     "base_uri": "https://localhost:8080/",
     "height": 34
    },
    "colab_type": "code",
    "executionInfo": {
     "elapsed": 3010,
     "status": "ok",
     "timestamp": 1586973888856,
     "user": {
      "displayName": "Oleksii Trekhleb",
      "photoUrl": "https://lh3.googleusercontent.com/a-/AOh14GiiA4aUKCbFho88Jd0WWMoAqQUt3jbuCtfNYpHVOA=s64",
      "userId": "03172675069638383074"
     },
     "user_tz": -120
    },
    "id": "ldLeTmcM0-Lu",
    "outputId": "b36746a7-6016-44ca-ed40-d0fd36087e21"
   },
   "outputs": [
    {
     "name": "stdout",
     "output_type": "stream",
     "text": [
      "Total number of articles:  5824596\n"
     ]
    }
   ],
   "source": [
    "TRAIN_NUM_EXAMPLES = dataset_info.splits['train'].num_examples\n",
    "print('Total number of articles: ', TRAIN_NUM_EXAMPLES)"
   ]
  },
  {
   "cell_type": "code",
   "execution_count": 8,
   "metadata": {
    "colab": {
     "base_uri": "https://localhost:8080/",
     "height": 1000
    },
    "colab_type": "code",
    "executionInfo": {
     "elapsed": 3178,
     "status": "ok",
     "timestamp": 1586973889154,
     "user": {
      "displayName": "Oleksii Trekhleb",
      "photoUrl": "https://lh3.googleusercontent.com/a-/AOh14GiiA4aUKCbFho88Jd0WWMoAqQUt3jbuCtfNYpHVOA=s64",
      "userId": "03172675069638383074"
     },
     "user_tz": -120
    },
    "id": "CHkz0ZHA0-Lz",
    "outputId": "16739986-fe0e-41d8-c57d-12abe90df9dd"
   },
   "outputs": [
    {
     "name": "stdout",
     "output_type": "stream",
     "text": [
      "First article \n",
      "======\n",
      "\n",
      "Title: \n",
      "------\n",
      "Joseph Greenberg\n",
      "\n",
      "Text: \n",
      "------\n",
      "Joseph Harold Greenberg (May 28, 1915 – May 7, 2001) was an American linguist, known mainly for his work concerning linguistic typology and the genetic classification of languages.\n",
      "\n",
      "Life\n",
      "\n",
      "Early life and education \n",
      "(Main source: Croft 2003)\n",
      "\n",
      "Joseph Greenberg was born on May 28, 1915 to Jewish parents in Brooklyn, New York. His first great interest was music. At the age of 14, he gave a piano concert in Steinway Hall. He continued to play the piano frequently throughout his life.\n",
      "\n",
      "After finishing high school, he decided to pursue a scholarly career rather than a musical one. He enrolled at Columbia University in New York. During his senior year, he attended a class taught by Franz Boas concerning American Indian languages. With references from Boas and Ruth Benedict, he was accepted as a graduate student by Melville J. Herskovits at Northwestern University in Chicago. During the course of his graduate studies, Greenberg did fieldwork among the Hausa people of Nigeria, where he learned the Hausa language. The subject of his doctoral dissertation was the influence of Islam on a Hausa group that, unlike most others, had not converted to it.\n",
      "\n",
      "During 1940, he began postdoctoral studies at Yale University. These were interrupted by service in the U.S. Army Signal Corps during World War II, for which he worked as a codebreaker and participated with the landing at Casablanca. Before leaving for Europe during 1943, Greenberg married Selma Berkowitz, whom he had met during his first year at Columbia University.\n",
      "\n",
      "Career\n",
      "After the war, Greenberg taught at the University of Minnesota before returning to Columbia University during 1948 as a teacher of anthropology. While in New York, he became acquainted with Roman Jakobson and André Martinet. They introduced him to the Prague school of structuralism, which influenced his work.\n",
      "\n",
      "During 1962, Greenberg relocated to the anthropology department of Stanford University in California, where he continued to work for the rest of his life. During 1965 Greenberg served as president of the African Studies Association. He received during 1996 the highest award for a scholar in Linguistics, the Gold Medal of Philology (http://insop.org/index.php?p=1_8_Ancient-Medal-Winners.).\n",
      "\n",
      "Contributions to linguistics\n",
      "\n",
      "Linguistic typology \n",
      "\n",
      "Greenberg's reputation rests partly on his contributions to synchronic linguistics and the quest to identify linguistic universals. During the late 1950s, Greenberg began to examine languages covering a wide geographic and genetic distribution. He located a number of interesting potential universals as well as many strong cross-linguistic tendencies.\n",
      "\n",
      "In particular, Greenberg conceptualized the idea of \"implicational universal\", which has the form, \"if a language has structure X, then it must also have structure Y.\" For example, X might be \"mid front rounded vowels\" and Y \"high front rounded vowels\" (for terminology see phonetics). Many scholars adopted this kind of research following Greenberg's example and it remains important in synchronic linguistics.\n",
      "\n",
      "Like Noam Chomsky, Greenberg sought to discover the universal structures on which human language is based. Unlike Chomsky, Greenberg's method was functionalist, rather than formalist. An argument to reconcile the Greenbergian and Chomskyan methods can be found in Linguistic Universals (2006), edited by Ricardo Mairal and Juana Gil .\n",
      "\n",
      "Many who are strongly opposed to Greenberg's methods of language classification (see below) acknowledge the importance of his typological work. During 1963 he published an article that was extremely influential: \"Some universals of grammar with particular reference to the order of meaningful elements\".\n",
      "\n",
      "Mass comparison \n",
      "\n",
      "Greenberg rejected the opinion, prevalent among linguists since the mid-20th century, that comparative reconstruction was the only method to discover relationships between languages. He argued that genetic classification is methodologically prior to comparative reconstruction, or the first stage of it: you cannot engage in the comparative reconstruction of languages until you know which languages to compare (1957:44).\n",
      "\n",
      "He also criticized the prevalent opinion that comprehensive comparisons of two languages at a time (which commonly take years to perform) could establish language families of any size. He argued that, even for 8 languages, there are already 4,140 ways to classify them into distinct families, while for 25 languages there are 4,749,027,089,305,918,018 ways (1957:44). For comparison, the Niger–Congo family is said to have some 1,500 languages. He thought language families of any size needed to be established by some scholastic means other than bilateral comparison. The theory of mass comparison is an attempt to demonstrate such means.\n",
      "\n",
      "Greenberg argued for the virtues of breadth over depth. He advocated restricting the amount of material to be compared (to basic vocabulary, morphology, and known paths of sound change) and increasing the number of languages to be compared to all the languages in a given area. This would make it possible to compare numerous languages reliably. At the same time, the process would provide a check on accidental resemblances through the sheer number of languages under review. The mathematical probability that resemblances are accidental decreases strongly with the number of languages concerned (1957:39).\n",
      "\n",
      "Greenberg used the premise that mass \"borrowing\" of basic vocabulary is unknown. He argued that borrowing, when it occurs, is concentrated in cultural vocabulary and clusters \"in certain semantic areas\", making it easy to detect (1957:39). With the goal of determining broad patterns of relationship, the idea was not to get every word right but to detect patterns. From the beginning with his theory of mass comparison, Greenberg addressed why chance resemblance and borrowing were not obstacles to its being useful. Despite that, critics consider those phenomena caused difficulties for his theory.\n",
      "\n",
      "Greenberg first termed his method \"mass comparison\" in an article of 1954 (reprinted in Greenberg 1955). As of 1987, he replaced the term \"mass comparison\" with \"multilateral comparison\", to emphasize its contrast with the bilateral comparisons recommended by linguistics textbooks. He believed that multilateral comparison was not in any way opposed to the comparative method, but is, on the contrary, its necessary first step (Greenberg, 1957:44). According to him, comparative reconstruction should have the status of an explanatory theory for facts already established by language classification (Greenberg, 1957:45).\n",
      "\n",
      "Most historical linguists (Campbell 2001:45) reject the use of mass comparison as a method for establishing genealogical relationships between languages. Among the most outspoken critics of mass comparison have been Lyle Campbell, Donald Ringe, William Poser, and the late R. Larry Trask.\n",
      "\n",
      "Genetic classification of languages\n",
      "\n",
      "The languages of Africa \n",
      "\n",
      "Greenberg is known widely for his development of a classification system for the languages of Africa, which he published as a series of articles in the Southwestern Journal of Anthropology from 1949 to 1954 (reprinted together as a book during 1955). He revised the book and published it again during 1963, followed by a nearly identical edition of 1966 (reprinted without change during 1970). A few more changes of the classification were made by Greenberg in an article during 1981.\n",
      "\n",
      "Greenberg grouped the hundreds of African languages into four families, which he dubbed Afroasiatic, Nilo-Saharan, Niger–Congo, and Khoisan. During the course of his work, Greenberg invented the term \"Afroasiatic\" to replace the earlier term \"Hamito-Semitic\", after showing that the Hamitic group, accepted widely since the 19th century, is not a valid language family. Another major feature of his work was to establish the classification of the Bantu languages, which occupy much of sub-Saharan Africa, as a part of the Niger–Congo language family, rather than as an independent family as many Bantuists had maintained.\n",
      "\n",
      "Greenberg's classification rested largely in evaluating competing earlier classifications. For a time, his classification was considered bold and speculative, especially the proposal of a Nilo-Saharan language family. Now, apart from Khoisan, it is generally accepted by African specialists and has been used as a basis for further work by other scholars.\n",
      "\n",
      "Greenberg's work on African languages has been criticised by Lyle Campbell and Donald Ringe, who do not believe that his classification is justified by his data; they request a reexamination of his macro-phyla by \"reliable methods\" (Ringe 1993:104). Harold Fleming and Lionel Bender, who are sympathetic to Greenberg's classification, acknowledge that at least some of his macrofamilies (particularly Nilo-Saharan and Khoisan) are not accepted completely by most linguists and may need to be divided (Campbell 1997). Their objection is methodological: if mass comparison is not a valid method, it cannot be expected to have brought order successfully out of the confusion of African languages.\n",
      "\n",
      "By contrast, some linguists have sought to combine Greenberg's four African families into larger units. In particular, Edgar Gregersen (1972) proposed joining Niger–Congo and Nilo-Saharan into a larger family, which he termed Kongo-Saharan. Roger Blench (1995) suggests Niger–Congo is a subfamily of Nilo-Saharan.\n",
      "\n",
      "The languages of New Guinea, Tasmania, and the Andaman Islands\n",
      "\n",
      "During 1971 Greenberg proposed the Indo-Pacific macrofamily, which groups together the Papuan languages (a large number of language families of New Guinea and nearby islands) with the native languages of the Andaman Islands and Tasmania but excludes the Australian Aboriginal languages. Its principal feature was to reduce the manifold language families of New Guinea to a single genetic unit. This excludes the Austronesian languages, which have been established as associated with a more recent migration of people.\n",
      "\n",
      "Greenberg's subgrouping of these languages has not been accepted by the few specialists who have worked on the classification of these languages. However, the work of Stephen Wurm (1982) and Malcolm Ross (2005) has provided considerable evidence for his once-radical idea that these languages form a single genetic unit. Wurm stated that the lexical similarities between Great Andamanese and the West Papuan and Timor–Alor families \"are quite striking and amount to virtual formal identity [...] in a number of instances.\" He believes this to be due to a linguistic substratum.\n",
      "\n",
      "The languages of the Americas\n",
      "\n",
      "Most linguists concerned with the native languages of the Americas classify them into 150 to 180 independent language families. Some believe that two language families, Eskimo–Aleut and Na-Dené, were distinct, perhaps the results of later migrations into the New World.\n",
      "\n",
      "Early on, Greenberg (1957:41, 1960) became convinced that many of the language groups considered unrelated could be classified into larger groupings. In his 1987 book Language in the Americas, while agreeing that the Eskimo–Aleut and Na-Dené groupings as distinct, he proposed that all the other Native American languages belong to a single language macro-family, which he termed Amerind.\n",
      "\n",
      "Language in the Americas has generated lively debate, but has been criticized strongly; it is rejected by most specialists of indigenous languages of the Americas and also by most historical linguists. Specialists of the individual language families have found extensive inaccuracies and errors in Greenberg's data, such as including data from non-existent languages, erroneous transcriptions of the forms compared, misinterpretations of the meanings of words used for comparison, and entirely spurious forms.\n",
      "\n",
      "Historical linguists also reject the validity of the method of multilateral (or mass) comparison upon which the classification is based. They argue that he has not provided a convincing case that the similarities presented as evidence are due to inheritance from an earlier common ancestor rather than being explained by a combination of errors, accidental similarity, excessive semantic latitude in comparisons, borrowings, onomatopoeia, etc.\n",
      "\n",
      "The languages of northern Eurasia \n",
      "\n",
      "Later in his life, Greenberg proposed that nearly all of the language families of northern Eurasia belong to a single higher-order family, which he termed Eurasiatic. The only exception was Yeniseian, which has been related to a wider Dené–Caucasian grouping, also including Sino-Tibetan.  During 2008 Edward Vajda related Yeniseian to the Na-Dené languages of North America as a Dené–Yeniseian family.\n",
      "\n",
      "The Eurasiatic grouping resembles the older Nostratic groupings of Holger Pedersen and Vladislav Illich-Svitych by including Indo-European, Uralic, and Altaic. It differs by including Nivkh, Japonic, Korean, and Ainu (which the Nostraticists had excluded from comparison because they are single languages rather than language families) and in excluding Afroasiatic. At about this time, Russian Nostraticists, notably Sergei Starostin, constructed a revised version of Nostratic. It was slightly larger than Greenberg's grouping but it also excluded Afroasiatic.\n",
      "\n",
      "Recently, a consensus has been emerging among proponents of the Nostratic hypothesis. Greenberg basically agreed with the Nostratic concept, though he stressed a deep internal division between its northern 'tier' (his Eurasiatic) and a southern 'tier' (principally Afroasiatic and Dravidian).\n",
      "\n",
      "The American Nostraticist Allan Bomhard considers Eurasiatic a branch of Nostratic, alongside other branches: Afroasiatic, Elamo-Dravidian, and Kartvelian. Similarly, Georgiy Starostin (2002) arrives at a tripartite overall grouping: he considers Afroasiatic, Nostratic and Elamite to be roughly equidistant and more closely related to each other than to any other language family. Sergei Starostin's school has now included Afroasiatic in a broadly defined Nostratic. They reserve the term Eurasiatic to designate the narrower subgrouping, which comprises the rest of the macrofamily. Recent proposals thus differ mainly on the precise inclusion of Dravidian and Kartvelian.\n",
      "\n",
      "Greenberg continued to work on this project after he was diagnosed with incurable pancreatic cancer and until he died during May 2001. His colleague and former student Merritt Ruhlen ensured the publication of the final volume of his Eurasiatic work (2002) after his death.\n",
      "\n",
      "Selected works by Joseph H. Greenberg\n",
      "\n",
      "Books \n",
      "  (Photo-offset reprint of the SJA articles with minor corrections.)\n",
      " \n",
      "  (Heavily revised version of Greenberg 1955. From the same publisher: second, revised edition, 1966; third edition, 1970. All three editions simultaneously published at The Hague by Mouton & Co.)\n",
      "  (Reprinted 1980 and, with a foreword by Martin Haspelmath, 2005.)\n",
      "\n",
      "Books (editor) \n",
      "  (Second edition 1966.)\n",
      "\n",
      "Articles, reviews, etc. \n",
      " \n",
      " \n",
      " \n",
      " \n",
      " \n",
      " \n",
      " \n",
      " \n",
      " \n",
      " \n",
      " \n",
      " \n",
      " \n",
      "  (Reprinted in Genetic Linguistics, 2005.)\n",
      " \n",
      "  (In second edition of Universals of Language, 1966: pp. 73–113.)\n",
      " \n",
      " \n",
      "  (Reprinted in Genetic Linguistics, 2005.)\n",
      "\n",
      "Bibliography\n",
      "\n",
      "Blench, Roger. 1995. \"Is Niger–Congo simply a branch of Nilo-Saharan?\" In Fifth Nilo-Saharan Linguistics Colloquium, Nice, 24–29 August 1992: Proceedings, edited by Robert Nicolaï and Franz Rottland. Cologne: Köppe Verlag, pp. 36–49.\n",
      "\n",
      "Campbell, Lyle. 1997. American Indian Languages: The Historical Linguistics of Native America. New York: Oxford University Press. .\n",
      "Campbell, Lyle. 2001. \"Beyond the comparative method.\" In Historical Linguistics 2001: Selected Papers from the 15th International Conference on Historical Linguistics, Melbourne, 13–17 August 2001, edited by Barry J. Blake, Kate Burridge, and Jo Taylor.\n",
      "Diamond, Jared. 1997. Guns, Germs and Steel: The Fates of Human Societies. New York: Norton. .\n",
      "\n",
      "Mairal, Ricardo and Juana Gil. 2006. Linguistic Universals. Cambridge–NY: Cambridge University Press. .\n",
      "\n",
      "Ross, Malcolm. 2005. \"Pronouns as a preliminary diagnostic for grouping Papuan languages.\" In Papuan Pasts: Cultural, Linguistic and Biological Histories of Papuan-speaking Peoples, edited by Andrew Pawley, Robert Attenborough, Robin Hide, and Jack Golson. Canberra: Pacific Linguistics, pp. 15–66.\n",
      "Wurm, Stephen A. 1982. The Papuan Languages of Oceania. Tübingen: Gunter Narr.\n",
      "\n",
      "See also\n",
      "\n",
      "Linguistic universal\n",
      "Monogenesis (linguistics)\n",
      "Nostratic languages\n",
      "\n",
      "References\n",
      "\n",
      "External links\n",
      "Joseph Greenberg at work; a portrait of himself\n",
      "\"What we all spoke when the world was young\" by Nicholas Wade, New York Times (February 1, 2000)\n",
      "Obituary from Stanford Report\n",
      "Memorial Resolution\n",
      "\"Joseph Harold Greenberg\" by William Croft (2003) (also: )\n",
      "\"Complete bibliography of the publications of Joseph H. Greenberg\" by William Croft (2003)\n",
      "\n",
      "Category:1915 births\n",
      "Category:2001 deaths\n",
      "Category:Linguists from the United States\n",
      "Category:American Africanists\n",
      "Category:American Jews in the military\n",
      "Category:Paleolinguists\n",
      "Category:Columbia University faculty\n",
      "Category:Stanford University Department of Anthropology faculty\n",
      "Category:Fellows of the American Academy of Arts and Sciences\n",
      "Category:Members of the United States National Academy of Sciences\n",
      "Category:United States Army personnel\n",
      "Category:American army personnel of World War II\n",
      "Category:Guggenheim Fellows\n",
      "Category:American expatriates in Nigeria\n",
      "Category:People from Brooklyn\n",
      "Category:Linguists of Na-Dene languages\n",
      "Category:Linguists of Eskimo–Aleut languages\n",
      "Category:Linguists of Hokan languages\n",
      "Category:Jewish scientists\n",
      "Category:Linguists of Papuan languages\n",
      "Category:Linguists of Amerind languages\n",
      "Category:Linguists of Andamanese languages\n",
      "Category:Linguists of Tasmanian languages\n",
      "Category:Linguists of Niger–Congo languages\n",
      "Category:Linguists of Afroasiatic languages\n",
      "Category:Linguistic Society of America presidents\n"
     ]
    }
   ],
   "source": [
    "print('First article','\\n======\\n')\n",
    "for example in dataset.take(1):\n",
    "    print('Title:','\\n------')\n",
    "    print(example['title'].numpy().decode('utf-8'))\n",
    "    print()\n",
    "\n",
    "    print('Text:', '\\n------')\n",
    "    print(example['text'].numpy().decode('utf-8'))"
   ]
  },
  {
   "cell_type": "markdown",
   "metadata": {
    "colab_type": "text",
    "id": "GqpuKh9HMNnf"
   },
   "source": [
    "## Process the dataset"
   ]
  },
  {
   "cell_type": "markdown",
   "metadata": {
    "colab_type": "text",
    "id": "FK_FFy7P0-L3"
   },
   "source": [
    "### Flatten the dataset\n",
    "\n",
    "Converting the dataset from the set of articles into the set of characters. We also are interested only in `text` of each article so we may drop the `title` along the way."
   ]
  },
  {
   "cell_type": "code",
   "execution_count": 9,
   "metadata": {
    "colab": {
     "base_uri": "https://localhost:8080/",
     "height": 119
    },
    "colab_type": "code",
    "executionInfo": {
     "elapsed": 3071,
     "status": "ok",
     "timestamp": 1586973889155,
     "user": {
      "displayName": "Oleksii Trekhleb",
      "photoUrl": "https://lh3.googleusercontent.com/a-/AOh14GiiA4aUKCbFho88Jd0WWMoAqQUt3jbuCtfNYpHVOA=s64",
      "userId": "03172675069638383074"
     },
     "user_tz": -120
    },
    "id": "_AC6MHFC0-L3",
    "outputId": "22f5d674-3b5f-44b7-9b02-0e61855a4871"
   },
   "outputs": [
    {
     "name": "stdout",
     "output_type": "stream",
     "text": [
      "[b'J' b'o' b's' ... b'n' b't' b's']\n",
      "\n",
      "\n",
      "[b'P' b'a' b'u' ... b'e' b'r' b's']\n",
      "\n",
      "\n"
     ]
    }
   ],
   "source": [
    "def article_to_text(text):\n",
    "    return np.array([char for char in text.numpy().decode('utf-8')])\n",
    "\n",
    "# Converting each dataset item to a string ('text') instead of a dictionary ({'text', 'title'}).\n",
    "dataset_text = dataset.map(\n",
    "    lambda article: tf.py_function(func=article_to_text, inp=[article['text']], Tout=tf.string)\n",
    ")\n",
    "\n",
    "for text in dataset_text.take(2):\n",
    "    print(text.numpy())\n",
    "    print('\\n')"
   ]
  },
  {
   "cell_type": "code",
   "execution_count": 10,
   "metadata": {
    "colab": {
     "base_uri": "https://localhost:8080/",
     "height": 357
    },
    "colab_type": "code",
    "executionInfo": {
     "elapsed": 3964,
     "status": "ok",
     "timestamp": 1586973890071,
     "user": {
      "displayName": "Oleksii Trekhleb",
      "photoUrl": "https://lh3.googleusercontent.com/a-/AOh14GiiA4aUKCbFho88Jd0WWMoAqQUt3jbuCtfNYpHVOA=s64",
      "userId": "03172675069638383074"
     },
     "user_tz": -120
    },
    "id": "oSsSbJbX0-L8",
    "outputId": "9e442c58-c3da-4ad8-d4c3-f297085ea312"
   },
   "outputs": [
    {
     "name": "stdout",
     "output_type": "stream",
     "text": [
      "J\n",
      "o\n",
      "s\n",
      "e\n",
      "p\n",
      "h\n",
      " \n",
      "H\n",
      "a\n",
      "r\n",
      "o\n",
      "l\n",
      "d\n",
      " \n",
      "G\n",
      "r\n",
      "e\n",
      "e\n",
      "n\n",
      "b\n"
     ]
    }
   ],
   "source": [
    "# Unbatch the text dataset into a more granular char dataset.\n",
    "# Now each dataset item is one character instead of a big piece of text.\n",
    "dataset_chars = dataset_text.unbatch()\n",
    "\n",
    "for char in dataset_chars.take(20):\n",
    "    print(char.numpy().decode('utf-8'))"
   ]
  },
  {
   "cell_type": "markdown",
   "metadata": {
    "colab_type": "text",
    "id": "jHNkkXGz0-L_"
   },
   "source": [
    "### Generating vocabulary"
   ]
  },
  {
   "cell_type": "code",
   "execution_count": 11,
   "metadata": {
    "colab": {
     "base_uri": "https://localhost:8080/",
     "height": 88
    },
    "colab_type": "code",
    "executionInfo": {
     "elapsed": 270306,
     "status": "ok",
     "timestamp": 1586974156434,
     "user": {
      "displayName": "Oleksii Trekhleb",
      "photoUrl": "https://lh3.googleusercontent.com/a-/AOh14GiiA4aUKCbFho88Jd0WWMoAqQUt3jbuCtfNYpHVOA=s64",
      "userId": "03172675069638383074"
     },
     "user_tz": -120
    },
    "id": "B7rnYLeU0-MA",
    "outputId": "4312adbb-7dd5-44cc-9e4b-4a68efad7883"
   },
   "outputs": [
    {
     "name": "stdout",
     "output_type": "stream",
     "text": [
      "Unique characters: 621\n",
      "vocab:\n",
      "['\\t', '\\n', ' ', '!', '\"', '#', '$', '%', '&', \"'\", '(', ')', '*', '+', ',', '-', '.', '/', '0', '1', '2', '3', '4', '5', '6', '7', '8', '9', ':', ';', '<', '=', '>', '?', '@', 'A', 'B', 'C', 'D', 'E', 'F', 'G', 'H', 'I', 'J', 'K', 'L', 'M', 'N', 'O', 'P', 'Q', 'R', 'S', 'T', 'U', 'V', 'W', 'X', 'Y', 'Z', '[', ']', '^', '_', '`', 'a', 'b', 'c', 'd', 'e', 'f', 'g', 'h', 'i', 'j', 'k', 'l', 'm', 'n', 'o', 'p', 'q', 'r', 's', 't', 'u', 'v', 'w', 'x', 'y', 'z', '{', '|', '}', '~', '\\xa0', '£', '§', '«', '®', '°', '±', '²', '·', '»', '¼', '½', '¿', 'Á', 'Å', 'Æ', 'Ç', 'É', 'Ë', 'Í', 'Î', 'Ó', 'Ö', '×', 'Ø', 'Ü', 'Þ', 'ß', 'à', 'á', 'â', 'ã', 'ä', 'å', 'æ', 'ç', 'è', 'é', 'ê', 'ë', 'ì', 'í', 'î', 'ï', 'ñ', 'ò', 'ó', 'ô', 'õ', 'ö', 'ø', 'ú', 'û', 'ü', 'ý', 'ā', 'ă', 'ą', 'Ć', 'ć', 'Č', 'č', 'đ', 'ė', 'ę', 'ě', 'ğ', 'ġ', 'Ħ', 'ī', 'İ', 'ı', 'ļ', 'Ł', 'ł', 'ń', 'ň', 'Ō', 'ō', 'ő', 'ř', 'Ś', 'ś', 'Ş', 'ş', 'Š', 'š', 'ţ', 'ū', 'ź', 'ż', 'Ž', 'ž', 'ơ', 'ư', 'ǔ', 'ș', 'ț', 'ɔ', 'ə', 'ɛ', 'ʷ', 'ʼ', 'ʿ', '˚', 'Ι', 'Π', 'α', 'β', 'ε', 'η', 'ι', 'κ', 'μ', 'ο', 'ρ', 'ς', 'τ', 'υ', 'χ', 'ψ', 'ό', 'Б', 'В', 'Д', 'Ж', 'З', 'И', 'К', 'Л', 'М', 'Н', 'О', 'П', 'С', 'У', 'Ф', 'Х', 'а', 'б', 'в', 'г', 'д', 'е', 'з', 'и', 'й', 'к', 'л', 'м', 'н', 'о', 'п', 'р', 'с', 'т', 'у', 'ф', 'х', 'ц', 'ч', 'ш', 'щ', 'ъ', 'ы', 'ь', 'ю', 'я', 'і', 'ј', 'ћ', 'ּ', 'א', 'ב', 'ג', 'ו', 'ט', 'י', 'ך', 'ל', 'מ', 'נ', 'ס', 'ע', 'פ', 'ץ', 'צ', 'ק', 'ר', 'ת', 'װ', '،', 'أ', 'إ', 'ا', 'ب', 'ة', 'ت', 'ج', 'ح', 'خ', 'د', 'ذ', 'ر', 'س', 'ش', 'ص', 'ط', 'ع', 'ف', 'ق', 'ل', 'م', 'ن', 'ه', 'و', 'ي', 'پ', 'ک', 'அ', 'ஆ', 'இ', 'க', 'ச', 'ட', 'ண', 'த', 'ந', 'ன', 'ப', 'ம', 'ர', 'ற', 'ல', 'ள', 'ழ', 'வ', 'ா', 'ி', 'ு', 'ே', 'ை', 'ொ', '்', 'ಡ', 'ಮ', 'ರ', 'ಲ', 'ಸ', 'ಿ', 'ก', 'ข', 'ค', 'ง', 'จ', 'ช', 'ฒ', 'ณ', 'ด', 'ต', 'ท', 'ธ', 'น', 'บ', 'ป', 'ผ', 'พ', 'ภ', 'ม', 'ย', 'ร', 'ฤ', 'ล', 'ว', 'ศ', 'ส', 'ห', 'อ', 'ะ', 'ั', 'า', 'ำ', 'ิ', 'ี', 'ื', 'ุ', 'ู', 'เ', 'แ', 'โ', 'ไ', '่', '้', '์', 'ზ', 'უ', 'ფ', 'ḩ', 'ḻ', 'ṟ', 'ṣ', 'ṭ', 'ạ', 'ễ', 'ệ', 'ὶ', '\\u200e', '–', '—', '‘', '’', '“', '”', '†', '‡', '•', '…', '′', '″', '₨', '€', '₱', '℃', 'ℓ', '№', '™', '→', '−', '≠', '♠', '♦', '➔', '\\u3000', 'り', 'ア', 'イ', 'ウ', 'カ', 'ク', 'コ', 'シ', 'ズ', 'ゼ', 'ソ', 'タ', 'チ', 'ッ', 'ツ', 'パ', 'ボ', 'マ', 'ム', 'ャ', 'ョ', 'リ', 'レ', 'ン', 'ー', '一', '三', '上', '下', '东', '中', '主', '义', '九', '乡', '事', '介', '伐', '会', '依', '俳', '僧', '光', '児', '全', '六', '兴', '其', '典', '况', '前', '加', '勇', '務', '化', '华', '単', '卡', '厂', '双', '句', '史', '号', '吉', '吹', '哈', '哪', '国', '國', '地', '坝', '坪', '堡', '大', '姚', '子', '孤', '安', '宗', '家', '寄', '寨', '射', '局', '屋', '岩', '島', '左', '巴', '師', '店', '庙', '延', '建', '得', '心', '怡', '排', '探', '教', '数', '文', '斌', '新', '方', '日', '昌', '明', '春', '昭', '普', '會', '本', '李', '村', '板', '桦', '概', '民', '水', '江', '法', '泥', '泽', '湾', '溪', '潭', '澤', '濟', '無', '燈', '界', '皮', '石', '砲', '磨', '禪', '站', '维', '置', '義', '羹', '育', '胜', '臨', '花', '茜', '莲', '華', '董', '薦', '薩', '虚', '街', '装', '覺', '解', '訪', '語', '话', '语', '赤', '転', '軽', '辞', '農', '达', '逆', '通', '造', '連', '道', '那', '鄉', '里', '野', '録', '镇', '长', '門', '陈', '食', '馬', '马', '鹿', '黄', '김', '준', '태', 'ﬂ', '）', '｜']\n"
     ]
    }
   ],
   "source": [
    "vocab = set()\n",
    "\n",
    "# Ideally we should take all dataset items into account here.\n",
    "for text in dataset_text.take(1000):\n",
    "    vocab.update([char.decode('utf-8') for char in text.numpy()])\n",
    "    \n",
    "vocab = sorted(vocab)\n",
    "\n",
    "print('Unique characters: {}'.format(len(vocab)))\n",
    "print('vocab:')\n",
    "print(vocab)"
   ]
  },
  {
   "cell_type": "markdown",
   "metadata": {
    "colab_type": "text",
    "id": "6dj4e-AGMaV4"
   },
   "source": [
    "### Vectorize the text\n",
    "\n",
    "Before feeding the text to our RNN we need to convert the text from a sequence of characters to a sequence of numbers. To do so we will detect all unique characters in the text, form a vocabulary out of it and replace each character with its index in the vocabulary."
   ]
  },
  {
   "cell_type": "code",
   "execution_count": 12,
   "metadata": {
    "colab": {
     "base_uri": "https://localhost:8080/",
     "height": 578
    },
    "colab_type": "code",
    "executionInfo": {
     "elapsed": 270275,
     "status": "ok",
     "timestamp": 1586974156436,
     "user": {
      "displayName": "Oleksii Trekhleb",
      "photoUrl": "https://lh3.googleusercontent.com/a-/AOh14GiiA4aUKCbFho88Jd0WWMoAqQUt3jbuCtfNYpHVOA=s64",
      "userId": "03172675069638383074"
     },
     "user_tz": -120
    },
    "id": "xFFpuXfGMPq2",
    "outputId": "8c79b593-33d2-4761-e7cb-fb14f1f2cecc"
   },
   "outputs": [
    {
     "name": "stdout",
     "output_type": "stream",
     "text": [
      "{\n",
      "  '\\t':   0,\n",
      "  '\\n':   1,\n",
      "  ' ' :   2,\n",
      "  '!' :   3,\n",
      "  '\"' :   4,\n",
      "  '#' :   5,\n",
      "  '$' :   6,\n",
      "  '%' :   7,\n",
      "  '&' :   8,\n",
      "  \"'\" :   9,\n",
      "  '(' :  10,\n",
      "  ')' :  11,\n",
      "  '*' :  12,\n",
      "  '+' :  13,\n",
      "  ',' :  14,\n",
      "  '-' :  15,\n",
      "  '.' :  16,\n",
      "  '/' :  17,\n",
      "  '0' :  18,\n",
      "  '1' :  19,\n",
      "  '2' :  20,\n",
      "  '3' :  21,\n",
      "  '4' :  22,\n",
      "  '5' :  23,\n",
      "  '6' :  24,\n",
      "  '7' :  25,\n",
      "  '8' :  26,\n",
      "  '9' :  27,\n",
      "  ':' :  28,\n",
      "  ';' :  29,\n",
      "  ...\n",
      "}\n"
     ]
    }
   ],
   "source": [
    "# Map characters to their indices in vocabulary.\n",
    "char2index = {char: index for index, char in enumerate(vocab)}\n",
    "\n",
    "print('{')\n",
    "for char, _ in zip(char2index, range(30)):\n",
    "    print('  {:4s}: {:3d},'.format(repr(char), char2index[char]))\n",
    "print('  ...\\n}')"
   ]
  },
  {
   "cell_type": "code",
   "execution_count": 13,
   "metadata": {
    "colab": {
     "base_uri": "https://localhost:8080/",
     "height": 34
    },
    "colab_type": "code",
    "executionInfo": {
     "elapsed": 270255,
     "status": "ok",
     "timestamp": 1586974156438,
     "user": {
      "displayName": "Oleksii Trekhleb",
      "photoUrl": "https://lh3.googleusercontent.com/a-/AOh14GiiA4aUKCbFho88Jd0WWMoAqQUt3jbuCtfNYpHVOA=s64",
      "userId": "03172675069638383074"
     },
     "user_tz": -120
    },
    "id": "lQB33zI7NkRo",
    "outputId": "e789efe1-b9c6-448c-91f8-02b6e985310c"
   },
   "outputs": [
    {
     "name": "stdout",
     "output_type": "stream",
     "text": [
      "['\\t' '\\n' ' ' '!' '\"' '#' '$' '%' '&' \"'\" '(' ')' '*' '+' ',' '-' '.' '/'\n",
      " '0' '1' '2' '3' '4' '5' '6' '7' '8' '9' ':' ';' '<' '=' '>' '?' '@' 'A'\n",
      " 'B' 'C' 'D' 'E' 'F' 'G' 'H' 'I' 'J' 'K' 'L' 'M' 'N' 'O' 'P' 'Q' 'R' 'S'\n",
      " 'T' 'U' 'V' 'W' 'X' 'Y' 'Z' '[' ']' '^' '_' '`' 'a' 'b' 'c' 'd' 'e' 'f'\n",
      " 'g' 'h' 'i' 'j' 'k' 'l' 'm' 'n' 'o' 'p' 'q' 'r' 's' 't' 'u' 'v' 'w' 'x'\n",
      " 'y' 'z' '{' '|' '}' '~' '\\xa0' '£' '§' '«' '®' '°' '±' '²' '·' '»' '¼'\n",
      " '½' '¿' 'Á' 'Å' 'Æ' 'Ç' 'É' 'Ë' 'Í' 'Î' 'Ó' 'Ö' '×' 'Ø' 'Ü' 'Þ' 'ß' 'à'\n",
      " 'á' 'â' 'ã' 'ä' 'å' 'æ' 'ç' 'è' 'é' 'ê' 'ë' 'ì' 'í' 'î' 'ï' 'ñ' 'ò' 'ó'\n",
      " 'ô' 'õ' 'ö' 'ø' 'ú' 'û' 'ü' 'ý' 'ā' 'ă' 'ą' 'Ć' 'ć' 'Č' 'č' 'đ' 'ė' 'ę'\n",
      " 'ě' 'ğ' 'ġ' 'Ħ' 'ī' 'İ' 'ı' 'ļ' 'Ł' 'ł' 'ń' 'ň' 'Ō' 'ō' 'ő' 'ř' 'Ś' 'ś'\n",
      " 'Ş' 'ş' 'Š' 'š' 'ţ' 'ū' 'ź' 'ż' 'Ž' 'ž' 'ơ' 'ư' 'ǔ' 'ș' 'ț' 'ɔ' 'ə' 'ɛ'\n",
      " 'ʷ' 'ʼ' 'ʿ' '˚' 'Ι' 'Π' 'α' 'β' 'ε' 'η' 'ι' 'κ' 'μ' 'ο' 'ρ' 'ς' 'τ' 'υ'\n",
      " 'χ' 'ψ' 'ό' 'Б' 'В' 'Д' 'Ж' 'З' 'И' 'К' 'Л' 'М' 'Н' 'О' 'П' 'С' 'У' 'Ф'\n",
      " 'Х' 'а' 'б' 'в' 'г' 'д' 'е' 'з' 'и' 'й' 'к' 'л' 'м' 'н' 'о' 'п' 'р' 'с'\n",
      " 'т' 'у' 'ф' 'х' 'ц' 'ч' 'ш' 'щ' 'ъ' 'ы' 'ь' 'ю' 'я' 'і' 'ј' 'ћ' 'ּ' 'א'\n",
      " 'ב' 'ג' 'ו' 'ט' 'י' 'ך' 'ל' 'מ' 'נ' 'ס' 'ע' 'פ' 'ץ' 'צ' 'ק' 'ר' 'ת' 'װ'\n",
      " '،' 'أ' 'إ' 'ا' 'ب' 'ة' 'ت' 'ج' 'ح' 'خ' 'د' 'ذ' 'ر' 'س' 'ش' 'ص' 'ط' 'ع'\n",
      " 'ف' 'ق' 'ل' 'م' 'ن' 'ه' 'و' 'ي' 'پ' 'ک' 'அ' 'ஆ' 'இ' 'க' 'ச' 'ட' 'ண' 'த'\n",
      " 'ந' 'ன' 'ப' 'ம' 'ர' 'ற' 'ல' 'ள' 'ழ' 'வ' 'ா' 'ி' 'ு' 'ே' 'ை' 'ொ' '்' 'ಡ'\n",
      " 'ಮ' 'ರ' 'ಲ' 'ಸ' 'ಿ' 'ก' 'ข' 'ค' 'ง' 'จ' 'ช' 'ฒ' 'ณ' 'ด' 'ต' 'ท' 'ธ' 'น'\n",
      " 'บ' 'ป' 'ผ' 'พ' 'ภ' 'ม' 'ย' 'ร' 'ฤ' 'ล' 'ว' 'ศ' 'ส' 'ห' 'อ' 'ะ' 'ั' 'า'\n",
      " 'ำ' 'ิ' 'ี' 'ื' 'ุ' 'ู' 'เ' 'แ' 'โ' 'ไ' '่' '้' '์' 'ზ' 'უ' 'ფ' 'ḩ' 'ḻ'\n",
      " 'ṟ' 'ṣ' 'ṭ' 'ạ' 'ễ' 'ệ' 'ὶ' '\\u200e' '–' '—' '‘' '’' '“' '”' '†' '‡' '•'\n",
      " '…' '′' '″' '₨' '€' '₱' '℃' 'ℓ' '№' '™' '→' '−' '≠' '♠' '♦' '➔' '\\u3000'\n",
      " 'り' 'ア' 'イ' 'ウ' 'カ' 'ク' 'コ' 'シ' 'ズ' 'ゼ' 'ソ' 'タ' 'チ' 'ッ' 'ツ' 'パ' 'ボ' 'マ'\n",
      " 'ム' 'ャ' 'ョ' 'リ' 'レ' 'ン' 'ー' '一' '三' '上' '下' '东' '中' '主' '义' '九' '乡' '事'\n",
      " '介' '伐' '会' '依' '俳' '僧' '光' '児' '全' '六' '兴' '其' '典' '况' '前' '加' '勇' '務'\n",
      " '化' '华' '単' '卡' '厂' '双' '句' '史' '号' '吉' '吹' '哈' '哪' '国' '國' '地' '坝' '坪'\n",
      " '堡' '大' '姚' '子' '孤' '安' '宗' '家' '寄' '寨' '射' '局' '屋' '岩' '島' '左' '巴' '師'\n",
      " '店' '庙' '延' '建' '得' '心' '怡' '排' '探' '教' '数' '文' '斌' '新' '方' '日' '昌' '明'\n",
      " '春' '昭' '普' '會' '本' '李' '村' '板' '桦' '概' '民' '水' '江' '法' '泥' '泽' '湾' '溪'\n",
      " '潭' '澤' '濟' '無' '燈' '界' '皮' '石' '砲' '磨' '禪' '站' '维' '置' '義' '羹' '育' '胜'\n",
      " '臨' '花' '茜' '莲' '華' '董' '薦' '薩' '虚' '街' '装' '覺' '解' '訪' '語' '话' '语' '赤'\n",
      " '転' '軽' '辞' '農' '达' '逆' '通' '造' '連' '道' '那' '鄉' '里' '野' '録' '镇' '长' '門'\n",
      " '陈' '食' '馬' '马' '鹿' '黄' '김' '준' '태' 'ﬂ' '）' '｜']\n"
     ]
    }
   ],
   "source": [
    "# Map character indices to characters from vacabulary.\n",
    "index2char = np.array(vocab)\n",
    "\n",
    "print(index2char)"
   ]
  },
  {
   "cell_type": "code",
   "execution_count": 60,
   "metadata": {
    "colab": {
     "base_uri": "https://localhost:8080/",
     "height": 476
    },
    "colab_type": "code",
    "executionInfo": {
     "elapsed": 270802,
     "status": "ok",
     "timestamp": 1586974157036,
     "user": {
      "displayName": "Oleksii Trekhleb",
      "photoUrl": "https://lh3.googleusercontent.com/a-/AOh14GiiA4aUKCbFho88Jd0WWMoAqQUt3jbuCtfNYpHVOA=s64",
      "userId": "03172675069638383074"
     },
     "user_tz": -120
    },
    "id": "DXUAlYmvN_Rj",
    "outputId": "2e7683da-5683-4d7a-b9d0-fffd7add372e"
   },
   "outputs": [
    {
     "name": "stdout",
     "output_type": "stream",
     "text": [
      "ORIGINAL CHARS: \n",
      "---\n",
      "J\n",
      "o\n",
      "s\n",
      "e\n",
      "p\n",
      "h\n",
      " \n",
      "H\n",
      "a\n",
      "r\n",
      "\n",
      "\n",
      "\n",
      "INDEXED CHARS: \n",
      "---\n",
      "44\n",
      "80\n",
      "84\n",
      "70\n",
      "81\n",
      "73\n",
      "2\n",
      "42\n",
      "66\n",
      "83\n",
      "80\n",
      "77\n",
      "69\n",
      "2\n",
      "41\n",
      "83\n",
      "70\n",
      "70\n",
      "79\n",
      "67\n"
     ]
    }
   ],
   "source": [
    "def char_to_index(char):\n",
    "    char_symbol = char.numpy().decode('utf-8')\n",
    "    char_index = char2index[char_symbol] if char_symbol in char2index else char2index['?']\n",
    "    return char_index\n",
    "\n",
    "dataset_chars_indexed = dataset_chars.map(\n",
    "    lambda char: tf.py_function(func=char_to_index, inp=[char], Tout=tf.int32)\n",
    ")\n",
    "\n",
    "print('ORIGINAL CHARS:', '\\n---')\n",
    "for char in dataset_chars.take(10):\n",
    "    print(char.numpy().decode())\n",
    "\n",
    "print('\\n\\n')    \n",
    "    \n",
    "print('INDEXED CHARS:', '\\n---')\n",
    "for char_index in dataset_chars_indexed.take(20):\n",
    "    print(char_index.numpy())"
   ]
  },
  {
   "cell_type": "markdown",
   "metadata": {
    "colab_type": "text",
    "id": "CHv5HhUuTQYS"
   },
   "source": [
    "## Create training sequences"
   ]
  },
  {
   "cell_type": "code",
   "execution_count": 15,
   "metadata": {
    "colab": {},
    "colab_type": "code",
    "id": "rpdFJJc90-ML"
   },
   "outputs": [],
   "source": [
    "# The maximum length sentence we want for a single input in characters.\n",
    "sequence_length = 200"
   ]
  },
  {
   "cell_type": "code",
   "execution_count": 61,
   "metadata": {
    "colab": {
     "base_uri": "https://localhost:8080/",
     "height": 207
    },
    "colab_type": "code",
    "executionInfo": {
     "elapsed": 273784,
     "status": "ok",
     "timestamp": 1586974160086,
     "user": {
      "displayName": "Oleksii Trekhleb",
      "photoUrl": "https://lh3.googleusercontent.com/a-/AOh14GiiA4aUKCbFho88Jd0WWMoAqQUt3jbuCtfNYpHVOA=s64",
      "userId": "03172675069638383074"
     },
     "user_tz": -120
    },
    "id": "Ap71VjB2Vuct",
    "outputId": "9b468ed6-8941-433b-f2e5-10b318d69ca9"
   },
   "outputs": [
    {
     "name": "stdout",
     "output_type": "stream",
     "text": [
      "'Joseph Harold Greenberg (May 28, 1915 – May 7, 2001) was an American linguist, known mainly for his work concerning linguistic typology and the genetic classification of languages.\\n\\nLife\\n\\nEarly life an'\n",
      "\n",
      "'d education \\n(Main source: Croft 2003)\\n\\nJoseph Greenberg was born on May 28, 1915 to Jewish parents in Brooklyn, New York. His first great interest was music. At the age of 14, he gave a piano concert '\n",
      "\n",
      "'in Steinway Hall. He continued to play the piano frequently throughout his life.\\n\\nAfter finishing high school, he decided to pursue a scholarly career rather than a musical one. He enrolled at Columbia'\n",
      "\n",
      "' University in New York. During his senior year, he attended a class taught by Franz Boas concerning American Indian languages. With references from Boas and Ruth Benedict, he was accepted as a graduat'\n",
      "\n",
      "'e student by Melville J. Herskovits at Northwestern University in Chicago. During the course of his graduate studies, Greenberg did fieldwork among the Hausa people of Nigeria, where he learned the Hau'\n",
      "\n",
      "'sa language. The subject of his doctoral dissertation was the influence of Islam on a Hausa group that, unlike most others, had not converted to it.\\n\\nDuring 1940, he began postdoctoral studies at Yale '\n",
      "\n",
      "'University. These were interrupted by service in the U.S. Army Signal Corps during World War II, for which he worked as a codebreaker and participated with the landing at Casablanca. Before leaving for'\n",
      "\n",
      "' Europe during 1943, Greenberg married Selma Berkowitz, whom he had met during his first year at Columbia University.\\n\\nCareer\\nAfter the war, Greenberg taught at the University of Minnesota before retur'\n",
      "\n",
      "'ning to Columbia University during 1948 as a teacher of anthropology. While in New York, he became acquainted with Roman Jakobson and André Martinet. They introduced him to the Prague school of structu'\n",
      "\n",
      "'ralism, which influenced his work.\\n\\nDuring 1962, Greenberg relocated to the anthropology department of Stanford University in California, where he continued to work for the rest of his life. During 196'\n",
      "\n"
     ]
    }
   ],
   "source": [
    "# Generate batched sequences out of the char_dataset.\n",
    "sequences = dataset_chars_indexed.batch(sequence_length + 1, drop_remainder=True)\n",
    "\n",
    "# Sequences examples.\n",
    "for item in sequences.take(10):\n",
    "    print(repr(''.join(index2char[item.numpy()])))\n",
    "    print()"
   ]
  },
  {
   "cell_type": "code",
   "execution_count": 17,
   "metadata": {
    "colab": {},
    "colab_type": "code",
    "id": "Y8spPCfe-iTn"
   },
   "outputs": [],
   "source": [
    "# sequences shape:\n",
    "# - Each sequence of length 101\n",
    "#\n",
    "#    201     201          201\n",
    "# [(.....) (.....) ...  (.....)]"
   ]
  },
  {
   "cell_type": "markdown",
   "metadata": {
    "colab_type": "text",
    "id": "HdcrcUs4Xxso"
   },
   "source": [
    "For each sequence, duplicate and shift it to form the input and target text. For example, say `sequence_length` is `4` and our text is `Hello`. The input sequence would be `Hell`, and the target sequence `ello`."
   ]
  },
  {
   "cell_type": "code",
   "execution_count": 18,
   "metadata": {
    "colab": {},
    "colab_type": "code",
    "id": "9fxvXsP0XFDh"
   },
   "outputs": [],
   "source": [
    "def split_input_target(chunk):\n",
    "    input_text = chunk[:-1]\n",
    "    target_text = chunk[1:]\n",
    "    return input_text, target_text"
   ]
  },
  {
   "cell_type": "code",
   "execution_count": 19,
   "metadata": {
    "colab": {},
    "colab_type": "code",
    "id": "454rWIQYXXRY"
   },
   "outputs": [],
   "source": [
    "dataset_sequences = sequences.map(split_input_target)"
   ]
  },
  {
   "cell_type": "code",
   "execution_count": 63,
   "metadata": {
    "colab": {
     "base_uri": "https://localhost:8080/",
     "height": 122
    },
    "colab_type": "code",
    "executionInfo": {
     "elapsed": 274570,
     "status": "ok",
     "timestamp": 1586974160943,
     "user": {
      "displayName": "Oleksii Trekhleb",
      "photoUrl": "https://lh3.googleusercontent.com/a-/AOh14GiiA4aUKCbFho88Jd0WWMoAqQUt3jbuCtfNYpHVOA=s64",
      "userId": "03172675069638383074"
     },
     "user_tz": -120
    },
    "id": "Kuoh4tCdYCck",
    "outputId": "a8eb75f1-a9a1-4795-acd5-e2129e81e080"
   },
   "outputs": [
    {
     "name": "stdout",
     "output_type": "stream",
     "text": [
      "Input sequence size: 200\n",
      "Target sequence size: 200\n",
      "\n",
      "Input:\n",
      " 'Joseph Harold Greenberg (May 28, 1915 – May 7, 2001) was an American linguist, known mainly for his work concerning linguistic typology and the genetic classification of languages.\\n\\nLife\\n\\nEarly life a'\n",
      "\n",
      "Target:\n",
      " 'oseph Harold Greenberg (May 28, 1915 – May 7, 2001) was an American linguist, known mainly for his work concerning linguistic typology and the genetic classification of languages.\\n\\nLife\\n\\nEarly life an'\n"
     ]
    }
   ],
   "source": [
    "for input_example, target_example in dataset_sequences.take(1):\n",
    "    print('Input sequence size:', repr(len(input_example.numpy())))\n",
    "    print('Target sequence size:', repr(len(target_example.numpy())))\n",
    "    print()\n",
    "    print('Input:\\n', repr(''.join(index2char[input_example.numpy()])))\n",
    "    print()\n",
    "    print('Target:\\n', repr(''.join(index2char[target_example.numpy()])))"
   ]
  },
  {
   "cell_type": "code",
   "execution_count": 21,
   "metadata": {
    "colab": {},
    "colab_type": "code",
    "id": "cp0tl0sN807l"
   },
   "outputs": [],
   "source": [
    "# dataset shape:\n",
    "# - Each sequence is a tuple of 2 sub-sequences of length 100 (input_text and target_text)\n",
    "#\n",
    "#    200       200           200\n",
    "# /(.....)\\ /(.....)\\ ... /(.....)\\  <-- input_text\n",
    "# \\(.....)/ \\(.....)/     \\(.....)/  <-- target_text"
   ]
  },
  {
   "cell_type": "markdown",
   "metadata": {
    "colab_type": "text",
    "id": "BDYHEJ0pY1ai"
   },
   "source": [
    "Each index of these vectors are processed as one time step. For the input at time step 0, the model receives the index for \"F\" and trys to predict the index for \"i\" as the next character. At the next timestep, it does the same thing but the RNN considers the previous step context in addition to the current input character."
   ]
  },
  {
   "cell_type": "code",
   "execution_count": 22,
   "metadata": {
    "colab": {
     "base_uri": "https://localhost:8080/",
     "height": 357
    },
    "colab_type": "code",
    "executionInfo": {
     "elapsed": 274533,
     "status": "ok",
     "timestamp": 1586974160945,
     "user": {
      "displayName": "Oleksii Trekhleb",
      "photoUrl": "https://lh3.googleusercontent.com/a-/AOh14GiiA4aUKCbFho88Jd0WWMoAqQUt3jbuCtfNYpHVOA=s64",
      "userId": "03172675069638383074"
     },
     "user_tz": -120
    },
    "id": "C-0zpv53Y2o4",
    "outputId": "8f41e91e-3ecb-4086-bdbd-9c466564729b"
   },
   "outputs": [
    {
     "name": "stdout",
     "output_type": "stream",
     "text": [
      "Step #0\n",
      "  input: 44 ('J')\n",
      "  expected output: 80 ('o')\n",
      "\n",
      "Step #1\n",
      "  input: 80 ('o')\n",
      "  expected output: 84 ('s')\n",
      "\n",
      "Step #2\n",
      "  input: 84 ('s')\n",
      "  expected output: 70 ('e')\n",
      "\n",
      "Step #3\n",
      "  input: 70 ('e')\n",
      "  expected output: 81 ('p')\n",
      "\n",
      "Step #4\n",
      "  input: 81 ('p')\n",
      "  expected output: 73 ('h')\n",
      "\n"
     ]
    }
   ],
   "source": [
    "for i, (input_idx, target_idx) in enumerate(zip(input_example[:5], target_example[:5])):\n",
    "    print('Step #{:1d}'.format(i))\n",
    "    print('  input: {} ({:s})'.format(input_idx, repr(index2char[input_idx])))\n",
    "    print('  expected output: {} ({:s})'.format(target_idx, repr(index2char[target_idx])))\n",
    "    print()"
   ]
  },
  {
   "cell_type": "markdown",
   "metadata": {
    "colab_type": "text",
    "id": "1iDlp40lC5YB"
   },
   "source": [
    "## Split training sequences into batches\n",
    "\n",
    "We used `tf.data` to split the text into manageable sequences. But before feeding this data into the model, we need to shuffle the data and pack it into batches."
   ]
  },
  {
   "cell_type": "code",
   "execution_count": 23,
   "metadata": {
    "colab": {
     "base_uri": "https://localhost:8080/",
     "height": 34
    },
    "colab_type": "code",
    "executionInfo": {
     "elapsed": 274506,
     "status": "ok",
     "timestamp": 1586974160945,
     "user": {
      "displayName": "Oleksii Trekhleb",
      "photoUrl": "https://lh3.googleusercontent.com/a-/AOh14GiiA4aUKCbFho88Jd0WWMoAqQUt3jbuCtfNYpHVOA=s64",
      "userId": "03172675069638383074"
     },
     "user_tz": -120
    },
    "id": "eDq-wa5EC3wW",
    "outputId": "89c0b910-d022-46c0-b83b-3352b13b7a6f"
   },
   "outputs": [
    {
     "data": {
      "text/plain": [
       "<DatasetV1Adapter shapes: (<unknown>, <unknown>), types: (tf.int32, tf.int32)>"
      ]
     },
     "execution_count": 23,
     "metadata": {},
     "output_type": "execute_result"
    }
   ],
   "source": [
    "# Batch size.\n",
    "BATCH_SIZE = 64\n",
    "\n",
    "# Buffer size to shuffle the dataset (TF data is designed to work\n",
    "# with possibly infinite sequences, so it doesn't attempt to shuffle\n",
    "# the entire sequence in memory. Instead, it maintains a buffer in\n",
    "# which it shuffles elements).\n",
    "BUFFER_SIZE = 100\n",
    "\n",
    "# How many items to prefetch before the next iteration.\n",
    "PREFETCH_SIZE = 10\n",
    "\n",
    "dataset_sequence_batches = dataset_sequences \\\n",
    "    .shuffle(BUFFER_SIZE) \\\n",
    "    .batch(BATCH_SIZE, drop_remainder=True) \\\n",
    "    .prefetch(PREFETCH_SIZE)\n",
    "\n",
    "dataset_sequence_batches"
   ]
  },
  {
   "cell_type": "code",
   "execution_count": 24,
   "metadata": {
    "colab": {
     "base_uri": "https://localhost:8080/",
     "height": 306
    },
    "colab_type": "code",
    "executionInfo": {
     "elapsed": 478249,
     "status": "ok",
     "timestamp": 1586974364716,
     "user": {
      "displayName": "Oleksii Trekhleb",
      "photoUrl": "https://lh3.googleusercontent.com/a-/AOh14GiiA4aUKCbFho88Jd0WWMoAqQUt3jbuCtfNYpHVOA=s64",
      "userId": "03172675069638383074"
     },
     "user_tz": -120
    },
    "id": "b_kYgvQGBO0U",
    "outputId": "0a456e52-5f7c-4f85-dea6-cdf4f42057fb"
   },
   "outputs": [
    {
     "name": "stdout",
     "output_type": "stream",
     "text": [
      "1st batch: input_text: tf.Tensor(\n",
      "[[83 66 77 ...  2 19 27]\n",
      " [66 85 86 ... 78 74 77]\n",
      " [70  2 69 ...  2 74 79]\n",
      " ...\n",
      " [23  2 41 ... 31 19 64]\n",
      " [80 83 90 ... 66 83 85]\n",
      " [83  2 19 ... 83  2 88]], shape=(64, 200), dtype=int32)\n",
      "\n",
      "1st batch: target_text: tf.Tensor(\n",
      "[[66 77 74 ... 19 27 24]\n",
      " [85 86 83 ... 74 77 90]\n",
      " [ 2 69 86 ... 74 79 87]\n",
      " ...\n",
      " [ 2 41 83 ... 19 64 26]\n",
      " [83 90 28 ... 83 85 70]\n",
      " [ 2 19 20 ...  2 88 66]], shape=(64, 200), dtype=int32)\n"
     ]
    }
   ],
   "source": [
    "for input_text, target_text in dataset_sequence_batches.take(1):\n",
    "    print('1st batch: input_text:', input_text)\n",
    "    print()\n",
    "    print('1st batch: target_text:', target_text)"
   ]
  },
  {
   "cell_type": "code",
   "execution_count": 25,
   "metadata": {
    "colab": {},
    "colab_type": "code",
    "id": "UkDCH15v_2I6"
   },
   "outputs": [],
   "source": [
    "# dataset shape:\n",
    "# - 64 sequences per batch\n",
    "# - Each sequence is a tuple of 2 sub-sequences of length 100 (input_text and target_text)\n",
    "#\n",
    "#\n",
    "#     200       200           200             200       200           200\n",
    "# |/(.....)\\ /(.....)\\ ... /(.....)\\| ... |/(.....)\\ /(.....)\\ ... /(.....)\\|  <-- input_text\n",
    "# |\\(.....)/ \\(.....)/     \\(.....)/| ... |\\(.....)/ \\(.....)/     \\(.....)/|  <-- target_text\n",
    "#\n",
    "# <------------- 64 ---------------->     <------------- 64 ---------------->"
   ]
  },
  {
   "cell_type": "markdown",
   "metadata": {
    "colab_type": "text",
    "id": "ghB-VwLlD-Oz"
   },
   "source": [
    "## Build the model\n",
    "\n",
    "Use [tf.keras.Sequential](https://www.tensorflow.org/api_docs/python/tf/keras/Sequential) to define the model. For this simple example three layers are used to define our model:\n",
    "\n",
    "- [tf.keras.layers.Embedding](https://www.tensorflow.org/api_docs/python/tf/keras/layers/Embedding): The input layer. A trainable lookup table that will map the numbers of each character to a vector with `embedding_dim` dimensions;\n",
    "- [tf.keras.layers.LSTM](https://www.tensorflow.org/api_docs/python/tf/keras/layers/LSTM): A type of RNN with size units=rnn_units (You can also use a GRU layer here.)\n",
    "- [tf.keras.layers.Dense](https://www.tensorflow.org/api_docs/python/tf/keras/layers/Dense): The output layer, with vocab_size outputs."
   ]
  },
  {
   "cell_type": "code",
   "execution_count": 26,
   "metadata": {
    "colab": {
     "base_uri": "https://localhost:8080/",
     "height": 425
    },
    "colab_type": "code",
    "executionInfo": {
     "elapsed": 478210,
     "status": "ok",
     "timestamp": 1586974364719,
     "user": {
      "displayName": "Oleksii Trekhleb",
      "photoUrl": "https://lh3.googleusercontent.com/a-/AOh14GiiA4aUKCbFho88Jd0WWMoAqQUt3jbuCtfNYpHVOA=s64",
      "userId": "03172675069638383074"
     },
     "user_tz": -120
    },
    "id": "0cg8DlO3QjuT",
    "outputId": "c66429df-8d32-42ec-e8b9-2aea1157cb3f"
   },
   "outputs": [
    {
     "name": "stdout",
     "output_type": "stream",
     "text": [
      "tmp_input_array shape: (2, 8)\n",
      "tmp_input_array:\n",
      "[[8 4 4 5 3 4 5 2]\n",
      " [2 3 9 3 1 9 7 9]]\n",
      "\n",
      "tmp_output_array shape: (2, 8, 5)\n",
      "tmp_output_array:\n",
      "[[[-3.39813121e-02 -4.01204824e-03 -7.04944134e-03 -7.11441040e-03\n",
      "    4.28921618e-02]\n",
      "  [-3.25928479e-02  1.17644668e-05  1.08234994e-02  1.79200433e-02\n",
      "   -3.94575596e-02]\n",
      "  [-3.25928479e-02  1.17644668e-05  1.08234994e-02  1.79200433e-02\n",
      "   -3.94575596e-02]\n",
      "  [-2.97719482e-02 -6.25108555e-03  2.53824629e-02  6.04885817e-03\n",
      "   -6.26879930e-03]\n",
      "  [-4.76684347e-02  2.20904239e-02  2.73871534e-02 -1.23210065e-02\n",
      "   -7.83443451e-03]\n",
      "  [-3.25928479e-02  1.17644668e-05  1.08234994e-02  1.79200433e-02\n",
      "   -3.94575596e-02]\n",
      "  [-2.97719482e-02 -6.25108555e-03  2.53824629e-02  6.04885817e-03\n",
      "   -6.26879930e-03]\n",
      "  [-2.90544629e-02 -5.38484007e-03 -1.90348160e-02  2.75318697e-03\n",
      "   -8.31705332e-03]]\n",
      "\n",
      " [[-2.90544629e-02 -5.38484007e-03 -1.90348160e-02  2.75318697e-03\n",
      "   -8.31705332e-03]\n",
      "  [-4.76684347e-02  2.20904239e-02  2.73871534e-02 -1.23210065e-02\n",
      "   -7.83443451e-03]\n",
      "  [ 3.24263610e-02  3.78234722e-02 -3.52883823e-02 -3.79014239e-02\n",
      "   -3.17693353e-02]\n",
      "  [-4.76684347e-02  2.20904239e-02  2.73871534e-02 -1.23210065e-02\n",
      "   -7.83443451e-03]\n",
      "  [ 1.87728554e-03  6.17554039e-03  2.94681452e-02 -4.91452701e-02\n",
      "   -1.08463280e-02]\n",
      "  [ 3.24263610e-02  3.78234722e-02 -3.52883823e-02 -3.79014239e-02\n",
      "   -3.17693353e-02]\n",
      "  [ 2.12515704e-02  3.27175595e-02  4.63535450e-02 -5.21340221e-03\n",
      "    6.29621744e-03]\n",
      "  [ 3.24263610e-02  3.78234722e-02 -3.52883823e-02 -3.79014239e-02\n",
      "   -3.17693353e-02]]]\n"
     ]
    }
   ],
   "source": [
    "# Let's do a quick detour and see how Embeding layer works.\n",
    "# It takes several char indices sequences (batch) as an input.\n",
    "# It encodes every character of every sequence to a vector of tmp_embeding_size length.\n",
    "tmp_vocab_size = 10\n",
    "tmp_embeding_size = 5\n",
    "tmp_input_length = 8\n",
    "tmp_batch_size = 2\n",
    "\n",
    "tmp_model = tf.keras.models.Sequential()\n",
    "tmp_model.add(tf.keras.layers.Embedding(\n",
    "  input_dim=tmp_vocab_size,\n",
    "  output_dim=tmp_embeding_size,\n",
    "  input_length=tmp_input_length\n",
    "))\n",
    "# The model will take as input an integer matrix of size (batch, input_length).\n",
    "# The largest integer (i.e. word index) in the input should be no larger than 9 (tmp_vocab_size).\n",
    "# Now model.output_shape == (None, 10, 64), where None is the batch dimension.\n",
    "tmp_input_array = np.random.randint(\n",
    "  low=0,\n",
    "  high=tmp_vocab_size,\n",
    "  size=(tmp_batch_size, tmp_input_length)\n",
    ")\n",
    "tmp_model.compile('rmsprop', 'mse')\n",
    "tmp_output_array = tmp_model.predict(tmp_input_array)\n",
    "\n",
    "print('tmp_input_array shape:', tmp_input_array.shape)\n",
    "print('tmp_input_array:')\n",
    "print(tmp_input_array)\n",
    "print()\n",
    "print('tmp_output_array shape:', tmp_output_array.shape)\n",
    "print('tmp_output_array:')\n",
    "print(tmp_output_array)"
   ]
  },
  {
   "cell_type": "code",
   "execution_count": 27,
   "metadata": {
    "colab": {},
    "colab_type": "code",
    "id": "I7ZuvZHBD_pS"
   },
   "outputs": [],
   "source": [
    "# Length of the vocabulary in chars.\n",
    "vocab_size = len(vocab)\n",
    "\n",
    "# The embedding dimension.\n",
    "embedding_dim = 256\n",
    "\n",
    "# Number of RNN units.\n",
    "rnn_units = 1024"
   ]
  },
  {
   "cell_type": "code",
   "execution_count": 28,
   "metadata": {
    "colab": {},
    "colab_type": "code",
    "id": "-sojdDCAICWO"
   },
   "outputs": [],
   "source": [
    "def build_model(vocab_size, embedding_dim, rnn_units, batch_size):\n",
    "    model = tf.keras.models.Sequential()\n",
    "\n",
    "    model.add(tf.keras.layers.Embedding(\n",
    "      input_dim=vocab_size,\n",
    "      output_dim=embedding_dim,\n",
    "      batch_input_shape=[batch_size, None]\n",
    "    ))\n",
    "\n",
    "    model.add(tf.keras.layers.LSTM(\n",
    "      units=rnn_units,\n",
    "      return_sequences=True,\n",
    "      stateful=True,\n",
    "      recurrent_initializer=tf.keras.initializers.GlorotNormal()\n",
    "    ))\n",
    "\n",
    "    model.add(tf.keras.layers.Dense(vocab_size))\n",
    "  \n",
    "    return model"
   ]
  },
  {
   "cell_type": "code",
   "execution_count": 29,
   "metadata": {
    "colab": {},
    "colab_type": "code",
    "id": "XoPwxyAPEg6z"
   },
   "outputs": [],
   "source": [
    "model = build_model(vocab_size, embedding_dim, rnn_units, BATCH_SIZE)"
   ]
  },
  {
   "cell_type": "code",
   "execution_count": 30,
   "metadata": {
    "colab": {
     "base_uri": "https://localhost:8080/",
     "height": 255
    },
    "colab_type": "code",
    "executionInfo": {
     "elapsed": 478161,
     "status": "ok",
     "timestamp": 1586974364722,
     "user": {
      "displayName": "Oleksii Trekhleb",
      "photoUrl": "https://lh3.googleusercontent.com/a-/AOh14GiiA4aUKCbFho88Jd0WWMoAqQUt3jbuCtfNYpHVOA=s64",
      "userId": "03172675069638383074"
     },
     "user_tz": -120
    },
    "id": "iLnlZFgU55bQ",
    "outputId": "b299c133-c38b-4636-a478-6c601a5a4275"
   },
   "outputs": [
    {
     "name": "stdout",
     "output_type": "stream",
     "text": [
      "Model: \"sequential_1\"\n",
      "_________________________________________________________________\n",
      "Layer (type)                 Output Shape              Param #   \n",
      "=================================================================\n",
      "embedding_1 (Embedding)      (64, None, 256)           158976    \n",
      "_________________________________________________________________\n",
      "lstm (LSTM)                  (64, None, 1024)          5246976   \n",
      "_________________________________________________________________\n",
      "dense (Dense)                (64, None, 621)           636525    \n",
      "=================================================================\n",
      "Total params: 6,042,477\n",
      "Trainable params: 6,042,477\n",
      "Non-trainable params: 0\n",
      "_________________________________________________________________\n"
     ]
    }
   ],
   "source": [
    "model.summary()"
   ]
  },
  {
   "cell_type": "code",
   "execution_count": 31,
   "metadata": {
    "colab": {
     "base_uri": "https://localhost:8080/",
     "height": 422
    },
    "colab_type": "code",
    "executionInfo": {
     "elapsed": 478751,
     "status": "ok",
     "timestamp": 1586974365328,
     "user": {
      "displayName": "Oleksii Trekhleb",
      "photoUrl": "https://lh3.googleusercontent.com/a-/AOh14GiiA4aUKCbFho88Jd0WWMoAqQUt3jbuCtfNYpHVOA=s64",
      "userId": "03172675069638383074"
     },
     "user_tz": -120
    },
    "id": "CcaO_rO_8-GH",
    "outputId": "80e5f385-1da2-41fb-c06b-7eb51fcd8b52"
   },
   "outputs": [
    {
     "data": {
      "image/png": "[encoded data removed]",
      "text/plain": [
       "<IPython.core.display.Image object>"
      ]
     },
     "execution_count": 31,
     "metadata": {},
     "output_type": "execute_result"
    }
   ],
   "source": [
    "tf.keras.utils.plot_model(\n",
    "    model,\n",
    "    show_shapes=True,\n",
    "    show_layer_names=True,\n",
    ")"
   ]
  },
  {
   "cell_type": "markdown",
   "metadata": {
    "colab_type": "text",
    "id": "JpL9idwZV6fL"
   },
   "source": [
    "For each character the model looks up the embedding, runs the GRU one timestep with the embedding as input, and applies the dense layer to generate logits predicting the log-likelihood of the next character:\n",
    "\n",
    "![Model architecture](https://www.tensorflow.org/tutorials/text/images/text_generation_training.png)\n",
    "\n",
    "Image source: [Text generation with an RNN](https://www.tensorflow.org/tutorials/text/text_generation) notebook."
   ]
  },
  {
   "cell_type": "markdown",
   "metadata": {
    "colab_type": "text",
    "id": "Npruiy2RAPkt"
   },
   "source": [
    "## Try the model"
   ]
  },
  {
   "cell_type": "code",
   "execution_count": 32,
   "metadata": {
    "colab": {
     "base_uri": "https://localhost:8080/",
     "height": 34
    },
    "colab_type": "code",
    "executionInfo": {
     "elapsed": 678242,
     "status": "ok",
     "timestamp": 1586974564842,
     "user": {
      "displayName": "Oleksii Trekhleb",
      "photoUrl": "https://lh3.googleusercontent.com/a-/AOh14GiiA4aUKCbFho88Jd0WWMoAqQUt3jbuCtfNYpHVOA=s64",
      "userId": "03172675069638383074"
     },
     "user_tz": -120
    },
    "id": "E4DCLA0GASL1",
    "outputId": "d6e39b67-d2da-46d2-c6a1-f62d81f64981"
   },
   "outputs": [
    {
     "name": "stdout",
     "output_type": "stream",
     "text": [
      "(64, 200, 621) # (batch_size, sequence_length, vocab_size)\n"
     ]
    }
   ],
   "source": [
    "for input_example_batch, target_example_batch in dataset_sequence_batches.take(1):\n",
    "    example_batch_predictions = model(input_example_batch)\n",
    "    print(example_batch_predictions.shape, \"# (batch_size, sequence_length, vocab_size)\")\n"
   ]
  },
  {
   "cell_type": "markdown",
   "metadata": {
    "colab_type": "text",
    "id": "MWebJXU9CEPd"
   },
   "source": [
    "To get actual predictions from the model we need to sample from the output distribution, to get actual character indices. This distribution is defined by the logits over the character vocabulary."
   ]
  },
  {
   "cell_type": "code",
   "execution_count": 33,
   "metadata": {
    "colab": {
     "base_uri": "https://localhost:8080/",
     "height": 85
    },
    "colab_type": "code",
    "executionInfo": {
     "elapsed": 678227,
     "status": "ok",
     "timestamp": 1586974564843,
     "user": {
      "displayName": "Oleksii Trekhleb",
      "photoUrl": "https://lh3.googleusercontent.com/a-/AOh14GiiA4aUKCbFho88Jd0WWMoAqQUt3jbuCtfNYpHVOA=s64",
      "userId": "03172675069638383074"
     },
     "user_tz": -120
    },
    "id": "Y4Jgo-iECFWI",
    "outputId": "22b015fd-bc24-4a4b-c60c-177856033131"
   },
   "outputs": [
    {
     "name": "stdout",
     "output_type": "stream",
     "text": [
      "Prediction for the 1st letter of the batch 1st sequense:\n",
      "tf.Tensor(\n",
      "[ 8.35463696e-04  2.09684484e-03  3.42911156e-03  5.45318180e-04\n",
      "  4.28469665e-03 -5.58048836e-04 -3.24421609e-03 -7.93180428e-04\n",
      "  1.17244083e-03 -5.09335368e-04  5.08083031e-03 -1.46379170e-04\n",
      "  3.58418934e-03  1.03194849e-04 -2.39335094e-03 -6.05668174e-05\n",
      " -1.82336802e-03  5.34282881e-05 -3.31884110e-03  1.29851268e-03\n",
      "  2.32158275e-03  2.27343896e-03  3.38734477e-04 -1.24499702e-03\n",
      "  2.32500257e-03  4.05761600e-03  3.18779098e-03  2.08329805e-03\n",
      "  8.95437552e-05 -8.40217574e-04 -2.35335529e-03 -2.73858127e-03\n",
      "  1.62060664e-03 -7.51448679e-04  1.90014672e-03  5.95842069e-03\n",
      "  7.84280768e-04  2.03978969e-03  2.69752229e-03  2.47030985e-03\n",
      "  2.67270813e-03 -1.09374512e-03 -5.31177560e-04 -7.98638328e-04\n",
      "  3.24298814e-03 -2.72793317e-04  1.12701952e-03  2.33876659e-03\n",
      " -2.36246176e-03 -2.87489686e-03 -3.37740872e-03 -1.72207248e-03\n",
      "  2.72066612e-03  2.29311851e-03 -7.61972682e-04  2.87261349e-03\n",
      " -4.98659490e-03  1.19400653e-03 -5.09172038e-04 -6.37358986e-04\n",
      " -1.99717330e-03 -2.19566701e-03 -2.52573052e-04 -3.83878895e-03\n",
      "  1.48666999e-03 -4.91252518e-04 -2.85367202e-03  1.08920736e-04\n",
      " -3.87043646e-03  1.76687387e-03  1.19481469e-04 -5.66833047e-03\n",
      " -2.94480007e-03  3.70786758e-04  1.11970049e-03 -2.23150617e-03\n",
      " -1.69391360e-03  1.80450676e-03  1.19558838e-03 -3.23767820e-03\n",
      "  3.93406954e-05 -4.57169604e-04  2.47163989e-04  3.63785960e-03\n",
      " -1.42026762e-03  2.31273286e-03  2.29568244e-03  3.22431745e-03\n",
      "  4.20709793e-03  2.33529136e-03 -3.02077457e-03  2.74792081e-03\n",
      " -4.17465717e-03  5.70002990e-03  2.05436023e-03 -2.88922247e-03\n",
      " -3.33409593e-03  4.38929955e-03  1.90985942e-04 -1.65581435e-03\n",
      "  1.26800733e-03  1.07078347e-03 -2.85076629e-03  3.71331349e-03\n",
      " -1.75752200e-03 -1.00643584e-03 -2.46592611e-03 -2.90212664e-03\n",
      "  2.58652493e-03  6.09189086e-03  1.44455116e-03  3.76113341e-04\n",
      "  3.09413718e-03  1.60273397e-03  3.28997010e-03  4.24523954e-04\n",
      " -4.98488953e-06  1.85778178e-03  7.53825880e-04 -1.37788255e-03\n",
      " -3.54502490e-03  2.57773837e-03  6.38625352e-05 -9.43252584e-04\n",
      " -6.30994560e-04 -1.83026632e-03  3.87712382e-04  3.86773935e-03\n",
      " -2.95971520e-03  4.90784179e-04 -1.52310065e-03  3.48512083e-04\n",
      " -1.13732019e-03 -3.90914362e-03  4.41125873e-03  3.51417088e-03\n",
      " -2.25317490e-04 -4.74107219e-05  1.67724642e-03 -8.91613425e-04\n",
      " -4.95240372e-03 -7.13796471e-04  2.25715712e-03 -4.05569002e-03\n",
      " -1.10261142e-03 -1.17664086e-03 -3.29643022e-03 -6.32926938e-04\n",
      " -1.05271209e-03  4.07885155e-03  1.18295499e-03 -2.08115717e-03\n",
      "  8.69535434e-04  2.98862811e-03  4.81159799e-03 -8.67645547e-04\n",
      "  2.17851507e-03  6.75042393e-04  2.49847490e-03  2.17747968e-03\n",
      " -3.25879140e-04  3.61175393e-04 -2.89922440e-03 -1.62674638e-03\n",
      "  1.59832858e-03 -1.17234455e-03  5.57269843e-04  9.13808937e-04\n",
      " -3.89273628e-04  2.38406908e-04  3.68970493e-03 -5.44312759e-04\n",
      " -2.65251799e-03  3.93151864e-03  3.69584910e-03 -4.43845056e-05\n",
      " -2.06667278e-03  3.04297102e-03 -8.92319949e-05 -5.17498516e-03\n",
      " -6.50030561e-05  2.72393064e-03 -1.29770418e-03 -1.68556895e-03\n",
      " -5.06343087e-04 -2.19984329e-04  3.21907457e-03  1.56285998e-03\n",
      " -2.44208402e-03 -3.70766851e-03  7.19303091e-04  3.42572748e-05\n",
      "  1.07782148e-03  1.22840679e-03 -3.11032915e-03 -1.83496648e-03\n",
      "  5.86165302e-03  4.98287147e-04 -2.66536954e-05 -5.77219110e-03\n",
      " -3.23716388e-03  2.68125348e-03  1.40834483e-04 -4.15038131e-03\n",
      "  4.50959476e-03  4.00057901e-03 -1.64716109e-03  6.85388036e-03\n",
      "  4.04137187e-03 -2.95685395e-03 -2.50981096e-03 -2.82271462e-03\n",
      " -1.61539507e-03  2.16985727e-03 -3.79805872e-03  5.45958057e-04\n",
      " -1.27538131e-03  8.72325269e-04 -1.88621983e-04  5.33124804e-03\n",
      " -1.03358552e-03 -3.41351051e-03  3.16466135e-03 -8.64663045e-04\n",
      " -3.68923205e-03 -1.70459412e-03 -2.61896872e-04 -3.05838860e-03\n",
      " -4.08476265e-03 -1.35520147e-03 -8.83661793e-04 -3.24328663e-04\n",
      "  1.80225703e-03  7.13060843e-04 -9.56686563e-04  1.96105475e-03\n",
      " -3.18190805e-03 -1.28712249e-03 -2.19177967e-03 -2.31484650e-03\n",
      " -2.32329918e-03  3.93846445e-03  2.22758297e-03  2.77242798e-05\n",
      " -3.29758739e-03  1.31201535e-03  3.00361332e-03 -3.47331108e-04\n",
      "  1.28938153e-03 -5.00036078e-03 -4.06444725e-03 -1.20208436e-03\n",
      " -2.03493517e-03 -6.13126322e-04 -5.09109581e-04  2.53997569e-04\n",
      "  6.77044783e-03  1.01206650e-03  2.05603102e-03  3.26356501e-04\n",
      " -1.71180186e-03  3.01849097e-04  2.30922131e-04 -3.71647044e-03\n",
      " -1.93444150e-03  5.10008482e-04  7.84908654e-04 -1.34865427e-03\n",
      " -1.25316030e-03  2.21230416e-03  1.04120711e-03  3.80440196e-03\n",
      "  5.37737738e-04  1.31749269e-03  5.48421266e-03  9.27208224e-04\n",
      "  1.18349702e-03  4.99763351e-04  1.35892082e-03  2.09463574e-03\n",
      "  2.05238070e-03  7.99213536e-04 -6.71367743e-04  3.64456698e-03\n",
      " -1.10914314e-03  1.18034380e-03 -2.12014944e-04  1.26848789e-03\n",
      " -2.46348046e-03  1.54076051e-03 -2.85887183e-03 -7.05473765e-04\n",
      " -1.96356606e-03  8.02791270e-04  2.42277049e-04 -1.82839925e-03\n",
      " -2.28210329e-03  4.91398852e-03 -4.82070120e-03 -2.70044105e-03\n",
      "  1.48374413e-03  4.44721943e-03  1.58594060e-03  3.03337653e-03\n",
      " -1.84506702e-03  2.44344305e-03  1.50374160e-03  1.56115124e-03\n",
      "  4.98899538e-03  2.03829538e-03  5.53813903e-03  3.48264840e-03\n",
      "  5.60872070e-03  4.87403758e-03 -3.32443800e-04 -2.47333478e-03\n",
      " -1.63532374e-03 -9.20479884e-04 -2.07964866e-03  2.77774874e-04\n",
      "  1.25431397e-03  1.62503202e-04  2.00395798e-03  8.21042107e-04\n",
      " -1.66196609e-04  2.48365267e-03 -7.92772451e-04  2.46412097e-03\n",
      "  4.78800060e-03  2.19766609e-03  3.89899733e-03 -4.78526112e-04\n",
      " -6.57498487e-04  3.05282854e-04  1.03825866e-03  9.39807564e-04\n",
      "  4.01815958e-03 -1.98606309e-03 -6.34345808e-04 -1.99594442e-03\n",
      " -1.41196884e-03 -3.99194745e-04  2.33394094e-03  8.56563332e-04\n",
      " -1.65605079e-03 -2.19869590e-03 -1.34886685e-03  1.56286638e-03\n",
      " -1.52832246e-03 -3.76129919e-03  5.87875722e-04 -3.67930974e-03\n",
      "  5.90261247e-04 -2.16317968e-03 -1.22433924e-03 -3.81477876e-03\n",
      " -1.63146295e-04 -2.86069699e-03  1.26663549e-03 -3.91233806e-03\n",
      " -4.62905644e-03 -3.96474614e-04 -3.83512233e-05  3.94640211e-03\n",
      " -2.40692869e-04 -3.86288529e-03  2.81655136e-03 -3.79088859e-04\n",
      " -3.60332336e-03 -1.66265119e-03  1.73345848e-03 -1.87841884e-03\n",
      "  1.83266983e-03 -5.29536686e-04 -7.89753627e-03  3.89374327e-04\n",
      " -5.08166570e-03  1.76667259e-03  3.22487322e-03  4.86384518e-03\n",
      "  2.36878428e-03 -5.23652416e-05  4.55174391e-04 -2.79984949e-03\n",
      "  1.07400352e-03 -1.72346306e-03  3.48076876e-03 -4.82788216e-03\n",
      "  7.52902124e-04  1.26791082e-03  1.91183202e-03 -1.91857619e-03\n",
      "  2.65099900e-03 -2.13306001e-03  2.50443933e-03  6.94875140e-04\n",
      "  2.94732209e-03 -4.67904937e-03 -3.30958585e-03  4.20350349e-03\n",
      " -3.99029441e-03 -2.13963352e-03  8.22501024e-04 -2.33225152e-03\n",
      "  1.82903057e-03  1.12424395e-03  2.58600642e-03 -1.08187320e-03\n",
      " -2.81271088e-04 -3.13050253e-03 -3.31892818e-03 -1.28050160e-05\n",
      " -4.23573540e-04  1.84249453e-04  1.58141716e-04  4.79228515e-03\n",
      "  5.85482921e-05 -6.38453476e-03  5.13805309e-04 -8.97673483e-04\n",
      " -2.27094512e-04 -6.74358686e-04 -3.01146181e-04  2.49535311e-03\n",
      " -3.78818577e-03 -1.92451081e-03  2.13358947e-03  2.48915283e-03\n",
      "  7.21302000e-04 -5.70255937e-03  2.47318484e-03  3.70463450e-03\n",
      "  1.74590340e-03 -3.52096022e-03 -6.20345119e-03 -1.49410160e-03\n",
      "  2.16992525e-03  2.07840605e-03 -3.45319742e-03  5.01946080e-04\n",
      " -5.40382869e-04 -1.11925893e-03  2.01087631e-03  1.12430705e-03\n",
      " -1.18543301e-03 -6.49042428e-04  3.12151475e-04 -3.83476703e-03\n",
      "  5.79667324e-03 -1.86217506e-03  2.32246285e-03 -5.92610519e-03\n",
      "  3.27147846e-03  6.95954775e-04  9.21422266e-04 -2.71027861e-03\n",
      " -3.49151716e-03  2.98654218e-03 -9.43686464e-04  6.24781242e-05\n",
      " -1.88407110e-04  7.93947547e-04 -2.31496943e-03 -2.20869156e-03\n",
      "  2.37058662e-03  4.08737175e-03  1.73647888e-04  1.86685345e-03\n",
      "  2.77013006e-03 -6.94627641e-03 -4.83842753e-03  1.23118237e-03\n",
      "  2.27321126e-03  1.57723634e-03 -4.18275688e-03 -6.48245565e-04\n",
      "  1.28540996e-05  1.67142262e-03 -3.46171117e-04 -3.14059376e-04\n",
      " -1.40194126e-04 -7.59161124e-03 -5.82487788e-04 -7.62603525e-03\n",
      " -1.02023571e-03  2.43393122e-03 -1.21837319e-03  1.90329819e-03\n",
      " -1.63212258e-04  2.12243735e-03 -5.86521870e-04 -1.87877507e-03\n",
      " -3.02274222e-03 -6.87288120e-05  3.74013488e-03 -1.87914097e-03\n",
      " -1.02664693e-03  1.09185185e-03 -4.93067899e-04  6.30126707e-03\n",
      " -2.82878894e-03 -5.74071426e-04 -5.78172784e-03  2.45460449e-03\n",
      " -1.49743061e-03  1.11390790e-03 -5.50503377e-03 -4.22122888e-03\n",
      " -4.22216486e-03 -2.25837948e-03 -1.62361830e-04 -4.43311175e-03\n",
      " -1.42734847e-03 -1.00397156e-03  3.52259958e-03 -1.28732529e-03\n",
      "  3.99571285e-03 -1.68467069e-03 -2.69858399e-04 -2.21873843e-03\n",
      "  2.39992840e-03  1.40917907e-03 -1.55471161e-03  7.57784117e-04\n",
      "  8.66389647e-03 -1.37909525e-03  2.70096702e-03 -3.14381300e-03\n",
      " -2.56058038e-03 -2.91004544e-03  1.74238812e-03 -1.63550873e-03\n",
      "  4.55680257e-03  4.05011373e-03 -3.06967343e-03 -2.48084590e-03\n",
      "  7.45708530e-05  3.53837479e-03 -2.13725376e-03  4.45969217e-03\n",
      " -1.59700820e-03  3.37186782e-03  2.78740446e-03 -1.52644480e-03\n",
      "  1.09811220e-03  1.41654117e-03 -1.73450599e-03  1.33216858e-03\n",
      " -6.17226993e-04  4.16082423e-03 -9.00369196e-04  3.01398162e-04\n",
      "  6.24129642e-03 -1.97185948e-03 -1.52068061e-03  2.51463149e-04\n",
      " -3.63600673e-03 -4.10697237e-03 -2.46853638e-03  3.63346981e-03\n",
      "  2.15702294e-03 -1.20945915e-03  1.07678847e-04  1.91320863e-03\n",
      " -2.83216452e-03 -2.00957037e-03 -4.40685544e-05  2.80365138e-03\n",
      " -2.44866079e-03  8.32665944e-04 -1.37518544e-03 -5.34859113e-03\n",
      " -2.24772911e-03 -3.98707343e-04  1.31032825e-03 -2.30033346e-03\n",
      "  2.11588410e-03  7.86824035e-04  8.06449098e-04 -2.31330958e-03\n",
      " -6.42816070e-04  3.16625345e-04 -4.05846070e-03 -2.37372145e-03\n",
      "  1.13046844e-04 -1.11399568e-03  4.96065011e-04  2.50413339e-03\n",
      "  2.83939112e-03 -2.37200502e-03  8.81905667e-04 -3.20436386e-03\n",
      " -4.25323751e-03  2.30821315e-05 -2.39529926e-03 -4.41303197e-03\n",
      "  5.03016822e-03  3.30559420e-03 -1.03536109e-03 -4.35083406e-04\n",
      " -6.50947506e-04  5.51659439e-04  3.65099171e-03  1.34332676e-03\n",
      "  2.35693017e-03 -4.69238032e-03 -3.66719998e-03  2.63515045e-03\n",
      "  3.09165055e-03 -8.41645291e-04  2.23314296e-03  1.32580101e-03\n",
      "  3.66815599e-04 -1.26943446e-03 -2.20940961e-03  8.52471590e-03\n",
      "  5.44083305e-03  6.21189130e-04 -1.54458696e-03  4.47665155e-03\n",
      " -1.90974039e-04], shape=(621,), dtype=float32)\n"
     ]
    }
   ],
   "source": [
    "print('Prediction for the 1st letter of the batch 1st sequense:')\n",
    "print(example_batch_predictions[0, 0])"
   ]
  },
  {
   "cell_type": "code",
   "execution_count": 34,
   "metadata": {
    "colab": {
     "base_uri": "https://localhost:8080/",
     "height": 34
    },
    "colab_type": "code",
    "executionInfo": {
     "elapsed": 678211,
     "status": "ok",
     "timestamp": 1586974564844,
     "user": {
      "displayName": "Oleksii Trekhleb",
      "photoUrl": "https://lh3.googleusercontent.com/a-/AOh14GiiA4aUKCbFho88Jd0WWMoAqQUt3jbuCtfNYpHVOA=s64",
      "userId": "03172675069638383074"
     },
     "user_tz": -120
    },
    "id": "0dOr0MwFHlRb",
    "outputId": "24a550a0-6a12-4e05-8f50-caf752888b58"
   },
   "outputs": [
    {
     "name": "stdout",
     "output_type": "stream",
     "text": [
      "tf.Tensor([[1 2 0 2 1]], shape=(1, 5), dtype=int64)\n"
     ]
    }
   ],
   "source": [
    "# Quick overview of how tf.random.categorical() works.\n",
    "\n",
    "# logits is 2-D Tensor with shape [batch_size, num_classes].\n",
    "# Each slice [i, :] represents the unnormalized log-probabilities for all classes.\n",
    "# In the example below we say that the probability for class \"0\" is low but the\n",
    "# probability for class \"2\" is much higher.\n",
    "tmp_logits = [\n",
    "  [-0.95, 0, 0.95],\n",
    "];\n",
    "\n",
    "# Let's generate 5 samples. Each sample is a class index. Class probabilities \n",
    "# are being taken into account (we expect to see more samples of class \"2\").\n",
    "tmp_samples = tf.random.categorical(\n",
    "    logits=tmp_logits,\n",
    "    num_samples=5\n",
    ")\n",
    "\n",
    "print(tmp_samples)"
   ]
  },
  {
   "cell_type": "code",
   "execution_count": 35,
   "metadata": {
    "colab": {
     "base_uri": "https://localhost:8080/",
     "height": 34
    },
    "colab_type": "code",
    "executionInfo": {
     "elapsed": 678151,
     "status": "ok",
     "timestamp": 1586974564845,
     "user": {
      "displayName": "Oleksii Trekhleb",
      "photoUrl": "https://lh3.googleusercontent.com/a-/AOh14GiiA4aUKCbFho88Jd0WWMoAqQUt3jbuCtfNYpHVOA=s64",
      "userId": "03172675069638383074"
     },
     "user_tz": -120
    },
    "id": "JPzr0r4zCgS3",
    "outputId": "1ce0c5c8-addc-4777-f505-63663962d576"
   },
   "outputs": [
    {
     "data": {
      "text/plain": [
       "TensorShape([200, 1])"
      ]
     },
     "execution_count": 35,
     "metadata": {},
     "output_type": "execute_result"
    }
   ],
   "source": [
    "sampled_indices = tf.random.categorical(\n",
    "    logits=example_batch_predictions[0],\n",
    "    num_samples=1\n",
    ")\n",
    "\n",
    "sampled_indices.shape"
   ]
  },
  {
   "cell_type": "code",
   "execution_count": 36,
   "metadata": {
    "colab": {
     "base_uri": "https://localhost:8080/",
     "height": 34
    },
    "colab_type": "code",
    "executionInfo": {
     "elapsed": 678118,
     "status": "ok",
     "timestamp": 1586974564846,
     "user": {
      "displayName": "Oleksii Trekhleb",
      "photoUrl": "https://lh3.googleusercontent.com/a-/AOh14GiiA4aUKCbFho88Jd0WWMoAqQUt3jbuCtfNYpHVOA=s64",
      "userId": "03172675069638383074"
     },
     "user_tz": -120
    },
    "id": "YaA7DclID8dz",
    "outputId": "cfb93eca-f822-49e7-dc37-3365a80bebdc"
   },
   "outputs": [
    {
     "data": {
      "text/plain": [
       "(200,)"
      ]
     },
     "execution_count": 36,
     "metadata": {},
     "output_type": "execute_result"
    }
   ],
   "source": [
    "sampled_indices = tf.squeeze(\n",
    "    input=sampled_indices,\n",
    "    axis=-1\n",
    ").numpy()\n",
    "\n",
    "sampled_indices.shape"
   ]
  },
  {
   "cell_type": "code",
   "execution_count": 37,
   "metadata": {
    "colab": {
     "base_uri": "https://localhost:8080/",
     "height": 1000
    },
    "colab_type": "code",
    "executionInfo": {
     "elapsed": 678080,
     "status": "ok",
     "timestamp": 1586974564847,
     "user": {
      "displayName": "Oleksii Trekhleb",
      "photoUrl": "https://lh3.googleusercontent.com/a-/AOh14GiiA4aUKCbFho88Jd0WWMoAqQUt3jbuCtfNYpHVOA=s64",
      "userId": "03172675069638383074"
     },
     "user_tz": -120
    },
    "id": "_ubGQ0gVENhB",
    "outputId": "398ecbd2-5973-448c-f6f2-2c48a40f73f1"
   },
   "outputs": [
    {
     "data": {
      "text/plain": [
       "array([281, 174,  49, 105, 554, 103, 569, 443, 287, 555, 392, 540, 458,\n",
       "        93, 260, 420, 209, 314,  96, 402, 295, 435, 160, 138,   5, 115,\n",
       "       340, 414, 175, 220, 372, 181, 136,  76, 128, 165, 525, 358,  24,\n",
       "       221, 308, 609, 530, 364,  92, 597, 466, 128, 517,  98, 100, 346,\n",
       "         1, 203, 373, 363, 361,   9, 125, 164, 474, 279, 262, 171,   7,\n",
       "        71, 214, 107, 224, 546, 480,  96,   7, 359, 228, 174,  65, 315,\n",
       "       617, 541, 497, 620, 225,  45,  26, 384, 554, 228, 141, 146, 498,\n",
       "        61,  96, 614, 539, 138, 507, 294, 619,  45, 316, 595, 368, 237,\n",
       "       553, 428, 352, 557,  42, 104, 430, 192, 144,  26, 444,  20, 513,\n",
       "       573, 379, 515,  11, 110,   2, 299, 252, 242, 360,  64, 427,  92,\n",
       "       255, 484, 350, 238, 579, 210, 586, 527, 372, 305, 188, 108, 378,\n",
       "       595,  78, 364, 264, 244,  35, 134, 355, 536, 586, 127, 175, 579,\n",
       "       400, 610, 145, 493, 264, 313, 579, 544, 471, 136, 550, 302, 120,\n",
       "       379,  21, 140, 365, 364, 212, 169, 535, 509, 571, 326, 452,  77,\n",
       "       371, 476, 545,  70, 607, 320, 555, 111,  54, 394, 556, 516, 125,\n",
       "       126,  32, 103, 545, 500])"
      ]
     },
     "execution_count": 37,
     "metadata": {},
     "output_type": "execute_result"
    }
   ],
   "source": [
    "sampled_indices"
   ]
  },
  {
   "cell_type": "code",
   "execution_count": 38,
   "metadata": {
    "colab": {
     "base_uri": "https://localhost:8080/",
     "height": 122
    },
    "colab_type": "code",
    "executionInfo": {
     "elapsed": 678033,
     "status": "ok",
     "timestamp": 1586974564848,
     "user": {
      "displayName": "Oleksii Trekhleb",
      "photoUrl": "https://lh3.googleusercontent.com/a-/AOh14GiiA4aUKCbFho88Jd0WWMoAqQUt3jbuCtfNYpHVOA=s64",
      "userId": "03172675069638383074"
     },
     "user_tz": -120
    },
    "id": "Gi9HOzw9EajS",
    "outputId": "177578de-a6be-417a-e528-d470494f59fb"
   },
   "outputs": [
    {
     "name": "stdout",
     "output_type": "stream",
     "text": [
      "Input:\n",
      " 'l the languages in a given area. This would make it possible to compare numerous languages reliably. At the same time, the process would provide a check on accidental resemblances through the sheer nu'\n",
      "\n",
      "Next char prediction:\n",
      " \"ץōO»溪²義ツ،潭ფ會东|ы№μک\\xa0\\u200eحコęî#Íಡ″őДหŠìkäī怡น6Жم陈文ม{通伐ä巴§®ก\\nαอภผ'áĦ六עюń%fυ½К概加\\xa0%บОō`அ태本國｜ЛK8แ溪Оòø地[\\xa0黄普î宗ج）Kஆ达ลг湾\\u3000ฒ濟H·アșõ8パ2屋臨ี島)Å رуйป_➔{ц华จд薦ο訪探หفž¿ิ达mมілAêต明訪ãő薦ệ食ö吹іپ薦板光ì法صØี3ñยมςŁ昌寄育மンlส其桦e长ட潭ÆTḻ澤左áâ>²桦坪\"\n"
     ]
    }
   ],
   "source": [
    "print('Input:\\n', repr(''.join(index2char[input_example_batch[0]])))\n",
    "print()\n",
    "print('Next char prediction:\\n', repr(''.join(index2char[sampled_indices])))"
   ]
  },
  {
   "cell_type": "code",
   "execution_count": 39,
   "metadata": {
    "colab": {
     "base_uri": "https://localhost:8080/",
     "height": 357
    },
    "colab_type": "code",
    "executionInfo": {
     "elapsed": 678007,
     "status": "ok",
     "timestamp": 1586974564848,
     "user": {
      "displayName": "Oleksii Trekhleb",
      "photoUrl": "https://lh3.googleusercontent.com/a-/AOh14GiiA4aUKCbFho88Jd0WWMoAqQUt3jbuCtfNYpHVOA=s64",
      "userId": "03172675069638383074"
     },
     "user_tz": -120
    },
    "id": "b87e0lsYMTsv",
    "outputId": "e562488a-f4b7-4a2f-9f56-f2a6c7dc5737"
   },
   "outputs": [
    {
     "name": "stdout",
     "output_type": "stream",
     "text": [
      "Prediction #0\n",
      "  input: 77 ('l')\n",
      "  next predicted: 73 ('ץ')\n",
      "\n",
      "Prediction #1\n",
      "  input: 2 (' ')\n",
      "  next predicted: 73 ('ō')\n",
      "\n",
      "Prediction #2\n",
      "  input: 85 ('t')\n",
      "  next predicted: 73 ('O')\n",
      "\n",
      "Prediction #3\n",
      "  input: 73 ('h')\n",
      "  next predicted: 73 ('»')\n",
      "\n",
      "Prediction #4\n",
      "  input: 70 ('e')\n",
      "  next predicted: 73 ('溪')\n",
      "\n"
     ]
    }
   ],
   "source": [
    "for i, (input_idx, sample_idx) in enumerate(zip(input_example_batch[0][:5], sampled_indices[:5])):\n",
    "    print('Prediction #{:1d}'.format(i))\n",
    "    print('  input: {} ({:s})'.format(input_idx, repr(index2char[input_idx])))\n",
    "    print('  next predicted: {} ({:s})'.format(target_idx, repr(index2char[sample_idx])))\n",
    "    print()"
   ]
  },
  {
   "cell_type": "markdown",
   "metadata": {
    "colab_type": "text",
    "id": "LqcBufKEE_p6"
   },
   "source": [
    "## Train the model\n",
    "\n",
    "At this point the problem can be treated as a standard classification problem. Given the previous RNN state, and the input this time step, predict the class of the next character."
   ]
  },
  {
   "cell_type": "markdown",
   "metadata": {
    "colab_type": "text",
    "id": "l4s0-PvrFub5"
   },
   "source": [
    "### Attach an optimizer, and a loss function"
   ]
  },
  {
   "cell_type": "code",
   "execution_count": 40,
   "metadata": {
    "colab": {
     "base_uri": "https://localhost:8080/",
     "height": 51
    },
    "colab_type": "code",
    "executionInfo": {
     "elapsed": 677987,
     "status": "ok",
     "timestamp": 1586974564849,
     "user": {
      "displayName": "Oleksii Trekhleb",
      "photoUrl": "https://lh3.googleusercontent.com/a-/AOh14GiiA4aUKCbFho88Jd0WWMoAqQUt3jbuCtfNYpHVOA=s64",
      "userId": "03172675069638383074"
     },
     "user_tz": -120
    },
    "id": "UOEUUm6JE95a",
    "outputId": "c4b60238-ced1-4150-db09-fc056b409555"
   },
   "outputs": [
    {
     "name": "stdout",
     "output_type": "stream",
     "text": [
      "Prediction shape:  (64, 200, 621)  # (batch_size, sequence_length, vocab_size)\n",
      "scalar_loss:       6.4323754\n"
     ]
    }
   ],
   "source": [
    "# An objective function.\n",
    "# The function is any callable with the signature scalar_loss = fn(y_true, y_pred).\n",
    "def loss(labels, logits):\n",
    "    return tf.keras.losses.sparse_categorical_crossentropy(\n",
    "      y_true=labels,\n",
    "      y_pred=logits,\n",
    "      from_logits=True\n",
    "    )\n",
    "\n",
    "example_batch_loss = loss(target_example_batch, example_batch_predictions)\n",
    "\n",
    "print(\"Prediction shape: \", example_batch_predictions.shape, \" # (batch_size, sequence_length, vocab_size)\")\n",
    "print(\"scalar_loss:      \", example_batch_loss.numpy().mean())"
   ]
  },
  {
   "cell_type": "code",
   "execution_count": 41,
   "metadata": {
    "colab": {},
    "colab_type": "code",
    "id": "SXhJsB6eFgrJ"
   },
   "outputs": [],
   "source": [
    "adam_optimizer = tf.keras.optimizers.Adam(learning_rate=0.001)\n",
    "model.compile(\n",
    "    optimizer=adam_optimizer,\n",
    "    loss=loss\n",
    ")"
   ]
  },
  {
   "cell_type": "markdown",
   "metadata": {
    "colab_type": "text",
    "id": "MK3Cf-xZFwL4"
   },
   "source": [
    "### Configure checkpoints"
   ]
  },
  {
   "cell_type": "code",
   "execution_count": 42,
   "metadata": {
    "colab": {},
    "colab_type": "code",
    "id": "7Jet-3Ps0-Ny"
   },
   "outputs": [],
   "source": [
    "# %rm -rf tmp/checkpoints"
   ]
  },
  {
   "cell_type": "code",
   "execution_count": 43,
   "metadata": {
    "colab": {},
    "colab_type": "code",
    "id": "LUhXnHPJFy5q"
   },
   "outputs": [],
   "source": [
    "# Directory where the checkpoints will be saved.\n",
    "checkpoint_dir = 'tmp/checkpoints'\n",
    "os.makedirs(checkpoint_dir, exist_ok=True)\n",
    "\n",
    "# Name of the checkpoint files\n",
    "checkpoint_prefix = os.path.join(checkpoint_dir, 'ckpt_{epoch}')\n",
    "\n",
    "checkpoint_callback=tf.keras.callbacks.ModelCheckpoint(\n",
    "    filepath=checkpoint_prefix,\n",
    "    save_weights_only=True\n",
    ")"
   ]
  },
  {
   "cell_type": "markdown",
   "metadata": {
    "colab_type": "text",
    "id": "oFg9MFJoGZWf"
   },
   "source": [
    "### Execute the training"
   ]
  },
  {
   "cell_type": "code",
   "execution_count": 68,
   "metadata": {
    "colab": {},
    "colab_type": "code",
    "id": "AVk-pARPGaja"
   },
   "outputs": [],
   "source": [
    "EPOCHS=100\n",
    "STEPS_PER_EPOCH = 10"
   ]
  },
  {
   "cell_type": "code",
   "execution_count": 77,
   "metadata": {
    "colab": {
     "base_uri": "https://localhost:8080/",
     "height": 1000
    },
    "colab_type": "code",
    "executionInfo": {
     "elapsed": 5855654,
     "status": "ok",
     "timestamp": 1586982233796,
     "user": {
      "displayName": "Oleksii Trekhleb",
      "photoUrl": "https://lh3.googleusercontent.com/a-/AOh14GiiA4aUKCbFho88Jd0WWMoAqQUt3jbuCtfNYpHVOA=s64",
      "userId": "03172675069638383074"
     },
     "user_tz": -120
    },
    "id": "y0rveBdAGeEz",
    "outputId": "1844d63b-85f6-4c40-97fd-dcc5b3a1c879"
   },
   "outputs": [
    {
     "name": "stdout",
     "output_type": "stream",
     "text": [
      "WARNING:tensorflow:sample_weight modes were coerced from\n",
      "  ...\n",
      "    to  \n",
      "  ['...']\n"
     ]
    },
    {
     "name": "stderr",
     "output_type": "stream",
     "text": [
      "WARNING:tensorflow:sample_weight modes were coerced from\n",
      "  ...\n",
      "    to  \n",
      "  ['...']\n"
     ]
    },
    {
     "name": "stdout",
     "output_type": "stream",
     "text": [
      "Train for 10 steps\n",
      "Epoch 1/20\n",
      "10/10 [==============================] - 160s 16s/step - loss: 1.8430\n",
      "Epoch 2/20\n",
      "10/10 [==============================] - 123s 12s/step - loss: 1.8730\n",
      "Epoch 3/20\n",
      "10/10 [==============================] - 123s 12s/step - loss: 1.8488\n",
      "Epoch 4/20\n",
      "10/10 [==============================] - 120s 12s/step - loss: 1.9130\n",
      "Epoch 5/20\n",
      "10/10 [==============================] - 129s 13s/step - loss: 1.8239\n",
      "Epoch 6/20\n",
      "10/10 [==============================] - 134s 13s/step - loss: 1.8694\n",
      "Epoch 7/20\n",
      "10/10 [==============================] - 144s 14s/step - loss: 1.8659\n",
      "Epoch 8/20\n",
      "10/10 [==============================] - 147s 15s/step - loss: 1.8980\n",
      "Epoch 9/20\n",
      "10/10 [==============================] - 116s 12s/step - loss: 1.8528\n",
      "Epoch 10/20\n",
      "10/10 [==============================] - 167s 17s/step - loss: 1.8473\n",
      "Epoch 11/20\n",
      "10/10 [==============================] - 127s 13s/step - loss: 2.0674\n",
      "Epoch 12/20\n",
      "10/10 [==============================] - 129s 13s/step - loss: 1.9241\n",
      "Epoch 13/20\n",
      "10/10 [==============================] - 149s 15s/step - loss: 1.8663\n",
      "Epoch 14/20\n",
      "10/10 [==============================] - 249s 25s/step - loss: 1.8460\n",
      "Epoch 15/20\n",
      "10/10 [==============================] - 207s 21s/step - loss: 1.8260\n",
      "Epoch 16/20\n",
      "10/10 [==============================] - 125s 13s/step - loss: 1.8388\n",
      "Epoch 17/20\n",
      "10/10 [==============================] - 116s 12s/step - loss: 1.8605\n",
      "Epoch 18/20\n",
      "10/10 [==============================] - 139s 14s/step - loss: 1.9736\n",
      "Epoch 19/20\n",
      "10/10 [==============================] - 138s 14s/step - loss: 1.8633\n",
      "Epoch 20/20\n",
      "10/10 [==============================] - 149s 15s/step - loss: 1.8095\n"
     ]
    }
   ],
   "source": [
    "tmp_dataset = dataset_sequence_batches.repeat()\n",
    "    \n",
    "history = model.fit(\n",
    "    x=tmp_dataset.as_numpy_iterator(),\n",
    "    epochs=EPOCHS,\n",
    "    steps_per_epoch=STEPS_PER_EPOCH,\n",
    "    callbacks=[\n",
    "        checkpoint_callback\n",
    "    ]\n",
    ")"
   ]
  },
  {
   "cell_type": "code",
   "execution_count": 46,
   "metadata": {
    "colab": {},
    "colab_type": "code",
    "id": "mLdnOyvzMggJ"
   },
   "outputs": [],
   "source": [
    "def render_training_history(training_history):\n",
    "    loss = training_history.history['loss']\n",
    "    plt.title('Loss')\n",
    "    plt.xlabel('Epoch')\n",
    "    plt.ylabel('Loss')\n",
    "    plt.plot(loss, label='Training set')\n",
    "    plt.legend()\n",
    "    plt.grid(linestyle='--', linewidth=1, alpha=0.5)\n",
    "    plt.show()"
   ]
  },
  {
   "cell_type": "code",
   "execution_count": 78,
   "metadata": {
    "colab": {
     "base_uri": "https://localhost:8080/",
     "height": 295
    },
    "colab_type": "code",
    "executionInfo": {
     "elapsed": 617,
     "status": "ok",
     "timestamp": 1586982234407,
     "user": {
      "displayName": "Oleksii Trekhleb",
      "photoUrl": "https://lh3.googleusercontent.com/a-/AOh14GiiA4aUKCbFho88Jd0WWMoAqQUt3jbuCtfNYpHVOA=s64",
      "userId": "03172675069638383074"
     },
     "user_tz": -120
    },
    "id": "4Ghveem_OQBV",
    "outputId": "b7e062f8-46ce-4669-e48a-9be5009d44e6"
   },
   "outputs": [
    {
     "data": {
      "image/png": "[encoded data removed]",
      "text/plain": [
       "<Figure size 432x288 with 1 Axes>"
      ]
     },
     "metadata": {
      "needs_background": "light"
     },
     "output_type": "display_data"
    }
   ],
   "source": [
    "render_training_history(history)"
   ]
  },
  {
   "cell_type": "markdown",
   "metadata": {
    "colab_type": "text",
    "id": "X-dhNP2OG2EM"
   },
   "source": [
    "## Generate text"
   ]
  },
  {
   "cell_type": "markdown",
   "metadata": {
    "colab_type": "text",
    "id": "SU_YfP6sG3NC"
   },
   "source": [
    "### Restore the latest checkpoint\n",
    "\n",
    "To keep this prediction step simple, use a batch size of 1.\n",
    "\n",
    "Because of the way the RNN state is passed from timestep to timestep, the model only accepts a fixed batch size once built.\n",
    "\n",
    "To run the model with a different `batch_size`, we need to rebuild the model and restore the weights from the checkpoint."
   ]
  },
  {
   "cell_type": "code",
   "execution_count": 79,
   "metadata": {
    "colab": {
     "base_uri": "https://localhost:8080/",
     "height": 34
    },
    "colab_type": "code",
    "executionInfo": {
     "elapsed": 23,
     "status": "ok",
     "timestamp": 1586982234408,
     "user": {
      "displayName": "Oleksii Trekhleb",
      "photoUrl": "https://lh3.googleusercontent.com/a-/AOh14GiiA4aUKCbFho88Jd0WWMoAqQUt3jbuCtfNYpHVOA=s64",
      "userId": "03172675069638383074"
     },
     "user_tz": -120
    },
    "id": "BlG8o3wiG6f2",
    "outputId": "944da6fc-cf4e-4833-e14e-2526aaf05445"
   },
   "outputs": [
    {
     "data": {
      "text/plain": [
       "'tmp/checkpoints/ckpt_20'"
      ]
     },
     "execution_count": 79,
     "metadata": {},
     "output_type": "execute_result"
    }
   ],
   "source": [
    "tf.train.latest_checkpoint(checkpoint_dir)"
   ]
  },
  {
   "cell_type": "code",
   "execution_count": 80,
   "metadata": {
    "colab": {},
    "colab_type": "code",
    "id": "l7evN0LvH01P"
   },
   "outputs": [],
   "source": [
    "simplified_batch_size = 1\n",
    "\n",
    "restored_model = build_model(vocab_size, embedding_dim, rnn_units, batch_size=1)\n",
    "\n",
    "restored_model.load_weights(tf.train.latest_checkpoint(checkpoint_dir))\n",
    "\n",
    "restored_model.build(tf.TensorShape([simplified_batch_size, None]))"
   ]
  },
  {
   "cell_type": "code",
   "execution_count": 81,
   "metadata": {
    "colab": {
     "base_uri": "https://localhost:8080/",
     "height": 255
    },
    "colab_type": "code",
    "executionInfo": {
     "elapsed": 60,
     "status": "ok",
     "timestamp": 1586982235202,
     "user": {
      "displayName": "Oleksii Trekhleb",
      "photoUrl": "https://lh3.googleusercontent.com/a-/AOh14GiiA4aUKCbFho88Jd0WWMoAqQUt3jbuCtfNYpHVOA=s64",
      "userId": "03172675069638383074"
     },
     "user_tz": -120
    },
    "id": "Y3eduDtZI9zQ",
    "outputId": "461d4fb4-8059-444e-b602-9b9977336609"
   },
   "outputs": [
    {
     "name": "stdout",
     "output_type": "stream",
     "text": [
      "Model: \"sequential_4\"\n",
      "_________________________________________________________________\n",
      "Layer (type)                 Output Shape              Param #   \n",
      "=================================================================\n",
      "embedding_4 (Embedding)      (1, None, 256)            158976    \n",
      "_________________________________________________________________\n",
      "lstm_3 (LSTM)                (1, None, 1024)           5246976   \n",
      "_________________________________________________________________\n",
      "dense_3 (Dense)              (1, None, 621)            636525    \n",
      "=================================================================\n",
      "Total params: 6,042,477\n",
      "Trainable params: 6,042,477\n",
      "Non-trainable params: 0\n",
      "_________________________________________________________________\n"
     ]
    }
   ],
   "source": [
    "restored_model.summary()"
   ]
  },
  {
   "cell_type": "markdown",
   "metadata": {
    "colab_type": "text",
    "id": "euNvAtr4JC3A"
   },
   "source": [
    "### The prediction loop\n",
    "\n",
    "The following code block generates the text:\n",
    "\n",
    "- It Starts by choosing a start string, initializing the RNN state and setting the number of characters to generate.\n",
    "\n",
    "- Get the prediction distribution of the next character using the start string and the RNN state.\n",
    "\n",
    "- Then, use a categorical distribution to calculate the index of the predicted character. Use this predicted character as our next input to the model.\n",
    "\n",
    "- The RNN state returned by the model is fed back into the model so that it now has more context, instead than only one character. After predicting the next character, the modified RNN states are again fed back into the model, which is how it learns as it gets more context from the previously predicted characters.\n",
    "\n",
    "![Prediction loop](https://www.tensorflow.org/tutorials/text/images/text_generation_sampling.png)\n",
    "\n",
    "Image source: [Text generation with an RNN](https://www.tensorflow.org/tutorials/text/text_generation) notebook."
   ]
  },
  {
   "cell_type": "code",
   "execution_count": 51,
   "metadata": {
    "colab": {},
    "colab_type": "code",
    "id": "bOqdqGouJFf_"
   },
   "outputs": [],
   "source": [
    "# num_generate\n",
    "# - number of characters to generate.\n",
    "#\n",
    "# temperature\n",
    "# - Low temperatures results in more predictable text.\n",
    "# - Higher temperatures results in more surprising text.\n",
    "# - Experiment to find the best setting.\n",
    "def generate_text(model, start_string, num_generate = 1000, temperature=1.0):\n",
    "    # Evaluation step (generating text using the learned model)\n",
    "\n",
    "    # Converting our start string to numbers (vectorizing).\n",
    "    input_indices = [char2index[s] for s in start_string]\n",
    "    input_indices = tf.expand_dims(input_indices, 0)\n",
    "\n",
    "    # Empty string to store our results.\n",
    "    text_generated = []\n",
    "\n",
    "    # Here batch size == 1.\n",
    "    model.reset_states()\n",
    "    for char_index in range(num_generate):\n",
    "        predictions = model(input_indices)\n",
    "        # remove the batch dimension\n",
    "        predictions = tf.squeeze(predictions, 0)\n",
    "\n",
    "        # Using a categorical distribution to predict the character returned by the model.\n",
    "        predictions = predictions / temperature\n",
    "        predicted_id = tf.random.categorical(\n",
    "        predictions,\n",
    "        num_samples=1\n",
    "        )[-1,0].numpy()\n",
    "\n",
    "        # We pass the predicted character as the next input to the model\n",
    "        # along with the previous hidden state.\n",
    "        input_indices = tf.expand_dims([predicted_id], 0)\n",
    "\n",
    "        text_generated.append(index2char[predicted_id])\n",
    "\n",
    "    return (start_string + ''.join(text_generated))"
   ]
  },
  {
   "cell_type": "code",
   "execution_count": 113,
   "metadata": {},
   "outputs": [
    {
     "name": "stdout",
     "output_type": "stream",
     "text": [
      "Temperature: 0.2\n",
      "---\n",
      "Philosophy is a completed to the United State of the South County of the United to the contraction of the series in the companies in the former of the series and the consident of the first the series in the 1943 and the series of the series of the consident of the company of the series in the commited the compan\n",
      "\n",
      "\n",
      "Temperature: 0.4\n",
      "---\n",
      "Philosophy is a complete became player of the Charles County (1997) is a signal for a posts. The community of the album for the completed in Manuary and Sharbard Fore and works on the strace and several for the 2007) in the contruction of the second became the tability of the contract of the work the located the\n",
      "\n",
      "\n",
      "Temperature: 0.6\n",
      "---\n",
      "Philosophy is clut resperient in the mage of the new original popular players. In 1983 sereval in 1973 and encommition in 2002 and the internated to be an Animater of India Salos.\n",
      "\n",
      "Herring and commition of the former for enternal list on a To sirge of the President and invides that the consearces.\n",
      "\n",
      "The represent\n",
      "\n",
      "\n",
      "Temperature: 0.8\n",
      "---\n",
      "Philosophy issueded in 1956.\n",
      "\n",
      "Insomational was recordings in Berna (\". Mancher Rongh-Parning Aintina Naewass\n",
      " Toldon South Tapan to German. Liedra from a commase abong s song.\n",
      "\n",
      "Hiscuring provide residentabe over to sestens.\n",
      "\n",
      "The edenged football office of Graid called by school winder and same and theee seagen. \n",
      "\n",
      "\n",
      "Temperature: 1.0\n",
      "---\n",
      "Philosophy is the state: Siving in the Radel Hest is conselt to beined forsthese the lines for inviderance.\n",
      "\n",
      "\n",
      "He has Wedeno's 7, and for The 1970s injusts,  Coilo. This criment and contribeta by metali (1975 which is my and a were is not crue was beed huservice doorumeral 1988, hurch the lown as parrets\n",
      "Category\n",
      "\n",
      "\n",
      "Temperature: 1.2\n",
      "---\n",
      "Philosophy is Troundous' beforningry (Tommon Madepor Neatis was nothe, edia nem these aftred a Fe namo incrides \"the.\n",
      "\n",
      "HisNixoneldarks by it a namer 0hate Ecrowniqueary Its to a invivisional and is becape Roudhand. ( 1024. The polvedutions\n",
      "Outurgun vany: Hor\" HeopAlsEashi, Nengs, Boanson 7t, Hatrlees. The cunni \n",
      "\n",
      "\n"
     ]
    }
   ],
   "source": [
    "num_generate = 300\n",
    "temperatures = [0.2, 0.4, 0.6, 0.8, 1.0, 1.2]\n",
    "start_string = 'Philosophy is'\n",
    "\n",
    "for temperature in temperatures:\n",
    "    print(\"Temperature: {}\".format(temperature))\n",
    "    print('---')\n",
    "    print(generate_text(restored_model, start_string, num_generate=num_generate, temperature=temperature))\n",
    "    print('\\n')"
   ]
  },
  {
   "cell_type": "markdown",
   "metadata": {
    "colab_type": "text",
    "id": "0hh80MqEO_XI"
   },
   "source": [
    "## Save the model"
   ]
  },
  {
   "cell_type": "code",
   "execution_count": 109,
   "metadata": {
    "colab": {},
    "colab_type": "code",
    "id": "VPE98xa8PA-u"
   },
   "outputs": [],
   "source": [
    "model_name = 'text_generation_wikipedia_rnn.h5'\n",
    "restored_model.save(model_name, save_format='h5')"
   ]
  },
  {
   "cell_type": "markdown",
   "metadata": {
    "colab_type": "text",
    "id": "WYP08xbbTNKp"
   },
   "source": [
    "## Converting the model to web-format\n",
    "\n",
    "To use this model on the web we need to convert it into the format that will be understandable by [tensorflowjs](https://www.tensorflow.org/js). To do so we may use [tfjs-converter](https://github.com/tensorflow/tfjs/tree/master/tfjs-converter) as following:\n",
    "\n",
    "```\n",
    "tensorflowjs_converter --input_format keras \\\n",
    "  ./experiments/text_generation_wikipedia_rnn/text_generation_wikipedia_rnn.h5 \\\n",
    "  ./demos/public/models/text_generation_wikipedia_rnn\n",
    "```\n",
    "\n",
    "You find this experiment in the [Demo app](https://trekhleb.github.io/machine-learning-experiments) and play around with it right in you browser to see how the model performs in real life."
   ]
  }
 ],
 "metadata": {
  "accelerator": "GPU",
  "colab": {
   "collapsed_sections": [],
   "name": "text_generation_wikipedia_rnn.ipynb",
   "provenance": [],
   "toc_visible": true
  },
  "kernelspec": {
   "display_name": "Python 3",
   "language": "python",
   "name": "python3"
  },
  "language_info": {
   "codemirror_mode": {
    "name": "ipython",
    "version": 3
   },
   "file_extension": ".py",
   "mimetype": "text/x-python",
   "name": "python",
   "nbconvert_exporter": "python",
   "pygments_lexer": "ipython3",
   "version": "3.7.6"
  }
 },
 "nbformat": 4,
 "nbformat_minor": 1
}
