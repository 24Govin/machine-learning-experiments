{
 "cells": [
  {
   "cell_type": "markdown",
   "metadata": {
    "colab_type": "text",
    "id": "wAMRwrH0Qg22"
   },
   "source": [
    "# Deep Convolutional Generative Adversarial Network"
   ]
  },
  {
   "cell_type": "markdown",
   "metadata": {
    "colab_type": "text",
    "id": "Ul5K4DQaQg23"
   },
   "source": [
    "Source: https://www.tensorflow.org/tutorials/generative/dcgan"
   ]
  },
  {
   "cell_type": "markdown",
   "metadata": {
    "colab_type": "text",
    "id": "dhA2OtD0Qg24"
   },
   "source": [
    "## Import dependencies"
   ]
  },
  {
   "cell_type": "code",
   "execution_count": 1,
   "metadata": {
    "colab": {
     "base_uri": "https://localhost:8080/",
     "height": 68
    },
    "colab_type": "code",
    "executionInfo": {
     "elapsed": 2005,
     "status": "ok",
     "timestamp": 1590321301038,
     "user": {
      "displayName": "Oleksii Trekhleb",
      "photoUrl": "https://lh3.googleusercontent.com/a-/AOh14GiiA4aUKCbFho88Jd0WWMoAqQUt3jbuCtfNYpHVOA=s64",
      "userId": "03172675069638383074"
     },
     "user_tz": -120
    },
    "id": "da0YhaOJQg25",
    "outputId": "c9883cac-1dfd-4e03-d34d-af9a0fea9781"
   },
   "outputs": [
    {
     "name": "stdout",
     "output_type": "stream",
     "text": [
      "Python version: 3.7.6\n",
      "Tensorflow version: 2.1.0\n",
      "Keras version: 2.2.4-tf\n"
     ]
    }
   ],
   "source": [
    "import tensorflow as tf\n",
    "import matplotlib.pyplot as plt\n",
    "import numpy as np\n",
    "import math\n",
    "import datetime\n",
    "import platform\n",
    "import imageio\n",
    "import PIL\n",
    "import time\n",
    "import os\n",
    "import glob\n",
    "import zipfile\n",
    "\n",
    "from IPython import display\n",
    "\n",
    "print('Python version:', platform.python_version())\n",
    "print('Tensorflow version:', tf.__version__)\n",
    "print('Keras version:', tf.keras.__version__)"
   ]
  },
  {
   "cell_type": "code",
   "execution_count": 2,
   "metadata": {
    "colab": {
     "base_uri": "https://localhost:8080/",
     "height": 34
    },
    "colab_type": "code",
    "executionInfo": {
     "elapsed": 2175,
     "status": "ok",
     "timestamp": 1590321301233,
     "user": {
      "displayName": "Oleksii Trekhleb",
      "photoUrl": "https://lh3.googleusercontent.com/a-/AOh14GiiA4aUKCbFho88Jd0WWMoAqQUt3jbuCtfNYpHVOA=s64",
      "userId": "03172675069638383074"
     },
     "user_tz": -120
    },
    "id": "0GRH9c5coMoK",
    "outputId": "9258fb16-c98f-48c5-b05a-58d818502451"
   },
   "outputs": [
    {
     "data": {
      "text/plain": [
       "True"
      ]
     },
     "execution_count": 2,
     "metadata": {},
     "output_type": "execute_result"
    }
   ],
   "source": [
    "# Checking the eager execution availability.\n",
    "tf.executing_eagerly()"
   ]
  },
  {
   "cell_type": "markdown",
   "metadata": {
    "colab_type": "text",
    "id": "bhS6rs6eQg29"
   },
   "source": [
    "## Load data"
   ]
  },
  {
   "cell_type": "code",
   "execution_count": 3,
   "metadata": {
    "colab": {},
    "colab_type": "code",
    "id": "FpudNNDnQg2-"
   },
   "outputs": [
    {
     "name": "stdout",
     "output_type": "stream",
     "text": [
      "Downloading data from https://storage.googleapis.com/tensorflow/tf-keras-datasets/train-labels-idx1-ubyte.gz\n",
      "32768/29515 [=================================] - 0s 1us/step\n",
      "Downloading data from https://storage.googleapis.com/tensorflow/tf-keras-datasets/train-images-idx3-ubyte.gz\n",
      "26427392/26421880 [==============================] - 3s 0us/step\n",
      "Downloading data from https://storage.googleapis.com/tensorflow/tf-keras-datasets/t10k-labels-idx1-ubyte.gz\n",
      "8192/5148 [===============================================] - 0s 1us/step\n",
      "Downloading data from https://storage.googleapis.com/tensorflow/tf-keras-datasets/t10k-images-idx3-ubyte.gz\n",
      "4423680/4422102 [==============================] - 1s 0us/step\n"
     ]
    }
   ],
   "source": [
    "(x_train, y_train), (x_test, y_test) = tf.keras.datasets.fashion_mnist.load_data()"
   ]
  },
  {
   "cell_type": "code",
   "execution_count": 4,
   "metadata": {
    "colab": {
     "base_uri": "https://localhost:8080/",
     "height": 102
    },
    "colab_type": "code",
    "executionInfo": {
     "elapsed": 2770,
     "status": "ok",
     "timestamp": 1590321301868,
     "user": {
      "displayName": "Oleksii Trekhleb",
      "photoUrl": "https://lh3.googleusercontent.com/a-/AOh14GiiA4aUKCbFho88Jd0WWMoAqQUt3jbuCtfNYpHVOA=s64",
      "userId": "03172675069638383074"
     },
     "user_tz": -120
    },
    "id": "IzIOnN83Qg3C",
    "outputId": "6cb99960-0bd6-42ef-9773-5da3d0824fd8"
   },
   "outputs": [
    {
     "name": "stdout",
     "output_type": "stream",
     "text": [
      "x_train.shape:  (60000, 28, 28)\n",
      "y_train.shape:  (60000,)\n",
      "\n",
      "x_test.shape:  (10000, 28, 28)\n",
      "y_test.shape:  (10000,)\n"
     ]
    }
   ],
   "source": [
    "print('x_train.shape: ', x_train.shape)\n",
    "print('y_train.shape: ', y_train.shape)\n",
    "print()\n",
    "print('x_test.shape: ', x_test.shape)\n",
    "print('y_test.shape: ', y_test.shape)"
   ]
  },
  {
   "cell_type": "code",
   "execution_count": 5,
   "metadata": {
    "colab": {
     "base_uri": "https://localhost:8080/",
     "height": 34
    },
    "colab_type": "code",
    "executionInfo": {
     "elapsed": 2753,
     "status": "ok",
     "timestamp": 1590321301869,
     "user": {
      "displayName": "Oleksii Trekhleb",
      "photoUrl": "https://lh3.googleusercontent.com/a-/AOh14GiiA4aUKCbFho88Jd0WWMoAqQUt3jbuCtfNYpHVOA=s64",
      "userId": "03172675069638383074"
     },
     "user_tz": -120
    },
    "id": "gdfkpOpMVDkh",
    "outputId": "0a9a586c-fb76-4907-cd44-a356e52ab6c8"
   },
   "outputs": [
    {
     "name": "stdout",
     "output_type": "stream",
     "text": [
      "x_train.shape:  (70000, 28, 28)\n"
     ]
    }
   ],
   "source": [
    "# Since we don't need test examples we may concatenate both sets\n",
    "x_train = np.concatenate((x_train, x_test), axis=0)\n",
    "\n",
    "print('x_train.shape: ', x_train.shape)"
   ]
  },
  {
   "cell_type": "code",
   "execution_count": 6,
   "metadata": {
    "colab": {
     "base_uri": "https://localhost:8080/",
     "height": 34
    },
    "colab_type": "code",
    "executionInfo": {
     "elapsed": 2732,
     "status": "ok",
     "timestamp": 1590321301871,
     "user": {
      "displayName": "Oleksii Trekhleb",
      "photoUrl": "https://lh3.googleusercontent.com/a-/AOh14GiiA4aUKCbFho88Jd0WWMoAqQUt3jbuCtfNYpHVOA=s64",
      "userId": "03172675069638383074"
     },
     "user_tz": -120
    },
    "id": "vq-kHJWm1uAn",
    "outputId": "4b5c3cea-d77e-498a-a87e-dba3df91c3f7"
   },
   "outputs": [
    {
     "name": "stdout",
     "output_type": "stream",
     "text": [
      "TOTAL_EXAMPLES_NUM:  70000\n"
     ]
    }
   ],
   "source": [
    "TOTAL_EXAMPLES_NUM = x_train.shape[0]\n",
    "\n",
    "print('TOTAL_EXAMPLES_NUM: ', TOTAL_EXAMPLES_NUM)"
   ]
  },
  {
   "cell_type": "code",
   "execution_count": 7,
   "metadata": {
    "colab": {
     "base_uri": "https://localhost:8080/",
     "height": 34
    },
    "colab_type": "code",
    "executionInfo": {
     "elapsed": 2701,
     "status": "ok",
     "timestamp": 1590321301871,
     "user": {
      "displayName": "Oleksii Trekhleb",
      "photoUrl": "https://lh3.googleusercontent.com/a-/AOh14GiiA4aUKCbFho88Jd0WWMoAqQUt3jbuCtfNYpHVOA=s64",
      "userId": "03172675069638383074"
     },
     "user_tz": -120
    },
    "id": "nMQ3k3-bQg3E",
    "outputId": "8a985f2c-e814-4f91-c714-ec0c7788146f"
   },
   "outputs": [
    {
     "name": "stdout",
     "output_type": "stream",
     "text": [
      "9\n"
     ]
    }
   ],
   "source": [
    "print(y_train[0])"
   ]
  },
  {
   "cell_type": "markdown",
   "metadata": {
    "colab_type": "text",
    "id": "dU36mGsZUdah"
   },
   "source": [
    "<table>\n",
    "  <tr>\n",
    "    <th>Label</th>\n",
    "    <th>Class</th>\n",
    "  </tr>\n",
    "  <tr>\n",
    "    <td>0</td>\n",
    "    <td>T-shirt/top</td>\n",
    "  </tr>\n",
    "  <tr>\n",
    "    <td>1</td>\n",
    "    <td>Trouser</td>\n",
    "  </tr>\n",
    "    <tr>\n",
    "    <td>2</td>\n",
    "    <td>Pullover</td>\n",
    "  </tr>\n",
    "    <tr>\n",
    "    <td>3</td>\n",
    "    <td>Dress</td>\n",
    "  </tr>\n",
    "    <tr>\n",
    "    <td>4</td>\n",
    "    <td>Coat</td>\n",
    "  </tr>\n",
    "    <tr>\n",
    "    <td>5</td>\n",
    "    <td>Sandal</td>\n",
    "  </tr>\n",
    "    <tr>\n",
    "    <td>6</td>\n",
    "    <td>Shirt</td>\n",
    "  </tr>\n",
    "    <tr>\n",
    "    <td>7</td>\n",
    "    <td>Sneaker</td>\n",
    "  </tr>\n",
    "    <tr>\n",
    "    <td>8</td>\n",
    "    <td>Bag</td>\n",
    "  </tr>\n",
    "    <tr>\n",
    "    <td>9</td>\n",
    "    <td>Ankle boot</td>\n",
    "  </tr>\n",
    "</table>"
   ]
  },
  {
   "cell_type": "code",
   "execution_count": 8,
   "metadata": {
    "colab": {},
    "colab_type": "code",
    "id": "QAt2BI2HUhfE"
   },
   "outputs": [],
   "source": [
    "class_names = [\n",
    "    'T-shirt/top',\n",
    "    'Trouser',\n",
    "    'Pullover',\n",
    "    'Dress',\n",
    "    'Coat',\n",
    "    'Sandal',\n",
    "    'Shirt',\n",
    "    'Sneaker',\n",
    "    'Bag',\n",
    "    'Ankle boot'\n",
    "]"
   ]
  },
  {
   "cell_type": "code",
   "execution_count": 9,
   "metadata": {
    "colab": {
     "base_uri": "https://localhost:8080/",
     "height": 969
    },
    "colab_type": "code",
    "executionInfo": {
     "elapsed": 2649,
     "status": "ok",
     "timestamp": 1590321301873,
     "user": {
      "displayName": "Oleksii Trekhleb",
      "photoUrl": "https://lh3.googleusercontent.com/a-/AOh14GiiA4aUKCbFho88Jd0WWMoAqQUt3jbuCtfNYpHVOA=s64",
      "userId": "03172675069638383074"
     },
     "user_tz": -120
    },
    "id": "IgxI7eYBQg3H",
    "outputId": "859f01d2-b72e-4e14-cfe4-a2f2f8bd3f9d"
   },
   "outputs": [
    {
     "name": "stdout",
     "output_type": "stream",
     "text": [
      "[[  0   0   0   0   0   0   0   0   0   0   0   0   0   0   0   0   0   0\n",
      "    0   0   0   0   0   0   0   0   0   0]\n",
      " [  0   0   0   0   0   0   0   0   0   0   0   0   0   0   0   0   0   0\n",
      "    0   0   0   0   0   0   0   0   0   0]\n",
      " [  0   0   0   0   0   0   0   0   0   0   0   0   0   0   0   0   0   0\n",
      "    0   0   0   0   0   0   0   0   0   0]\n",
      " [  0   0   0   0   0   0   0   0   0   0   0   0   1   0   0  13  73   0\n",
      "    0   1   4   0   0   0   0   1   1   0]\n",
      " [  0   0   0   0   0   0   0   0   0   0   0   0   3   0  36 136 127  62\n",
      "   54   0   0   0   1   3   4   0   0   3]\n",
      " [  0   0   0   0   0   0   0   0   0   0   0   0   6   0 102 204 176 134\n",
      "  144 123  23   0   0   0   0  12  10   0]\n",
      " [  0   0   0   0   0   0   0   0   0   0   0   0   0   0 155 236 207 178\n",
      "  107 156 161 109  64  23  77 130  72  15]\n",
      " [  0   0   0   0   0   0   0   0   0   0   0   1   0  69 207 223 218 216\n",
      "  216 163 127 121 122 146 141  88 172  66]\n",
      " [  0   0   0   0   0   0   0   0   0   1   1   1   0 200 232 232 233 229\n",
      "  223 223 215 213 164 127 123 196 229   0]\n",
      " [  0   0   0   0   0   0   0   0   0   0   0   0   0 183 225 216 223 228\n",
      "  235 227 224 222 224 221 223 245 173   0]\n",
      " [  0   0   0   0   0   0   0   0   0   0   0   0   0 193 228 218 213 198\n",
      "  180 212 210 211 213 223 220 243 202   0]\n",
      " [  0   0   0   0   0   0   0   0   0   1   3   0  12 219 220 212 218 192\n",
      "  169 227 208 218 224 212 226 197 209  52]\n",
      " [  0   0   0   0   0   0   0   0   0   0   6   0  99 244 222 220 218 203\n",
      "  198 221 215 213 222 220 245 119 167  56]\n",
      " [  0   0   0   0   0   0   0   0   0   4   0   0  55 236 228 230 228 240\n",
      "  232 213 218 223 234 217 217 209  92   0]\n",
      " [  0   0   1   4   6   7   2   0   0   0   0   0 237 226 217 223 222 219\n",
      "  222 221 216 223 229 215 218 255  77   0]\n",
      " [  0   3   0   0   0   0   0   0   0  62 145 204 228 207 213 221 218 208\n",
      "  211 218 224 223 219 215 224 244 159   0]\n",
      " [  0   0   0   0  18  44  82 107 189 228 220 222 217 226 200 205 211 230\n",
      "  224 234 176 188 250 248 233 238 215   0]\n",
      " [  0  57 187 208 224 221 224 208 204 214 208 209 200 159 245 193 206 223\n",
      "  255 255 221 234 221 211 220 232 246   0]\n",
      " [  3 202 228 224 221 211 211 214 205 205 205 220 240  80 150 255 229 221\n",
      "  188 154 191 210 204 209 222 228 225   0]\n",
      " [ 98 233 198 210 222 229 229 234 249 220 194 215 217 241  65  73 106 117\n",
      "  168 219 221 215 217 223 223 224 229  29]\n",
      " [ 75 204 212 204 193 205 211 225 216 185 197 206 198 213 240 195 227 245\n",
      "  239 223 218 212 209 222 220 221 230  67]\n",
      " [ 48 203 183 194 213 197 185 190 194 192 202 214 219 221 220 236 225 216\n",
      "  199 206 186 181 177 172 181 205 206 115]\n",
      " [  0 122 219 193 179 171 183 196 204 210 213 207 211 210 200 196 194 191\n",
      "  195 191 198 192 176 156 167 177 210  92]\n",
      " [  0   0  74 189 212 191 175 172 175 181 185 188 189 188 193 198 204 209\n",
      "  210 210 211 188 188 194 192 216 170   0]\n",
      " [  2   0   0   0  66 200 222 237 239 242 246 243 244 221 220 193 191 179\n",
      "  182 182 181 176 166 168  99  58   0   0]\n",
      " [  0   0   0   0   0   0   0  40  61  44  72  41  35   0   0   0   0   0\n",
      "    0   0   0   0   0   0   0   0   0   0]\n",
      " [  0   0   0   0   0   0   0   0   0   0   0   0   0   0   0   0   0   0\n",
      "    0   0   0   0   0   0   0   0   0   0]\n",
      " [  0   0   0   0   0   0   0   0   0   0   0   0   0   0   0   0   0   0\n",
      "    0   0   0   0   0   0   0   0   0   0]]\n"
     ]
    }
   ],
   "source": [
    "print(x_train[0])"
   ]
  },
  {
   "cell_type": "code",
   "execution_count": 10,
   "metadata": {
    "colab": {
     "base_uri": "https://localhost:8080/",
     "height": 159
    },
    "colab_type": "code",
    "executionInfo": {
     "elapsed": 2742,
     "status": "ok",
     "timestamp": 1590321302070,
     "user": {
      "displayName": "Oleksii Trekhleb",
      "photoUrl": "https://lh3.googleusercontent.com/a-/AOh14GiiA4aUKCbFho88Jd0WWMoAqQUt3jbuCtfNYpHVOA=s64",
      "userId": "03172675069638383074"
     },
     "user_tz": -120
    },
    "id": "OrF5eitkTGnv",
    "outputId": "86b81d90-a38d-4fa4-bf88-0370f1fa056d"
   },
   "outputs": [
    {
     "data": {
      "image/png": "[encoded data removed]",
      "text/plain": [
       "<Figure size 144x144 with 1 Axes>"
      ]
     },
     "metadata": {
      "needs_background": "light"
     },
     "output_type": "display_data"
    }
   ],
   "source": [
    "plt.figure(figsize=(2, 2))\n",
    "plt.imshow(x_train[0], cmap=plt.cm.binary)\n",
    "plt.show()"
   ]
  },
  {
   "cell_type": "code",
   "execution_count": 11,
   "metadata": {
    "colab": {
     "base_uri": "https://localhost:8080/",
     "height": 480
    },
    "colab_type": "code",
    "executionInfo": {
     "elapsed": 4327,
     "status": "ok",
     "timestamp": 1590321303759,
     "user": {
      "displayName": "Oleksii Trekhleb",
      "photoUrl": "https://lh3.googleusercontent.com/a-/AOh14GiiA4aUKCbFho88Jd0WWMoAqQUt3jbuCtfNYpHVOA=s64",
      "userId": "03172675069638383074"
     },
     "user_tz": -120
    },
    "id": "g6bruiW1UDCf",
    "outputId": "72178b74-881f-467a-980e-132f70f8f34e"
   },
   "outputs": [
    {
     "data": {
      "image/png": "[encoded data removed]",
      "text/plain": [
       "<Figure size 576x576 with 25 Axes>"
      ]
     },
     "metadata": {},
     "output_type": "display_data"
    }
   ],
   "source": [
    "numbers_to_display = 25\n",
    "num_cells = math.ceil(math.sqrt(numbers_to_display))\n",
    "plt.figure(figsize=(8, 8))\n",
    "for i in range(numbers_to_display):\n",
    "    plt.subplot(num_cells, num_cells, i+1)\n",
    "    plt.xticks([])\n",
    "    plt.yticks([])\n",
    "    plt.grid(False)\n",
    "    plt.imshow(x_train[i], cmap=plt.cm.binary)\n",
    "    plt.xlabel(class_names[y_train[i]])\n",
    "plt.show()"
   ]
  },
  {
   "cell_type": "markdown",
   "metadata": {
    "colab_type": "text",
    "id": "d9oigte8Qg3K"
   },
   "source": [
    "## Reshape and normalize data"
   ]
  },
  {
   "cell_type": "code",
   "execution_count": 12,
   "metadata": {
    "colab": {},
    "colab_type": "code",
    "id": "rwR2rlJxQg3K"
   },
   "outputs": [],
   "source": [
    "x_train_reshaped = x_train.reshape(\n",
    "    x_train.shape[0],\n",
    "    x_train.shape[1],\n",
    "    x_train.shape[2],\n",
    "    1\n",
    ").astype('float32')"
   ]
  },
  {
   "cell_type": "code",
   "execution_count": 13,
   "metadata": {
    "colab": {
     "base_uri": "https://localhost:8080/",
     "height": 34
    },
    "colab_type": "code",
    "executionInfo": {
     "elapsed": 4251,
     "status": "ok",
     "timestamp": 1590321303761,
     "user": {
      "displayName": "Oleksii Trekhleb",
      "photoUrl": "https://lh3.googleusercontent.com/a-/AOh14GiiA4aUKCbFho88Jd0WWMoAqQUt3jbuCtfNYpHVOA=s64",
      "userId": "03172675069638383074"
     },
     "user_tz": -120
    },
    "id": "Fu6yWsH4Qg3N",
    "outputId": "87ffb83c-8308-46aa-bb7c-f781e8315a52"
   },
   "outputs": [
    {
     "name": "stdout",
     "output_type": "stream",
     "text": [
      "x_train_reshaped.shape:  (70000, 28, 28, 1)\n"
     ]
    }
   ],
   "source": [
    "print('x_train_reshaped.shape: ', x_train_reshaped.shape)"
   ]
  },
  {
   "cell_type": "code",
   "execution_count": 14,
   "metadata": {
    "colab": {},
    "colab_type": "code",
    "id": "PH6iywK4Qg3Q"
   },
   "outputs": [],
   "source": [
    "# Normalize image pixel values to [-1, 1] range\n",
    "x_train_normalized = (x_train_reshaped - 127.5) / 127.5"
   ]
  },
  {
   "cell_type": "code",
   "execution_count": 15,
   "metadata": {
    "colab": {
     "base_uri": "https://localhost:8080/",
     "height": 1000
    },
    "colab_type": "code",
    "executionInfo": {
     "elapsed": 4189,
     "status": "ok",
     "timestamp": 1590321303764,
     "user": {
      "displayName": "Oleksii Trekhleb",
      "photoUrl": "https://lh3.googleusercontent.com/a-/AOh14GiiA4aUKCbFho88Jd0WWMoAqQUt3jbuCtfNYpHVOA=s64",
      "userId": "03172675069638383074"
     },
     "user_tz": -120
    },
    "id": "qkl5tKIJQg3T",
    "outputId": "d283b1be-ce27-460d-d933-b650a8c3d396"
   },
   "outputs": [
    {
     "name": "stdout",
     "output_type": "stream",
     "text": [
      "[[[-1.        ]\n",
      "  [-1.        ]\n",
      "  [-1.        ]\n",
      "  [-1.        ]\n",
      "  [-1.        ]\n",
      "  [-1.        ]\n",
      "  [-1.        ]\n",
      "  [-1.        ]\n",
      "  [-1.        ]\n",
      "  [-1.        ]\n",
      "  [-1.        ]\n",
      "  [-1.        ]\n",
      "  [-1.        ]\n",
      "  [-1.        ]\n",
      "  [-1.        ]\n",
      "  [-1.        ]\n",
      "  [-1.        ]\n",
      "  [-1.        ]\n",
      "  [-1.        ]\n",
      "  [-1.        ]\n",
      "  [-1.        ]\n",
      "  [-1.        ]\n",
      "  [-1.        ]\n",
      "  [-1.        ]\n",
      "  [-1.        ]\n",
      "  [-1.        ]\n",
      "  [-1.        ]\n",
      "  [-1.        ]]\n",
      "\n",
      " [[-1.        ]\n",
      "  [-1.        ]\n",
      "  [-1.        ]\n",
      "  [-1.        ]\n",
      "  [-1.        ]\n",
      "  [-1.        ]\n",
      "  [-1.        ]\n",
      "  [-1.        ]\n",
      "  [-1.        ]\n",
      "  [-1.        ]\n",
      "  [-1.        ]\n",
      "  [-1.        ]\n",
      "  [-1.        ]\n",
      "  [-1.        ]\n",
      "  [-1.        ]\n",
      "  [-1.        ]\n",
      "  [-1.        ]\n",
      "  [-1.        ]\n",
      "  [-1.        ]\n",
      "  [-1.        ]\n",
      "  [-1.        ]\n",
      "  [-1.        ]\n",
      "  [-1.        ]\n",
      "  [-1.        ]\n",
      "  [-1.        ]\n",
      "  [-1.        ]\n",
      "  [-1.        ]\n",
      "  [-1.        ]]\n",
      "\n",
      " [[-1.        ]\n",
      "  [-1.        ]\n",
      "  [-1.        ]\n",
      "  [-1.        ]\n",
      "  [-1.        ]\n",
      "  [-1.        ]\n",
      "  [-1.        ]\n",
      "  [-1.        ]\n",
      "  [-1.        ]\n",
      "  [-1.        ]\n",
      "  [-1.        ]\n",
      "  [-1.        ]\n",
      "  [-1.        ]\n",
      "  [-1.        ]\n",
      "  [-1.        ]\n",
      "  [-1.        ]\n",
      "  [-1.        ]\n",
      "  [-1.        ]\n",
      "  [-1.        ]\n",
      "  [-1.        ]\n",
      "  [-1.        ]\n",
      "  [-1.        ]\n",
      "  [-1.        ]\n",
      "  [-1.        ]\n",
      "  [-1.        ]\n",
      "  [-1.        ]\n",
      "  [-1.        ]\n",
      "  [-1.        ]]\n",
      "\n",
      " [[-1.        ]\n",
      "  [-1.        ]\n",
      "  [-1.        ]\n",
      "  [-1.        ]\n",
      "  [-1.        ]\n",
      "  [-1.        ]\n",
      "  [-1.        ]\n",
      "  [-1.        ]\n",
      "  [-1.        ]\n",
      "  [-1.        ]\n",
      "  [-1.        ]\n",
      "  [-1.        ]\n",
      "  [-0.99215686]\n",
      "  [-1.        ]\n",
      "  [-1.        ]\n",
      "  [-0.8980392 ]\n",
      "  [-0.42745098]\n",
      "  [-1.        ]\n",
      "  [-1.        ]\n",
      "  [-0.99215686]\n",
      "  [-0.96862745]\n",
      "  [-1.        ]\n",
      "  [-1.        ]\n",
      "  [-1.        ]\n",
      "  [-1.        ]\n",
      "  [-0.99215686]\n",
      "  [-0.99215686]\n",
      "  [-1.        ]]\n",
      "\n",
      " [[-1.        ]\n",
      "  [-1.        ]\n",
      "  [-1.        ]\n",
      "  [-1.        ]\n",
      "  [-1.        ]\n",
      "  [-1.        ]\n",
      "  [-1.        ]\n",
      "  [-1.        ]\n",
      "  [-1.        ]\n",
      "  [-1.        ]\n",
      "  [-1.        ]\n",
      "  [-1.        ]\n",
      "  [-0.9764706 ]\n",
      "  [-1.        ]\n",
      "  [-0.7176471 ]\n",
      "  [ 0.06666667]\n",
      "  [-0.00392157]\n",
      "  [-0.5137255 ]\n",
      "  [-0.5764706 ]\n",
      "  [-1.        ]\n",
      "  [-1.        ]\n",
      "  [-1.        ]\n",
      "  [-0.99215686]\n",
      "  [-0.9764706 ]\n",
      "  [-0.96862745]\n",
      "  [-1.        ]\n",
      "  [-1.        ]\n",
      "  [-0.9764706 ]]\n",
      "\n",
      " [[-1.        ]\n",
      "  [-1.        ]\n",
      "  [-1.        ]\n",
      "  [-1.        ]\n",
      "  [-1.        ]\n",
      "  [-1.        ]\n",
      "  [-1.        ]\n",
      "  [-1.        ]\n",
      "  [-1.        ]\n",
      "  [-1.        ]\n",
      "  [-1.        ]\n",
      "  [-1.        ]\n",
      "  [-0.9529412 ]\n",
      "  [-1.        ]\n",
      "  [-0.2       ]\n",
      "  [ 0.6       ]\n",
      "  [ 0.38039216]\n",
      "  [ 0.05098039]\n",
      "  [ 0.12941177]\n",
      "  [-0.03529412]\n",
      "  [-0.81960785]\n",
      "  [-1.        ]\n",
      "  [-1.        ]\n",
      "  [-1.        ]\n",
      "  [-1.        ]\n",
      "  [-0.90588236]\n",
      "  [-0.92156863]\n",
      "  [-1.        ]]\n",
      "\n",
      " [[-1.        ]\n",
      "  [-1.        ]\n",
      "  [-1.        ]\n",
      "  [-1.        ]\n",
      "  [-1.        ]\n",
      "  [-1.        ]\n",
      "  [-1.        ]\n",
      "  [-1.        ]\n",
      "  [-1.        ]\n",
      "  [-1.        ]\n",
      "  [-1.        ]\n",
      "  [-1.        ]\n",
      "  [-1.        ]\n",
      "  [-1.        ]\n",
      "  [ 0.21568628]\n",
      "  [ 0.8509804 ]\n",
      "  [ 0.62352943]\n",
      "  [ 0.39607844]\n",
      "  [-0.16078432]\n",
      "  [ 0.22352941]\n",
      "  [ 0.2627451 ]\n",
      "  [-0.14509805]\n",
      "  [-0.49803922]\n",
      "  [-0.81960785]\n",
      "  [-0.39607844]\n",
      "  [ 0.01960784]\n",
      "  [-0.43529412]\n",
      "  [-0.88235295]]\n",
      "\n",
      " [[-1.        ]\n",
      "  [-1.        ]\n",
      "  [-1.        ]\n",
      "  [-1.        ]\n",
      "  [-1.        ]\n",
      "  [-1.        ]\n",
      "  [-1.        ]\n",
      "  [-1.        ]\n",
      "  [-1.        ]\n",
      "  [-1.        ]\n",
      "  [-1.        ]\n",
      "  [-0.99215686]\n",
      "  [-1.        ]\n",
      "  [-0.45882353]\n",
      "  [ 0.62352943]\n",
      "  [ 0.7490196 ]\n",
      "  [ 0.70980394]\n",
      "  [ 0.69411767]\n",
      "  [ 0.69411767]\n",
      "  [ 0.2784314 ]\n",
      "  [-0.00392157]\n",
      "  [-0.05098039]\n",
      "  [-0.04313726]\n",
      "  [ 0.14509805]\n",
      "  [ 0.10588235]\n",
      "  [-0.30980393]\n",
      "  [ 0.34901962]\n",
      "  [-0.48235294]]\n",
      "\n",
      " [[-1.        ]\n",
      "  [-1.        ]\n",
      "  [-1.        ]\n",
      "  [-1.        ]\n",
      "  [-1.        ]\n",
      "  [-1.        ]\n",
      "  [-1.        ]\n",
      "  [-1.        ]\n",
      "  [-1.        ]\n",
      "  [-0.99215686]\n",
      "  [-0.99215686]\n",
      "  [-0.99215686]\n",
      "  [-1.        ]\n",
      "  [ 0.5686275 ]\n",
      "  [ 0.81960785]\n",
      "  [ 0.81960785]\n",
      "  [ 0.827451  ]\n",
      "  [ 0.79607844]\n",
      "  [ 0.7490196 ]\n",
      "  [ 0.7490196 ]\n",
      "  [ 0.6862745 ]\n",
      "  [ 0.67058825]\n",
      "  [ 0.28627452]\n",
      "  [-0.00392157]\n",
      "  [-0.03529412]\n",
      "  [ 0.5372549 ]\n",
      "  [ 0.79607844]\n",
      "  [-1.        ]]\n",
      "\n",
      " [[-1.        ]\n",
      "  [-1.        ]\n",
      "  [-1.        ]\n",
      "  [-1.        ]\n",
      "  [-1.        ]\n",
      "  [-1.        ]\n",
      "  [-1.        ]\n",
      "  [-1.        ]\n",
      "  [-1.        ]\n",
      "  [-1.        ]\n",
      "  [-1.        ]\n",
      "  [-1.        ]\n",
      "  [-1.        ]\n",
      "  [ 0.43529412]\n",
      "  [ 0.7647059 ]\n",
      "  [ 0.69411767]\n",
      "  [ 0.7490196 ]\n",
      "  [ 0.7882353 ]\n",
      "  [ 0.84313726]\n",
      "  [ 0.78039217]\n",
      "  [ 0.75686276]\n",
      "  [ 0.7411765 ]\n",
      "  [ 0.75686276]\n",
      "  [ 0.73333335]\n",
      "  [ 0.7490196 ]\n",
      "  [ 0.92156863]\n",
      "  [ 0.35686275]\n",
      "  [-1.        ]]\n",
      "\n",
      " [[-1.        ]\n",
      "  [-1.        ]\n",
      "  [-1.        ]\n",
      "  [-1.        ]\n",
      "  [-1.        ]\n",
      "  [-1.        ]\n",
      "  [-1.        ]\n",
      "  [-1.        ]\n",
      "  [-1.        ]\n",
      "  [-1.        ]\n",
      "  [-1.        ]\n",
      "  [-1.        ]\n",
      "  [-1.        ]\n",
      "  [ 0.5137255 ]\n",
      "  [ 0.7882353 ]\n",
      "  [ 0.70980394]\n",
      "  [ 0.67058825]\n",
      "  [ 0.5529412 ]\n",
      "  [ 0.4117647 ]\n",
      "  [ 0.6627451 ]\n",
      "  [ 0.64705884]\n",
      "  [ 0.654902  ]\n",
      "  [ 0.67058825]\n",
      "  [ 0.7490196 ]\n",
      "  [ 0.7254902 ]\n",
      "  [ 0.90588236]\n",
      "  [ 0.58431375]\n",
      "  [-1.        ]]\n",
      "\n",
      " [[-1.        ]\n",
      "  [-1.        ]\n",
      "  [-1.        ]\n",
      "  [-1.        ]\n",
      "  [-1.        ]\n",
      "  [-1.        ]\n",
      "  [-1.        ]\n",
      "  [-1.        ]\n",
      "  [-1.        ]\n",
      "  [-0.99215686]\n",
      "  [-0.9764706 ]\n",
      "  [-1.        ]\n",
      "  [-0.90588236]\n",
      "  [ 0.7176471 ]\n",
      "  [ 0.7254902 ]\n",
      "  [ 0.6627451 ]\n",
      "  [ 0.70980394]\n",
      "  [ 0.5058824 ]\n",
      "  [ 0.3254902 ]\n",
      "  [ 0.78039217]\n",
      "  [ 0.6313726 ]\n",
      "  [ 0.70980394]\n",
      "  [ 0.75686276]\n",
      "  [ 0.6627451 ]\n",
      "  [ 0.77254903]\n",
      "  [ 0.54509807]\n",
      "  [ 0.6392157 ]\n",
      "  [-0.5921569 ]]\n",
      "\n",
      " [[-1.        ]\n",
      "  [-1.        ]\n",
      "  [-1.        ]\n",
      "  [-1.        ]\n",
      "  [-1.        ]\n",
      "  [-1.        ]\n",
      "  [-1.        ]\n",
      "  [-1.        ]\n",
      "  [-1.        ]\n",
      "  [-1.        ]\n",
      "  [-0.9529412 ]\n",
      "  [-1.        ]\n",
      "  [-0.22352941]\n",
      "  [ 0.9137255 ]\n",
      "  [ 0.7411765 ]\n",
      "  [ 0.7254902 ]\n",
      "  [ 0.70980394]\n",
      "  [ 0.5921569 ]\n",
      "  [ 0.5529412 ]\n",
      "  [ 0.73333335]\n",
      "  [ 0.6862745 ]\n",
      "  [ 0.67058825]\n",
      "  [ 0.7411765 ]\n",
      "  [ 0.7254902 ]\n",
      "  [ 0.92156863]\n",
      "  [-0.06666667]\n",
      "  [ 0.30980393]\n",
      "  [-0.56078434]]\n",
      "\n",
      " [[-1.        ]\n",
      "  [-1.        ]\n",
      "  [-1.        ]\n",
      "  [-1.        ]\n",
      "  [-1.        ]\n",
      "  [-1.        ]\n",
      "  [-1.        ]\n",
      "  [-1.        ]\n",
      "  [-1.        ]\n",
      "  [-0.96862745]\n",
      "  [-1.        ]\n",
      "  [-1.        ]\n",
      "  [-0.5686275 ]\n",
      "  [ 0.8509804 ]\n",
      "  [ 0.7882353 ]\n",
      "  [ 0.8039216 ]\n",
      "  [ 0.7882353 ]\n",
      "  [ 0.88235295]\n",
      "  [ 0.81960785]\n",
      "  [ 0.67058825]\n",
      "  [ 0.70980394]\n",
      "  [ 0.7490196 ]\n",
      "  [ 0.8352941 ]\n",
      "  [ 0.7019608 ]\n",
      "  [ 0.7019608 ]\n",
      "  [ 0.6392157 ]\n",
      "  [-0.2784314 ]\n",
      "  [-1.        ]]\n",
      "\n",
      " [[-1.        ]\n",
      "  [-1.        ]\n",
      "  [-0.99215686]\n",
      "  [-0.96862745]\n",
      "  [-0.9529412 ]\n",
      "  [-0.94509804]\n",
      "  [-0.9843137 ]\n",
      "  [-1.        ]\n",
      "  [-1.        ]\n",
      "  [-1.        ]\n",
      "  [-1.        ]\n",
      "  [-1.        ]\n",
      "  [ 0.85882354]\n",
      "  [ 0.77254903]\n",
      "  [ 0.7019608 ]\n",
      "  [ 0.7490196 ]\n",
      "  [ 0.7411765 ]\n",
      "  [ 0.7176471 ]\n",
      "  [ 0.7411765 ]\n",
      "  [ 0.73333335]\n",
      "  [ 0.69411767]\n",
      "  [ 0.7490196 ]\n",
      "  [ 0.79607844]\n",
      "  [ 0.6862745 ]\n",
      "  [ 0.70980394]\n",
      "  [ 1.        ]\n",
      "  [-0.39607844]\n",
      "  [-1.        ]]\n",
      "\n",
      " [[-1.        ]\n",
      "  [-0.9764706 ]\n",
      "  [-1.        ]\n",
      "  [-1.        ]\n",
      "  [-1.        ]\n",
      "  [-1.        ]\n",
      "  [-1.        ]\n",
      "  [-1.        ]\n",
      "  [-1.        ]\n",
      "  [-0.5137255 ]\n",
      "  [ 0.13725491]\n",
      "  [ 0.6       ]\n",
      "  [ 0.7882353 ]\n",
      "  [ 0.62352943]\n",
      "  [ 0.67058825]\n",
      "  [ 0.73333335]\n",
      "  [ 0.70980394]\n",
      "  [ 0.6313726 ]\n",
      "  [ 0.654902  ]\n",
      "  [ 0.70980394]\n",
      "  [ 0.75686276]\n",
      "  [ 0.7490196 ]\n",
      "  [ 0.7176471 ]\n",
      "  [ 0.6862745 ]\n",
      "  [ 0.75686276]\n",
      "  [ 0.9137255 ]\n",
      "  [ 0.24705882]\n",
      "  [-1.        ]]\n",
      "\n",
      " [[-1.        ]\n",
      "  [-1.        ]\n",
      "  [-1.        ]\n",
      "  [-1.        ]\n",
      "  [-0.85882354]\n",
      "  [-0.654902  ]\n",
      "  [-0.35686275]\n",
      "  [-0.16078432]\n",
      "  [ 0.48235294]\n",
      "  [ 0.7882353 ]\n",
      "  [ 0.7254902 ]\n",
      "  [ 0.7411765 ]\n",
      "  [ 0.7019608 ]\n",
      "  [ 0.77254903]\n",
      "  [ 0.5686275 ]\n",
      "  [ 0.60784316]\n",
      "  [ 0.654902  ]\n",
      "  [ 0.8039216 ]\n",
      "  [ 0.75686276]\n",
      "  [ 0.8352941 ]\n",
      "  [ 0.38039216]\n",
      "  [ 0.4745098 ]\n",
      "  [ 0.9607843 ]\n",
      "  [ 0.94509804]\n",
      "  [ 0.827451  ]\n",
      "  [ 0.8666667 ]\n",
      "  [ 0.6862745 ]\n",
      "  [-1.        ]]\n",
      "\n",
      " [[-1.        ]\n",
      "  [-0.5529412 ]\n",
      "  [ 0.46666667]\n",
      "  [ 0.6313726 ]\n",
      "  [ 0.75686276]\n",
      "  [ 0.73333335]\n",
      "  [ 0.75686276]\n",
      "  [ 0.6313726 ]\n",
      "  [ 0.6       ]\n",
      "  [ 0.6784314 ]\n",
      "  [ 0.6313726 ]\n",
      "  [ 0.6392157 ]\n",
      "  [ 0.5686275 ]\n",
      "  [ 0.24705882]\n",
      "  [ 0.92156863]\n",
      "  [ 0.5137255 ]\n",
      "  [ 0.6156863 ]\n",
      "  [ 0.7490196 ]\n",
      "  [ 1.        ]\n",
      "  [ 1.        ]\n",
      "  [ 0.73333335]\n",
      "  [ 0.8352941 ]\n",
      "  [ 0.73333335]\n",
      "  [ 0.654902  ]\n",
      "  [ 0.7254902 ]\n",
      "  [ 0.81960785]\n",
      "  [ 0.92941177]\n",
      "  [-1.        ]]\n",
      "\n",
      " [[-0.9764706 ]\n",
      "  [ 0.58431375]\n",
      "  [ 0.7882353 ]\n",
      "  [ 0.75686276]\n",
      "  [ 0.73333335]\n",
      "  [ 0.654902  ]\n",
      "  [ 0.654902  ]\n",
      "  [ 0.6784314 ]\n",
      "  [ 0.60784316]\n",
      "  [ 0.60784316]\n",
      "  [ 0.60784316]\n",
      "  [ 0.7254902 ]\n",
      "  [ 0.88235295]\n",
      "  [-0.37254903]\n",
      "  [ 0.1764706 ]\n",
      "  [ 1.        ]\n",
      "  [ 0.79607844]\n",
      "  [ 0.73333335]\n",
      "  [ 0.4745098 ]\n",
      "  [ 0.20784314]\n",
      "  [ 0.49803922]\n",
      "  [ 0.64705884]\n",
      "  [ 0.6       ]\n",
      "  [ 0.6392157 ]\n",
      "  [ 0.7411765 ]\n",
      "  [ 0.7882353 ]\n",
      "  [ 0.7647059 ]\n",
      "  [-1.        ]]\n",
      "\n",
      " [[-0.23137255]\n",
      "  [ 0.827451  ]\n",
      "  [ 0.5529412 ]\n",
      "  [ 0.64705884]\n",
      "  [ 0.7411765 ]\n",
      "  [ 0.79607844]\n",
      "  [ 0.79607844]\n",
      "  [ 0.8352941 ]\n",
      "  [ 0.9529412 ]\n",
      "  [ 0.7254902 ]\n",
      "  [ 0.52156866]\n",
      "  [ 0.6862745 ]\n",
      "  [ 0.7019608 ]\n",
      "  [ 0.8901961 ]\n",
      "  [-0.49019608]\n",
      "  [-0.42745098]\n",
      "  [-0.16862746]\n",
      "  [-0.08235294]\n",
      "  [ 0.31764707]\n",
      "  [ 0.7176471 ]\n",
      "  [ 0.73333335]\n",
      "  [ 0.6862745 ]\n",
      "  [ 0.7019608 ]\n",
      "  [ 0.7490196 ]\n",
      "  [ 0.7490196 ]\n",
      "  [ 0.75686276]\n",
      "  [ 0.79607844]\n",
      "  [-0.77254903]]\n",
      "\n",
      " [[-0.4117647 ]\n",
      "  [ 0.6       ]\n",
      "  [ 0.6627451 ]\n",
      "  [ 0.6       ]\n",
      "  [ 0.5137255 ]\n",
      "  [ 0.60784316]\n",
      "  [ 0.654902  ]\n",
      "  [ 0.7647059 ]\n",
      "  [ 0.69411767]\n",
      "  [ 0.4509804 ]\n",
      "  [ 0.54509807]\n",
      "  [ 0.6156863 ]\n",
      "  [ 0.5529412 ]\n",
      "  [ 0.67058825]\n",
      "  [ 0.88235295]\n",
      "  [ 0.5294118 ]\n",
      "  [ 0.78039217]\n",
      "  [ 0.92156863]\n",
      "  [ 0.8745098 ]\n",
      "  [ 0.7490196 ]\n",
      "  [ 0.70980394]\n",
      "  [ 0.6627451 ]\n",
      "  [ 0.6392157 ]\n",
      "  [ 0.7411765 ]\n",
      "  [ 0.7254902 ]\n",
      "  [ 0.73333335]\n",
      "  [ 0.8039216 ]\n",
      "  [-0.4745098 ]]\n",
      "\n",
      " [[-0.62352943]\n",
      "  [ 0.5921569 ]\n",
      "  [ 0.43529412]\n",
      "  [ 0.52156866]\n",
      "  [ 0.67058825]\n",
      "  [ 0.54509807]\n",
      "  [ 0.4509804 ]\n",
      "  [ 0.49019608]\n",
      "  [ 0.52156866]\n",
      "  [ 0.5058824 ]\n",
      "  [ 0.58431375]\n",
      "  [ 0.6784314 ]\n",
      "  [ 0.7176471 ]\n",
      "  [ 0.73333335]\n",
      "  [ 0.7254902 ]\n",
      "  [ 0.8509804 ]\n",
      "  [ 0.7647059 ]\n",
      "  [ 0.69411767]\n",
      "  [ 0.56078434]\n",
      "  [ 0.6156863 ]\n",
      "  [ 0.45882353]\n",
      "  [ 0.41960785]\n",
      "  [ 0.3882353 ]\n",
      "  [ 0.34901962]\n",
      "  [ 0.41960785]\n",
      "  [ 0.60784316]\n",
      "  [ 0.6156863 ]\n",
      "  [-0.09803922]]\n",
      "\n",
      " [[-1.        ]\n",
      "  [-0.04313726]\n",
      "  [ 0.7176471 ]\n",
      "  [ 0.5137255 ]\n",
      "  [ 0.40392157]\n",
      "  [ 0.34117648]\n",
      "  [ 0.43529412]\n",
      "  [ 0.5372549 ]\n",
      "  [ 0.6       ]\n",
      "  [ 0.64705884]\n",
      "  [ 0.67058825]\n",
      "  [ 0.62352943]\n",
      "  [ 0.654902  ]\n",
      "  [ 0.64705884]\n",
      "  [ 0.5686275 ]\n",
      "  [ 0.5372549 ]\n",
      "  [ 0.52156866]\n",
      "  [ 0.49803922]\n",
      "  [ 0.5294118 ]\n",
      "  [ 0.49803922]\n",
      "  [ 0.5529412 ]\n",
      "  [ 0.5058824 ]\n",
      "  [ 0.38039216]\n",
      "  [ 0.22352941]\n",
      "  [ 0.30980393]\n",
      "  [ 0.3882353 ]\n",
      "  [ 0.64705884]\n",
      "  [-0.2784314 ]]\n",
      "\n",
      " [[-1.        ]\n",
      "  [-1.        ]\n",
      "  [-0.41960785]\n",
      "  [ 0.48235294]\n",
      "  [ 0.6627451 ]\n",
      "  [ 0.49803922]\n",
      "  [ 0.37254903]\n",
      "  [ 0.34901962]\n",
      "  [ 0.37254903]\n",
      "  [ 0.41960785]\n",
      "  [ 0.4509804 ]\n",
      "  [ 0.4745098 ]\n",
      "  [ 0.48235294]\n",
      "  [ 0.4745098 ]\n",
      "  [ 0.5137255 ]\n",
      "  [ 0.5529412 ]\n",
      "  [ 0.6       ]\n",
      "  [ 0.6392157 ]\n",
      "  [ 0.64705884]\n",
      "  [ 0.64705884]\n",
      "  [ 0.654902  ]\n",
      "  [ 0.4745098 ]\n",
      "  [ 0.4745098 ]\n",
      "  [ 0.52156866]\n",
      "  [ 0.5058824 ]\n",
      "  [ 0.69411767]\n",
      "  [ 0.33333334]\n",
      "  [-1.        ]]\n",
      "\n",
      " [[-0.9843137 ]\n",
      "  [-1.        ]\n",
      "  [-1.        ]\n",
      "  [-1.        ]\n",
      "  [-0.48235294]\n",
      "  [ 0.5686275 ]\n",
      "  [ 0.7411765 ]\n",
      "  [ 0.85882354]\n",
      "  [ 0.8745098 ]\n",
      "  [ 0.8980392 ]\n",
      "  [ 0.92941177]\n",
      "  [ 0.90588236]\n",
      "  [ 0.9137255 ]\n",
      "  [ 0.73333335]\n",
      "  [ 0.7254902 ]\n",
      "  [ 0.5137255 ]\n",
      "  [ 0.49803922]\n",
      "  [ 0.40392157]\n",
      "  [ 0.42745098]\n",
      "  [ 0.42745098]\n",
      "  [ 0.41960785]\n",
      "  [ 0.38039216]\n",
      "  [ 0.3019608 ]\n",
      "  [ 0.31764707]\n",
      "  [-0.22352941]\n",
      "  [-0.54509807]\n",
      "  [-1.        ]\n",
      "  [-1.        ]]\n",
      "\n",
      " [[-1.        ]\n",
      "  [-1.        ]\n",
      "  [-1.        ]\n",
      "  [-1.        ]\n",
      "  [-1.        ]\n",
      "  [-1.        ]\n",
      "  [-1.        ]\n",
      "  [-0.6862745 ]\n",
      "  [-0.52156866]\n",
      "  [-0.654902  ]\n",
      "  [-0.43529412]\n",
      "  [-0.6784314 ]\n",
      "  [-0.7254902 ]\n",
      "  [-1.        ]\n",
      "  [-1.        ]\n",
      "  [-1.        ]\n",
      "  [-1.        ]\n",
      "  [-1.        ]\n",
      "  [-1.        ]\n",
      "  [-1.        ]\n",
      "  [-1.        ]\n",
      "  [-1.        ]\n",
      "  [-1.        ]\n",
      "  [-1.        ]\n",
      "  [-1.        ]\n",
      "  [-1.        ]\n",
      "  [-1.        ]\n",
      "  [-1.        ]]\n",
      "\n",
      " [[-1.        ]\n",
      "  [-1.        ]\n",
      "  [-1.        ]\n",
      "  [-1.        ]\n",
      "  [-1.        ]\n",
      "  [-1.        ]\n",
      "  [-1.        ]\n",
      "  [-1.        ]\n",
      "  [-1.        ]\n",
      "  [-1.        ]\n",
      "  [-1.        ]\n",
      "  [-1.        ]\n",
      "  [-1.        ]\n",
      "  [-1.        ]\n",
      "  [-1.        ]\n",
      "  [-1.        ]\n",
      "  [-1.        ]\n",
      "  [-1.        ]\n",
      "  [-1.        ]\n",
      "  [-1.        ]\n",
      "  [-1.        ]\n",
      "  [-1.        ]\n",
      "  [-1.        ]\n",
      "  [-1.        ]\n",
      "  [-1.        ]\n",
      "  [-1.        ]\n",
      "  [-1.        ]\n",
      "  [-1.        ]]\n",
      "\n",
      " [[-1.        ]\n",
      "  [-1.        ]\n",
      "  [-1.        ]\n",
      "  [-1.        ]\n",
      "  [-1.        ]\n",
      "  [-1.        ]\n",
      "  [-1.        ]\n",
      "  [-1.        ]\n",
      "  [-1.        ]\n",
      "  [-1.        ]\n",
      "  [-1.        ]\n",
      "  [-1.        ]\n",
      "  [-1.        ]\n",
      "  [-1.        ]\n",
      "  [-1.        ]\n",
      "  [-1.        ]\n",
      "  [-1.        ]\n",
      "  [-1.        ]\n",
      "  [-1.        ]\n",
      "  [-1.        ]\n",
      "  [-1.        ]\n",
      "  [-1.        ]\n",
      "  [-1.        ]\n",
      "  [-1.        ]\n",
      "  [-1.        ]\n",
      "  [-1.        ]\n",
      "  [-1.        ]\n",
      "  [-1.        ]]]\n"
     ]
    }
   ],
   "source": [
    "print(x_train_normalized[0])"
   ]
  },
  {
   "cell_type": "code",
   "execution_count": 16,
   "metadata": {
    "colab": {
     "base_uri": "https://localhost:8080/",
     "height": 51
    },
    "colab_type": "code",
    "executionInfo": {
     "elapsed": 4159,
     "status": "ok",
     "timestamp": 1590321303766,
     "user": {
      "displayName": "Oleksii Trekhleb",
      "photoUrl": "https://lh3.googleusercontent.com/a-/AOh14GiiA4aUKCbFho88Jd0WWMoAqQUt3jbuCtfNYpHVOA=s64",
      "userId": "03172675069638383074"
     },
     "user_tz": -120
    },
    "id": "RY0LUGF_Qg3V",
    "outputId": "4042f653-f7e2-474e-b777-4b6eb9af75f1"
   },
   "outputs": [
    {
     "name": "stdout",
     "output_type": "stream",
     "text": [
      "BATCH_SIZE:  1024\n",
      "TRAINING_STEPS_PER_EPOCH:  69\n"
     ]
    }
   ],
   "source": [
    "SHUFFLE_BUFFER_SIZE = TOTAL_EXAMPLES_NUM\n",
    "BATCH_SIZE = 1024\n",
    "\n",
    "TRAINING_STEPS_PER_EPOCH = math.ceil(TOTAL_EXAMPLES_NUM / BATCH_SIZE)\n",
    "\n",
    "print('BATCH_SIZE: ', BATCH_SIZE)\n",
    "print('TRAINING_STEPS_PER_EPOCH: ', TRAINING_STEPS_PER_EPOCH)"
   ]
  },
  {
   "cell_type": "code",
   "execution_count": 17,
   "metadata": {
    "colab": {
     "base_uri": "https://localhost:8080/",
     "height": 34
    },
    "colab_type": "code",
    "executionInfo": {
     "elapsed": 4861,
     "status": "ok",
     "timestamp": 1590321304495,
     "user": {
      "displayName": "Oleksii Trekhleb",
      "photoUrl": "https://lh3.googleusercontent.com/a-/AOh14GiiA4aUKCbFho88Jd0WWMoAqQUt3jbuCtfNYpHVOA=s64",
      "userId": "03172675069638383074"
     },
     "user_tz": -120
    },
    "id": "XJxRB1j5Qg3Y",
    "outputId": "1af58ba5-5832-4573-f916-79902e31bc30"
   },
   "outputs": [
    {
     "name": "stdout",
     "output_type": "stream",
     "text": [
      "<BatchDataset shapes: (None, 28, 28, 1), types: tf.float32>\n"
     ]
    }
   ],
   "source": [
    "train_dataset = tf.data.Dataset.from_tensor_slices(x_train_normalized) \\\n",
    "    .shuffle(SHUFFLE_BUFFER_SIZE) \\\n",
    "    .batch(BATCH_SIZE)\n",
    "\n",
    "print(train_dataset)"
   ]
  },
  {
   "cell_type": "markdown",
   "metadata": {
    "colab_type": "text",
    "id": "q-LIdgr0Qg3b"
   },
   "source": [
    "## Create models"
   ]
  },
  {
   "cell_type": "markdown",
   "metadata": {
    "colab_type": "text",
    "id": "joxm4EKPQg3b"
   },
   "source": [
    "### Create generator"
   ]
  },
  {
   "cell_type": "code",
   "execution_count": 18,
   "metadata": {
    "colab": {},
    "colab_type": "code",
    "id": "ibmnD5dlQg3c"
   },
   "outputs": [],
   "source": [
    "def make_generator_model():\n",
    "    model = tf.keras.Sequential()\n",
    "    \n",
    "    # Step 1.\n",
    "    model.add(tf.keras.layers.Dense(\n",
    "        units=7*7*256,\n",
    "        use_bias=False,\n",
    "        input_shape=(100,)\n",
    "    ))\n",
    "    model.add(tf.keras.layers.BatchNormalization())\n",
    "    model.add(tf.keras.layers.LeakyReLU())\n",
    "    \n",
    "    # Step 2.\n",
    "    model.add(tf.keras.layers.Reshape((7, 7, 256)))\n",
    "    assert model.output_shape == (None, 7, 7, 256) # None is a batch size.\n",
    "    \n",
    "    # Step 3.\n",
    "    model.add(tf.keras.layers.Conv2DTranspose(\n",
    "        filters=128,\n",
    "        kernel_size=(5, 5),\n",
    "        strides=(1, 1),\n",
    "        padding='same',\n",
    "        use_bias=False\n",
    "    ))\n",
    "    assert model.output_shape == (None, 7, 7, 128)\n",
    "    model.add(tf.keras.layers.BatchNormalization())\n",
    "    model.add(tf.keras.layers.LeakyReLU())\n",
    "    \n",
    "    # Step 4.\n",
    "    model.add(tf.keras.layers.Conv2DTranspose(\n",
    "        filters=64,\n",
    "        kernel_size=(5, 5),\n",
    "        strides=(2, 2),\n",
    "        padding='same',\n",
    "        use_bias=False\n",
    "    ))\n",
    "    assert model.output_shape == (None, 14, 14, 64)\n",
    "    model.add(tf.keras.layers.BatchNormalization())\n",
    "    model.add(tf.keras.layers.LeakyReLU())\n",
    "    \n",
    "    # Step 5.\n",
    "    model.add(tf.keras.layers.Conv2DTranspose(\n",
    "        filters=1,\n",
    "        kernel_size=(5, 5),\n",
    "        strides=(2, 2),\n",
    "        padding='same',\n",
    "        use_bias=False,\n",
    "        activation='tanh'\n",
    "    ))\n",
    "    assert model.output_shape == (None, 28, 28, 1)\n",
    "    \n",
    "    return model"
   ]
  },
  {
   "cell_type": "code",
   "execution_count": 19,
   "metadata": {
    "colab": {},
    "colab_type": "code",
    "id": "5LxpnjBtQg3e"
   },
   "outputs": [],
   "source": [
    "generator_model = make_generator_model()"
   ]
  },
  {
   "cell_type": "code",
   "execution_count": 20,
   "metadata": {
    "colab": {
     "base_uri": "https://localhost:8080/",
     "height": 527
    },
    "colab_type": "code",
    "executionInfo": {
     "elapsed": 4697,
     "status": "ok",
     "timestamp": 1590321304500,
     "user": {
      "displayName": "Oleksii Trekhleb",
      "photoUrl": "https://lh3.googleusercontent.com/a-/AOh14GiiA4aUKCbFho88Jd0WWMoAqQUt3jbuCtfNYpHVOA=s64",
      "userId": "03172675069638383074"
     },
     "user_tz": -120
    },
    "id": "eryk9JHHQg3g",
    "outputId": "c2c17c63-f67f-41d2-9596-8c5bba099469"
   },
   "outputs": [
    {
     "name": "stdout",
     "output_type": "stream",
     "text": [
      "Model: \"sequential\"\n",
      "_________________________________________________________________\n",
      "Layer (type)                 Output Shape              Param #   \n",
      "=================================================================\n",
      "dense (Dense)                (None, 12544)             1254400   \n",
      "_________________________________________________________________\n",
      "batch_normalization (BatchNo (None, 12544)             50176     \n",
      "_________________________________________________________________\n",
      "leaky_re_lu (LeakyReLU)      (None, 12544)             0         \n",
      "_________________________________________________________________\n",
      "reshape (Reshape)            (None, 7, 7, 256)         0         \n",
      "_________________________________________________________________\n",
      "conv2d_transpose (Conv2DTran (None, 7, 7, 128)         819200    \n",
      "_________________________________________________________________\n",
      "batch_normalization_1 (Batch (None, 7, 7, 128)         512       \n",
      "_________________________________________________________________\n",
      "leaky_re_lu_1 (LeakyReLU)    (None, 7, 7, 128)         0         \n",
      "_________________________________________________________________\n",
      "conv2d_transpose_1 (Conv2DTr (None, 14, 14, 64)        204800    \n",
      "_________________________________________________________________\n",
      "batch_normalization_2 (Batch (None, 14, 14, 64)        256       \n",
      "_________________________________________________________________\n",
      "leaky_re_lu_2 (LeakyReLU)    (None, 14, 14, 64)        0         \n",
      "_________________________________________________________________\n",
      "conv2d_transpose_2 (Conv2DTr (None, 28, 28, 1)         1600      \n",
      "=================================================================\n",
      "Total params: 2,330,944\n",
      "Trainable params: 2,305,472\n",
      "Non-trainable params: 25,472\n",
      "_________________________________________________________________\n"
     ]
    }
   ],
   "source": [
    "generator_model.summary()"
   ]
  },
  {
   "cell_type": "code",
   "execution_count": 21,
   "metadata": {
    "colab": {
     "base_uri": "https://localhost:8080/",
     "height": 1000
    },
    "colab_type": "code",
    "executionInfo": {
     "elapsed": 5154,
     "status": "ok",
     "timestamp": 1590321304976,
     "user": {
      "displayName": "Oleksii Trekhleb",
      "photoUrl": "https://lh3.googleusercontent.com/a-/AOh14GiiA4aUKCbFho88Jd0WWMoAqQUt3jbuCtfNYpHVOA=s64",
      "userId": "03172675069638383074"
     },
     "user_tz": -120
    },
    "id": "KA-vmAQ3Qg3j",
    "outputId": "701aaac0-1cde-4e08-bba7-7f8f243806d8"
   },
   "outputs": [
    {
     "data": {
      "image/png": "[encoded data removed]",
      "text/plain": [
       "<IPython.core.display.Image object>"
      ]
     },
     "execution_count": 21,
     "metadata": {},
     "output_type": "execute_result"
    }
   ],
   "source": [
    "tf.keras.utils.plot_model(\n",
    "    generator_model,\n",
    "    show_shapes=True,\n",
    "    show_layer_names=True,\n",
    "    to_file='generator_model.png'\n",
    ")"
   ]
  },
  {
   "cell_type": "code",
   "execution_count": 22,
   "metadata": {
    "colab": {
     "base_uri": "https://localhost:8080/",
     "height": 306
    },
    "colab_type": "code",
    "executionInfo": {
     "elapsed": 5120,
     "status": "ok",
     "timestamp": 1590321304977,
     "user": {
      "displayName": "Oleksii Trekhleb",
      "photoUrl": "https://lh3.googleusercontent.com/a-/AOh14GiiA4aUKCbFho88Jd0WWMoAqQUt3jbuCtfNYpHVOA=s64",
      "userId": "03172675069638383074"
     },
     "user_tz": -120
    },
    "id": "pqW--sw-Qg3m",
    "outputId": "0f328108-e645-4f27-8606-9f06105de145"
   },
   "outputs": [
    {
     "name": "stdout",
     "output_type": "stream",
     "text": [
      "[[ 0.2968263  -0.7442564   1.5173652  -0.6761513   1.2900213   0.03120035\n",
      "   0.05608801 -0.82580584  1.3089789  -1.0312408  -0.48875266  0.35147455\n",
      "   0.643726    0.02416517  1.0276881   0.6862696  -2.1349275  -0.39677942\n",
      "  -0.78823256  0.4122585   2.4593892   0.640352   -1.0149931   0.6910413\n",
      "   1.1366886  -0.7321274   0.19048037 -1.9552062  -1.46216     0.2542619\n",
      "   0.46108526 -1.0267076   1.6750418  -0.9813146   0.65089303 -0.33653706\n",
      "   2.087909    1.0909338   0.4984501   1.283156   -1.9887508   0.517903\n",
      "  -0.51153386  0.6688965   0.9411304  -0.6695824   0.83795995 -1.251164\n",
      "   1.3055484  -0.68816894 -0.9572639  -0.2595175   1.3419988   0.44455323\n",
      "  -1.5226421   0.57819736 -0.16167729  0.73209196  1.6180203  -0.2957942\n",
      "   0.36996096  1.1864501   0.55983335  0.84411097 -0.33957496 -0.3911249\n",
      "   0.7256593  -0.15597758 -0.73187816  0.2691125  -1.8208255  -0.7945799\n",
      "   0.78581387  0.6591118  -0.5615493  -1.233192   -1.6911399  -0.5802315\n",
      "  -0.40543312 -1.9096732  -0.9258717  -0.471677   -0.29452267  0.719435\n",
      "  -0.0622119  -0.747314   -1.190081    0.20374702  0.02601297  0.24717654\n",
      "  -0.10684227  0.09754466  2.100361    0.5203321   0.8598618   0.43240723\n",
      "   0.6300691  -0.4102423  -1.1688756  -0.6594319 ]]\n"
     ]
    }
   ],
   "source": [
    "noise = tf.random.normal(shape=[1, 100])\n",
    "\n",
    "print(noise.numpy())"
   ]
  },
  {
   "cell_type": "code",
   "execution_count": 23,
   "metadata": {
    "colab": {
     "base_uri": "https://localhost:8080/",
     "height": 34
    },
    "colab_type": "code",
    "executionInfo": {
     "elapsed": 6514,
     "status": "ok",
     "timestamp": 1590321306393,
     "user": {
      "displayName": "Oleksii Trekhleb",
      "photoUrl": "https://lh3.googleusercontent.com/a-/AOh14GiiA4aUKCbFho88Jd0WWMoAqQUt3jbuCtfNYpHVOA=s64",
      "userId": "03172675069638383074"
     },
     "user_tz": -120
    },
    "id": "a-T1_UdAQg3o",
    "outputId": "f2bf88cc-5272-46c3-a8a0-1a058150d597"
   },
   "outputs": [
    {
     "name": "stdout",
     "output_type": "stream",
     "text": [
      "generated_image.shape:  (1, 28, 28, 1)\n"
     ]
    }
   ],
   "source": [
    "generated_image = generator_model(noise, training=False)\n",
    "\n",
    "print('generated_image.shape: ', generated_image.shape)"
   ]
  },
  {
   "cell_type": "code",
   "execution_count": 24,
   "metadata": {
    "colab": {
     "base_uri": "https://localhost:8080/",
     "height": 1000
    },
    "colab_type": "code",
    "executionInfo": {
     "elapsed": 6493,
     "status": "ok",
     "timestamp": 1590321306394,
     "user": {
      "displayName": "Oleksii Trekhleb",
      "photoUrl": "https://lh3.googleusercontent.com/a-/AOh14GiiA4aUKCbFho88Jd0WWMoAqQUt3jbuCtfNYpHVOA=s64",
      "userId": "03172675069638383074"
     },
     "user_tz": -120
    },
    "id": "1YJBANZxQg3q",
    "outputId": "65e80bef-ec80-4763-e9a6-0c6c762a0df9"
   },
   "outputs": [
    {
     "name": "stdout",
     "output_type": "stream",
     "text": [
      "[[-2.07938650e-03 -2.97168666e-03 -4.56067920e-03 -8.00430030e-03\n",
      "  -4.82831616e-03 -3.06378980e-03  3.42490966e-03 -6.83009718e-03\n",
      "   3.30818293e-04 -8.12520666e-05 -6.28516544e-03  3.84122739e-03\n",
      "  -3.66936554e-03  3.29538656e-04 -2.83198198e-03 -1.26165582e-03\n",
      "  -6.49425201e-04 -1.43575878e-03  3.55193252e-03  6.71520364e-03\n",
      "   5.71035082e-03  1.75585155e-03 -3.31380474e-03 -2.87772389e-03\n",
      "  -5.89397131e-03 -4.77007730e-03 -2.79503380e-04  8.53915792e-03]\n",
      " [ 6.71477709e-03 -5.22967149e-03 -1.94888993e-03 -1.09792752e-02\n",
      "  -7.23181292e-03  1.06918812e-02  2.07485654e-03 -1.42642707e-02\n",
      "  -1.16754761e-02  1.41350841e-02  1.66881476e-02  7.59892352e-03\n",
      "   8.57628696e-03  3.00264657e-02  5.62170707e-03  1.75967366e-02\n",
      "  -5.80503198e-04 -1.94865372e-02 -7.56503025e-04  1.21078640e-02\n",
      "  -7.92765152e-03 -7.10870745e-03 -2.16057990e-03  1.74503084e-02\n",
      "   1.15260342e-02 -3.42983287e-03  1.07580973e-02  1.25818308e-02]\n",
      " [-4.88298852e-03 -5.41671412e-03 -1.16052395e-02 -1.54358300e-03\n",
      "  -9.61644575e-03 -2.00556330e-02 -6.58504572e-03  4.63786913e-04\n",
      "  -1.41936250e-03 -7.12842355e-03 -9.51295998e-03 -1.19597148e-02\n",
      "   8.20990000e-03 -1.04100676e-03 -1.95907671e-02 -2.85238121e-02\n",
      "  -3.61052947e-03 -2.02121250e-02 -1.57548804e-02 -2.02147905e-02\n",
      "   1.05496496e-02 -1.40421316e-02 -2.19965894e-02  2.67479499e-03\n",
      "  -7.79353082e-04 -2.93253753e-02 -1.68443043e-02 -1.23560068e-03]\n",
      " [ 4.87196213e-03 -1.46614970e-03  3.49381682e-03  1.21791684e-03\n",
      "   8.88559781e-03 -1.04956850e-02 -1.11275874e-02 -1.45117957e-02\n",
      "  -1.01257106e-02  8.08149390e-03 -6.09161751e-03 -1.31912315e-02\n",
      "   6.30312786e-03  5.20264730e-03  1.75109319e-02  1.46758370e-02\n",
      "  -1.39754862e-02 -7.44889304e-03  1.54275168e-02  1.00354375e-02\n",
      "   2.91616051e-03 -2.81099342e-02  1.87582131e-02  1.94010716e-02\n",
      "   9.49372537e-03 -8.21544975e-03  3.52238514e-03  1.12764332e-02]\n",
      " [-1.42914699e-02 -2.89186020e-03 -2.41410527e-02 -3.99457524e-03\n",
      "  -1.33003173e-02  5.36980201e-03 -4.17804392e-03 -2.09426260e-04\n",
      "  -1.74459983e-05  6.64727343e-03 -1.00450879e-02 -1.07876007e-02\n",
      "  -1.46094942e-03 -2.68210340e-02 -1.91945489e-02 -1.46759879e-02\n",
      "  -2.60807443e-02 -1.43885855e-02 -4.88283206e-03  4.59667109e-03\n",
      "   8.67106393e-03 -8.89112893e-03 -3.25531326e-02 -3.01755778e-02\n",
      "  -5.51460404e-03 -1.57389902e-02 -1.87163763e-02 -1.66044235e-02]\n",
      " [ 2.21963041e-02 -5.87356603e-03  1.82120688e-03  9.67823435e-04\n",
      "   1.40494737e-03  3.32006365e-02  2.45014690e-02 -5.09517966e-03\n",
      "   2.52662878e-03  3.45732421e-02  3.09938956e-02  7.41004432e-03\n",
      "  -7.68663082e-03  2.81657167e-02  2.06082445e-02  3.61015983e-02\n",
      "   2.20746081e-02  1.15128178e-02  2.05313172e-02  4.13852893e-02\n",
      "   2.10912600e-02 -2.26641707e-02  4.47097085e-02  2.67940238e-02\n",
      "   1.96022615e-02 -2.11960264e-02  2.32105386e-02  1.32649567e-03]\n",
      " [-3.08514968e-03 -9.12770536e-03 -2.47693900e-02  8.85414891e-03\n",
      "  -6.26438530e-03 -1.05333375e-02  1.73647869e-02 -2.53829709e-03\n",
      "   2.31045322e-03 -4.41318825e-02 -9.99281276e-03 -1.77990515e-02\n",
      "   2.72434279e-02 -3.65135632e-02 -2.43919604e-02  8.84566177e-03\n",
      "   1.24003855e-03 -1.16482312e-02 -1.71998776e-02 -3.43372882e-03\n",
      "  -2.18190532e-03 -5.22142509e-03  2.85124686e-03  1.23024853e-02\n",
      "  -4.68459824e-04 -2.08585593e-03 -1.12790698e-02 -1.79411396e-02]\n",
      " [ 5.26337326e-03 -7.10933050e-03  5.63864736e-03 -2.64607817e-02\n",
      "   1.74273551e-02 -8.62253946e-04 -7.22802756e-03 -1.94284208e-02\n",
      "  -1.53014865e-02 -1.18215373e-02  1.21686431e-02  1.86470021e-02\n",
      "  -1.01261875e-02  7.60598248e-03  9.30035138e-04 -4.81503606e-02\n",
      "   2.14458369e-02 -1.88196311e-03  1.89916622e-02 -1.46865996e-03\n",
      "   2.45024413e-02  4.90869535e-03  1.20427608e-02  1.86947233e-03\n",
      "  -2.55730599e-02  1.21039040e-02  6.07941812e-03  2.70690192e-02]\n",
      " [-4.75938525e-03 -4.12383024e-03 -2.28909086e-02 -1.08145811e-02\n",
      "  -1.83530428e-04 -8.85393657e-03 -1.37485433e-02 -1.04779238e-02\n",
      "   2.35574925e-03 -2.71215606e-02 -3.46010290e-02 -3.03387512e-02\n",
      "  -1.08217681e-03 -3.18870991e-02 -3.89056467e-02  1.32730259e-02\n",
      "  -3.70783440e-04  4.05832194e-03 -8.81507155e-03 -1.99601054e-02\n",
      "   2.77138990e-03 -1.95900332e-02 -2.16977075e-02 -9.78598464e-03\n",
      "  -1.96254347e-02 -1.48669723e-02 -3.19198035e-02 -1.83074493e-02]\n",
      " [ 1.34568876e-02  1.92293264e-02  1.75616257e-02  2.04035249e-02\n",
      "   7.72774732e-03 -1.48153175e-02  5.54329082e-02 -5.45451837e-03\n",
      "  -1.59009527e-02  1.11155938e-02  3.33162099e-02  2.76440214e-02\n",
      "   2.31159329e-02  1.34442607e-02  1.59624945e-02  1.61917899e-02\n",
      "   6.24453835e-03  1.41657973e-02  1.60178300e-02  1.30625172e-02\n",
      "   3.12001631e-02 -6.86830375e-03  3.74139473e-02 -1.56766102e-02\n",
      "   3.68691189e-03 -2.66078804e-02  1.62189696e-02  1.60973668e-02]\n",
      " [-1.85293145e-03 -1.23677496e-02 -2.06508096e-02 -1.13271875e-03\n",
      "  -1.38851050e-02  9.91855096e-03 -2.76489444e-02 -1.95920896e-02\n",
      "   6.54850528e-03 -1.86075773e-02 -3.84046882e-02 -4.55133095e-02\n",
      "  -7.70008797e-03 -2.73149479e-02 -4.43139337e-02 -3.12559046e-02\n",
      "   5.44619700e-03 -1.87500697e-02 -2.77920645e-02 -7.71560799e-03\n",
      "  -1.95703432e-02 -3.28327306e-02 -3.09088435e-02 -2.27829032e-02\n",
      "  -2.44526565e-02  2.34195017e-04 -1.81643423e-02 -4.49774973e-03]\n",
      " [ 3.76706989e-03  1.28125772e-02  1.61151066e-02 -3.52135859e-02\n",
      "  -8.68896767e-03 -9.40798968e-03  2.81316973e-02  9.79243312e-04\n",
      "   9.75476485e-03  1.08965980e-02  3.02637070e-02  4.17371243e-02\n",
      "  -1.45484051e-02 -1.64265148e-02  6.01704838e-03  1.60688860e-03\n",
      "   2.57660449e-02 -1.47129754e-02 -9.76102613e-03  4.29512784e-02\n",
      "  -3.22452071e-03 -1.59809366e-02  3.74444830e-03  3.59354466e-02\n",
      "   2.95004323e-02  1.76636521e-02 -3.21513601e-03  1.61471497e-02]\n",
      " [ 8.54063220e-03 -3.97032453e-03 -5.18293679e-03 -5.33794938e-03\n",
      "  -1.93457678e-02 -8.37933552e-03 -2.02283170e-02  2.61480478e-03\n",
      "   1.11416187e-02  1.19333696e-02 -2.22197995e-02 -1.59945190e-02\n",
      "   1.34887332e-02 -5.10803284e-03 -2.32348517e-02 -1.04995286e-02\n",
      "  -3.00730043e-03 -1.43173970e-02 -3.23072746e-02 -3.37163284e-02\n",
      "  -4.71914979e-03 -1.36613715e-02 -4.50006463e-02 -2.49492824e-02\n",
      "   2.34495499e-03 -2.77469624e-02 -2.26152353e-02 -3.83313000e-02]\n",
      " [ 1.58492234e-02  4.67542931e-03  8.80946405e-03  1.75188913e-03\n",
      "  -1.39543302e-02 -1.68784540e-02  3.51187997e-02  1.70669891e-02\n",
      "   1.83889754e-02 -1.23302569e-03  3.47590782e-02  3.06682512e-02\n",
      "   1.64543353e-02  3.77699770e-02  2.23712157e-02  3.01565770e-02\n",
      "  -8.29150062e-03 -1.21098245e-03  4.42240462e-02 -2.67705005e-02\n",
      "   3.30768786e-02  3.90911214e-02  1.51600149e-02  3.28418836e-02\n",
      "  -6.70276722e-03 -2.47199591e-02  2.54516341e-02  3.57786007e-02]\n",
      " [-5.27484482e-03 -2.41838098e-02 -2.34135278e-02  8.45323689e-03\n",
      "  -1.86187495e-02 -4.92175370e-02 -1.00535387e-02 -1.72148142e-02\n",
      "  -3.31187015e-03 -1.56934075e-02 -9.49222408e-03 -1.77694634e-02\n",
      "  -1.03194118e-02 -4.96530607e-02 -2.65912060e-02 -3.04906219e-02\n",
      "   2.17161700e-02 -4.93944660e-02 -2.41207890e-03 -3.37495916e-02\n",
      "   2.38142591e-02 -1.92568414e-02 -3.23237665e-02 -1.77957900e-02\n",
      "   2.53201043e-03 -6.53047347e-03 -1.85944270e-02  1.08478535e-02]\n",
      " [ 3.13614449e-03  2.05447362e-03  7.28260027e-03  5.40361914e-04\n",
      "   1.61500666e-02  7.27138855e-03  3.10114361e-02  2.13432554e-02\n",
      "  -2.37054355e-03 -3.10519207e-02 -2.09067645e-03  5.16839996e-02\n",
      "   1.11960201e-03  5.27092954e-03  1.38360793e-02  6.54858351e-02\n",
      "  -1.71415489e-02 -2.51191072e-02 -2.11466383e-02  2.16445941e-02\n",
      "  -1.10277049e-02 -1.72102917e-02  5.39012181e-05  3.01285274e-02\n",
      "   9.45181772e-03 -4.00148099e-03 -4.77988878e-03  3.26428539e-03]\n",
      " [-6.21258654e-03 -1.33473706e-02 -2.14324426e-02  1.34992357e-02\n",
      "   1.97813706e-03 -1.44705754e-02 -6.76958915e-03  2.47967616e-03\n",
      "   9.34381410e-03 -9.30424500e-03  2.81201839e-03  1.98956113e-03\n",
      "  -1.02942456e-02 -4.94650267e-02 -3.26860100e-02 -4.14389707e-02\n",
      "  -1.98394600e-02 -1.71205774e-03  3.70560074e-03  1.95764867e-03\n",
      "  -3.24314386e-02 -3.10198627e-02 -2.21116655e-02  2.45603304e-02\n",
      "  -6.70803804e-03 -2.28402317e-02 -2.89199445e-02 -1.72516552e-03]\n",
      " [-5.94407145e-04 -2.28275056e-03  2.11747736e-02  2.20802631e-02\n",
      "   1.87046565e-02 -7.08149560e-03  1.97866783e-02  2.37216614e-02\n",
      "   4.14364785e-02  1.12803476e-02  2.81679314e-02  1.00953607e-02\n",
      "  -3.95344524e-03  1.15540354e-02  3.97818834e-02 -1.51123693e-02\n",
      "   6.47580856e-03  1.74212903e-02  2.52922848e-02  1.07626803e-02\n",
      "   2.77261753e-02  5.57610590e-04  3.02304868e-02  3.42306979e-02\n",
      "   3.39757502e-02  2.38364548e-04  3.74060422e-02  1.08363423e-02]\n",
      " [-3.62841040e-03  5.59725240e-03 -1.98678356e-02 -7.77380494e-03\n",
      "  -1.54710654e-02 -1.32720266e-02 -5.00165448e-02 -2.25583352e-02\n",
      "   1.04331700e-02  1.35085052e-02 -3.00835501e-02 -1.03458427e-02\n",
      "   8.75790138e-03 -3.11627910e-02 -3.53847817e-02 -5.95430937e-03\n",
      "   2.54862700e-02 -1.66224558e-02 -1.83706433e-02 -1.44946240e-02\n",
      "  -1.21976212e-02 -1.39534138e-02 -2.50742976e-02 -9.14255437e-03\n",
      "   4.21716226e-03 -2.91417036e-02 -2.37118434e-02 -2.93132826e-03]\n",
      " [ 1.07644685e-03  4.69970796e-03  2.14762036e-02 -6.01227209e-03\n",
      "   9.85432789e-03  2.21242197e-02 -4.73975157e-03  1.74817070e-02\n",
      "  -4.31078998e-03  1.84020363e-02  3.02731302e-02  3.75986611e-03\n",
      "   1.99805256e-02  3.68462838e-02  1.41090099e-02  2.33805701e-02\n",
      "  -4.16548131e-03  1.72446147e-02 -1.12760011e-02  2.57288795e-02\n",
      "   1.87042784e-02  6.56287698e-03  3.05644628e-02  1.97713953e-02\n",
      "   2.03165952e-02  2.16324739e-02 -6.31635310e-03 -2.78881937e-03]\n",
      " [-7.16875354e-03 -2.65689734e-02 -1.15911569e-02 -4.08218009e-03\n",
      "  -1.06888646e-02  1.16894124e-02 -1.32251177e-02  2.17808504e-02\n",
      "   6.08787686e-03 -2.67243292e-03 -3.03624608e-02 -3.28995585e-02\n",
      "  -1.72829274e-02 -3.90143730e-02 -1.20194061e-02 -2.77598798e-02\n",
      "  -3.17233521e-03 -1.64789916e-03  2.97507760e-03 -1.45956846e-02\n",
      "  -2.72162688e-05 -1.69316642e-02  3.33354762e-03  2.95616081e-03\n",
      "   1.03183948e-02 -1.74318608e-02 -3.08628958e-02 -2.12223250e-02]\n",
      " [ 9.62078758e-03  9.13969148e-03  5.98431099e-03  4.18248994e-04\n",
      "   1.31758107e-02 -8.55410565e-03  2.79115681e-02  2.30786987e-02\n",
      "   3.01228035e-02 -3.43591794e-02  5.05378954e-02  2.46380572e-03\n",
      "   4.56762454e-03  9.38895717e-03  1.77967064e-02  5.17565422e-02\n",
      "   2.15063449e-02 -3.82269267e-03  2.94952299e-02 -1.48013532e-02\n",
      "   2.40352731e-02 -8.53695441e-03  4.15175222e-03  2.91354638e-02\n",
      "   1.74564254e-02 -1.60026562e-03  1.61099173e-02  2.76727974e-02]\n",
      " [-6.98869070e-03 -1.23093771e-02 -1.21609559e-02  1.19950818e-02\n",
      "  -8.83534830e-03 -1.84454080e-02 -1.52582787e-02 -1.93155911e-02\n",
      "   1.90195837e-03 -8.72393791e-03 -3.67865972e-02 -6.96496759e-03\n",
      "   2.91201053e-03 -1.84109230e-02 -3.62573229e-02 -6.92003733e-03\n",
      "  -2.11705905e-04 -1.57507369e-03 -1.21307848e-02 -4.00390569e-03\n",
      "  -2.02296232e-03 -1.45019861e-02 -1.83907729e-02 -1.78366050e-03\n",
      "   6.82482845e-04 -1.80084798e-02 -3.04570030e-02 -9.48973093e-03]\n",
      " [-4.38798126e-03 -1.24884089e-02  3.80431092e-03  1.83774624e-02\n",
      "   1.98696321e-03 -1.11451447e-02  1.80625003e-02 -6.53143320e-03\n",
      "   2.81019509e-02 -2.71357242e-02 -2.17079520e-02  3.75093408e-02\n",
      "  -2.93139252e-03  2.17684992e-02  1.10205612e-03  3.18669379e-02\n",
      "  -3.61745595e-03 -3.58391233e-04  2.05669384e-02  2.21194681e-02\n",
      "   2.24967487e-02 -2.25081909e-02  1.45915095e-02  3.17517631e-02\n",
      "   2.01811530e-02  1.63744334e-02  7.66853569e-04 -2.51242053e-03]\n",
      " [-1.05665643e-02 -1.42941549e-02 -1.42522547e-02 -2.05035079e-02\n",
      "   9.17682331e-03 -1.35225691e-02 -3.12716290e-02 -4.69221501e-03\n",
      "  -2.45486386e-03 -2.60245763e-02 -3.73457670e-02  7.32170325e-03\n",
      "   5.45336260e-03 -1.25976373e-02 -3.43080834e-02 -6.35073613e-03\n",
      "   1.20627061e-02  1.02564944e-02 -6.00828277e-03 -2.62011811e-02\n",
      "  -7.81181175e-03 -4.77295509e-03 -1.77369770e-02 -1.37780560e-02\n",
      "  -6.89289207e-03 -6.81800023e-03 -1.19829467e-02 -2.48626135e-02]\n",
      " [ 2.71455530e-04 -4.68368968e-03  8.76270607e-03  3.29275541e-02\n",
      "   1.37161734e-02  1.03531834e-02  2.34611481e-02 -2.29338021e-03\n",
      "  -1.51766278e-02 -1.69852923e-03  4.22849841e-02  1.88530907e-02\n",
      "  -1.76722405e-03  1.44295981e-02  3.49140801e-02  5.42381182e-02\n",
      "   1.41325954e-03 -1.80124044e-02  6.74678981e-02  2.61720326e-02\n",
      "   1.08147491e-04 -2.34647524e-02  5.94369508e-03  3.97424772e-03\n",
      "   7.89266545e-03 -1.49752302e-02 -1.49774237e-03  1.80943571e-02]\n",
      " [-8.74425936e-03 -1.04733817e-02 -1.77297238e-02 -2.83397199e-03\n",
      "  -5.77855622e-03 -1.83963906e-02 -1.91557556e-02  1.45135808e-03\n",
      "  -2.00737510e-02 -1.94135457e-02 -1.47609515e-02 -1.87702850e-02\n",
      "  -2.01952062e-03 -4.43544053e-03 -1.56674627e-02  4.78766160e-03\n",
      "  -7.17072142e-03 -1.96908768e-02 -1.99897159e-02  1.22161568e-04\n",
      "  -1.65477619e-02 -3.21931131e-02 -1.08052175e-02 -9.97255743e-03\n",
      "  -2.32067890e-02 -1.48208989e-02 -1.49017498e-02 -1.03626270e-02]\n",
      " [ 1.26277760e-03  2.07306771e-03 -1.72442291e-02 -3.43519310e-03\n",
      "  -5.92336105e-03 -6.24746550e-03  1.03560565e-02  1.96796171e-02\n",
      "  -5.48348576e-03 -1.11612137e-02 -1.88736012e-03  1.70824379e-02\n",
      "  -3.04239267e-03  1.04040047e-02 -5.40832803e-03  3.54752168e-02\n",
      "  -1.95401534e-03  3.18752527e-02  1.24689220e-02  1.51068699e-02\n",
      "  -1.98206585e-02  1.86053924e-02  5.35281282e-03  3.53201889e-02\n",
      "  -5.41319558e-03  2.65262127e-02 -1.94537872e-03  2.25266838e-03]]\n"
     ]
    }
   ],
   "source": [
    "print(generated_image[0, :, :, 0].numpy())"
   ]
  },
  {
   "cell_type": "code",
   "execution_count": 25,
   "metadata": {
    "colab": {
     "base_uri": "https://localhost:8080/",
     "height": 176
    },
    "colab_type": "code",
    "executionInfo": {
     "elapsed": 6469,
     "status": "ok",
     "timestamp": 1590321306395,
     "user": {
      "displayName": "Oleksii Trekhleb",
      "photoUrl": "https://lh3.googleusercontent.com/a-/AOh14GiiA4aUKCbFho88Jd0WWMoAqQUt3jbuCtfNYpHVOA=s64",
      "userId": "03172675069638383074"
     },
     "user_tz": -120
    },
    "id": "HqJE3RPDQg3t",
    "outputId": "87ec0c08-7820-4d01-b438-05d2031bc059"
   },
   "outputs": [
    {
     "data": {
      "text/plain": [
       "<matplotlib.image.AxesImage at 0x1297df4d0>"
      ]
     },
     "execution_count": 25,
     "metadata": {},
     "output_type": "execute_result"
    },
    {
     "data": {
      "image/png": "[encoded data removed]",
      "text/plain": [
       "<Figure size 144x144 with 1 Axes>"
      ]
     },
     "metadata": {
      "needs_background": "light"
     },
     "output_type": "display_data"
    }
   ],
   "source": [
    "plt.figure(figsize=(2, 2))\n",
    "plt.imshow(generated_image[0, :, :, 0], cmap=plt.cm.binary)"
   ]
  },
  {
   "cell_type": "markdown",
   "metadata": {
    "colab_type": "text",
    "id": "8P-p-9TyQg3v"
   },
   "source": [
    "### Create discriminator"
   ]
  },
  {
   "cell_type": "markdown",
   "metadata": {
    "colab_type": "text",
    "id": "GMxma8xY98J4"
   },
   "source": [
    "The model will be trained to output positive values for real images, and negative values for fake images."
   ]
  },
  {
   "cell_type": "code",
   "execution_count": 26,
   "metadata": {
    "colab": {},
    "colab_type": "code",
    "id": "hEYxHXjSQg3w"
   },
   "outputs": [],
   "source": [
    "def make_discriminator_model():\n",
    "    model = tf.keras.Sequential()\n",
    "    \n",
    "    # Step 1.\n",
    "    model.add(tf.keras.layers.Conv2D(\n",
    "        filters=64,\n",
    "        kernel_size=(5, 5),\n",
    "        strides=(2, 2),\n",
    "        padding='same',\n",
    "        input_shape=[28, 28, 1]\n",
    "    ))\n",
    "    model.add(tf.keras.layers.LeakyReLU())\n",
    "    model.add(tf.keras.layers.Dropout(0.3))\n",
    "    \n",
    "    # Step 2.\n",
    "    model.add(tf.keras.layers.Conv2D(\n",
    "        filters=128,\n",
    "        kernel_size=(5, 5),\n",
    "        strides=(2, 2),\n",
    "        padding='same'\n",
    "    ))\n",
    "    model.add(tf.keras.layers.LeakyReLU())\n",
    "    model.add(tf.keras.layers.Dropout(0.3))\n",
    "    \n",
    "    # Step 3.\n",
    "    model.add(tf.keras.layers.Flatten())\n",
    "    \n",
    "    # Real vs Fake\n",
    "    model.add(tf.keras.layers.Dense(1))\n",
    "    \n",
    "    return model"
   ]
  },
  {
   "cell_type": "code",
   "execution_count": 27,
   "metadata": {
    "colab": {},
    "colab_type": "code",
    "id": "SXVq9v73Qg3y"
   },
   "outputs": [],
   "source": [
    "discriminator_model = make_discriminator_model()"
   ]
  },
  {
   "cell_type": "code",
   "execution_count": 28,
   "metadata": {
    "colab": {
     "base_uri": "https://localhost:8080/",
     "height": 425
    },
    "colab_type": "code",
    "executionInfo": {
     "elapsed": 6875,
     "status": "ok",
     "timestamp": 1590321306844,
     "user": {
      "displayName": "Oleksii Trekhleb",
      "photoUrl": "https://lh3.googleusercontent.com/a-/AOh14GiiA4aUKCbFho88Jd0WWMoAqQUt3jbuCtfNYpHVOA=s64",
      "userId": "03172675069638383074"
     },
     "user_tz": -120
    },
    "id": "5fJwL4HNQg30",
    "outputId": "0f57f9dd-a69d-4c39-ed4e-da503974ae8c"
   },
   "outputs": [
    {
     "name": "stdout",
     "output_type": "stream",
     "text": [
      "Model: \"sequential_1\"\n",
      "_________________________________________________________________\n",
      "Layer (type)                 Output Shape              Param #   \n",
      "=================================================================\n",
      "conv2d (Conv2D)              (None, 14, 14, 64)        1664      \n",
      "_________________________________________________________________\n",
      "leaky_re_lu_3 (LeakyReLU)    (None, 14, 14, 64)        0         \n",
      "_________________________________________________________________\n",
      "dropout (Dropout)            (None, 14, 14, 64)        0         \n",
      "_________________________________________________________________\n",
      "conv2d_1 (Conv2D)            (None, 7, 7, 128)         204928    \n",
      "_________________________________________________________________\n",
      "leaky_re_lu_4 (LeakyReLU)    (None, 7, 7, 128)         0         \n",
      "_________________________________________________________________\n",
      "dropout_1 (Dropout)          (None, 7, 7, 128)         0         \n",
      "_________________________________________________________________\n",
      "flatten (Flatten)            (None, 6272)              0         \n",
      "_________________________________________________________________\n",
      "dense_1 (Dense)              (None, 1)                 6273      \n",
      "=================================================================\n",
      "Total params: 212,865\n",
      "Trainable params: 212,865\n",
      "Non-trainable params: 0\n",
      "_________________________________________________________________\n"
     ]
    }
   ],
   "source": [
    "discriminator_model.summary()"
   ]
  },
  {
   "cell_type": "code",
   "execution_count": 29,
   "metadata": {
    "colab": {
     "base_uri": "https://localhost:8080/",
     "height": 976
    },
    "colab_type": "code",
    "executionInfo": {
     "elapsed": 6860,
     "status": "ok",
     "timestamp": 1590321306846,
     "user": {
      "displayName": "Oleksii Trekhleb",
      "photoUrl": "https://lh3.googleusercontent.com/a-/AOh14GiiA4aUKCbFho88Jd0WWMoAqQUt3jbuCtfNYpHVOA=s64",
      "userId": "03172675069638383074"
     },
     "user_tz": -120
    },
    "id": "q4RVqrijQg32",
    "outputId": "1d90997f-c293-4101-b3b3-34d36178387f"
   },
   "outputs": [
    {
     "data": {
      "image/png": "[encoded data removed]",
      "text/plain": [
       "<IPython.core.display.Image object>"
      ]
     },
     "execution_count": 29,
     "metadata": {},
     "output_type": "execute_result"
    }
   ],
   "source": [
    "tf.keras.utils.plot_model(\n",
    "    discriminator_model,\n",
    "    show_shapes=True,\n",
    "    show_layer_names=True,\n",
    "    to_file='discriminator_model.png'\n",
    ")"
   ]
  },
  {
   "cell_type": "code",
   "execution_count": 30,
   "metadata": {
    "colab": {
     "base_uri": "https://localhost:8080/",
     "height": 34
    },
    "colab_type": "code",
    "executionInfo": {
     "elapsed": 6838,
     "status": "ok",
     "timestamp": 1590321306846,
     "user": {
      "displayName": "Oleksii Trekhleb",
      "photoUrl": "https://lh3.googleusercontent.com/a-/AOh14GiiA4aUKCbFho88Jd0WWMoAqQUt3jbuCtfNYpHVOA=s64",
      "userId": "03172675069638383074"
     },
     "user_tz": -120
    },
    "id": "CxhYlwKpQg35",
    "outputId": "fd520bdd-00d2-4615-c326-66fed5b71f8f"
   },
   "outputs": [
    {
     "name": "stdout",
     "output_type": "stream",
     "text": [
      "tf.Tensor([[0.00078041]], shape=(1, 1), dtype=float32)\n"
     ]
    }
   ],
   "source": [
    "dicision = discriminator_model(generated_image)\n",
    "\n",
    "print(dicision)"
   ]
  },
  {
   "cell_type": "markdown",
   "metadata": {
    "colab_type": "text",
    "id": "saZZ2ozFQg38"
   },
   "source": [
    "## Define the loss and optimizers"
   ]
  },
  {
   "cell_type": "markdown",
   "metadata": {
    "colab_type": "text",
    "id": "TH7S6Vb-Qg3_"
   },
   "source": [
    "### Discriminator loss"
   ]
  },
  {
   "cell_type": "markdown",
   "metadata": {
    "colab_type": "text",
    "id": "A_kkPLrEQg4A"
   },
   "source": [
    "This method quantifies how well the discriminator is able to distinguish real images from fakes. It compares the discriminator's predictions on real images to an array of 1s, and the discriminator's predictions on fake (generated) images to an array of 0s."
   ]
  },
  {
   "cell_type": "code",
   "execution_count": 31,
   "metadata": {
    "colab": {},
    "colab_type": "code",
    "id": "LIIVrFw_Qg4A"
   },
   "outputs": [],
   "source": [
    "def discriminator_loss(real_output, fake_output):\n",
    "    cross_entropy = tf.keras.losses.BinaryCrossentropy(from_logits=True)\n",
    "    \n",
    "    real_loss = cross_entropy(tf.ones_like(real_output), real_output)\n",
    "    fake_loss = cross_entropy(tf.zeros_like(fake_output), fake_output)\n",
    "    \n",
    "    total_loss = real_loss + fake_loss\n",
    "    \n",
    "    return total_loss"
   ]
  },
  {
   "cell_type": "code",
   "execution_count": 32,
   "metadata": {
    "colab": {
     "base_uri": "https://localhost:8080/",
     "height": 357
    },
    "colab_type": "code",
    "executionInfo": {
     "elapsed": 6807,
     "status": "ok",
     "timestamp": 1590321306848,
     "user": {
      "displayName": "Oleksii Trekhleb",
      "photoUrl": "https://lh3.googleusercontent.com/a-/AOh14GiiA4aUKCbFho88Jd0WWMoAqQUt3jbuCtfNYpHVOA=s64",
      "userId": "03172675069638383074"
     },
     "user_tz": -120
    },
    "id": "BW_KzvvbtXdU",
    "outputId": "0f894df0-bf9e-474d-98e6-13ff1980e7f9"
   },
   "outputs": [
    {
     "name": "stdout",
     "output_type": "stream",
     "text": [
      "Discriminator loss for: [-1.0] [1.0]\n",
      "  REAL output: [-1.0]\n",
      "  FAKE output: [1.0]\n",
      "  loss:  2.6265235\n",
      "\n",
      "Discriminator loss for: [1.0] [-1.0]\n",
      "  REAL output: [1.0]\n",
      "  FAKE output: [-1.0]\n",
      "  loss:  0.6265234\n",
      "\n",
      "Discriminator loss for: [1.0] [0.0]\n",
      "  REAL output: [1.0]\n",
      "  FAKE output: [0.0]\n",
      "  loss:  1.0064089\n",
      "\n",
      "Discriminator loss for: [10.0] [-1.0]\n",
      "  REAL output: [10.0]\n",
      "  FAKE output: [-1.0]\n",
      "  loss:  0.31330708\n",
      "\n"
     ]
    }
   ],
   "source": [
    "# Test discriminator loss function.\n",
    "output_combinations = [\n",
    "     # REAL  #FAKE\n",
    "    ([-1.],  [1.]),\n",
    "    ([1.],   [-1.]),  \n",
    "    ([1.],   [0.]),\n",
    "    ([10.],  [-1.]),                       \n",
    "]\n",
    "for (real_output, fake_output) in output_combinations:\n",
    "    loss = discriminator_loss(real_output, fake_output).numpy()\n",
    "    print('Discriminator loss for:', real_output, fake_output)\n",
    "    print('  REAL output:', real_output)\n",
    "    print('  FAKE output:', fake_output)\n",
    "    print('  loss: ', loss)\n",
    "    print()"
   ]
  },
  {
   "cell_type": "markdown",
   "metadata": {
    "colab_type": "text",
    "id": "e2DxcJciQg4C"
   },
   "source": [
    "### Generator loss"
   ]
  },
  {
   "cell_type": "markdown",
   "metadata": {
    "colab_type": "text",
    "id": "N8qU-1FgQg4D"
   },
   "source": [
    "The generator's loss quantifies how well it was able to trick the discriminator. Intuitively, if the generator is performing well, the discriminator will classify the fake images as real (or 1). Here, we will compare the discriminators decisions on the generated images to an array of 1s."
   ]
  },
  {
   "cell_type": "code",
   "execution_count": 33,
   "metadata": {
    "colab": {},
    "colab_type": "code",
    "id": "rJBXqhHbQg4D"
   },
   "outputs": [],
   "source": [
    "def generator_loss(fake_output):\n",
    "    cross_entropy = tf.keras.losses.BinaryCrossentropy(from_logits=True)\n",
    "    loss = cross_entropy(tf.ones_like(fake_output), fake_output)\n",
    "    return loss"
   ]
  },
  {
   "cell_type": "code",
   "execution_count": 34,
   "metadata": {
    "colab": {
     "base_uri": "https://localhost:8080/",
     "height": 51
    },
    "colab_type": "code",
    "executionInfo": {
     "elapsed": 6782,
     "status": "ok",
     "timestamp": 1590321306849,
     "user": {
      "displayName": "Oleksii Trekhleb",
      "photoUrl": "https://lh3.googleusercontent.com/a-/AOh14GiiA4aUKCbFho88Jd0WWMoAqQUt3jbuCtfNYpHVOA=s64",
      "userId": "03172675069638383074"
     },
     "user_tz": -120
    },
    "id": "P0m4KS6vmwvn",
    "outputId": "564cc477-72ed-487f-a2d4-ebc13bda917c"
   },
   "outputs": [
    {
     "name": "stdout",
     "output_type": "stream",
     "text": [
      "Generator loss for >1:  0.0067153485\n",
      "Generator loss for =0:  0.6931472\n"
     ]
    }
   ],
   "source": [
    "# Test generator loss function.\n",
    "print('Generator loss for >1: ', generator_loss([5.]).numpy())\n",
    "print('Generator loss for =0: ', generator_loss([0.]).numpy())"
   ]
  },
  {
   "cell_type": "markdown",
   "metadata": {
    "colab_type": "text",
    "id": "Mi9jp1_9Qg4F"
   },
   "source": [
    "### Optimizers"
   ]
  },
  {
   "cell_type": "code",
   "execution_count": 35,
   "metadata": {
    "colab": {},
    "colab_type": "code",
    "id": "TSU3_5gbQg4G"
   },
   "outputs": [],
   "source": [
    "generator_optimizer = tf.keras.optimizers.Adam(\n",
    "    learning_rate=0.0001\n",
    ")\n",
    "\n",
    "discriminator_optimizer = tf.keras.optimizers.Adam(\n",
    "    learning_rate=0.0001\n",
    ")"
   ]
  },
  {
   "cell_type": "markdown",
   "metadata": {
    "colab_type": "text",
    "id": "rWBjzt3qQg4I"
   },
   "source": [
    "### Checkpoints"
   ]
  },
  {
   "cell_type": "code",
   "execution_count": 36,
   "metadata": {
    "colab": {},
    "colab_type": "code",
    "id": "5Pr6nWeoQg4I"
   },
   "outputs": [],
   "source": [
    "checkpoint_dir = './tmp/ckpt'\n",
    "checkpoint_prefix = os.path.join(checkpoint_dir, 'ckpt')\n",
    "checkpoint = tf.train.Checkpoint(\n",
    "    generator_optimizer=generator_optimizer,\n",
    "    discriminator_optimizer=discriminator_optimizer,\n",
    "    generator_model=generator_model,\n",
    "    discriminator_model=discriminator_model\n",
    ")"
   ]
  },
  {
   "cell_type": "markdown",
   "metadata": {
    "colab_type": "text",
    "id": "8otRVn4IQg4K"
   },
   "source": [
    "## Training"
   ]
  },
  {
   "cell_type": "code",
   "execution_count": 37,
   "metadata": {
    "colab": {},
    "colab_type": "code",
    "id": "BpCl3B12Qg4L"
   },
   "outputs": [],
   "source": [
    "EPOCHS = 1\n",
    "noise_dim = 100\n",
    "num_examples_to_generate = 16\n",
    "\n",
    "# We will reuse this seed overtime (so it's easier)\n",
    "# to visualize progress in the animated GIF)\n",
    "input_noise_seed = tf.random.normal([num_examples_to_generate, noise_dim])"
   ]
  },
  {
   "cell_type": "markdown",
   "metadata": {
    "colab_type": "text",
    "id": "wMfKmOXBQg4N"
   },
   "source": [
    "The training loop begins with generator receiving a random seed as input. That seed is used to produce an image. The discriminator is then used to classify real images (drawn from the training set) and fakes images (produced by the generator). The loss is calculated for each of these models, and the gradients are used to update the generator and discriminator."
   ]
  },
  {
   "cell_type": "code",
   "execution_count": 38,
   "metadata": {
    "colab": {},
    "colab_type": "code",
    "id": "ItXgX2i-Qg4N"
   },
   "outputs": [],
   "source": [
    "# This `tf.function` annotation causes the function to be \"compiled\".\n",
    "# @tf.function\n",
    "def train_step(real_images):\n",
    "    training_history = {\n",
    "        'discriminator': {\n",
    "            'loss': None\n",
    "        },\n",
    "        'generator': {\n",
    "            'loss': None\n",
    "        }\n",
    "    }\n",
    "\n",
    "    # Generate input noise.\n",
    "    noise_images = tf.random.normal([BATCH_SIZE, noise_dim])\n",
    "    \n",
    "    with tf.GradientTape() as gen_tape, tf.GradientTape() as disc_tape:\n",
    "        # Generate fake images.\n",
    "        generated_images = generator_model(\n",
    "            noise_images,\n",
    "            training=True\n",
    "        )\n",
    "        \n",
    "        # Detect fake and real images.\n",
    "        real_output = discriminator_model(\n",
    "            real_images,\n",
    "            training=True\n",
    "        )\n",
    "        fake_output = discriminator_model(\n",
    "            generated_images,\n",
    "            training=True\n",
    "        )\n",
    "        \n",
    "        # Calculate losses.\n",
    "        gen_loss = generator_loss(fake_output)\n",
    "        disc_loss = discriminator_loss(\n",
    "            real_output,\n",
    "            fake_output\n",
    "        )\n",
    "\n",
    "        training_history['discriminator']['loss'] = disc_loss.numpy()\n",
    "        training_history['generator']['loss'] = gen_loss.numpy()\n",
    "    \n",
    "    # Calculate gradients.\n",
    "    gradients_of_generator = gen_tape.gradient(\n",
    "        gen_loss,\n",
    "        generator_model.trainable_variables\n",
    "    )\n",
    "    gradients_of_discriminator = disc_tape.gradient(\n",
    "        disc_loss,\n",
    "        discriminator_model.trainable_variables\n",
    "    )\n",
    "    \n",
    "    # Do gradient step.\n",
    "    generator_optimizer.apply_gradients(zip(\n",
    "        gradients_of_generator,\n",
    "        generator_model.trainable_variables\n",
    "    ))\n",
    "    discriminator_optimizer.apply_gradients(zip(\n",
    "        gradients_of_discriminator,\n",
    "        discriminator_model.trainable_variables\n",
    "    ))\n",
    "\n",
    "    return training_history"
   ]
  },
  {
   "cell_type": "code",
   "execution_count": 39,
   "metadata": {
    "colab": {},
    "colab_type": "code",
    "id": "YCAgeGOtQg4P"
   },
   "outputs": [],
   "source": [
    "def train(dataset, epochs, start_epoch=0):\n",
    "    print('Start training...')\n",
    "    \n",
    "    training_history = {\n",
    "        'discriminator': {\n",
    "            'loss': []\n",
    "        },\n",
    "        'generator': {\n",
    "            'loss': []\n",
    "        }\n",
    "    }\n",
    "\n",
    "    for epoch in range(epochs)[start_epoch:]:\n",
    "        print('Start epoch #{} ({} steps)...'.format(epoch + 1, TRAINING_STEPS_PER_EPOCH))\n",
    "        \n",
    "        start = time.time()\n",
    "        \n",
    "        step = 0\n",
    "        for image_batch in dataset:\n",
    "            step += 1\n",
    "            \n",
    "            # display.clear_output(wait=True)\n",
    "            # show_progress(step, TRAINING_STEPS_PER_EPOCH)\n",
    "            # generate_and_save_images(\n",
    "            #     generator_model,\n",
    "            #     epoch + 1,\n",
    "            #     input_noise_seed,\n",
    "            #     save=False\n",
    "            # )\n",
    "            \n",
    "            training_step_history = train_step(image_batch)\n",
    "\n",
    "            discriminator_step_loss = training_step_history['discriminator']['loss']\n",
    "            generator_step_loss = training_step_history['generator']['loss']\n",
    "\n",
    "        training_history['discriminator']['loss'].append(discriminator_step_loss)\n",
    "        training_history['generator']['loss'].append(generator_step_loss)\n",
    "            \n",
    "        # Produce images for the GIF as we go.\n",
    "        display.clear_output(wait=True)\n",
    "        generate_and_save_images(\n",
    "            generator_model,\n",
    "            epoch + 1,\n",
    "            input_noise_seed\n",
    "        )\n",
    "        \n",
    "        # Save the model every 10 epochs.\n",
    "        if (epoch + 1) % 10 == 0:\n",
    "            checkpoint.save(file_prefix=checkpoint_prefix)\n",
    "            \n",
    "        print('Time for epoch #{} is {:.2f}s'.format(epoch + 1, time.time() - start))\n",
    "        print('Discriminator loss: {:.4f}'.format(discriminator_step_loss))\n",
    "        print('Generator loss: {:.4f}'.format(generator_step_loss))\n",
    "\n",
    "    return training_history"
   ]
  },
  {
   "cell_type": "code",
   "execution_count": 40,
   "metadata": {
    "colab": {},
    "colab_type": "code",
    "id": "uF74K1eO2ZW1"
   },
   "outputs": [],
   "source": [
    "def show_progress(current_step, total_steps):\n",
    "    length_divider = 2\n",
    "    progress = math.floor(current_step * 100 / total_steps)\n",
    "    done_steps = progress\n",
    "    left_steps = 100 - done_steps\n",
    "    done_dots = ''.join(['◼︎' for step in range(math.floor(done_steps / length_divider))])\n",
    "    left_dors = ''.join(['・' for step in range(math.floor(left_steps / length_divider))])\n",
    "    print(f'{current_step}/{total_steps}: {done_dots}{left_dors}')"
   ]
  },
  {
   "cell_type": "code",
   "execution_count": 41,
   "metadata": {
    "colab": {
     "base_uri": "https://localhost:8080/",
     "height": 34
    },
    "colab_type": "code",
    "executionInfo": {
     "elapsed": 6914,
     "status": "ok",
     "timestamp": 1590321307097,
     "user": {
      "displayName": "Oleksii Trekhleb",
      "photoUrl": "https://lh3.googleusercontent.com/a-/AOh14GiiA4aUKCbFho88Jd0WWMoAqQUt3jbuCtfNYpHVOA=s64",
      "userId": "03172675069638383074"
     },
     "user_tz": -120
    },
    "id": "52NEX7c42nfc",
    "outputId": "a7b5e795-2dce-4334-b3b5-d589e009a0e0"
   },
   "outputs": [
    {
     "name": "stdout",
     "output_type": "stream",
     "text": [
      "15/68: ◼︎◼︎◼︎◼︎◼︎◼︎◼︎◼︎◼︎◼︎◼︎・・・・・・・・・・・・・・・・・・・・・・・・・・・・・・・・・・・・・・・\n"
     ]
    }
   ],
   "source": [
    "# Test progress function.\n",
    "show_progress(15, 68)"
   ]
  },
  {
   "cell_type": "code",
   "execution_count": 42,
   "metadata": {
    "colab": {},
    "colab_type": "code",
    "id": "LzEKvY7JQg4R"
   },
   "outputs": [],
   "source": [
    "IMAGES_PREVIEW_PATH = 'tmp/imgs/'\n",
    "\n",
    "if not os.path.exists(IMAGES_PREVIEW_PATH):\n",
    "    os.makedirs(IMAGES_PREVIEW_PATH)"
   ]
  },
  {
   "cell_type": "code",
   "execution_count": 43,
   "metadata": {
    "colab": {},
    "colab_type": "code",
    "id": "zlBXJ5HMQg4T"
   },
   "outputs": [],
   "source": [
    "def generate_and_save_images(model, epoch, test_input, save=True):\n",
    "    # Notice `training` is set to False.\n",
    "    # This is so all layers run in inference mode (batchnorm).\n",
    "    predictions = model(test_input, training=False)\n",
    "    \n",
    "    fig_dimension = int(math.sqrt(num_examples_to_generate))\n",
    "    plt.figure(figsize=(8, 8))\n",
    "    fig = plt.figure(figsize=(fig_dimension, fig_dimension))\n",
    "    \n",
    "    for i in range(predictions.shape[0]):\n",
    "        plt.subplot(fig_dimension, fig_dimension, i+1)\n",
    "        plt.imshow(\n",
    "            predictions[i, :, :, 0] * 127.5 + 127.5,\n",
    "            cmap=plt.cm.binary\n",
    "        )\n",
    "        plt.axis('off')\n",
    "        \n",
    "    if save:\n",
    "        plt.savefig('{}image_at_epoch_{:04d}.png'.format(IMAGES_PREVIEW_PATH, epoch))\n",
    "        \n",
    "    plt.show()"
   ]
  },
  {
   "cell_type": "code",
   "execution_count": 44,
   "metadata": {
    "colab": {},
    "colab_type": "code",
    "id": "Pwt3GZoPbymh"
   },
   "outputs": [],
   "source": [
    "if not 'training_history' in locals():\n",
    "    training_history = {\n",
    "        'discriminator': {\n",
    "            'loss': []\n",
    "        },\n",
    "        'generator': {\n",
    "            'loss': []\n",
    "        }\n",
    "    }"
   ]
  },
  {
   "cell_type": "code",
   "execution_count": 47,
   "metadata": {
    "colab": {},
    "colab_type": "code",
    "id": "2OUBVMrQacDF"
   },
   "outputs": [],
   "source": [
    "training_session_num = 160\n",
    "start_epoch = training_session_num * EPOCHS\n",
    "epochs_num = start_epoch + EPOCHS"
   ]
  },
  {
   "cell_type": "code",
   "execution_count": 48,
   "metadata": {
    "colab": {
     "base_uri": "https://localhost:8080/",
     "height": 316
    },
    "colab_type": "code",
    "executionInfo": {
     "elapsed": 113057,
     "status": "ok",
     "timestamp": 1590322713559,
     "user": {
      "displayName": "Oleksii Trekhleb",
      "photoUrl": "https://lh3.googleusercontent.com/a-/AOh14GiiA4aUKCbFho88Jd0WWMoAqQUt3jbuCtfNYpHVOA=s64",
      "userId": "03172675069638383074"
     },
     "user_tz": -120
    },
    "id": "XvOrylCyQg4W",
    "outputId": "cdf1cd2c-bda7-4bfb-a429-fcd8251bee5a"
   },
   "outputs": [
    {
     "name": "stdout",
     "output_type": "stream",
     "text": [
      "Start training...\n",
      "Start epoch #161 (69 steps)...\n"
     ]
    },
    {
     "ename": "KeyboardInterrupt",
     "evalue": "",
     "output_type": "error",
     "traceback": [
      "\u001b[0;31m---------------------------------------------------------------------------\u001b[0m",
      "\u001b[0;31mKeyboardInterrupt\u001b[0m                         Traceback (most recent call last)",
      "\u001b[0;32m<ipython-input-48-105ea859d517>\u001b[0m in \u001b[0;36m<module>\u001b[0;34m\u001b[0m\n\u001b[1;32m      2\u001b[0m     \u001b[0mtrain_dataset\u001b[0m\u001b[0;34m,\u001b[0m\u001b[0;34m\u001b[0m\u001b[0;34m\u001b[0m\u001b[0m\n\u001b[1;32m      3\u001b[0m     \u001b[0mepochs\u001b[0m\u001b[0;34m=\u001b[0m\u001b[0mepochs_num\u001b[0m\u001b[0;34m,\u001b[0m\u001b[0;34m\u001b[0m\u001b[0;34m\u001b[0m\u001b[0m\n\u001b[0;32m----> 4\u001b[0;31m     \u001b[0mstart_epoch\u001b[0m\u001b[0;34m=\u001b[0m\u001b[0mstart_epoch\u001b[0m\u001b[0;34m\u001b[0m\u001b[0;34m\u001b[0m\u001b[0m\n\u001b[0m\u001b[1;32m      5\u001b[0m )\n",
      "\u001b[0;32m<ipython-input-39-491389e76c0b>\u001b[0m in \u001b[0;36mtrain\u001b[0;34m(dataset, epochs, start_epoch)\u001b[0m\n\u001b[1;32m     29\u001b[0m             \u001b[0;31m# )\u001b[0m\u001b[0;34m\u001b[0m\u001b[0;34m\u001b[0m\u001b[0;34m\u001b[0m\u001b[0m\n\u001b[1;32m     30\u001b[0m \u001b[0;34m\u001b[0m\u001b[0m\n\u001b[0;32m---> 31\u001b[0;31m             \u001b[0mtraining_step_history\u001b[0m \u001b[0;34m=\u001b[0m \u001b[0mtrain_step\u001b[0m\u001b[0;34m(\u001b[0m\u001b[0mimage_batch\u001b[0m\u001b[0;34m)\u001b[0m\u001b[0;34m\u001b[0m\u001b[0;34m\u001b[0m\u001b[0m\n\u001b[0m\u001b[1;32m     32\u001b[0m \u001b[0;34m\u001b[0m\u001b[0m\n\u001b[1;32m     33\u001b[0m             \u001b[0mdiscriminator_step_loss\u001b[0m \u001b[0;34m=\u001b[0m \u001b[0mtraining_step_history\u001b[0m\u001b[0;34m[\u001b[0m\u001b[0;34m'discriminator'\u001b[0m\u001b[0;34m]\u001b[0m\u001b[0;34m[\u001b[0m\u001b[0;34m'loss'\u001b[0m\u001b[0;34m]\u001b[0m\u001b[0;34m\u001b[0m\u001b[0;34m\u001b[0m\u001b[0m\n",
      "\u001b[0;32m<ipython-input-38-ff652708728e>\u001b[0m in \u001b[0;36mtrain_step\u001b[0;34m(real_images)\u001b[0m\n\u001b[1;32m     48\u001b[0m     gradients_of_discriminator = disc_tape.gradient(\n\u001b[1;32m     49\u001b[0m         \u001b[0mdisc_loss\u001b[0m\u001b[0;34m,\u001b[0m\u001b[0;34m\u001b[0m\u001b[0;34m\u001b[0m\u001b[0m\n\u001b[0;32m---> 50\u001b[0;31m         \u001b[0mdiscriminator_model\u001b[0m\u001b[0;34m.\u001b[0m\u001b[0mtrainable_variables\u001b[0m\u001b[0;34m\u001b[0m\u001b[0;34m\u001b[0m\u001b[0m\n\u001b[0m\u001b[1;32m     51\u001b[0m     )\n\u001b[1;32m     52\u001b[0m \u001b[0;34m\u001b[0m\u001b[0m\n",
      "\u001b[0;32m~/Projects/machine-learning-experiments/.virtualenvs/experiments/lib/python3.7/site-packages/tensorflow_core/python/eager/backprop.py\u001b[0m in \u001b[0;36mgradient\u001b[0;34m(self, target, sources, output_gradients, unconnected_gradients)\u001b[0m\n\u001b[1;32m   1027\u001b[0m         \u001b[0moutput_gradients\u001b[0m\u001b[0;34m=\u001b[0m\u001b[0moutput_gradients\u001b[0m\u001b[0;34m,\u001b[0m\u001b[0;34m\u001b[0m\u001b[0;34m\u001b[0m\u001b[0m\n\u001b[1;32m   1028\u001b[0m         \u001b[0msources_raw\u001b[0m\u001b[0;34m=\u001b[0m\u001b[0mflat_sources_raw\u001b[0m\u001b[0;34m,\u001b[0m\u001b[0;34m\u001b[0m\u001b[0;34m\u001b[0m\u001b[0m\n\u001b[0;32m-> 1029\u001b[0;31m         unconnected_gradients=unconnected_gradients)\n\u001b[0m\u001b[1;32m   1030\u001b[0m \u001b[0;34m\u001b[0m\u001b[0m\n\u001b[1;32m   1031\u001b[0m     \u001b[0;32mif\u001b[0m \u001b[0;32mnot\u001b[0m \u001b[0mself\u001b[0m\u001b[0;34m.\u001b[0m\u001b[0m_persistent\u001b[0m\u001b[0;34m:\u001b[0m\u001b[0;34m\u001b[0m\u001b[0;34m\u001b[0m\u001b[0m\n",
      "\u001b[0;32m~/Projects/machine-learning-experiments/.virtualenvs/experiments/lib/python3.7/site-packages/tensorflow_core/python/eager/imperative_grad.py\u001b[0m in \u001b[0;36mimperative_grad\u001b[0;34m(tape, target, sources, output_gradients, sources_raw, unconnected_gradients)\u001b[0m\n\u001b[1;32m     75\u001b[0m       \u001b[0moutput_gradients\u001b[0m\u001b[0;34m,\u001b[0m\u001b[0;34m\u001b[0m\u001b[0;34m\u001b[0m\u001b[0m\n\u001b[1;32m     76\u001b[0m       \u001b[0msources_raw\u001b[0m\u001b[0;34m,\u001b[0m\u001b[0;34m\u001b[0m\u001b[0;34m\u001b[0m\u001b[0m\n\u001b[0;32m---> 77\u001b[0;31m       compat.as_str(unconnected_gradients.value))\n\u001b[0m",
      "\u001b[0;32m~/Projects/machine-learning-experiments/.virtualenvs/experiments/lib/python3.7/site-packages/tensorflow_core/python/eager/backprop.py\u001b[0m in \u001b[0;36m_gradient_function\u001b[0;34m(op_name, attr_tuple, num_inputs, inputs, outputs, out_grads, skip_input_indices)\u001b[0m\n\u001b[1;32m    117\u001b[0m \u001b[0;34m\u001b[0m\u001b[0m\n\u001b[1;32m    118\u001b[0m \u001b[0;34m\u001b[0m\u001b[0m\n\u001b[0;32m--> 119\u001b[0;31m def _gradient_function(op_name, attr_tuple, num_inputs, inputs, outputs,\n\u001b[0m\u001b[1;32m    120\u001b[0m                        out_grads, skip_input_indices):\n\u001b[1;32m    121\u001b[0m   \"\"\"Calls the gradient function of the op.\n",
      "\u001b[0;31mKeyboardInterrupt\u001b[0m: "
     ]
    }
   ],
   "source": [
    "training_history_current = train(\n",
    "    train_dataset,\n",
    "    epochs=epochs_num,\n",
    "    start_epoch=start_epoch\n",
    ")"
   ]
  },
  {
   "cell_type": "markdown",
   "metadata": {
    "colab_type": "text",
    "id": "6X1UmYI1wigl"
   },
   "source": [
    "## Analyzing training history"
   ]
  },
  {
   "cell_type": "code",
   "execution_count": 0,
   "metadata": {
    "colab": {},
    "colab_type": "code",
    "id": "Z6fXukApcNQL"
   },
   "outputs": [],
   "source": [
    "training_history['generator']['loss'] += training_history_current['generator']['loss']\n",
    "training_history['discriminator']['loss'] += training_history_current['discriminator']['loss']"
   ]
  },
  {
   "cell_type": "code",
   "execution_count": 0,
   "metadata": {
    "colab": {},
    "colab_type": "code",
    "id": "0CDYJ2I7whZ3"
   },
   "outputs": [],
   "source": [
    "def render_training_history(training_history):\n",
    "    generator_loss = training_history['generator']['loss']\n",
    "    discriminator_loss = training_history['discriminator']['loss']\n",
    "\n",
    "    plt.figure(figsize=(14, 4))\n",
    "\n",
    "    plt.subplot(1, 2, 1)\n",
    "    plt.title('Generator Loss')\n",
    "    plt.xlabel('Epoch')\n",
    "    plt.ylabel('Loss')\n",
    "    plt.plot(generator_loss, label='Generator loss')\n",
    "    plt.legend()\n",
    "    plt.grid(linestyle='--', linewidth=1, alpha=0.5)\n",
    "\n",
    "    plt.subplot(1, 2, 2)\n",
    "    plt.title('Discriminator Loss')\n",
    "    plt.xlabel('Epoch')\n",
    "    plt.ylabel('Loss')\n",
    "    plt.plot(discriminator_loss, label='Discriminator loss')\n",
    "    plt.legend()\n",
    "    plt.grid(linestyle='--', linewidth=1, alpha=0.5)\n",
    "\n",
    "    plt.show()"
   ]
  },
  {
   "cell_type": "code",
   "execution_count": 74,
   "metadata": {
    "colab": {
     "base_uri": "https://localhost:8080/",
     "height": 295
    },
    "colab_type": "code",
    "executionInfo": {
     "elapsed": 1124,
     "status": "ok",
     "timestamp": 1590322589814,
     "user": {
      "displayName": "Oleksii Trekhleb",
      "photoUrl": "https://lh3.googleusercontent.com/a-/AOh14GiiA4aUKCbFho88Jd0WWMoAqQUt3jbuCtfNYpHVOA=s64",
      "userId": "03172675069638383074"
     },
     "user_tz": -120
    },
    "id": "g-2iBs8jx1Ou",
    "outputId": "25b0ba70-8964-4fff-bf2f-2244450a3716"
   },
   "outputs": [
    {
     "data": {
      "image/png": "[encoded data removed]",
      "text/plain": [
       "<Figure size 1008x288 with 2 Axes>"
      ]
     },
     "metadata": {
      "needs_background": "light",
      "tags": []
     },
     "output_type": "display_data"
    }
   ],
   "source": [
    "render_training_history(training_history)"
   ]
  },
  {
   "cell_type": "code",
   "execution_count": 57,
   "metadata": {
    "colab": {
     "base_uri": "https://localhost:8080/",
     "height": 34
    },
    "colab_type": "code",
    "executionInfo": {
     "elapsed": 552,
     "status": "ok",
     "timestamp": 1590319972320,
     "user": {
      "displayName": "Oleksii Trekhleb",
      "photoUrl": "https://lh3.googleusercontent.com/a-/AOh14GiiA4aUKCbFho88Jd0WWMoAqQUt3jbuCtfNYpHVOA=s64",
      "userId": "03172675069638383074"
     },
     "user_tz": -120
    },
    "id": "NVZWTzIsQg4Y",
    "outputId": "5066464e-e158-4093-f9ae-f757a422d8b6"
   },
   "outputs": [
    {
     "data": {
      "text/plain": [
       "<tensorflow.python.training.tracking.util.InitializationOnlyStatus at 0x7f8f1f85cd30>"
      ]
     },
     "execution_count": 57,
     "metadata": {
      "tags": []
     },
     "output_type": "execute_result"
    }
   ],
   "source": [
    "checkpoint.restore(tf.train.latest_checkpoint(checkpoint_dir))"
   ]
  },
  {
   "cell_type": "markdown",
   "metadata": {
    "colab_type": "text",
    "id": "kr47EBcrZmGJ"
   },
   "source": [
    "## Save models"
   ]
  },
  {
   "cell_type": "code",
   "execution_count": 0,
   "metadata": {
    "colab": {},
    "colab_type": "code",
    "id": "AmjnZuYHZoDE"
   },
   "outputs": [],
   "source": [
    "generator_model.save('generator_model.h5', save_format='h5')\n",
    "discriminator_model.save('discriminator_model.h5', save_format='h5')"
   ]
  },
  {
   "cell_type": "markdown",
   "metadata": {
    "colab_type": "text",
    "id": "gz_MrH5FgMKM"
   },
   "source": [
    "## Zip all preview images"
   ]
  },
  {
   "cell_type": "code",
   "execution_count": 0,
   "metadata": {
    "colab": {},
    "colab_type": "code",
    "id": "vmJpd7FlgQj9"
   },
   "outputs": [],
   "source": [
    "def zip_image_previews():\n",
    "    images_previews_path = IMAGES_PREVIEW_PATH\n",
    "    images_previews_zip_name = 'images_previews.zip'\n",
    "\n",
    "    with zipfile.ZipFile(images_previews_zip_name, mode='w') as zip_obj:\n",
    "        for folder_name, subfolders, filenames in os.walk(images_previews_path):\n",
    "            for filename in filenames:\n",
    "                print(filename)\n",
    "                file_path = os.path.join(folder_name, filename)\n",
    "                zip_obj.write(file_path, os.path.basename(file_path))\n",
    "    print('---\\n')\n",
    "    print('Zipped to: ', images_previews_zip_name)"
   ]
  },
  {
   "cell_type": "code",
   "execution_count": 99,
   "metadata": {
    "colab": {
     "base_uri": "https://localhost:8080/",
     "height": 238
    },
    "colab_type": "code",
    "executionInfo": {
     "elapsed": 530,
     "status": "ok",
     "timestamp": 1590320947160,
     "user": {
      "displayName": "Oleksii Trekhleb",
      "photoUrl": "https://lh3.googleusercontent.com/a-/AOh14GiiA4aUKCbFho88Jd0WWMoAqQUt3jbuCtfNYpHVOA=s64",
      "userId": "03172675069638383074"
     },
     "user_tz": -120
    },
    "id": "nqHNgBsYgwp3",
    "outputId": "776a19a8-ac24-4e3d-e2c1-ccc35d9424b8"
   },
   "outputs": [
    {
     "name": "stdout",
     "output_type": "stream",
     "text": [
      "image_at_epoch_0007.png\n",
      "image_at_epoch_0009.png\n",
      "image_at_epoch_0008.png\n",
      "image_at_epoch_0004.png\n",
      "image_at_epoch_0002.png\n",
      "image_at_epoch_0010.png\n",
      "image_at_epoch_0006.png\n",
      "image_at_epoch_0005.png\n",
      "image_at_epoch_0001.png\n",
      "image_at_epoch_0003.png\n",
      "---\n",
      "\n",
      "Zipped to:  images_previews.zip\n"
     ]
    }
   ],
   "source": [
    "zip_image_previews()"
   ]
  },
  {
   "cell_type": "markdown",
   "metadata": {
    "colab_type": "text",
    "id": "plUx0F8gQg4b"
   },
   "source": [
    "## Create a GIF"
   ]
  },
  {
   "cell_type": "code",
   "execution_count": 0,
   "metadata": {
    "colab": {},
    "colab_type": "code",
    "id": "oknJD1BWQg4b"
   },
   "outputs": [],
   "source": [
    "# Display a single image using the epoch number\n",
    "def display_image(epoch_no):\n",
    "    return PIL.Image.open('{}image_at_epoch_{:04d}.png'.format(IMAGES_PREVIEW_PATH, epoch_no))"
   ]
  },
  {
   "cell_type": "code",
   "execution_count": 70,
   "metadata": {
    "colab": {
     "base_uri": "https://localhost:8080/",
     "height": 305
    },
    "colab_type": "code",
    "executionInfo": {
     "elapsed": 857,
     "status": "ok",
     "timestamp": 1590320107473,
     "user": {
      "displayName": "Oleksii Trekhleb",
      "photoUrl": "https://lh3.googleusercontent.com/a-/AOh14GiiA4aUKCbFho88Jd0WWMoAqQUt3jbuCtfNYpHVOA=s64",
      "userId": "03172675069638383074"
     },
     "user_tz": -120
    },
    "id": "8cIcy24WQg4e",
    "outputId": "fb173aca-03ab-4ed9-80fc-4327b443e51c"
   },
   "outputs": [
    {
     "data": {
      "image/png": "[encoded data removed]",
      "text/plain": [
       "<PIL.PngImagePlugin.PngImageFile image mode=RGBA size=288x288 at 0x7F8EAAF45208>"
      ]
     },
     "execution_count": 70,
     "metadata": {
      "tags": []
     },
     "output_type": "execute_result"
    }
   ],
   "source": [
    "display_image(EPOCHS)"
   ]
  },
  {
   "cell_type": "code",
   "execution_count": 0,
   "metadata": {
    "colab": {},
    "colab_type": "code",
    "id": "hPB03AAmQg4h"
   },
   "outputs": [],
   "source": [
    "anim_file = 'clothes_generation_dcgan.gif'\n",
    "\n",
    "with imageio.get_writer(anim_file, mode='I') as writer:\n",
    "    filenames = glob.glob(IMAGES_PREVIEW_PATH + 'image*.png')\n",
    "    filenames = sorted(filenames)\n",
    "    last = -1\n",
    "    for i, filename in enumerate(filenames):\n",
    "        frame = 2*(i**0.5)\n",
    "        if round(frame) > round(last):\n",
    "            last = frame\n",
    "        else:\n",
    "            continue\n",
    "    image = imageio.imread(filename)\n",
    "    writer.append_data(image)\n",
    "    image = imageio.imread(filename)\n",
    "    writer.append_data(image)\n",
    "\n",
    "import IPython\n",
    "if IPython.version_info > (6,2,0,''):\n",
    "    display.Image(filename=anim_file)"
   ]
  }
 ],
 "metadata": {
  "accelerator": "GPU",
  "colab": {
   "collapsed_sections": [],
   "name": "clothes_generation_dcgan.ipynb",
   "provenance": [],
   "toc_visible": true
  },
  "kernelspec": {
   "display_name": "Python 3",
   "language": "python",
   "name": "python3"
  },
  "language_info": {
   "codemirror_mode": {
    "name": "ipython",
    "version": 3
   },
   "file_extension": ".py",
   "mimetype": "text/x-python",
   "name": "python",
   "nbconvert_exporter": "python",
   "pygments_lexer": "ipython3",
   "version": "3.7.6"
  }
 },
 "nbformat": 4,
 "nbformat_minor": 1
}
