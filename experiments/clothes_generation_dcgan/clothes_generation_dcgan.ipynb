{
 "cells": [
  {
   "cell_type": "markdown",
   "metadata": {
    "colab_type": "text",
    "id": "wAMRwrH0Qg22"
   },
   "source": [
    "# Generating Images of Clothes Using Deep Convolutional Generative Adversarial Network (DCGAN)"
   ]
  },
  {
   "cell_type": "markdown",
   "metadata": {},
   "source": [
    "> - 🤖 See [full list of Machine Learning Experiments](https://github.com/trekhleb/machine-learning-experiments) on **GitHub**<br/><br/>\n",
    "> - ▶️ **Interactive Demo**: [try this model and other machine learning experiments in action](https://trekhleb.github.io/machine-learning-experiments/)"
   ]
  },
  {
   "cell_type": "markdown",
   "metadata": {},
   "source": [
    "## Experiment overview"
   ]
  },
  {
   "cell_type": "markdown",
   "metadata": {
    "colab_type": "text",
    "id": "Ul5K4DQaQg23"
   },
   "source": [
    "Source: https://www.tensorflow.org/tutorials/generative/dcgan"
   ]
  },
  {
   "cell_type": "markdown",
   "metadata": {
    "colab_type": "text",
    "id": "dhA2OtD0Qg24"
   },
   "source": [
    "## Import dependencies"
   ]
  },
  {
   "cell_type": "code",
   "execution_count": 49,
   "metadata": {
    "colab": {
     "base_uri": "https://localhost:8080/",
     "height": 68
    },
    "colab_type": "code",
    "executionInfo": {
     "elapsed": 1863,
     "status": "ok",
     "timestamp": 1590383290949,
     "user": {
      "displayName": "Oleksii Trekhleb",
      "photoUrl": "https://lh3.googleusercontent.com/a-/AOh14GiiA4aUKCbFho88Jd0WWMoAqQUt3jbuCtfNYpHVOA=s64",
      "userId": "03172675069638383074"
     },
     "user_tz": -120
    },
    "id": "da0YhaOJQg25",
    "outputId": "2802bf95-8172-44e3-df5c-3cf51d525799"
   },
   "outputs": [
    {
     "name": "stdout",
     "output_type": "stream",
     "text": [
      "Python version: 3.7.6\n",
      "Tensorflow version: 2.1.0\n",
      "Keras version: 2.2.4-tf\n"
     ]
    }
   ],
   "source": [
    "import tensorflow as tf\n",
    "import matplotlib.pyplot as plt\n",
    "import numpy as np\n",
    "import math\n",
    "import datetime\n",
    "import platform\n",
    "import imageio\n",
    "import PIL\n",
    "import time\n",
    "import os\n",
    "import glob\n",
    "import zipfile\n",
    "\n",
    "from IPython import display\n",
    "\n",
    "print('Python version:', platform.python_version())\n",
    "print('Tensorflow version:', tf.__version__)\n",
    "print('Keras version:', tf.keras.__version__)"
   ]
  },
  {
   "cell_type": "code",
   "execution_count": 2,
   "metadata": {
    "colab": {
     "base_uri": "https://localhost:8080/",
     "height": 34
    },
    "colab_type": "code",
    "executionInfo": {
     "elapsed": 3449,
     "status": "ok",
     "timestamp": 1590383292584,
     "user": {
      "displayName": "Oleksii Trekhleb",
      "photoUrl": "https://lh3.googleusercontent.com/a-/AOh14GiiA4aUKCbFho88Jd0WWMoAqQUt3jbuCtfNYpHVOA=s64",
      "userId": "03172675069638383074"
     },
     "user_tz": -120
    },
    "id": "0GRH9c5coMoK",
    "outputId": "929093b9-484e-4f2f-d483-56ede033e46d"
   },
   "outputs": [
    {
     "data": {
      "text/plain": [
       "True"
      ]
     },
     "execution_count": 2,
     "metadata": {
      "tags": []
     },
     "output_type": "execute_result"
    }
   ],
   "source": [
    "# Checking the eager execution availability.\n",
    "tf.executing_eagerly()"
   ]
  },
  {
   "cell_type": "markdown",
   "metadata": {
    "colab_type": "text",
    "id": "bhS6rs6eQg29"
   },
   "source": [
    "## Load data"
   ]
  },
  {
   "cell_type": "code",
   "execution_count": 3,
   "metadata": {
    "colab": {
     "base_uri": "https://localhost:8080/",
     "height": 173
    },
    "colab_type": "code",
    "executionInfo": {
     "elapsed": 4260,
     "status": "ok",
     "timestamp": 1590383293429,
     "user": {
      "displayName": "Oleksii Trekhleb",
      "photoUrl": "https://lh3.googleusercontent.com/a-/AOh14GiiA4aUKCbFho88Jd0WWMoAqQUt3jbuCtfNYpHVOA=s64",
      "userId": "03172675069638383074"
     },
     "user_tz": -120
    },
    "id": "FpudNNDnQg2-",
    "outputId": "7a2e4e23-8584-4b7e-a22c-268caaf99859"
   },
   "outputs": [
    {
     "name": "stdout",
     "output_type": "stream",
     "text": [
      "Downloading data from https://storage.googleapis.com/tensorflow/tf-keras-datasets/train-labels-idx1-ubyte.gz\n",
      "32768/29515 [=================================] - 0s 0us/step\n",
      "Downloading data from https://storage.googleapis.com/tensorflow/tf-keras-datasets/train-images-idx3-ubyte.gz\n",
      "26427392/26421880 [==============================] - 0s 0us/step\n",
      "Downloading data from https://storage.googleapis.com/tensorflow/tf-keras-datasets/t10k-labels-idx1-ubyte.gz\n",
      "8192/5148 [===============================================] - 0s 0us/step\n",
      "Downloading data from https://storage.googleapis.com/tensorflow/tf-keras-datasets/t10k-images-idx3-ubyte.gz\n",
      "4423680/4422102 [==============================] - 0s 0us/step\n"
     ]
    }
   ],
   "source": [
    "(x_train, y_train), (x_test, y_test) = tf.keras.datasets.fashion_mnist.load_data()"
   ]
  },
  {
   "cell_type": "code",
   "execution_count": 4,
   "metadata": {
    "colab": {
     "base_uri": "https://localhost:8080/",
     "height": 102
    },
    "colab_type": "code",
    "executionInfo": {
     "elapsed": 4218,
     "status": "ok",
     "timestamp": 1590383293432,
     "user": {
      "displayName": "Oleksii Trekhleb",
      "photoUrl": "https://lh3.googleusercontent.com/a-/AOh14GiiA4aUKCbFho88Jd0WWMoAqQUt3jbuCtfNYpHVOA=s64",
      "userId": "03172675069638383074"
     },
     "user_tz": -120
    },
    "id": "IzIOnN83Qg3C",
    "outputId": "67b8f46a-0206-4857-bf9e-e87d972b55fe"
   },
   "outputs": [
    {
     "name": "stdout",
     "output_type": "stream",
     "text": [
      "x_train.shape:  (60000, 28, 28)\n",
      "y_train.shape:  (60000,)\n",
      "\n",
      "x_test.shape:  (10000, 28, 28)\n",
      "y_test.shape:  (10000,)\n"
     ]
    }
   ],
   "source": [
    "print('x_train.shape: ', x_train.shape)\n",
    "print('y_train.shape: ', y_train.shape)\n",
    "print()\n",
    "print('x_test.shape: ', x_test.shape)\n",
    "print('y_test.shape: ', y_test.shape)"
   ]
  },
  {
   "cell_type": "code",
   "execution_count": 5,
   "metadata": {
    "colab": {
     "base_uri": "https://localhost:8080/",
     "height": 34
    },
    "colab_type": "code",
    "executionInfo": {
     "elapsed": 4142,
     "status": "ok",
     "timestamp": 1590383293433,
     "user": {
      "displayName": "Oleksii Trekhleb",
      "photoUrl": "https://lh3.googleusercontent.com/a-/AOh14GiiA4aUKCbFho88Jd0WWMoAqQUt3jbuCtfNYpHVOA=s64",
      "userId": "03172675069638383074"
     },
     "user_tz": -120
    },
    "id": "gdfkpOpMVDkh",
    "outputId": "45fe19eb-bbd7-4a50-e5d6-aad6822d70a6"
   },
   "outputs": [
    {
     "name": "stdout",
     "output_type": "stream",
     "text": [
      "x_train.shape:  (70000, 28, 28)\n"
     ]
    }
   ],
   "source": [
    "# Since we don't need test examples we may concatenate both sets\n",
    "x_train = np.concatenate((x_train, x_test), axis=0)\n",
    "\n",
    "print('x_train.shape: ', x_train.shape)"
   ]
  },
  {
   "cell_type": "code",
   "execution_count": 6,
   "metadata": {
    "colab": {
     "base_uri": "https://localhost:8080/",
     "height": 34
    },
    "colab_type": "code",
    "executionInfo": {
     "elapsed": 4051,
     "status": "ok",
     "timestamp": 1590383293433,
     "user": {
      "displayName": "Oleksii Trekhleb",
      "photoUrl": "https://lh3.googleusercontent.com/a-/AOh14GiiA4aUKCbFho88Jd0WWMoAqQUt3jbuCtfNYpHVOA=s64",
      "userId": "03172675069638383074"
     },
     "user_tz": -120
    },
    "id": "vq-kHJWm1uAn",
    "outputId": "e35139f6-bdb8-4c8b-ef45-fe639918eca4"
   },
   "outputs": [
    {
     "name": "stdout",
     "output_type": "stream",
     "text": [
      "TOTAL_EXAMPLES_NUM:  70000\n"
     ]
    }
   ],
   "source": [
    "TOTAL_EXAMPLES_NUM = x_train.shape[0]\n",
    "\n",
    "print('TOTAL_EXAMPLES_NUM: ', TOTAL_EXAMPLES_NUM)"
   ]
  },
  {
   "cell_type": "code",
   "execution_count": 7,
   "metadata": {
    "colab": {
     "base_uri": "https://localhost:8080/",
     "height": 34
    },
    "colab_type": "code",
    "executionInfo": {
     "elapsed": 4017,
     "status": "ok",
     "timestamp": 1590383293435,
     "user": {
      "displayName": "Oleksii Trekhleb",
      "photoUrl": "https://lh3.googleusercontent.com/a-/AOh14GiiA4aUKCbFho88Jd0WWMoAqQUt3jbuCtfNYpHVOA=s64",
      "userId": "03172675069638383074"
     },
     "user_tz": -120
    },
    "id": "nMQ3k3-bQg3E",
    "outputId": "1ba14f75-1a81-4a49-a8a8-abaac9a68192"
   },
   "outputs": [
    {
     "name": "stdout",
     "output_type": "stream",
     "text": [
      "9\n"
     ]
    }
   ],
   "source": [
    "print(y_train[0])"
   ]
  },
  {
   "cell_type": "markdown",
   "metadata": {
    "colab_type": "text",
    "id": "dU36mGsZUdah"
   },
   "source": [
    "<table>\n",
    "  <tr>\n",
    "    <th>Label</th>\n",
    "    <th>Class</th>\n",
    "  </tr>\n",
    "  <tr>\n",
    "    <td>0</td>\n",
    "    <td>T-shirt/top</td>\n",
    "  </tr>\n",
    "  <tr>\n",
    "    <td>1</td>\n",
    "    <td>Trouser</td>\n",
    "  </tr>\n",
    "    <tr>\n",
    "    <td>2</td>\n",
    "    <td>Pullover</td>\n",
    "  </tr>\n",
    "    <tr>\n",
    "    <td>3</td>\n",
    "    <td>Dress</td>\n",
    "  </tr>\n",
    "    <tr>\n",
    "    <td>4</td>\n",
    "    <td>Coat</td>\n",
    "  </tr>\n",
    "    <tr>\n",
    "    <td>5</td>\n",
    "    <td>Sandal</td>\n",
    "  </tr>\n",
    "    <tr>\n",
    "    <td>6</td>\n",
    "    <td>Shirt</td>\n",
    "  </tr>\n",
    "    <tr>\n",
    "    <td>7</td>\n",
    "    <td>Sneaker</td>\n",
    "  </tr>\n",
    "    <tr>\n",
    "    <td>8</td>\n",
    "    <td>Bag</td>\n",
    "  </tr>\n",
    "    <tr>\n",
    "    <td>9</td>\n",
    "    <td>Ankle boot</td>\n",
    "  </tr>\n",
    "</table>"
   ]
  },
  {
   "cell_type": "code",
   "execution_count": 0,
   "metadata": {
    "colab": {},
    "colab_type": "code",
    "id": "QAt2BI2HUhfE"
   },
   "outputs": [],
   "source": [
    "class_names = [\n",
    "    'T-shirt/top',\n",
    "    'Trouser',\n",
    "    'Pullover',\n",
    "    'Dress',\n",
    "    'Coat',\n",
    "    'Sandal',\n",
    "    'Shirt',\n",
    "    'Sneaker',\n",
    "    'Bag',\n",
    "    'Ankle boot'\n",
    "]"
   ]
  },
  {
   "cell_type": "code",
   "execution_count": 9,
   "metadata": {
    "colab": {
     "base_uri": "https://localhost:8080/",
     "height": 969
    },
    "colab_type": "code",
    "executionInfo": {
     "elapsed": 3976,
     "status": "ok",
     "timestamp": 1590383293437,
     "user": {
      "displayName": "Oleksii Trekhleb",
      "photoUrl": "https://lh3.googleusercontent.com/a-/AOh14GiiA4aUKCbFho88Jd0WWMoAqQUt3jbuCtfNYpHVOA=s64",
      "userId": "03172675069638383074"
     },
     "user_tz": -120
    },
    "id": "IgxI7eYBQg3H",
    "outputId": "6527b62e-41f1-4ed7-ed79-650a995ebdad"
   },
   "outputs": [
    {
     "name": "stdout",
     "output_type": "stream",
     "text": [
      "[[  0   0   0   0   0   0   0   0   0   0   0   0   0   0   0   0   0   0\n",
      "    0   0   0   0   0   0   0   0   0   0]\n",
      " [  0   0   0   0   0   0   0   0   0   0   0   0   0   0   0   0   0   0\n",
      "    0   0   0   0   0   0   0   0   0   0]\n",
      " [  0   0   0   0   0   0   0   0   0   0   0   0   0   0   0   0   0   0\n",
      "    0   0   0   0   0   0   0   0   0   0]\n",
      " [  0   0   0   0   0   0   0   0   0   0   0   0   1   0   0  13  73   0\n",
      "    0   1   4   0   0   0   0   1   1   0]\n",
      " [  0   0   0   0   0   0   0   0   0   0   0   0   3   0  36 136 127  62\n",
      "   54   0   0   0   1   3   4   0   0   3]\n",
      " [  0   0   0   0   0   0   0   0   0   0   0   0   6   0 102 204 176 134\n",
      "  144 123  23   0   0   0   0  12  10   0]\n",
      " [  0   0   0   0   0   0   0   0   0   0   0   0   0   0 155 236 207 178\n",
      "  107 156 161 109  64  23  77 130  72  15]\n",
      " [  0   0   0   0   0   0   0   0   0   0   0   1   0  69 207 223 218 216\n",
      "  216 163 127 121 122 146 141  88 172  66]\n",
      " [  0   0   0   0   0   0   0   0   0   1   1   1   0 200 232 232 233 229\n",
      "  223 223 215 213 164 127 123 196 229   0]\n",
      " [  0   0   0   0   0   0   0   0   0   0   0   0   0 183 225 216 223 228\n",
      "  235 227 224 222 224 221 223 245 173   0]\n",
      " [  0   0   0   0   0   0   0   0   0   0   0   0   0 193 228 218 213 198\n",
      "  180 212 210 211 213 223 220 243 202   0]\n",
      " [  0   0   0   0   0   0   0   0   0   1   3   0  12 219 220 212 218 192\n",
      "  169 227 208 218 224 212 226 197 209  52]\n",
      " [  0   0   0   0   0   0   0   0   0   0   6   0  99 244 222 220 218 203\n",
      "  198 221 215 213 222 220 245 119 167  56]\n",
      " [  0   0   0   0   0   0   0   0   0   4   0   0  55 236 228 230 228 240\n",
      "  232 213 218 223 234 217 217 209  92   0]\n",
      " [  0   0   1   4   6   7   2   0   0   0   0   0 237 226 217 223 222 219\n",
      "  222 221 216 223 229 215 218 255  77   0]\n",
      " [  0   3   0   0   0   0   0   0   0  62 145 204 228 207 213 221 218 208\n",
      "  211 218 224 223 219 215 224 244 159   0]\n",
      " [  0   0   0   0  18  44  82 107 189 228 220 222 217 226 200 205 211 230\n",
      "  224 234 176 188 250 248 233 238 215   0]\n",
      " [  0  57 187 208 224 221 224 208 204 214 208 209 200 159 245 193 206 223\n",
      "  255 255 221 234 221 211 220 232 246   0]\n",
      " [  3 202 228 224 221 211 211 214 205 205 205 220 240  80 150 255 229 221\n",
      "  188 154 191 210 204 209 222 228 225   0]\n",
      " [ 98 233 198 210 222 229 229 234 249 220 194 215 217 241  65  73 106 117\n",
      "  168 219 221 215 217 223 223 224 229  29]\n",
      " [ 75 204 212 204 193 205 211 225 216 185 197 206 198 213 240 195 227 245\n",
      "  239 223 218 212 209 222 220 221 230  67]\n",
      " [ 48 203 183 194 213 197 185 190 194 192 202 214 219 221 220 236 225 216\n",
      "  199 206 186 181 177 172 181 205 206 115]\n",
      " [  0 122 219 193 179 171 183 196 204 210 213 207 211 210 200 196 194 191\n",
      "  195 191 198 192 176 156 167 177 210  92]\n",
      " [  0   0  74 189 212 191 175 172 175 181 185 188 189 188 193 198 204 209\n",
      "  210 210 211 188 188 194 192 216 170   0]\n",
      " [  2   0   0   0  66 200 222 237 239 242 246 243 244 221 220 193 191 179\n",
      "  182 182 181 176 166 168  99  58   0   0]\n",
      " [  0   0   0   0   0   0   0  40  61  44  72  41  35   0   0   0   0   0\n",
      "    0   0   0   0   0   0   0   0   0   0]\n",
      " [  0   0   0   0   0   0   0   0   0   0   0   0   0   0   0   0   0   0\n",
      "    0   0   0   0   0   0   0   0   0   0]\n",
      " [  0   0   0   0   0   0   0   0   0   0   0   0   0   0   0   0   0   0\n",
      "    0   0   0   0   0   0   0   0   0   0]]\n"
     ]
    }
   ],
   "source": [
    "print(x_train[0])"
   ]
  },
  {
   "cell_type": "code",
   "execution_count": 10,
   "metadata": {
    "colab": {
     "base_uri": "https://localhost:8080/",
     "height": 159
    },
    "colab_type": "code",
    "executionInfo": {
     "elapsed": 3903,
     "status": "ok",
     "timestamp": 1590383293440,
     "user": {
      "displayName": "Oleksii Trekhleb",
      "photoUrl": "https://lh3.googleusercontent.com/a-/AOh14GiiA4aUKCbFho88Jd0WWMoAqQUt3jbuCtfNYpHVOA=s64",
      "userId": "03172675069638383074"
     },
     "user_tz": -120
    },
    "id": "OrF5eitkTGnv",
    "outputId": "2091e3a1-713d-4c16-9b15-d9aa8d989654"
   },
   "outputs": [
    {
     "data": {
      "image/png": "[encoded data removed]",
      "text/plain": [
       "<Figure size 144x144 with 1 Axes>"
      ]
     },
     "metadata": {
      "needs_background": "light",
      "tags": []
     },
     "output_type": "display_data"
    }
   ],
   "source": [
    "plt.figure(figsize=(2, 2))\n",
    "plt.imshow(x_train[0], cmap=plt.cm.binary)\n",
    "plt.show()"
   ]
  },
  {
   "cell_type": "code",
   "execution_count": 11,
   "metadata": {
    "colab": {
     "base_uri": "https://localhost:8080/",
     "height": 480
    },
    "colab_type": "code",
    "executionInfo": {
     "elapsed": 4934,
     "status": "ok",
     "timestamp": 1590383294488,
     "user": {
      "displayName": "Oleksii Trekhleb",
      "photoUrl": "https://lh3.googleusercontent.com/a-/AOh14GiiA4aUKCbFho88Jd0WWMoAqQUt3jbuCtfNYpHVOA=s64",
      "userId": "03172675069638383074"
     },
     "user_tz": -120
    },
    "id": "g6bruiW1UDCf",
    "outputId": "4efaf670-b2d4-496c-bcbe-704893d1860a"
   },
   "outputs": [
    {
     "data": {
      "image/png": "[encoded data removed]",
      "text/plain": [
       "<Figure size 576x576 with 25 Axes>"
      ]
     },
     "metadata": {
      "tags": []
     },
     "output_type": "display_data"
    }
   ],
   "source": [
    "numbers_to_display = 25\n",
    "num_cells = math.ceil(math.sqrt(numbers_to_display))\n",
    "plt.figure(figsize=(8, 8))\n",
    "for i in range(numbers_to_display):\n",
    "    plt.subplot(num_cells, num_cells, i+1)\n",
    "    plt.xticks([])\n",
    "    plt.yticks([])\n",
    "    plt.grid(False)\n",
    "    plt.imshow(x_train[i], cmap=plt.cm.binary)\n",
    "    plt.xlabel(class_names[y_train[i]])\n",
    "plt.show()"
   ]
  },
  {
   "cell_type": "markdown",
   "metadata": {
    "colab_type": "text",
    "id": "d9oigte8Qg3K"
   },
   "source": [
    "## Reshape and normalize data"
   ]
  },
  {
   "cell_type": "code",
   "execution_count": 0,
   "metadata": {
    "colab": {},
    "colab_type": "code",
    "id": "rwR2rlJxQg3K"
   },
   "outputs": [],
   "source": [
    "x_train_reshaped = x_train.reshape(\n",
    "    x_train.shape[0],\n",
    "    x_train.shape[1],\n",
    "    x_train.shape[2],\n",
    "    1\n",
    ").astype('float32')"
   ]
  },
  {
   "cell_type": "code",
   "execution_count": 13,
   "metadata": {
    "colab": {
     "base_uri": "https://localhost:8080/",
     "height": 34
    },
    "colab_type": "code",
    "executionInfo": {
     "elapsed": 4677,
     "status": "ok",
     "timestamp": 1590383294492,
     "user": {
      "displayName": "Oleksii Trekhleb",
      "photoUrl": "https://lh3.googleusercontent.com/a-/AOh14GiiA4aUKCbFho88Jd0WWMoAqQUt3jbuCtfNYpHVOA=s64",
      "userId": "03172675069638383074"
     },
     "user_tz": -120
    },
    "id": "Fu6yWsH4Qg3N",
    "outputId": "099748d9-b996-4a16-8e91-1941818bd748"
   },
   "outputs": [
    {
     "name": "stdout",
     "output_type": "stream",
     "text": [
      "x_train_reshaped.shape:  (70000, 28, 28, 1)\n"
     ]
    }
   ],
   "source": [
    "print('x_train_reshaped.shape: ', x_train_reshaped.shape)"
   ]
  },
  {
   "cell_type": "code",
   "execution_count": 0,
   "metadata": {
    "colab": {},
    "colab_type": "code",
    "id": "PH6iywK4Qg3Q"
   },
   "outputs": [],
   "source": [
    "# Normalize image pixel values to [-1, 1] range\n",
    "x_train_normalized = (x_train_reshaped - 127.5) / 127.5"
   ]
  },
  {
   "cell_type": "code",
   "execution_count": 15,
   "metadata": {
    "colab": {
     "base_uri": "https://localhost:8080/",
     "height": 1000
    },
    "colab_type": "code",
    "executionInfo": {
     "elapsed": 4640,
     "status": "ok",
     "timestamp": 1590383294493,
     "user": {
      "displayName": "Oleksii Trekhleb",
      "photoUrl": "https://lh3.googleusercontent.com/a-/AOh14GiiA4aUKCbFho88Jd0WWMoAqQUt3jbuCtfNYpHVOA=s64",
      "userId": "03172675069638383074"
     },
     "user_tz": -120
    },
    "id": "qkl5tKIJQg3T",
    "outputId": "1cc780ee-add6-4a45-a3c3-42a97570dd58"
   },
   "outputs": [
    {
     "name": "stdout",
     "output_type": "stream",
     "text": [
      "[[[-1.        ]\n",
      "  [-1.        ]\n",
      "  [-1.        ]\n",
      "  [-1.        ]\n",
      "  [-1.        ]\n",
      "  [-1.        ]\n",
      "  [-1.        ]\n",
      "  [-1.        ]\n",
      "  [-1.        ]\n",
      "  [-1.        ]\n",
      "  [-1.        ]\n",
      "  [-1.        ]\n",
      "  [-1.        ]\n",
      "  [-1.        ]\n",
      "  [-1.        ]\n",
      "  [-1.        ]\n",
      "  [-1.        ]\n",
      "  [-1.        ]\n",
      "  [-1.        ]\n",
      "  [-1.        ]\n",
      "  [-1.        ]\n",
      "  [-1.        ]\n",
      "  [-1.        ]\n",
      "  [-1.        ]\n",
      "  [-1.        ]\n",
      "  [-1.        ]\n",
      "  [-1.        ]\n",
      "  [-1.        ]]\n",
      "\n",
      " [[-1.        ]\n",
      "  [-1.        ]\n",
      "  [-1.        ]\n",
      "  [-1.        ]\n",
      "  [-1.        ]\n",
      "  [-1.        ]\n",
      "  [-1.        ]\n",
      "  [-1.        ]\n",
      "  [-1.        ]\n",
      "  [-1.        ]\n",
      "  [-1.        ]\n",
      "  [-1.        ]\n",
      "  [-1.        ]\n",
      "  [-1.        ]\n",
      "  [-1.        ]\n",
      "  [-1.        ]\n",
      "  [-1.        ]\n",
      "  [-1.        ]\n",
      "  [-1.        ]\n",
      "  [-1.        ]\n",
      "  [-1.        ]\n",
      "  [-1.        ]\n",
      "  [-1.        ]\n",
      "  [-1.        ]\n",
      "  [-1.        ]\n",
      "  [-1.        ]\n",
      "  [-1.        ]\n",
      "  [-1.        ]]\n",
      "\n",
      " [[-1.        ]\n",
      "  [-1.        ]\n",
      "  [-1.        ]\n",
      "  [-1.        ]\n",
      "  [-1.        ]\n",
      "  [-1.        ]\n",
      "  [-1.        ]\n",
      "  [-1.        ]\n",
      "  [-1.        ]\n",
      "  [-1.        ]\n",
      "  [-1.        ]\n",
      "  [-1.        ]\n",
      "  [-1.        ]\n",
      "  [-1.        ]\n",
      "  [-1.        ]\n",
      "  [-1.        ]\n",
      "  [-1.        ]\n",
      "  [-1.        ]\n",
      "  [-1.        ]\n",
      "  [-1.        ]\n",
      "  [-1.        ]\n",
      "  [-1.        ]\n",
      "  [-1.        ]\n",
      "  [-1.        ]\n",
      "  [-1.        ]\n",
      "  [-1.        ]\n",
      "  [-1.        ]\n",
      "  [-1.        ]]\n",
      "\n",
      " [[-1.        ]\n",
      "  [-1.        ]\n",
      "  [-1.        ]\n",
      "  [-1.        ]\n",
      "  [-1.        ]\n",
      "  [-1.        ]\n",
      "  [-1.        ]\n",
      "  [-1.        ]\n",
      "  [-1.        ]\n",
      "  [-1.        ]\n",
      "  [-1.        ]\n",
      "  [-1.        ]\n",
      "  [-0.99215686]\n",
      "  [-1.        ]\n",
      "  [-1.        ]\n",
      "  [-0.8980392 ]\n",
      "  [-0.42745098]\n",
      "  [-1.        ]\n",
      "  [-1.        ]\n",
      "  [-0.99215686]\n",
      "  [-0.96862745]\n",
      "  [-1.        ]\n",
      "  [-1.        ]\n",
      "  [-1.        ]\n",
      "  [-1.        ]\n",
      "  [-0.99215686]\n",
      "  [-0.99215686]\n",
      "  [-1.        ]]\n",
      "\n",
      " [[-1.        ]\n",
      "  [-1.        ]\n",
      "  [-1.        ]\n",
      "  [-1.        ]\n",
      "  [-1.        ]\n",
      "  [-1.        ]\n",
      "  [-1.        ]\n",
      "  [-1.        ]\n",
      "  [-1.        ]\n",
      "  [-1.        ]\n",
      "  [-1.        ]\n",
      "  [-1.        ]\n",
      "  [-0.9764706 ]\n",
      "  [-1.        ]\n",
      "  [-0.7176471 ]\n",
      "  [ 0.06666667]\n",
      "  [-0.00392157]\n",
      "  [-0.5137255 ]\n",
      "  [-0.5764706 ]\n",
      "  [-1.        ]\n",
      "  [-1.        ]\n",
      "  [-1.        ]\n",
      "  [-0.99215686]\n",
      "  [-0.9764706 ]\n",
      "  [-0.96862745]\n",
      "  [-1.        ]\n",
      "  [-1.        ]\n",
      "  [-0.9764706 ]]\n",
      "\n",
      " [[-1.        ]\n",
      "  [-1.        ]\n",
      "  [-1.        ]\n",
      "  [-1.        ]\n",
      "  [-1.        ]\n",
      "  [-1.        ]\n",
      "  [-1.        ]\n",
      "  [-1.        ]\n",
      "  [-1.        ]\n",
      "  [-1.        ]\n",
      "  [-1.        ]\n",
      "  [-1.        ]\n",
      "  [-0.9529412 ]\n",
      "  [-1.        ]\n",
      "  [-0.2       ]\n",
      "  [ 0.6       ]\n",
      "  [ 0.38039216]\n",
      "  [ 0.05098039]\n",
      "  [ 0.12941177]\n",
      "  [-0.03529412]\n",
      "  [-0.81960785]\n",
      "  [-1.        ]\n",
      "  [-1.        ]\n",
      "  [-1.        ]\n",
      "  [-1.        ]\n",
      "  [-0.90588236]\n",
      "  [-0.92156863]\n",
      "  [-1.        ]]\n",
      "\n",
      " [[-1.        ]\n",
      "  [-1.        ]\n",
      "  [-1.        ]\n",
      "  [-1.        ]\n",
      "  [-1.        ]\n",
      "  [-1.        ]\n",
      "  [-1.        ]\n",
      "  [-1.        ]\n",
      "  [-1.        ]\n",
      "  [-1.        ]\n",
      "  [-1.        ]\n",
      "  [-1.        ]\n",
      "  [-1.        ]\n",
      "  [-1.        ]\n",
      "  [ 0.21568628]\n",
      "  [ 0.8509804 ]\n",
      "  [ 0.62352943]\n",
      "  [ 0.39607844]\n",
      "  [-0.16078432]\n",
      "  [ 0.22352941]\n",
      "  [ 0.2627451 ]\n",
      "  [-0.14509805]\n",
      "  [-0.49803922]\n",
      "  [-0.81960785]\n",
      "  [-0.39607844]\n",
      "  [ 0.01960784]\n",
      "  [-0.43529412]\n",
      "  [-0.88235295]]\n",
      "\n",
      " [[-1.        ]\n",
      "  [-1.        ]\n",
      "  [-1.        ]\n",
      "  [-1.        ]\n",
      "  [-1.        ]\n",
      "  [-1.        ]\n",
      "  [-1.        ]\n",
      "  [-1.        ]\n",
      "  [-1.        ]\n",
      "  [-1.        ]\n",
      "  [-1.        ]\n",
      "  [-0.99215686]\n",
      "  [-1.        ]\n",
      "  [-0.45882353]\n",
      "  [ 0.62352943]\n",
      "  [ 0.7490196 ]\n",
      "  [ 0.70980394]\n",
      "  [ 0.69411767]\n",
      "  [ 0.69411767]\n",
      "  [ 0.2784314 ]\n",
      "  [-0.00392157]\n",
      "  [-0.05098039]\n",
      "  [-0.04313726]\n",
      "  [ 0.14509805]\n",
      "  [ 0.10588235]\n",
      "  [-0.30980393]\n",
      "  [ 0.34901962]\n",
      "  [-0.48235294]]\n",
      "\n",
      " [[-1.        ]\n",
      "  [-1.        ]\n",
      "  [-1.        ]\n",
      "  [-1.        ]\n",
      "  [-1.        ]\n",
      "  [-1.        ]\n",
      "  [-1.        ]\n",
      "  [-1.        ]\n",
      "  [-1.        ]\n",
      "  [-0.99215686]\n",
      "  [-0.99215686]\n",
      "  [-0.99215686]\n",
      "  [-1.        ]\n",
      "  [ 0.5686275 ]\n",
      "  [ 0.81960785]\n",
      "  [ 0.81960785]\n",
      "  [ 0.827451  ]\n",
      "  [ 0.79607844]\n",
      "  [ 0.7490196 ]\n",
      "  [ 0.7490196 ]\n",
      "  [ 0.6862745 ]\n",
      "  [ 0.67058825]\n",
      "  [ 0.28627452]\n",
      "  [-0.00392157]\n",
      "  [-0.03529412]\n",
      "  [ 0.5372549 ]\n",
      "  [ 0.79607844]\n",
      "  [-1.        ]]\n",
      "\n",
      " [[-1.        ]\n",
      "  [-1.        ]\n",
      "  [-1.        ]\n",
      "  [-1.        ]\n",
      "  [-1.        ]\n",
      "  [-1.        ]\n",
      "  [-1.        ]\n",
      "  [-1.        ]\n",
      "  [-1.        ]\n",
      "  [-1.        ]\n",
      "  [-1.        ]\n",
      "  [-1.        ]\n",
      "  [-1.        ]\n",
      "  [ 0.43529412]\n",
      "  [ 0.7647059 ]\n",
      "  [ 0.69411767]\n",
      "  [ 0.7490196 ]\n",
      "  [ 0.7882353 ]\n",
      "  [ 0.84313726]\n",
      "  [ 0.78039217]\n",
      "  [ 0.75686276]\n",
      "  [ 0.7411765 ]\n",
      "  [ 0.75686276]\n",
      "  [ 0.73333335]\n",
      "  [ 0.7490196 ]\n",
      "  [ 0.92156863]\n",
      "  [ 0.35686275]\n",
      "  [-1.        ]]\n",
      "\n",
      " [[-1.        ]\n",
      "  [-1.        ]\n",
      "  [-1.        ]\n",
      "  [-1.        ]\n",
      "  [-1.        ]\n",
      "  [-1.        ]\n",
      "  [-1.        ]\n",
      "  [-1.        ]\n",
      "  [-1.        ]\n",
      "  [-1.        ]\n",
      "  [-1.        ]\n",
      "  [-1.        ]\n",
      "  [-1.        ]\n",
      "  [ 0.5137255 ]\n",
      "  [ 0.7882353 ]\n",
      "  [ 0.70980394]\n",
      "  [ 0.67058825]\n",
      "  [ 0.5529412 ]\n",
      "  [ 0.4117647 ]\n",
      "  [ 0.6627451 ]\n",
      "  [ 0.64705884]\n",
      "  [ 0.654902  ]\n",
      "  [ 0.67058825]\n",
      "  [ 0.7490196 ]\n",
      "  [ 0.7254902 ]\n",
      "  [ 0.90588236]\n",
      "  [ 0.58431375]\n",
      "  [-1.        ]]\n",
      "\n",
      " [[-1.        ]\n",
      "  [-1.        ]\n",
      "  [-1.        ]\n",
      "  [-1.        ]\n",
      "  [-1.        ]\n",
      "  [-1.        ]\n",
      "  [-1.        ]\n",
      "  [-1.        ]\n",
      "  [-1.        ]\n",
      "  [-0.99215686]\n",
      "  [-0.9764706 ]\n",
      "  [-1.        ]\n",
      "  [-0.90588236]\n",
      "  [ 0.7176471 ]\n",
      "  [ 0.7254902 ]\n",
      "  [ 0.6627451 ]\n",
      "  [ 0.70980394]\n",
      "  [ 0.5058824 ]\n",
      "  [ 0.3254902 ]\n",
      "  [ 0.78039217]\n",
      "  [ 0.6313726 ]\n",
      "  [ 0.70980394]\n",
      "  [ 0.75686276]\n",
      "  [ 0.6627451 ]\n",
      "  [ 0.77254903]\n",
      "  [ 0.54509807]\n",
      "  [ 0.6392157 ]\n",
      "  [-0.5921569 ]]\n",
      "\n",
      " [[-1.        ]\n",
      "  [-1.        ]\n",
      "  [-1.        ]\n",
      "  [-1.        ]\n",
      "  [-1.        ]\n",
      "  [-1.        ]\n",
      "  [-1.        ]\n",
      "  [-1.        ]\n",
      "  [-1.        ]\n",
      "  [-1.        ]\n",
      "  [-0.9529412 ]\n",
      "  [-1.        ]\n",
      "  [-0.22352941]\n",
      "  [ 0.9137255 ]\n",
      "  [ 0.7411765 ]\n",
      "  [ 0.7254902 ]\n",
      "  [ 0.70980394]\n",
      "  [ 0.5921569 ]\n",
      "  [ 0.5529412 ]\n",
      "  [ 0.73333335]\n",
      "  [ 0.6862745 ]\n",
      "  [ 0.67058825]\n",
      "  [ 0.7411765 ]\n",
      "  [ 0.7254902 ]\n",
      "  [ 0.92156863]\n",
      "  [-0.06666667]\n",
      "  [ 0.30980393]\n",
      "  [-0.56078434]]\n",
      "\n",
      " [[-1.        ]\n",
      "  [-1.        ]\n",
      "  [-1.        ]\n",
      "  [-1.        ]\n",
      "  [-1.        ]\n",
      "  [-1.        ]\n",
      "  [-1.        ]\n",
      "  [-1.        ]\n",
      "  [-1.        ]\n",
      "  [-0.96862745]\n",
      "  [-1.        ]\n",
      "  [-1.        ]\n",
      "  [-0.5686275 ]\n",
      "  [ 0.8509804 ]\n",
      "  [ 0.7882353 ]\n",
      "  [ 0.8039216 ]\n",
      "  [ 0.7882353 ]\n",
      "  [ 0.88235295]\n",
      "  [ 0.81960785]\n",
      "  [ 0.67058825]\n",
      "  [ 0.70980394]\n",
      "  [ 0.7490196 ]\n",
      "  [ 0.8352941 ]\n",
      "  [ 0.7019608 ]\n",
      "  [ 0.7019608 ]\n",
      "  [ 0.6392157 ]\n",
      "  [-0.2784314 ]\n",
      "  [-1.        ]]\n",
      "\n",
      " [[-1.        ]\n",
      "  [-1.        ]\n",
      "  [-0.99215686]\n",
      "  [-0.96862745]\n",
      "  [-0.9529412 ]\n",
      "  [-0.94509804]\n",
      "  [-0.9843137 ]\n",
      "  [-1.        ]\n",
      "  [-1.        ]\n",
      "  [-1.        ]\n",
      "  [-1.        ]\n",
      "  [-1.        ]\n",
      "  [ 0.85882354]\n",
      "  [ 0.77254903]\n",
      "  [ 0.7019608 ]\n",
      "  [ 0.7490196 ]\n",
      "  [ 0.7411765 ]\n",
      "  [ 0.7176471 ]\n",
      "  [ 0.7411765 ]\n",
      "  [ 0.73333335]\n",
      "  [ 0.69411767]\n",
      "  [ 0.7490196 ]\n",
      "  [ 0.79607844]\n",
      "  [ 0.6862745 ]\n",
      "  [ 0.70980394]\n",
      "  [ 1.        ]\n",
      "  [-0.39607844]\n",
      "  [-1.        ]]\n",
      "\n",
      " [[-1.        ]\n",
      "  [-0.9764706 ]\n",
      "  [-1.        ]\n",
      "  [-1.        ]\n",
      "  [-1.        ]\n",
      "  [-1.        ]\n",
      "  [-1.        ]\n",
      "  [-1.        ]\n",
      "  [-1.        ]\n",
      "  [-0.5137255 ]\n",
      "  [ 0.13725491]\n",
      "  [ 0.6       ]\n",
      "  [ 0.7882353 ]\n",
      "  [ 0.62352943]\n",
      "  [ 0.67058825]\n",
      "  [ 0.73333335]\n",
      "  [ 0.70980394]\n",
      "  [ 0.6313726 ]\n",
      "  [ 0.654902  ]\n",
      "  [ 0.70980394]\n",
      "  [ 0.75686276]\n",
      "  [ 0.7490196 ]\n",
      "  [ 0.7176471 ]\n",
      "  [ 0.6862745 ]\n",
      "  [ 0.75686276]\n",
      "  [ 0.9137255 ]\n",
      "  [ 0.24705882]\n",
      "  [-1.        ]]\n",
      "\n",
      " [[-1.        ]\n",
      "  [-1.        ]\n",
      "  [-1.        ]\n",
      "  [-1.        ]\n",
      "  [-0.85882354]\n",
      "  [-0.654902  ]\n",
      "  [-0.35686275]\n",
      "  [-0.16078432]\n",
      "  [ 0.48235294]\n",
      "  [ 0.7882353 ]\n",
      "  [ 0.7254902 ]\n",
      "  [ 0.7411765 ]\n",
      "  [ 0.7019608 ]\n",
      "  [ 0.77254903]\n",
      "  [ 0.5686275 ]\n",
      "  [ 0.60784316]\n",
      "  [ 0.654902  ]\n",
      "  [ 0.8039216 ]\n",
      "  [ 0.75686276]\n",
      "  [ 0.8352941 ]\n",
      "  [ 0.38039216]\n",
      "  [ 0.4745098 ]\n",
      "  [ 0.9607843 ]\n",
      "  [ 0.94509804]\n",
      "  [ 0.827451  ]\n",
      "  [ 0.8666667 ]\n",
      "  [ 0.6862745 ]\n",
      "  [-1.        ]]\n",
      "\n",
      " [[-1.        ]\n",
      "  [-0.5529412 ]\n",
      "  [ 0.46666667]\n",
      "  [ 0.6313726 ]\n",
      "  [ 0.75686276]\n",
      "  [ 0.73333335]\n",
      "  [ 0.75686276]\n",
      "  [ 0.6313726 ]\n",
      "  [ 0.6       ]\n",
      "  [ 0.6784314 ]\n",
      "  [ 0.6313726 ]\n",
      "  [ 0.6392157 ]\n",
      "  [ 0.5686275 ]\n",
      "  [ 0.24705882]\n",
      "  [ 0.92156863]\n",
      "  [ 0.5137255 ]\n",
      "  [ 0.6156863 ]\n",
      "  [ 0.7490196 ]\n",
      "  [ 1.        ]\n",
      "  [ 1.        ]\n",
      "  [ 0.73333335]\n",
      "  [ 0.8352941 ]\n",
      "  [ 0.73333335]\n",
      "  [ 0.654902  ]\n",
      "  [ 0.7254902 ]\n",
      "  [ 0.81960785]\n",
      "  [ 0.92941177]\n",
      "  [-1.        ]]\n",
      "\n",
      " [[-0.9764706 ]\n",
      "  [ 0.58431375]\n",
      "  [ 0.7882353 ]\n",
      "  [ 0.75686276]\n",
      "  [ 0.73333335]\n",
      "  [ 0.654902  ]\n",
      "  [ 0.654902  ]\n",
      "  [ 0.6784314 ]\n",
      "  [ 0.60784316]\n",
      "  [ 0.60784316]\n",
      "  [ 0.60784316]\n",
      "  [ 0.7254902 ]\n",
      "  [ 0.88235295]\n",
      "  [-0.37254903]\n",
      "  [ 0.1764706 ]\n",
      "  [ 1.        ]\n",
      "  [ 0.79607844]\n",
      "  [ 0.73333335]\n",
      "  [ 0.4745098 ]\n",
      "  [ 0.20784314]\n",
      "  [ 0.49803922]\n",
      "  [ 0.64705884]\n",
      "  [ 0.6       ]\n",
      "  [ 0.6392157 ]\n",
      "  [ 0.7411765 ]\n",
      "  [ 0.7882353 ]\n",
      "  [ 0.7647059 ]\n",
      "  [-1.        ]]\n",
      "\n",
      " [[-0.23137255]\n",
      "  [ 0.827451  ]\n",
      "  [ 0.5529412 ]\n",
      "  [ 0.64705884]\n",
      "  [ 0.7411765 ]\n",
      "  [ 0.79607844]\n",
      "  [ 0.79607844]\n",
      "  [ 0.8352941 ]\n",
      "  [ 0.9529412 ]\n",
      "  [ 0.7254902 ]\n",
      "  [ 0.52156866]\n",
      "  [ 0.6862745 ]\n",
      "  [ 0.7019608 ]\n",
      "  [ 0.8901961 ]\n",
      "  [-0.49019608]\n",
      "  [-0.42745098]\n",
      "  [-0.16862746]\n",
      "  [-0.08235294]\n",
      "  [ 0.31764707]\n",
      "  [ 0.7176471 ]\n",
      "  [ 0.73333335]\n",
      "  [ 0.6862745 ]\n",
      "  [ 0.7019608 ]\n",
      "  [ 0.7490196 ]\n",
      "  [ 0.7490196 ]\n",
      "  [ 0.75686276]\n",
      "  [ 0.79607844]\n",
      "  [-0.77254903]]\n",
      "\n",
      " [[-0.4117647 ]\n",
      "  [ 0.6       ]\n",
      "  [ 0.6627451 ]\n",
      "  [ 0.6       ]\n",
      "  [ 0.5137255 ]\n",
      "  [ 0.60784316]\n",
      "  [ 0.654902  ]\n",
      "  [ 0.7647059 ]\n",
      "  [ 0.69411767]\n",
      "  [ 0.4509804 ]\n",
      "  [ 0.54509807]\n",
      "  [ 0.6156863 ]\n",
      "  [ 0.5529412 ]\n",
      "  [ 0.67058825]\n",
      "  [ 0.88235295]\n",
      "  [ 0.5294118 ]\n",
      "  [ 0.78039217]\n",
      "  [ 0.92156863]\n",
      "  [ 0.8745098 ]\n",
      "  [ 0.7490196 ]\n",
      "  [ 0.70980394]\n",
      "  [ 0.6627451 ]\n",
      "  [ 0.6392157 ]\n",
      "  [ 0.7411765 ]\n",
      "  [ 0.7254902 ]\n",
      "  [ 0.73333335]\n",
      "  [ 0.8039216 ]\n",
      "  [-0.4745098 ]]\n",
      "\n",
      " [[-0.62352943]\n",
      "  [ 0.5921569 ]\n",
      "  [ 0.43529412]\n",
      "  [ 0.52156866]\n",
      "  [ 0.67058825]\n",
      "  [ 0.54509807]\n",
      "  [ 0.4509804 ]\n",
      "  [ 0.49019608]\n",
      "  [ 0.52156866]\n",
      "  [ 0.5058824 ]\n",
      "  [ 0.58431375]\n",
      "  [ 0.6784314 ]\n",
      "  [ 0.7176471 ]\n",
      "  [ 0.73333335]\n",
      "  [ 0.7254902 ]\n",
      "  [ 0.8509804 ]\n",
      "  [ 0.7647059 ]\n",
      "  [ 0.69411767]\n",
      "  [ 0.56078434]\n",
      "  [ 0.6156863 ]\n",
      "  [ 0.45882353]\n",
      "  [ 0.41960785]\n",
      "  [ 0.3882353 ]\n",
      "  [ 0.34901962]\n",
      "  [ 0.41960785]\n",
      "  [ 0.60784316]\n",
      "  [ 0.6156863 ]\n",
      "  [-0.09803922]]\n",
      "\n",
      " [[-1.        ]\n",
      "  [-0.04313726]\n",
      "  [ 0.7176471 ]\n",
      "  [ 0.5137255 ]\n",
      "  [ 0.40392157]\n",
      "  [ 0.34117648]\n",
      "  [ 0.43529412]\n",
      "  [ 0.5372549 ]\n",
      "  [ 0.6       ]\n",
      "  [ 0.64705884]\n",
      "  [ 0.67058825]\n",
      "  [ 0.62352943]\n",
      "  [ 0.654902  ]\n",
      "  [ 0.64705884]\n",
      "  [ 0.5686275 ]\n",
      "  [ 0.5372549 ]\n",
      "  [ 0.52156866]\n",
      "  [ 0.49803922]\n",
      "  [ 0.5294118 ]\n",
      "  [ 0.49803922]\n",
      "  [ 0.5529412 ]\n",
      "  [ 0.5058824 ]\n",
      "  [ 0.38039216]\n",
      "  [ 0.22352941]\n",
      "  [ 0.30980393]\n",
      "  [ 0.3882353 ]\n",
      "  [ 0.64705884]\n",
      "  [-0.2784314 ]]\n",
      "\n",
      " [[-1.        ]\n",
      "  [-1.        ]\n",
      "  [-0.41960785]\n",
      "  [ 0.48235294]\n",
      "  [ 0.6627451 ]\n",
      "  [ 0.49803922]\n",
      "  [ 0.37254903]\n",
      "  [ 0.34901962]\n",
      "  [ 0.37254903]\n",
      "  [ 0.41960785]\n",
      "  [ 0.4509804 ]\n",
      "  [ 0.4745098 ]\n",
      "  [ 0.48235294]\n",
      "  [ 0.4745098 ]\n",
      "  [ 0.5137255 ]\n",
      "  [ 0.5529412 ]\n",
      "  [ 0.6       ]\n",
      "  [ 0.6392157 ]\n",
      "  [ 0.64705884]\n",
      "  [ 0.64705884]\n",
      "  [ 0.654902  ]\n",
      "  [ 0.4745098 ]\n",
      "  [ 0.4745098 ]\n",
      "  [ 0.52156866]\n",
      "  [ 0.5058824 ]\n",
      "  [ 0.69411767]\n",
      "  [ 0.33333334]\n",
      "  [-1.        ]]\n",
      "\n",
      " [[-0.9843137 ]\n",
      "  [-1.        ]\n",
      "  [-1.        ]\n",
      "  [-1.        ]\n",
      "  [-0.48235294]\n",
      "  [ 0.5686275 ]\n",
      "  [ 0.7411765 ]\n",
      "  [ 0.85882354]\n",
      "  [ 0.8745098 ]\n",
      "  [ 0.8980392 ]\n",
      "  [ 0.92941177]\n",
      "  [ 0.90588236]\n",
      "  [ 0.9137255 ]\n",
      "  [ 0.73333335]\n",
      "  [ 0.7254902 ]\n",
      "  [ 0.5137255 ]\n",
      "  [ 0.49803922]\n",
      "  [ 0.40392157]\n",
      "  [ 0.42745098]\n",
      "  [ 0.42745098]\n",
      "  [ 0.41960785]\n",
      "  [ 0.38039216]\n",
      "  [ 0.3019608 ]\n",
      "  [ 0.31764707]\n",
      "  [-0.22352941]\n",
      "  [-0.54509807]\n",
      "  [-1.        ]\n",
      "  [-1.        ]]\n",
      "\n",
      " [[-1.        ]\n",
      "  [-1.        ]\n",
      "  [-1.        ]\n",
      "  [-1.        ]\n",
      "  [-1.        ]\n",
      "  [-1.        ]\n",
      "  [-1.        ]\n",
      "  [-0.6862745 ]\n",
      "  [-0.52156866]\n",
      "  [-0.654902  ]\n",
      "  [-0.43529412]\n",
      "  [-0.6784314 ]\n",
      "  [-0.7254902 ]\n",
      "  [-1.        ]\n",
      "  [-1.        ]\n",
      "  [-1.        ]\n",
      "  [-1.        ]\n",
      "  [-1.        ]\n",
      "  [-1.        ]\n",
      "  [-1.        ]\n",
      "  [-1.        ]\n",
      "  [-1.        ]\n",
      "  [-1.        ]\n",
      "  [-1.        ]\n",
      "  [-1.        ]\n",
      "  [-1.        ]\n",
      "  [-1.        ]\n",
      "  [-1.        ]]\n",
      "\n",
      " [[-1.        ]\n",
      "  [-1.        ]\n",
      "  [-1.        ]\n",
      "  [-1.        ]\n",
      "  [-1.        ]\n",
      "  [-1.        ]\n",
      "  [-1.        ]\n",
      "  [-1.        ]\n",
      "  [-1.        ]\n",
      "  [-1.        ]\n",
      "  [-1.        ]\n",
      "  [-1.        ]\n",
      "  [-1.        ]\n",
      "  [-1.        ]\n",
      "  [-1.        ]\n",
      "  [-1.        ]\n",
      "  [-1.        ]\n",
      "  [-1.        ]\n",
      "  [-1.        ]\n",
      "  [-1.        ]\n",
      "  [-1.        ]\n",
      "  [-1.        ]\n",
      "  [-1.        ]\n",
      "  [-1.        ]\n",
      "  [-1.        ]\n",
      "  [-1.        ]\n",
      "  [-1.        ]\n",
      "  [-1.        ]]\n",
      "\n",
      " [[-1.        ]\n",
      "  [-1.        ]\n",
      "  [-1.        ]\n",
      "  [-1.        ]\n",
      "  [-1.        ]\n",
      "  [-1.        ]\n",
      "  [-1.        ]\n",
      "  [-1.        ]\n",
      "  [-1.        ]\n",
      "  [-1.        ]\n",
      "  [-1.        ]\n",
      "  [-1.        ]\n",
      "  [-1.        ]\n",
      "  [-1.        ]\n",
      "  [-1.        ]\n",
      "  [-1.        ]\n",
      "  [-1.        ]\n",
      "  [-1.        ]\n",
      "  [-1.        ]\n",
      "  [-1.        ]\n",
      "  [-1.        ]\n",
      "  [-1.        ]\n",
      "  [-1.        ]\n",
      "  [-1.        ]\n",
      "  [-1.        ]\n",
      "  [-1.        ]\n",
      "  [-1.        ]\n",
      "  [-1.        ]]]\n"
     ]
    }
   ],
   "source": [
    "print(x_train_normalized[0])"
   ]
  },
  {
   "cell_type": "code",
   "execution_count": 16,
   "metadata": {
    "colab": {
     "base_uri": "https://localhost:8080/",
     "height": 51
    },
    "colab_type": "code",
    "executionInfo": {
     "elapsed": 4580,
     "status": "ok",
     "timestamp": 1590383294494,
     "user": {
      "displayName": "Oleksii Trekhleb",
      "photoUrl": "https://lh3.googleusercontent.com/a-/AOh14GiiA4aUKCbFho88Jd0WWMoAqQUt3jbuCtfNYpHVOA=s64",
      "userId": "03172675069638383074"
     },
     "user_tz": -120
    },
    "id": "RY0LUGF_Qg3V",
    "outputId": "d3f2ac8f-d2be-4648-8da7-a5f6f7f31b90"
   },
   "outputs": [
    {
     "name": "stdout",
     "output_type": "stream",
     "text": [
      "BATCH_SIZE:  1024\n",
      "TRAINING_STEPS_PER_EPOCH:  69\n"
     ]
    }
   ],
   "source": [
    "SHUFFLE_BUFFER_SIZE = TOTAL_EXAMPLES_NUM\n",
    "BATCH_SIZE = 1024\n",
    "\n",
    "TRAINING_STEPS_PER_EPOCH = math.ceil(TOTAL_EXAMPLES_NUM / BATCH_SIZE)\n",
    "\n",
    "print('BATCH_SIZE: ', BATCH_SIZE)\n",
    "print('TRAINING_STEPS_PER_EPOCH: ', TRAINING_STEPS_PER_EPOCH)"
   ]
  },
  {
   "cell_type": "code",
   "execution_count": 17,
   "metadata": {
    "colab": {
     "base_uri": "https://localhost:8080/",
     "height": 34
    },
    "colab_type": "code",
    "executionInfo": {
     "elapsed": 12839,
     "status": "ok",
     "timestamp": 1590383302806,
     "user": {
      "displayName": "Oleksii Trekhleb",
      "photoUrl": "https://lh3.googleusercontent.com/a-/AOh14GiiA4aUKCbFho88Jd0WWMoAqQUt3jbuCtfNYpHVOA=s64",
      "userId": "03172675069638383074"
     },
     "user_tz": -120
    },
    "id": "XJxRB1j5Qg3Y",
    "outputId": "e68cf86c-d3e5-4ccf-a88b-78e5ee9f8434"
   },
   "outputs": [
    {
     "name": "stdout",
     "output_type": "stream",
     "text": [
      "<BatchDataset shapes: (None, 28, 28, 1), types: tf.float32>\n"
     ]
    }
   ],
   "source": [
    "train_dataset = tf.data.Dataset.from_tensor_slices(x_train_normalized) \\\n",
    "    .shuffle(SHUFFLE_BUFFER_SIZE) \\\n",
    "    .batch(BATCH_SIZE)\n",
    "\n",
    "print(train_dataset)"
   ]
  },
  {
   "cell_type": "markdown",
   "metadata": {
    "colab_type": "text",
    "id": "q-LIdgr0Qg3b"
   },
   "source": [
    "## Create models"
   ]
  },
  {
   "cell_type": "markdown",
   "metadata": {
    "colab_type": "text",
    "id": "joxm4EKPQg3b"
   },
   "source": [
    "### Create generator"
   ]
  },
  {
   "cell_type": "code",
   "execution_count": 0,
   "metadata": {
    "colab": {},
    "colab_type": "code",
    "id": "ibmnD5dlQg3c"
   },
   "outputs": [],
   "source": [
    "def make_generator_model():\n",
    "    model = tf.keras.Sequential()\n",
    "    \n",
    "    # Step 1.\n",
    "    model.add(tf.keras.layers.Dense(\n",
    "        units=7*7*256,\n",
    "        use_bias=False,\n",
    "        input_shape=(100,)\n",
    "    ))\n",
    "    model.add(tf.keras.layers.BatchNormalization())\n",
    "    model.add(tf.keras.layers.LeakyReLU())\n",
    "    \n",
    "    # Step 2.\n",
    "    model.add(tf.keras.layers.Reshape((7, 7, 256)))\n",
    "    assert model.output_shape == (None, 7, 7, 256) # None is a batch size.\n",
    "    \n",
    "    # Step 3.\n",
    "    model.add(tf.keras.layers.Conv2DTranspose(\n",
    "        filters=128,\n",
    "        kernel_size=(5, 5),\n",
    "        strides=(1, 1),\n",
    "        padding='same',\n",
    "        use_bias=False\n",
    "    ))\n",
    "    assert model.output_shape == (None, 7, 7, 128)\n",
    "    model.add(tf.keras.layers.BatchNormalization())\n",
    "    model.add(tf.keras.layers.LeakyReLU())\n",
    "    \n",
    "    # Step 4.\n",
    "    model.add(tf.keras.layers.Conv2DTranspose(\n",
    "        filters=64,\n",
    "        kernel_size=(5, 5),\n",
    "        strides=(2, 2),\n",
    "        padding='same',\n",
    "        use_bias=False\n",
    "    ))\n",
    "    assert model.output_shape == (None, 14, 14, 64)\n",
    "    model.add(tf.keras.layers.BatchNormalization())\n",
    "    model.add(tf.keras.layers.LeakyReLU())\n",
    "    \n",
    "    # Step 5.\n",
    "    model.add(tf.keras.layers.Conv2DTranspose(\n",
    "        filters=1,\n",
    "        kernel_size=(5, 5),\n",
    "        strides=(2, 2),\n",
    "        padding='same',\n",
    "        use_bias=False,\n",
    "        activation='tanh'\n",
    "    ))\n",
    "    assert model.output_shape == (None, 28, 28, 1)\n",
    "    \n",
    "    return model"
   ]
  },
  {
   "cell_type": "code",
   "execution_count": 0,
   "metadata": {
    "colab": {},
    "colab_type": "code",
    "id": "5LxpnjBtQg3e"
   },
   "outputs": [],
   "source": [
    "generator_model = make_generator_model()"
   ]
  },
  {
   "cell_type": "code",
   "execution_count": 20,
   "metadata": {
    "colab": {
     "base_uri": "https://localhost:8080/",
     "height": 527
    },
    "colab_type": "code",
    "executionInfo": {
     "elapsed": 12756,
     "status": "ok",
     "timestamp": 1590383302809,
     "user": {
      "displayName": "Oleksii Trekhleb",
      "photoUrl": "https://lh3.googleusercontent.com/a-/AOh14GiiA4aUKCbFho88Jd0WWMoAqQUt3jbuCtfNYpHVOA=s64",
      "userId": "03172675069638383074"
     },
     "user_tz": -120
    },
    "id": "eryk9JHHQg3g",
    "outputId": "79b34e1a-4988-4023-eeaf-db4bb2bbb41c"
   },
   "outputs": [
    {
     "name": "stdout",
     "output_type": "stream",
     "text": [
      "Model: \"sequential\"\n",
      "_________________________________________________________________\n",
      "Layer (type)                 Output Shape              Param #   \n",
      "=================================================================\n",
      "dense (Dense)                (None, 12544)             1254400   \n",
      "_________________________________________________________________\n",
      "batch_normalization (BatchNo (None, 12544)             50176     \n",
      "_________________________________________________________________\n",
      "leaky_re_lu (LeakyReLU)      (None, 12544)             0         \n",
      "_________________________________________________________________\n",
      "reshape (Reshape)            (None, 7, 7, 256)         0         \n",
      "_________________________________________________________________\n",
      "conv2d_transpose (Conv2DTran (None, 7, 7, 128)         819200    \n",
      "_________________________________________________________________\n",
      "batch_normalization_1 (Batch (None, 7, 7, 128)         512       \n",
      "_________________________________________________________________\n",
      "leaky_re_lu_1 (LeakyReLU)    (None, 7, 7, 128)         0         \n",
      "_________________________________________________________________\n",
      "conv2d_transpose_1 (Conv2DTr (None, 14, 14, 64)        204800    \n",
      "_________________________________________________________________\n",
      "batch_normalization_2 (Batch (None, 14, 14, 64)        256       \n",
      "_________________________________________________________________\n",
      "leaky_re_lu_2 (LeakyReLU)    (None, 14, 14, 64)        0         \n",
      "_________________________________________________________________\n",
      "conv2d_transpose_2 (Conv2DTr (None, 28, 28, 1)         1600      \n",
      "=================================================================\n",
      "Total params: 2,330,944\n",
      "Trainable params: 2,305,472\n",
      "Non-trainable params: 25,472\n",
      "_________________________________________________________________\n"
     ]
    }
   ],
   "source": [
    "generator_model.summary()"
   ]
  },
  {
   "cell_type": "code",
   "execution_count": 21,
   "metadata": {
    "colab": {
     "base_uri": "https://localhost:8080/",
     "height": 1000
    },
    "colab_type": "code",
    "executionInfo": {
     "elapsed": 12738,
     "status": "ok",
     "timestamp": 1590383302809,
     "user": {
      "displayName": "Oleksii Trekhleb",
      "photoUrl": "https://lh3.googleusercontent.com/a-/AOh14GiiA4aUKCbFho88Jd0WWMoAqQUt3jbuCtfNYpHVOA=s64",
      "userId": "03172675069638383074"
     },
     "user_tz": -120
    },
    "id": "KA-vmAQ3Qg3j",
    "outputId": "21ea3cc6-844a-43cd-ff46-e46560bd243a"
   },
   "outputs": [
    {
     "data": {
      "image/png": "[encoded data removed]",
      "text/plain": [
       "<IPython.core.display.Image object>"
      ]
     },
     "execution_count": 21,
     "metadata": {
      "tags": []
     },
     "output_type": "execute_result"
    }
   ],
   "source": [
    "tf.keras.utils.plot_model(\n",
    "    generator_model,\n",
    "    show_shapes=True,\n",
    "    show_layer_names=True,\n",
    "    to_file='generator_model.png'\n",
    ")"
   ]
  },
  {
   "cell_type": "code",
   "execution_count": 22,
   "metadata": {
    "colab": {
     "base_uri": "https://localhost:8080/",
     "height": 306
    },
    "colab_type": "code",
    "executionInfo": {
     "elapsed": 12716,
     "status": "ok",
     "timestamp": 1590383302811,
     "user": {
      "displayName": "Oleksii Trekhleb",
      "photoUrl": "https://lh3.googleusercontent.com/a-/AOh14GiiA4aUKCbFho88Jd0WWMoAqQUt3jbuCtfNYpHVOA=s64",
      "userId": "03172675069638383074"
     },
     "user_tz": -120
    },
    "id": "pqW--sw-Qg3m",
    "outputId": "266b976d-3389-430c-9cc2-9d42e4838bd1"
   },
   "outputs": [
    {
     "name": "stdout",
     "output_type": "stream",
     "text": [
      "[[ 1.1951355  -0.5735609  -0.27432644  0.4110263   0.4298992  -0.04175656\n",
      "  -0.9798487   0.679387   -2.1448772  -0.53793275  0.42834902  0.83835953\n",
      "  -0.6589481   1.1762615   0.5023029  -0.55501574  1.3022406  -1.4901018\n",
      "  -0.39672107  0.4363283  -0.1106406   1.080067   -0.4179727   0.7197736\n",
      "  -0.507831    0.67684036  0.10118605  0.20596237  1.364705   -1.7023594\n",
      "  -1.1471426   0.17637607 -1.3978733   0.6005909   0.07481261  1.7144989\n",
      "   1.5078166  -0.20795234  0.4249416  -0.08613939  0.77249914  0.6504426\n",
      "   0.64068455 -0.24348846 -0.9964119  -1.3019044   0.8267294  -0.66348636\n",
      "   0.298275   -0.6062128   1.0991529  -0.74988204 -1.4692428  -0.2925296\n",
      "  -0.78495854  0.8242944  -1.1570358  -0.1282367  -1.457529    0.01573135\n",
      "   1.2668746  -0.88474107  0.0981768   0.27952284  1.0635526   1.5145533\n",
      "  -0.94406956 -0.7618723  -1.8797226  -1.2166338   0.02448113 -0.18791305\n",
      "   1.1188694  -0.1326356  -1.2735486  -0.95819694 -0.38936546 -0.14071237\n",
      "  -0.4247876   0.47750843  0.01759962  0.52212155 -0.7717725   1.299456\n",
      "  -0.14396888  0.34207773  1.1477042  -0.20989093  0.5056786   1.7161916\n",
      "  -2.1161344  -0.08822498  1.0311737   0.5732358  -0.5472451   0.48571628\n",
      "  -2.348496   -1.4594657  -0.10054705  0.42973006]]\n"
     ]
    }
   ],
   "source": [
    "noise = tf.random.normal(shape=[1, 100])\n",
    "\n",
    "print(noise.numpy())"
   ]
  },
  {
   "cell_type": "code",
   "execution_count": 23,
   "metadata": {
    "colab": {
     "base_uri": "https://localhost:8080/",
     "height": 34
    },
    "colab_type": "code",
    "executionInfo": {
     "elapsed": 18924,
     "status": "ok",
     "timestamp": 1590383309041,
     "user": {
      "displayName": "Oleksii Trekhleb",
      "photoUrl": "https://lh3.googleusercontent.com/a-/AOh14GiiA4aUKCbFho88Jd0WWMoAqQUt3jbuCtfNYpHVOA=s64",
      "userId": "03172675069638383074"
     },
     "user_tz": -120
    },
    "id": "a-T1_UdAQg3o",
    "outputId": "f5682583-31e5-4b7e-9d88-757eebf91e6b"
   },
   "outputs": [
    {
     "name": "stdout",
     "output_type": "stream",
     "text": [
      "generated_image.shape:  (1, 28, 28, 1)\n"
     ]
    }
   ],
   "source": [
    "generated_image = generator_model(noise, training=False)\n",
    "\n",
    "print('generated_image.shape: ', generated_image.shape)"
   ]
  },
  {
   "cell_type": "code",
   "execution_count": 24,
   "metadata": {
    "colab": {
     "base_uri": "https://localhost:8080/",
     "height": 1000
    },
    "colab_type": "code",
    "executionInfo": {
     "elapsed": 18902,
     "status": "ok",
     "timestamp": 1590383309044,
     "user": {
      "displayName": "Oleksii Trekhleb",
      "photoUrl": "https://lh3.googleusercontent.com/a-/AOh14GiiA4aUKCbFho88Jd0WWMoAqQUt3jbuCtfNYpHVOA=s64",
      "userId": "03172675069638383074"
     },
     "user_tz": -120
    },
    "id": "1YJBANZxQg3q",
    "outputId": "1afbc8bf-922a-464c-f657-febe28a951a2"
   },
   "outputs": [
    {
     "name": "stdout",
     "output_type": "stream",
     "text": [
      "[[-2.73854984e-03 -1.15704979e-03  1.26672001e-03  9.31845221e-04\n",
      "   1.82465336e-03  9.13209748e-03 -1.85174088e-03  1.24372048e-02\n",
      "  -4.37284325e-04 -9.35487857e-04 -4.06613713e-03  3.70103889e-03\n",
      "   5.33872284e-03 -3.64189409e-03 -5.15710562e-05  5.54455072e-03\n",
      "  -9.34518129e-03  2.65720789e-03 -7.52423378e-03  7.02810357e-04\n",
      "  -5.98490413e-04  1.10236658e-02  5.57550136e-03 -6.61374186e-04\n",
      "   3.99058778e-03  6.43382082e-03  4.72347857e-03  5.24890318e-04]\n",
      " [-8.15345533e-03  9.57329117e-04 -1.17701609e-02 -1.72531214e-02\n",
      "  -6.14062743e-03 -2.18348950e-02 -2.39169248e-03 -1.75603293e-02\n",
      "  -9.70929582e-03 -1.12030534e-02 -2.32627406e-03  3.43830418e-03\n",
      "  -6.03066897e-03 -2.25727800e-02  3.58718866e-03 -5.81970671e-03\n",
      "   2.20365659e-03 -9.01418971e-04 -3.92708322e-03  1.68759958e-03\n",
      "  -4.09093918e-03 -1.70863923e-02 -3.51199904e-03 -1.14933252e-02\n",
      "  -1.45510705e-02 -9.71004553e-03 -8.07031430e-03  9.10972059e-03]\n",
      " [ 5.47752436e-03  7.01685250e-03  5.29910903e-03 -2.43916921e-03\n",
      "   4.57121385e-03  1.89549581e-03 -3.07255797e-03 -1.07639574e-03\n",
      "   1.44731198e-02  3.54146212e-03  2.94396630e-03  2.56749392e-02\n",
      "   1.41487527e-03 -6.51172362e-03  1.40237901e-03  2.15283176e-03\n",
      "   1.85358222e-03 -8.41140805e-04 -1.08571835e-02 -3.87776236e-05\n",
      "   6.28956070e-04 -2.21145083e-03 -1.76873282e-02 -2.47581466e-03\n",
      "  -6.93905633e-03 -3.73212295e-03  1.46961994e-02  1.74356485e-03]\n",
      " [ 2.62452825e-03 -1.31202927e-02 -1.07532833e-02 -1.25689851e-02\n",
      "  -1.35518005e-02 -4.31640781e-02 -1.90266427e-02 -3.96676408e-03\n",
      "  -3.24161127e-02 -3.60098155e-03 -6.80428138e-03 -2.52574659e-03\n",
      "  -7.00149918e-03 -4.49622460e-02 -5.52299852e-03 -4.28738509e-04\n",
      "  -1.16293458e-02 -5.85026434e-03 -1.60622150e-02 -1.92403365e-02\n",
      "  -8.42577871e-03  7.26204924e-03 -4.82900208e-03 -1.80097334e-02\n",
      "  -1.11102145e-02 -2.90008299e-02  5.49308909e-03 -1.66825820e-02]\n",
      " [-2.83704908e-03  2.17375136e-03 -5.42222522e-03 -2.43423693e-03\n",
      "   4.22123447e-03 -7.98458525e-04 -3.09297931e-03  9.44012485e-04\n",
      "   1.34256836e-02 -2.24959478e-03 -6.58992026e-03  2.74924212e-03\n",
      "   1.30796721e-02 -9.81052988e-04  1.65349653e-03  8.51623435e-03\n",
      "   2.16433872e-02  2.95636430e-02 -2.13227104e-02  7.82101823e-04\n",
      "   4.32070391e-03  6.18996844e-03  2.62459414e-03  7.08073471e-03\n",
      "   2.57783849e-02  5.19313756e-03  9.54647642e-03 -4.52492945e-03]\n",
      " [-8.32355395e-03 -3.71703738e-03 -8.09664838e-03  1.08132837e-02\n",
      "  -1.92844830e-02 -1.25205982e-02 -9.98424552e-03  4.40182816e-03\n",
      "  -3.40878628e-02 -2.94776820e-02 -9.52473900e-04 -2.34786030e-02\n",
      "  -4.34936993e-02 -3.40276398e-02 -1.07014123e-02  2.31082663e-02\n",
      "  -2.19339337e-02 -2.52382457e-02 -1.27773499e-02 -2.12802105e-02\n",
      "  -1.40841063e-02 -4.17680629e-02 -3.71755403e-03  2.30335165e-04\n",
      "  -4.10115952e-03 -1.91478301e-02 -2.45565493e-02 -4.92102141e-03]\n",
      " [ 8.27822182e-03  4.37214831e-03 -1.00177911e-03 -4.76347719e-04\n",
      "  -1.19595621e-02  1.30640892e-02 -4.09894064e-03  7.39085441e-03\n",
      "  -1.85972522e-03  2.05976027e-03 -2.64091417e-04 -6.89280313e-03\n",
      "  -1.12576624e-02  1.61177870e-02  7.97420833e-03  5.65947406e-03\n",
      "  -1.41756888e-02 -2.13439595e-02  1.54606788e-03 -1.58442538e-02\n",
      "  -7.66663637e-04  5.27771516e-03 -7.83296861e-03 -5.86246885e-03\n",
      "   3.80371767e-03 -1.26897953e-02 -3.60951363e-03 -1.56353973e-02]\n",
      " [ 2.92932685e-03 -9.50842164e-03 -8.05315841e-03 -2.58007366e-02\n",
      "  -2.28113867e-02 -1.19817825e-02  1.73858833e-02 -4.57389019e-02\n",
      "  -2.12422647e-02 -2.93849315e-03 -2.46282518e-02 -3.39033715e-02\n",
      "   7.06939166e-03 -1.69212241e-02  2.12110057e-02 -2.49481127e-02\n",
      "  -3.62581611e-02 -1.68183669e-02  1.27544962e-02 -9.41527449e-03\n",
      "  -1.75836422e-02  5.23497292e-04 -8.05654749e-03 -1.40800951e-02\n",
      "  -1.92190278e-02 -2.53982637e-02 -4.96486016e-03 -1.84047893e-02]\n",
      " [ 2.76365108e-03  2.73866905e-03  1.63221080e-02  8.17722734e-03\n",
      "   3.23921652e-03 -1.95620880e-02 -1.95189763e-03  4.52147331e-04\n",
      "  -8.32660962e-03 -8.49494431e-03 -2.82850163e-03  7.03357300e-03\n",
      "   4.07530889e-02  1.59260426e-02  2.96211466e-02  1.13037871e-02\n",
      "   7.27141974e-03  4.39881533e-03 -5.92079060e-03  2.19867826e-02\n",
      "   1.84415169e-02  6.96899276e-03  1.46554681e-02 -5.25905518e-03\n",
      "   3.82459313e-02 -7.03444239e-03  8.70826282e-03 -6.21093716e-03]\n",
      " [-1.00971628e-02 -1.25990808e-02 -2.57760985e-06  1.34354050e-03\n",
      "  -2.36602016e-02 -2.09655669e-02 -6.17397651e-02 -6.43707532e-03\n",
      "  -3.67664397e-02 -1.01779273e-03 -3.82387303e-02  1.57233570e-02\n",
      "  -3.60203423e-02 -5.20889089e-02 -3.62764522e-02  1.83218811e-02\n",
      "  -3.50662805e-02 -5.19892424e-02 -2.00407021e-02  1.02004893e-02\n",
      "  -3.60096432e-02  1.49322208e-04 -1.13684097e-02  1.00462204e-02\n",
      "  -4.36988659e-02 -1.54587831e-02 -4.07031327e-02 -2.42893188e-03]\n",
      " [ 4.38601058e-03 -1.24002143e-03  3.06705502e-03  4.70031006e-03\n",
      "  -3.23163485e-03 -9.72314365e-03 -3.45551930e-02 -1.96272996e-03\n",
      "  -1.40637290e-02  3.29531878e-02  8.06634489e-04  2.05773171e-02\n",
      "  -1.01537965e-02  6.64694235e-05  8.58041644e-03  2.85235438e-02\n",
      "   2.23300979e-03 -7.59250158e-03 -1.57612637e-02  1.73024535e-02\n",
      "  -1.14295026e-02  2.59610522e-03  9.82375722e-03 -1.45532675e-02\n",
      "   2.17103492e-03 -4.93338611e-03  9.07129026e-04 -2.75102910e-03]\n",
      " [ 5.69150457e-03  1.31539321e-02  1.65640544e-02 -1.65025126e-02\n",
      "  -3.27174030e-02  4.59391298e-03 -2.42024492e-02 -3.86707336e-02\n",
      "  -7.10438378e-03 -1.60884429e-02 -7.87982624e-03  9.01279785e-03\n",
      "  -1.89611092e-02 -9.94729996e-03  1.11622615e-02  3.30179743e-02\n",
      "  -1.23280669e-02 -5.45814410e-02 -8.46297573e-03 -3.91038880e-02\n",
      "  -5.64670132e-04 -3.44168581e-02 -4.57622334e-02 -1.97504610e-02\n",
      "  -1.88436937e-02 -3.82929370e-02 -1.34459473e-02 -7.05252774e-03]\n",
      " [ 4.95837117e-03 -6.66051218e-03  3.49810277e-03  8.25848244e-03\n",
      "  -4.42447606e-03  5.33369137e-03  4.61463910e-03  5.86744910e-03\n",
      "   1.08498065e-02 -3.29455361e-05 -2.00925255e-03 -5.08599170e-03\n",
      "   1.40632028e-02 -2.29756013e-02  5.57600148e-03  2.26027258e-02\n",
      "   2.01865025e-02 -8.46175570e-03  2.01652329e-02 -7.72184785e-03\n",
      "   8.90176930e-03 -1.66017916e-02 -3.86983366e-03  1.96935199e-02\n",
      "   3.66416313e-02 -1.64425466e-02  4.37220652e-03 -1.58826429e-02]\n",
      " [-1.20111052e-02  1.52047374e-03  1.38825271e-06 -1.46619156e-02\n",
      "  -2.79175844e-02 -1.19874710e-02 -2.29009916e-03  3.77083793e-02\n",
      "  -4.13975716e-02 -3.87496352e-02 -3.56799774e-02  1.13388458e-02\n",
      "  -4.41603437e-02 -4.90732193e-02 -3.47391143e-02 -1.22260405e-02\n",
      "  -5.16474470e-02  1.32025899e-02  1.20896688e-02 -9.97599121e-03\n",
      "  -4.04900648e-02 -3.98166338e-03 -3.01355589e-02  1.22773899e-02\n",
      "  -2.77537424e-02  5.24134887e-03 -2.55556554e-02  2.77860672e-03]\n",
      " [ 8.60906951e-03  2.81582703e-03 -1.23070320e-02  1.92439556e-02\n",
      "  -2.50296900e-03  1.23629654e-02 -5.24470955e-03 -3.42143723e-03\n",
      "  -2.42635142e-02 -1.06722955e-02  4.24629217e-03  1.39278462e-02\n",
      "  -5.47587732e-03 -1.18094459e-02 -2.70053688e-02 -2.29418906e-03\n",
      "   6.27914025e-03  1.10433595e-02  9.59647726e-03  1.62502099e-02\n",
      "   1.24851661e-02 -2.62056645e-02 -7.54374964e-03  4.90601640e-03\n",
      "  -1.54970214e-02 -6.36117719e-03 -4.12730221e-03 -9.20315646e-03]\n",
      " [-2.99107959e-03 -1.28082708e-02 -5.45469113e-03 -1.61094610e-02\n",
      "  -3.38804768e-03 -1.38090188e-02  1.14927357e-02  1.82865188e-06\n",
      "  -2.50336770e-02  1.08438442e-02 -2.63805185e-02 -5.29743433e-02\n",
      "  -1.57787558e-02 -2.99539603e-02 -5.13267070e-02 -3.50705422e-02\n",
      "  -5.86973429e-02 -2.22745538e-02 -2.44366936e-04 -3.26902010e-02\n",
      "  -5.07975705e-02 -8.28037690e-03  3.28531899e-02 -3.70369293e-02\n",
      "  -3.40887792e-02 -1.67981684e-02 -9.79005825e-03 -9.58942156e-03]\n",
      " [-1.86683610e-06 -3.94981261e-03 -1.11532654e-03  8.80515948e-03\n",
      "   2.09996477e-02  3.21412832e-03  6.92299334e-03 -2.17623115e-02\n",
      "   3.06192189e-02 -3.11374315e-03 -2.26021912e-02  2.35973485e-02\n",
      "   8.20357725e-03 -1.23859607e-02 -1.63824223e-02  8.89748149e-03\n",
      "   6.02169195e-03 -3.17706764e-02 -1.36809275e-02  1.17619510e-03\n",
      "   1.34863798e-02 -3.00474302e-03 -3.46660591e-03 -1.16631733e-02\n",
      "   2.04319879e-03  2.74144229e-03 -4.46639769e-03 -1.83632411e-02]\n",
      " [-7.21560745e-03 -2.04024110e-02 -1.52432658e-02  8.55490752e-03\n",
      "  -2.74902713e-02 -2.07957048e-02 -2.07924303e-02 -1.19636832e-02\n",
      "  -2.41155233e-02 -2.58985236e-02 -4.73452248e-02 -6.59741461e-03\n",
      "  -4.52180319e-02 -4.96481732e-02 -2.34355442e-02  2.59045158e-02\n",
      "  -1.86152626e-02 -2.17328127e-02 -9.10961255e-03 -1.75559148e-02\n",
      "  -2.30059568e-02 -7.30387634e-03 -4.25864868e-02 -2.98566874e-02\n",
      "   2.33335746e-03 -2.88793258e-02 -2.83885635e-02 -1.60055198e-02]\n",
      " [ 9.03266110e-03 -4.87203011e-03 -1.95564586e-03  1.68792102e-02\n",
      "  -1.33164041e-02 -1.37608033e-04  1.69981830e-02  1.41565297e-02\n",
      "  -1.49367731e-02  2.84419116e-02 -3.00094229e-03  1.00624273e-02\n",
      "   8.78474023e-03 -3.54757756e-02  1.54237896e-02  2.66699842e-03\n",
      "  -5.34279225e-03 -1.04197143e-02  8.31275247e-06  1.21619562e-02\n",
      "  -2.93436199e-02 -4.44628252e-03  4.28809039e-03  1.35967284e-02\n",
      "   6.77431514e-03  1.17958346e-02 -1.24740917e-02 -1.76847074e-02]\n",
      " [ 8.78832396e-03 -4.31799516e-03 -5.03024831e-03 -2.61707772e-02\n",
      "  -2.87148561e-02 -2.57896516e-03 -2.33069248e-02 -1.48729365e-02\n",
      "  -6.83077201e-02 -9.28987656e-03  1.23854131e-02 -4.85754609e-02\n",
      "   1.18765654e-02 -3.39022353e-02 -1.40734063e-02 -4.03991230e-02\n",
      "  -2.87148338e-02 -1.25105632e-02 -4.07263115e-02 -1.47694191e-02\n",
      "  -1.40138911e-02 -1.78993512e-02  6.76454511e-03  1.93800440e-03\n",
      "  -3.00896596e-02 -2.80680861e-02  4.07675793e-03 -4.48204800e-02]\n",
      " [-1.66540453e-03 -6.69249799e-04 -7.61196204e-03  1.95125639e-02\n",
      "   1.49987573e-02 -2.80649308e-03  4.61278454e-04  1.55117048e-03\n",
      "   1.46886834e-03 -8.09887983e-03 -1.59282479e-02  1.47740003e-02\n",
      "   2.25108322e-02 -5.62608726e-02  9.02156811e-03  2.11695745e-03\n",
      "   9.17026773e-03 -2.06114631e-02 -5.87801915e-05  1.43917203e-02\n",
      "   5.78000396e-03 -8.04658793e-03 -2.63950322e-02  3.51515599e-04\n",
      "   1.10429768e-02  2.15855637e-03  7.11250864e-03  4.34872881e-03]\n",
      " [-2.09214780e-02  1.17369946e-02 -2.36999467e-02  8.68297089e-03\n",
      "  -1.79569535e-02 -4.99715246e-02 -7.52839725e-04  2.08558189e-03\n",
      "  -1.88878402e-02 -3.14856060e-02 -1.20869195e-02  1.98935103e-02\n",
      "  -2.93985736e-02 -2.00491026e-02 -2.33212067e-03 -2.86504515e-02\n",
      "  -4.10013683e-02  1.06255310e-02  1.56109687e-02 -9.27262567e-03\n",
      "  -5.44661395e-02 -2.84661874e-02 -3.16812284e-02 -3.54833789e-02\n",
      "  -3.69126387e-02 -2.16726586e-02 -6.07572915e-03  5.95311029e-03]\n",
      " [-3.96809587e-03  3.61352647e-03 -8.09335802e-03  5.51945297e-03\n",
      "  -7.81925675e-03 -8.44882987e-03  1.92603888e-03 -2.20566662e-03\n",
      "  -9.16748308e-03  5.91777207e-04 -6.74476475e-03  1.21884365e-02\n",
      "  -1.93202198e-02 -1.00883767e-02  2.71883328e-02  3.00823823e-02\n",
      "  -4.06999886e-03 -3.91898304e-02  4.80110961e-04 -4.64545377e-03\n",
      "   3.50121409e-03 -1.92556456e-02 -9.11709946e-03  5.27822785e-03\n",
      "   1.71303265e-02 -1.52895297e-03  2.87852483e-04 -3.07647660e-02]\n",
      " [-7.81883427e-04 -6.27810927e-03 -9.98685323e-03 -6.51367288e-03\n",
      "  -1.55854477e-02 -1.55678892e-03 -2.49447897e-02 -4.77902032e-02\n",
      "  -2.63744108e-02 -2.63871308e-02  2.21750489e-03 -1.00106001e-02\n",
      "  -1.32774068e-02 -1.85884293e-02  1.60071161e-02 -3.12122591e-02\n",
      "  -1.11886384e-02 -2.52531171e-02 -2.24865265e-02 -1.30533408e-02\n",
      "  -1.54190324e-02  1.95651664e-03  9.99967568e-03 -2.46443357e-02\n",
      "  -2.42109727e-02 -2.46483763e-03 -8.67544487e-03 -1.51899792e-02]\n",
      " [ 1.02172708e-02 -8.63838289e-03  1.08616455e-02  1.24844722e-03\n",
      "   1.35734417e-02  2.14393274e-03  1.20031489e-02  3.03501673e-02\n",
      "   1.29520744e-02 -1.75391957e-02  3.29191005e-03  5.35106752e-03\n",
      "   1.80190299e-02 -2.17586141e-02  1.43733257e-02 -5.32709155e-03\n",
      "   1.80914775e-02  2.96261832e-02  9.02167056e-03  1.41206328e-02\n",
      "   1.04611181e-02 -1.46383299e-02  1.43611035e-03 -1.12965284e-02\n",
      "  -1.07272377e-03 -1.19770383e-02  9.92482249e-03 -7.69400084e-03]\n",
      " [-3.42588965e-03 -1.22843329e-02 -1.73096862e-02  4.21790732e-03\n",
      "  -2.31112204e-02 -2.73076817e-02 -2.21454781e-02 -1.33091370e-02\n",
      "  -2.41816379e-02 -3.37946117e-02 -7.70035433e-03 -2.74853017e-02\n",
      "  -3.40068303e-02 -7.59419799e-03 -1.65120605e-02  5.48949640e-04\n",
      "  -2.73289494e-02 -3.73422131e-02 -5.29398620e-02 -1.92744583e-02\n",
      "  -2.86060385e-02 -1.19391615e-02 -1.07222581e-02  5.58236567e-03\n",
      "  -2.30857451e-02 -9.41643771e-03 -2.04228777e-02 -1.21332128e-02]\n",
      " [-6.49507623e-03 -1.64027826e-03 -1.35620153e-02  1.16798198e-02\n",
      "  -2.03965586e-02  1.62749141e-02  2.73599965e-03 -7.26388162e-03\n",
      "  -4.27669892e-03 -1.66261266e-03 -6.95817312e-03  2.16819812e-02\n",
      "   4.25224751e-03 -3.24017555e-02  4.15748358e-03  2.03740131e-02\n",
      "  -1.62150227e-02 -5.04368637e-03  3.92456260e-03  2.19290378e-03\n",
      "  -1.16078276e-02 -1.04303164e-02  4.77640703e-03 -7.53711304e-03\n",
      "  -9.76069737e-03 -1.10920519e-02  5.77510986e-03 -3.93837830e-03]\n",
      " [-2.27378495e-03 -9.04988497e-04  1.48446788e-03 -1.39254760e-02\n",
      "  -1.80942994e-02 -7.81069603e-03 -3.54759023e-03  1.08274780e-02\n",
      "  -2.06887405e-02  2.63369642e-03  9.64649953e-03  1.84416003e-03\n",
      "  -2.30463296e-02 -1.57171283e-02 -1.23633677e-02 -1.20003158e-02\n",
      "  -2.10731868e-02 -8.62042420e-03 -1.19065372e-02  2.83469143e-03\n",
      "  -4.50680219e-03 -1.50759500e-02 -9.37027391e-03  2.85175606e-03\n",
      "  -3.40564810e-02 -3.07465661e-02  1.83122442e-03 -3.03001553e-02]]\n"
     ]
    }
   ],
   "source": [
    "print(generated_image[0, :, :, 0].numpy())"
   ]
  },
  {
   "cell_type": "code",
   "execution_count": 25,
   "metadata": {
    "colab": {
     "base_uri": "https://localhost:8080/",
     "height": 176
    },
    "colab_type": "code",
    "executionInfo": {
     "elapsed": 18880,
     "status": "ok",
     "timestamp": 1590383309045,
     "user": {
      "displayName": "Oleksii Trekhleb",
      "photoUrl": "https://lh3.googleusercontent.com/a-/AOh14GiiA4aUKCbFho88Jd0WWMoAqQUt3jbuCtfNYpHVOA=s64",
      "userId": "03172675069638383074"
     },
     "user_tz": -120
    },
    "id": "HqJE3RPDQg3t",
    "outputId": "2f5a936b-c73c-48f7-ab22-8bbdd0db06ed"
   },
   "outputs": [
    {
     "data": {
      "text/plain": [
       "<matplotlib.image.AxesImage at 0x7fd579708710>"
      ]
     },
     "execution_count": 25,
     "metadata": {
      "tags": []
     },
     "output_type": "execute_result"
    },
    {
     "data": {
      "image/png": "[encoded data removed]",
      "text/plain": [
       "<Figure size 144x144 with 1 Axes>"
      ]
     },
     "metadata": {
      "needs_background": "light",
      "tags": []
     },
     "output_type": "display_data"
    }
   ],
   "source": [
    "plt.figure(figsize=(2, 2))\n",
    "plt.imshow(generated_image[0, :, :, 0], cmap=plt.cm.binary)"
   ]
  },
  {
   "cell_type": "markdown",
   "metadata": {
    "colab_type": "text",
    "id": "8P-p-9TyQg3v"
   },
   "source": [
    "### Create discriminator"
   ]
  },
  {
   "cell_type": "markdown",
   "metadata": {
    "colab_type": "text",
    "id": "GMxma8xY98J4"
   },
   "source": [
    "The model will be trained to output positive values for real images, and negative values for fake images."
   ]
  },
  {
   "cell_type": "code",
   "execution_count": 0,
   "metadata": {
    "colab": {},
    "colab_type": "code",
    "id": "hEYxHXjSQg3w"
   },
   "outputs": [],
   "source": [
    "def make_discriminator_model():\n",
    "    model = tf.keras.Sequential()\n",
    "    \n",
    "    # Step 1.\n",
    "    model.add(tf.keras.layers.Conv2D(\n",
    "        filters=64,\n",
    "        kernel_size=(5, 5),\n",
    "        strides=(2, 2),\n",
    "        padding='same',\n",
    "        input_shape=[28, 28, 1]\n",
    "    ))\n",
    "    model.add(tf.keras.layers.LeakyReLU())\n",
    "    model.add(tf.keras.layers.Dropout(0.3))\n",
    "    \n",
    "    # Step 2.\n",
    "    model.add(tf.keras.layers.Conv2D(\n",
    "        filters=128,\n",
    "        kernel_size=(5, 5),\n",
    "        strides=(2, 2),\n",
    "        padding='same'\n",
    "    ))\n",
    "    model.add(tf.keras.layers.LeakyReLU())\n",
    "    model.add(tf.keras.layers.Dropout(0.3))\n",
    "    \n",
    "    # Step 3.\n",
    "    model.add(tf.keras.layers.Flatten())\n",
    "    \n",
    "    # Real vs Fake\n",
    "    model.add(tf.keras.layers.Dense(1))\n",
    "    \n",
    "    return model"
   ]
  },
  {
   "cell_type": "code",
   "execution_count": 0,
   "metadata": {
    "colab": {},
    "colab_type": "code",
    "id": "SXVq9v73Qg3y"
   },
   "outputs": [],
   "source": [
    "discriminator_model = make_discriminator_model()"
   ]
  },
  {
   "cell_type": "code",
   "execution_count": 28,
   "metadata": {
    "colab": {
     "base_uri": "https://localhost:8080/",
     "height": 425
    },
    "colab_type": "code",
    "executionInfo": {
     "elapsed": 18835,
     "status": "ok",
     "timestamp": 1590383309048,
     "user": {
      "displayName": "Oleksii Trekhleb",
      "photoUrl": "https://lh3.googleusercontent.com/a-/AOh14GiiA4aUKCbFho88Jd0WWMoAqQUt3jbuCtfNYpHVOA=s64",
      "userId": "03172675069638383074"
     },
     "user_tz": -120
    },
    "id": "5fJwL4HNQg30",
    "outputId": "909f6481-2d37-4848-b5a7-9f312e1e77a0"
   },
   "outputs": [
    {
     "name": "stdout",
     "output_type": "stream",
     "text": [
      "Model: \"sequential_1\"\n",
      "_________________________________________________________________\n",
      "Layer (type)                 Output Shape              Param #   \n",
      "=================================================================\n",
      "conv2d (Conv2D)              (None, 14, 14, 64)        1664      \n",
      "_________________________________________________________________\n",
      "leaky_re_lu_3 (LeakyReLU)    (None, 14, 14, 64)        0         \n",
      "_________________________________________________________________\n",
      "dropout (Dropout)            (None, 14, 14, 64)        0         \n",
      "_________________________________________________________________\n",
      "conv2d_1 (Conv2D)            (None, 7, 7, 128)         204928    \n",
      "_________________________________________________________________\n",
      "leaky_re_lu_4 (LeakyReLU)    (None, 7, 7, 128)         0         \n",
      "_________________________________________________________________\n",
      "dropout_1 (Dropout)          (None, 7, 7, 128)         0         \n",
      "_________________________________________________________________\n",
      "flatten (Flatten)            (None, 6272)              0         \n",
      "_________________________________________________________________\n",
      "dense_1 (Dense)              (None, 1)                 6273      \n",
      "=================================================================\n",
      "Total params: 212,865\n",
      "Trainable params: 212,865\n",
      "Non-trainable params: 0\n",
      "_________________________________________________________________\n"
     ]
    }
   ],
   "source": [
    "discriminator_model.summary()"
   ]
  },
  {
   "cell_type": "code",
   "execution_count": 29,
   "metadata": {
    "colab": {
     "base_uri": "https://localhost:8080/",
     "height": 976
    },
    "colab_type": "code",
    "executionInfo": {
     "elapsed": 18817,
     "status": "ok",
     "timestamp": 1590383309049,
     "user": {
      "displayName": "Oleksii Trekhleb",
      "photoUrl": "https://lh3.googleusercontent.com/a-/AOh14GiiA4aUKCbFho88Jd0WWMoAqQUt3jbuCtfNYpHVOA=s64",
      "userId": "03172675069638383074"
     },
     "user_tz": -120
    },
    "id": "q4RVqrijQg32",
    "outputId": "b410dcaf-aa04-4108-954a-35053191c13b"
   },
   "outputs": [
    {
     "data": {
      "image/png": "[encoded data removed]",
      "text/plain": [
       "<IPython.core.display.Image object>"
      ]
     },
     "execution_count": 29,
     "metadata": {
      "tags": []
     },
     "output_type": "execute_result"
    }
   ],
   "source": [
    "tf.keras.utils.plot_model(\n",
    "    discriminator_model,\n",
    "    show_shapes=True,\n",
    "    show_layer_names=True,\n",
    "    to_file='discriminator_model.png'\n",
    ")"
   ]
  },
  {
   "cell_type": "code",
   "execution_count": 30,
   "metadata": {
    "colab": {
     "base_uri": "https://localhost:8080/",
     "height": 34
    },
    "colab_type": "code",
    "executionInfo": {
     "elapsed": 18788,
     "status": "ok",
     "timestamp": 1590383309049,
     "user": {
      "displayName": "Oleksii Trekhleb",
      "photoUrl": "https://lh3.googleusercontent.com/a-/AOh14GiiA4aUKCbFho88Jd0WWMoAqQUt3jbuCtfNYpHVOA=s64",
      "userId": "03172675069638383074"
     },
     "user_tz": -120
    },
    "id": "CxhYlwKpQg35",
    "outputId": "595670e9-8bf3-4555-cb92-5d7d483c3f6e"
   },
   "outputs": [
    {
     "name": "stdout",
     "output_type": "stream",
     "text": [
      "tf.Tensor([[-0.00049937]], shape=(1, 1), dtype=float32)\n"
     ]
    }
   ],
   "source": [
    "dicision = discriminator_model(generated_image)\n",
    "\n",
    "print(dicision)"
   ]
  },
  {
   "cell_type": "markdown",
   "metadata": {
    "colab_type": "text",
    "id": "saZZ2ozFQg38"
   },
   "source": [
    "## Define the loss and optimizers"
   ]
  },
  {
   "cell_type": "markdown",
   "metadata": {
    "colab_type": "text",
    "id": "TH7S6Vb-Qg3_"
   },
   "source": [
    "### Discriminator loss"
   ]
  },
  {
   "cell_type": "markdown",
   "metadata": {
    "colab_type": "text",
    "id": "A_kkPLrEQg4A"
   },
   "source": [
    "This method quantifies how well the discriminator is able to distinguish real images from fakes. It compares the discriminator's predictions on real images to an array of 1s, and the discriminator's predictions on fake (generated) images to an array of 0s."
   ]
  },
  {
   "cell_type": "code",
   "execution_count": 0,
   "metadata": {
    "colab": {},
    "colab_type": "code",
    "id": "LIIVrFw_Qg4A"
   },
   "outputs": [],
   "source": [
    "def discriminator_loss(real_output, fake_output):\n",
    "    cross_entropy = tf.keras.losses.BinaryCrossentropy(from_logits=True)\n",
    "    \n",
    "    real_loss = cross_entropy(tf.ones_like(real_output), real_output)\n",
    "    fake_loss = cross_entropy(tf.zeros_like(fake_output), fake_output)\n",
    "    \n",
    "    total_loss = real_loss + fake_loss\n",
    "    \n",
    "    return total_loss"
   ]
  },
  {
   "cell_type": "code",
   "execution_count": 32,
   "metadata": {
    "colab": {
     "base_uri": "https://localhost:8080/",
     "height": 357
    },
    "colab_type": "code",
    "executionInfo": {
     "elapsed": 19122,
     "status": "ok",
     "timestamp": 1590383309414,
     "user": {
      "displayName": "Oleksii Trekhleb",
      "photoUrl": "https://lh3.googleusercontent.com/a-/AOh14GiiA4aUKCbFho88Jd0WWMoAqQUt3jbuCtfNYpHVOA=s64",
      "userId": "03172675069638383074"
     },
     "user_tz": -120
    },
    "id": "BW_KzvvbtXdU",
    "outputId": "994380d1-a364-436a-8e4a-7ab00adcd4ce"
   },
   "outputs": [
    {
     "name": "stdout",
     "output_type": "stream",
     "text": [
      "Discriminator loss for: [-1.0] [1.0]\n",
      "  REAL output: [-1.0]\n",
      "  FAKE output: [1.0]\n",
      "  loss:  2.6265235\n",
      "\n",
      "Discriminator loss for: [1.0] [-1.0]\n",
      "  REAL output: [1.0]\n",
      "  FAKE output: [-1.0]\n",
      "  loss:  0.6265234\n",
      "\n",
      "Discriminator loss for: [1.0] [0.0]\n",
      "  REAL output: [1.0]\n",
      "  FAKE output: [0.0]\n",
      "  loss:  1.0064089\n",
      "\n",
      "Discriminator loss for: [10.0] [-1.0]\n",
      "  REAL output: [10.0]\n",
      "  FAKE output: [-1.0]\n",
      "  loss:  0.31330708\n",
      "\n"
     ]
    }
   ],
   "source": [
    "# Test discriminator loss function.\n",
    "output_combinations = [\n",
    "     # REAL  #FAKE\n",
    "    ([-1.],  [1.]),\n",
    "    ([1.],   [-1.]),  \n",
    "    ([1.],   [0.]),\n",
    "    ([10.],  [-1.]),                       \n",
    "]\n",
    "for (real_output, fake_output) in output_combinations:\n",
    "    loss = discriminator_loss(real_output, fake_output).numpy()\n",
    "    print('Discriminator loss for:', real_output, fake_output)\n",
    "    print('  REAL output:', real_output)\n",
    "    print('  FAKE output:', fake_output)\n",
    "    print('  loss: ', loss)\n",
    "    print()"
   ]
  },
  {
   "cell_type": "markdown",
   "metadata": {
    "colab_type": "text",
    "id": "e2DxcJciQg4C"
   },
   "source": [
    "### Generator loss"
   ]
  },
  {
   "cell_type": "markdown",
   "metadata": {
    "colab_type": "text",
    "id": "N8qU-1FgQg4D"
   },
   "source": [
    "The generator's loss quantifies how well it was able to trick the discriminator. Intuitively, if the generator is performing well, the discriminator will classify the fake images as real (or 1). Here, we will compare the discriminators decisions on the generated images to an array of 1s."
   ]
  },
  {
   "cell_type": "code",
   "execution_count": 0,
   "metadata": {
    "colab": {},
    "colab_type": "code",
    "id": "rJBXqhHbQg4D"
   },
   "outputs": [],
   "source": [
    "def generator_loss(fake_output):\n",
    "    cross_entropy = tf.keras.losses.BinaryCrossentropy(from_logits=True)\n",
    "    loss = cross_entropy(tf.ones_like(fake_output), fake_output)\n",
    "    return loss"
   ]
  },
  {
   "cell_type": "code",
   "execution_count": 34,
   "metadata": {
    "colab": {
     "base_uri": "https://localhost:8080/",
     "height": 51
    },
    "colab_type": "code",
    "executionInfo": {
     "elapsed": 19091,
     "status": "ok",
     "timestamp": 1590383309416,
     "user": {
      "displayName": "Oleksii Trekhleb",
      "photoUrl": "https://lh3.googleusercontent.com/a-/AOh14GiiA4aUKCbFho88Jd0WWMoAqQUt3jbuCtfNYpHVOA=s64",
      "userId": "03172675069638383074"
     },
     "user_tz": -120
    },
    "id": "P0m4KS6vmwvn",
    "outputId": "b944c1ca-e130-4ccf-b08b-5ab418fd2a4f"
   },
   "outputs": [
    {
     "name": "stdout",
     "output_type": "stream",
     "text": [
      "Generator loss for >1:  0.0067153485\n",
      "Generator loss for =0:  0.6931472\n"
     ]
    }
   ],
   "source": [
    "# Test generator loss function.\n",
    "print('Generator loss for >1: ', generator_loss([5.]).numpy())\n",
    "print('Generator loss for =0: ', generator_loss([0.]).numpy())"
   ]
  },
  {
   "cell_type": "markdown",
   "metadata": {
    "colab_type": "text",
    "id": "Mi9jp1_9Qg4F"
   },
   "source": [
    "### Optimizers"
   ]
  },
  {
   "cell_type": "code",
   "execution_count": 0,
   "metadata": {
    "colab": {},
    "colab_type": "code",
    "id": "TSU3_5gbQg4G"
   },
   "outputs": [],
   "source": [
    "generator_optimizer = tf.keras.optimizers.Adam(\n",
    "    learning_rate=0.0001\n",
    ")\n",
    "\n",
    "discriminator_optimizer = tf.keras.optimizers.Adam(\n",
    "    learning_rate=0.0001\n",
    ")"
   ]
  },
  {
   "cell_type": "markdown",
   "metadata": {
    "colab_type": "text",
    "id": "rWBjzt3qQg4I"
   },
   "source": [
    "### Checkpoints"
   ]
  },
  {
   "cell_type": "code",
   "execution_count": 0,
   "metadata": {
    "colab": {},
    "colab_type": "code",
    "id": "5Pr6nWeoQg4I"
   },
   "outputs": [],
   "source": [
    "checkpoint_dir = './tmp/ckpt'\n",
    "checkpoint_prefix = os.path.join(checkpoint_dir, 'ckpt')\n",
    "checkpoint = tf.train.Checkpoint(\n",
    "    generator_optimizer=generator_optimizer,\n",
    "    discriminator_optimizer=discriminator_optimizer,\n",
    "    generator_model=generator_model,\n",
    "    discriminator_model=discriminator_model\n",
    ")"
   ]
  },
  {
   "cell_type": "markdown",
   "metadata": {
    "colab_type": "text",
    "id": "8otRVn4IQg4K"
   },
   "source": [
    "## Training"
   ]
  },
  {
   "cell_type": "code",
   "execution_count": 0,
   "metadata": {
    "colab": {},
    "colab_type": "code",
    "id": "BpCl3B12Qg4L"
   },
   "outputs": [],
   "source": [
    "EPOCHS = 100\n",
    "noise_dim = 100\n",
    "num_examples_to_generate = 16\n",
    "\n",
    "# We will reuse this seed overtime (so it's easier)\n",
    "# to visualize progress in the animated GIF)\n",
    "input_noise_seed = tf.random.normal([num_examples_to_generate, noise_dim])"
   ]
  },
  {
   "cell_type": "markdown",
   "metadata": {
    "colab_type": "text",
    "id": "wMfKmOXBQg4N"
   },
   "source": [
    "The training loop begins with generator receiving a random seed as input. That seed is used to produce an image. The discriminator is then used to classify real images (drawn from the training set) and fakes images (produced by the generator). The loss is calculated for each of these models, and the gradients are used to update the generator and discriminator."
   ]
  },
  {
   "cell_type": "code",
   "execution_count": 0,
   "metadata": {
    "colab": {},
    "colab_type": "code",
    "id": "ItXgX2i-Qg4N"
   },
   "outputs": [],
   "source": [
    "# This `tf.function` annotation causes the function to be \"compiled\".\n",
    "# @tf.function\n",
    "def train_step(real_images):\n",
    "    training_history = {\n",
    "        'discriminator': {\n",
    "            'loss': None\n",
    "        },\n",
    "        'generator': {\n",
    "            'loss': None\n",
    "        }\n",
    "    }\n",
    "\n",
    "    # Generate input noise.\n",
    "    noise_images = tf.random.normal([BATCH_SIZE, noise_dim])\n",
    "    \n",
    "    with tf.GradientTape() as gen_tape, tf.GradientTape() as disc_tape:\n",
    "        # Generate fake images.\n",
    "        generated_images = generator_model(\n",
    "            noise_images,\n",
    "            training=True\n",
    "        )\n",
    "        \n",
    "        # Detect fake and real images.\n",
    "        real_output = discriminator_model(\n",
    "            real_images,\n",
    "            training=True\n",
    "        )\n",
    "        fake_output = discriminator_model(\n",
    "            generated_images,\n",
    "            training=True\n",
    "        )\n",
    "        \n",
    "        # Calculate losses.\n",
    "        gen_loss = generator_loss(fake_output)\n",
    "        disc_loss = discriminator_loss(\n",
    "            real_output,\n",
    "            fake_output\n",
    "        )\n",
    "\n",
    "        training_history['discriminator']['loss'] = disc_loss.numpy()\n",
    "        training_history['generator']['loss'] = gen_loss.numpy()\n",
    "    \n",
    "    # Calculate gradients.\n",
    "    gradients_of_generator = gen_tape.gradient(\n",
    "        gen_loss,\n",
    "        generator_model.trainable_variables\n",
    "    )\n",
    "    gradients_of_discriminator = disc_tape.gradient(\n",
    "        disc_loss,\n",
    "        discriminator_model.trainable_variables\n",
    "    )\n",
    "    \n",
    "    # Do gradient step.\n",
    "    generator_optimizer.apply_gradients(zip(\n",
    "        gradients_of_generator,\n",
    "        generator_model.trainable_variables\n",
    "    ))\n",
    "    discriminator_optimizer.apply_gradients(zip(\n",
    "        gradients_of_discriminator,\n",
    "        discriminator_model.trainable_variables\n",
    "    ))\n",
    "\n",
    "    return training_history"
   ]
  },
  {
   "cell_type": "code",
   "execution_count": 0,
   "metadata": {
    "colab": {},
    "colab_type": "code",
    "id": "YCAgeGOtQg4P"
   },
   "outputs": [],
   "source": [
    "def train(dataset, epochs, start_epoch=0):\n",
    "    print('Start training...')\n",
    "    \n",
    "    training_history = {\n",
    "        'discriminator': {\n",
    "            'loss': []\n",
    "        },\n",
    "        'generator': {\n",
    "            'loss': []\n",
    "        }\n",
    "    }\n",
    "\n",
    "    for epoch in range(epochs)[start_epoch:]:\n",
    "        print('Start epoch #{} ({} steps)...'.format(epoch + 1, TRAINING_STEPS_PER_EPOCH))\n",
    "        \n",
    "        start = time.time()\n",
    "        \n",
    "        step = 0\n",
    "        for image_batch in dataset:\n",
    "            step += 1\n",
    "            \n",
    "            # display.clear_output(wait=True)\n",
    "            # show_progress(step, TRAINING_STEPS_PER_EPOCH)\n",
    "            # generate_and_save_images(\n",
    "            #     generator_model,\n",
    "            #     epoch + 1,\n",
    "            #     input_noise_seed,\n",
    "            #     save=False\n",
    "            # )\n",
    "            \n",
    "            training_step_history = train_step(image_batch)\n",
    "\n",
    "            discriminator_step_loss = training_step_history['discriminator']['loss']\n",
    "            generator_step_loss = training_step_history['generator']['loss']\n",
    "\n",
    "        training_history['discriminator']['loss'].append(discriminator_step_loss)\n",
    "        training_history['generator']['loss'].append(generator_step_loss)\n",
    "            \n",
    "        # Produce images for the GIF as we go.\n",
    "        display.clear_output(wait=True)\n",
    "        generate_and_save_images(\n",
    "            generator_model,\n",
    "            epoch + 1,\n",
    "            input_noise_seed\n",
    "        )\n",
    "        \n",
    "        # Save the model every 10 epochs.\n",
    "        if (epoch + 1) % 10 == 0:\n",
    "            checkpoint.save(file_prefix=checkpoint_prefix)\n",
    "            \n",
    "        print('Time for epoch #{} is {:.2f}s'.format(epoch + 1, time.time() - start))\n",
    "        print('Discriminator loss: {:.4f}'.format(discriminator_step_loss))\n",
    "        print('Generator loss: {:.4f}'.format(generator_step_loss))\n",
    "\n",
    "    return training_history"
   ]
  },
  {
   "cell_type": "code",
   "execution_count": 0,
   "metadata": {
    "colab": {},
    "colab_type": "code",
    "id": "uF74K1eO2ZW1"
   },
   "outputs": [],
   "source": [
    "def show_progress(current_step, total_steps):\n",
    "    length_divider = 2\n",
    "    progress = math.floor(current_step * 100 / total_steps)\n",
    "    done_steps = progress\n",
    "    left_steps = 100 - done_steps\n",
    "    done_dots = ''.join(['◼︎' for step in range(math.floor(done_steps / length_divider))])\n",
    "    left_dors = ''.join(['・' for step in range(math.floor(left_steps / length_divider))])\n",
    "    print(f'{current_step}/{total_steps}: {done_dots}{left_dors}')"
   ]
  },
  {
   "cell_type": "code",
   "execution_count": 41,
   "metadata": {
    "colab": {
     "base_uri": "https://localhost:8080/",
     "height": 34
    },
    "colab_type": "code",
    "executionInfo": {
     "elapsed": 19011,
     "status": "ok",
     "timestamp": 1590383309422,
     "user": {
      "displayName": "Oleksii Trekhleb",
      "photoUrl": "https://lh3.googleusercontent.com/a-/AOh14GiiA4aUKCbFho88Jd0WWMoAqQUt3jbuCtfNYpHVOA=s64",
      "userId": "03172675069638383074"
     },
     "user_tz": -120
    },
    "id": "52NEX7c42nfc",
    "outputId": "146c7d80-58a8-4811-f936-be0f19d452c1"
   },
   "outputs": [
    {
     "name": "stdout",
     "output_type": "stream",
     "text": [
      "15/68: ◼︎◼︎◼︎◼︎◼︎◼︎◼︎◼︎◼︎◼︎◼︎・・・・・・・・・・・・・・・・・・・・・・・・・・・・・・・・・・・・・・・\n"
     ]
    }
   ],
   "source": [
    "# Test progress function.\n",
    "show_progress(15, 68)"
   ]
  },
  {
   "cell_type": "code",
   "execution_count": 0,
   "metadata": {
    "colab": {},
    "colab_type": "code",
    "id": "LzEKvY7JQg4R"
   },
   "outputs": [],
   "source": [
    "IMAGES_PREVIEW_PATH = 'tmp/imgs/'\n",
    "\n",
    "if not os.path.exists(IMAGES_PREVIEW_PATH):\n",
    "    os.makedirs(IMAGES_PREVIEW_PATH)"
   ]
  },
  {
   "cell_type": "code",
   "execution_count": 0,
   "metadata": {
    "colab": {},
    "colab_type": "code",
    "id": "zlBXJ5HMQg4T"
   },
   "outputs": [],
   "source": [
    "def generate_and_save_images(model, epoch, test_input, save=True):\n",
    "    # Notice `training` is set to False.\n",
    "    # This is so all layers run in inference mode (batchnorm).\n",
    "    predictions = model(test_input, training=False)\n",
    "    \n",
    "    fig_dimension = int(math.sqrt(num_examples_to_generate))\n",
    "    plt.figure(figsize=(8, 8))\n",
    "    fig = plt.figure(figsize=(fig_dimension, fig_dimension))\n",
    "    \n",
    "    for i in range(predictions.shape[0]):\n",
    "        plt.subplot(fig_dimension, fig_dimension, i+1)\n",
    "        plt.imshow(\n",
    "            predictions[i, :, :, 0] * 127.5 + 127.5,\n",
    "            cmap=plt.cm.binary\n",
    "        )\n",
    "        plt.axis('off')\n",
    "        \n",
    "    if save:\n",
    "        plt.savefig('{}image_at_epoch_{:04d}.png'.format(IMAGES_PREVIEW_PATH, epoch))\n",
    "        \n",
    "    plt.show()"
   ]
  },
  {
   "cell_type": "code",
   "execution_count": 0,
   "metadata": {
    "colab": {},
    "colab_type": "code",
    "id": "Pwt3GZoPbymh"
   },
   "outputs": [],
   "source": [
    "if not 'training_history' in locals():\n",
    "    training_history = {\n",
    "        'discriminator': {\n",
    "            'loss': []\n",
    "        },\n",
    "        'generator': {\n",
    "            'loss': []\n",
    "        }\n",
    "    }"
   ]
  },
  {
   "cell_type": "code",
   "execution_count": 0,
   "metadata": {
    "colab": {},
    "colab_type": "code",
    "id": "2OUBVMrQacDF"
   },
   "outputs": [],
   "source": [
    "training_session_num = 27\n",
    "start_epoch = training_session_num * EPOCHS\n",
    "epochs_num = start_epoch + EPOCHS"
   ]
  },
  {
   "cell_type": "code",
   "execution_count": 168,
   "metadata": {
    "colab": {
     "base_uri": "https://localhost:8080/",
     "height": 316
    },
    "colab_type": "code",
    "executionInfo": {
     "elapsed": 1046875,
     "status": "ok",
     "timestamp": 1590418633906,
     "user": {
      "displayName": "Oleksii Trekhleb",
      "photoUrl": "https://lh3.googleusercontent.com/a-/AOh14GiiA4aUKCbFho88Jd0WWMoAqQUt3jbuCtfNYpHVOA=s64",
      "userId": "03172675069638383074"
     },
     "user_tz": -120
    },
    "id": "XvOrylCyQg4W",
    "outputId": "96f0f18e-ef97-4a19-e005-6345e3ac0eb4"
   },
   "outputs": [
    {
     "data": {
      "text/plain": [
       "<Figure size 576x576 with 0 Axes>"
      ]
     },
     "metadata": {
      "tags": []
     },
     "output_type": "display_data"
    },
    {
     "data": {
      "image/png": "[encoded data removed]",
      "text/plain": [
       "<Figure size 288x288 with 16 Axes>"
      ]
     },
     "metadata": {
      "needs_background": "light",
      "tags": []
     },
     "output_type": "display_data"
    },
    {
     "name": "stdout",
     "output_type": "stream",
     "text": [
      "Time for epoch #2700 is 10.57s\n",
      "Discriminator loss: 1.2439\n",
      "Generator loss: 0.9003\n"
     ]
    }
   ],
   "source": [
    "training_history_current = train(\n",
    "    train_dataset,\n",
    "    epochs=epochs_num,\n",
    "    start_epoch=start_epoch\n",
    ")"
   ]
  },
  {
   "cell_type": "code",
   "execution_count": 0,
   "metadata": {
    "colab": {
     "base_uri": "https://localhost:8080/",
     "height": 333
    },
    "colab_type": "code",
    "id": "4xmke3p87FCl",
    "outputId": "49b8ef30-f221-4f9a-b23a-a42415cf3752"
   },
   "outputs": [
    {
     "data": {
      "text/plain": [
       "<Figure size 576x576 with 0 Axes>"
      ]
     },
     "metadata": {
      "tags": []
     },
     "output_type": "display_data"
    },
    {
     "data": {
      "image/png": "[encoded data removed]",
      "text/plain": [
       "<Figure size 288x288 with 16 Axes>"
      ]
     },
     "metadata": {
      "needs_background": "light",
      "tags": []
     },
     "output_type": "display_data"
    },
    {
     "name": "stdout",
     "output_type": "stream",
     "text": [
      "Time for epoch #2770 is 10.70s\n",
      "Discriminator loss: 1.2576\n",
      "Generator loss: 0.8452\n",
      "Start epoch #2771 (69 steps)...\n"
     ]
    }
   ],
   "source": [
    "training_history_current = train(\n",
    "    train_dataset,\n",
    "    epochs=epochs_num,\n",
    "    start_epoch=start_epoch\n",
    ")"
   ]
  },
  {
   "cell_type": "markdown",
   "metadata": {
    "colab_type": "text",
    "id": "6X1UmYI1wigl"
   },
   "source": [
    "## Analyzing training history"
   ]
  },
  {
   "cell_type": "code",
   "execution_count": 0,
   "metadata": {
    "colab": {},
    "colab_type": "code",
    "id": "Z6fXukApcNQL"
   },
   "outputs": [],
   "source": [
    "training_history['generator']['loss'] += training_history_current['generator']['loss']\n",
    "training_history['discriminator']['loss'] += training_history_current['discriminator']['loss']"
   ]
  },
  {
   "cell_type": "code",
   "execution_count": 0,
   "metadata": {
    "colab": {},
    "colab_type": "code",
    "id": "0CDYJ2I7whZ3"
   },
   "outputs": [],
   "source": [
    "def render_training_history(training_history):\n",
    "    generator_loss = training_history['generator']['loss']\n",
    "    discriminator_loss = training_history['discriminator']['loss']\n",
    "\n",
    "    plt.figure(figsize=(14, 4))\n",
    "\n",
    "    plt.subplot(1, 2, 1)\n",
    "    plt.title('Generator Loss')\n",
    "    plt.xlabel('Epoch')\n",
    "    plt.ylabel('Loss')\n",
    "    plt.plot(generator_loss, label='Generator loss')\n",
    "    plt.legend()\n",
    "    plt.grid(linestyle='--', linewidth=1, alpha=0.5)\n",
    "\n",
    "    plt.subplot(1, 2, 2)\n",
    "    plt.title('Discriminator Loss')\n",
    "    plt.xlabel('Epoch')\n",
    "    plt.ylabel('Loss')\n",
    "    plt.plot(discriminator_loss, label='Discriminator loss')\n",
    "    plt.legend()\n",
    "    plt.grid(linestyle='--', linewidth=1, alpha=0.5)\n",
    "\n",
    "    plt.show()"
   ]
  },
  {
   "cell_type": "code",
   "execution_count": 170,
   "metadata": {
    "colab": {
     "base_uri": "https://localhost:8080/",
     "height": 295
    },
    "colab_type": "code",
    "executionInfo": {
     "elapsed": 1049,
     "status": "ok",
     "timestamp": 1590418651063,
     "user": {
      "displayName": "Oleksii Trekhleb",
      "photoUrl": "https://lh3.googleusercontent.com/a-/AOh14GiiA4aUKCbFho88Jd0WWMoAqQUt3jbuCtfNYpHVOA=s64",
      "userId": "03172675069638383074"
     },
     "user_tz": -120
    },
    "id": "g-2iBs8jx1Ou",
    "outputId": "56cd6e09-a8fc-4ba8-d898-7ecdac9f3a69"
   },
   "outputs": [
    {
     "data": {
      "image/png": "[encoded data removed]",
      "text/plain": [
       "<Figure size 1008x288 with 2 Axes>"
      ]
     },
     "metadata": {
      "needs_background": "light",
      "tags": []
     },
     "output_type": "display_data"
    }
   ],
   "source": [
    "render_training_history(training_history)"
   ]
  },
  {
   "cell_type": "code",
   "execution_count": 0,
   "metadata": {
    "colab": {},
    "colab_type": "code",
    "id": "NVZWTzIsQg4Y"
   },
   "outputs": [],
   "source": [
    "checkpoint.restore(tf.train.latest_checkpoint(checkpoint_dir))"
   ]
  },
  {
   "cell_type": "markdown",
   "metadata": {
    "colab_type": "text",
    "id": "kr47EBcrZmGJ"
   },
   "source": [
    "## Save models"
   ]
  },
  {
   "cell_type": "code",
   "execution_count": 0,
   "metadata": {
    "colab": {},
    "colab_type": "code",
    "id": "AmjnZuYHZoDE"
   },
   "outputs": [],
   "source": [
    "generator_model.save('generator_model.h5', save_format='h5')\n",
    "discriminator_model.save('discriminator_model.h5', save_format='h5')"
   ]
  },
  {
   "cell_type": "markdown",
   "metadata": {
    "colab_type": "text",
    "id": "gz_MrH5FgMKM"
   },
   "source": [
    "## Zip all preview images"
   ]
  },
  {
   "cell_type": "code",
   "execution_count": 0,
   "metadata": {
    "colab": {},
    "colab_type": "code",
    "id": "vmJpd7FlgQj9"
   },
   "outputs": [],
   "source": [
    "def zip_image_previews():\n",
    "    images_previews_path = IMAGES_PREVIEW_PATH\n",
    "    images_previews_zip_name = 'images_previews.zip'\n",
    "\n",
    "    zipped_files_num = 0\n",
    "    with zipfile.ZipFile(images_previews_zip_name, mode='w') as zip_obj:\n",
    "        for folder_name, subfolders, filenames in os.walk(images_previews_path):\n",
    "            for filename in filenames:\n",
    "                zipped_files_num += 1\n",
    "                file_path = os.path.join(folder_name, filename)\n",
    "                zip_obj.write(file_path, os.path.basename(file_path))\n",
    "    print('Zipped {} files to '.format(zipped_files_num), images_previews_zip_name)"
   ]
  },
  {
   "cell_type": "code",
   "execution_count": 178,
   "metadata": {
    "colab": {
     "base_uri": "https://localhost:8080/",
     "height": 34
    },
    "colab_type": "code",
    "executionInfo": {
     "elapsed": 843,
     "status": "ok",
     "timestamp": 1590418779005,
     "user": {
      "displayName": "Oleksii Trekhleb",
      "photoUrl": "https://lh3.googleusercontent.com/a-/AOh14GiiA4aUKCbFho88Jd0WWMoAqQUt3jbuCtfNYpHVOA=s64",
      "userId": "03172675069638383074"
     },
     "user_tz": -120
    },
    "id": "nqHNgBsYgwp3",
    "outputId": "0475c7fb-9ace-4358-cfef-69d82aef3a7d"
   },
   "outputs": [
    {
     "name": "stdout",
     "output_type": "stream",
     "text": [
      "Zipped 2600 files to  images_previews.zip\n"
     ]
    }
   ],
   "source": [
    "zip_image_previews()"
   ]
  },
  {
   "cell_type": "markdown",
   "metadata": {
    "colab_type": "text",
    "id": "plUx0F8gQg4b"
   },
   "source": [
    "## Create a GIF"
   ]
  },
  {
   "cell_type": "code",
   "execution_count": 0,
   "metadata": {
    "colab": {},
    "colab_type": "code",
    "id": "oknJD1BWQg4b"
   },
   "outputs": [],
   "source": [
    "# Display a single image using the epoch number\n",
    "def display_image(epoch_no):\n",
    "    return PIL.Image.open('{}image_at_epoch_{:04d}.png'.format(IMAGES_PREVIEW_PATH, epoch_no))"
   ]
  },
  {
   "cell_type": "code",
   "execution_count": 89,
   "metadata": {
    "colab": {
     "base_uri": "https://localhost:8080/",
     "height": 305
    },
    "colab_type": "code",
    "executionInfo": {
     "elapsed": 693,
     "status": "ok",
     "timestamp": 1590394863408,
     "user": {
      "displayName": "Oleksii Trekhleb",
      "photoUrl": "https://lh3.googleusercontent.com/a-/AOh14GiiA4aUKCbFho88Jd0WWMoAqQUt3jbuCtfNYpHVOA=s64",
      "userId": "03172675069638383074"
     },
     "user_tz": -120
    },
    "id": "8cIcy24WQg4e",
    "outputId": "12c71e8c-c949-4691-803a-2c7991750084"
   },
   "outputs": [
    {
     "data": {
      "image/png": "[encoded data removed]",
      "text/plain": [
       "<PIL.PngImagePlugin.PngImageFile image mode=RGBA size=288x288 at 0x7FD5EC618C18>"
      ]
     },
     "execution_count": 89,
     "metadata": {
      "tags": []
     },
     "output_type": "execute_result"
    }
   ],
   "source": [
    "display_image(EPOCHS)"
   ]
  },
  {
   "cell_type": "code",
   "execution_count": 0,
   "metadata": {
    "colab": {},
    "colab_type": "code",
    "id": "hPB03AAmQg4h"
   },
   "outputs": [],
   "source": [
    "anim_file = 'clothes_generation_dcgan.gif'\n",
    "\n",
    "with imageio.get_writer(anim_file, mode='I') as writer:\n",
    "    filenames = glob.glob(IMAGES_PREVIEW_PATH + 'image*.png')\n",
    "    filenames = sorted(filenames)\n",
    "    last = -1\n",
    "    for i, filename in enumerate(filenames):\n",
    "        frame = 2*(i**0.5)\n",
    "        if round(frame) > round(last):\n",
    "            last = frame\n",
    "        else:\n",
    "            continue\n",
    "    image = imageio.imread(filename)\n",
    "    writer.append_data(image)\n",
    "    image = imageio.imread(filename)\n",
    "    writer.append_data(image)\n",
    "\n",
    "import IPython\n",
    "if IPython.version_info > (6,2,0,''):\n",
    "    display.Image(filename=anim_file)"
   ]
  }
 ],
 "metadata": {
  "accelerator": "GPU",
  "colab": {
   "collapsed_sections": [],
   "name": "clothes_generation_dcgan.ipynb",
   "provenance": [],
   "toc_visible": true
  },
  "kernelspec": {
   "display_name": "Python 3",
   "language": "python",
   "name": "python3"
  },
  "language_info": {
   "codemirror_mode": {
    "name": "ipython",
    "version": 3
   },
   "file_extension": ".py",
   "mimetype": "text/x-python",
   "name": "python",
   "nbconvert_exporter": "python",
   "pygments_lexer": "ipython3",
   "version": "3.7.6"
  }
 },
 "nbformat": 4,
 "nbformat_minor": 1
}
