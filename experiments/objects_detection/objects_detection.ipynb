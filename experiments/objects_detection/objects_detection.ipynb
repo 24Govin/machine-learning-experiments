{
 "cells": [
  {
   "cell_type": "markdown",
   "metadata": {},
   "source": [
    "# Objects Detection"
   ]
  },
  {
   "cell_type": "markdown",
   "metadata": {},
   "source": [
    "> - 🤖 See [full list of Machine Learning Experiments](https://github.com/trekhleb/machine-learning-experiments) on GitHub\n",
    "> - ▶️ Demo: [try this model in action](https://trekhleb.github.io/machine-learning-experiments)"
   ]
  },
  {
   "cell_type": "markdown",
   "metadata": {},
   "source": [
    "## Importing Dependencies\n",
    "\n",
    "- [tensorflow](https://www.tensorflow.org/) - for developing and training ML models.\n",
    "- [matplotlib](https://matplotlib.org/) - for plotting the data.\n",
    "- [numpy](https://numpy.org/) - for linear algebra operations."
   ]
  },
  {
   "cell_type": "code",
   "execution_count": 95,
   "metadata": {},
   "outputs": [
    {
     "name": "stdout",
     "output_type": "stream",
     "text": [
      "Tensorflow version: 2.1.0\n",
      "Keras version: 2.2.4-tf\n"
     ]
    }
   ],
   "source": [
    "import tensorflow as tf\n",
    "import matplotlib.pyplot as plt\n",
    "import numpy as np\n",
    "import pathlib\n",
    "\n",
    "print('Tensorflow version:', tf.__version__)\n",
    "print('Keras version:', tf.keras.__version__)"
   ]
  },
  {
   "cell_type": "markdown",
   "metadata": {},
   "source": [
    "## Loading the model\n",
    "\n",
    "To do objects detection we're going to use [ssdlite_mobilenet_v2_coco](http://download.tensorflow.org/models/object_detection/ssdlite_mobilenet_v2_coco_2018_05_09.tar.gz) model from [Tensorflow detection models zoo](https://github.com/tensorflow/models/blob/master/research/object_detection/g3doc/detection_model_zoo.md)."
   ]
  },
  {
   "cell_type": "code",
   "execution_count": 111,
   "metadata": {},
   "outputs": [
    {
     "name": "stdout",
     "output_type": "stream",
     "text": [
      "mkdir: .tmp: File exists\r\n"
     ]
    }
   ],
   "source": [
    "# Create cache folder.\n",
    "!mkdir .tmp"
   ]
  },
  {
   "cell_type": "code",
   "execution_count": 112,
   "metadata": {},
   "outputs": [],
   "source": [
    "def load_model(model_name):\n",
    "    model_url = 'http://download.tensorflow.org/models/object_detection/' + model_name + '.tar.gz'\n",
    "    \n",
    "    model_dir = tf.keras.utils.get_file(\n",
    "        fname=model_name, \n",
    "        origin=model_url,\n",
    "        untar=True,\n",
    "        cache_dir=pathlib.Path('.tmp').absolute()\n",
    "    )\n",
    "    model = tf.saved_model.load(model_dir + '/saved_model')\n",
    "    \n",
    "    return model"
   ]
  },
  {
   "cell_type": "code",
   "execution_count": 121,
   "metadata": {},
   "outputs": [
    {
     "name": "stdout",
     "output_type": "stream",
     "text": [
      "INFO:tensorflow:Saver not created because there are no variables in the graph to restore\n"
     ]
    }
   ],
   "source": [
    "model_name = 'ssdlite_mobilenet_v2_coco_2018_05_09'\n",
    "saved_model = load_model(model_name)"
   ]
  },
  {
   "cell_type": "code",
   "execution_count": 122,
   "metadata": {},
   "outputs": [
    {
     "data": {
      "text/plain": [
       "_SignatureMap({'serving_default': <tensorflow.python.eager.wrap_function.WrappedFunction object at 0x16f1f9e50>})"
      ]
     },
     "execution_count": 122,
     "metadata": {},
     "output_type": "execute_result"
    }
   ],
   "source": [
    "# Exploring model signatures.\n",
    "saved_model.signatures"
   ]
  },
  {
   "cell_type": "code",
   "execution_count": 124,
   "metadata": {},
   "outputs": [],
   "source": [
    "# Loading default model signature.\n",
    "model = saved_model.signatures['serving_default']"
   ]
  },
  {
   "cell_type": "code",
   "execution_count": null,
   "metadata": {},
   "outputs": [],
   "source": []
  },
  {
   "cell_type": "code",
   "execution_count": null,
   "metadata": {},
   "outputs": [],
   "source": []
  },
  {
   "cell_type": "code",
   "execution_count": null,
   "metadata": {},
   "outputs": [],
   "source": []
  },
  {
   "cell_type": "code",
   "execution_count": 23,
   "metadata": {},
   "outputs": [],
   "source": [
    "# Load the TensorBoard notebook extension.\n",
    "# %reload_ext tensorboard\n",
    "%load_ext tensorboard"
   ]
  },
  {
   "cell_type": "markdown",
   "metadata": {},
   "source": [
    "# Front-End\n",
    "\n",
    "On the FE we're using `@tensorflow-models/coco-ssd`\n",
    "\n",
    "- https://www.npmjs.com/package/@tensorflow-models/coco-ssd\n",
    "- https://github.com/tensorflow/tfjs-models#readme\n",
    "- https://github.com/tensorflow/tfjs-models/tree/master/coco-ssd\n",
    "\n",
    "Model: `COCO-SSD`\n",
    "\n",
    "Base model: `lite_mobilenet_v2`\n",
    "\n",
    "## Converting the model to Web\n",
    "\n",
    "```\n",
    "tensorflowjs_converter --input_format=tf_frozen_model \\\n",
    "                       --output_format=tfjs_graph_model \\\n",
    "                       --output_node_names='Postprocessor/ExpandDims_1,Postprocessor/Slice' \\\n",
    "                       ./frozen_inference_graph.pb \\\n",
    "                       ./web_model\n",
    "```\n"
   ]
  },
  {
   "cell_type": "markdown",
   "metadata": {},
   "source": [
    "# COCO Trained Models\n",
    "\n",
    "https://github.com/tensorflow/models/blob/master/research/object_detection/g3doc/detection_model_zoo.md#coco-trained-models\n",
    "\n",
    "**ssdlite_mobilenet_v2_coco**\n",
    "\n",
    "http://download.tensorflow.org/models/object_detection/ssdlite_mobilenet_v2_coco_2018_05_09.tar.gz"
   ]
  },
  {
   "cell_type": "markdown",
   "metadata": {},
   "source": [
    "# Try"
   ]
  },
  {
   "cell_type": "code",
   "execution_count": 40,
   "metadata": {},
   "outputs": [
    {
     "name": "stdout",
     "output_type": "stream",
     "text": [
      "Tensorflow version: 2.1.0\n",
      "Keras version: 2.2.4-tf\n"
     ]
    }
   ],
   "source": [
    "import tensorflow as tf\n",
    "import matplotlib.pyplot as plt\n",
    "import numpy as np\n",
    "import pathlib\n",
    "from PIL import Image\n",
    "\n",
    "print('Tensorflow version:', tf.__version__)\n",
    "print('Keras version:', tf.keras.__version__)"
   ]
  },
  {
   "cell_type": "code",
   "execution_count": 9,
   "metadata": {},
   "outputs": [],
   "source": [
    "model_path = '.tmp/ssdlite_mobilenet_v2_coco_2018_05_09/saved_model'"
   ]
  },
  {
   "cell_type": "code",
   "execution_count": 10,
   "metadata": {},
   "outputs": [
    {
     "name": "stdout",
     "output_type": "stream",
     "text": [
      "INFO:tensorflow:Saver not created because there are no variables in the graph to restore\n"
     ]
    }
   ],
   "source": [
    "model = tf.saved_model.load(model_path)"
   ]
  },
  {
   "cell_type": "code",
   "execution_count": 11,
   "metadata": {},
   "outputs": [
    {
     "data": {
      "text/plain": [
       "<tensorflow.python.training.tracking.tracking.AutoTrackable at 0x13e46b5d0>"
      ]
     },
     "execution_count": 11,
     "metadata": {},
     "output_type": "execute_result"
    }
   ],
   "source": [
    "model"
   ]
  },
  {
   "cell_type": "code",
   "execution_count": 12,
   "metadata": {},
   "outputs": [
    {
     "data": {
      "text/plain": [
       "_SignatureMap({'serving_default': <tensorflow.python.eager.wrap_function.WrappedFunction object at 0x143eb4d90>})"
      ]
     },
     "execution_count": 12,
     "metadata": {},
     "output_type": "execute_result"
    }
   ],
   "source": [
    "model.signatures"
   ]
  },
  {
   "cell_type": "code",
   "execution_count": 13,
   "metadata": {},
   "outputs": [],
   "source": [
    "model_signature = model.signatures['serving_default']"
   ]
  },
  {
   "cell_type": "code",
   "execution_count": 20,
   "metadata": {},
   "outputs": [],
   "source": [
    "# This line is slow and heavy but contains a lot of info about the model.\n",
    "# model_signature.function_def"
   ]
  },
  {
   "cell_type": "code",
   "execution_count": 21,
   "metadata": {},
   "outputs": [
    {
     "data": {
      "text/plain": [
       "{'detection_scores': TensorShape([None, 100]),\n",
       " 'detection_classes': TensorShape([None, 100]),\n",
       " 'num_detections': TensorShape([None]),\n",
       " 'detection_boxes': TensorShape([None, 100, 4])}"
      ]
     },
     "execution_count": 21,
     "metadata": {},
     "output_type": "execute_result"
    }
   ],
   "source": [
    "model_signature.output_shapes"
   ]
  },
  {
   "cell_type": "code",
   "execution_count": 35,
   "metadata": {},
   "outputs": [
    {
     "data": {
      "text/plain": [
       "[PosixPath('images/01.jpg'),\n",
       " PosixPath('images/02.jpg'),\n",
       " PosixPath('images/03.jpg'),\n",
       " PosixPath('images/04.jpg'),\n",
       " PosixPath('images/05.jpg'),\n",
       " PosixPath('images/06.jpg'),\n",
       " PosixPath('images/07.jpg')]"
      ]
     },
     "execution_count": 35,
     "metadata": {},
     "output_type": "execute_result"
    }
   ],
   "source": [
    "PATH_TO_TEST_IMAGES_DIR = pathlib.Path('./images')\n",
    "TEST_IMAGE_PATHS = sorted(list(PATH_TO_TEST_IMAGES_DIR.glob(\"*.jpg\")))\n",
    "TEST_IMAGE_PATHS"
   ]
  },
  {
   "cell_type": "code",
   "execution_count": 43,
   "metadata": {},
   "outputs": [
    {
     "data": {
      "text/plain": [
       "array([[[244, 241, 236],\n",
       "        [242, 242, 234],\n",
       "        [248, 250, 239],\n",
       "        ...,\n",
       "        [ 27,  27,  27],\n",
       "        [ 25,  25,  27],\n",
       "        [ 29,  28,  33]],\n",
       "\n",
       "       [[255, 252, 249],\n",
       "        [247, 246, 241],\n",
       "        [243, 244, 236],\n",
       "        ...,\n",
       "        [ 21,  21,  21],\n",
       "        [ 21,  21,  23],\n",
       "        [ 23,  22,  27]],\n",
       "\n",
       "       [[255, 253, 252],\n",
       "        [238, 237, 233],\n",
       "        [219, 220, 214],\n",
       "        ...,\n",
       "        [ 25,  25,  25],\n",
       "        [ 24,  24,  26],\n",
       "        [ 21,  21,  23]],\n",
       "\n",
       "       ...,\n",
       "\n",
       "       [[179, 176, 169],\n",
       "        [177, 174, 167],\n",
       "        [174, 171, 164],\n",
       "        ...,\n",
       "        [113, 110, 103],\n",
       "        [113, 110, 103],\n",
       "        [113, 110, 103]],\n",
       "\n",
       "       [[183, 180, 173],\n",
       "        [181, 178, 171],\n",
       "        [178, 175, 168],\n",
       "        ...,\n",
       "        [107, 104,  97],\n",
       "        [106, 103,  96],\n",
       "        [107, 104,  97]],\n",
       "\n",
       "       [[184, 181, 174],\n",
       "        [182, 179, 172],\n",
       "        [180, 177, 170],\n",
       "        ...,\n",
       "        [105, 102,  95],\n",
       "        [104, 101,  94],\n",
       "        [104, 101,  94]]], dtype=uint8)"
      ]
     },
     "execution_count": 43,
     "metadata": {},
     "output_type": "execute_result"
    }
   ],
   "source": [
    "image_np = np.array(Image.open(TEST_IMAGE_PATHS[0]))\n",
    "image_np"
   ]
  },
  {
   "cell_type": "code",
   "execution_count": 51,
   "metadata": {},
   "outputs": [
    {
     "data": {
      "text/plain": [
       "<tf.Tensor: shape=(768, 1024, 3), dtype=uint8, numpy=\n",
       "array([[[244, 241, 236],\n",
       "        [242, 242, 234],\n",
       "        [248, 250, 239],\n",
       "        ...,\n",
       "        [ 27,  27,  27],\n",
       "        [ 25,  25,  27],\n",
       "        [ 29,  28,  33]],\n",
       "\n",
       "       [[255, 252, 249],\n",
       "        [247, 246, 241],\n",
       "        [243, 244, 236],\n",
       "        ...,\n",
       "        [ 21,  21,  21],\n",
       "        [ 21,  21,  23],\n",
       "        [ 23,  22,  27]],\n",
       "\n",
       "       [[255, 253, 252],\n",
       "        [238, 237, 233],\n",
       "        [219, 220, 214],\n",
       "        ...,\n",
       "        [ 25,  25,  25],\n",
       "        [ 24,  24,  26],\n",
       "        [ 21,  21,  23]],\n",
       "\n",
       "       ...,\n",
       "\n",
       "       [[179, 176, 169],\n",
       "        [177, 174, 167],\n",
       "        [174, 171, 164],\n",
       "        ...,\n",
       "        [113, 110, 103],\n",
       "        [113, 110, 103],\n",
       "        [113, 110, 103]],\n",
       "\n",
       "       [[183, 180, 173],\n",
       "        [181, 178, 171],\n",
       "        [178, 175, 168],\n",
       "        ...,\n",
       "        [107, 104,  97],\n",
       "        [106, 103,  96],\n",
       "        [107, 104,  97]],\n",
       "\n",
       "       [[184, 181, 174],\n",
       "        [182, 179, 172],\n",
       "        [180, 177, 170],\n",
       "        ...,\n",
       "        [105, 102,  95],\n",
       "        [104, 101,  94],\n",
       "        [104, 101,  94]]], dtype=uint8)>"
      ]
     },
     "execution_count": 51,
     "metadata": {},
     "output_type": "execute_result"
    }
   ],
   "source": [
    "input_tensor = tf.convert_to_tensor(image_np)\n",
    "input_tensor"
   ]
  },
  {
   "cell_type": "code",
   "execution_count": 52,
   "metadata": {},
   "outputs": [
    {
     "data": {
      "text/plain": [
       "<tf.Tensor: shape=(1, 768, 1024, 3), dtype=uint8, numpy=\n",
       "array([[[[244, 241, 236],\n",
       "         [242, 242, 234],\n",
       "         [248, 250, 239],\n",
       "         ...,\n",
       "         [ 27,  27,  27],\n",
       "         [ 25,  25,  27],\n",
       "         [ 29,  28,  33]],\n",
       "\n",
       "        [[255, 252, 249],\n",
       "         [247, 246, 241],\n",
       "         [243, 244, 236],\n",
       "         ...,\n",
       "         [ 21,  21,  21],\n",
       "         [ 21,  21,  23],\n",
       "         [ 23,  22,  27]],\n",
       "\n",
       "        [[255, 253, 252],\n",
       "         [238, 237, 233],\n",
       "         [219, 220, 214],\n",
       "         ...,\n",
       "         [ 25,  25,  25],\n",
       "         [ 24,  24,  26],\n",
       "         [ 21,  21,  23]],\n",
       "\n",
       "        ...,\n",
       "\n",
       "        [[179, 176, 169],\n",
       "         [177, 174, 167],\n",
       "         [174, 171, 164],\n",
       "         ...,\n",
       "         [113, 110, 103],\n",
       "         [113, 110, 103],\n",
       "         [113, 110, 103]],\n",
       "\n",
       "        [[183, 180, 173],\n",
       "         [181, 178, 171],\n",
       "         [178, 175, 168],\n",
       "         ...,\n",
       "         [107, 104,  97],\n",
       "         [106, 103,  96],\n",
       "         [107, 104,  97]],\n",
       "\n",
       "        [[184, 181, 174],\n",
       "         [182, 179, 172],\n",
       "         [180, 177, 170],\n",
       "         ...,\n",
       "         [105, 102,  95],\n",
       "         [104, 101,  94],\n",
       "         [104, 101,  94]]]], dtype=uint8)>"
      ]
     },
     "execution_count": 52,
     "metadata": {},
     "output_type": "execute_result"
    }
   ],
   "source": [
    "input_tensor = input_tensor[tf.newaxis, ...]\n",
    "input_tensor"
   ]
  },
  {
   "cell_type": "code",
   "execution_count": 62,
   "metadata": {},
   "outputs": [
    {
     "data": {
      "text/plain": [
       "{'detection_scores': <tf.Tensor: shape=(1, 100), dtype=float32, numpy=\n",
       " array([[0.9872208 , 0.97772163, 0.97706723, 0.33399296, 0.        ,\n",
       "         0.        , 0.        , 0.        , 0.        , 0.        ,\n",
       "         0.        , 0.        , 0.        , 0.        , 0.        ,\n",
       "         0.        , 0.        , 0.        , 0.        , 0.        ,\n",
       "         0.        , 0.        , 0.        , 0.        , 0.        ,\n",
       "         0.        , 0.        , 0.        , 0.        , 0.        ,\n",
       "         0.        , 0.        , 0.        , 0.        , 0.        ,\n",
       "         0.        , 0.        , 0.        , 0.        , 0.        ,\n",
       "         0.        , 0.        , 0.        , 0.        , 0.        ,\n",
       "         0.        , 0.        , 0.        , 0.        , 0.        ,\n",
       "         0.        , 0.        , 0.        , 0.        , 0.        ,\n",
       "         0.        , 0.        , 0.        , 0.        , 0.        ,\n",
       "         0.        , 0.        , 0.        , 0.        , 0.        ,\n",
       "         0.        , 0.        , 0.        , 0.        , 0.        ,\n",
       "         0.        , 0.        , 0.        , 0.        , 0.        ,\n",
       "         0.        , 0.        , 0.        , 0.        , 0.        ,\n",
       "         0.        , 0.        , 0.        , 0.        , 0.        ,\n",
       "         0.        , 0.        , 0.        , 0.        , 0.        ,\n",
       "         0.        , 0.        , 0.        , 0.        , 0.        ,\n",
       "         0.        , 0.        , 0.        , 0.        , 0.        ]],\n",
       "       dtype=float32)>,\n",
       " 'detection_classes': <tf.Tensor: shape=(1, 100), dtype=float32, numpy=\n",
       " array([[3., 1., 2., 3., 1., 1., 1., 1., 1., 1., 1., 1., 1., 1., 1., 1.,\n",
       "         1., 1., 1., 1., 1., 1., 1., 1., 1., 1., 1., 1., 1., 1., 1., 1.,\n",
       "         1., 1., 1., 1., 1., 1., 1., 1., 1., 1., 1., 1., 1., 1., 1., 1.,\n",
       "         1., 1., 1., 1., 1., 1., 1., 1., 1., 1., 1., 1., 1., 1., 1., 1.,\n",
       "         1., 1., 1., 1., 1., 1., 1., 1., 1., 1., 1., 1., 1., 1., 1., 1.,\n",
       "         1., 1., 1., 1., 1., 1., 1., 1., 1., 1., 1., 1., 1., 1., 1., 1.,\n",
       "         1., 1., 1., 1.]], dtype=float32)>,\n",
       " 'num_detections': <tf.Tensor: shape=(1,), dtype=float32, numpy=array([4.], dtype=float32)>,\n",
       " 'detection_boxes': <tf.Tensor: shape=(1, 100, 4), dtype=float32, numpy=\n",
       " array([[[0.31191874, 0.14469081, 0.5815682 , 0.5780536 ],\n",
       "         [0.16846958, 0.47724158, 0.87531245, 0.75766236],\n",
       "         [0.48911124, 0.37843052, 0.9204666 , 0.90651405],\n",
       "         [0.30284303, 0.        , 0.53111345, 0.10418391],\n",
       "         [0.        , 0.        , 0.        , 0.        ],\n",
       "         [0.        , 0.        , 0.        , 0.        ],\n",
       "         [0.        , 0.        , 0.        , 0.        ],\n",
       "         [0.        , 0.        , 0.        , 0.        ],\n",
       "         [0.        , 0.        , 0.        , 0.        ],\n",
       "         [0.        , 0.        , 0.        , 0.        ],\n",
       "         [0.        , 0.        , 0.        , 0.        ],\n",
       "         [0.        , 0.        , 0.        , 0.        ],\n",
       "         [0.        , 0.        , 0.        , 0.        ],\n",
       "         [0.        , 0.        , 0.        , 0.        ],\n",
       "         [0.        , 0.        , 0.        , 0.        ],\n",
       "         [0.        , 0.        , 0.        , 0.        ],\n",
       "         [0.        , 0.        , 0.        , 0.        ],\n",
       "         [0.        , 0.        , 0.        , 0.        ],\n",
       "         [0.        , 0.        , 0.        , 0.        ],\n",
       "         [0.        , 0.        , 0.        , 0.        ],\n",
       "         [0.        , 0.        , 0.        , 0.        ],\n",
       "         [0.        , 0.        , 0.        , 0.        ],\n",
       "         [0.        , 0.        , 0.        , 0.        ],\n",
       "         [0.        , 0.        , 0.        , 0.        ],\n",
       "         [0.        , 0.        , 0.        , 0.        ],\n",
       "         [0.        , 0.        , 0.        , 0.        ],\n",
       "         [0.        , 0.        , 0.        , 0.        ],\n",
       "         [0.        , 0.        , 0.        , 0.        ],\n",
       "         [0.        , 0.        , 0.        , 0.        ],\n",
       "         [0.        , 0.        , 0.        , 0.        ],\n",
       "         [0.        , 0.        , 0.        , 0.        ],\n",
       "         [0.        , 0.        , 0.        , 0.        ],\n",
       "         [0.        , 0.        , 0.        , 0.        ],\n",
       "         [0.        , 0.        , 0.        , 0.        ],\n",
       "         [0.        , 0.        , 0.        , 0.        ],\n",
       "         [0.        , 0.        , 0.        , 0.        ],\n",
       "         [0.        , 0.        , 0.        , 0.        ],\n",
       "         [0.        , 0.        , 0.        , 0.        ],\n",
       "         [0.        , 0.        , 0.        , 0.        ],\n",
       "         [0.        , 0.        , 0.        , 0.        ],\n",
       "         [0.        , 0.        , 0.        , 0.        ],\n",
       "         [0.        , 0.        , 0.        , 0.        ],\n",
       "         [0.        , 0.        , 0.        , 0.        ],\n",
       "         [0.        , 0.        , 0.        , 0.        ],\n",
       "         [0.        , 0.        , 0.        , 0.        ],\n",
       "         [0.        , 0.        , 0.        , 0.        ],\n",
       "         [0.        , 0.        , 0.        , 0.        ],\n",
       "         [0.        , 0.        , 0.        , 0.        ],\n",
       "         [0.        , 0.        , 0.        , 0.        ],\n",
       "         [0.        , 0.        , 0.        , 0.        ],\n",
       "         [0.        , 0.        , 0.        , 0.        ],\n",
       "         [0.        , 0.        , 0.        , 0.        ],\n",
       "         [0.        , 0.        , 0.        , 0.        ],\n",
       "         [0.        , 0.        , 0.        , 0.        ],\n",
       "         [0.        , 0.        , 0.        , 0.        ],\n",
       "         [0.        , 0.        , 0.        , 0.        ],\n",
       "         [0.        , 0.        , 0.        , 0.        ],\n",
       "         [0.        , 0.        , 0.        , 0.        ],\n",
       "         [0.        , 0.        , 0.        , 0.        ],\n",
       "         [0.        , 0.        , 0.        , 0.        ],\n",
       "         [0.        , 0.        , 0.        , 0.        ],\n",
       "         [0.        , 0.        , 0.        , 0.        ],\n",
       "         [0.        , 0.        , 0.        , 0.        ],\n",
       "         [0.        , 0.        , 0.        , 0.        ],\n",
       "         [0.        , 0.        , 0.        , 0.        ],\n",
       "         [0.        , 0.        , 0.        , 0.        ],\n",
       "         [0.        , 0.        , 0.        , 0.        ],\n",
       "         [0.        , 0.        , 0.        , 0.        ],\n",
       "         [0.        , 0.        , 0.        , 0.        ],\n",
       "         [0.        , 0.        , 0.        , 0.        ],\n",
       "         [0.        , 0.        , 0.        , 0.        ],\n",
       "         [0.        , 0.        , 0.        , 0.        ],\n",
       "         [0.        , 0.        , 0.        , 0.        ],\n",
       "         [0.        , 0.        , 0.        , 0.        ],\n",
       "         [0.        , 0.        , 0.        , 0.        ],\n",
       "         [0.        , 0.        , 0.        , 0.        ],\n",
       "         [0.        , 0.        , 0.        , 0.        ],\n",
       "         [0.        , 0.        , 0.        , 0.        ],\n",
       "         [0.        , 0.        , 0.        , 0.        ],\n",
       "         [0.        , 0.        , 0.        , 0.        ],\n",
       "         [0.        , 0.        , 0.        , 0.        ],\n",
       "         [0.        , 0.        , 0.        , 0.        ],\n",
       "         [0.        , 0.        , 0.        , 0.        ],\n",
       "         [0.        , 0.        , 0.        , 0.        ],\n",
       "         [0.        , 0.        , 0.        , 0.        ],\n",
       "         [0.        , 0.        , 0.        , 0.        ],\n",
       "         [0.        , 0.        , 0.        , 0.        ],\n",
       "         [0.        , 0.        , 0.        , 0.        ],\n",
       "         [0.        , 0.        , 0.        , 0.        ],\n",
       "         [0.        , 0.        , 0.        , 0.        ],\n",
       "         [0.        , 0.        , 0.        , 0.        ],\n",
       "         [0.        , 0.        , 0.        , 0.        ],\n",
       "         [0.        , 0.        , 0.        , 0.        ],\n",
       "         [0.        , 0.        , 0.        , 0.        ],\n",
       "         [0.        , 0.        , 0.        , 0.        ],\n",
       "         [0.        , 0.        , 0.        , 0.        ],\n",
       "         [0.        , 0.        , 0.        , 0.        ],\n",
       "         [0.        , 0.        , 0.        , 0.        ],\n",
       "         [0.        , 0.        , 0.        , 0.        ],\n",
       "         [0.        , 0.        , 0.        , 0.        ]]], dtype=float32)>}"
      ]
     },
     "execution_count": 62,
     "metadata": {},
     "output_type": "execute_result"
    }
   ],
   "source": [
    "output_dict = model_signature(input_tensor)\n",
    "output_dict"
   ]
  },
  {
   "cell_type": "code",
   "execution_count": 66,
   "metadata": {},
   "outputs": [
    {
     "data": {
      "text/plain": [
       "4"
      ]
     },
     "execution_count": 66,
     "metadata": {},
     "output_type": "execute_result"
    }
   ],
   "source": [
    "# num_detections = int(output_dict.pop('num_detections'))\n",
    "num_detections = int(output_dict['num_detections'])\n",
    "num_detections"
   ]
  },
  {
   "cell_type": "code",
   "execution_count": 77,
   "metadata": {},
   "outputs": [
    {
     "data": {
      "text/plain": [
       "{'detection_scores': array([0.9872208 , 0.97772163, 0.97706723, 0.33399296], dtype=float32),\n",
       " 'detection_classes': array([3, 1, 2, 3]),\n",
       " 'detection_boxes': array([[0.31191874, 0.14469081, 0.5815682 , 0.5780536 ],\n",
       "        [0.16846958, 0.47724158, 0.87531245, 0.75766236],\n",
       "        [0.48911124, 0.37843052, 0.9204666 , 0.90651405],\n",
       "        [0.30284303, 0.        , 0.53111345, 0.10418391]], dtype=float32),\n",
       " 'num_detections': 4}"
      ]
     },
     "execution_count": 77,
     "metadata": {},
     "output_type": "execute_result"
    }
   ],
   "source": [
    "# output_dict_np = {key:value[0, :num_detections].numpy() for key, value in output_dict.items()}\n",
    "output_dict_np = {key:value[0, :num_detections].numpy() for key, value in output_dict.items() if key != 'num_detections'}\n",
    "output_dict_np['num_detections'] = num_detections\n",
    "output_dict_np['detection_classes'] = output_dict_np['detection_classes'].astype(np.int64)\n",
    "output_dict_np"
   ]
  },
  {
   "cell_type": "markdown",
   "metadata": {},
   "source": [
    "**Labels**\n",
    "\n",
    "https://github.com/tensorflow/models/blob/master/research/object_detection/data/mscoco_label_map.pbtxt"
   ]
  },
  {
   "cell_type": "code",
   "execution_count": 78,
   "metadata": {},
   "outputs": [],
   "source": [
    "PATH_TO_LABELS = '.tmp/mscoco_label_map.pbtxt'"
   ]
  },
  {
   "cell_type": "code",
   "execution_count": 79,
   "metadata": {},
   "outputs": [
    {
     "ename": "AttributeError",
     "evalue": "module 'tensorflow' has no attribute 'gfile'",
     "output_type": "error",
     "traceback": [
      "\u001b[0;31m---------------------------------------------------------------------------\u001b[0m",
      "\u001b[0;31mAttributeError\u001b[0m                            Traceback (most recent call last)",
      "\u001b[0;32m<ipython-input-79-ca8c2267a361>\u001b[0m in \u001b[0;36m<module>\u001b[0;34m\u001b[0m\n\u001b[0;32m----> 1\u001b[0;31m \u001b[0;32mwith\u001b[0m \u001b[0mtf\u001b[0m\u001b[0;34m.\u001b[0m\u001b[0mgfile\u001b[0m\u001b[0;34m.\u001b[0m\u001b[0mGFile\u001b[0m\u001b[0;34m(\u001b[0m\u001b[0mPATH_TO_LABELS\u001b[0m\u001b[0;34m,\u001b[0m \u001b[0;34m'r'\u001b[0m\u001b[0;34m)\u001b[0m \u001b[0;32mas\u001b[0m \u001b[0mfid\u001b[0m\u001b[0;34m:\u001b[0m\u001b[0;34m\u001b[0m\u001b[0;34m\u001b[0m\u001b[0m\n\u001b[0m\u001b[1;32m      2\u001b[0m     \u001b[0mlabel_map_string\u001b[0m \u001b[0;34m=\u001b[0m \u001b[0mfid\u001b[0m\u001b[0;34m.\u001b[0m\u001b[0mread\u001b[0m\u001b[0;34m(\u001b[0m\u001b[0;34m)\u001b[0m\u001b[0;34m\u001b[0m\u001b[0;34m\u001b[0m\u001b[0m\n\u001b[1;32m      3\u001b[0m     \u001b[0mprint\u001b[0m\u001b[0;34m(\u001b[0m\u001b[0mlabel_map_string\u001b[0m\u001b[0;34m)\u001b[0m\u001b[0;34m\u001b[0m\u001b[0;34m\u001b[0m\u001b[0m\n",
      "\u001b[0;31mAttributeError\u001b[0m: module 'tensorflow' has no attribute 'gfile'"
     ]
    }
   ],
   "source": [
    "with tf.gfile.GFile(PATH_TO_LABELS, 'r') as fid:\n",
    "    label_map_string = fid.read()\n",
    "    print(label_map_string)"
   ]
  },
  {
   "cell_type": "code",
   "execution_count": null,
   "metadata": {},
   "outputs": [],
   "source": []
  }
 ],
 "metadata": {
  "kernelspec": {
   "display_name": "Python 3",
   "language": "python",
   "name": "python3"
  },
  "language_info": {
   "codemirror_mode": {
    "name": "ipython",
    "version": 3
   },
   "file_extension": ".py",
   "mimetype": "text/x-python",
   "name": "python",
   "nbconvert_exporter": "python",
   "pygments_lexer": "ipython3",
   "version": "3.7.5"
  }
 },
 "nbformat": 4,
 "nbformat_minor": 2
}
