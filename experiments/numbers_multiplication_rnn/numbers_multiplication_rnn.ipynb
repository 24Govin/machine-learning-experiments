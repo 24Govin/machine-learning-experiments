{
 "cells": [
  {
   "cell_type": "markdown",
   "metadata": {},
   "source": [
    "> - 🤖 See [full list of Machine Learning Experiments](https://github.com/trekhleb/machine-learning-experiments) on GitHub\n",
    "> - ▶️ Demo: [try this model in action](https://trekhleb.github.io/machine-learning-experiments)"
   ]
  },
  {
   "cell_type": "markdown",
   "metadata": {},
   "source": [
    "Inspired by [Learn to Add Numbers with an Encoder-Decoder LSTM Recurrent Neural Network](https://machinelearningmastery.com/learn-add-numbers-seq2seq-recurrent-neural-networks/) article."
   ]
  },
  {
   "cell_type": "code",
   "execution_count": null,
   "metadata": {},
   "outputs": [],
   "source": [
    "# Selecting Tensorflow version v2 (the command is relevant for Colab only).\n",
    "%tensorflow_version 2.x"
   ]
  },
  {
   "cell_type": "code",
   "execution_count": 3,
   "metadata": {},
   "outputs": [
    {
     "name": "stdout",
     "output_type": "stream",
     "text": [
      "Python version: 3.7.6\n",
      "Tensorflow version: 2.1.0\n",
      "Keras version: 2.2.4-tf\n"
     ]
    }
   ],
   "source": [
    "import tensorflow as tf\n",
    "import matplotlib.pyplot as plt\n",
    "import numpy as np\n",
    "import platform\n",
    "import random\n",
    "\n",
    "print('Python version:', platform.python_version())\n",
    "print('Tensorflow version:', tf.__version__)\n",
    "print('Keras version:', tf.keras.__version__)"
   ]
  },
  {
   "cell_type": "code",
   "execution_count": 64,
   "metadata": {},
   "outputs": [],
   "source": [
    "def generate_dataset(examples_num=50, from_limit=1, to_limit=100):\n",
    "    X = []\n",
    "    Y = []\n",
    "    for i in range(examples_num):\n",
    "        a = random.randint(from_limit, to_limit)\n",
    "        b = random.randint(from_limit, to_limit)\n",
    "        X.append([a, b])\n",
    "        Y.append(a + b)\n",
    "#     X = np.array(X).astype('float') \n",
    "#     X = np.array(X).astype('float') \n",
    "    return X, Y"
   ]
  },
  {
   "cell_type": "code",
   "execution_count": 70,
   "metadata": {},
   "outputs": [
    {
     "name": "stdout",
     "output_type": "stream",
     "text": [
      " 29 +  73 = 102\n",
      " 18 +  15 =  33\n",
      " 24 +  99 = 123\n",
      " 53 +  94 = 147\n",
      " 80 +   7 =  87\n",
      " 13 +  70 =  83\n",
      " 88 +  35 = 123\n",
      " 92 +  14 = 106\n",
      " 27 +  34 =  61\n",
      "  9 +  81 =  90\n",
      "...\n"
     ]
    }
   ],
   "source": [
    "X, Y = generate_dataset()\n",
    "\n",
    "for equation, label in list(zip(X, Y))[:10]:\n",
    "    print(\"{:3d} + {:3d} = {:3d}\".format(equation[0], equation[1], label))\n",
    "print('...')"
   ]
  },
  {
   "cell_type": "code",
   "execution_count": 75,
   "metadata": {},
   "outputs": [
    {
     "name": "stdout",
     "output_type": "stream",
     "text": [
      "npX:\n",
      " [[29. 73.]\n",
      " [18. 15.]\n",
      " [24. 99.]\n",
      " [53. 94.]\n",
      " [80.  7.]\n",
      " [13. 70.]\n",
      " [88. 35.]\n",
      " [92. 14.]\n",
      " [27. 34.]\n",
      " [ 9. 81.]] ...\n",
      "\n",
      "npY:\n",
      " [102.  33. 123. 147.  87.  83. 123. 106.  61.  90.] ...\n"
     ]
    }
   ],
   "source": [
    "npX = np.array(X).astype('float')\n",
    "npY = np.array(Y).astype('float')\n",
    "\n",
    "print('npX:\\n', npX[:10], '...\\n');\n",
    "print('npY:\\n', npY[:10], '...')"
   ]
  }
 ],
 "metadata": {
  "kernelspec": {
   "display_name": "Python 3",
   "language": "python",
   "name": "python3"
  },
  "language_info": {
   "codemirror_mode": {
    "name": "ipython",
    "version": 3
   },
   "file_extension": ".py",
   "mimetype": "text/x-python",
   "name": "python",
   "nbconvert_exporter": "python",
   "pygments_lexer": "ipython3",
   "version": "3.7.6"
  }
 },
 "nbformat": 4,
 "nbformat_minor": 2
}
