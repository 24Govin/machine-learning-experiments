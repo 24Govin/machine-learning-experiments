{
 "cells": [
  {
   "cell_type": "code",
   "execution_count": null,
   "metadata": {},
   "outputs": [],
   "source": [
    "# Selecting Tensorflow version v2 (the command is relevant for Colab only).\n",
    "%tensorflow_version 2.x"
   ]
  },
  {
   "cell_type": "code",
   "execution_count": 3,
   "metadata": {},
   "outputs": [
    {
     "name": "stdout",
     "output_type": "stream",
     "text": [
      "Python version: 3.7.6\n",
      "Tensorflow version: 2.1.0\n",
      "Keras version: 2.2.4-tf\n"
     ]
    }
   ],
   "source": [
    "import tensorflow as tf\n",
    "import matplotlib.pyplot as plt\n",
    "import numpy as np\n",
    "import platform\n",
    "import random\n",
    "\n",
    "print('Python version:', platform.python_version())\n",
    "print('Tensorflow version:', tf.__version__)\n",
    "print('Keras version:', tf.keras.__version__)"
   ]
  },
  {
   "cell_type": "code",
   "execution_count": 48,
   "metadata": {},
   "outputs": [],
   "source": [
    "def generate_dataset(examples_num=50, from_limit=1, to_limit=100):\n",
    "    dataset = []\n",
    "    labels = []\n",
    "    for i in range(examples_num):\n",
    "        a = random.randint(from_limit, to_limit)\n",
    "        b = random.randint(from_limit, to_limit)\n",
    "        label = a + b\n",
    "        dataset.append([a, b])\n",
    "        labels.append(label)\n",
    "    return dataset, labels"
   ]
  },
  {
   "cell_type": "code",
   "execution_count": 51,
   "metadata": {},
   "outputs": [
    {
     "name": "stdout",
     "output_type": "stream",
     "text": [
      " 87 +  46 = 133\n",
      " 98 +  68 = 166\n",
      " 42 +   1 =  43\n",
      " 16 +  57 =  73\n",
      " 92 +  58 = 150\n",
      " 45 +  40 =  85\n",
      " 70 +  52 = 122\n",
      " 44 +  94 = 138\n",
      " 88 +  74 = 162\n",
      " 64 +  15 =  79\n",
      " 83 +  49 = 132\n",
      " 49 +  27 =  76\n",
      " 72 +   1 =  73\n",
      " 36 +  82 = 118\n",
      " 77 +  93 = 170\n",
      " 95 +  94 = 189\n",
      " 66 +  26 =  92\n",
      " 60 +  77 = 137\n",
      " 67 +  53 = 120\n",
      " 96 +  92 = 188\n",
      "...\n"
     ]
    }
   ],
   "source": [
    "dataset, labels = generate_dataset()\n",
    "\n",
    "for equation, label in list(zip(dataset, labels))[:20]:\n",
    "    print(\"{:3d} + {:3d} = {:3d}\".format(equation[0], equation[1], label))\n",
    "print('...')"
   ]
  }
 ],
 "metadata": {
  "kernelspec": {
   "display_name": "Python 3",
   "language": "python",
   "name": "python3"
  },
  "language_info": {
   "codemirror_mode": {
    "name": "ipython",
    "version": 3
   },
   "file_extension": ".py",
   "mimetype": "text/x-python",
   "name": "python",
   "nbconvert_exporter": "python",
   "pygments_lexer": "ipython3",
   "version": "3.7.6"
  }
 },
 "nbformat": 4,
 "nbformat_minor": 2
}
