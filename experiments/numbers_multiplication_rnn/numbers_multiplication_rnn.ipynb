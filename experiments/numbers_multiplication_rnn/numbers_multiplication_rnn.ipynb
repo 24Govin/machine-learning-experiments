{
 "cells": [
  {
   "cell_type": "markdown",
   "metadata": {},
   "source": [
    "> - 🤖 See [full list of Machine Learning Experiments](https://github.com/trekhleb/machine-learning-experiments) on GitHub\n",
    "> - ▶️ Demo: [try this model in action](https://trekhleb.github.io/machine-learning-experiments)"
   ]
  },
  {
   "cell_type": "markdown",
   "metadata": {},
   "source": [
    "Inspired by [Learn to Add Numbers with an Encoder-Decoder LSTM Recurrent Neural Network](https://machinelearningmastery.com/learn-add-numbers-seq2seq-recurrent-neural-networks/) article."
   ]
  },
  {
   "cell_type": "code",
   "execution_count": null,
   "metadata": {},
   "outputs": [],
   "source": [
    "# Selecting Tensorflow version v2 (the command is relevant for Colab only).\n",
    "%tensorflow_version 2.x"
   ]
  },
  {
   "cell_type": "code",
   "execution_count": 1,
   "metadata": {},
   "outputs": [
    {
     "name": "stdout",
     "output_type": "stream",
     "text": [
      "Python version: 3.7.6\n",
      "Tensorflow version: 2.1.0\n",
      "Keras version: 2.2.4-tf\n"
     ]
    }
   ],
   "source": [
    "import tensorflow as tf\n",
    "import matplotlib.pyplot as plt\n",
    "import numpy as np\n",
    "import platform\n",
    "import random\n",
    "\n",
    "print('Python version:', platform.python_version())\n",
    "print('Tensorflow version:', tf.__version__)\n",
    "print('Keras version:', tf.keras.__version__)"
   ]
  },
  {
   "cell_type": "code",
   "execution_count": 52,
   "metadata": {},
   "outputs": [],
   "source": [
    "from_limit = 1\n",
    "to_limit = 100\n",
    "examples_num = 50\n",
    "numbers_to_sum = 2"
   ]
  },
  {
   "cell_type": "code",
   "execution_count": 77,
   "metadata": {},
   "outputs": [],
   "source": [
    "def generate_dataset(\n",
    "    examples_num=50,\n",
    "    from_limit=1,\n",
    "    to_limit=100,\n",
    "    normalize=True\n",
    "):\n",
    "    X = []\n",
    "    Y = []\n",
    "    \n",
    "    # Generating sums.\n",
    "    for i in range(examples_num):\n",
    "        a = random.randint(from_limit, to_limit)\n",
    "        b = random.randint(from_limit, to_limit)\n",
    "        X.append([a, b])\n",
    "        Y.append(a + b)\n",
    "    \n",
    "    # Convert to float.    \n",
    "    np_X = np.array(X).astype('float')\n",
    "    np_Y = np.array(Y).astype('float')\n",
    "    \n",
    "    # Normalization.\n",
    "    \n",
    "    return np_X, np_Y"
   ]
  },
  {
   "cell_type": "code",
   "execution_count": 79,
   "metadata": {},
   "outputs": [
    {
     "name": "stdout",
     "output_type": "stream",
     "text": [
      "38.000000 + 48.000000 = 86.000000\n",
      "88.000000 + 62.000000 = 150.000000\n",
      "86.000000 + 49.000000 = 135.000000\n",
      "16.000000 + 21.000000 = 37.000000\n",
      "39.000000 + 60.000000 = 99.000000\n",
      "69.000000 + 69.000000 = 138.000000\n",
      "45.000000 + 6.000000 = 51.000000\n",
      "48.000000 + 88.000000 = 136.000000\n",
      "48.000000 + 37.000000 = 85.000000\n",
      "73.000000 + 31.000000 = 104.000000\n",
      "...\n"
     ]
    }
   ],
   "source": [
    "X, Y = generate_dataset(\n",
    "    examples_num=examples_num,\n",
    "    from_limit=from_limit,\n",
    "    to_limit=to_limit\n",
    ")\n",
    "\n",
    "for equation, label in list(zip(X, Y))[:10]:\n",
    "    print(\"{:3f} + {:3f} = {:3f}\".format(equation[0], equation[1], label))\n",
    "print('...')"
   ]
  },
  {
   "cell_type": "code",
   "execution_count": 37,
   "metadata": {},
   "outputs": [
    {
     "name": "stdout",
     "output_type": "stream",
     "text": [
      "np_X:\n",
      " [[86. 88.]\n",
      " [72. 23.]\n",
      " [68. 36.]\n",
      " [83. 13.]\n",
      " [17. 51.]\n",
      " [69.  1.]\n",
      " [32. 74.]\n",
      " [48. 49.]\n",
      " [22. 47.]\n",
      " [70. 99.]] ...\n",
      "\n",
      "np_Y:\n",
      " [174.  95. 104.  96.  68.  70. 106.  97.  69. 169.] ...\n"
     ]
    }
   ],
   "source": [
    "np_X = np.array(X).astype('float')\n",
    "np_Y = np.array(Y).astype('float')\n",
    "\n",
    "print('np_X:\\n', np_X[:10], '...\\n');\n",
    "print('np_Y:\\n', np_Y[:10], '...')"
   ]
  },
  {
   "cell_type": "code",
   "execution_count": 38,
   "metadata": {},
   "outputs": [],
   "source": [
    "def normalize(np_arr, max_val):\n",
    "    return np_arr / max_val\n",
    "\n",
    "def denormalize(np_arr, max_val):\n",
    "    return np.around(np_arr * max_val)"
   ]
  },
  {
   "cell_type": "code",
   "execution_count": 39,
   "metadata": {},
   "outputs": [
    {
     "name": "stdout",
     "output_type": "stream",
     "text": [
      "norm_X:\n",
      " [[0.86 0.88]\n",
      " [0.72 0.23]\n",
      " [0.68 0.36]\n",
      " [0.83 0.13]\n",
      " [0.17 0.51]\n",
      " [0.69 0.01]\n",
      " [0.32 0.74]\n",
      " [0.48 0.49]\n",
      " [0.22 0.47]\n",
      " [0.7  0.99]] ...\n",
      "\n",
      "norm_Y:\n",
      " [1.74 0.95 1.04 0.96 0.68 0.7  1.06 0.97 0.69 1.69] ...\n"
     ]
    }
   ],
   "source": [
    "norm_X = normalize(np_X, to_limit)\n",
    "norm_Y = normalize(np_Y, to_limit)\n",
    "\n",
    "print('norm_X:\\n', norm_X[:10], '...\\n');\n",
    "print('norm_Y:\\n', norm_Y[:10], '...')"
   ]
  },
  {
   "cell_type": "code",
   "execution_count": 40,
   "metadata": {},
   "outputs": [
    {
     "name": "stdout",
     "output_type": "stream",
     "text": [
      "denorm_X:\n",
      " [[86. 88.]\n",
      " [72. 23.]\n",
      " [68. 36.]\n",
      " [83. 13.]\n",
      " [17. 51.]\n",
      " [69.  1.]\n",
      " [32. 74.]\n",
      " [48. 49.]\n",
      " [22. 47.]\n",
      " [70. 99.]] ...\n",
      "\n",
      "denorm_Y:\n",
      " [174.  95. 104.  96.  68.  70. 106.  97.  69. 169.] ...\n"
     ]
    }
   ],
   "source": [
    "denorm_X = denormalize(norm_X, to_limit)\n",
    "denorm_Y = denormalize(norm_Y, to_limit)\n",
    "\n",
    "print('denorm_X:\\n', denorm_X[:10], '...\\n');\n",
    "print('denorm_Y:\\n', denorm_Y[:10], '...')"
   ]
  },
  {
   "cell_type": "code",
   "execution_count": 53,
   "metadata": {},
   "outputs": [
    {
     "name": "stdout",
     "output_type": "stream",
     "text": [
      "[[[0.86]\n",
      "  [0.88]]\n",
      "\n",
      " [[0.72]\n",
      "  [0.23]]\n",
      "\n",
      " [[0.68]\n",
      "  [0.36]]\n",
      "\n",
      " [[0.83]\n",
      "  [0.13]]\n",
      "\n",
      " [[0.17]\n",
      "  [0.51]]\n",
      "\n",
      " [[0.69]\n",
      "  [0.01]]\n",
      "\n",
      " [[0.32]\n",
      "  [0.74]]\n",
      "\n",
      " [[0.48]\n",
      "  [0.49]]\n",
      "\n",
      " [[0.22]\n",
      "  [0.47]]\n",
      "\n",
      " [[0.7 ]\n",
      "  [0.99]]\n",
      "\n",
      " [[0.44]\n",
      "  [0.45]]\n",
      "\n",
      " [[0.25]\n",
      "  [0.24]]\n",
      "\n",
      " [[0.57]\n",
      "  [0.11]]\n",
      "\n",
      " [[0.23]\n",
      "  [0.4 ]]\n",
      "\n",
      " [[0.79]\n",
      "  [0.51]]\n",
      "\n",
      " [[0.99]\n",
      "  [0.9 ]]\n",
      "\n",
      " [[0.62]\n",
      "  [0.9 ]]\n",
      "\n",
      " [[0.32]\n",
      "  [0.84]]\n",
      "\n",
      " [[0.71]\n",
      "  [0.41]]\n",
      "\n",
      " [[0.78]\n",
      "  [0.03]]\n",
      "\n",
      " [[0.37]\n",
      "  [0.37]]\n",
      "\n",
      " [[0.86]\n",
      "  [0.93]]\n",
      "\n",
      " [[0.97]\n",
      "  [0.08]]\n",
      "\n",
      " [[0.02]\n",
      "  [0.98]]\n",
      "\n",
      " [[0.79]\n",
      "  [0.54]]\n",
      "\n",
      " [[0.05]\n",
      "  [0.7 ]]\n",
      "\n",
      " [[0.66]\n",
      "  [0.94]]\n",
      "\n",
      " [[0.3 ]\n",
      "  [0.3 ]]\n",
      "\n",
      " [[0.05]\n",
      "  [0.64]]\n",
      "\n",
      " [[0.48]\n",
      "  [0.05]]\n",
      "\n",
      " [[0.84]\n",
      "  [0.67]]\n",
      "\n",
      " [[0.47]\n",
      "  [1.  ]]\n",
      "\n",
      " [[0.23]\n",
      "  [0.39]]\n",
      "\n",
      " [[0.42]\n",
      "  [0.55]]\n",
      "\n",
      " [[0.18]\n",
      "  [1.  ]]\n",
      "\n",
      " [[0.22]\n",
      "  [0.28]]\n",
      "\n",
      " [[0.05]\n",
      "  [0.67]]\n",
      "\n",
      " [[0.55]\n",
      "  [0.25]]\n",
      "\n",
      " [[0.91]\n",
      "  [0.36]]\n",
      "\n",
      " [[0.84]\n",
      "  [0.57]]\n",
      "\n",
      " [[0.64]\n",
      "  [0.89]]\n",
      "\n",
      " [[0.6 ]\n",
      "  [0.11]]\n",
      "\n",
      " [[0.52]\n",
      "  [0.8 ]]\n",
      "\n",
      " [[0.88]\n",
      "  [0.36]]\n",
      "\n",
      " [[0.13]\n",
      "  [0.32]]\n",
      "\n",
      " [[0.98]\n",
      "  [0.03]]\n",
      "\n",
      " [[0.87]\n",
      "  [0.64]]\n",
      "\n",
      " [[0.47]\n",
      "  [0.89]]\n",
      "\n",
      " [[0.48]\n",
      "  [0.63]]\n",
      "\n",
      " [[0.41]\n",
      "  [0.16]]]\n"
     ]
    }
   ],
   "source": [
    "shaped_X = norm_X.reshape(examples_num, numbers_to_sum, 1)\n",
    "print(shaped_X)"
   ]
  },
  {
   "cell_type": "code",
   "execution_count": 68,
   "metadata": {},
   "outputs": [],
   "source": [
    "model = tf.keras.models.Sequential()\n",
    "\n",
    "model.add(tf.keras.layers.LSTM(\n",
    "    units=6,\n",
    "    input_shape=(numbers_to_sum, 1),\n",
    "    return_sequences=True\n",
    "))\n",
    "\n",
    "model.add(tf.keras.layers.LSTM(\n",
    "    units=6,\n",
    "))\n",
    "\n",
    "model.add(tf.keras.layers.Dense(\n",
    "    units=1,\n",
    "))"
   ]
  },
  {
   "cell_type": "code",
   "execution_count": 69,
   "metadata": {},
   "outputs": [
    {
     "name": "stdout",
     "output_type": "stream",
     "text": [
      "Model: \"sequential_10\"\n",
      "_________________________________________________________________\n",
      "Layer (type)                 Output Shape              Param #   \n",
      "=================================================================\n",
      "lstm_15 (LSTM)               (None, 2, 6)              192       \n",
      "_________________________________________________________________\n",
      "lstm_16 (LSTM)               (None, 6)                 312       \n",
      "_________________________________________________________________\n",
      "dense_5 (Dense)              (None, 1)                 7         \n",
      "=================================================================\n",
      "Total params: 511\n",
      "Trainable params: 511\n",
      "Non-trainable params: 0\n",
      "_________________________________________________________________\n"
     ]
    }
   ],
   "source": [
    "model.summary()"
   ]
  },
  {
   "cell_type": "code",
   "execution_count": 70,
   "metadata": {},
   "outputs": [
    {
     "data": {
      "image/png": "[encoded data removed]",
      "text/plain": [
       "<IPython.core.display.Image object>"
      ]
     },
     "execution_count": 70,
     "metadata": {},
     "output_type": "execute_result"
    }
   ],
   "source": [
    "tf.keras.utils.plot_model(\n",
    "    model,\n",
    "    show_shapes=True,\n",
    "    show_layer_names=True,\n",
    ")"
   ]
  },
  {
   "cell_type": "code",
   "execution_count": 71,
   "metadata": {},
   "outputs": [],
   "source": [
    "adam_optimizer = tf.keras.optimizers.Adam(learning_rate=0.001)\n",
    "model.compile(\n",
    "    optimizer=adam_optimizer,\n",
    "    loss=tf.keras.losses.mean_squared_error\n",
    ")"
   ]
  },
  {
   "cell_type": "code",
   "execution_count": 72,
   "metadata": {},
   "outputs": [
    {
     "name": "stdout",
     "output_type": "stream",
     "text": [
      "Train on 50 samples\n",
      "Epoch 1/100\n",
      "50/50 [==============================] - 3s 59ms/sample - loss: 1.2869\n",
      "Epoch 2/100\n",
      "50/50 [==============================] - 0s 492us/sample - loss: 1.2765\n",
      "Epoch 3/100\n",
      "50/50 [==============================] - 0s 391us/sample - loss: 1.2660\n",
      "Epoch 4/100\n",
      "50/50 [==============================] - 0s 529us/sample - loss: 1.2559\n",
      "Epoch 5/100\n",
      "50/50 [==============================] - 0s 384us/sample - loss: 1.2461\n",
      "Epoch 6/100\n",
      "50/50 [==============================] - 0s 344us/sample - loss: 1.2362\n",
      "Epoch 7/100\n",
      "50/50 [==============================] - 0s 331us/sample - loss: 1.2264\n",
      "Epoch 8/100\n",
      "50/50 [==============================] - 0s 353us/sample - loss: 1.2167\n",
      "Epoch 9/100\n",
      "50/50 [==============================] - 0s 383us/sample - loss: 1.2066\n",
      "Epoch 10/100\n",
      "50/50 [==============================] - 0s 444us/sample - loss: 1.1969\n",
      "Epoch 11/100\n",
      "50/50 [==============================] - 0s 276us/sample - loss: 1.1874\n",
      "Epoch 12/100\n",
      "50/50 [==============================] - 0s 420us/sample - loss: 1.1776\n",
      "Epoch 13/100\n",
      "50/50 [==============================] - 0s 443us/sample - loss: 1.1680\n",
      "Epoch 14/100\n",
      "50/50 [==============================] - 0s 341us/sample - loss: 1.1580\n",
      "Epoch 15/100\n",
      "50/50 [==============================] - 0s 332us/sample - loss: 1.1485\n",
      "Epoch 16/100\n",
      "50/50 [==============================] - 0s 340us/sample - loss: 1.1385\n",
      "Epoch 17/100\n",
      "50/50 [==============================] - 0s 369us/sample - loss: 1.1291\n",
      "Epoch 18/100\n",
      "50/50 [==============================] - 0s 382us/sample - loss: 1.1190\n",
      "Epoch 19/100\n",
      "50/50 [==============================] - ETA: 0s - loss: 1.094 - 0s 392us/sample - loss: 1.1089\n",
      "Epoch 20/100\n",
      "50/50 [==============================] - 0s 385us/sample - loss: 1.0991\n",
      "Epoch 21/100\n",
      "50/50 [==============================] - 0s 400us/sample - loss: 1.0890\n",
      "Epoch 22/100\n",
      "50/50 [==============================] - 0s 424us/sample - loss: 1.0784\n",
      "Epoch 23/100\n",
      "50/50 [==============================] - 0s 388us/sample - loss: 1.0679\n",
      "Epoch 24/100\n",
      "50/50 [==============================] - 0s 503us/sample - loss: 1.0572\n",
      "Epoch 25/100\n",
      "50/50 [==============================] - 0s 347us/sample - loss: 1.0464\n",
      "Epoch 26/100\n",
      "50/50 [==============================] - 0s 379us/sample - loss: 1.0357\n",
      "Epoch 27/100\n",
      "50/50 [==============================] - 0s 489us/sample - loss: 1.0239\n",
      "Epoch 28/100\n",
      "50/50 [==============================] - 0s 353us/sample - loss: 1.0126\n",
      "Epoch 29/100\n",
      "50/50 [==============================] - 0s 344us/sample - loss: 1.0008\n",
      "Epoch 30/100\n",
      "50/50 [==============================] - 0s 317us/sample - loss: 0.9889\n",
      "Epoch 31/100\n",
      "50/50 [==============================] - 0s 371us/sample - loss: 0.9765\n",
      "Epoch 32/100\n",
      "50/50 [==============================] - 0s 432us/sample - loss: 0.9634\n",
      "Epoch 33/100\n",
      "50/50 [==============================] - 0s 335us/sample - loss: 0.9505\n",
      "Epoch 34/100\n",
      "50/50 [==============================] - 0s 370us/sample - loss: 0.9374\n",
      "Epoch 35/100\n",
      "50/50 [==============================] - 0s 375us/sample - loss: 0.9239\n",
      "Epoch 36/100\n",
      "50/50 [==============================] - ETA: 0s - loss: 0.968 - 0s 455us/sample - loss: 0.9100\n",
      "Epoch 37/100\n",
      "50/50 [==============================] - 0s 374us/sample - loss: 0.8956\n",
      "Epoch 38/100\n",
      "50/50 [==============================] - 0s 525us/sample - loss: 0.8806\n",
      "Epoch 39/100\n",
      "50/50 [==============================] - 0s 367us/sample - loss: 0.8657\n",
      "Epoch 40/100\n",
      "50/50 [==============================] - 0s 402us/sample - loss: 0.8498\n",
      "Epoch 41/100\n",
      "50/50 [==============================] - 0s 343us/sample - loss: 0.8344\n",
      "Epoch 42/100\n",
      "50/50 [==============================] - 0s 373us/sample - loss: 0.8179\n",
      "Epoch 43/100\n",
      "50/50 [==============================] - 0s 323us/sample - loss: 0.8014\n",
      "Epoch 44/100\n",
      "50/50 [==============================] - ETA: 0s - loss: 0.948 - 0s 315us/sample - loss: 0.7850\n",
      "Epoch 45/100\n",
      "50/50 [==============================] - 0s 447us/sample - loss: 0.7672\n",
      "Epoch 46/100\n",
      "50/50 [==============================] - 0s 396us/sample - loss: 0.7495\n",
      "Epoch 47/100\n",
      "50/50 [==============================] - 0s 607us/sample - loss: 0.7314\n",
      "Epoch 48/100\n",
      "50/50 [==============================] - 0s 376us/sample - loss: 0.7126\n",
      "Epoch 49/100\n",
      "50/50 [==============================] - 0s 354us/sample - loss: 0.6938\n",
      "Epoch 50/100\n",
      "50/50 [==============================] - 0s 441us/sample - loss: 0.6751\n",
      "Epoch 51/100\n",
      "50/50 [==============================] - 0s 814us/sample - loss: 0.6556\n",
      "Epoch 52/100\n",
      "50/50 [==============================] - 0s 294us/sample - loss: 0.6353\n",
      "Epoch 53/100\n",
      "50/50 [==============================] - 0s 392us/sample - loss: 0.6150\n",
      "Epoch 54/100\n",
      "50/50 [==============================] - 0s 383us/sample - loss: 0.5952\n",
      "Epoch 55/100\n",
      "50/50 [==============================] - 0s 407us/sample - loss: 0.5745\n",
      "Epoch 56/100\n",
      "50/50 [==============================] - 0s 425us/sample - loss: 0.5527\n",
      "Epoch 57/100\n",
      "50/50 [==============================] - 0s 398us/sample - loss: 0.5320\n",
      "Epoch 58/100\n",
      "50/50 [==============================] - 0s 422us/sample - loss: 0.5105\n",
      "Epoch 59/100\n",
      "50/50 [==============================] - 0s 372us/sample - loss: 0.4892\n",
      "Epoch 60/100\n",
      "50/50 [==============================] - 0s 469us/sample - loss: 0.4680\n",
      "Epoch 61/100\n",
      "50/50 [==============================] - 0s 289us/sample - loss: 0.4448\n",
      "Epoch 62/100\n",
      "50/50 [==============================] - 0s 410us/sample - loss: 0.4246\n",
      "Epoch 63/100\n",
      "50/50 [==============================] - 0s 322us/sample - loss: 0.4036\n",
      "Epoch 64/100\n",
      "50/50 [==============================] - 0s 398us/sample - loss: 0.3819\n",
      "Epoch 65/100\n",
      "50/50 [==============================] - 0s 470us/sample - loss: 0.3609\n",
      "Epoch 66/100\n",
      "50/50 [==============================] - 0s 492us/sample - loss: 0.3408\n",
      "Epoch 67/100\n",
      "50/50 [==============================] - 0s 385us/sample - loss: 0.3193\n",
      "Epoch 68/100\n",
      "50/50 [==============================] - 0s 410us/sample - loss: 0.3009\n",
      "Epoch 69/100\n",
      "50/50 [==============================] - 0s 389us/sample - loss: 0.2810\n",
      "Epoch 70/100\n",
      "50/50 [==============================] - 0s 358us/sample - loss: 0.2639\n",
      "Epoch 71/100\n",
      "50/50 [==============================] - 0s 409us/sample - loss: 0.2453\n",
      "Epoch 72/100\n",
      "50/50 [==============================] - 0s 393us/sample - loss: 0.2281\n",
      "Epoch 73/100\n",
      "50/50 [==============================] - 0s 456us/sample - loss: 0.2125\n",
      "Epoch 74/100\n",
      "50/50 [==============================] - 0s 394us/sample - loss: 0.1978\n",
      "Epoch 75/100\n",
      "50/50 [==============================] - 0s 361us/sample - loss: 0.1825\n",
      "Epoch 76/100\n",
      "50/50 [==============================] - 0s 465us/sample - loss: 0.1700\n",
      "Epoch 77/100\n",
      "50/50 [==============================] - 0s 457us/sample - loss: 0.1588\n",
      "Epoch 78/100\n",
      "50/50 [==============================] - 0s 457us/sample - loss: 0.1480\n",
      "Epoch 79/100\n",
      "50/50 [==============================] - 0s 425us/sample - loss: 0.1370\n",
      "Epoch 80/100\n",
      "50/50 [==============================] - 0s 473us/sample - loss: 0.1287\n",
      "Epoch 81/100\n",
      "50/50 [==============================] - 0s 400us/sample - loss: 0.1218\n",
      "Epoch 82/100\n",
      "50/50 [==============================] - 0s 413us/sample - loss: 0.1145\n",
      "Epoch 83/100\n",
      "50/50 [==============================] - 0s 312us/sample - loss: 0.1087\n",
      "Epoch 84/100\n",
      "50/50 [==============================] - 0s 384us/sample - loss: 0.1045\n",
      "Epoch 85/100\n",
      "50/50 [==============================] - 0s 312us/sample - loss: 0.0998\n",
      "Epoch 86/100\n",
      "50/50 [==============================] - 0s 408us/sample - loss: 0.0971\n",
      "Epoch 87/100\n",
      "50/50 [==============================] - 0s 566us/sample - loss: 0.0948\n",
      "Epoch 88/100\n",
      "50/50 [==============================] - 0s 308us/sample - loss: 0.0930\n",
      "Epoch 89/100\n",
      "50/50 [==============================] - 0s 372us/sample - loss: 0.0912\n",
      "Epoch 90/100\n",
      "50/50 [==============================] - 0s 353us/sample - loss: 0.0899\n",
      "Epoch 91/100\n",
      "50/50 [==============================] - 0s 387us/sample - loss: 0.0892\n",
      "Epoch 92/100\n",
      "50/50 [==============================] - 0s 402us/sample - loss: 0.0883\n",
      "Epoch 93/100\n",
      "50/50 [==============================] - 0s 312us/sample - loss: 0.0883\n",
      "Epoch 94/100\n",
      "50/50 [==============================] - 0s 385us/sample - loss: 0.0877\n",
      "Epoch 95/100\n",
      "50/50 [==============================] - 0s 387us/sample - loss: 0.0876\n",
      "Epoch 96/100\n"
     ]
    },
    {
     "name": "stdout",
     "output_type": "stream",
     "text": [
      "50/50 [==============================] - 0s 408us/sample - loss: 0.0872\n",
      "Epoch 97/100\n",
      "50/50 [==============================] - 0s 395us/sample - loss: 0.0869\n",
      "Epoch 98/100\n",
      "50/50 [==============================] - 0s 477us/sample - loss: 0.0867\n",
      "Epoch 99/100\n",
      "50/50 [==============================] - 0s 432us/sample - loss: 0.0866\n",
      "Epoch 100/100\n",
      "50/50 [==============================] - 0s 422us/sample - loss: 0.0863\n"
     ]
    }
   ],
   "source": [
    "epochs_num = 100\n",
    "\n",
    "history = model.fit(\n",
    "    x=shaped_X,\n",
    "    y=normY,\n",
    "    epochs=epochs_num\n",
    ")"
   ]
  },
  {
   "cell_type": "code",
   "execution_count": 73,
   "metadata": {},
   "outputs": [],
   "source": [
    "def render_training_history(training_history):\n",
    "    loss = training_history.history['loss']\n",
    "    plt.title('Loss')\n",
    "    plt.xlabel('Epoch')\n",
    "    plt.ylabel('Loss')\n",
    "    plt.plot(loss, label='Training set')\n",
    "    plt.legend()\n",
    "    plt.grid(linestyle='--', linewidth=1, alpha=0.5)\n",
    "    plt.show()"
   ]
  },
  {
   "cell_type": "code",
   "execution_count": 74,
   "metadata": {},
   "outputs": [
    {
     "data": {
      "image/png": "[encoded data removed]",
      "text/plain": [
       "<Figure size 432x288 with 1 Axes>"
      ]
     },
     "metadata": {
      "needs_background": "light"
     },
     "output_type": "display_data"
    }
   ],
   "source": [
    "render_training_history(history)"
   ]
  }
 ],
 "metadata": {
  "kernelspec": {
   "display_name": "Python 3",
   "language": "python",
   "name": "python3"
  },
  "language_info": {
   "codemirror_mode": {
    "name": "ipython",
    "version": 3
   },
   "file_extension": ".py",
   "mimetype": "text/x-python",
   "name": "python",
   "nbconvert_exporter": "python",
   "pygments_lexer": "ipython3",
   "version": "3.7.6"
  }
 },
 "nbformat": 4,
 "nbformat_minor": 2
}
