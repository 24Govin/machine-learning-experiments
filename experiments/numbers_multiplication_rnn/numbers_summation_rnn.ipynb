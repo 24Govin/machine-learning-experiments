{
 "cells": [
  {
   "cell_type": "markdown",
   "metadata": {},
   "source": [
    "> - 🤖 See [full list of Machine Learning Experiments](https://github.com/trekhleb/machine-learning-experiments) on GitHub\n",
    "> - ▶️ Demo: [try this model in action](https://trekhleb.github.io/machine-learning-experiments)"
   ]
  },
  {
   "cell_type": "markdown",
   "metadata": {},
   "source": [
    "Inspired by [Learn to Add Numbers with an Encoder-Decoder LSTM Recurrent Neural Network](https://machinelearningmastery.com/learn-add-numbers-seq2seq-recurrent-neural-networks/) article."
   ]
  },
  {
   "cell_type": "code",
   "execution_count": 1,
   "metadata": {},
   "outputs": [],
   "source": [
    "# Selecting Tensorflow version v2 (the command is relevant for Colab only).\n",
    "# %tensorflow_version 2.x"
   ]
  },
  {
   "cell_type": "code",
   "execution_count": 2,
   "metadata": {},
   "outputs": [
    {
     "name": "stdout",
     "output_type": "stream",
     "text": [
      "Python version: 3.7.6\n",
      "Tensorflow version: 2.1.0\n",
      "Keras version: 2.2.4-tf\n"
     ]
    }
   ],
   "source": [
    "import tensorflow as tf\n",
    "import matplotlib.pyplot as plt\n",
    "import numpy as np\n",
    "import platform\n",
    "import random\n",
    "from math import sqrt\n",
    "\n",
    "print('Python version:', platform.python_version())\n",
    "print('Tensorflow version:', tf.__version__)\n",
    "print('Keras version:', tf.keras.__version__)"
   ]
  },
  {
   "cell_type": "code",
   "execution_count": 3,
   "metadata": {},
   "outputs": [],
   "source": [
    "batch_size=100\n",
    "max_num = 100\n",
    "sequence_length=2"
   ]
  },
  {
   "cell_type": "code",
   "execution_count": 4,
   "metadata": {},
   "outputs": [],
   "source": [
    "def generate_dataset(batch_size=50, sequence_length=2, max_num=100):\n",
    "    # Initial dataset states.\n",
    "    X = []\n",
    "    Y = []\n",
    "    \n",
    "    # Generating sums.\n",
    "    for i in range(batch_size):\n",
    "        sequence = [random.randint(1, max_num) for _ in range(sequence_length)]\n",
    "        X.append(sequence)\n",
    "        Y.append(sum(sequence))\n",
    "    \n",
    "    # Convert to float.    \n",
    "    X = np.array(X).astype('float')\n",
    "    Y = np.array(Y).astype('float')\n",
    "    \n",
    "    return X, Y"
   ]
  },
  {
   "cell_type": "code",
   "execution_count": 5,
   "metadata": {},
   "outputs": [],
   "source": [
    "def normalize(np_arr, max_val):\n",
    "    return np_arr / max_val\n",
    "\n",
    "def denormalize(np_arr, max_val):\n",
    "    return np.around(np_arr * max_val)"
   ]
  },
  {
   "cell_type": "code",
   "execution_count": 6,
   "metadata": {},
   "outputs": [],
   "source": [
    "def preview_dataset(X, Y, num_to_print=10):\n",
    "    for sequence, label in list(zip(X, Y))[:num_to_print]:\n",
    "        print(\"{} = {}\".format(sequence, label))\n",
    "    print('...')"
   ]
  },
  {
   "cell_type": "code",
   "execution_count": 7,
   "metadata": {},
   "outputs": [
    {
     "name": "stdout",
     "output_type": "stream",
     "text": [
      "[59. 61.] = 120.0\n",
      "[53. 68.] = 121.0\n",
      "[46. 74.] = 120.0\n",
      "[89. 54.] = 143.0\n",
      "[88. 63.] = 151.0\n",
      "[13. 33.] = 46.0\n",
      "[15. 58.] = 73.0\n",
      "[88. 77.] = 165.0\n",
      "[19. 49.] = 68.0\n",
      "[50. 25.] = 75.0\n",
      "...\n"
     ]
    }
   ],
   "source": [
    "x_train, y_train = generate_dataset(\n",
    "    batch_size=batch_size,\n",
    "    sequence_length=sequence_length,\n",
    "    max_num=max_num\n",
    ")\n",
    "\n",
    "preview_dataset(x_train, y_train)"
   ]
  },
  {
   "cell_type": "code",
   "execution_count": 8,
   "metadata": {},
   "outputs": [
    {
     "name": "stdout",
     "output_type": "stream",
     "text": [
      "[0.59 0.61] = 1.2\n",
      "[0.53 0.68] = 1.21\n",
      "[0.46 0.74] = 1.2\n",
      "[0.89 0.54] = 1.43\n",
      "[0.88 0.63] = 1.51\n",
      "[0.13 0.33] = 0.46\n",
      "[0.15 0.58] = 0.73\n",
      "[0.88 0.77] = 1.65\n",
      "[0.19 0.49] = 0.68\n",
      "[0.5  0.25] = 0.75\n",
      "...\n"
     ]
    }
   ],
   "source": [
    "norm_x_train = normalize(x_train, max_num)\n",
    "norm_y_train = normalize(y_train, max_num)\n",
    "\n",
    "preview_dataset(norm_x_train, norm_y_train)"
   ]
  },
  {
   "cell_type": "code",
   "execution_count": 9,
   "metadata": {},
   "outputs": [
    {
     "name": "stdout",
     "output_type": "stream",
     "text": [
      "[59. 61.] = 120.0\n",
      "[53. 68.] = 121.0\n",
      "[46. 74.] = 120.0\n",
      "[89. 54.] = 143.0\n",
      "[88. 63.] = 151.0\n",
      "[13. 33.] = 46.0\n",
      "[15. 58.] = 73.0\n",
      "[88. 77.] = 165.0\n",
      "[19. 49.] = 68.0\n",
      "[50. 25.] = 75.0\n",
      "...\n"
     ]
    }
   ],
   "source": [
    "denorm_x_train = denormalize(norm_x_train, max_num)\n",
    "denorm_y_train = denormalize(norm_y_train, max_num)\n",
    "\n",
    "preview_dataset(denorm_x_train, denorm_y_train)"
   ]
  },
  {
   "cell_type": "code",
   "execution_count": 10,
   "metadata": {},
   "outputs": [
    {
     "name": "stdout",
     "output_type": "stream",
     "text": [
      "[[[0.59]\n",
      "  [0.61]]\n",
      "\n",
      " [[0.53]\n",
      "  [0.68]]\n",
      "\n",
      " [[0.46]\n",
      "  [0.74]]\n",
      "\n",
      " [[0.89]\n",
      "  [0.54]]\n",
      "\n",
      " [[0.88]\n",
      "  [0.63]]] \n",
      "...\n"
     ]
    }
   ],
   "source": [
    "shaped_x_train = norm_x_train.reshape(batch_size, sequence_length, 1)\n",
    "\n",
    "print(shaped_x_train[:5], '\\n...')"
   ]
  },
  {
   "cell_type": "code",
   "execution_count": 11,
   "metadata": {},
   "outputs": [],
   "source": [
    "model = tf.keras.models.Sequential()\n",
    "\n",
    "model.add(tf.keras.layers.LSTM(\n",
    "    units=16,\n",
    "    input_shape=(sequence_length, 1),\n",
    "#     return_sequences=True\n",
    "))\n",
    "\n",
    "# model.add(tf.keras.layers.LSTM(\n",
    "#     units=8,\n",
    "# ))\n",
    "\n",
    "model.add(tf.keras.layers.Dense(\n",
    "    units=1,\n",
    "))"
   ]
  },
  {
   "cell_type": "code",
   "execution_count": 12,
   "metadata": {},
   "outputs": [
    {
     "name": "stdout",
     "output_type": "stream",
     "text": [
      "Model: \"sequential\"\n",
      "_________________________________________________________________\n",
      "Layer (type)                 Output Shape              Param #   \n",
      "=================================================================\n",
      "lstm (LSTM)                  (None, 16)                1152      \n",
      "_________________________________________________________________\n",
      "dense (Dense)                (None, 1)                 17        \n",
      "=================================================================\n",
      "Total params: 1,169\n",
      "Trainable params: 1,169\n",
      "Non-trainable params: 0\n",
      "_________________________________________________________________\n"
     ]
    }
   ],
   "source": [
    "model.summary()"
   ]
  },
  {
   "cell_type": "code",
   "execution_count": 13,
   "metadata": {},
   "outputs": [
    {
     "data": {
      "image/png": "[encoded data removed]",
      "text/plain": [
       "<IPython.core.display.Image object>"
      ]
     },
     "execution_count": 13,
     "metadata": {},
     "output_type": "execute_result"
    }
   ],
   "source": [
    "tf.keras.utils.plot_model(\n",
    "    model,\n",
    "    show_shapes=True,\n",
    "    show_layer_names=True,\n",
    ")"
   ]
  },
  {
   "cell_type": "code",
   "execution_count": 14,
   "metadata": {},
   "outputs": [],
   "source": [
    "adam_optimizer = tf.keras.optimizers.Adam(learning_rate=0.001)\n",
    "model.compile(\n",
    "    optimizer=adam_optimizer,\n",
    "    loss=tf.keras.losses.mean_squared_error\n",
    ")"
   ]
  },
  {
   "cell_type": "code",
   "execution_count": 15,
   "metadata": {},
   "outputs": [
    {
     "name": "stdout",
     "output_type": "stream",
     "text": [
      "Train on 19 samples, validate on 81 samples\n",
      "Epoch 1/200\n",
      "19/19 [==============================] - 2s 97ms/sample - loss: 1.2123 - val_loss: 1.3781\n",
      "Epoch 2/200\n",
      "19/19 [==============================] - 0s 713us/sample - loss: 1.2025 - val_loss: 1.3673\n",
      "Epoch 3/200\n",
      "19/19 [==============================] - 0s 1ms/sample - loss: 1.1927 - val_loss: 1.3565\n",
      "Epoch 4/200\n",
      "19/19 [==============================] - 0s 2ms/sample - loss: 1.1830 - val_loss: 1.3458\n",
      "Epoch 5/200\n",
      "19/19 [==============================] - 0s 1ms/sample - loss: 1.1733 - val_loss: 1.3352\n",
      "Epoch 6/200\n",
      "19/19 [==============================] - 0s 944us/sample - loss: 1.1637 - val_loss: 1.3246\n",
      "Epoch 7/200\n",
      "19/19 [==============================] - 0s 889us/sample - loss: 1.1542 - val_loss: 1.3142\n",
      "Epoch 8/200\n",
      "19/19 [==============================] - 0s 1ms/sample - loss: 1.1447 - val_loss: 1.3037\n",
      "Epoch 9/200\n",
      "19/19 [==============================] - 0s 1ms/sample - loss: 1.1353 - val_loss: 1.2934\n",
      "Epoch 10/200\n",
      "19/19 [==============================] - 0s 2ms/sample - loss: 1.1259 - val_loss: 1.2830\n",
      "Epoch 11/200\n",
      "19/19 [==============================] - 0s 971us/sample - loss: 1.1166 - val_loss: 1.2728\n",
      "Epoch 12/200\n",
      "19/19 [==============================] - 0s 974us/sample - loss: 1.1073 - val_loss: 1.2626\n",
      "Epoch 13/200\n",
      "19/19 [==============================] - 0s 1ms/sample - loss: 1.0981 - val_loss: 1.2524\n",
      "Epoch 14/200\n",
      "19/19 [==============================] - 0s 1ms/sample - loss: 1.0889 - val_loss: 1.2423\n",
      "Epoch 15/200\n",
      "19/19 [==============================] - 0s 1ms/sample - loss: 1.0798 - val_loss: 1.2322\n",
      "Epoch 16/200\n",
      "19/19 [==============================] - 0s 1ms/sample - loss: 1.0707 - val_loss: 1.2222\n",
      "Epoch 17/200\n",
      "19/19 [==============================] - 0s 1ms/sample - loss: 1.0617 - val_loss: 1.2122\n",
      "Epoch 18/200\n",
      "19/19 [==============================] - 0s 1ms/sample - loss: 1.0526 - val_loss: 1.2022\n",
      "Epoch 19/200\n",
      "19/19 [==============================] - 0s 1ms/sample - loss: 1.0437 - val_loss: 1.1923\n",
      "Epoch 20/200\n",
      "19/19 [==============================] - 0s 1ms/sample - loss: 1.0347 - val_loss: 1.1824\n",
      "Epoch 21/200\n",
      "19/19 [==============================] - 0s 1ms/sample - loss: 1.0258 - val_loss: 1.1725\n",
      "Epoch 22/200\n",
      "19/19 [==============================] - 0s 1ms/sample - loss: 1.0169 - val_loss: 1.1627\n",
      "Epoch 23/200\n",
      "19/19 [==============================] - 0s 1ms/sample - loss: 1.0080 - val_loss: 1.1529\n",
      "Epoch 24/200\n",
      "19/19 [==============================] - 0s 1ms/sample - loss: 0.9991 - val_loss: 1.1431\n",
      "Epoch 25/200\n",
      "19/19 [==============================] - 0s 1ms/sample - loss: 0.9903 - val_loss: 1.1333\n",
      "Epoch 26/200\n",
      "19/19 [==============================] - 0s 881us/sample - loss: 0.9815 - val_loss: 1.1235\n",
      "Epoch 27/200\n",
      "19/19 [==============================] - 0s 1ms/sample - loss: 0.9727 - val_loss: 1.1137\n",
      "Epoch 28/200\n",
      "19/19 [==============================] - 0s 1ms/sample - loss: 0.9639 - val_loss: 1.1040\n",
      "Epoch 29/200\n",
      "19/19 [==============================] - 0s 1ms/sample - loss: 0.9551 - val_loss: 1.0942\n",
      "Epoch 30/200\n",
      "19/19 [==============================] - 0s 1ms/sample - loss: 0.9463 - val_loss: 1.0845\n",
      "Epoch 31/200\n",
      "19/19 [==============================] - 0s 1ms/sample - loss: 0.9375 - val_loss: 1.0747\n",
      "Epoch 32/200\n",
      "19/19 [==============================] - 0s 1ms/sample - loss: 0.9288 - val_loss: 1.0650\n",
      "Epoch 33/200\n",
      "19/19 [==============================] - 0s 1ms/sample - loss: 0.9200 - val_loss: 1.0552\n",
      "Epoch 34/200\n",
      "19/19 [==============================] - 0s 1ms/sample - loss: 0.9112 - val_loss: 1.0455\n",
      "Epoch 35/200\n",
      "19/19 [==============================] - 0s 1ms/sample - loss: 0.9024 - val_loss: 1.0357\n",
      "Epoch 36/200\n",
      "19/19 [==============================] - 0s 2ms/sample - loss: 0.8936 - val_loss: 1.0259\n",
      "Epoch 37/200\n",
      "19/19 [==============================] - 0s 1ms/sample - loss: 0.8849 - val_loss: 1.0161\n",
      "Epoch 38/200\n",
      "19/19 [==============================] - 0s 1ms/sample - loss: 0.8761 - val_loss: 1.0063\n",
      "Epoch 39/200\n",
      "19/19 [==============================] - 0s 1ms/sample - loss: 0.8672 - val_loss: 0.9965\n",
      "Epoch 40/200\n",
      "19/19 [==============================] - 0s 1ms/sample - loss: 0.8584 - val_loss: 0.9867\n",
      "Epoch 41/200\n",
      "19/19 [==============================] - 0s 1ms/sample - loss: 0.8496 - val_loss: 0.9768\n",
      "Epoch 42/200\n",
      "19/19 [==============================] - 0s 1ms/sample - loss: 0.8407 - val_loss: 0.9669\n",
      "Epoch 43/200\n",
      "19/19 [==============================] - 0s 944us/sample - loss: 0.8319 - val_loss: 0.9570\n",
      "Epoch 44/200\n",
      "19/19 [==============================] - 0s 1ms/sample - loss: 0.8230 - val_loss: 0.9471\n",
      "Epoch 45/200\n",
      "19/19 [==============================] - 0s 2ms/sample - loss: 0.8141 - val_loss: 0.9372\n",
      "Epoch 46/200\n",
      "19/19 [==============================] - 0s 1ms/sample - loss: 0.8052 - val_loss: 0.9272\n",
      "Epoch 47/200\n",
      "19/19 [==============================] - 0s 1ms/sample - loss: 0.7962 - val_loss: 0.9172\n",
      "Epoch 48/200\n",
      "19/19 [==============================] - 0s 1ms/sample - loss: 0.7872 - val_loss: 0.9071\n",
      "Epoch 49/200\n",
      "19/19 [==============================] - 0s 872us/sample - loss: 0.7782 - val_loss: 0.8971\n",
      "Epoch 50/200\n",
      "19/19 [==============================] - 0s 1ms/sample - loss: 0.7692 - val_loss: 0.8870\n",
      "Epoch 51/200\n",
      "19/19 [==============================] - 0s 1ms/sample - loss: 0.7602 - val_loss: 0.8769\n",
      "Epoch 52/200\n",
      "19/19 [==============================] - 0s 1ms/sample - loss: 0.7511 - val_loss: 0.8667\n",
      "Epoch 53/200\n",
      "19/19 [==============================] - 0s 1ms/sample - loss: 0.7420 - val_loss: 0.8565\n",
      "Epoch 54/200\n",
      "19/19 [==============================] - 0s 1ms/sample - loss: 0.7329 - val_loss: 0.8463\n",
      "Epoch 55/200\n",
      "19/19 [==============================] - 0s 1ms/sample - loss: 0.7237 - val_loss: 0.8360\n",
      "Epoch 56/200\n",
      "19/19 [==============================] - 0s 1ms/sample - loss: 0.7146 - val_loss: 0.8257\n",
      "Epoch 57/200\n",
      "19/19 [==============================] - 0s 1ms/sample - loss: 0.7053 - val_loss: 0.8154\n",
      "Epoch 58/200\n",
      "19/19 [==============================] - 0s 1ms/sample - loss: 0.6961 - val_loss: 0.8050\n",
      "Epoch 59/200\n",
      "19/19 [==============================] - 0s 1ms/sample - loss: 0.6868 - val_loss: 0.7946\n",
      "Epoch 60/200\n",
      "19/19 [==============================] - 0s 1ms/sample - loss: 0.6776 - val_loss: 0.7842\n",
      "Epoch 61/200\n",
      "19/19 [==============================] - 0s 1ms/sample - loss: 0.6682 - val_loss: 0.7737\n",
      "Epoch 62/200\n",
      "19/19 [==============================] - 0s 947us/sample - loss: 0.6589 - val_loss: 0.7632\n",
      "Epoch 63/200\n",
      "19/19 [==============================] - 0s 1ms/sample - loss: 0.6495 - val_loss: 0.7526\n",
      "Epoch 64/200\n",
      "19/19 [==============================] - 0s 953us/sample - loss: 0.6401 - val_loss: 0.7421\n",
      "Epoch 65/200\n",
      "19/19 [==============================] - 0s 883us/sample - loss: 0.6307 - val_loss: 0.7315\n",
      "Epoch 66/200\n",
      "19/19 [==============================] - 0s 835us/sample - loss: 0.6212 - val_loss: 0.7208\n",
      "Epoch 67/200\n",
      "19/19 [==============================] - 0s 1ms/sample - loss: 0.6117 - val_loss: 0.7101\n",
      "Epoch 68/200\n",
      "19/19 [==============================] - 0s 1ms/sample - loss: 0.6022 - val_loss: 0.6994\n",
      "Epoch 69/200\n",
      "19/19 [==============================] - 0s 1ms/sample - loss: 0.5927 - val_loss: 0.6887\n",
      "Epoch 70/200\n",
      "19/19 [==============================] - 0s 1ms/sample - loss: 0.5832 - val_loss: 0.6779\n",
      "Epoch 71/200\n",
      "19/19 [==============================] - 0s 1ms/sample - loss: 0.5736 - val_loss: 0.6671\n",
      "Epoch 72/200\n",
      "19/19 [==============================] - 0s 1ms/sample - loss: 0.5640 - val_loss: 0.6563\n",
      "Epoch 73/200\n",
      "19/19 [==============================] - 0s 1ms/sample - loss: 0.5544 - val_loss: 0.6455\n",
      "Epoch 74/200\n",
      "19/19 [==============================] - 0s 986us/sample - loss: 0.5448 - val_loss: 0.6346\n",
      "Epoch 75/200\n",
      "19/19 [==============================] - 0s 1ms/sample - loss: 0.5351 - val_loss: 0.6237\n",
      "Epoch 76/200\n",
      "19/19 [==============================] - 0s 1ms/sample - loss: 0.5255 - val_loss: 0.6128\n",
      "Epoch 77/200\n",
      "19/19 [==============================] - 0s 1ms/sample - loss: 0.5158 - val_loss: 0.6019\n",
      "Epoch 78/200\n",
      "19/19 [==============================] - 0s 1ms/sample - loss: 0.5061 - val_loss: 0.5910\n",
      "Epoch 79/200\n",
      "19/19 [==============================] - 0s 1ms/sample - loss: 0.4965 - val_loss: 0.5800\n",
      "Epoch 80/200\n",
      "19/19 [==============================] - 0s 984us/sample - loss: 0.4868 - val_loss: 0.5691\n"
     ]
    },
    {
     "name": "stdout",
     "output_type": "stream",
     "text": [
      "Epoch 81/200\n",
      "19/19 [==============================] - 0s 1ms/sample - loss: 0.4771 - val_loss: 0.5581\n",
      "Epoch 82/200\n",
      "19/19 [==============================] - 0s 2ms/sample - loss: 0.4674 - val_loss: 0.5472\n",
      "Epoch 83/200\n",
      "19/19 [==============================] - 0s 2ms/sample - loss: 0.4578 - val_loss: 0.5362\n",
      "Epoch 84/200\n",
      "19/19 [==============================] - 0s 1ms/sample - loss: 0.4481 - val_loss: 0.5253\n",
      "Epoch 85/200\n",
      "19/19 [==============================] - 0s 2ms/sample - loss: 0.4384 - val_loss: 0.5144\n",
      "Epoch 86/200\n",
      "19/19 [==============================] - 0s 2ms/sample - loss: 0.4288 - val_loss: 0.5034\n",
      "Epoch 87/200\n",
      "19/19 [==============================] - 0s 1ms/sample - loss: 0.4192 - val_loss: 0.4925\n",
      "Epoch 88/200\n",
      "19/19 [==============================] - 0s 1ms/sample - loss: 0.4096 - val_loss: 0.4817\n",
      "Epoch 89/200\n",
      "19/19 [==============================] - 0s 1ms/sample - loss: 0.4000 - val_loss: 0.4708\n",
      "Epoch 90/200\n",
      "19/19 [==============================] - 0s 1ms/sample - loss: 0.3905 - val_loss: 0.4600\n",
      "Epoch 91/200\n",
      "19/19 [==============================] - 0s 895us/sample - loss: 0.3810 - val_loss: 0.4492\n",
      "Epoch 92/200\n",
      "19/19 [==============================] - 0s 1ms/sample - loss: 0.3715 - val_loss: 0.4385\n",
      "Epoch 93/200\n",
      "19/19 [==============================] - 0s 708us/sample - loss: 0.3621 - val_loss: 0.4278\n",
      "Epoch 94/200\n",
      "19/19 [==============================] - 0s 603us/sample - loss: 0.3527 - val_loss: 0.4171\n",
      "Epoch 95/200\n",
      "19/19 [==============================] - 0s 631us/sample - loss: 0.3434 - val_loss: 0.4065\n",
      "Epoch 96/200\n",
      "19/19 [==============================] - 0s 685us/sample - loss: 0.3341 - val_loss: 0.3960\n",
      "Epoch 97/200\n",
      "19/19 [==============================] - 0s 611us/sample - loss: 0.3249 - val_loss: 0.3855\n",
      "Epoch 98/200\n",
      "19/19 [==============================] - 0s 585us/sample - loss: 0.3158 - val_loss: 0.3751\n",
      "Epoch 99/200\n",
      "19/19 [==============================] - 0s 645us/sample - loss: 0.3068 - val_loss: 0.3648\n",
      "Epoch 100/200\n",
      "19/19 [==============================] - 0s 588us/sample - loss: 0.2978 - val_loss: 0.3546\n",
      "Epoch 101/200\n",
      "19/19 [==============================] - 0s 588us/sample - loss: 0.2889 - val_loss: 0.3445\n",
      "Epoch 102/200\n",
      "19/19 [==============================] - 0s 586us/sample - loss: 0.2801 - val_loss: 0.3345\n",
      "Epoch 103/200\n",
      "19/19 [==============================] - 0s 588us/sample - loss: 0.2714 - val_loss: 0.3245\n",
      "Epoch 104/200\n",
      "19/19 [==============================] - 0s 601us/sample - loss: 0.2628 - val_loss: 0.3147\n",
      "Epoch 105/200\n",
      "19/19 [==============================] - 0s 674us/sample - loss: 0.2543 - val_loss: 0.3050\n",
      "Epoch 106/200\n",
      "19/19 [==============================] - 0s 600us/sample - loss: 0.2460 - val_loss: 0.2955\n",
      "Epoch 107/200\n",
      "19/19 [==============================] - 0s 715us/sample - loss: 0.2377 - val_loss: 0.2860\n",
      "Epoch 108/200\n",
      "19/19 [==============================] - 0s 689us/sample - loss: 0.2296 - val_loss: 0.2767\n",
      "Epoch 109/200\n",
      "19/19 [==============================] - 0s 644us/sample - loss: 0.2216 - val_loss: 0.2676\n",
      "Epoch 110/200\n",
      "19/19 [==============================] - 0s 650us/sample - loss: 0.2137 - val_loss: 0.2586\n",
      "Epoch 111/200\n",
      "19/19 [==============================] - 0s 691us/sample - loss: 0.2060 - val_loss: 0.2497\n",
      "Epoch 112/200\n",
      "19/19 [==============================] - 0s 604us/sample - loss: 0.1985 - val_loss: 0.2410\n",
      "Epoch 113/200\n",
      "19/19 [==============================] - 0s 673us/sample - loss: 0.1911 - val_loss: 0.2325\n",
      "Epoch 114/200\n",
      "19/19 [==============================] - 0s 614us/sample - loss: 0.1838 - val_loss: 0.2242\n",
      "Epoch 115/200\n",
      "19/19 [==============================] - 0s 613us/sample - loss: 0.1767 - val_loss: 0.2160\n",
      "Epoch 116/200\n",
      "19/19 [==============================] - 0s 644us/sample - loss: 0.1698 - val_loss: 0.2081\n",
      "Epoch 117/200\n",
      "19/19 [==============================] - 0s 672us/sample - loss: 0.1631 - val_loss: 0.2003\n",
      "Epoch 118/200\n",
      "19/19 [==============================] - 0s 862us/sample - loss: 0.1565 - val_loss: 0.1927\n",
      "Epoch 119/200\n",
      "19/19 [==============================] - 0s 1ms/sample - loss: 0.1501 - val_loss: 0.1853\n",
      "Epoch 120/200\n",
      "19/19 [==============================] - 0s 1ms/sample - loss: 0.1440 - val_loss: 0.1781\n",
      "Epoch 121/200\n",
      "19/19 [==============================] - 0s 1ms/sample - loss: 0.1380 - val_loss: 0.1712\n",
      "Epoch 122/200\n",
      "19/19 [==============================] - 0s 1ms/sample - loss: 0.1322 - val_loss: 0.1644\n",
      "Epoch 123/200\n",
      "19/19 [==============================] - 0s 1ms/sample - loss: 0.1265 - val_loss: 0.1579\n",
      "Epoch 124/200\n",
      "19/19 [==============================] - 0s 848us/sample - loss: 0.1211 - val_loss: 0.1516\n",
      "Epoch 125/200\n",
      "19/19 [==============================] - 0s 734us/sample - loss: 0.1159 - val_loss: 0.1455\n",
      "Epoch 126/200\n",
      "19/19 [==============================] - 0s 667us/sample - loss: 0.1109 - val_loss: 0.1396\n",
      "Epoch 127/200\n",
      "19/19 [==============================] - 0s 633us/sample - loss: 0.1061 - val_loss: 0.1339\n",
      "Epoch 128/200\n",
      "19/19 [==============================] - 0s 638us/sample - loss: 0.1015 - val_loss: 0.1285\n",
      "Epoch 129/200\n",
      "19/19 [==============================] - 0s 863us/sample - loss: 0.0971 - val_loss: 0.1233\n",
      "Epoch 130/200\n",
      "19/19 [==============================] - 0s 679us/sample - loss: 0.0929 - val_loss: 0.1183\n",
      "Epoch 131/200\n",
      "19/19 [==============================] - 0s 1ms/sample - loss: 0.0889 - val_loss: 0.1136\n",
      "Epoch 132/200\n",
      "19/19 [==============================] - 0s 816us/sample - loss: 0.0852 - val_loss: 0.1090\n",
      "Epoch 133/200\n",
      "19/19 [==============================] - 0s 908us/sample - loss: 0.0816 - val_loss: 0.1047\n",
      "Epoch 134/200\n",
      "19/19 [==============================] - 0s 626us/sample - loss: 0.0782 - val_loss: 0.1006\n",
      "Epoch 135/200\n",
      "19/19 [==============================] - 0s 664us/sample - loss: 0.0750 - val_loss: 0.0967\n",
      "Epoch 136/200\n",
      "19/19 [==============================] - 0s 628us/sample - loss: 0.0720 - val_loss: 0.0931\n",
      "Epoch 137/200\n",
      "19/19 [==============================] - 0s 902us/sample - loss: 0.0692 - val_loss: 0.0896\n",
      "Epoch 138/200\n",
      "19/19 [==============================] - 0s 678us/sample - loss: 0.0665 - val_loss: 0.0863\n",
      "Epoch 139/200\n",
      "19/19 [==============================] - 0s 664us/sample - loss: 0.0641 - val_loss: 0.0833\n",
      "Epoch 140/200\n",
      "19/19 [==============================] - 0s 626us/sample - loss: 0.0618 - val_loss: 0.0804\n",
      "Epoch 141/200\n",
      "19/19 [==============================] - 0s 616us/sample - loss: 0.0597 - val_loss: 0.0777\n",
      "Epoch 142/200\n",
      "19/19 [==============================] - 0s 646us/sample - loss: 0.0577 - val_loss: 0.0752\n",
      "Epoch 143/200\n",
      "19/19 [==============================] - 0s 658us/sample - loss: 0.0559 - val_loss: 0.0728\n",
      "Epoch 144/200\n",
      "19/19 [==============================] - 0s 650us/sample - loss: 0.0542 - val_loss: 0.0707\n",
      "Epoch 145/200\n",
      "19/19 [==============================] - 0s 594us/sample - loss: 0.0527 - val_loss: 0.0687\n",
      "Epoch 146/200\n",
      "19/19 [==============================] - 0s 668us/sample - loss: 0.0513 - val_loss: 0.0668\n",
      "Epoch 147/200\n",
      "19/19 [==============================] - 0s 626us/sample - loss: 0.0501 - val_loss: 0.0651\n",
      "Epoch 148/200\n",
      "19/19 [==============================] - 0s 649us/sample - loss: 0.0489 - val_loss: 0.0635\n",
      "Epoch 149/200\n",
      "19/19 [==============================] - 0s 604us/sample - loss: 0.0479 - val_loss: 0.0620\n",
      "Epoch 150/200\n",
      "19/19 [==============================] - 0s 655us/sample - loss: 0.0470 - val_loss: 0.0607\n",
      "Epoch 151/200\n",
      "19/19 [==============================] - 0s 686us/sample - loss: 0.0461 - val_loss: 0.0595\n",
      "Epoch 152/200\n",
      "19/19 [==============================] - 0s 622us/sample - loss: 0.0454 - val_loss: 0.0584\n",
      "Epoch 153/200\n",
      "19/19 [==============================] - 0s 688us/sample - loss: 0.0447 - val_loss: 0.0573\n",
      "Epoch 154/200\n",
      "19/19 [==============================] - 0s 634us/sample - loss: 0.0441 - val_loss: 0.0564\n",
      "Epoch 155/200\n",
      "19/19 [==============================] - 0s 687us/sample - loss: 0.0436 - val_loss: 0.0556\n",
      "Epoch 156/200\n",
      "19/19 [==============================] - 0s 851us/sample - loss: 0.0432 - val_loss: 0.0548\n",
      "Epoch 157/200\n",
      "19/19 [==============================] - 0s 740us/sample - loss: 0.0428 - val_loss: 0.0541\n",
      "Epoch 158/200\n",
      "19/19 [==============================] - 0s 1ms/sample - loss: 0.0424 - val_loss: 0.0535\n",
      "Epoch 159/200\n",
      "19/19 [==============================] - 0s 850us/sample - loss: 0.0421 - val_loss: 0.0529\n"
     ]
    },
    {
     "name": "stdout",
     "output_type": "stream",
     "text": [
      "Epoch 160/200\n",
      "19/19 [==============================] - 0s 723us/sample - loss: 0.0418 - val_loss: 0.0524\n",
      "Epoch 161/200\n",
      "19/19 [==============================] - 0s 839us/sample - loss: 0.0416 - val_loss: 0.0519\n",
      "Epoch 162/200\n",
      "19/19 [==============================] - 0s 2ms/sample - loss: 0.0414 - val_loss: 0.0515\n",
      "Epoch 163/200\n",
      "19/19 [==============================] - 0s 2ms/sample - loss: 0.0412 - val_loss: 0.0511\n",
      "Epoch 164/200\n",
      "19/19 [==============================] - 0s 1ms/sample - loss: 0.0410 - val_loss: 0.0508\n",
      "Epoch 165/200\n",
      "19/19 [==============================] - 0s 1ms/sample - loss: 0.0409 - val_loss: 0.0505\n",
      "Epoch 166/200\n",
      "19/19 [==============================] - 0s 2ms/sample - loss: 0.0408 - val_loss: 0.0502\n",
      "Epoch 167/200\n",
      "19/19 [==============================] - 0s 1ms/sample - loss: 0.0407 - val_loss: 0.0499\n",
      "Epoch 168/200\n",
      "19/19 [==============================] - 0s 1ms/sample - loss: 0.0405 - val_loss: 0.0497\n",
      "Epoch 169/200\n",
      "19/19 [==============================] - 0s 1ms/sample - loss: 0.0404 - val_loss: 0.0494\n",
      "Epoch 170/200\n",
      "19/19 [==============================] - 0s 1ms/sample - loss: 0.0403 - val_loss: 0.0492\n",
      "Epoch 171/200\n",
      "19/19 [==============================] - 0s 2ms/sample - loss: 0.0403 - val_loss: 0.0490\n",
      "Epoch 172/200\n",
      "19/19 [==============================] - 0s 1ms/sample - loss: 0.0402 - val_loss: 0.0488\n",
      "Epoch 173/200\n",
      "19/19 [==============================] - 0s 1ms/sample - loss: 0.0401 - val_loss: 0.0487\n",
      "Epoch 174/200\n",
      "19/19 [==============================] - 0s 1ms/sample - loss: 0.0400 - val_loss: 0.0485\n",
      "Epoch 175/200\n",
      "19/19 [==============================] - 0s 1ms/sample - loss: 0.0399 - val_loss: 0.0483\n",
      "Epoch 176/200\n",
      "19/19 [==============================] - 0s 1ms/sample - loss: 0.0398 - val_loss: 0.0482\n",
      "Epoch 177/200\n",
      "19/19 [==============================] - 0s 1ms/sample - loss: 0.0397 - val_loss: 0.0481\n",
      "Epoch 178/200\n",
      "19/19 [==============================] - 0s 1ms/sample - loss: 0.0396 - val_loss: 0.0479\n",
      "Epoch 179/200\n",
      "19/19 [==============================] - 0s 954us/sample - loss: 0.0395 - val_loss: 0.0478\n",
      "Epoch 180/200\n",
      "19/19 [==============================] - 0s 2ms/sample - loss: 0.0394 - val_loss: 0.0477\n",
      "Epoch 181/200\n",
      "19/19 [==============================] - 0s 2ms/sample - loss: 0.0393 - val_loss: 0.0476\n",
      "Epoch 182/200\n",
      "19/19 [==============================] - 0s 1ms/sample - loss: 0.0392 - val_loss: 0.0474\n",
      "Epoch 183/200\n",
      "19/19 [==============================] - 0s 1ms/sample - loss: 0.0391 - val_loss: 0.0473\n",
      "Epoch 184/200\n",
      "19/19 [==============================] - 0s 1ms/sample - loss: 0.0390 - val_loss: 0.0472\n",
      "Epoch 185/200\n",
      "19/19 [==============================] - 0s 1ms/sample - loss: 0.0389 - val_loss: 0.0471\n",
      "Epoch 186/200\n",
      "19/19 [==============================] - 0s 1ms/sample - loss: 0.0388 - val_loss: 0.0470\n",
      "Epoch 187/200\n",
      "19/19 [==============================] - 0s 2ms/sample - loss: 0.0387 - val_loss: 0.0469\n",
      "Epoch 188/200\n",
      "19/19 [==============================] - 0s 1ms/sample - loss: 0.0386 - val_loss: 0.0468\n",
      "Epoch 189/200\n",
      "19/19 [==============================] - 0s 2ms/sample - loss: 0.0385 - val_loss: 0.0467\n",
      "Epoch 190/200\n",
      "19/19 [==============================] - 0s 1ms/sample - loss: 0.0384 - val_loss: 0.0466\n",
      "Epoch 191/200\n",
      "19/19 [==============================] - 0s 1ms/sample - loss: 0.0383 - val_loss: 0.0465\n",
      "Epoch 192/200\n",
      "19/19 [==============================] - 0s 1ms/sample - loss: 0.0381 - val_loss: 0.0464\n",
      "Epoch 193/200\n",
      "19/19 [==============================] - 0s 1ms/sample - loss: 0.0380 - val_loss: 0.0463\n",
      "Epoch 194/200\n",
      "19/19 [==============================] - 0s 1ms/sample - loss: 0.0379 - val_loss: 0.0462\n",
      "Epoch 195/200\n",
      "19/19 [==============================] - 0s 1ms/sample - loss: 0.0378 - val_loss: 0.0461\n",
      "Epoch 196/200\n",
      "19/19 [==============================] - 0s 1ms/sample - loss: 0.0377 - val_loss: 0.0460\n",
      "Epoch 197/200\n",
      "19/19 [==============================] - 0s 1ms/sample - loss: 0.0376 - val_loss: 0.0460\n",
      "Epoch 198/200\n",
      "19/19 [==============================] - 0s 825us/sample - loss: 0.0375 - val_loss: 0.0459\n",
      "Epoch 199/200\n",
      "19/19 [==============================] - 0s 769us/sample - loss: 0.0374 - val_loss: 0.0458\n",
      "Epoch 200/200\n",
      "19/19 [==============================] - 0s 3ms/sample - loss: 0.0373 - val_loss: 0.0457\n"
     ]
    }
   ],
   "source": [
    "epochs_num = 200\n",
    "\n",
    "history = model.fit(\n",
    "    x=shaped_x_train,\n",
    "    y=norm_y_train,\n",
    "    epochs=epochs_num,\n",
    "    validation_split=0.8\n",
    ")"
   ]
  },
  {
   "cell_type": "code",
   "execution_count": 16,
   "metadata": {},
   "outputs": [],
   "source": [
    "def render_training_history(training_history):\n",
    "    loss = training_history.history['loss']\n",
    "    val_loss = training_history.history['val_loss']\n",
    "    plt.title('Loss')\n",
    "    plt.xlabel('Epoch')\n",
    "    plt.ylabel('Loss')\n",
    "    plt.plot(loss, label='Training set')\n",
    "    plt.plot(val_loss, label='Validation set', linestyle='--')\n",
    "    plt.legend()\n",
    "    plt.grid(linestyle='--', linewidth=1, alpha=0.5)\n",
    "    plt.show()"
   ]
  },
  {
   "cell_type": "code",
   "execution_count": 17,
   "metadata": {},
   "outputs": [
    {
     "data": {
      "image/png": "[encoded data removed]",
      "text/plain": [
       "<Figure size 432x288 with 1 Axes>"
      ]
     },
     "metadata": {
      "needs_background": "light"
     },
     "output_type": "display_data"
    }
   ],
   "source": [
    "render_training_history(history)"
   ]
  },
  {
   "cell_type": "code",
   "execution_count": 18,
   "metadata": {},
   "outputs": [
    {
     "name": "stdout",
     "output_type": "stream",
     "text": [
      "[0.67 0.96] = 1.63\n",
      "[0.02 0.83] = 0.85\n",
      "[0.33 0.5 ] = 0.83\n",
      "[0.67 0.57] = 1.24\n",
      "[0.88 0.92] = 1.8\n",
      "[0.05 0.74] = 0.79\n",
      "[0.74 0.56] = 1.3\n",
      "[0.57 0.54] = 1.11\n",
      "[0.69 0.98] = 1.67\n",
      "[0.9  0.57] = 1.47\n",
      "...\n"
     ]
    }
   ],
   "source": [
    "x_test, y_test = generate_dataset(\n",
    "    batch_size=batch_size,\n",
    "    sequence_length=sequence_length,\n",
    "    max_num=max_num\n",
    ")\n",
    "\n",
    "norm_x_test = normalize(x_test, max_num)\n",
    "norm_y_test = normalize(y_test, max_num)\n",
    "\n",
    "shaped_x_test = norm_x_test.reshape(batch_size, sequence_length, 1)\n",
    "\n",
    "preview_dataset(norm_x_test, norm_y_test)"
   ]
  },
  {
   "cell_type": "code",
   "execution_count": 19,
   "metadata": {},
   "outputs": [
    {
     "name": "stdout",
     "output_type": "stream",
     "text": [
      "[[1.2975271 ]\n",
      " [0.85919416]\n",
      " [0.92326665]\n",
      " [1.156253  ]\n",
      " [1.4143993 ]\n",
      " [0.845084  ]\n",
      " [1.1961373 ]\n",
      " [1.0832995 ]\n",
      " [1.3170763 ]\n",
      " [1.2997848 ]] \n",
      "...\n"
     ]
    }
   ],
   "source": [
    "predictions = model.predict(shaped_x_test)\n",
    "\n",
    "print(predictions[:10], '\\n...')"
   ]
  },
  {
   "cell_type": "code",
   "execution_count": 20,
   "metadata": {},
   "outputs": [
    {
     "name": "stdout",
     "output_type": "stream",
     "text": [
      "[67. 96.] = 163 (prediction: 130, err:  33)\n",
      "[ 2. 83.] =  85 (prediction:  86, err:  -1)\n",
      "[33. 50.] =  83 (prediction:  92, err:  -9)\n",
      "[67. 57.] = 124 (prediction: 116, err:   8)\n",
      "[88. 92.] = 180 (prediction: 141, err:  39)\n",
      "[ 5. 74.] =  79 (prediction:  85, err:  -6)\n",
      "[74. 56.] = 130 (prediction: 120, err:  10)\n",
      "[57. 54.] = 111 (prediction: 108, err:   3)\n",
      "[69. 98.] = 167 (prediction: 132, err:  35)\n",
      "[90. 57.] = 147 (prediction: 130, err:  17)\n"
     ]
    }
   ],
   "source": [
    "num = 10\n",
    "for sequence, label, prediction in zip(norm_x_test[:num], norm_y_test[:num], predictions[:num, 0]):\n",
    "    print('{} = {:3.0f} (prediction: {:3.0f}, err: {:3.0f})'.format(\n",
    "        denormalize(sequence, max_num),\n",
    "        denormalize(label, max_num),\n",
    "        denormalize(prediction, max_num),\n",
    "        denormalize(label, max_num) - denormalize(prediction, max_num)\n",
    "    ))"
   ]
  },
  {
   "cell_type": "code",
   "execution_count": 21,
   "metadata": {},
   "outputs": [
    {
     "name": "stdout",
     "output_type": "stream",
     "text": [
      "Expected:\n",
      " [163.0, 85.0, 83.0, 124.0, 180.0, 79.0, 130.0, 111.0, 167.0, 147.0]\n",
      "Predicted:\n",
      " [130.0, 86.0, 92.0, 116.0, 141.0, 85.0, 120.0, 108.0, 132.0, 130.0]\n"
     ]
    }
   ],
   "source": [
    "expected = [denormalize(y, max_num) for y in norm_y_test]\n",
    "predicted = [denormalize(y, max_num) for y in predictions[:, 0]]\n",
    "\n",
    "print('Expected:\\n', expected[:10])\n",
    "print('Predicted:\\n', predicted[:10])"
   ]
  },
  {
   "cell_type": "code",
   "execution_count": 22,
   "metadata": {},
   "outputs": [],
   "source": [
    "def mean_squared_error(expected, predicted):\n",
    "    return np.square(np.array(expected) - np.array(predicted)).mean()"
   ]
  },
  {
   "cell_type": "code",
   "execution_count": 23,
   "metadata": {},
   "outputs": [
    {
     "name": "stdout",
     "output_type": "stream",
     "text": [
      "RMSE: 21.19\n"
     ]
    }
   ],
   "source": [
    "rmse = sqrt(mean_squared_error(expected, predicted))\n",
    "print('RMSE: {:.2f}'.format(rmse))"
   ]
  }
 ],
 "metadata": {
  "kernelspec": {
   "display_name": "Python 3",
   "language": "python",
   "name": "python3"
  },
  "language_info": {
   "codemirror_mode": {
    "name": "ipython",
    "version": 3
   },
   "file_extension": ".py",
   "mimetype": "text/x-python",
   "name": "python",
   "nbconvert_exporter": "python",
   "pygments_lexer": "ipython3",
   "version": "3.7.6"
  }
 },
 "nbformat": 4,
 "nbformat_minor": 2
}
