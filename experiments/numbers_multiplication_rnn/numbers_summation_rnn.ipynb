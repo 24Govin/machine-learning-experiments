{
 "cells": [
  {
   "cell_type": "markdown",
   "metadata": {},
   "source": [
    "> - 🤖 See [full list of Machine Learning Experiments](https://github.com/trekhleb/machine-learning-experiments) on GitHub\n",
    "> - ▶️ Demo: [try this model in action](https://trekhleb.github.io/machine-learning-experiments)"
   ]
  },
  {
   "cell_type": "markdown",
   "metadata": {},
   "source": [
    "Inspired by [Learn to Add Numbers with an Encoder-Decoder LSTM Recurrent Neural Network](https://machinelearningmastery.com/learn-add-numbers-seq2seq-recurrent-neural-networks/) article."
   ]
  },
  {
   "cell_type": "code",
   "execution_count": 15,
   "metadata": {},
   "outputs": [],
   "source": [
    "# Selecting Tensorflow version v2 (the command is relevant for Colab only).\n",
    "# %tensorflow_version 2.x"
   ]
  },
  {
   "cell_type": "code",
   "execution_count": 16,
   "metadata": {},
   "outputs": [
    {
     "name": "stdout",
     "output_type": "stream",
     "text": [
      "Python version: 3.7.6\n",
      "Tensorflow version: 2.1.0\n",
      "Keras version: 2.2.4-tf\n"
     ]
    }
   ],
   "source": [
    "import tensorflow as tf\n",
    "import matplotlib.pyplot as plt\n",
    "import numpy as np\n",
    "import platform\n",
    "import random\n",
    "import math\n",
    "\n",
    "print('Python version:', platform.python_version())\n",
    "print('Tensorflow version:', tf.__version__)\n",
    "print('Keras version:', tf.keras.__version__)"
   ]
  },
  {
   "cell_type": "code",
   "execution_count": 17,
   "metadata": {},
   "outputs": [],
   "source": [
    "dataset_size = 100\n",
    "sequence_length = 2\n",
    "max_num = 100"
   ]
  },
  {
   "cell_type": "code",
   "execution_count": 18,
   "metadata": {},
   "outputs": [],
   "source": [
    "def generate_sums(dataset_size, sequence_length, max_num):\n",
    "    # Initial dataset states.\n",
    "    x, y = [], []\n",
    "    \n",
    "    # Generating sums.\n",
    "    for i in range(dataset_size):\n",
    "        sequence = [random.randint(1, max_num) for _ in range(sequence_length)]\n",
    "        x.append(sequence)\n",
    "        y.append(sum(sequence))\n",
    "    \n",
    "    return x, y"
   ]
  },
  {
   "cell_type": "code",
   "execution_count": 19,
   "metadata": {},
   "outputs": [
    {
     "name": "stdout",
     "output_type": "stream",
     "text": [
      "x_train:\n",
      " [[87, 63], [34, 1], [41, 7]]\n",
      "\n",
      "y_train:\n",
      " [150, 35, 48]\n"
     ]
    }
   ],
   "source": [
    "x_train, y_train = generate_sums(\n",
    "    dataset_size=dataset_size,\n",
    "    sequence_length=sequence_length,\n",
    "    max_num=max_num\n",
    ")\n",
    "\n",
    "print('x_train:\\n', x_train[:3])\n",
    "print()\n",
    "print('y_train:\\n', y_train[:3])"
   ]
  },
  {
   "cell_type": "code",
   "execution_count": 20,
   "metadata": {},
   "outputs": [],
   "source": [
    "def dataset_to_strings(x, y, max_num):\n",
    "    # Initial dataset states.\n",
    "    x_str, y_str = [], []\n",
    "    \n",
    "    sequnce_length = len(x[0])\n",
    "    \n",
    "    # Calculate the maximum length of equation (x) string (i.e. of \"11+99\")\n",
    "    num_of_pluses = sequnce_length - 1\n",
    "    num_of_chars_per_digit = math.ceil(math.log10(max_num + 1))\n",
    "    max_x_length = sequnce_length * num_of_chars_per_digit + num_of_pluses\n",
    "    \n",
    "    # Calculate the maximum length of label (y) string (i.e. of \"167\")\n",
    "    max_y_length = math.ceil(math.log10(sequnce_length * (max_num + 1)))\n",
    "    \n",
    "    # Add a space \" \" padding to equation strings to make them of the same length.\n",
    "    for example in x:\n",
    "        str_example = '+'.join([str(digit) for digit in example])\n",
    "        str_example += ''.join([' ' for padding in range(max_x_length - len(str_example))])\n",
    "        x_str.append(str_example)\n",
    "    \n",
    "    # Add a space \" \" padding to labels strings to make them of the same length.\n",
    "    for label in y:\n",
    "        str_example = str(label)\n",
    "        str_example += ''.join([' ' for padding in range(max_y_length - len(str_example))])\n",
    "        y_str.append(str_example)\n",
    "    \n",
    "    return x_str, y_str"
   ]
  },
  {
   "cell_type": "code",
   "execution_count": 21,
   "metadata": {},
   "outputs": [
    {
     "name": "stdout",
     "output_type": "stream",
     "text": [
      "x_train_str:\n",
      " ['87+63  ' '34+1   ' '41+7   ']\n",
      "\n",
      "y_train_str:\n",
      " ['150' '35 ' '48 ']\n"
     ]
    }
   ],
   "source": [
    "x_train_str, y_train_str = dataset_to_strings(x_train, y_train, max_num)\n",
    "\n",
    "print('x_train_str:\\n', np.array(x_train_str[:3]))\n",
    "print()\n",
    "print('y_train_str:\\n', np.array(y_train_str[:3]))"
   ]
  },
  {
   "cell_type": "code",
   "execution_count": 22,
   "metadata": {},
   "outputs": [],
   "source": [
    "vocabulary = ['0', '1', '2', '3', '4', '5', '6', '7', '8', '9', '+', ' ']"
   ]
  },
  {
   "cell_type": "code",
   "execution_count": 23,
   "metadata": {},
   "outputs": [
    {
     "name": "stdout",
     "output_type": "stream",
     "text": [
      "{'0': 0, '1': 1, '2': 2, '3': 3, '4': 4, '5': 5, '6': 6, '7': 7, '8': 8, '9': 9, '+': 10, ' ': 11}\n"
     ]
    }
   ],
   "source": [
    "char_to_index = {char: index for index, char in enumerate(vocabulary)}\n",
    "\n",
    "print(char_to_index)"
   ]
  },
  {
   "cell_type": "code",
   "execution_count": 24,
   "metadata": {},
   "outputs": [],
   "source": [
    "def dataset_to_indices(x, y, vocabulary):\n",
    "    x_encoded, y_encoded = [], []\n",
    "    \n",
    "    char_to_index = {char: index for index, char in enumerate(vocabulary)}\n",
    "    \n",
    "    for example in x:\n",
    "        example_encoded = [char_to_index[char] for char in example]\n",
    "        x_encoded.append(example_encoded)\n",
    "        \n",
    "    for label in y:\n",
    "        label_encoded = [char_to_index[char] for char in label]\n",
    "        y_encoded.append(label_encoded)\n",
    "        \n",
    "    return x_encoded, y_encoded"
   ]
  },
  {
   "cell_type": "code",
   "execution_count": 25,
   "metadata": {},
   "outputs": [
    {
     "name": "stdout",
     "output_type": "stream",
     "text": [
      "x_train_encoded:\n",
      " [[ 8  7 10  6  3 11 11]\n",
      " [ 3  4 10  1 11 11 11]\n",
      " [ 4  1 10  7 11 11 11]]\n",
      "\n",
      "y_train_encoded:\n",
      " [[ 1  5  0]\n",
      " [ 3  5 11]\n",
      " [ 4  8 11]]\n"
     ]
    }
   ],
   "source": [
    "x_train_encoded, y_train_encoded = dataset_to_indices(\n",
    "    x_train_str,\n",
    "    y_train_str,\n",
    "    vocabulary\n",
    ")\n",
    "\n",
    "print('x_train_encoded:\\n', np.array(x_train_encoded[:3]))\n",
    "print()\n",
    "print('y_train_encoded:\\n', np.array(y_train_encoded[:3]))"
   ]
  },
  {
   "cell_type": "code",
   "execution_count": 26,
   "metadata": {},
   "outputs": [],
   "source": [
    "def dataset_to_one_hot(x, y, vocabulary):\n",
    "    x_encoded, y_encoded = [], []\n",
    "    \n",
    "    for example in x:\n",
    "        pattern = []\n",
    "        for index in example:\n",
    "            vector = [0 for _ in range(len(vocabulary))]\n",
    "            vector[index] = 1\n",
    "            pattern.append(vector)\n",
    "        x_encoded.append(pattern)\n",
    "            \n",
    "    for label in y:\n",
    "        pattern = []\n",
    "        for index in label:\n",
    "            vector = [0 for _ in range(len(vocabulary))]\n",
    "            vector[index] = 1\n",
    "            pattern.append(vector)\n",
    "        y_encoded.append(pattern)\n",
    "        \n",
    "    return x_encoded, y_encoded"
   ]
  },
  {
   "cell_type": "code",
   "execution_count": 28,
   "metadata": {},
   "outputs": [
    {
     "name": "stdout",
     "output_type": "stream",
     "text": [
      "x_train_one_hot:\n",
      " [[[0 0 0 0 0 0 0 0 1 0 0 0]\n",
      "  [0 0 0 0 0 0 0 1 0 0 0 0]\n",
      "  [0 0 0 0 0 0 0 0 0 0 1 0]\n",
      "  [0 0 0 0 0 0 1 0 0 0 0 0]\n",
      "  [0 0 0 1 0 0 0 0 0 0 0 0]\n",
      "  [0 0 0 0 0 0 0 0 0 0 0 1]\n",
      "  [0 0 0 0 0 0 0 0 0 0 0 1]]]\n",
      "\n",
      "y_train_one_hot:\n",
      " [[[0 1 0 0 0 0 0 0 0 0 0 0]\n",
      "  [0 0 0 0 0 1 0 0 0 0 0 0]\n",
      "  [1 0 0 0 0 0 0 0 0 0 0 0]]]\n"
     ]
    }
   ],
   "source": [
    "x_train_one_hot, y_train_one_hot = dataset_to_one_hot(\n",
    "    x_train_encoded,\n",
    "    y_train_encoded,\n",
    "    vocabulary\n",
    ")\n",
    "\n",
    "print('x_train_one_hot:\\n', np.array(x_train_one_hot[:1]))\n",
    "print()\n",
    "print('y_train_one_hot:\\n', np.array(y_train_one_hot[:1]))"
   ]
  },
  {
   "cell_type": "code",
   "execution_count": 29,
   "metadata": {},
   "outputs": [],
   "source": [
    "def generate_dataset(dataset_size, sequence_length, max_num, vocabulary):\n",
    "    # Generate integet sum sequences.\n",
    "    x, y = generate_sums(dataset_size, sequence_length, max_num)\n",
    "    # Convert integer sum sequences into strings.\n",
    "    x, y = dataset_to_strings(x, y, max_num)\n",
    "    # Encode each character to a char indices.\n",
    "    x, y = dataset_to_indices(x, y, vocabulary)\n",
    "    # Encode each index into one-hot vector.\n",
    "    x, y = dataset_to_one_hot(x, y, vocabulary)\n",
    "    # Return the data.\n",
    "    return np.array(x), np.array(y)"
   ]
  },
  {
   "cell_type": "code",
   "execution_count": 31,
   "metadata": {},
   "outputs": [
    {
     "name": "stdout",
     "output_type": "stream",
     "text": [
      "x:\n",
      " [[[0 0 0 0 0 0 0 0 0 1 0 0]\n",
      "  [0 0 0 0 0 0 0 0 0 1 0 0]\n",
      "  [0 0 0 0 0 0 0 0 0 0 1 0]\n",
      "  [0 1 0 0 0 0 0 0 0 0 0 0]\n",
      "  [0 0 1 0 0 0 0 0 0 0 0 0]\n",
      "  [0 0 0 0 0 0 0 0 0 0 0 1]\n",
      "  [0 0 0 0 0 0 0 0 0 0 0 1]]]\n",
      "\n",
      "y:\n",
      " [[[0 1 0 0 0 0 0 0 0 0 0 0]\n",
      "  [0 1 0 0 0 0 0 0 0 0 0 0]\n",
      "  [0 1 0 0 0 0 0 0 0 0 0 0]]]\n"
     ]
    }
   ],
   "source": [
    "x, y = generate_dataset(\n",
    "    dataset_size,\n",
    "    sequence_length,\n",
    "    max_num,\n",
    "    vocabulary\n",
    ")\n",
    "\n",
    "print('x:\\n', x[:1])\n",
    "print()\n",
    "print('y:\\n', y[:1])"
   ]
  },
  {
   "cell_type": "code",
   "execution_count": null,
   "metadata": {},
   "outputs": [],
   "source": [
    "print('x.shape: ', x.shape)\n",
    "print('y.shape: ', y.shape)"
   ]
  },
  {
   "cell_type": "code",
   "execution_count": null,
   "metadata": {},
   "outputs": [],
   "source": [
    "max_x_length = x.shape[1]\n",
    "max_y_length = y.shape[1]\n",
    "num_of_symbols = x.shape[2]\n",
    "\n",
    "print('max_x_length: ', max_x_length)\n",
    "print('max_y_length: ', max_y_length)\n",
    "print('num_of_symbols: ', num_of_symbols)"
   ]
  },
  {
   "cell_type": "code",
   "execution_count": null,
   "metadata": {},
   "outputs": [],
   "source": [
    "def decode(sequence, vocabulary):\n",
    "    index_to_char = {index: char for index, char in enumerate(vocabulary)}\n",
    "    strings = []\n",
    "    for pattern in sequence:\n",
    "        char = index_to_char[np.argmax(pattern)]\n",
    "        strings.append(char)\n",
    "    return ''.join(strings)"
   ]
  },
  {
   "cell_type": "code",
   "execution_count": null,
   "metadata": {},
   "outputs": [],
   "source": [
    "decode(y[0], vocabulary)"
   ]
  },
  {
   "cell_type": "code",
   "execution_count": null,
   "metadata": {},
   "outputs": [],
   "source": [
    "model = tf.keras.models.Sequential()\n",
    "\n",
    "model.add(tf.keras.layers.LSTM(\n",
    "    units=128,\n",
    "    input_shape=(max_x_length, num_of_symbols),\n",
    "))\n",
    "\n",
    "model.add(tf.keras.layers.RepeatVector(\n",
    "    n=max_y_length,\n",
    "))\n",
    "\n",
    "model.add(tf.keras.layers.LSTM(\n",
    "    units=64,\n",
    "    return_sequences=True\n",
    "))\n",
    "\n",
    "model.add(tf.keras.layers.TimeDistributed(\n",
    "    layer=tf.keras.layers.Dense(\n",
    "        units=num_of_symbols,\n",
    "        activation='softmax'\n",
    "    )\n",
    "))"
   ]
  },
  {
   "cell_type": "code",
   "execution_count": null,
   "metadata": {},
   "outputs": [],
   "source": [
    "model.summary()"
   ]
  },
  {
   "cell_type": "code",
   "execution_count": null,
   "metadata": {},
   "outputs": [],
   "source": [
    "tf.keras.utils.plot_model(\n",
    "    model,\n",
    "    show_shapes=True,\n",
    "    show_layer_names=True,\n",
    ")"
   ]
  },
  {
   "cell_type": "code",
   "execution_count": null,
   "metadata": {},
   "outputs": [],
   "source": [
    "adam_optimizer = tf.keras.optimizers.Adam(learning_rate=0.001)\n",
    "model.compile(\n",
    "    optimizer=adam_optimizer,\n",
    "    loss=tf.keras.losses.categorical_crossentropy\n",
    "    # metrics=['accuracy']\n",
    ")"
   ]
  },
  {
   "cell_type": "code",
   "execution_count": null,
   "metadata": {},
   "outputs": [],
   "source": [
    "epochs_num = 30\n",
    "\n",
    "history = model.fit(\n",
    "    x=x,\n",
    "    y=y,\n",
    "    epochs=epochs_num,\n",
    "    batch_size=10,\n",
    "    validation_split=0.2\n",
    ")"
   ]
  },
  {
   "cell_type": "code",
   "execution_count": null,
   "metadata": {},
   "outputs": [],
   "source": [
    "def render_training_history(training_history):\n",
    "    loss = training_history.history['loss']\n",
    "    val_loss = training_history.history['val_loss']\n",
    "    plt.title('Loss')\n",
    "    plt.xlabel('Epoch')\n",
    "    plt.ylabel('Loss')\n",
    "    plt.plot(loss, label='Training set')\n",
    "    plt.plot(val_loss, label='Validation set', linestyle='--')\n",
    "    plt.legend()\n",
    "    plt.grid(linestyle='--', linewidth=1, alpha=0.5)\n",
    "    plt.show()"
   ]
  },
  {
   "cell_type": "code",
   "execution_count": null,
   "metadata": {},
   "outputs": [],
   "source": [
    "render_training_history(history)"
   ]
  },
  {
   "cell_type": "code",
   "execution_count": null,
   "metadata": {},
   "outputs": [],
   "source": [
    "x_test, y_test = generate_dataset(batch_size, sequence_length, max_num, vocabulary)\n",
    "\n",
    "print('x:\\n', x[:1])\n",
    "print()\n",
    "print('y:\\n', y[:1])"
   ]
  },
  {
   "cell_type": "code",
   "execution_count": null,
   "metadata": {},
   "outputs": [],
   "source": [
    "predictions = model.predict(shaped_x_test)\n",
    "\n",
    "print(predictions[:10], '\\n...')"
   ]
  },
  {
   "cell_type": "code",
   "execution_count": null,
   "metadata": {},
   "outputs": [],
   "source": [
    "num = 10\n",
    "for sequence, label, prediction in zip(norm_x_test[:num], norm_y_test[:num], predictions[:num, 0]):\n",
    "    print('{} = {:3.0f} (prediction: {:3.0f}, err: {:3.0f})'.format(\n",
    "        denormalize(sequence, max_num),\n",
    "        denormalize(label, max_num),\n",
    "        denormalize(prediction, max_num),\n",
    "        denormalize(label, max_num) - denormalize(prediction, max_num)\n",
    "    ))"
   ]
  },
  {
   "cell_type": "code",
   "execution_count": null,
   "metadata": {},
   "outputs": [],
   "source": [
    "expected = [denormalize(y, max_num) for y in norm_y_test]\n",
    "predicted = [denormalize(y, max_num) for y in predictions[:, 0]]\n",
    "\n",
    "print('Expected:\\n', expected[:10])\n",
    "print('Predicted:\\n', predicted[:10])"
   ]
  },
  {
   "cell_type": "code",
   "execution_count": null,
   "metadata": {},
   "outputs": [],
   "source": [
    "def mean_squared_error(expected, predicted):\n",
    "    return np.square(np.array(expected) - np.array(predicted)).mean()"
   ]
  },
  {
   "cell_type": "code",
   "execution_count": null,
   "metadata": {},
   "outputs": [],
   "source": [
    "rmse = sqrt(mean_squared_error(expected, predicted))\n",
    "print('RMSE: {:.2f}'.format(rmse))"
   ]
  }
 ],
 "metadata": {
  "kernelspec": {
   "display_name": "Python 3",
   "language": "python",
   "name": "python3"
  },
  "language_info": {
   "codemirror_mode": {
    "name": "ipython",
    "version": 3
   },
   "file_extension": ".py",
   "mimetype": "text/x-python",
   "name": "python",
   "nbconvert_exporter": "python",
   "pygments_lexer": "ipython3",
   "version": "3.7.6"
  }
 },
 "nbformat": 4,
 "nbformat_minor": 2
}
